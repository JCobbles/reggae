{
 "cells": [
  {
   "cell_type": "code",
   "execution_count": 1,
   "metadata": {
    "collapsed": true
   },
   "outputs": [],
   "source": [
    "import torch\n",
    "import numpy as np\n",
    "\n",
    "from lafomo.datasets import ToySpatialTranscriptomics\n",
    "from lafomo.options import VariationalOptions\n",
    "from lafomo.utilities.torch import save, load\n",
    "from lafomo.plot import Plotter\n",
    "\n",
    "from matplotlib import pyplot as plt\n",
    "\n",
    "from fenics import *\n",
    "from fenics_adjoint import *\n",
    "\n",
    "import torch_fenics"
   ]
  },
  {
   "cell_type": "code",
   "execution_count": 2,
   "outputs": [
    {
     "data": {
      "text/plain": "       t    x         U    Y\n0  0.000  0.0  0.978006  0.0\n1  0.025  0.0  1.009034  0.0\n2  0.050  0.0  1.006165  0.0\n3  0.075  0.0  0.967695  0.0\n4  0.100  0.0  0.893023  0.0",
      "text/html": "<div>\n<style scoped>\n    .dataframe tbody tr th:only-of-type {\n        vertical-align: middle;\n    }\n\n    .dataframe tbody tr th {\n        vertical-align: top;\n    }\n\n    .dataframe thead th {\n        text-align: right;\n    }\n</style>\n<table border=\"1\" class=\"dataframe\">\n  <thead>\n    <tr style=\"text-align: right;\">\n      <th></th>\n      <th>t</th>\n      <th>x</th>\n      <th>U</th>\n      <th>Y</th>\n    </tr>\n  </thead>\n  <tbody>\n    <tr>\n      <th>0</th>\n      <td>0.000</td>\n      <td>0.0</td>\n      <td>0.978006</td>\n      <td>0.0</td>\n    </tr>\n    <tr>\n      <th>1</th>\n      <td>0.025</td>\n      <td>0.0</td>\n      <td>1.009034</td>\n      <td>0.0</td>\n    </tr>\n    <tr>\n      <th>2</th>\n      <td>0.050</td>\n      <td>0.0</td>\n      <td>1.006165</td>\n      <td>0.0</td>\n    </tr>\n    <tr>\n      <th>3</th>\n      <td>0.075</td>\n      <td>0.0</td>\n      <td>0.967695</td>\n      <td>0.0</td>\n    </tr>\n    <tr>\n      <th>4</th>\n      <td>0.100</td>\n      <td>0.0</td>\n      <td>0.893023</td>\n      <td>0.0</td>\n    </tr>\n  </tbody>\n</table>\n</div>"
     },
     "metadata": {},
     "output_type": "display_data"
    }
   ],
   "source": [
    "import pandas as pd\n",
    "data = pd.read_csv('../data/demToy1GPGene.csv')\n",
    "data = pd.read_csv('../data/demToy1GPmRNA.csv')\n",
    "display(data.head(5))\n",
    "\n",
    "vals = data.values\n"
   ],
   "metadata": {
    "collapsed": false,
    "pycharm": {
     "name": "#%%\n"
    }
   }
  },
  {
   "cell_type": "code",
   "execution_count": 3,
   "outputs": [],
   "source": [
    "## REACTION DIFFUSION FENICS MODULE\n",
    "class ReactionDiffusion(torch_fenics.FEniCSModule):\n",
    "    # Construct variables which can be in the constructor\n",
    "    def __init__(self, mesh_cells):\n",
    "        super().__init__()\n",
    "\n",
    "        self.decay = 0.1\n",
    "        self.diffusion = 0.01\n",
    "\n",
    "        # Create function space\n",
    "        mesh = UnitIntervalMesh(mesh_cells)\n",
    "        self.V = FunctionSpace(mesh, 'P', 1)\n",
    "\n",
    "        # Create trial and test functions\n",
    "        y = TrialFunction(self.V)\n",
    "        self.v = TestFunction(self.V)\n",
    "\n",
    "\n",
    "    def solve(self, y_prev, u, sensitivity):\n",
    "        # Construct bilinear form (Arity = 2 (for both Trial and Test function))\n",
    "        y = TrialFunction(self.V)\n",
    "        self.a = (1 + dt * self.decay) * y * self.v * dx +\\\n",
    "         dt * self.diffusion * inner(grad(y), grad(self.v)) * dx\n",
    "\n",
    "        # Construct linear form\n",
    "        L = (y_prev + dt * sensitivity * u) * self.v * dx\n",
    "\n",
    "        # Construct boundary condition\n",
    "        bc = DirichletBC(self.V, Constant(0), 'on_boundary')\n",
    "\n",
    "        # Solve the Poisson equation\n",
    "        y = Function(self.V)\n",
    "        solve(self.a == L, y, bc)\n",
    "\n",
    "        return y\n",
    "\n",
    "    def input_templates(self):\n",
    "        # Declare templates for the inputs to Poisson.solve\n",
    "        return Function(self.V), Function(self.V), Constant(0)"
   ],
   "metadata": {
    "collapsed": false,
    "pycharm": {
     "name": "#%%\n"
    }
   }
  },
  {
   "cell_type": "code",
   "execution_count": 6,
   "outputs": [],
   "source": [
    "from lafomo.datasets import LFMDataset\n",
    "from lafomo import LFM\n",
    "from lafomo.variational.models import OrdinaryLFM\n",
    "\n",
    "T = 1.0            # final time\n",
    "num_steps = 40     # number of time steps\n",
    "dt = T / num_steps # time step size\n",
    "\n",
    "class PartialLFM(OrdinaryLFM):\n",
    "    def __init__(self, num_outputs, num_latents, t_inducing,\n",
    "                 dataset: LFMDataset, options: VariationalOptions, dtype=torch.float64):\n",
    "        super().__init__(num_outputs, num_latents, t_inducing, dataset, options, dtype)\n",
    "        if self.options.initial_conditions:\n",
    "            raise Exception('Initial conditions are not implemented for PartialLFM.')\n",
    "\n",
    "        self.mesh_cells = 40\n",
    "        self.fenics_module = ReactionDiffusion(self.mesh_cells)\n",
    "        self.sensitivity = torch.ones((1, 1), requires_grad=True, dtype=torch.float64)\n",
    "\n",
    "    def forward(self, t, h, compute_var=False, return_samples=False):\n",
    "        \"\"\"\n",
    "        t : torch.Tensor\n",
    "            Shape (num_times)\n",
    "        h : torch.Tensor the initial state of the ODE\n",
    "            Shape (num_genes, 1)\n",
    "        Returns\n",
    "        -------\n",
    "        Returns evolved h across times t.\n",
    "        Shape (num_genes, num_points).\n",
    "        \"\"\"\n",
    "        self.nfe = 0\n",
    "\n",
    "        # Precompute variables\n",
    "        self.Kmm = self.kernel(self.inducing_inputs)\n",
    "        self.L = torch.cholesky(self.Kmm)\n",
    "        q_cholS = torch.tril(self.q_cholS)\n",
    "        self.S = torch.matmul(q_cholS, torch.transpose(q_cholS, 1, 2))\n",
    "\n",
    "        # Integrate forward from the initial positions h0.\n",
    "        h0 = self.initial_state(h)\n",
    "\n",
    "        ####\n",
    "        outputs = list()\n",
    "        y_prev = torch.zeros((1, self.mesh_cells + 1), requires_grad=False, dtype=torch.float64)\n",
    "        t = 0.0\n",
    "        t_index = 0\n",
    "\n",
    "        for n in range(num_steps+1):\n",
    "            u = data[data['t'] == ts[t_index]]['U'].values\n",
    "            u = torch.tensor(u, requires_grad=False).unsqueeze(0)\n",
    "            t_index += 1\n",
    "            t += dt\n",
    "\n",
    "            y_prev = self.fenics_module(y_prev, u, sensitivity)\n",
    "\n",
    "            # y_prev shape (N, 21)\n",
    "            outputs.append(y_prev)\n",
    "        outputs = torch.stack(outputs).permute(1, 0, 2)  # shape (batch, times, distance)\n",
    "\n",
    "        return outputs\n",
    "        ####\n",
    "        # h_samples = odeint(self.odefunc, h0, t, )  # (T, S, num_outputs, 1)\n",
    "        #\n",
    "        # if return_samples:\n",
    "        #     return h_samples\n",
    "        #\n",
    "        # h_out = torch.mean(h_samples, dim=1).transpose(0, 1)\n",
    "        # h_std = torch.std(h_samples, dim=1).transpose(0, 1)\n",
    "        #\n",
    "        # if compute_var:\n",
    "        #     return self.decode(h_out), h_std\n",
    "        # return self.decode(h_out)\n"
   ],
   "metadata": {
    "collapsed": false,
    "pycharm": {
     "name": "#%%\n"
    }
   }
  },
  {
   "cell_type": "code",
   "execution_count": 11,
   "outputs": [],
   "source": [
    "from lafomo.variational.trainer import Trainer\n",
    "\n",
    "class PDETrainer(Trainer):\n",
    "\n",
    "    def single_epoch(self, *args):\n",
    "        epoch_loss = 0\n",
    "        epoch_ll = 0\n",
    "        epoch_kl = 0\n",
    "        output = None\n",
    "        # for i, data in enumerate(self.data_loader):\n",
    "\n",
    "        self.optimizer.zero_grad()\n",
    "        # t, y = data\n",
    "        # t = t.cuda() if is_cuda() else t\n",
    "        # y = y.cuda() if is_cuda() else y\n",
    "        # # Assume that the batch of t s are the same\n",
    "        # t, y = t[0].view(-1), y\n",
    "        # initial_value = self.initial_value(y)\n",
    "        initial_value = None\n",
    "        output = self.model(t, initial_value)\n",
    "        output = torch.squeeze(output)\n",
    "\n",
    "        y_target = torch.tensor(data['Y'].values).unsqueeze(0)\n",
    "        print(y_target.shape)\n",
    "\n",
    "        y_prev = us.transpose(1, 2).reshape(-1)\n",
    "        # loss = self.loss_fn(y_prev, y_target)\n",
    "        # loss.backward()\n",
    "\n",
    "        # Calc loss and backprop gradients\n",
    "        mult = 1\n",
    "        if self.num_epochs <= 10:\n",
    "            mult = self.num_epochs/10\n",
    "\n",
    "        ll, kl = self.model.elbo(y_target, output, mult)\n",
    "        total_loss = -ll + kl\n",
    "\n",
    "        total_loss.backward()\n",
    "        print(self.model.sensitivity)\n",
    "        print(self.model.sensitivity.grad)\n",
    "\n",
    "        self.optimizer.step()\n",
    "        epoch_loss += total_loss.item()\n",
    "        epoch_ll += ll.item()\n",
    "        epoch_kl += kl.item()\n",
    "\n",
    "        return output, epoch_loss, (-epoch_ll, epoch_kl)\n",
    "\n",
    "        ts = data['t'].values\n",
    "\n",
    "options = VariationalOptions(initial_conditions=False)\n",
    "\n",
    "dataset = ToySpatialTranscriptomics()\n",
    "model = PartialLFM(1, 1, torch.ones(10), dataset, options)\n",
    "optimizer = torch.optim.Adam(model.parameters(), lr=0.05)\n",
    "trainer = PDETrainer(model, optimizer, dataset)"
   ],
   "metadata": {
    "collapsed": false,
    "pycharm": {
     "name": "#%%\n"
    }
   }
  },
  {
   "cell_type": "code",
   "execution_count": 12,
   "outputs": [
    {
     "ename": "NameError",
     "evalue": "name 't' is not defined",
     "output_type": "error",
     "traceback": [
      "\u001B[0;31m---------------------------------------------------------------------------\u001B[0m",
      "\u001B[0;31mNameError\u001B[0m                                 Traceback (most recent call last)",
      "\u001B[0;32m<ipython-input-12-25719e5cdd6f>\u001B[0m in \u001B[0;36m<module>\u001B[0;34m\u001B[0m\n\u001B[0;32m----> 1\u001B[0;31m \u001B[0mtrainer\u001B[0m\u001B[0;34m.\u001B[0m\u001B[0mtrain\u001B[0m\u001B[0;34m(\u001B[0m\u001B[0;36m1\u001B[0m\u001B[0;34m)\u001B[0m\u001B[0;34m\u001B[0m\u001B[0;34m\u001B[0m\u001B[0m\n\u001B[0m",
      "\u001B[0;32m~/Documents/proj/reggae/lafomo/variational/trainer.py\u001B[0m in \u001B[0;36mtrain\u001B[0;34m(self, epochs, report_interval, plot_interval, rtol, atol)\u001B[0m\n\u001B[1;32m     44\u001B[0m \u001B[0;34m\u001B[0m\u001B[0m\n\u001B[1;32m     45\u001B[0m         \u001B[0;32mfor\u001B[0m \u001B[0mepoch\u001B[0m \u001B[0;32min\u001B[0m \u001B[0mrange\u001B[0m\u001B[0;34m(\u001B[0m\u001B[0mepochs\u001B[0m\u001B[0;34m)\u001B[0m\u001B[0;34m:\u001B[0m\u001B[0;34m\u001B[0m\u001B[0;34m\u001B[0m\u001B[0m\n\u001B[0;32m---> 46\u001B[0;31m             \u001B[0moutput\u001B[0m\u001B[0;34m,\u001B[0m \u001B[0mepoch_loss\u001B[0m\u001B[0;34m,\u001B[0m \u001B[0msplit_loss\u001B[0m \u001B[0;34m=\u001B[0m \u001B[0mself\u001B[0m\u001B[0;34m.\u001B[0m\u001B[0msingle_epoch\u001B[0m\u001B[0;34m(\u001B[0m\u001B[0mrtol\u001B[0m\u001B[0;34m,\u001B[0m \u001B[0matol\u001B[0m\u001B[0;34m)\u001B[0m\u001B[0;34m\u001B[0m\u001B[0;34m\u001B[0m\u001B[0m\n\u001B[0m\u001B[1;32m     47\u001B[0m \u001B[0;34m\u001B[0m\u001B[0m\n\u001B[1;32m     48\u001B[0m             \u001B[0;32mif\u001B[0m \u001B[0;34m(\u001B[0m\u001B[0mepoch\u001B[0m \u001B[0;34m%\u001B[0m \u001B[0mreport_interval\u001B[0m\u001B[0;34m)\u001B[0m \u001B[0;34m==\u001B[0m \u001B[0;36m0\u001B[0m\u001B[0;34m:\u001B[0m\u001B[0;34m\u001B[0m\u001B[0;34m\u001B[0m\u001B[0m\n",
      "\u001B[0;32m<ipython-input-11-e4c617f7ddad>\u001B[0m in \u001B[0;36msingle_epoch\u001B[0;34m(self, *args)\u001B[0m\n\u001B[1;32m     18\u001B[0m         \u001B[0;31m# initial_value = self.initial_value(y)\u001B[0m\u001B[0;34m\u001B[0m\u001B[0;34m\u001B[0m\u001B[0;34m\u001B[0m\u001B[0m\n\u001B[1;32m     19\u001B[0m         \u001B[0minitial_value\u001B[0m \u001B[0;34m=\u001B[0m \u001B[0;32mNone\u001B[0m\u001B[0;34m\u001B[0m\u001B[0;34m\u001B[0m\u001B[0m\n\u001B[0;32m---> 20\u001B[0;31m         \u001B[0moutput\u001B[0m \u001B[0;34m=\u001B[0m \u001B[0mself\u001B[0m\u001B[0;34m.\u001B[0m\u001B[0mmodel\u001B[0m\u001B[0;34m(\u001B[0m\u001B[0mt\u001B[0m\u001B[0;34m,\u001B[0m \u001B[0minitial_value\u001B[0m\u001B[0;34m)\u001B[0m\u001B[0;34m\u001B[0m\u001B[0;34m\u001B[0m\u001B[0m\n\u001B[0m\u001B[1;32m     21\u001B[0m         \u001B[0moutput\u001B[0m \u001B[0;34m=\u001B[0m \u001B[0mtorch\u001B[0m\u001B[0;34m.\u001B[0m\u001B[0msqueeze\u001B[0m\u001B[0;34m(\u001B[0m\u001B[0moutput\u001B[0m\u001B[0;34m)\u001B[0m\u001B[0;34m\u001B[0m\u001B[0;34m\u001B[0m\u001B[0m\n\u001B[1;32m     22\u001B[0m \u001B[0;34m\u001B[0m\u001B[0m\n",
      "\u001B[0;31mNameError\u001B[0m: name 't' is not defined"
     ]
    }
   ],
   "source": [
    "trainer.train(1)"
   ],
   "metadata": {
    "collapsed": false,
    "pycharm": {
     "name": "#%%\n"
    }
   }
  },
  {
   "cell_type": "code",
   "execution_count": 14,
   "outputs": [
    {
     "ename": "NameError",
     "evalue": "name 'us' is not defined",
     "output_type": "error",
     "traceback": [
      "\u001B[0;31m---------------------------------------------------------------------------\u001B[0m",
      "\u001B[0;31mNameError\u001B[0m                                 Traceback (most recent call last)",
      "\u001B[0;32m<ipython-input-14-d19c88869966>\u001B[0m in \u001B[0;36m<module>\u001B[0;34m\u001B[0m\n\u001B[1;32m     12\u001B[0m \u001B[0;34m\u001B[0m\u001B[0m\n\u001B[1;32m     13\u001B[0m \u001B[0mfig\u001B[0m\u001B[0;34m,\u001B[0m \u001B[0maxes\u001B[0m \u001B[0;34m=\u001B[0m \u001B[0mplt\u001B[0m\u001B[0;34m.\u001B[0m\u001B[0msubplots\u001B[0m\u001B[0;34m(\u001B[0m\u001B[0mncols\u001B[0m\u001B[0;34m=\u001B[0m\u001B[0;36m2\u001B[0m\u001B[0;34m)\u001B[0m\u001B[0;34m\u001B[0m\u001B[0;34m\u001B[0m\u001B[0m\n\u001B[0;32m---> 14\u001B[0;31m \u001B[0mprint\u001B[0m\u001B[0;34m(\u001B[0m\u001B[0mus\u001B[0m\u001B[0;34m.\u001B[0m\u001B[0mshape\u001B[0m\u001B[0;34m)\u001B[0m\u001B[0;34m\u001B[0m\u001B[0;34m\u001B[0m\u001B[0m\n\u001B[0m\u001B[1;32m     15\u001B[0m \u001B[0mscatter_output\u001B[0m\u001B[0;34m(\u001B[0m\u001B[0maxes\u001B[0m\u001B[0;34m[\u001B[0m\u001B[0;36m0\u001B[0m\u001B[0;34m]\u001B[0m\u001B[0;34m,\u001B[0m \u001B[0mus\u001B[0m\u001B[0;34m.\u001B[0m\u001B[0mtranspose\u001B[0m\u001B[0;34m(\u001B[0m\u001B[0;36m1\u001B[0m\u001B[0;34m,\u001B[0m \u001B[0;36m2\u001B[0m\u001B[0;34m)\u001B[0m\u001B[0;34m.\u001B[0m\u001B[0mreshape\u001B[0m\u001B[0;34m(\u001B[0m\u001B[0;34m-\u001B[0m\u001B[0;36m1\u001B[0m\u001B[0;34m)\u001B[0m\u001B[0;34m,\u001B[0m \u001B[0;34m'Prediction'\u001B[0m\u001B[0;34m)\u001B[0m\u001B[0;34m\u001B[0m\u001B[0;34m\u001B[0m\u001B[0m\n\u001B[1;32m     16\u001B[0m \u001B[0mscatter_output\u001B[0m\u001B[0;34m(\u001B[0m\u001B[0maxes\u001B[0m\u001B[0;34m[\u001B[0m\u001B[0;36m1\u001B[0m\u001B[0;34m]\u001B[0m\u001B[0;34m,\u001B[0m \u001B[0mdata\u001B[0m\u001B[0;34m.\u001B[0m\u001B[0miloc\u001B[0m\u001B[0;34m[\u001B[0m\u001B[0;34m:\u001B[0m\u001B[0;34m,\u001B[0m \u001B[0;36m3\u001B[0m\u001B[0;34m]\u001B[0m\u001B[0;34m,\u001B[0m \u001B[0;34m'Actual'\u001B[0m\u001B[0;34m)\u001B[0m\u001B[0;34m\u001B[0m\u001B[0;34m\u001B[0m\u001B[0m\n",
      "\u001B[0;31mNameError\u001B[0m: name 'us' is not defined"
     ]
    },
    {
     "data": {
      "text/plain": "<Figure size 432x288 with 2 Axes>",
      "image/png": "[encoded data removed]"
     },
     "metadata": {},
     "output_type": "display_data"
    }
   ],
   "source": [
    "def plot_output(ax, output, title=None):\n",
    "    ax.set_title(title)\n",
    "    ax.plot(output)\n",
    "    ax.set_xlabel('distance')\n",
    "    ax.set_ylabel('y')\n",
    "def scatter_output(ax, output, title=None):\n",
    "    ax.set_title(title)\n",
    "    ax.scatter(data.iloc[:, 0], data.iloc[:, 1], c=output)\n",
    "    ax.set_xlabel('time')\n",
    "    ax.set_ylabel('distance')\n",
    "    ax.set_aspect('equal')\n",
    "\n",
    "fig, axes = plt.subplots(ncols=2)\n",
    "print(us.shape)\n",
    "scatter_output(axes[0], us.transpose(1, 2).reshape(-1), 'Prediction')\n",
    "scatter_output(axes[1], data.iloc[:, 3], 'Actual')\n",
    "plt.tight_layout()\n",
    "fig, axes = plt.subplots(ncols=2)\n",
    "plot_output(axes[0], us[0, 4, :], 'Prediction')\n",
    "plot_output(axes[1], data[data['t'] == ts[4]].iloc[:, 3], 'Actual')"
   ],
   "metadata": {
    "collapsed": false,
    "pycharm": {
     "name": "#%%\n"
    }
   }
  },
  {
   "cell_type": "code",
   "execution_count": 94,
   "outputs": [
    {
     "data": {
      "text/plain": "Text(0, 0.5, 'u')"
     },
     "execution_count": 94,
     "metadata": {},
     "output_type": "execute_result"
    },
    {
     "data": {
      "text/plain": "<Figure size 432x288 with 1 Axes>",
      "image/png": "[encoded data removed]"
     },
     "metadata": {},
     "output_type": "display_data"
    }
   ],
   "source": [
    "plt.plot(data[data['t'] == ts[5]].iloc[:, 2])\n",
    "plt.xlabel('distance')\n",
    "plt.ylabel('u')"
   ],
   "metadata": {
    "collapsed": false,
    "pycharm": {
     "name": "#%%\n"
    }
   }
  },
  {
   "cell_type": "code",
   "execution_count": null,
   "outputs": [],
   "source": [
    "# Create N sets of input\n",
    "N = 10\n",
    "f = torch.rand(N, 1, requires_grad=True, dtype=torch.float64)\n",
    "g = torch.rand(N, 1, requires_grad=True, dtype=torch.float64)\n",
    "print(f.shape)\n",
    "#g are the boundary conditions\n",
    "# Solve the Poisson equation N times\n",
    "u = poisson(f)"
   ],
   "metadata": {
    "collapsed": false,
    "pycharm": {
     "name": "#%%\n"
    }
   }
  },
  {
   "cell_type": "code",
   "execution_count": null,
   "outputs": [],
   "source": [
    "from fenics import *\n",
    "import time\n",
    "\n",
    "T = 2.0            # final time\n",
    "num_steps = 50     # number of time steps\n",
    "dt = T / num_steps # time step size\n",
    "\n",
    "# Create mesh and define function space\n",
    "nx = ny = 30\n",
    "mesh = RectangleMesh(Point(0, 0), Point(2, 2), nx, ny)\n",
    "V = FunctionSpace(mesh, 'P', 1)\n",
    "\n",
    "# Define boundary condition\n",
    "def boundary(x, on_boundary):\n",
    "    return on_boundary\n",
    "\n",
    "bc = DirichletBC(V, Constant(0), boundary)\n",
    "\n",
    "# Define initial value\n",
    "u_0 = Constant(1)\n",
    "u_n = interpolate(u_0, V)\n",
    "\n",
    "# Define variational problem\n",
    "u = TrialFunction(V)\n",
    "v = TestFunction(V)\n",
    "f = Constant(0)\n",
    "\n",
    "a = u*v*dx + dt*dot(grad(u), grad(v))*dx\n",
    "\n",
    "# Create VTK file for saving solution\n",
    "vtkfile = File('heat_gaussian/solution.pvd')\n",
    "\n",
    "# Time-stepping\n",
    "u = Function(V)\n",
    "t = 0\n",
    "for n in range(num_steps):\n",
    "    L = (u_n + dt*f)*v*dx\n",
    "\n",
    "    # Update current time\n",
    "    t += dt\n",
    "\n",
    "    # Compute solution\n",
    "    solve(a == L, u, bc)\n",
    "\n",
    "    # Save to file and plot solution\n",
    "    vtkfile << (u, t)\n",
    "    # plot(u)\n",
    "\n",
    "\n",
    "    # Update previous solution\n",
    "    u_n.assign(u)\n",
    "\n",
    "# Hold plot"
   ],
   "metadata": {
    "collapsed": false,
    "pycharm": {
     "name": "#%%\n"
    }
   }
  },
  {
   "cell_type": "code",
   "execution_count": 94,
   "outputs": [
    {
     "name": "stdout",
     "output_type": "stream",
     "text": [
      "<class 'dolfin.function.function.Function'>\n"
     ]
    },
    {
     "data": {
      "text/plain": "<Figure size 432x288 with 1 Axes>",
      "image/png": "[encoded data removed]"
     },
     "metadata": {},
     "output_type": "display_data"
    }
   ],
   "source": [
    "plot(u)\n",
    "print(type(u))"
   ],
   "metadata": {
    "collapsed": false,
    "pycharm": {
     "name": "#%%\n"
    }
   }
  },
  {
   "cell_type": "code",
   "execution_count": 97,
   "outputs": [
    {
     "name": "stdout",
     "output_type": "stream",
     "text": [
      "Calling FFC just-in-time (JIT) compiler, this may take some time.\n",
      "Calling FFC just-in-time (JIT) compiler, this may take some time.\n"
     ]
    },
    {
     "ename": "AttributeError",
     "evalue": "'dolfin.cpp.la.PETScVector' object has no attribute 'array'",
     "output_type": "error",
     "traceback": [
      "\u001B[0;31m---------------------------------------------------------------------------\u001B[0m",
      "\u001B[0;31mAttributeError\u001B[0m                            Traceback (most recent call last)",
      "\u001B[0;32m<ipython-input-97-7cc1570de011>\u001B[0m in \u001B[0;36m<module>\u001B[0;34m\u001B[0m\n\u001B[1;32m     48\u001B[0m     \u001B[0;31m# Compute error at vertices\u001B[0m\u001B[0;34m\u001B[0m\u001B[0;34m\u001B[0m\u001B[0;34m\u001B[0m\u001B[0m\n\u001B[1;32m     49\u001B[0m     \u001B[0mu_e\u001B[0m \u001B[0;34m=\u001B[0m \u001B[0minterpolate\u001B[0m\u001B[0;34m(\u001B[0m\u001B[0mu_D\u001B[0m\u001B[0;34m,\u001B[0m \u001B[0mV\u001B[0m\u001B[0;34m)\u001B[0m\u001B[0;34m\u001B[0m\u001B[0;34m\u001B[0m\u001B[0m\n\u001B[0;32m---> 50\u001B[0;31m     \u001B[0merror\u001B[0m \u001B[0;34m=\u001B[0m \u001B[0mnp\u001B[0m\u001B[0;34m.\u001B[0m\u001B[0mabs\u001B[0m\u001B[0;34m(\u001B[0m\u001B[0mu_e\u001B[0m\u001B[0;34m.\u001B[0m\u001B[0mvector\u001B[0m\u001B[0;34m(\u001B[0m\u001B[0;34m)\u001B[0m\u001B[0;34m.\u001B[0m\u001B[0marray\u001B[0m\u001B[0;34m(\u001B[0m\u001B[0;34m)\u001B[0m \u001B[0;34m-\u001B[0m \u001B[0mu\u001B[0m\u001B[0;34m.\u001B[0m\u001B[0mvector\u001B[0m\u001B[0;34m(\u001B[0m\u001B[0;34m)\u001B[0m\u001B[0;34m.\u001B[0m\u001B[0marray\u001B[0m\u001B[0;34m(\u001B[0m\u001B[0;34m)\u001B[0m\u001B[0;34m)\u001B[0m\u001B[0;34m.\u001B[0m\u001B[0mmax\u001B[0m\u001B[0;34m(\u001B[0m\u001B[0;34m)\u001B[0m\u001B[0;34m\u001B[0m\u001B[0;34m\u001B[0m\u001B[0m\n\u001B[0m\u001B[1;32m     51\u001B[0m     \u001B[0mprint\u001B[0m\u001B[0;34m(\u001B[0m\u001B[0;34m't = %.2f: error = %.3g'\u001B[0m \u001B[0;34m%\u001B[0m \u001B[0;34m(\u001B[0m\u001B[0mt\u001B[0m\u001B[0;34m,\u001B[0m \u001B[0merror\u001B[0m\u001B[0;34m)\u001B[0m\u001B[0;34m)\u001B[0m\u001B[0;34m\u001B[0m\u001B[0;34m\u001B[0m\u001B[0m\n\u001B[1;32m     52\u001B[0m \u001B[0;34m\u001B[0m\u001B[0m\n",
      "\u001B[0;31mAttributeError\u001B[0m: 'dolfin.cpp.la.PETScVector' object has no attribute 'array'"
     ]
    },
    {
     "data": {
      "text/plain": "<Figure size 432x288 with 1 Axes>",
      "image/png": "[encoded data removed]"
     },
     "metadata": {},
     "output_type": "display_data"
    }
   ],
   "source": [
    "T = 2.0            # final time\n",
    "num_steps = 10     # number of time steps\n",
    "dt = T / num_steps # time step size\n",
    "alpha = 3          # parameter alpha\n",
    "beta = 1.2         # parameter beta\n",
    "\n",
    "# Create mesh and define function space\n",
    "nx = ny = 8\n",
    "mesh = UnitSquareMesh(nx, ny)\n",
    "V = FunctionSpace(mesh, 'P', 1)\n",
    "\n",
    "# Define boundary condition\n",
    "u_D = Expression('1 + x[0]*x[0] + alpha*x[1]*x[1] + beta*t',\n",
    "                 degree=2, alpha=alpha, beta=beta, t=0)\n",
    "\n",
    "def boundary(x, on_boundary):\n",
    "    return on_boundary\n",
    "\n",
    "bc = DirichletBC(V, u_D, boundary)\n",
    "\n",
    "# Define initial value\n",
    "u_n = interpolate(u_D, V)\n",
    "#u_n = project(u_D, V)\n",
    "\n",
    "# Define variational problem\n",
    "u = TrialFunction(V)\n",
    "v = TestFunction(V)\n",
    "f = Constant(beta - 2 - 2*alpha)\n",
    "\n",
    "F = u*v*dx + dt*dot(grad(u), grad(v))*dx - (u_n + dt*f)*v*dx\n",
    "a, L = lhs(F), rhs(F)\n",
    "\n",
    "# Time-stepping\n",
    "u = Function(V)\n",
    "t = 0\n",
    "for n in range(num_steps):\n",
    "\n",
    "    # Update current time\n",
    "    t += dt\n",
    "    u_D.t = t\n",
    "\n",
    "    # Compute solution\n",
    "    solve(a == L, u, bc)\n",
    "\n",
    "    # Plot solution\n",
    "    plot(u)\n",
    "\n",
    "    # Compute error at vertices\n",
    "    u_e = interpolate(u_D, V)\n",
    "    error = np.abs(u_e.vector().array() - u.vector().array()).max()\n",
    "    print('t = %.2f: error = %.3g' % (t, error))\n",
    "\n",
    "    # Update previous solution\n",
    "    u_n.assign(u)\n",
    "\n",
    "# Hold plot\n"
   ],
   "metadata": {
    "collapsed": false,
    "pycharm": {
     "name": "#%%\n"
    }
   }
  }
 ],
 "metadata": {
  "kernelspec": {
   "name": "python3",
   "language": "python",
   "display_name": "Python 3"
  },
  "language_info": {
   "codemirror_mode": {
    "name": "ipython",
    "version": 2
   },
   "file_extension": ".py",
   "mimetype": "text/x-python",
   "name": "python",
   "nbconvert_exporter": "python",
   "pygments_lexer": "ipython2",
   "version": "2.7.6"
  }
 },
 "nbformat": 4,
 "nbformat_minor": 0
}