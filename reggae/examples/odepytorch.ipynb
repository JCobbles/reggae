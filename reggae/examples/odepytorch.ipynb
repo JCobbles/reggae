{
 "cells": [
  {
   "cell_type": "code",
   "execution_count": 1,
   "metadata": {
    "collapsed": true
   },
   "outputs": [],
   "source": [
    "import torch\n",
    "from torch import nn\n",
    "from torch.nn import functional as F\n",
    "from torchdiffeq import odeint\n",
    "from torch.nn.parameter import Parameter\n",
    "from torch.distributions.multivariate_normal import MultivariateNormal\n",
    "from torch.distributions.normal import Normal\n",
    "\n",
    "import gpytorch\n",
    "\n",
    "from reggae.data_loaders import load_barenco_puma, DataHolder\n",
    "\n",
    "from matplotlib import pyplot as plt\n",
    "\n",
    "import numpy as np\n",
    "\n",
    "f64 = np.float64"
   ]
  },
  {
   "cell_type": "code",
   "execution_count": 2,
   "outputs": [
    {
     "name": "stdout",
     "output_type": "stream",
     "text": [
      "torch.Size([3, 5, 7])\n",
      "tensor([[0.0000],\n",
      "        [0.1667],\n",
      "        [0.3333],\n",
      "        [0.5000],\n",
      "        [0.6667],\n",
      "        [0.8333],\n",
      "        [1.0000]], dtype=torch.float64)\n"
     ]
    },
    {
     "data": {
      "text/plain": "[<matplotlib.lines.Line2D at 0x7fd2f883f350>]"
     },
     "execution_count": 2,
     "metadata": {},
     "output_type": "execute_result"
    },
    {
     "data": {
      "text/plain": "<Figure size 432x288 with 1 Axes>",
      "image/png": "[encoded data removed]"
     },
     "metadata": {
      "needs_background": "light"
     },
     "output_type": "display_data"
    }
   ],
   "source": [
    "m_observed, f_observed, σ2_m_pre, σ2_f_pre, t = load_barenco_puma('../data/')\n",
    "\n",
    "m_df, m_observed = m_observed\n",
    "f_df, f_observed = f_observed\n",
    "# Shape of m_observed = (replicates, genes, times)\n",
    "m_observed = torch.tensor(m_observed)\n",
    "f_observed = torch.tensor(f_observed)\n",
    "data = (m_observed, f_observed)\n",
    "\n",
    "σ2_m_pre = f64(σ2_m_pre)\n",
    "σ2_f_pre = f64(σ2_f_pre)\n",
    "noise_data = (σ2_m_pre, σ2_f_pre)\n",
    "\n",
    "print(m_observed.shape)\n",
    "\n",
    "num_genes = m_observed.shape[1]\n",
    "num_tfs = f_observed.shape[1]\n",
    "N_m = m_observed.shape[2]\n",
    "granularity = 100\n",
    "t_start = f64(0)\n",
    "t_end = f64(1)\n",
    "t = torch.linspace(t_start, t_end, granularity, dtype=torch.float64).view((-1, 1))\n",
    "t_inducing = torch.linspace(t_start, t_end, 7, dtype=torch.float64).reshape((-1, 1))\n",
    "print(t_inducing)\n",
    "plt.plot(m_observed[0,0])"
   ],
   "metadata": {
    "collapsed": false,
    "pycharm": {
     "name": "#%%\n"
    }
   }
  },
  {
   "cell_type": "code",
   "execution_count": 17,
   "outputs": [],
   "source": [
    "def positivity_transform(value):\n",
    "    return torch.log(1+torch.exp(value))\n",
    "\n",
    "def plot_genes():\n",
    "    initial_value = torch.zeros((num_genes, 1), dtype=torch.float64) #, dtype=torch.float64\n",
    "    outputs, _ = model(t.view(-1), initial_value)\n",
    "    outputs = torch.squeeze(outputs)\n",
    "    print(outputs.shape)\n",
    "    plt.figure(figsize=(5, 8))\n",
    "    for i in range(num_genes):\n",
    "        plt.subplot(511+i)\n",
    "        plt.plot(t, torch.squeeze(outputs[0]).detach())\n",
    "        plt.scatter(t_inducing, m_observed[0][i])\n",
    "\n",
    "def plot_tfs():\n",
    "    plt.figure(figsize=(5, 3))\n",
    "    t_predict = torch.linspace(0, 1, 80)\n",
    "    tfs = model.get_tfs(t_predict)\n",
    "    print(tfs.shape)\n",
    "    plt.plot(t_predict, tfs[0].detach())\n",
    "    plt.title('Latent')"
   ],
   "metadata": {
    "collapsed": false,
    "pycharm": {
     "name": "#%%\n"
    }
   }
  },
  {
   "cell_type": "code",
   "execution_count": 74,
   "outputs": [],
   "source": [
    "# class GP(gpytorch.models.ExactGP):\n",
    "#     def __init__(self, train_x, train_y, num_tfs):\n",
    "#         likelihood = gpytorch.likelihoods.MultitaskGaussianLikelihood(num_tasks=num_tfs)\n",
    "#         super(GP, self).__init__(train_x, train_y, likelihood)\n",
    "#         self.mean_module = gpytorch.means.ConstantMean(batch_shape=torch.Size([num_tfs]))\n",
    "#         rbf = gpytorch.kernels.RBFKernel(eps=0.15, batch_shape=torch.Size([num_tfs])) # eps is min lengthscale\n",
    "#         rbf.lengthscale = f64(0.2)\n",
    "#         self.covar_module = gpytorch.kernels.ScaleKernel(rbf, batch_shape=torch.Size([num_tfs]))\n",
    "#\n",
    "#\n",
    "#     def forward(self, x):\n",
    "#         mean_x = self.mean_module(x)\n",
    "#         covar_x = self.covar_module(x)\n",
    "#         return gpytorch.distributions.MultitaskMultivariateNormal.from_batch_mvn(\n",
    "#             gpytorch.distributions.MultivariateNormal(mean_x, covar_x)\n",
    "#         )\n",
    "\n",
    "\n",
    "class ODEModel(nn.Module):\n",
    "    \"\"\"\n",
    "    Description blah\n",
    "    Parameters\n",
    "    ----------\n",
    "    num_genes : int\n",
    "    Number of genes.\n",
    "    num_tfs : int\n",
    "\n",
    "    t_inducing : int\n",
    "    inducing timepoints.\n",
    "    \"\"\"\n",
    "    def __init__(self, num_genes, num_tfs, t_inducing):\n",
    "        super(ODEModel, self).__init__()\n",
    "        self.num_genes = num_genes\n",
    "        self.num_tfs = num_tfs\n",
    "        self.num_inducing = t_inducing.shape[0]\n",
    "        self.inducing_inputs = t_inducing\n",
    "\n",
    "        self.decay_rate = Parameter(1*torch.ones((self.num_genes, 1), dtype=torch.float64))\n",
    "        self.basal_rate = Parameter(0.2*torch.ones((self.num_genes, 1), dtype=torch.float64))\n",
    "        self.sensitivity = Parameter(2*torch.ones((self.num_genes, 1), dtype=torch.float64))\n",
    "        self.w = Parameter(torch.ones((self.num_genes, self.num_tfs), dtype=torch.float64))\n",
    "        self.w_0 = Parameter(torch.ones((self.num_tfs), dtype=torch.float64))\n",
    "        q_m = torch.rand((self.num_tfs, self.num_inducing, 1), dtype=torch.float64) * 10 - 5\n",
    "        q_K = torch.eye(self.num_inducing, dtype=torch.float64).view(1, self.num_inducing, self.num_inducing)\n",
    "        q_K = q_K.repeat(self.num_tfs, 1, 1)\n",
    "        q_cholK = torch.cholesky(q_K)\n",
    "        self.q_m = Parameter(q_m)\n",
    "        self.q_cholS = Parameter(q_cholK) # hoping that this remains\n",
    "        self.inducing_targets = torch.randn(self.num_tfs, self.num_inducing, dtype=torch.float64) #This is not used\n",
    "        # self.gp = GP(self.inducing_inputs.view(-1), self.inducing_targets, self.num_tfs)\n",
    "        self.nfe = 0\n",
    "        self.l2 = Parameter(0.2*torch.ones((num_tfs), dtype=torch.float64))\n",
    "        self.v = Parameter(1 * torch.ones((num_tfs), dtype=torch.float64))\n",
    "        self.likelihood_variance = Parameter(torch.ones((self.num_genes, self.num_inducing), dtype=torch.float64))\n",
    "\n",
    "    def rbf(self, x: torch.Tensor, x2: torch.Tensor=None):\n",
    "        \"\"\"\n",
    "        Radial basis function kernel.\n",
    "        @param x:\n",
    "        @param x2: if None, then x2 becomes x\n",
    "        @return: K of shape (I, |x|, |x2|)\n",
    "        \"\"\"\n",
    "        if x2 is None:\n",
    "            x2 = x\n",
    "        x = x.view(-1)\n",
    "        x2 = x2.view(-1)\n",
    "        sq_dist = torch.square(x.view(-1, 1)-x2)\n",
    "        sq_dist = sq_dist.repeat(self.num_tfs, 1, 1)\n",
    "        sq_dist = torch.div(sq_dist, 2*self.l2.view((-1, 1, 1)))\n",
    "\n",
    "        K =  self.v.view(-1, 1, 1) * torch.exp(-sq_dist)\n",
    "        return K\n",
    "\n",
    "\n",
    "    def forward(self, t, h, rtol=1e-4, atol=1e-6):\n",
    "        \"\"\"\n",
    "        t : torch.Tensor\n",
    "            Shape (num_times)\n",
    "        h : torch.Tensor the initial state of the ODE\n",
    "            Shape (num_genes, 1)\n",
    "        Returns\n",
    "        -------\n",
    "        Returns evolved h across times t.\n",
    "        Shape (num_genes, num_points).\n",
    "        \"\"\"\n",
    "        self.nfe = 0\n",
    "        num_times = t.size()\n",
    "\n",
    "        # 1: Likelihood step: Sample from variational distribution\n",
    "        self.Kmm = self.rbf(self.inducing_inputs)\n",
    "        # TODO: make inverse more efficient (we calculate cholesky below anyway)\n",
    "        self.inv_Kmm = torch.inverse(self.Kmm)\n",
    "\n",
    "\n",
    "        # Integrate forward from the batch of initial positions z.\n",
    "        h = odeint(self.odefunc, h, t, method='dopri5', rtol=rtol, atol=atol) # shape (num_genes, num_times, 1\n",
    "\n",
    "        # 2: KL term:\n",
    "        # q = MultivariateNormal(self.q_m, self.q_cholS)\n",
    "        # above: make cholesky\n",
    "        KL = -0.5 * self.num_tfs * self.num_inducing # CHECK\n",
    "        # log of determinant of S. Uses that sqrt(det(X)) = det(X^(1/2)) and\n",
    "        # that the determinant of a upper triangular matrix (which q_sqrt is),\n",
    "        # is the product of the diagonal entries (i.e. sum of their logarithm).\n",
    "        S_diag = torch.diagonal(self.q_cholS, dim1=1, dim2=2)\n",
    "        logdetS = torch.sum(torch.log(S_diag ** 2))\n",
    "        # log of determinant of Kuu. Uses that determinant of triangular\n",
    "        # matrix is product of diagonal entries and that 0.5*|Kuu| =\n",
    "        # 0.5*|LL^T| = |L|.\n",
    "        L = torch.cholesky(self.Kmm)\n",
    "        logdetK = torch.sum(torch.log(torch.diagonal(L, dim1=1, dim2=2)))\n",
    "\n",
    "        # now the trace term:\n",
    "        trKS = torch.matmul(self.inv_Kmm, self.q_cholS**2)\n",
    "        trKS = torch.sum(torch.diagonal(trKS, dim1=1, dim2=2))\n",
    "\n",
    "        # computes m^T Kuu^(-1) m, which is scalar or rather has shape\n",
    "        # [num_latent]. cholesky_solve expects the Cholesky decomposition\n",
    "        # of the left side (i.e. as first argument), therefore Lu is used\n",
    "        # instead of Kuu.\n",
    "        Kinv_m = torch.cholesky_solve(self.q_m, L, upper=False)\n",
    "        # print('mm',torch.matmul(self.Kmm, Kinv_m), self.q_m)\n",
    "        # print(self.q_m.shape, Kinv_m.shape)\n",
    "        m_Kinv_m = torch.sum(torch.matmul(torch.transpose(self.q_m, 1, 2), Kinv_m))\n",
    "        #CHECK logdetK * self.num_nodes\n",
    "        KL += 0.5 * (logdetK - logdetS + trKS + m_Kinv_m)\n",
    "        # print(logdetK, logdetS, trKS, m_Kinv_m)\n",
    "\n",
    "        return torch.transpose(h, 0, 1), KL\n",
    "\n",
    "\n",
    "    def odefunc(self, t, h):\n",
    "        self.nfe += 1\n",
    "        # if (self.nfe % 100) == 0:\n",
    "        #     print(t)\n",
    "        # h is of shape (num_genes, 1)\n",
    "        decay = torch.multiply(self.decay_rate.view(-1), h.view(-1)).view(-1, 1)\n",
    "\n",
    "        p = self.get_tfs(t)\n",
    "        Gp = self.G(p)\n",
    "        # print(Gp.shape)\n",
    "        # print(self.basal_rate, Gp, decay)\n",
    "\n",
    "        return self.basal_rate + self.sensitivity * Gp - decay\n",
    "\n",
    "    def get_tfs(self, t):\n",
    "        Ksm = self.rbf(t, self.inducing_inputs) # (I, T*, T)\n",
    "        α = Ksm.matmul(self.inv_Kmm) # (I, T*, T)\n",
    "        m_s = torch.matmul(α, self.q_m) # (I, T*, T*)\n",
    "        Kss = self.rbf(t) # (I, T*, T*)\n",
    "        # I think Kss is always 1: rbf with one timepoint is = e^0\n",
    "        S = self.q_cholS ** 2\n",
    "        S_Kmm = S - self.Kmm # (I, T, T)\n",
    "        AS_KA = torch.matmul(torch.matmul(α, S_Kmm), torch.transpose(α, 1, 2)) # (I, T*, T*)\n",
    "        S_s = (Kss + AS_KA) # (I, T*, T*)\n",
    "        q_f = Normal(torch.squeeze(m_s), torch.squeeze(S_s))\n",
    "        f = q_f.rsample() # TODO: multiple samples\n",
    "        # does gradient propagate properly?\n",
    "        return f\n",
    "    # def get_tfs(self, at):\n",
    "    #     self.gp.set_train_data(self.inducing_sources, self.inducing_targets)\n",
    "    #     f_mvn = self.gp(self.inducing_sources) #\n",
    "    #\n",
    "    #     self.gp.eval() # activate posterior mode (calls to gp() will be posterior predictive)\n",
    "    #\n",
    "    #     # print(at.shape, self.inducing_targets.shape)\n",
    "    #     inputs = torch.cat([self.inducing_targets, at.view(-1)])\n",
    "    #     # f_mvn = self.gp(at.view(-1))\n",
    "    #     f_mvn = self.gp(inputs)\n",
    "    #     # print(f_mvn.mean.shape)\n",
    "    #\n",
    "    #     self.gp.train()\n",
    "    #\n",
    "    #     return torch.unsqueeze(f_mvn.mean[-1], 0) #TODO support multi tfs, in which case the 0 dim is num_tfs\n",
    "\n",
    "    def G(self, p): #TODO\n",
    "        return torch.sum(p, dim=0)\n",
    "        # p_pos = positivity_transform(p)\n",
    "        # interactions = torch.matmul(self.w, torch.log(p_pos+1e-50)) + self.w_0 #(TODO)\n",
    "        # return torch.sigmoid(interactions) # TF Activation Function (sigmoid)\n",
    "        # return p\n",
    "\n",
    "    # def latent(self, t):\n",
    "    #     self.gp.eval()\n",
    "    #     f_mvn = self.gp(t)\n",
    "    #     return positivity_transform(f_mvn.mean)\n",
    "\n",
    "    def train(self, mode=True):\n",
    "        # self.gp.train(mode)\n",
    "        # self.gp.likelihood.train(mode)\n",
    "        super().train(mode)\n",
    "\n",
    "    def log_likelihood(self, y, h):\n",
    "        print(self.likelihood_variance)\n",
    "        return Normal(y, self.likelihood_variance).log_prob(h)"
   ],
   "metadata": {
    "collapsed": false,
    "pycharm": {
     "name": "#%%\n"
    }
   }
  },
  {
   "cell_type": "code",
   "execution_count": 75,
   "outputs": [],
   "source": [
    "def train(optimizer, epochs=20, rtol=1e-5, atol=1e-6):\n",
    "    basalrates = list()\n",
    "    decayrates = list()\n",
    "    lengthscales = list()\n",
    "    losses = list()\n",
    "    plt.figure()\n",
    "    plt.plot(t_inducing, m_observed[0,0], label='real')\n",
    "\n",
    "    for epoch in range(epochs):\n",
    "        optimizer.zero_grad()\n",
    "        # Output from model\n",
    "        initial_value = torch.zeros((num_genes, 1), dtype=torch.float64) #, dtype=torch.float64\n",
    "        output, kl = model(t_inducing.view(-1), initial_value, rtol=rtol, atol=atol)\n",
    "        output = torch.squeeze(output)\n",
    "\n",
    "        # Calc loss and backprop gradients\n",
    "        print('shapes', m_observed[0].shape, output.shape)\n",
    "        loss = -torch.sum(model.log_likelihood(m_observed[0], output))\n",
    "        print(loss.shape)\n",
    "        total_loss = loss + kl\n",
    "\n",
    "        total_loss.backward()\n",
    "        print('Epoch %d/%d - Loss: %.3f %.3f b: %.2f d %.2f λ: %.7f' % (\n",
    "            epoch + 1, epochs, loss.item(),\n",
    "            kl.item(),\n",
    "            model.basal_rate[0].item(),\n",
    "            model.decay_rate[0].item(),\n",
    "            model.l2.squeeze().item()\n",
    "        ))\n",
    "        optimizer.step()\n",
    "\n",
    "        basalrates.append(model.basal_rate.detach().numpy())\n",
    "        decayrates.append(model.decay_rate.detach().numpy())\n",
    "        lengthscales.append(model.l2.squeeze().item())\n",
    "        losses.append((loss.item(), kl.item()))\n",
    "        with torch.no_grad():\n",
    "            model.l2.clamp_(0.1, 0.5)\n",
    "            model.sensitivity.clamp_(0, 8)\n",
    "            model.basal_rate.clamp_(0, 8)\n",
    "            model.decay_rate.clamp_(0, 8)\n",
    "\n",
    "        if (epoch % 5) ==0:\n",
    "            plt.plot(t_inducing, output[0].detach().numpy(), label='epoch'+str(epoch))\n",
    "\n",
    "    plt.legend()\n",
    "    return output, (losses, basalrates, decayrates, lengthscales)"
   ],
   "metadata": {
    "collapsed": false,
    "pycharm": {
     "name": "#%%\n"
    }
   }
  },
  {
   "cell_type": "code",
   "execution_count": 76,
   "outputs": [
    {
     "data": {
      "text/plain": "tensor([[[1.0000, 0.9329, 0.7575, 0.5353, 0.3292, 0.1762, 0.0821],\n         [0.9329, 1.0000, 0.9329, 0.7575, 0.5353, 0.3292, 0.1762],\n         [0.7575, 0.9329, 1.0000, 0.9329, 0.7575, 0.5353, 0.3292],\n         [0.5353, 0.7575, 0.9329, 1.0000, 0.9329, 0.7575, 0.5353],\n         [0.3292, 0.5353, 0.7575, 0.9329, 1.0000, 0.9329, 0.7575],\n         [0.1762, 0.3292, 0.5353, 0.7575, 0.9329, 1.0000, 0.9329],\n         [0.0821, 0.1762, 0.3292, 0.5353, 0.7575, 0.9329, 1.0000]]],\n       dtype=torch.float64, grad_fn=<MulBackward0>)"
     },
     "execution_count": 76,
     "metadata": {},
     "output_type": "execute_result"
    }
   ],
   "source": [
    "model = ODEModel(num_genes, num_tfs, t_inducing)\n",
    "optimizer = torch.optim.Adam(model.parameters(), lr=0.1)\n",
    "# loss_fn = torch.nn.MSELoss(reduction='sum')\n",
    "losses = np.empty((0, 2))\n",
    "model.rbf(model.inducing_inputs)\n",
    "# list(model.parameters())"
   ],
   "metadata": {
    "collapsed": false,
    "pycharm": {
     "name": "#%%\n"
    }
   }
  },
  {
   "cell_type": "markdown",
   "source": [
    "### Outputs prior to training:"
   ],
   "metadata": {
    "collapsed": false,
    "pycharm": {
     "name": "#%% md\n"
    }
   }
  },
  {
   "cell_type": "code",
   "execution_count": null,
   "outputs": [],
   "source": [
    "plot_genes()\n",
    "plot_tfs()"
   ],
   "metadata": {
    "collapsed": false,
    "pycharm": {
     "name": "#%%\n",
     "is_executing": true
    }
   }
  },
  {
   "cell_type": "code",
   "execution_count": 77,
   "outputs": [
    {
     "name": "stdout",
     "output_type": "stream",
     "text": [
      "shapes torch.Size([5, 7]) torch.Size([5, 7])\n",
      "Parameter containing:\n",
      "tensor([[1., 1., 1., 1., 1., 1., 1.],\n",
      "        [1., 1., 1., 1., 1., 1., 1.],\n",
      "        [1., 1., 1., 1., 1., 1., 1.],\n",
      "        [1., 1., 1., 1., 1., 1., 1.],\n",
      "        [1., 1., 1., 1., 1., 1., 1.]], dtype=torch.float64, requires_grad=True)\n",
      "torch.Size([])\n",
      "Epoch 1/50 - Loss: 48.268 3350843.705 b: 0.20 d 1.00 λ: 0.2000000\n",
      "shapes torch.Size([5, 7]) torch.Size([5, 7])\n",
      "Parameter containing:\n",
      "tensor([[0.9000, 1.1000, 1.1000, 0.9000, 0.9000, 0.9000, 0.9000],\n",
      "        [0.9000, 1.1000, 0.9000, 0.9000, 0.9000, 0.9000, 0.9000],\n",
      "        [0.9000, 1.1000, 0.9000, 0.9000, 0.9000, 0.9000, 0.9000],\n",
      "        [0.9000, 1.1000, 1.1000, 0.9000, 1.1000, 0.9000, 1.1000],\n",
      "        [0.9000, 1.1000, 1.1000, 0.9000, 0.9000, 0.9000, 0.9000]],\n",
      "       dtype=torch.float64, requires_grad=True)\n",
      "torch.Size([])\n",
      "Epoch 2/50 - Loss: 40.511 54642.298 b: 0.30 d 0.90 λ: 0.1000000\n",
      "shapes torch.Size([5, 7]) torch.Size([5, 7])\n",
      "Parameter containing:\n",
      "tensor([[0.7999, 1.1806, 1.0834, 0.8011, 0.8010, 0.8224, 0.7999],\n",
      "        [0.7999, 1.1798, 0.8069, 0.8012, 0.7999, 0.8000, 0.7999],\n",
      "        [0.7999, 1.1736, 0.8376, 0.7999, 0.8022, 0.8002, 0.7999],\n",
      "        [0.7999, 1.1837, 1.1957, 0.8071, 1.1219, 0.7999, 1.0706],\n",
      "        [0.7999, 1.1698, 1.1851, 0.8000, 0.8069, 0.8007, 0.7999]],\n",
      "       dtype=torch.float64, requires_grad=True)\n",
      "torch.Size([])\n",
      "Epoch 3/50 - Loss: 36.917 48292.913 b: 0.40 d 0.80 λ: 0.1000000\n",
      "shapes torch.Size([5, 7]) torch.Size([5, 7])\n",
      "Parameter containing:\n",
      "tensor([[0.6995, 1.2580, 1.0187, 0.7069, 0.7036, 0.7399, 0.6996],\n",
      "        [0.6995, 1.2491, 0.7140, 0.7017, 0.6996, 0.6998, 0.7125],\n",
      "        [0.6995, 1.2346, 0.7785, 0.6995, 0.7048, 0.7002, 0.7033],\n",
      "        [0.6995, 1.2572, 1.2931, 0.7124, 1.0927, 0.6995, 1.0081],\n",
      "        [0.6995, 1.2290, 1.1536, 0.6999, 0.7180, 0.7019, 0.7002]],\n",
      "       dtype=torch.float64, requires_grad=True)\n",
      "torch.Size([])\n",
      "Epoch 4/50 - Loss: 34.969 43868.545 b: 0.49 d 0.71 λ: 0.1000000\n",
      "shapes torch.Size([5, 7]) torch.Size([5, 7])\n",
      "Parameter containing:\n",
      "tensor([[0.5988, 1.3312, 0.9433, 0.6160, 0.6053, 0.6517, 0.5991],\n",
      "        [0.5988, 1.3072, 0.6942, 0.6853, 0.5992, 0.5993, 0.6203],\n",
      "        [0.5988, 1.2833, 0.7961, 0.5990, 0.6346, 0.5999, 0.6052],\n",
      "        [0.5988, 1.3197, 1.3918, 0.6217, 1.0336, 0.5988, 0.9307],\n",
      "        [0.5988, 1.2793, 1.1057, 0.5999, 0.6261, 0.6023, 0.6000]],\n",
      "       dtype=torch.float64, requires_grad=True)\n",
      "torch.Size([])\n",
      "Epoch 5/50 - Loss: 31.279 40513.578 b: 0.58 d 0.62 λ: 0.1000000\n",
      "shapes torch.Size([5, 7]) torch.Size([5, 7])\n",
      "Parameter containing:\n",
      "tensor([[0.4978, 1.4013, 0.8596, 0.5240, 0.5065, 0.5602, 0.5006],\n",
      "        [0.4978, 1.3560, 0.7113, 0.6813, 0.4984, 0.4984, 0.5418],\n",
      "        [0.4978, 1.3224, 0.8308, 0.4981, 0.5671, 0.4993, 0.5273],\n",
      "        [0.4978, 1.3718, 1.4909, 0.5285, 0.9602, 0.4978, 0.8454],\n",
      "        [0.4978, 1.3235, 1.0419, 0.4999, 0.5332, 0.5024, 0.5071]],\n",
      "       dtype=torch.float64, requires_grad=True)\n",
      "torch.Size([])\n",
      "Epoch 6/50 - Loss: 28.012 37843.860 b: 0.65 d 0.54 λ: 0.1000000\n",
      "shapes torch.Size([5, 7]) torch.Size([5, 7])\n",
      "Parameter containing:\n",
      "tensor([[0.3962, 1.4683, 0.7707, 0.4311, 0.4067, 0.4668, 0.4227],\n",
      "        [0.3965, 1.3974, 0.7379, 0.6779, 0.3973, 0.3973, 0.5225],\n",
      "        [0.3965, 1.3540, 0.8581, 0.3970, 0.4897, 0.3981, 0.5116],\n",
      "        [0.3965, 1.4143, 1.5893, 0.4336, 0.8782, 0.3962, 0.7553],\n",
      "        [0.3962, 1.3636, 0.9665, 0.4000, 0.4426, 0.4020, 0.4578]],\n",
      "       dtype=torch.float64, requires_grad=True)\n",
      "torch.Size([])\n",
      "Epoch 7/50 - Loss: 26.251 35651.163 b: 0.69 d 0.50 λ: 0.1000000\n",
      "shapes torch.Size([5, 7]) torch.Size([5, 7])\n",
      "Parameter containing:\n",
      "tensor([[0.2941, 1.5313, 0.6784, 0.3381, 0.3265, 0.3720, 0.4329],\n",
      "        [0.2949, 1.4329, 0.7509, 0.6519, 0.2967, 0.2965, 0.5593],\n",
      "        [0.2950, 1.3798, 0.8596, 0.2953, 0.4115, 0.2978, 0.5449],\n",
      "        [0.2950, 1.4479, 1.6847, 0.3370, 0.7908, 0.2943, 0.6618],\n",
      "        [0.2942, 1.4000, 0.8835, 0.2995, 0.3545, 0.3023, 0.4797]],\n",
      "       dtype=torch.float64, requires_grad=True)\n",
      "torch.Size([])\n",
      "Epoch 8/50 - Loss: 20.984 33809.158 b: 0.67 d 0.53 λ: 0.1000000\n",
      "shapes torch.Size([5, 7]) torch.Size([5, 7])\n",
      "Parameter containing:\n",
      "tensor([[0.1918, 1.5890, 0.5853, 0.2441, 0.2939, 0.2761, 0.4629],\n",
      "        [0.1936, 1.4637, 0.7506, 0.6088, 0.1961, 0.1976, 0.6111],\n",
      "        [0.1938, 1.4000, 0.8448, 0.1928, 0.3265, 0.1981, 0.5908],\n",
      "        [0.1940, 1.4738, 1.7756, 0.2392, 0.6994, 0.1923, 0.5655],\n",
      "        [0.1943, 1.4322, 0.7985, 0.1985, 0.2641, 0.2030, 0.5180]],\n",
      "       dtype=torch.float64, requires_grad=True)\n",
      "torch.Size([])\n",
      "Epoch 9/50 - Loss: 15.021 32235.207 b: 0.62 d 0.58 λ: 0.1000000\n",
      "shapes torch.Size([5, 7]) torch.Size([5, 7])\n",
      "Parameter containing:\n",
      "tensor([[0.1247, 1.6398, 0.5374, 0.1645, 0.2523, 0.1797, 0.4856],\n",
      "        [0.0934, 1.4897, 0.7446, 0.5697, 0.0989, 0.1334, 0.6590],\n",
      "        [0.0942, 1.4145, 0.8267, 0.0959, 0.3208, 0.1099, 0.6291],\n",
      "        [0.0949, 1.4927, 1.8611, 0.1422, 0.6050, 0.0939, 0.4671],\n",
      "        [0.1657, 1.4587, 0.7511, 0.0996, 0.1780, 0.1110, 0.5501]],\n",
      "       dtype=torch.float64, requires_grad=True)\n",
      "torch.Size([])\n",
      "Epoch 10/50 - Loss: 9.973 30872.065 b: 0.57 d 0.64 λ: 0.1000000\n",
      "shapes torch.Size([5, 7]) torch.Size([5, 7])\n",
      "Parameter containing:\n",
      "tensor([[ 1.5691e-01,  1.6829e+00,  5.4622e-01,  1.3424e-01,  1.9233e-01,\n",
      "          8.1794e-02,  4.9786e-01],\n",
      "        [-6.6607e-03,  1.5109e+00,  7.3779e-01,  5.3467e-01,  8.6971e-02,\n",
      "          5.8410e-02,  6.9688e-01],\n",
      "        [-1.2955e-03,  1.4233e+00,  8.1063e-01,  1.3288e-03,  3.6198e-01,\n",
      "          2.1822e-02,  6.5604e-01],\n",
      "        [ 3.3244e-03,  1.5052e+00,  1.9402e+00,  4.4528e-02,  5.0781e-01,\n",
      "          1.3629e-03,  3.6687e-01],\n",
      "        [ 1.9325e-01,  1.4792e+00,  7.5081e-01,  1.0788e-02,  2.0942e-01,\n",
      "          2.1979e-02,  5.7267e-01]], dtype=torch.float64, requires_grad=True)\n",
      "torch.Size([])\n",
      "Epoch 11/50 - Loss: nan 29678.532 b: 0.56 d 0.65 λ: 0.1000000\n",
      "shapes torch.Size([5, 7]) torch.Size([5, 7])\n",
      "Parameter containing:\n",
      "tensor([[ 0.2000,  1.7184,  0.5899,  0.1791,  0.1203,  0.1282,  0.4943],\n",
      "        [-0.0549,  1.5278,  0.7437,  0.5363,  0.1319,  0.1002,  0.7192],\n",
      "        [-0.0495,  1.4256,  0.8289,  0.0495,  0.4226,  0.0700,  0.6635],\n",
      "        [ 0.0514,  1.5115,  2.0141, -0.0499,  0.4083,  0.0496,  0.2650],\n",
      "        [ 0.2336,  1.4942,  0.7883,  0.0590,  0.2638,  0.0701,  0.5797]],\n",
      "       dtype=torch.float64, requires_grad=True)\n",
      "torch.Size([])\n",
      "Epoch 12/50 - Loss: nan 28610.049 b: 0.61 d 0.60 λ: 0.1000000\n",
      "shapes torch.Size([5, 7]) torch.Size([5, 7])\n",
      "Parameter containing:\n",
      "tensor([[ 0.2412,  1.7452,  0.6429,  0.2294,  0.1000,  0.1687,  0.4879],\n",
      "        [-0.0984,  1.5395,  0.7503,  0.5551,  0.1675,  0.1498,  0.7354],\n",
      "        [-0.0929,  1.4222,  0.8503,  0.0929,  0.4828,  0.1132,  0.6620],\n",
      "        [ 0.0946,  1.5126,  2.0803, -0.1473,  0.3185,  0.0929,  0.1952],\n",
      "        [ 0.2731,  1.5022,  0.8367,  0.1024,  0.3156,  0.1137,  0.5814]],\n",
      "       dtype=torch.float64, requires_grad=True)\n",
      "torch.Size([])\n",
      "Epoch 13/50 - Loss: nan 27661.965 b: 0.65 d 0.56 λ: 0.1000000\n",
      "shapes torch.Size([5, 7]) torch.Size([5, 7])\n",
      "Parameter containing:\n",
      "tensor([[ 0.2762,  1.7644,  0.7006,  0.2779,  0.1244,  0.2044,  0.4824],\n",
      "        [-0.1375,  1.5467,  0.7607,  0.5843,  0.1959,  0.2024,  0.7472],\n",
      "        [-0.1319,  1.4153,  0.8673,  0.1320,  0.5367,  0.1524,  0.6564],\n",
      "        [ 0.1335,  1.5094,  2.1382, -0.2241,  0.3017,  0.1320,  0.2205],\n",
      "        [ 0.3058,  1.5041,  0.8913,  0.1415,  0.3628,  0.1535,  0.5803]],\n",
      "       dtype=torch.float64, requires_grad=True)\n",
      "torch.Size([])\n",
      "Epoch 14/50 - Loss: nan 26814.653 b: 0.69 d 0.52 λ: 0.1000000\n",
      "shapes torch.Size([5, 7]) torch.Size([5, 7])\n",
      "Parameter containing:\n",
      "tensor([[ 0.3041,  1.7756,  0.7612,  0.3261,  0.1260,  0.2365,  0.4703],\n",
      "        [-0.1728,  1.5488,  0.7794,  0.6281,  0.2246,  0.2461,  0.7510],\n",
      "        [-0.1672,  1.4052,  0.8776,  0.1673,  0.5866,  0.1877,  0.6447],\n",
      "        [ 0.1686,  1.5024,  2.1877, -0.2790,  0.3128,  0.1673,  0.2622],\n",
      "        [ 0.3299,  1.4992,  0.9501,  0.1769,  0.4102,  0.1892,  0.5720]],\n",
      "       dtype=torch.float64, requires_grad=True)\n",
      "torch.Size([])\n",
      "Epoch 15/50 - Loss: nan 26052.540 b: 0.72 d 0.49 λ: 0.1000000\n",
      "shapes torch.Size([5, 7]) torch.Size([5, 7])\n",
      "Parameter containing:\n",
      "tensor([[ 0.3249,  1.7799,  0.8169,  0.3684,  0.1378,  0.2649,  0.4698],\n",
      "        [-0.2048,  1.5467,  0.7965,  0.6652,  0.2474,  0.2860,  0.7543],\n",
      "        [-0.1992,  1.3940,  0.8699,  0.1992,  0.6268,  0.2196,  0.6407],\n",
      "        [ 0.2003,  1.4923,  2.2281, -0.3263,  0.3580,  0.1993,  0.3190],\n",
      "        [ 0.3454,  1.4886,  1.0039,  0.2089,  0.4514,  0.2217,  0.5673]],\n",
      "       dtype=torch.float64, requires_grad=True)\n",
      "torch.Size([])\n",
      "Epoch 16/50 - Loss: nan 25363.134 b: 0.76 d 0.46 λ: 0.1000000\n",
      "shapes torch.Size([5, 7]) torch.Size([5, 7])\n",
      "Parameter containing:\n",
      "tensor([[ 0.3391,  1.7775,  0.8671,  0.4057,  0.1444,  0.2901,  0.4794],\n",
      "        [-0.2337,  1.5402,  0.8132,  0.6963,  0.2654,  0.3219,  0.7570],\n",
      "        [-0.2282,  1.3822,  0.8461,  0.2282,  0.6580,  0.2487,  0.6466],\n",
      "        [ 0.2291,  1.4795,  2.2597, -0.3658,  0.4176,  0.2282,  0.3811],\n",
      "        [ 0.3526,  1.4722,  1.0515,  0.2379,  0.4871,  0.2511,  0.5664]],\n",
      "       dtype=torch.float64, requires_grad=True)\n",
      "torch.Size([])\n",
      "Epoch 17/50 - Loss: nan 24736.218 b: 0.78 d 0.43 λ: 0.1000000\n",
      "shapes torch.Size([5, 7]) torch.Size([5, 7])\n",
      "Parameter containing:\n",
      "tensor([[ 0.3473,  1.7684,  0.9113,  0.4384,  0.1450,  0.3125,  0.4996],\n",
      "        [-0.2600,  1.5292,  0.8296,  0.7208,  0.2790,  0.3546,  0.7604],\n",
      "        [-0.2544,  1.3703,  0.8083,  0.2545,  0.6808,  0.2750,  0.6650],\n",
      "        [ 0.2551,  1.4644,  2.2829, -0.3986,  0.4840,  0.2545,  0.4439],\n",
      "        [ 0.3524,  1.4501,  1.0921,  0.2642,  0.5176,  0.2778,  0.5712]],\n",
      "       dtype=torch.float64, requires_grad=True)\n",
      "torch.Size([])\n",
      "Epoch 18/50 - Loss: nan 24163.349 b: 0.81 d 0.40 λ: 0.1000000\n",
      "shapes torch.Size([5, 7]) torch.Size([5, 7])\n",
      "Parameter containing:\n",
      "tensor([[ 0.3498,  1.7534,  0.9488,  0.4671,  0.1349,  0.3324,  0.5272],\n",
      "        [-0.2838,  1.5142,  0.8441,  0.7400,  0.2890,  0.3840,  0.7645],\n",
      "        [-0.2783,  1.3594,  0.7580,  0.2783,  0.6961,  0.2990,  0.6948],\n",
      "        [ 0.2787,  1.4475,  2.2979, -0.4250,  0.5517,  0.2783,  0.5044],\n",
      "        [ 0.3454,  1.4228,  1.1243,  0.2880,  0.5436,  0.3021,  0.5814]],\n",
      "       dtype=torch.float64, requires_grad=True)\n",
      "torch.Size([])\n",
      "Epoch 19/50 - Loss: nan 23637.497 b: 0.83 d 0.38 λ: 0.1000000\n",
      "shapes torch.Size([5, 7]) torch.Size([5, 7])\n",
      "Parameter containing:\n",
      "tensor([[ 0.3474,  1.7325,  0.9807,  0.4923,  0.1177,  0.3501,  0.5598],\n",
      "        [-0.3054,  1.4953,  0.8595,  0.7541,  0.2957,  0.4101,  0.7698],\n",
      "        [-0.3000,  1.3497,  0.6991,  0.3000,  0.7043,  0.3209,  0.7343],\n",
      "        [ 0.3002,  1.4289,  2.3055, -0.4460,  0.6182,  0.3000,  0.5615],\n",
      "        [ 0.3325,  1.3903,  1.1497,  0.3097,  0.5652,  0.3241,  0.5966]],\n",
      "       dtype=torch.float64, requires_grad=True)\n",
      "torch.Size([])\n",
      "Epoch 20/50 - Loss: nan 23152.741 b: 0.85 d 0.36 λ: 0.1000000\n",
      "shapes torch.Size([5, 7]) torch.Size([5, 7])\n",
      "Parameter containing:\n",
      "tensor([[ 0.3404,  1.7064,  1.0069,  0.5143,  0.0967,  0.3659,  0.5971],\n",
      "        [-0.3251,  1.4726,  0.8743,  0.7634,  0.2994,  0.4339,  0.7780],\n",
      "        [-0.3197,  1.3422,  0.6328,  0.3197,  0.7063,  0.3408,  0.7828],\n",
      "        [ 0.3197,  1.4091,  2.3061, -0.4624,  0.6816,  0.3198,  0.6148],\n",
      "        [ 0.3145,  1.3534,  1.1680,  0.3294,  0.5828,  0.3442,  0.6185]],\n",
      "       dtype=torch.float64, requires_grad=True)\n",
      "torch.Size([])\n",
      "Epoch 21/50 - Loss: nan 22704.048 b: 0.87 d 0.35 λ: 0.1000000\n",
      "shapes torch.Size([5, 7]) torch.Size([5, 7])\n",
      "Parameter containing:\n",
      "tensor([[ 0.3292,  1.6757,  1.0262,  0.5330,  0.1301,  0.3801,  0.6386],\n",
      "        [-0.3430,  1.4466,  0.8839,  0.7649,  0.3000,  0.4558,  0.7904],\n",
      "        [-0.3376,  1.3382,  0.5578,  0.3377,  0.7024,  0.3590,  0.8388],\n",
      "        [ 0.3374,  1.3885,  2.2998, -0.4763,  0.7421,  0.3377,  0.6643],\n",
      "        [ 0.2926,  1.3126,  1.1775,  0.3474,  0.5964,  0.3626,  0.6473]],\n",
      "       dtype=torch.float64, requires_grad=True)\n",
      "torch.Size([])\n",
      "Epoch 22/50 - Loss: nan 22287.151 b: 0.89 d 0.33 λ: 0.1000000\n",
      "shapes torch.Size([5, 7]) torch.Size([5, 7])\n",
      "Parameter containing:\n",
      "tensor([[ 0.3143,  1.6407,  1.0395,  0.5487,  0.1672,  0.3928,  0.6808],\n",
      "        [-0.3592,  1.4175,  0.8894,  0.7596,  0.2978,  0.4756,  0.8059],\n",
      "        [-0.3540,  1.3382,  0.4774,  0.3540,  0.6933,  0.3756,  0.8990],\n",
      "        [ 0.3536,  1.3674,  2.2872, -0.4882,  0.7987,  0.3540,  0.7097],\n",
      "        [ 0.2683,  1.2686,  1.1794,  0.3637,  0.6063,  0.3793,  0.6800]],\n",
      "       dtype=torch.float64, requires_grad=True)\n",
      "torch.Size([])\n",
      "Epoch 23/50 - Loss: nan 21898.373 b: 0.90 d 0.32 λ: 0.1000000\n",
      "shapes torch.Size([5, 7]) torch.Size([5, 7])\n",
      "Parameter containing:\n",
      "tensor([[ 0.2962,  1.6017,  1.0472,  0.5617,  0.2074,  0.4044,  0.7246],\n",
      "        [-0.3740,  1.3857,  0.8912,  0.7480,  0.2928,  0.4940,  0.8266],\n",
      "        [-0.3688,  1.3423,  0.3967,  0.3689,  0.6797,  0.3908,  0.9634],\n",
      "        [ 0.3682,  1.3462,  2.2689, -0.4989,  0.8517,  0.3689,  0.7516],\n",
      "        [ 0.2439,  1.2217,  1.1746,  0.3785,  0.6127,  0.3945,  0.7181]],\n",
      "       dtype=torch.float64, requires_grad=True)\n",
      "torch.Size([])\n",
      "Epoch 24/50 - Loss: nan 21534.534 b: 0.91 d 0.31 λ: 0.1000000\n",
      "shapes torch.Size([5, 7]) torch.Size([5, 7])\n",
      "Parameter containing:\n",
      "tensor([[ 0.2753,  1.5592,  1.0496,  0.5724,  0.2383,  0.4147,  0.7653],\n",
      "        [-0.3875,  1.3511,  0.8886,  0.7331,  0.2856,  0.5108,  0.8483],\n",
      "        [-0.3824,  1.3504,  0.3236,  0.3824,  0.6617,  0.4047,  1.0275],\n",
      "        [ 0.3816,  1.3251,  2.2451, -0.5079,  0.8999,  0.3824,  0.7895],\n",
      "        [ 0.2229,  1.1724,  1.1635,  0.3920,  0.6162,  0.4084,  0.7560]],\n",
      "       dtype=torch.float64, requires_grad=True)\n",
      "torch.Size([])\n",
      "Epoch 25/50 - Loss: nan 21192.877 b: 0.93 d 0.30 λ: 0.1000000\n",
      "shapes torch.Size([5, 7]) torch.Size([5, 7])\n",
      "Parameter containing:\n",
      "tensor([[ 0.2525,  1.5132,  1.0475,  0.5809,  0.2617,  0.4238,  0.8027],\n",
      "        [-0.3998,  1.3141,  0.8835,  0.7152,  0.2761,  0.5259,  0.8712],\n",
      "        [-0.3947,  1.3622,  0.3018,  0.3947,  0.6397,  0.4174,  1.0908],\n",
      "        [ 0.3937,  1.3043,  2.2163, -0.5162,  0.9437,  0.3948,  0.8236],\n",
      "        [ 0.2099,  1.1212,  1.1473,  0.4043,  0.6170,  0.4211,  0.7934]],\n",
      "       dtype=torch.float64, requires_grad=True)\n",
      "torch.Size([])\n",
      "Epoch 26/50 - Loss: nan 20870.999 b: 0.94 d 0.29 λ: 0.1000000\n",
      "shapes torch.Size([5, 7]) torch.Size([5, 7])\n",
      "Parameter containing:\n",
      "tensor([[ 0.2288,  1.4641,  1.0416,  0.5875,  0.2782,  0.4320,  0.8361],\n",
      "        [-0.4109,  1.2749,  0.8771,  0.6961,  0.2644,  0.5394,  0.8943],\n",
      "        [-0.4059,  1.3772,  0.3193,  0.4060,  0.6140,  0.4291,  1.1521],\n",
      "        [ 0.4047,  1.2840,  2.1832, -0.5237,  0.9832,  0.4060,  0.8543],\n",
      "        [ 0.2085,  1.0686,  1.1275,  0.4155,  0.6152,  0.4327,  0.8291]],\n",
      "       dtype=torch.float64, requires_grad=True)\n",
      "torch.Size([])\n"
     ]
    },
    {
     "ename": "KeyboardInterrupt",
     "evalue": "",
     "output_type": "error",
     "traceback": [
      "\u001B[0;31m---------------------------------------------------------------------------\u001B[0m",
      "\u001B[0;31mKeyboardInterrupt\u001B[0m                         Traceback (most recent call last)",
      "\u001B[0;32m<ipython-input-77-ffa7cae97a72>\u001B[0m in \u001B[0;36m<module>\u001B[0;34m\u001B[0m\n\u001B[0;32m----> 1\u001B[0;31m \u001B[0moutput\u001B[0m\u001B[0;34m,\u001B[0m \u001B[0mparams\u001B[0m \u001B[0;34m=\u001B[0m \u001B[0mtrain\u001B[0m\u001B[0;34m(\u001B[0m\u001B[0moptimizer\u001B[0m\u001B[0;34m,\u001B[0m \u001B[0;36m50\u001B[0m\u001B[0;34m,\u001B[0m \u001B[0mrtol\u001B[0m\u001B[0;34m=\u001B[0m\u001B[0;36m1e-3\u001B[0m\u001B[0;34m,\u001B[0m \u001B[0matol\u001B[0m\u001B[0;34m=\u001B[0m\u001B[0;36m1e-4\u001B[0m\u001B[0;34m)\u001B[0m\u001B[0;34m\u001B[0m\u001B[0;34m\u001B[0m\u001B[0m\n\u001B[0m\u001B[1;32m      2\u001B[0m \u001B[0mnew_losses\u001B[0m\u001B[0;34m,\u001B[0m \u001B[0m_\u001B[0m\u001B[0;34m,\u001B[0m\u001B[0m_\u001B[0m\u001B[0;34m,\u001B[0m\u001B[0m_\u001B[0m \u001B[0;34m=\u001B[0m \u001B[0mparams\u001B[0m\u001B[0;34m\u001B[0m\u001B[0;34m\u001B[0m\u001B[0m\n\u001B[1;32m      3\u001B[0m \u001B[0mnew_losses\u001B[0m \u001B[0;34m=\u001B[0m \u001B[0mnp\u001B[0m\u001B[0;34m.\u001B[0m\u001B[0marray\u001B[0m\u001B[0;34m(\u001B[0m\u001B[0mnew_losses\u001B[0m\u001B[0;34m)\u001B[0m\u001B[0;34m\u001B[0m\u001B[0;34m\u001B[0m\u001B[0m\n\u001B[1;32m      4\u001B[0m \u001B[0mlosses\u001B[0m \u001B[0;34m=\u001B[0m \u001B[0mnp\u001B[0m\u001B[0;34m.\u001B[0m\u001B[0mconcatenate\u001B[0m\u001B[0;34m(\u001B[0m\u001B[0;34m[\u001B[0m\u001B[0mlosses\u001B[0m\u001B[0;34m,\u001B[0m \u001B[0mnew_losses\u001B[0m\u001B[0;34m]\u001B[0m\u001B[0;34m,\u001B[0m \u001B[0maxis\u001B[0m\u001B[0;34m=\u001B[0m\u001B[0;36m0\u001B[0m\u001B[0;34m)\u001B[0m\u001B[0;34m\u001B[0m\u001B[0;34m\u001B[0m\u001B[0m\n\u001B[1;32m      5\u001B[0m \u001B[0;34m\u001B[0m\u001B[0m\n",
      "\u001B[0;32m<ipython-input-75-bbd038a1f173>\u001B[0m in \u001B[0;36mtrain\u001B[0;34m(optimizer, epochs, rtol, atol)\u001B[0m\n\u001B[1;32m     20\u001B[0m         \u001B[0mtotal_loss\u001B[0m \u001B[0;34m=\u001B[0m \u001B[0mloss\u001B[0m \u001B[0;34m+\u001B[0m \u001B[0mkl\u001B[0m\u001B[0;34m\u001B[0m\u001B[0;34m\u001B[0m\u001B[0m\n\u001B[1;32m     21\u001B[0m \u001B[0;34m\u001B[0m\u001B[0m\n\u001B[0;32m---> 22\u001B[0;31m         \u001B[0mtotal_loss\u001B[0m\u001B[0;34m.\u001B[0m\u001B[0mbackward\u001B[0m\u001B[0;34m(\u001B[0m\u001B[0;34m)\u001B[0m\u001B[0;34m\u001B[0m\u001B[0;34m\u001B[0m\u001B[0m\n\u001B[0m\u001B[1;32m     23\u001B[0m         print('Epoch %d/%d - Loss: %.3f %.3f b: %.2f d %.2f λ: %.7f' % (\n\u001B[1;32m     24\u001B[0m             \u001B[0mepoch\u001B[0m \u001B[0;34m+\u001B[0m \u001B[0;36m1\u001B[0m\u001B[0;34m,\u001B[0m \u001B[0mepochs\u001B[0m\u001B[0;34m,\u001B[0m \u001B[0mloss\u001B[0m\u001B[0;34m.\u001B[0m\u001B[0mitem\u001B[0m\u001B[0;34m(\u001B[0m\u001B[0;34m)\u001B[0m\u001B[0;34m,\u001B[0m\u001B[0;34m\u001B[0m\u001B[0;34m\u001B[0m\u001B[0m\n",
      "\u001B[0;32m~/miniconda3/envs/wishart/lib/python3.7/site-packages/torch/tensor.py\u001B[0m in \u001B[0;36mbackward\u001B[0;34m(self, gradient, retain_graph, create_graph)\u001B[0m\n\u001B[1;32m    219\u001B[0m                 \u001B[0mretain_graph\u001B[0m\u001B[0;34m=\u001B[0m\u001B[0mretain_graph\u001B[0m\u001B[0;34m,\u001B[0m\u001B[0;34m\u001B[0m\u001B[0;34m\u001B[0m\u001B[0m\n\u001B[1;32m    220\u001B[0m                 create_graph=create_graph)\n\u001B[0;32m--> 221\u001B[0;31m         \u001B[0mtorch\u001B[0m\u001B[0;34m.\u001B[0m\u001B[0mautograd\u001B[0m\u001B[0;34m.\u001B[0m\u001B[0mbackward\u001B[0m\u001B[0;34m(\u001B[0m\u001B[0mself\u001B[0m\u001B[0;34m,\u001B[0m \u001B[0mgradient\u001B[0m\u001B[0;34m,\u001B[0m \u001B[0mretain_graph\u001B[0m\u001B[0;34m,\u001B[0m \u001B[0mcreate_graph\u001B[0m\u001B[0;34m)\u001B[0m\u001B[0;34m\u001B[0m\u001B[0;34m\u001B[0m\u001B[0m\n\u001B[0m\u001B[1;32m    222\u001B[0m \u001B[0;34m\u001B[0m\u001B[0m\n\u001B[1;32m    223\u001B[0m     \u001B[0;32mdef\u001B[0m \u001B[0mregister_hook\u001B[0m\u001B[0;34m(\u001B[0m\u001B[0mself\u001B[0m\u001B[0;34m,\u001B[0m \u001B[0mhook\u001B[0m\u001B[0;34m)\u001B[0m\u001B[0;34m:\u001B[0m\u001B[0;34m\u001B[0m\u001B[0;34m\u001B[0m\u001B[0m\n",
      "\u001B[0;32m~/miniconda3/envs/wishart/lib/python3.7/site-packages/torch/autograd/__init__.py\u001B[0m in \u001B[0;36mbackward\u001B[0;34m(tensors, grad_tensors, retain_graph, create_graph, grad_variables)\u001B[0m\n\u001B[1;32m    130\u001B[0m     Variable._execution_engine.run_backward(\n\u001B[1;32m    131\u001B[0m         \u001B[0mtensors\u001B[0m\u001B[0;34m,\u001B[0m \u001B[0mgrad_tensors_\u001B[0m\u001B[0;34m,\u001B[0m \u001B[0mretain_graph\u001B[0m\u001B[0;34m,\u001B[0m \u001B[0mcreate_graph\u001B[0m\u001B[0;34m,\u001B[0m\u001B[0;34m\u001B[0m\u001B[0;34m\u001B[0m\u001B[0m\n\u001B[0;32m--> 132\u001B[0;31m         allow_unreachable=True)  # allow_unreachable flag\n\u001B[0m\u001B[1;32m    133\u001B[0m \u001B[0;34m\u001B[0m\u001B[0m\n\u001B[1;32m    134\u001B[0m \u001B[0;34m\u001B[0m\u001B[0m\n",
      "\u001B[0;32m~/miniconda3/envs/wishart/lib/python3.7/site-packages/torch/autograd/function.py\u001B[0m in \u001B[0;36mapply\u001B[0;34m(self, *args)\u001B[0m\n\u001B[1;32m     85\u001B[0m     \u001B[0m_is_legacy\u001B[0m \u001B[0;34m=\u001B[0m \u001B[0;32mFalse\u001B[0m\u001B[0;34m\u001B[0m\u001B[0;34m\u001B[0m\u001B[0m\n\u001B[1;32m     86\u001B[0m \u001B[0;34m\u001B[0m\u001B[0m\n\u001B[0;32m---> 87\u001B[0;31m     \u001B[0;32mdef\u001B[0m \u001B[0mapply\u001B[0m\u001B[0;34m(\u001B[0m\u001B[0mself\u001B[0m\u001B[0;34m,\u001B[0m \u001B[0;34m*\u001B[0m\u001B[0margs\u001B[0m\u001B[0;34m)\u001B[0m\u001B[0;34m:\u001B[0m\u001B[0;34m\u001B[0m\u001B[0;34m\u001B[0m\u001B[0m\n\u001B[0m\u001B[1;32m     88\u001B[0m         \u001B[0;31m# _forward_cls is defined by derived class\u001B[0m\u001B[0;34m\u001B[0m\u001B[0;34m\u001B[0m\u001B[0;34m\u001B[0m\u001B[0m\n\u001B[1;32m     89\u001B[0m         \u001B[0;32mreturn\u001B[0m \u001B[0mself\u001B[0m\u001B[0;34m.\u001B[0m\u001B[0m_forward_cls\u001B[0m\u001B[0;34m.\u001B[0m\u001B[0mbackward\u001B[0m\u001B[0;34m(\u001B[0m\u001B[0mself\u001B[0m\u001B[0;34m,\u001B[0m \u001B[0;34m*\u001B[0m\u001B[0margs\u001B[0m\u001B[0;34m)\u001B[0m  \u001B[0;31m# type: ignore\u001B[0m\u001B[0;34m\u001B[0m\u001B[0;34m\u001B[0m\u001B[0m\n",
      "\u001B[0;31mKeyboardInterrupt\u001B[0m: "
     ]
    },
    {
     "data": {
      "text/plain": "<Figure size 432x288 with 1 Axes>",
      "image/png": "[encoded data removed]"
     },
     "metadata": {
      "needs_background": "light"
     },
     "output_type": "display_data"
    }
   ],
   "source": [
    "output, params = train(optimizer, 50, rtol=1e-3, atol=1e-4)\n",
    "new_losses, _,_,_ = params\n",
    "new_losses = np.array(new_losses)\n",
    "losses = np.concatenate([losses, new_losses], axis=0)"
   ],
   "metadata": {
    "collapsed": false,
    "pycharm": {
     "name": "#%%\n"
    }
   }
  },
  {
   "cell_type": "markdown",
   "source": [
    "### Outputs after training"
   ],
   "metadata": {
    "collapsed": false,
    "pycharm": {
     "name": "#%% md\n"
    }
   }
  },
  {
   "cell_type": "code",
   "execution_count": 51,
   "outputs": [
    {
     "name": "stdout",
     "output_type": "stream",
     "text": [
      "(50, 2)\n",
      "torch.Size([5, 100])\n",
      "torch.Size([80, 80])\n"
     ]
    },
    {
     "data": {
      "text/plain": "<Figure size 360x144 with 1 Axes>",
      "image/png": "[encoded data removed]"
     },
     "metadata": {
      "needs_background": "light"
     },
     "output_type": "display_data"
    },
    {
     "data": {
      "text/plain": "<Figure size 360x144 with 1 Axes>",
      "image/png": "[encoded data removed]"
     },
     "metadata": {
      "needs_background": "light"
     },
     "output_type": "display_data"
    },
    {
     "data": {
      "text/plain": "<Figure size 360x576 with 5 Axes>",
      "image/png": "[encoded data removed]"
     },
     "metadata": {
      "needs_background": "light"
     },
     "output_type": "display_data"
    },
    {
     "data": {
      "text/plain": "<Figure size 360x216 with 1 Axes>",
      "image/png": "[encoded data removed]"
     },
     "metadata": {
      "needs_background": "light"
     },
     "output_type": "display_data"
    }
   ],
   "source": [
    "print(losses.shape)\n",
    "plt.figure(figsize=(5, 2))\n",
    "plt.plot(losses[50:, 0])\n",
    "plt.title('Loss')\n",
    "plt.figure(figsize=(5, 2))\n",
    "plt.plot(losses[50:, 1])\n",
    "plt.title('KL-divergence')\n",
    "\n",
    "plot_genes()\n",
    "plot_tfs()"
   ],
   "metadata": {
    "collapsed": false,
    "pycharm": {
     "name": "#%%\n"
    }
   }
  },
  {
   "cell_type": "code",
   "execution_count": 39,
   "outputs": [
    {
     "name": "stdout",
     "output_type": "stream",
     "text": [
      "(50,)\n",
      "Parameter containing:\n",
      "tensor([[3.0514],\n",
      "        [1.9328],\n",
      "        [2.3411],\n",
      "        [0.8497],\n",
      "        [2.6980]], dtype=torch.float64, requires_grad=True)\n"
     ]
    },
    {
     "data": {
      "text/plain": "<Figure size 360x432 with 3 Axes>",
      "image/png": "[encoded data removed]"
     },
     "metadata": {
      "needs_background": "light"
     },
     "output_type": "display_data"
    }
   ],
   "source": [
    "plt.figure(figsize=(5, 6))\n",
    "_, basal, decay, lengthscale = params\n",
    "basals = np.array(basal)\n",
    "decays = np.array(decay)\n",
    "lengthscales = np.array(lengthscale)\n",
    "print(lengthscales.shape)\n",
    "plt.subplot(311)\n",
    "# print(basals[:,0])\n",
    "plt.plot(basals[:,0])\n",
    "# plt.ylim(1, 1.5)\n",
    "plt.subplot(312)\n",
    "plt.plot(decays[:,0])\n",
    "# plt.ylim(0.5, 1)\n",
    "plt.subplot(313)\n",
    "plt.plot(lengthscales)\n",
    "# plt.ylim(1, 1.2)\n",
    "\n",
    "print(model.basal_rate)\n"
   ],
   "metadata": {
    "collapsed": false,
    "pycharm": {
     "name": "#%%\n"
    }
   }
  },
  {
   "cell_type": "code",
   "execution_count": 40,
   "outputs": [
    {
     "data": {
      "text/plain": "Parameter containing:\ntensor([[-3.1375],\n        [-3.1689],\n        [-2.9132],\n        [-2.5274],\n        [-3.1247]], dtype=torch.float64, requires_grad=True)"
     },
     "execution_count": 40,
     "metadata": {},
     "output_type": "execute_result"
    }
   ],
   "source": [
    "model.sensitivity\n",
    "# model.gp.covar_module.outputscale"
   ],
   "metadata": {
    "collapsed": false,
    "pycharm": {
     "name": "#%%\n"
    }
   }
  },
  {
   "cell_type": "code",
   "execution_count": null,
   "outputs": [],
   "source": [
    "\n",
    "\n"
   ],
   "metadata": {
    "collapsed": false,
    "pycharm": {
     "name": "#%%\n",
     "is_executing": true
    }
   }
  }
 ],
 "metadata": {
  "kernelspec": {
   "display_name": "Python 3",
   "language": "python",
   "name": "python3"
  },
  "language_info": {
   "codemirror_mode": {
    "name": "ipython",
    "version": 2
   },
   "file_extension": ".py",
   "mimetype": "text/x-python",
   "name": "python",
   "nbconvert_exporter": "python",
   "pygments_lexer": "ipython2",
   "version": "2.7.6"
  }
 },
 "nbformat": 4,
 "nbformat_minor": 0
}