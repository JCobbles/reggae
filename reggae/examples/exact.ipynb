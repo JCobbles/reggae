{
 "cells": [
  {
   "cell_type": "code",
   "execution_count": 1,
   "metadata": {
    "collapsed": true
   },
   "outputs": [],
   "source": [
    "from timeit import default_timer as timer\n",
    "\n",
    "from matplotlib import pyplot as plt\n",
    "import numpy as np\n",
    "import torch\n",
    "import gpytorch\n",
    "\n",
    "from reggae.gp import AnalyticalLFM\n",
    "from reggae.data_loaders import load_barenco_puma, DataHolder\n",
    "from reggae.gp.options import Options\n",
    "from reggae.plot.variational_plotters import Plotter\n",
    "\n",
    "f64 = np.float64"
   ]
  },
  {
   "cell_type": "markdown",
   "source": [
    "# Linear Latent Force Model Example\n",
    "Replication of the paper by Lawrence et al., 2006. https://papers.nips.cc/paper/3119-modelling-transcriptional-regulation-using-gaussian-processes.pdf\n",
    "\n",
    "### Probesets\n",
    "\n",
    "The original paper restricted their interest to 5 known targets of p53:\n",
    "\n",
    "| Target       | Probeset     | Aliases    |\n",
    "| :------------- | :----------: | :----------- |\n",
    "| DDB2 |  203409_at    | |\n",
    "| p21   | 202284_s_at | p21CIP1, CDKN1A |\n",
    "| SESN1/hPA26   | 218346_s_at |  |\n",
    "| BIK   | 205780_at |  |\n",
    "| TNFRSF10b   | 209294_x_at, 209295_at, 210405_x_at |  |"
   ],
   "metadata": {
    "collapsed": false,
    "pycharm": {
     "name": "#%% md\n"
    }
   }
  },
  {
   "cell_type": "code",
   "execution_count": 2,
   "outputs": [
    {
     "data": {
      "text/plain": "           cARP1-0hrs.CEL  cARP1-2hrs.CEL  cARP1-4hrs.CEL  cARP1-6hrs.CEL  \\\nDDB2             7.593549        9.122439       10.192915       10.154778   \nBIK              2.905667        6.756250        8.154665        8.222898   \nTNFRSF10b        3.949437        7.283147        8.395333        8.147465   \np21              1.268160        7.375613        9.600847        8.485615   \nSESN1            6.354029        7.703226        8.818485        8.608104   \n\n           cARP1-8hrs.CEL  cARP1-10hrs.CEL  cARP1-12hrs.CEL  cARP2-0hrs.CEL  \\\nDDB2            10.103455         9.529804         9.567770        7.464445   \nBIK              8.074595         7.026262         7.001658        4.649182   \nTNFRSF10b        8.456766         7.370946         7.409659        3.828976   \np21              8.134573         7.045323         7.171770       -0.094250   \nSESN1            8.803210         7.860224         7.981910        6.613610   \n\n           cARP2-2hrs.CEL  cARP2-4hrs.CEL  ...  cARP2-8hrs.CEL  \\\nDDB2             8.611248        9.255834  ...        8.149388   \nBIK              5.926949        7.346142  ...        4.659069   \nTNFRSF10b        6.362601        7.576429  ...        5.897853   \np21              6.530376        7.910253  ...        4.803834   \nSESN1            7.371426        7.885798  ...        6.658747   \n\n           cARP2-10hrs.CEL  cARP2-12hrs.CEL  cARP3-0hrs.CEL  cARP3-2hrs.CEL  \\\nDDB2              9.367364         9.342251        7.353484        7.665469   \nBIK               6.772798         7.005289        5.204797        4.139740   \nTNFRSF10b         6.975229         7.280981        4.822874        5.389953   \np21               6.971544         6.890152        1.397808        6.120564   \nSESN1             7.583440         7.503870        6.158661        6.178353   \n\n           cARP3-4hrs.CEL  cARP3-6hrs.CEL  cARP3-8hrs.CEL  cARP3-10hrs.CEL  \\\nDDB2             9.798868        9.345199        8.757635         8.357981   \nBIK              8.056000        7.122196        5.633847         4.488936   \nTNFRSF10b        7.749164        7.387181        6.083331         6.024036   \np21              8.724741        7.821537        6.483512         5.945312   \nSESN1            8.384142        7.993519        7.102504         6.990250   \n\n           cARP3-12hrs.CEL  \nDDB2              9.026733  \nBIK               5.724764  \nTNFRSF10b         6.771154  \np21               6.653475  \nSESN1             7.327648  \n\n[5 rows x 21 columns]",
      "text/html": "<div>\n<style scoped>\n    .dataframe tbody tr th:only-of-type {\n        vertical-align: middle;\n    }\n\n    .dataframe tbody tr th {\n        vertical-align: top;\n    }\n\n    .dataframe thead th {\n        text-align: right;\n    }\n</style>\n<table border=\"1\" class=\"dataframe\">\n  <thead>\n    <tr style=\"text-align: right;\">\n      <th></th>\n      <th>cARP1-0hrs.CEL</th>\n      <th>cARP1-2hrs.CEL</th>\n      <th>cARP1-4hrs.CEL</th>\n      <th>cARP1-6hrs.CEL</th>\n      <th>cARP1-8hrs.CEL</th>\n      <th>cARP1-10hrs.CEL</th>\n      <th>cARP1-12hrs.CEL</th>\n      <th>cARP2-0hrs.CEL</th>\n      <th>cARP2-2hrs.CEL</th>\n      <th>cARP2-4hrs.CEL</th>\n      <th>...</th>\n      <th>cARP2-8hrs.CEL</th>\n      <th>cARP2-10hrs.CEL</th>\n      <th>cARP2-12hrs.CEL</th>\n      <th>cARP3-0hrs.CEL</th>\n      <th>cARP3-2hrs.CEL</th>\n      <th>cARP3-4hrs.CEL</th>\n      <th>cARP3-6hrs.CEL</th>\n      <th>cARP3-8hrs.CEL</th>\n      <th>cARP3-10hrs.CEL</th>\n      <th>cARP3-12hrs.CEL</th>\n    </tr>\n  </thead>\n  <tbody>\n    <tr>\n      <th>DDB2</th>\n      <td>7.593549</td>\n      <td>9.122439</td>\n      <td>10.192915</td>\n      <td>10.154778</td>\n      <td>10.103455</td>\n      <td>9.529804</td>\n      <td>9.567770</td>\n      <td>7.464445</td>\n      <td>8.611248</td>\n      <td>9.255834</td>\n      <td>...</td>\n      <td>8.149388</td>\n      <td>9.367364</td>\n      <td>9.342251</td>\n      <td>7.353484</td>\n      <td>7.665469</td>\n      <td>9.798868</td>\n      <td>9.345199</td>\n      <td>8.757635</td>\n      <td>8.357981</td>\n      <td>9.026733</td>\n    </tr>\n    <tr>\n      <th>BIK</th>\n      <td>2.905667</td>\n      <td>6.756250</td>\n      <td>8.154665</td>\n      <td>8.222898</td>\n      <td>8.074595</td>\n      <td>7.026262</td>\n      <td>7.001658</td>\n      <td>4.649182</td>\n      <td>5.926949</td>\n      <td>7.346142</td>\n      <td>...</td>\n      <td>4.659069</td>\n      <td>6.772798</td>\n      <td>7.005289</td>\n      <td>5.204797</td>\n      <td>4.139740</td>\n      <td>8.056000</td>\n      <td>7.122196</td>\n      <td>5.633847</td>\n      <td>4.488936</td>\n      <td>5.724764</td>\n    </tr>\n    <tr>\n      <th>TNFRSF10b</th>\n      <td>3.949437</td>\n      <td>7.283147</td>\n      <td>8.395333</td>\n      <td>8.147465</td>\n      <td>8.456766</td>\n      <td>7.370946</td>\n      <td>7.409659</td>\n      <td>3.828976</td>\n      <td>6.362601</td>\n      <td>7.576429</td>\n      <td>...</td>\n      <td>5.897853</td>\n      <td>6.975229</td>\n      <td>7.280981</td>\n      <td>4.822874</td>\n      <td>5.389953</td>\n      <td>7.749164</td>\n      <td>7.387181</td>\n      <td>6.083331</td>\n      <td>6.024036</td>\n      <td>6.771154</td>\n    </tr>\n    <tr>\n      <th>p21</th>\n      <td>1.268160</td>\n      <td>7.375613</td>\n      <td>9.600847</td>\n      <td>8.485615</td>\n      <td>8.134573</td>\n      <td>7.045323</td>\n      <td>7.171770</td>\n      <td>-0.094250</td>\n      <td>6.530376</td>\n      <td>7.910253</td>\n      <td>...</td>\n      <td>4.803834</td>\n      <td>6.971544</td>\n      <td>6.890152</td>\n      <td>1.397808</td>\n      <td>6.120564</td>\n      <td>8.724741</td>\n      <td>7.821537</td>\n      <td>6.483512</td>\n      <td>5.945312</td>\n      <td>6.653475</td>\n    </tr>\n    <tr>\n      <th>SESN1</th>\n      <td>6.354029</td>\n      <td>7.703226</td>\n      <td>8.818485</td>\n      <td>8.608104</td>\n      <td>8.803210</td>\n      <td>7.860224</td>\n      <td>7.981910</td>\n      <td>6.613610</td>\n      <td>7.371426</td>\n      <td>7.885798</td>\n      <td>...</td>\n      <td>6.658747</td>\n      <td>7.583440</td>\n      <td>7.503870</td>\n      <td>6.158661</td>\n      <td>6.178353</td>\n      <td>8.384142</td>\n      <td>7.993519</td>\n      <td>7.102504</td>\n      <td>6.990250</td>\n      <td>7.327648</td>\n    </tr>\n  </tbody>\n</table>\n<p>5 rows × 21 columns</p>\n</div>"
     },
     "metadata": {},
     "output_type": "display_data"
    }
   ],
   "source": [
    "m_observed, f_observed, σ2_m_pre, σ2_f_pre, t = load_barenco_puma('../data/')\n",
    "\n",
    "m_df, m_observed = m_observed\n",
    "f_df, f_observed = f_observed\n",
    "# Shape of m_observed = (replicates, genes, times)\n",
    "m_observed = m_observed\n",
    "f_observed = f_observed\n",
    "data = (m_observed, f_observed)\n",
    "replicate = 0\n",
    "\n",
    "σ2_m_pre = torch.tensor(f64(σ2_m_pre[replicate]))\n",
    "\n",
    "display(m_df)\n",
    "\n",
    "num_genes = m_observed.shape[1]\n",
    "N_m = m_observed.shape[2]\n",
    "granularity = 100\n",
    "τ = np.linspace(0, 12, granularity)\n",
    "time = (t, τ, None)\n",
    "options = Options()\n",
    "\n",
    "y = torch.tensor(m_observed[replicate]).reshape(-1)\n",
    "t = torch.tensor(t, dtype=torch.float32).repeat(num_genes)"
   ],
   "metadata": {
    "collapsed": false,
    "pycharm": {
     "name": "#%%\n"
    }
   }
  },
  {
   "cell_type": "code",
   "execution_count": 3,
   "outputs": [
    {
     "name": "stdout",
     "output_type": "stream",
     "text": [
      "tensor([1.5954, 1.2341, 1.2988, 0.7225, 1.4636], dtype=torch.float64,\n",
      "       grad_fn=<MulBackward0>)\n"
     ]
    }
   ],
   "source": [
    "\n",
    "\n",
    "# likelihood = gpytorch.likelihoods.MultitaskGaussianLikelihood(num_tasks=num_genes)\n",
    "likelihood = gpytorch.likelihoods.GaussianLikelihood()\n",
    "model = AnalyticalLFM(t, y, num_genes, likelihood, σ2_m_pre.reshape(-1))\n",
    "Kxx = model.covar_module(t, t).evaluate()\n",
    "# plt.imshow(Kxx.detach())\n",
    "# set to training mode and train\n",
    "# Use the adam optimizer\n",
    "optimizer = torch.optim.Adam([\n",
    "    {'params': model.parameters()},  # Includes GaussianLikelihood parameters\n",
    "], lr=0.1)\n",
    "# \"Loss\" for GPs - the marginal log likelihood\n",
    "mll = gpytorch.mlls.ExactMarginalLogLikelihood(likelihood, model)\n",
    "\n",
    "\n",
    "def train(epochs):\n",
    "    model.train()\n",
    "    likelihood.train()\n",
    "\n",
    "    for i in range(epochs):\n",
    "        # Zero gradients from previous iteration\n",
    "        optimizer.zero_grad()\n",
    "        # Output from model\n",
    "        output = model(t)\n",
    "        # print(output.mean.shape)\n",
    "        # plt.imshow(output.covariance_matrix.detach())\n",
    "        # plt.colorbar()\n",
    "        # Calc loss and backprop gradients\n",
    "        loss = -mll(output, y)\n",
    "        loss.backward()\n",
    "        print('Iter %d/%d - Loss: %.3f   lengthscale: %.3f   noise: %.3f' % (\n",
    "            i + 1, epochs, loss.item(),\n",
    "            model.covar_module.lengthscale.item(),\n",
    "            model.likelihood.noise.item()\n",
    "        ))\n",
    "        optimizer.step()\n",
    "\n",
    "    # Get into evaluation (predictive posterior) mode and predict\n",
    "    model.eval()\n",
    "    likelihood.eval()"
   ],
   "metadata": {
    "collapsed": false,
    "pycharm": {
     "name": "#%%\n"
    }
   }
  },
  {
   "cell_type": "code",
   "execution_count": 4,
   "outputs": [
    {
     "name": "stdout",
     "output_type": "stream",
     "text": [
      "Iter 1/50 - Loss: 2.081   lengthscale: 1.414   noise: 0.693\n",
      "Iter 2/50 - Loss: 2.068   lengthscale: 1.365   noise: 0.644\n",
      "Iter 3/50 - Loss: 2.058   lengthscale: 1.318   noise: 0.598\n",
      "Iter 4/50 - Loss: 2.048   lengthscale: 1.275   noise: 0.555\n",
      "Iter 5/50 - Loss: 2.039   lengthscale: 1.237   noise: 0.513\n",
      "Iter 6/50 - Loss: 2.029   lengthscale: 1.202   noise: 0.475\n",
      "Iter 7/50 - Loss: 2.020   lengthscale: 1.169   noise: 0.439\n",
      "Iter 8/50 - Loss: 2.012   lengthscale: 1.137   noise: 0.405\n",
      "Iter 9/50 - Loss: 2.004   lengthscale: 1.107   noise: 0.374\n",
      "Iter 10/50 - Loss: 1.996   lengthscale: 1.079   noise: 0.344\n",
      "Iter 11/50 - Loss: 1.988   lengthscale: 1.052   noise: 0.318\n",
      "Iter 12/50 - Loss: 1.980   lengthscale: 1.027   noise: 0.293\n",
      "Iter 13/50 - Loss: 1.972   lengthscale: 1.004   noise: 0.270\n",
      "Iter 14/50 - Loss: 1.965   lengthscale: 0.983   noise: 0.249\n",
      "Iter 15/50 - Loss: 1.957   lengthscale: 0.963   noise: 0.230\n",
      "Iter 16/50 - Loss: 1.950   lengthscale: 0.945   noise: 0.212\n",
      "Iter 17/50 - Loss: 1.942   lengthscale: 0.929   noise: 0.196\n",
      "Iter 18/50 - Loss: 1.934   lengthscale: 0.915   noise: 0.181\n",
      "Iter 19/50 - Loss: 1.926   lengthscale: 0.901   noise: 0.167\n",
      "Iter 20/50 - Loss: 1.918   lengthscale: 0.889   noise: 0.155\n",
      "Iter 21/50 - Loss: 1.911   lengthscale: 0.878   noise: 0.144\n",
      "Iter 22/50 - Loss: 1.903   lengthscale: 0.868   noise: 0.134\n",
      "Iter 23/50 - Loss: 1.895   lengthscale: 0.859   noise: 0.124\n",
      "Iter 24/50 - Loss: 1.887   lengthscale: 0.850   noise: 0.116\n",
      "Iter 25/50 - Loss: 1.878   lengthscale: 0.843   noise: 0.108\n",
      "Iter 26/50 - Loss: 1.870   lengthscale: 0.836   noise: 0.101\n",
      "Iter 27/50 - Loss: 1.861   lengthscale: 0.829   noise: 0.094\n",
      "Iter 28/50 - Loss: 1.853   lengthscale: 0.823   noise: 0.088\n",
      "Iter 29/50 - Loss: 1.844   lengthscale: 0.818   noise: 0.083\n",
      "Iter 30/50 - Loss: 1.835   lengthscale: 0.813   noise: 0.078\n",
      "Iter 31/50 - Loss: 1.826   lengthscale: 0.809   noise: 0.073\n",
      "Iter 32/50 - Loss: 1.817   lengthscale: 0.804   noise: 0.069\n",
      "Iter 33/50 - Loss: 1.808   lengthscale: 0.801   noise: 0.065\n",
      "Iter 34/50 - Loss: 1.798   lengthscale: 0.797   noise: 0.062\n",
      "Iter 35/50 - Loss: 1.788   lengthscale: 0.794   noise: 0.058\n",
      "Iter 36/50 - Loss: 1.778   lengthscale: 0.791   noise: 0.055\n",
      "Iter 37/50 - Loss: 1.768   lengthscale: 0.788   noise: 0.053\n",
      "Iter 38/50 - Loss: 1.757   lengthscale: 0.786   noise: 0.050\n",
      "Iter 39/50 - Loss: 1.747   lengthscale: 0.783   noise: 0.048\n",
      "Iter 40/50 - Loss: 1.736   lengthscale: 0.781   noise: 0.045\n",
      "Iter 41/50 - Loss: 1.725   lengthscale: 0.779   noise: 0.043\n",
      "Iter 42/50 - Loss: 1.713   lengthscale: 0.777   noise: 0.041\n",
      "Iter 43/50 - Loss: 1.701   lengthscale: 0.776   noise: 0.040\n",
      "Iter 44/50 - Loss: 1.689   lengthscale: 0.774   noise: 0.038\n",
      "Iter 45/50 - Loss: 1.677   lengthscale: 0.773   noise: 0.036\n",
      "Iter 46/50 - Loss: 1.664   lengthscale: 0.771   noise: 0.035\n",
      "Iter 47/50 - Loss: 1.651   lengthscale: 0.770   noise: 0.033\n",
      "Iter 48/50 - Loss: 1.638   lengthscale: 0.769   noise: 0.032\n",
      "Iter 49/50 - Loss: 1.624   lengthscale: 0.768   noise: 0.031\n",
      "Iter 50/50 - Loss: 1.611   lengthscale: 0.767   noise: 0.030\n"
     ]
    }
   ],
   "source": [
    "train(epochs = 50)\n"
   ],
   "metadata": {
    "collapsed": false,
    "pycharm": {
     "name": "#%%\n"
    }
   }
  },
  {
   "cell_type": "code",
   "execution_count": 5,
   "outputs": [
    {
     "name": "stdout",
     "output_type": "stream",
     "text": [
      "torch.Size([100, 500])\n"
     ]
    },
    {
     "ename": "RuntimeError",
     "evalue": "The size of tensor a (100) must match the size of tensor b (500) at non-singleton dimension 0",
     "output_type": "error",
     "traceback": [
      "\u001B[1;31m---------------------------------------------------------------------------\u001B[0m",
      "\u001B[1;31mRuntimeError\u001B[0m                              Traceback (most recent call last)",
      "\u001B[1;32m<ipython-input-5-a8e396324d4c>\u001B[0m in \u001B[0;36m<module>\u001B[1;34m\u001B[0m\n\u001B[0;32m      2\u001B[0m \u001B[1;33m\u001B[0m\u001B[0m\n\u001B[0;32m      3\u001B[0m \u001B[0mt_predict\u001B[0m \u001B[1;33m=\u001B[0m \u001B[0mtorch\u001B[0m\u001B[1;33m.\u001B[0m\u001B[0mlinspace\u001B[0m\u001B[1;33m(\u001B[0m\u001B[1;33m-\u001B[0m\u001B[1;36m1\u001B[0m\u001B[1;33m,\u001B[0m \u001B[1;36m12\u001B[0m\u001B[1;33m+\u001B[0m\u001B[1;36m1\u001B[0m\u001B[1;33m,\u001B[0m \u001B[1;36m100\u001B[0m\u001B[1;33m)\u001B[0m\u001B[1;33m\u001B[0m\u001B[1;33m\u001B[0m\u001B[0m\n\u001B[1;32m----> 4\u001B[1;33m \u001B[0mm\u001B[0m \u001B[1;33m=\u001B[0m \u001B[0mplotter\u001B[0m\u001B[1;33m.\u001B[0m\u001B[0mplot_genes\u001B[0m\u001B[1;33m(\u001B[0m\u001B[0mt_predict\u001B[0m\u001B[1;33m,\u001B[0m \u001B[0mt_scatter\u001B[0m\u001B[1;33m=\u001B[0m\u001B[0mt\u001B[0m\u001B[1;33m[\u001B[0m\u001B[1;33m:\u001B[0m\u001B[1;36m7\u001B[0m\u001B[1;33m]\u001B[0m\u001B[1;33m,\u001B[0m \u001B[0my_scatter\u001B[0m\u001B[1;33m=\u001B[0m\u001B[0mm_observed\u001B[0m\u001B[1;33m[\u001B[0m\u001B[1;36m0\u001B[0m\u001B[1;33m]\u001B[0m\u001B[1;33m)\u001B[0m\u001B[1;33m\u001B[0m\u001B[1;33m\u001B[0m\u001B[0m\n\u001B[0m\u001B[0;32m      5\u001B[0m \u001B[1;33m\u001B[0m\u001B[0m\n\u001B[0;32m      6\u001B[0m \u001B[0mm\u001B[0m \u001B[1;33m=\u001B[0m \u001B[0mmodel\u001B[0m\u001B[1;33m.\u001B[0m\u001B[0mpredict_m\u001B[0m\u001B[1;33m(\u001B[0m\u001B[0mt_predict\u001B[0m\u001B[1;33m)\u001B[0m\u001B[1;33m\u001B[0m\u001B[1;33m\u001B[0m\u001B[0m\n",
      "\u001B[1;32m~\\Documents\\proj\\reggae\\reggae\\plot\\variational_plotters.py\u001B[0m in \u001B[0;36mplot_genes\u001B[1;34m(self, t_predict, t_scatter, y_scatter)\u001B[0m\n\u001B[0;32m    120\u001B[0m             \u001B[0my_scatter\u001B[0m\u001B[1;33m:\u001B[0m \u001B[0mtensor\u001B[0m \u001B[1;33m(\u001B[0m\u001B[0mJ\u001B[0m\u001B[1;33m,\u001B[0m \u001B[0mT\u001B[0m\u001B[1;33m)\u001B[0m\u001B[1;33m\u001B[0m\u001B[1;33m\u001B[0m\u001B[0m\n\u001B[0;32m    121\u001B[0m         \"\"\"\n\u001B[1;32m--> 122\u001B[1;33m         \u001B[0mm\u001B[0m \u001B[1;33m=\u001B[0m \u001B[0mself\u001B[0m\u001B[1;33m.\u001B[0m\u001B[0mmodel\u001B[0m\u001B[1;33m.\u001B[0m\u001B[0mpredict_m\u001B[0m\u001B[1;33m(\u001B[0m\u001B[0mt_predict\u001B[0m\u001B[1;33m)\u001B[0m\u001B[1;33m\u001B[0m\u001B[1;33m\u001B[0m\u001B[0m\n\u001B[0m\u001B[0;32m    123\u001B[0m         \u001B[0mprint\u001B[0m\u001B[1;33m(\u001B[0m\u001B[0mm\u001B[0m\u001B[1;33m.\u001B[0m\u001B[0mshape\u001B[0m\u001B[1;33m)\u001B[0m\u001B[1;33m\u001B[0m\u001B[1;33m\u001B[0m\u001B[0m\n\u001B[0;32m    124\u001B[0m \u001B[1;33m\u001B[0m\u001B[0m\n",
      "\u001B[1;32m~\\Documents\\proj\\reggae\\reggae\\gp\\exact\\models.py\u001B[0m in \u001B[0;36mpredict_m\u001B[1;34m(self, pred_t, compute_var)\u001B[0m\n\u001B[0;32m     33\u001B[0m             \u001B[0mK_xstarxstar\u001B[0m \u001B[1;33m=\u001B[0m \u001B[0mself\u001B[0m\u001B[1;33m.\u001B[0m\u001B[0mcovar_module\u001B[0m\u001B[1;33m.\u001B[0m\u001B[0mK_xstarx\u001B[0m\u001B[1;33m(\u001B[0m\u001B[0mpred_t\u001B[0m\u001B[1;33m,\u001B[0m \u001B[0mpred_t\u001B[0m\u001B[1;33m)\u001B[0m\u001B[1;33m\u001B[0m\u001B[1;33m\u001B[0m\u001B[0m\n\u001B[0;32m     34\u001B[0m             \u001B[0mprint\u001B[0m\u001B[1;33m(\u001B[0m\u001B[0mK_xstarxstar\u001B[0m\u001B[1;33m.\u001B[0m\u001B[0mshape\u001B[0m\u001B[1;33m)\u001B[0m\u001B[1;33m\u001B[0m\u001B[1;33m\u001B[0m\u001B[0m\n\u001B[1;32m---> 35\u001B[1;33m             \u001B[0mvar\u001B[0m \u001B[1;33m=\u001B[0m \u001B[0mK_xstarxstar\u001B[0m \u001B[1;33m-\u001B[0m \u001B[0mtorch\u001B[0m\u001B[1;33m.\u001B[0m\u001B[0mmatmul\u001B[0m\u001B[1;33m(\u001B[0m\u001B[0mK_xstarxK_inv\u001B[0m\u001B[1;33m,\u001B[0m \u001B[0mtorch\u001B[0m\u001B[1;33m.\u001B[0m\u001B[0mtranspose\u001B[0m\u001B[1;33m(\u001B[0m\u001B[0mK_xstarx\u001B[0m\u001B[1;33m,\u001B[0m \u001B[1;36m0\u001B[0m\u001B[1;33m,\u001B[0m \u001B[1;36m1\u001B[0m\u001B[1;33m)\u001B[0m\u001B[1;33m)\u001B[0m\u001B[1;33m\u001B[0m\u001B[1;33m\u001B[0m\u001B[0m\n\u001B[0m\u001B[0;32m     36\u001B[0m             \u001B[0mvar\u001B[0m \u001B[1;33m=\u001B[0m \u001B[0mtorch\u001B[0m\u001B[1;33m.\u001B[0m\u001B[0mdiagonal\u001B[0m\u001B[1;33m(\u001B[0m\u001B[0mvar\u001B[0m\u001B[1;33m,\u001B[0m \u001B[0mdim1\u001B[0m\u001B[1;33m=\u001B[0m\u001B[1;36m0\u001B[0m\u001B[1;33m,\u001B[0m \u001B[0mdim2\u001B[0m\u001B[1;33m=\u001B[0m\u001B[1;36m1\u001B[0m\u001B[1;33m)\u001B[0m\u001B[1;33m.\u001B[0m\u001B[0mview\u001B[0m\u001B[1;33m(\u001B[0m\u001B[0mself\u001B[0m\u001B[1;33m.\u001B[0m\u001B[0mnum_genes\u001B[0m\u001B[1;33m,\u001B[0m \u001B[0mpred_t\u001B[0m\u001B[1;33m.\u001B[0m\u001B[0mshape\u001B[0m\u001B[1;33m[\u001B[0m\u001B[1;36m0\u001B[0m\u001B[1;33m]\u001B[0m\u001B[1;33m)\u001B[0m\u001B[1;33m\u001B[0m\u001B[1;33m\u001B[0m\u001B[0m\n\u001B[0;32m     37\u001B[0m             \u001B[1;32mreturn\u001B[0m \u001B[0mmu\u001B[0m\u001B[1;33m,\u001B[0m \u001B[0mvar\u001B[0m\u001B[1;33m\u001B[0m\u001B[1;33m\u001B[0m\u001B[0m\n",
      "\u001B[1;31mRuntimeError\u001B[0m: The size of tensor a (100) must match the size of tensor b (500) at non-singleton dimension 0"
     ]
    }
   ],
   "source": [
    "plotter = Plotter(model, m_df.index)\n",
    "\n",
    "t_predict = torch.linspace(-1, 12+1, 100)\n",
    "m = plotter.plot_genes(t_predict, t_scatter=t[:7], y_scatter=m_observed[0])\n",
    "\n",
    "m = model.predict_m(t_predict)"
   ],
   "metadata": {
    "collapsed": false,
    "pycharm": {
     "name": "#%%\n"
    }
   }
  },
  {
   "cell_type": "code",
   "execution_count": 20,
   "outputs": [
    {
     "name": "stdout",
     "output_type": "stream",
     "text": [
      "kxx torch.Size([35, 35]) torch.float32\n",
      "7\n",
      "torch.Size([7, 100])\n",
      "dist torch.Size([7, 100])\n",
      "kxf torch.Size([7, 100])\n",
      "torch.Size([7, 100])\n",
      "dist torch.Size([7, 100])\n",
      "kxf torch.Size([7, 100])\n",
      "torch.Size([7, 100])\n",
      "dist torch.Size([7, 100])\n",
      "kxf torch.Size([7, 100])\n",
      "torch.Size([7, 100])\n",
      "dist torch.Size([7, 100])\n",
      "kxf torch.Size([7, 100])\n",
      "torch.Size([7, 100])\n",
      "dist torch.Size([7, 100])\n",
      "kxf torch.Size([7, 100])\n",
      "torch.Size([100, 35]) torch.Size([35, 1])\n",
      "torch.Size([100, 1])\n"
     ]
    },
    {
     "ename": "ValueError",
     "evalue": "too many values to unpack (expected 2)",
     "output_type": "error",
     "traceback": [
      "\u001B[1;31m---------------------------------------------------------------------------\u001B[0m",
      "\u001B[1;31mValueError\u001B[0m                                Traceback (most recent call last)",
      "\u001B[1;32m<ipython-input-20-adbd65999bf0>\u001B[0m in \u001B[0;36m<module>\u001B[1;34m\u001B[0m\n\u001B[1;32m----> 1\u001B[1;33m \u001B[0mpred_f\u001B[0m\u001B[1;33m,\u001B[0m \u001B[0mvar_f\u001B[0m \u001B[1;33m=\u001B[0m \u001B[0mmodel\u001B[0m\u001B[1;33m.\u001B[0m\u001B[0mpredict_f\u001B[0m\u001B[1;33m(\u001B[0m\u001B[0mt_predict\u001B[0m\u001B[1;33m)\u001B[0m\u001B[1;33m\u001B[0m\u001B[1;33m\u001B[0m\u001B[0m\n\u001B[0m\u001B[0;32m      2\u001B[0m \u001B[1;33m\u001B[0m\u001B[0m\n\u001B[0;32m      3\u001B[0m \u001B[0mplt\u001B[0m\u001B[1;33m.\u001B[0m\u001B[0mplot\u001B[0m\u001B[1;33m(\u001B[0m\u001B[0mpred_f\u001B[0m\u001B[1;33m.\u001B[0m\u001B[0mdetach\u001B[0m\u001B[1;33m(\u001B[0m\u001B[1;33m)\u001B[0m\u001B[1;33m)\u001B[0m\u001B[1;33m\u001B[0m\u001B[1;33m\u001B[0m\u001B[0m\n\u001B[0;32m      4\u001B[0m \u001B[1;33m\u001B[0m\u001B[0m\n",
      "\u001B[1;31mValueError\u001B[0m: too many values to unpack (expected 2)"
     ]
    }
   ],
   "source": [
    "pred_f = model.predict_f(t_predict)\n",
    "\n",
    "plt.plot(pred_f.detach())"
   ],
   "metadata": {
    "collapsed": false,
    "pycharm": {
     "name": "#%%\n"
    }
   }
  },
  {
   "cell_type": "code",
   "execution_count": 8,
   "outputs": [
    {
     "ename": "NameError",
     "evalue": "name 'predict' is not defined",
     "output_type": "error",
     "traceback": [
      "\u001B[1;31m---------------------------------------------------------------------------\u001B[0m",
      "\u001B[1;31mNameError\u001B[0m                                 Traceback (most recent call last)",
      "\u001B[1;32m<ipython-input-8-7582aef2df6b>\u001B[0m in \u001B[0;36m<module>\u001B[1;34m\u001B[0m\n\u001B[1;32m----> 1\u001B[1;33m \u001B[0mobserved_pred\u001B[0m \u001B[1;33m=\u001B[0m \u001B[0mpredict\u001B[0m\u001B[1;33m(\u001B[0m\u001B[0mmodel\u001B[0m\u001B[1;33m,\u001B[0m \u001B[0mlikelihood\u001B[0m\u001B[1;33m)\u001B[0m\u001B[1;33m\u001B[0m\u001B[1;33m\u001B[0m\u001B[0m\n\u001B[0m\u001B[0;32m      2\u001B[0m \u001B[1;31m# plot results\u001B[0m\u001B[1;33m\u001B[0m\u001B[1;33m\u001B[0m\u001B[1;33m\u001B[0m\u001B[0m\n\u001B[0;32m      3\u001B[0m \u001B[0mplot\u001B[0m\u001B[1;33m(\u001B[0m\u001B[0mobserved_pred\u001B[0m\u001B[1;33m)\u001B[0m\u001B[1;33m\u001B[0m\u001B[1;33m\u001B[0m\u001B[0m\n\u001B[0;32m      4\u001B[0m \u001B[1;33m\u001B[0m\u001B[0m\n\u001B[0;32m      5\u001B[0m \u001B[1;33m\u001B[0m\u001B[0m\n",
      "\u001B[1;31mNameError\u001B[0m: name 'predict' is not defined"
     ]
    }
   ],
   "source": [
    "observed_pred = predict(model, likelihood)\n",
    "# plot results\n",
    "plot(observed_pred)\n",
    "\n",
    "\n",
    "\n",
    "#USE CG"
   ],
   "metadata": {
    "collapsed": false,
    "pycharm": {
     "name": "#%%\n"
    }
   }
  },
  {
   "cell_type": "code",
   "execution_count": null,
   "outputs": [],
   "source": [],
   "metadata": {
    "collapsed": false,
    "pycharm": {
     "name": "#%%\n"
    }
   }
  },
  {
   "cell_type": "code",
   "execution_count": null,
   "outputs": [],
   "source": [
    "plotter = Plotter(data, model, m_df.index)"
   ],
   "metadata": {
    "collapsed": false,
    "pycharm": {
     "name": "#%%\n"
    }
   }
  },
  {
   "cell_type": "code",
   "execution_count": null,
   "outputs": [],
   "source": [
    "plt.figure(figsize=(6, 6))\n",
    "plotter.plot_genes(τ)\n",
    "plt.figure(figsize=(6, 3))\n",
    "plotter.plot_tf(τ);\n",
    "plt.figure()\n",
    "plotter.plot_kinetics()"
   ],
   "metadata": {
    "collapsed": false,
    "pycharm": {
     "name": "#%%\n"
    }
   }
  },
  {
   "cell_type": "code",
   "execution_count": null,
   "outputs": [],
   "source": [],
   "metadata": {
    "collapsed": false,
    "pycharm": {
     "name": "#%%\n"
    }
   }
  }
 ],
 "metadata": {
  "kernelspec": {
   "name": "pycharm-efda258d",
   "language": "python",
   "display_name": "PyCharm (gskproj)"
  },
  "language_info": {
   "codemirror_mode": {
    "name": "ipython",
    "version": 2
   },
   "file_extension": ".py",
   "mimetype": "text/x-python",
   "name": "python",
   "nbconvert_exporter": "python",
   "pygments_lexer": "ipython2",
   "version": "2.7.6"
  }
 },
 "nbformat": 4,
 "nbformat_minor": 0
}