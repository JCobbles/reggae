{
 "cells": [
  {
   "cell_type": "code",
   "execution_count": 1,
   "metadata": {
    "collapsed": true
   },
   "outputs": [],
   "source": [
    "import numpy as np\n",
    "import torch\n",
    "\n",
    "from torch.nn import Linear\n",
    "from torch.utils.data import DataLoader, TensorDataset\n",
    "\n",
    "from functools import partial\n",
    "from matplotlib import pyplot as plt\n",
    "\n",
    "from lafomo.datasets import ToyTimeSeries, ToySpatialTranscriptomics\n",
    "from lafomo.models import NeuralOperator"
   ]
  },
  {
   "cell_type": "code",
   "execution_count": 2,
   "outputs": [
    {
     "name": "stdout",
     "output_type": "stream",
     "text": [
      "(1765050, 4)\n"
     ]
    },
    {
     "name": "stderr",
     "output_type": "stream",
     "text": [
      "C:\\Users\\Jacob\\miniconda3\\envs\\wishart\\lib\\site-packages\\ipykernel_launcher.py:34: UserWarning: To copy construct from a tensor, it is recommended to use sourceTensor.clone().detach() or sourceTensor.clone().detach().requires_grad_(True), rather than torch.tensor(sourceTensor).\n"
     ]
    },
    {
     "data": {
      "text/plain": "<Figure size 720x360 with 2 Axes>",
      "image/png": "[encoded data removed]"
     },
     "metadata": {},
     "output_type": "display_data"
    }
   ],
   "source": [
    "from lafomo.utilities.torch import get_image\n",
    "from lafomo.plot import Plotter, plot_spatiotemporal_data\n",
    "\n",
    "dataset = ToySpatialTranscriptomics('../../data', one_fixed_sample=False)\n",
    "\n",
    "i = 49\n",
    "orig_data = dataset.orig_data[1681*(i):1681*(i+1)]\n",
    "images = [get_image(orig_data, i) for i in range(2, 4)]\n",
    "tx = dataset.data[0][0]\n",
    "num_t = tx[0, :].unique().shape[0]\n",
    "num_x = tx[1, :].unique().shape[0]\n",
    "\n",
    "ts = tx[0, :].unique().sort()[0].numpy()\n",
    "xs = tx[1, :].unique().sort()[0].numpy()\n",
    "extent = [ts[0], ts[-1], xs[0], xs[-1]]\n",
    "\n",
    "plot_spatiotemporal_data(\n",
    "    [torch.tensor(orig_data[:, 2]).view(num_t, num_x).t()],\n",
    "    extent, nrows=1, ncols=1\n",
    ")\n",
    "block_dim = 2\n",
    "\n",
    "ntest = 50\n",
    "ntrain = len(dataset) - ntest\n",
    "batch_size = 50\n",
    "learning_rate = 0.001\n",
    "\n",
    "modes = 12\n",
    "width = 32\n",
    "def generate_neural_dataset(dataset, ntrain, ntest):\n",
    "    s = 41\n",
    "    tx, _ = dataset.data[0]\n",
    "    grid = tx.t()\n",
    "    grid = torch.tensor(grid.reshape(1,s,s,2), dtype=torch.float)\n",
    "\n",
    "    data = torch.tensor(dataset.orig_data.reshape(len(dataset), s, s, 4), dtype=torch.float)\n",
    "    y_train = data[:ntrain, ..., 2:3]\n",
    "    x_train = data[:ntrain, ..., 3]\n",
    "    y_test = data[ntrain:, ..., 2:3]\n",
    "    x_test = data[ntrain:, ..., 3]\n",
    "\n",
    "    x_train = torch.cat([x_train.reshape(ntrain,s,s,1), grid.repeat(ntrain,1,1,1)], dim=3)\n",
    "    x_test = torch.cat([x_test.reshape(ntest,s,s,1), grid.repeat(ntest,1,1,1)], dim=3)\n",
    "\n",
    "    train_loader = DataLoader(torch.utils.data.TensorDataset(x_train, y_train),\n",
    "                              batch_size=batch_size, shuffle=True)\n",
    "    if ntest > 0:\n",
    "        test_loader = DataLoader(torch.utils.data.TensorDataset(x_test, y_test),\n",
    "                              batch_size=ntest, shuffle=True)\n",
    "        return train_loader, test_loader\n",
    "    else:\n",
    "        return train_loader\n",
    "\n",
    "train_loader, test_loader = generate_neural_dataset(dataset, ntrain, ntest)"
   ],
   "metadata": {
    "collapsed": false,
    "pycharm": {
     "name": "#%%\n"
    }
   }
  },
  {
   "cell_type": "code",
   "execution_count": null,
   "outputs": [],
   "source": [
    "num_outputs = 10\n",
    "basal_rate = 0.1 + 0.3 * torch.rand(torch.Size([num_outputs, 1]), dtype=torch.float32)\n",
    "sensitivity = 2 + 5 * torch.rand(torch.Size([num_outputs, 1]), dtype=torch.float32)\n",
    "decay_rate = 0.2 + 2 * torch.rand(torch.Size([num_outputs, 1]), dtype=torch.float32)\n"
   ],
   "metadata": {
    "collapsed": false,
    "pycharm": {
     "name": "#%%\n"
    }
   }
  },
  {
   "cell_type": "code",
   "execution_count": null,
   "outputs": [],
   "source": [
    "ntrain = 15\n",
    "ntest = 5\n",
    "learning_rate = 1e-3\n",
    "batch_size = ntrain\n",
    "\n",
    "datasets = list()\n",
    "for i in range(ntrain + ntest):\n",
    "    dataset = ToyTimeSeries(num_outputs, 1, 10, params=[basal_rate, sensitivity, decay_rate], plot=False)\n",
    "    datasets.append(dataset)"
   ],
   "metadata": {
    "collapsed": false,
    "pycharm": {
     "name": "#%%\n"
    }
   }
  },
  {
   "cell_type": "code",
   "execution_count": null,
   "outputs": [],
   "source": [
    "x_train = torch.cat([dataset.m_observed for dataset in datasets[:ntrain]]).permute(0, 2, 1)\n",
    "x_test = torch.cat([dataset.m_observed for dataset in datasets[ntrain:]]).permute(0, 2, 1)\n",
    "T_in = 11\n",
    "grid = datasets[0].t_observed.reshape(1, -1, 1).repeat(ntrain, 1, 1) # (1, 32, 32, 40, 1)\n",
    "grid_test = datasets[0].t_observed.reshape(1, -1, 1).repeat(ntest, 1, 1) # (1, 32, 32, 40, 1)\n",
    "\n",
    "x_train = torch.cat([grid, x_train], dim=-1)\n",
    "x_test = torch.cat([grid_test, x_test], dim=-1)\n",
    "y_train = torch.cat([dataset.f_observed for dataset in datasets[:ntrain]]).permute(0, 2, 1)\n",
    "y_test = torch.cat([dataset.f_observed for dataset in datasets[ntrain:]]).permute(0, 2, 1)\n",
    "print('y', y_train.shape)\n",
    "print('x', x_train.shape)\n",
    "\n",
    "train_loader = DataLoader(torch.utils.data.TensorDataset(x_train, y_train),\n",
    "                          batch_size=batch_size, shuffle=True)\n",
    "test_loader = DataLoader(torch.utils.data.TensorDataset(x_test, y_test),\n",
    "                          batch_size=ntest, shuffle=True)"
   ],
   "metadata": {
    "collapsed": false,
    "pycharm": {
     "name": "#%%\n"
    }
   }
  },
  {
   "cell_type": "code",
   "execution_count": 3,
   "outputs": [
    {
     "name": "stdout",
     "output_type": "stream",
     "text": [
      "55777\n"
     ]
    }
   ],
   "source": [
    "width = 20\n",
    "modes = 4\n",
    "model = NeuralOperator(block_dim, modes, width)\n",
    "print(model.count_params())"
   ],
   "metadata": {
    "collapsed": false,
    "pycharm": {
     "name": "#%%\n"
    }
   }
  },
  {
   "cell_type": "code",
   "execution_count": 5,
   "outputs": [],
   "source": [
    "optimizer = torch.optim.Adam(model.parameters(), lr=learning_rate, weight_decay=1e-4)\n",
    "\n",
    "trainer = NeuralOperatorTrainer(model, [optimizer], train_loader, test_loader)"
   ],
   "metadata": {
    "collapsed": false,
    "pycharm": {
     "name": "#%%\n"
    }
   }
  },
  {
   "cell_type": "code",
   "execution_count": 15,
   "outputs": [
    {
     "name": "stdout",
     "output_type": "stream",
     "text": [
      "Epoch 023/042 - Loss: 0.50 (0.25 0.01 0.52)\n",
      "Epoch 024/042 - Loss: 0.49 (0.24 0.01 0.51)\n",
      "Epoch 025/042 - Loss: 0.48 (0.22 0.00 0.50)\n",
      "Epoch 026/042 - Loss: 0.46 (0.21 0.00 0.49)\n",
      "Epoch 027/042 - Loss: 0.45 (0.20 0.00 0.48)\n",
      "Epoch 028/042 - Loss: 0.44 (0.19 0.00 0.46)\n",
      "Epoch 029/042 - Loss: 0.43 (0.18 0.00 0.45)\n",
      "Epoch 030/042 - Loss: 0.42 (0.17 0.00 0.44)\n",
      "Epoch 031/042 - Loss: 0.41 (0.16 0.00 0.44)\n",
      "Epoch 032/042 - Loss: 0.40 (0.15 0.00 0.43)\n",
      "Epoch 033/042 - Loss: 0.40 (0.15 0.00 0.41)\n",
      "Epoch 034/042 - Loss: 0.38 (0.14 0.00 0.40)\n",
      "Epoch 035/042 - Loss: 0.38 (0.14 0.00 0.40)\n",
      "Epoch 036/042 - Loss: 0.37 (0.13 0.00 0.39)\n",
      "Epoch 037/042 - Loss: 0.36 (0.13 0.00 0.39)\n",
      "Epoch 038/042 - Loss: 0.36 (0.12 0.00 0.38)\n",
      "Epoch 039/042 - Loss: 0.35 (0.12 0.00 0.37)\n",
      "Epoch 040/042 - Loss: 0.34 (0.11 0.00 0.36)\n",
      "Epoch 041/042 - Loss: 0.34 (0.11 0.00 0.36)\n",
      "Epoch 042/042 - Loss: 0.33 (0.11 0.00 0.36)\n"
     ]
    }
   ],
   "source": [
    "trainer.train(20);"
   ],
   "metadata": {
    "collapsed": false,
    "pycharm": {
     "name": "#%%\n"
    }
   }
  },
  {
   "cell_type": "code",
   "execution_count": 12,
   "outputs": [],
   "source": [
    "def show_result(x, y, out):\n",
    "    if block_dim == 1:\n",
    "        fig, axes = plt.subplots(ncols=2, figsize=(8, 3))\n",
    "        for i in range(1, 5):\n",
    "            axes[0].plot(x[0, :, i])#.shape, y.shape)\n",
    "        axes[1].plot(y[0, :, 0])\n",
    "        axes[1].plot(out[0, :, 0].detach())\n",
    "    else:\n",
    "        plot_spatiotemporal_data(\n",
    "            [\n",
    "                out[0, ..., 0].detach().view(num_t, num_x).t(),\n",
    "                y[0, ..., 0].view(num_t, num_x).t(),\n",
    "                x[0, ..., 0].view(num_t, num_x).t()\n",
    "            ],\n",
    "            extent, nrows=1, ncols=3,\n",
    "            titles=['Latent (Prediction)', 'Latent (Target)', 'Output (Target)']\n",
    "        )"
   ],
   "metadata": {
    "collapsed": false,
    "pycharm": {
     "name": "#%%\n"
    }
   }
  },
  {
   "cell_type": "code",
   "execution_count": 14,
   "outputs": [
    {
     "data": {
      "text/plain": "<Figure size 720x360 with 6 Axes>",
      "image/png": "[encoded data removed]"
     },
     "metadata": {},
     "output_type": "display_data"
    }
   ],
   "source": [
    "x, y = next(iter(test_loader))\n",
    "out = model(x)\n",
    "show_result(x, y, out)"
   ],
   "metadata": {
    "collapsed": false,
    "pycharm": {
     "name": "#%%\n"
    }
   }
  },
  {
   "cell_type": "code",
   "execution_count": null,
   "outputs": [],
   "source": [
    "dataset = ToySpatialTranscriptomics('../../data', one_fixed_sample=True)\n",
    "train_loader = generate_neural_dataset(dataset, 1, 0)\n",
    "x, y = next(iter(train_loader))\n",
    "out = model(x)\n",
    "show_result(x, y, out)"
   ],
   "metadata": {
    "collapsed": false,
    "pycharm": {
     "name": "#%%\n"
    }
   }
  },
  {
   "cell_type": "code",
   "execution_count": null,
   "outputs": [],
   "source": [],
   "metadata": {
    "collapsed": false,
    "pycharm": {
     "name": "#%%\n"
    }
   }
  },
  {
   "cell_type": "code",
   "execution_count": null,
   "outputs": [],
   "source": [
    "path = '../../data/ns_V1e-3_N5000_T50.mat'\n",
    "from h5py import File\n",
    "\n",
    "# u shape (50, 64, 64, 5000)\n",
    "# a shape (64, 64, 5000)\n",
    "# t shape (50, 1)\n",
    "\n",
    "f = File(path)\n",
    "print(f)\n",
    "print(f['u'])\n",
    "\n",
    "modes = 4\n",
    "width = 20\n",
    "\n",
    "batch_size = 10\n",
    "batch_size2 = batch_size\n",
    "\n",
    "epochs = 10\n",
    "learning_rate = 0.0025\n",
    "scheduler_step = 100\n",
    "scheduler_gamma = 0.5\n",
    "\n",
    "print(epochs, learning_rate, scheduler_step, scheduler_gamma)\n",
    "\n",
    "\n",
    "runtime = np.zeros(2, )\n",
    "\n",
    "ntrain = 100\n",
    "sub = 1\n",
    "S = 64 // sub\n",
    "T_in = 10\n",
    "T = 40\n",
    "S = 32\n",
    "\n",
    "# train_a = reader.read_field('u')[:ntrain,::sub,::sub,:T_in]\n",
    "# train_u = reader.read_field('u')[:ntrain,::sub,::sub,T_in:T+T_in]\n",
    "train_a = torch.rand((100, 32, 32, 50))[:, :, :, :T_in]\n",
    "train_a = train_a.reshape(ntrain,S,S,1,T_in).repeat([1,1,1,T,1])\n",
    "print(train_a.shape)\n",
    "# pad locations (x,y,t)\n",
    "gridx = torch.tensor(np.linspace(0, 1, S), dtype=torch.float)\n",
    "# 32\n",
    "gridx = gridx.reshape(1, S, 1, 1, 1).repeat([1, 1, S, T, 1])\n",
    "# 1, 32, 32, 40, 1 (1, S, S, T, 1)\n",
    "gridy = torch.tensor(np.linspace(0, 1, S), dtype=torch.float)\n",
    "gridy = gridy.reshape(1, 1, S, 1, 1).repeat([1, S, 1, T, 1])\n",
    "gridt = torch.tensor(np.linspace(0, 1, T+1)[1:], dtype=torch.float)\n",
    "gridt = gridt.reshape(1, 1, 1, T, 1).repeat([1, S, S, 1, 1])\n",
    "# (1, S, S, T, 1)\n",
    "print(gridt.shape, gridx.shape)\n",
    "# for t in range(10):\n",
    "#     plt.figure()\n",
    "#     plt.imshow(gridy.squeeze()[:, :, t])\n",
    "print(gridx.repeat([ntrain,1,1,1,1]).shape)\n",
    "train_a = torch.cat((gridx.repeat([ntrain,1,1,1,1]), gridy.repeat([ntrain,1,1,1,1]),\n",
    "                       gridt.repeat([ntrain,1,1,1,1]), train_a), dim=-1)\n",
    "print(train_a.shape)"
   ],
   "metadata": {
    "collapsed": false,
    "pycharm": {
     "name": "#%%\n"
    }
   }
  },
  {
   "cell_type": "code",
   "execution_count": null,
   "outputs": [],
   "source": [
    "\n"
   ],
   "metadata": {
    "collapsed": false,
    "pycharm": {
     "name": "#%%\n"
    }
   }
  },
  {
   "cell_type": "code",
   "execution_count": null,
   "outputs": [],
   "source": [
    "# This part checks our complex multiplication code:\n",
    "def compl_mul1d(a, b):\n",
    "    # (batch, in_channel, x ), (in_channel, out_channel, x) -> (batch, out_channel, x)\n",
    "    op = partial(torch.einsum, \"bix,iox->box\")\n",
    "    return torch.stack([\n",
    "        op(a[..., 0], b[..., 0]) - op(a[..., 1], b[..., 1]),\n",
    "        op(a[..., 1], b[..., 0]) + op(a[..., 0], b[..., 1])\n",
    "    ], dim=-1)\n",
    "\n",
    "weights1_sep = torch.rand(20, 20, 4, 2)\n",
    "weights1_sep = torch.rand(64, 64, 4, 2)\n",
    "weights1 = weights1_sep[:, :, :, 0] + weights1_sep[:, :, :, 1] * 1j\n",
    "x = torch.randn((15, 20, 11))\n",
    "x = torch.randn((100, 64, 1024))\n",
    "print(x.shape)"
   ],
   "metadata": {
    "collapsed": false,
    "pycharm": {
     "name": "#%%\n"
    }
   }
  },
  {
   "cell_type": "code",
   "execution_count": null,
   "outputs": [],
   "source": [
    "x_ft = torch.fft.rfft(x)\n",
    "x_ft_sep = torch.stack([\n",
    "    torch.real(x_ft),\n",
    "    torch.imag(x_ft)\n",
    "    ], dim=-1)\n",
    "print(x_ft_sep.shape)"
   ],
   "metadata": {
    "collapsed": false,
    "pycharm": {
     "name": "#%%\n"
    }
   }
  },
  {
   "cell_type": "code",
   "execution_count": null,
   "outputs": [],
   "source": [
    "mul2 = compl_mul1d(x_ft_sep[:, :, :4], weights1_sep)\n",
    "print(mul2)"
   ],
   "metadata": {
    "collapsed": false,
    "pycharm": {
     "name": "#%%\n"
    }
   }
  },
  {
   "cell_type": "code",
   "execution_count": null,
   "outputs": [],
   "source": [
    "op = partial(torch.einsum, \"bix,iox->box\")\n",
    "    # return torch.stack([\n",
    "    #     op(a[..., 0], b[..., 0]) - op(a[..., 1], b[..., 1]),\n",
    "    #     op(a[..., 1], b[..., 0]) + op(a[..., 0], b[..., 1])\n",
    "    # ], dim=-1)\n",
    "\n",
    "A = x_ft[:, :, :4]#.unsqueeze(1)\n",
    "B = weights1#.unsqueeze(0)\n",
    "print(A.shape, B.shape)\n",
    "print(A.type())\n",
    "# print(B.type(torch.complex64))\n",
    "mul = op(A, B.type(torch.complex64))\n",
    "# mul = torch.matmul(A, B)\n",
    "print(mul.shape, mul2.shape)\n",
    "\n",
    "print(mul2[where])\n",
    "\n"
   ],
   "metadata": {
    "collapsed": false,
    "pycharm": {
     "name": "#%%\n"
    }
   }
  },
  {
   "cell_type": "code",
   "execution_count": null,
   "outputs": [],
   "source": [
    "ntrain = 1000\n",
    "ntest = 100\n",
    "\n",
    "sub = 2**3 #subsampling rate\n",
    "h = 2**13 // sub #total grid size divided by the subsampling rate\n",
    "s = h\n",
    "\n",
    "batch_size = 20\n",
    "learning_rate = 0.001\n",
    "\n",
    "grid = np.linspace(0, 2*np.pi, s).reshape(1, s, 1)\n",
    "grid = torch.tensor(grid, dtype=torch.float)\n",
    "x_train = torch.randn(ntrain, s, 1)\n",
    "x_train = torch.cat([x_train.reshape(ntrain,s,1), grid.repeat(ntrain,1,1)], dim=2)\n",
    "\n",
    "modes = 16\n",
    "width = 64\n",
    "print(x_train.shape)\n",
    "x = Linear(2, width)(x_train).permute(0, 2, 1)\n",
    "print(x.shape)"
   ],
   "metadata": {
    "collapsed": false,
    "pycharm": {
     "name": "#%%\n"
    }
   }
  }
 ],
 "metadata": {
  "kernelspec": {
   "name": "pycharm-222640c7",
   "language": "python",
   "display_name": "PyCharm (reggae)"
  },
  "language_info": {
   "codemirror_mode": {
    "name": "ipython",
    "version": 2
   },
   "file_extension": ".py",
   "mimetype": "text/x-python",
   "name": "python",
   "nbconvert_exporter": "python",
   "pygments_lexer": "ipython2",
   "version": "2.7.6"
  }
 },
 "nbformat": 4,
 "nbformat_minor": 0
}