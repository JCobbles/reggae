{
 "cells": [
  {
   "cell_type": "code",
   "execution_count": 1,
   "metadata": {
    "collapsed": true
   },
   "outputs": [],
   "source": [
    "import torch\n",
    "from matplotlib import pyplot as plt\n",
    "from torch.optim import Adam\n",
    "from gpytorch.optim import NGD\n",
    "\n",
    "from alfi.models import generate_multioutput_gp, TrainMode\n",
    "from alfi.plot import Plotter1d, tight_kwargs\n",
    "from alfi.utilities.torch import softplus\n",
    "from alfi.datasets import SingleCellKidney, Pancreas\n",
    "from alfi.impl.trainers import EMTrainer, EMPreEstimator\n",
    "from alfi.impl.odes import RNAVelocityLFM, RNAVelocityConfiguration\n",
    "\n",
    "import numpy as np"
   ]
  },
  {
   "cell_type": "code",
   "execution_count": 2,
   "outputs": [],
   "source": [
    "# kidney_path = '/Volumes/ultra/genomics/scRNA-seq/GSE131685_RAW_kidney/velocyto'\n",
    "# kidney_path = 'F:/genomics/scRNA-seq/GSE131685_RAW_kidney/velocyto'\n",
    "#\n",
    "# dataset = SingleCellKidney(calc_moments=True, raw_data_dir=kidney_path)\n",
    "single_gene = True\n",
    "cpe_index = 1710\n",
    "\n",
    "if single_gene:\n",
    "    dataset = Pancreas(data_dir='../../data', gene_index=cpe_index)\n",
    "    cpe_index = 0\n",
    "else:\n",
    "    dataset = Pancreas(data_dir='../../data')\n",
    "# cpe_index = np.where(dataset.loom.var.index == 'Cpe')[0][0]\n",
    "num_cells = dataset[0].shape[1]\n",
    "num_genes = 1 if single_gene else 2000\n",
    "num_outputs = 2 * num_genes\n",
    "num_latents = 1 if single_gene else 10\n",
    "num_inducing = 20  # (I x m x 1)\n",
    "num_timepoint_choices = 200\n",
    "end_t = 20"
   ],
   "metadata": {
    "collapsed": false,
    "pycharm": {
     "name": "#%%\n"
    }
   }
  },
  {
   "cell_type": "code",
   "execution_count": 3,
   "outputs": [
    {
     "name": "stdout",
     "output_type": "stream",
     "text": [
      "tensor([[0.1141]])\n",
      "torch.Size([1, 1]) tensor(0.1141) tensor(0.1141) tensor([0.1141])\n"
     ]
    }
   ],
   "source": [
    "data = dataset.m_observed.squeeze().clone()\n",
    "y_target = data\n",
    "u_y = y_target[:num_genes]  # (num_genes, num_cells)\n",
    "s_y = y_target[num_genes:]  # (num_genes, num_cells)\n",
    "# w = torch.logical_and(u_y > 0, s_y > 0)\n",
    "# u_y = torch.gather(u_y, dim=1, index=w)\n",
    "u_norm = u_y / u_y.max(dim=1).values.unsqueeze(1)\n",
    "s_norm = s_y / s_y.max(dim=1).values.unsqueeze(1)\n",
    "norm = u_norm + s_norm\n",
    "weights = norm >= torch.tensor(np.percentile(norm, 95, axis=1)).unsqueeze(1)\n",
    "\n",
    "s = s_y * weights\n",
    "u = u_y * weights\n",
    "s = s.unsqueeze(-1)\n",
    "u = u.unsqueeze(1)\n",
    "\n",
    "gamma = torch.matmul(u, s).squeeze(1).squeeze(1)\n",
    "l2 = s.squeeze(2).square().sum(dim=1)\n",
    "gamma /= l2\n",
    "gamma = gamma.unsqueeze(-1)\n",
    "if single_gene:\n",
    "    gamma += 0\n",
    "    print(gamma)\n",
    "print(gamma.shape, gamma.max(), gamma.min(), gamma[cpe_index])"
   ],
   "metadata": {
    "collapsed": false,
    "pycharm": {
     "name": "#%%\n"
    }
   }
  },
  {
   "cell_type": "code",
   "execution_count": 4,
   "outputs": [
    {
     "name": "stdout",
     "output_type": "stream",
     "text": [
      "torch.Size([1, 3696])\n",
      "tensor([[8.7662]]) tensor([[1.]]) tensor([[9.8950]]) tensor([[12.4695,  0.0596, 14.6405,  ...,  0.0818, 14.1306, 11.9084]])\n",
      "tensor([[   nan, 0.0530,    nan,  ..., 0.0728,    nan,    nan]])\n"
     ]
    }
   ],
   "source": [
    "beta = 1.\n",
    "u_infty = torch.ones_like(gamma)\n",
    "s_infty = 1./gamma\n",
    "beta_tilde = beta / (gamma - beta)\n",
    "print(u_y.shape)\n",
    "s_tilde = s_y - beta_tilde * u_y\n",
    "s_tilde_infty = s_infty - beta_tilde * u_infty\n",
    "print(s_infty, u_infty, s_tilde_infty, s_tilde)\n",
    "t = -1/gamma * torch.log((s_tilde - s_tilde_infty) / (-s_tilde_infty))\n",
    "time_ass = t.nan_to_num(0)\n",
    "print(t)\n",
    "\n",
    "splicing_rate = torch.zeros_like(gamma)\n",
    "splicing_rate += 2.013\n",
    "transcription_rate = torch.zeros_like(gamma)\n",
    "transcription_rate += 2.96#3.6\n",
    "gamma = torch.zeros_like(gamma)\n",
    "gamma += 0.189\n"
   ],
   "metadata": {
    "collapsed": false,
    "pycharm": {
     "name": "#%%\n"
    }
   }
  },
  {
   "cell_type": "code",
   "execution_count": 5,
   "outputs": [],
   "source": [
    "def print_scatter(cells, gene_index,\n",
    "                  num_connections=10,\n",
    "                  figsize=(3, 3),\n",
    "                  colors=None,\n",
    "                  time_ass=None):\n",
    "    traj = lfm.current_trajectory\n",
    "    u = traj[:num_genes].detach()  # (num_genes, 100)\n",
    "    s = traj[num_genes:].detach()  # (num_genes, 100)\n",
    "    u_y = cells[:num_genes]  # (num_genes, num_cells)\n",
    "    s_y = cells[num_genes:]  # (num_genes, num_cells)\n",
    "    print(u.shape)\n",
    "    plt.figure(figsize=figsize)\n",
    "    plt.title(dataset.gene_names[gene_index])\n",
    "\n",
    "    # Plot trajectory\n",
    "    plt.plot(s[gene_index], u[gene_index], color='red')\n",
    "\n",
    "    # Plot cell points\n",
    "    indices = np.intersect1d(s_y[gene_index, :, 0].nonzero(),\n",
    "                             u_y[gene_index, :, 0].nonzero())\n",
    "    if time_ass is None:\n",
    "        time_ass = 'black'\n",
    "    else:\n",
    "        time_ass = time_ass[0, indices] / time_ass[0, indices].max()\n",
    "    plt.scatter(s_y[gene_index, indices, 0], u_y[gene_index, indices, 0],\n",
    "                alpha=0.1, s=5, cmap='viridis', c=time_ass)\n",
    "\n",
    "    # Plot timepoint choices\n",
    "    for timepoint in range(lfm.timepoint_choices.shape[0]):\n",
    "        plt.scatter(s[gene_index, timepoint], u[gene_index, timepoint], s=4, c='black')\n",
    "\n",
    "    # Plot some connections between cell points and the trajectory line\n",
    "    for i in range(num_connections):\n",
    "        plt.scatter(s_y[gene_index, i, 0], u_y[gene_index, i, 0], s=8, c='red')\n",
    "        line = [\n",
    "            (s[gene_index, lfm.time_assignments_indices[i]], s_y[gene_index, i, 0]),\n",
    "            (u[gene_index, lfm.time_assignments_indices[i]], u_y[gene_index, i, 0])\n",
    "        ]\n",
    "        plt.plot(line[0], line[1], alpha=0.5, c='purple')\n",
    "        # trainer.time_assignments_indices[i]\n",
    "    plt.ylabel('unspliced')\n",
    "    plt.xlabel('spliced')"
   ],
   "metadata": {
    "collapsed": false,
    "pycharm": {
     "name": "#%%\n"
    }
   }
  },
  {
   "cell_type": "code",
   "execution_count": 6,
   "outputs": [
    {
     "name": "stdout",
     "output_type": "stream",
     "text": [
      "Number of cells: 3696\n",
      "Number of latent GPs (# transcription rates): 1\n"
     ]
    }
   ],
   "source": [
    "use_natural = False\n",
    "step_size = 1e-1\n",
    "config = RNAVelocityConfiguration(\n",
    "    latent_data_present=False,\n",
    "    num_samples=50,\n",
    "    num_cells=num_cells,\n",
    "    end_pseudotime=end_t,\n",
    "    num_timepoint_choices=num_timepoint_choices\n",
    ")\n",
    "\n",
    "print('Number of cells:', num_cells)\n",
    "print('Number of latent GPs (# transcription rates):', num_latents)\n",
    "\n",
    "inducing_points = torch.linspace(0, end_t, num_inducing).repeat(num_latents, 1).view(num_latents, num_inducing, 1)\n",
    "t_predict = torch.linspace(0, end_t, 80, dtype=torch.float32)\n",
    "\n",
    "from gpytorch.kernels import MaternKernel\n",
    "gp_model = generate_multioutput_gp(num_latents, inducing_points,\n",
    "                                   kernel_class=MaternKernel,\n",
    "                                   kernel_kwargs=dict(nu=1.5),\n",
    "                                   zero_mean=False,\n",
    "                                   use_scale=False, initial_lengthscale=8,\n",
    "                                   gp_kwargs=dict(natural=use_natural))\n"
   ],
   "metadata": {
    "collapsed": false,
    "pycharm": {
     "name": "#%%\n"
    }
   }
  },
  {
   "cell_type": "code",
   "execution_count": 7,
   "outputs": [],
   "source": [
    "data = dataset.m_observed\n",
    "cells = data.permute(1, 2, 0)  # (O, C, 1)\n",
    "u_y = cells[:num_genes]  # (num_genes, num_cells)\n",
    "s_y = cells[num_genes:]  # (num_genes, num_cells)\n",
    "nonzero_mask = list()\n",
    "for gene_index in range(num_genes):\n",
    "    nonzero_mask.append(torch.logical_and(s_y[gene_index, :, 0] > 0,\n",
    "                                          u_y[gene_index, :, 0] > 0))\n",
    "nonzero_mask = torch.stack(nonzero_mask).repeat(2, 1)\n",
    "if config.latent_data_present:\n",
    "    filler = torch.ones(nonzero_mask.shape[1]).unsqueeze(0)\n",
    "    nonzero_mask = torch.cat([nonzero_mask, filler])\n",
    "\n",
    "num_data = num_cells #config.num_timepoint_choices\n",
    "lfm_kwargs = dict(\n",
    "    nonlinearity=torch.sigmoid,\n",
    "    decay_rate=gamma,\n",
    "    splicing_rate=splicing_rate,\n",
    "    transcription_rate=transcription_rate,\n",
    "    num_training_points=num_data,\n",
    "    nonzero_mask=nonzero_mask\n",
    ")\n",
    "track_parameters = [\n",
    "    'raw_transcription_rate',\n",
    "    'raw_splicing_rate',\n",
    "    'raw_decay_rate'\n",
    "]\n",
    "lfm = RNAVelocityLFM(num_outputs, gp_model, config, **lfm_kwargs)\n",
    "\n",
    "# Add latent points to the data\n",
    "data = torch.stack(dataset.data)\n",
    "t = torch.linspace(0, end_t, lfm.timepoint_choices.shape[0])\n",
    "alpha = transcription_rate.item()\n",
    "y = alpha * (1 - torch.sigmoid(t * 12 / end_t - 7))#pha/2., 0., 0., 0., 0., 0.]).unsqueeze(-1)\n",
    "filler = torch.zeros(data.shape[2] - lfm.timepoint_choices.shape[0])\n",
    "y = torch.cat([y, filler], dim=0).view(1, 1, -1)\n",
    "\n",
    "if config.latent_data_present:\n",
    "    data = torch.stack(dataset.data)\n",
    "    t = torch.linspace(0, end_t, lfm.timepoint_choices.shape[0])\n",
    "    alpha = transcription_rate.item()\n",
    "    y = alpha * (1 - torch.sigmoid(t * 12 / end_t - 7))#pha/2., 0., 0., 0., 0., 0.]).unsqueeze(-1)\n",
    "    filler = torch.zeros(data.shape[2] - lfm.timepoint_choices.shape[0])\n",
    "    y = torch.cat([y, filler], dim=0).view(1, 1, -1)\n",
    "    data = torch.cat([data, y], dim=0)\n",
    "    dataset.data = list(data)\n",
    "\n",
    "if use_natural:\n",
    "    variational_optimizer = NGD(lfm.variational_parameters(), num_data=num_data, lr=0.005)\n",
    "    parameter_optimizer = Adam(lfm.nonvariational_parameters(), lr=0.001)\n",
    "    optimizers = [variational_optimizer, parameter_optimizer]\n",
    "else:\n",
    "    optimizers = [torch.optim.Adam(lfm.parameters(), lr=0.02)]\n",
    "batch_size = num_outputs + 1 if config.latent_data_present else num_outputs\n",
    "trainer = EMTrainer(lfm, optimizers, dataset, batch_size=batch_size, track_parameters=track_parameters)\n",
    "plotter = Plotter1d(lfm, dataset.gene_names)\n",
    "preestimator = EMPreEstimator(\n",
    "    lfm, optimizers, dataset, trainer, batch_size=batch_size, track_parameters=track_parameters)"
   ],
   "metadata": {
    "collapsed": false,
    "pycharm": {
     "name": "#%%\n"
    }
   }
  },
  {
   "cell_type": "code",
   "execution_count": 8,
   "outputs": [],
   "source": [
    "pretrain=False\n",
    "if pretrain:\n",
    "    # Training the GP model\n",
    "    from gpytorch.mlls import VariationalELBO\n",
    "    from gpytorch.likelihoods import MultitaskGaussianLikelihood\n",
    "    from torch.optim import Adam\n",
    "    from alfi.utilities.torch import inv_softplus\n",
    "    like = MultitaskGaussianLikelihood(1)\n",
    "    mll = VariationalELBO(like, gp_model, 50)\n",
    "    if use_natural:\n",
    "        optims = [\n",
    "            NGD(gp_model.variational_parameters(), 50, lr=0.1),\n",
    "            Adam([\n",
    "                {'params':gp_model.hyperparameters()},\n",
    "                {'params':like.parameters()}\n",
    "                ], lr=0.01)\n",
    "        ]\n",
    "\n",
    "    else:\n",
    "        optims = [Adam(gp_model.parameters(), lr=0.05)]\n",
    "    t = torch.linspace(0, end_t, config.num_timepoint_choices)\n",
    "    print(t.shape)\n",
    "    y_train = inv_softplus(y[0, 0, :config.num_timepoint_choices]).view(-1, 1)\n",
    "    # plt.plot(t, y)\n",
    "    for epoch in range(60):\n",
    "        [optim.zero_grad() for optim in optims]\n",
    "        out = gp_model(t)\n",
    "        loss = - mll(out, y_train)\n",
    "        if epoch % 10 == 0:\n",
    "            print('Epoch', epoch, 'loss', loss.item(), 'l', gp_model.covar_module.lengthscale.item())\n",
    "        loss.backward()\n",
    "        [optim.step() for optim in optims]\n",
    "\n",
    "    out = gp_model(t)\n",
    "    plt.plot(t, softplus(out.mean[:, 0].detach()))\n",
    "    with torch.no_grad():\n",
    "        # transcription_rate += 1.\n",
    "        # lfm.raw_transcription_rate -= 3\n",
    "        # lfm.raw_splicing_rate += 0.5\n",
    "        print(lfm.splicing_rate)\n",
    "        print(transcription_rate, lfm.transcription_rate)\n",
    "        print(lfm.decay_rate)\n",
    "    lfm(lfm.timepoint_choices, step_size=1e-1)\n",
    "    print_scatter(cells, cpe_index, num_connections=0)"
   ],
   "metadata": {
    "collapsed": false,
    "pycharm": {
     "name": "#%%\n"
    }
   }
  },
  {
   "cell_type": "markdown",
   "source": [
    "### Outputs prior to training:"
   ],
   "metadata": {
    "collapsed": false
   }
  },
  {
   "cell_type": "code",
   "execution_count": 9,
   "outputs": [
    {
     "name": "stdout",
     "output_type": "stream",
     "text": [
      "2.9600000381469727 2.013000011444092 0.1889999955892563\n",
      "torch.Size([1, 200])\n",
      "torch.Size([3696])\n"
     ]
    },
    {
     "data": {
      "text/plain": "<Figure size 288x288 with 1 Axes>",
      "image/png": "[encoded data removed]"
     },
     "metadata": {},
     "output_type": "display_data"
    },
    {
     "data": {
      "text/plain": "<Figure size 432x216 with 2 Axes>",
      "image/png": "[encoded data removed]"
     },
     "metadata": {},
     "output_type": "display_data"
    }
   ],
   "source": [
    "lfm.eval()\n",
    "with torch.no_grad():\n",
    "    lfm.raw_decay_rate += 0\n",
    "    lfm.raw_transcription_rate -= 0\n",
    "    lfm.raw_splicing_rate += 0\n",
    "    pass\n",
    "print(lfm.transcription_rate.item(), lfm.splicing_rate.item(), lfm.decay_rate.item())\n",
    "t_predict = lfm.timepoint_choices\n",
    "out = lfm(t_predict, step_size=step_size)\n",
    "t = inducing_points\n",
    "t_f = torch.arange(t.min(), t.max()+step_size/3, step_size/3)\n",
    "num_samples = 3\n",
    "s = lfm.sample_latents(t_f, num_samples)\n",
    "\n",
    "print_scatter(cells, cpe_index, num_connections=0,\n",
    "              figsize=(4, 4), time_ass=time_ass)\n",
    "# plt.savefig('rna_train.pdf', **tight_kwargs)\n",
    "fig, axes = plt.subplots(ncols=2, figsize=(6, 3))\n",
    "for i in range(num_latents):\n",
    "    for sample in range(num_samples):\n",
    "        axes[0].plot(t_f, s[sample, :, i].detach())\n",
    "mean = list(lfm.gp_model.variational_parameters())[0]\n",
    "axes[1].plot(mean.detach()[0])\n",
    "print(lfm.time_assignments_indices.shape)"
   ],
   "metadata": {
    "collapsed": false,
    "pycharm": {
     "name": "#%%\n"
    }
   }
  },
  {
   "cell_type": "code",
   "execution_count": 10,
   "outputs": [
    {
     "name": "stdout",
     "output_type": "stream",
     "text": [
      "torch.Size([2, 200])\n"
     ]
    },
    {
     "data": {
      "text/plain": "<matplotlib.collections.PathCollection at 0x7fc815690310>"
     },
     "execution_count": 10,
     "metadata": {},
     "output_type": "execute_result"
    },
    {
     "data": {
      "text/plain": "<Figure size 576x396 with 1 Axes>",
      "image/png": "[encoded data removed]"
     },
     "metadata": {},
     "output_type": "display_data"
    }
   ],
   "source": [
    "t_interpolated, data_interpolated, _ = trainer.get_interpolated_data(cells)\n",
    "print(data_interpolated.shape)\n",
    "plt.scatter(data_interpolated[1], data_interpolated[0])"
   ],
   "metadata": {
    "collapsed": false,
    "pycharm": {
     "name": "#%%\n"
    }
   }
  },
  {
   "cell_type": "code",
   "execution_count": 11,
   "outputs": [
    {
     "ename": "AttributeError",
     "evalue": "'RNAVelocityLFM' object has no attribute 'pretrain_mode'",
     "output_type": "error",
     "traceback": [
      "\u001B[0;31m---------------------------------------------------------------------------\u001B[0m",
      "\u001B[0;31mAttributeError\u001B[0m                            Traceback (most recent call last)",
      "\u001B[0;32m<ipython-input-11-70ac7b8e705e>\u001B[0m in \u001B[0;36m<module>\u001B[0;34m\u001B[0m\n\u001B[1;32m      1\u001B[0m \u001B[0mlfm\u001B[0m\u001B[0;34m.\u001B[0m\u001B[0mset_mode\u001B[0m\u001B[0;34m(\u001B[0m\u001B[0mTrainMode\u001B[0m\u001B[0;34m.\u001B[0m\u001B[0mPRETRAIN\u001B[0m\u001B[0;34m)\u001B[0m\u001B[0;34m\u001B[0m\u001B[0;34m\u001B[0m\u001B[0m\n\u001B[0;32m----> 2\u001B[0;31m \u001B[0mtrainer\u001B[0m\u001B[0;34m.\u001B[0m\u001B[0mtrain\u001B[0m\u001B[0;34m(\u001B[0m\u001B[0;36m100\u001B[0m\u001B[0;34m)\u001B[0m\u001B[0;34m;\u001B[0m\u001B[0;34m\u001B[0m\u001B[0;34m\u001B[0m\u001B[0m\n\u001B[0m\u001B[1;32m      3\u001B[0m \u001B[0;34m\u001B[0m\u001B[0m\n",
      "\u001B[0;32m~/Documents/proj/reggae/alfi/trainers/trainer.py\u001B[0m in \u001B[0;36mtrain\u001B[0;34m(self, epochs, report_interval, **kwargs)\u001B[0m\n\u001B[1;32m     59\u001B[0m \u001B[0;34m\u001B[0m\u001B[0m\n\u001B[1;32m     60\u001B[0m         \u001B[0;32mfor\u001B[0m \u001B[0mepoch\u001B[0m \u001B[0;32min\u001B[0m \u001B[0mrange\u001B[0m\u001B[0;34m(\u001B[0m\u001B[0mepochs\u001B[0m\u001B[0;34m)\u001B[0m\u001B[0;34m:\u001B[0m\u001B[0;34m\u001B[0m\u001B[0;34m\u001B[0m\u001B[0m\n\u001B[0;32m---> 61\u001B[0;31m             \u001B[0mepoch_loss\u001B[0m\u001B[0;34m,\u001B[0m \u001B[0msplit_loss\u001B[0m \u001B[0;34m=\u001B[0m \u001B[0mself\u001B[0m\u001B[0;34m.\u001B[0m\u001B[0msingle_epoch\u001B[0m\u001B[0;34m(\u001B[0m\u001B[0mepoch\u001B[0m\u001B[0;34m=\u001B[0m\u001B[0mself\u001B[0m\u001B[0;34m.\u001B[0m\u001B[0mnum_epochs\u001B[0m\u001B[0;34m,\u001B[0m \u001B[0;34m**\u001B[0m\u001B[0mkwargs\u001B[0m\u001B[0;34m)\u001B[0m\u001B[0;34m\u001B[0m\u001B[0;34m\u001B[0m\u001B[0m\n\u001B[0m\u001B[1;32m     62\u001B[0m             \u001B[0mt\u001B[0m \u001B[0;34m=\u001B[0m \u001B[0mtime\u001B[0m\u001B[0;34m.\u001B[0m\u001B[0mtime\u001B[0m\u001B[0;34m(\u001B[0m\u001B[0;34m)\u001B[0m\u001B[0;34m\u001B[0m\u001B[0;34m\u001B[0m\u001B[0m\n\u001B[1;32m     63\u001B[0m             \u001B[0mtimes\u001B[0m\u001B[0;34m.\u001B[0m\u001B[0mappend\u001B[0m\u001B[0;34m(\u001B[0m\u001B[0;34m(\u001B[0m\u001B[0mt\u001B[0m\u001B[0;34m,\u001B[0m \u001B[0mepoch_loss\u001B[0m\u001B[0;34m)\u001B[0m\u001B[0;34m)\u001B[0m\u001B[0;34m\u001B[0m\u001B[0;34m\u001B[0m\u001B[0m\n",
      "\u001B[0;32m~/Documents/proj/reggae/alfi/impl/trainers/rna_em.py\u001B[0m in \u001B[0;36msingle_epoch\u001B[0;34m(self, epoch, step_size, warmup, **kwargs)\u001B[0m\n\u001B[1;32m    106\u001B[0m             \u001B[0;31m# assign timepoints $t_i$ to each cell by minimising its distance to the trajectory\u001B[0m\u001B[0;34m\u001B[0m\u001B[0;34m\u001B[0m\u001B[0;34m\u001B[0m\u001B[0m\n\u001B[1;32m    107\u001B[0m             \u001B[0;31m# if epoch > 0:\u001B[0m\u001B[0;34m\u001B[0m\u001B[0;34m\u001B[0m\u001B[0;34m\u001B[0m\u001B[0m\n\u001B[0;32m--> 108\u001B[0;31m             \u001B[0me_step\u001B[0m \u001B[0;34m=\u001B[0m \u001B[0;36m5\u001B[0m \u001B[0;32mif\u001B[0m \u001B[0mself\u001B[0m\u001B[0;34m.\u001B[0m\u001B[0mlfm\u001B[0m\u001B[0;34m.\u001B[0m\u001B[0mpretrain_mode\u001B[0m \u001B[0;32melse\u001B[0m \u001B[0;36m1\u001B[0m\u001B[0;34m\u001B[0m\u001B[0;34m\u001B[0m\u001B[0m\n\u001B[0m\u001B[1;32m    109\u001B[0m             \u001B[0;32mif\u001B[0m \u001B[0;34m(\u001B[0m\u001B[0mepoch\u001B[0m \u001B[0;34m%\u001B[0m \u001B[0me_step\u001B[0m\u001B[0;34m)\u001B[0m \u001B[0;34m==\u001B[0m \u001B[0;36m0\u001B[0m\u001B[0;34m:\u001B[0m\u001B[0;34m\u001B[0m\u001B[0;34m\u001B[0m\u001B[0m\n\u001B[1;32m    110\u001B[0m                 \u001B[0mprint\u001B[0m\u001B[0;34m(\u001B[0m\u001B[0;34m'running e step'\u001B[0m\u001B[0;34m,\u001B[0m \u001B[0mepoch\u001B[0m\u001B[0;34m)\u001B[0m\u001B[0;34m\u001B[0m\u001B[0;34m\u001B[0m\u001B[0m\n",
      "\u001B[0;32m~/miniconda3/envs/wishart/lib/python3.7/site-packages/torch/nn/modules/module.py\u001B[0m in \u001B[0;36m__getattr__\u001B[0;34m(self, name)\u001B[0m\n\u001B[1;32m    946\u001B[0m                 \u001B[0;32mreturn\u001B[0m \u001B[0mmodules\u001B[0m\u001B[0;34m[\u001B[0m\u001B[0mname\u001B[0m\u001B[0;34m]\u001B[0m\u001B[0;34m\u001B[0m\u001B[0;34m\u001B[0m\u001B[0m\n\u001B[1;32m    947\u001B[0m         raise AttributeError(\"'{}' object has no attribute '{}'\".format(\n\u001B[0;32m--> 948\u001B[0;31m             type(self).__name__, name))\n\u001B[0m\u001B[1;32m    949\u001B[0m \u001B[0;34m\u001B[0m\u001B[0m\n\u001B[1;32m    950\u001B[0m     \u001B[0;32mdef\u001B[0m \u001B[0m__setattr__\u001B[0m\u001B[0;34m(\u001B[0m\u001B[0mself\u001B[0m\u001B[0;34m,\u001B[0m \u001B[0mname\u001B[0m\u001B[0;34m:\u001B[0m \u001B[0mstr\u001B[0m\u001B[0;34m,\u001B[0m \u001B[0mvalue\u001B[0m\u001B[0;34m:\u001B[0m \u001B[0mUnion\u001B[0m\u001B[0;34m[\u001B[0m\u001B[0mTensor\u001B[0m\u001B[0;34m,\u001B[0m \u001B[0;34m'Module'\u001B[0m\u001B[0;34m]\u001B[0m\u001B[0;34m)\u001B[0m \u001B[0;34m->\u001B[0m \u001B[0;32mNone\u001B[0m\u001B[0;34m:\u001B[0m\u001B[0;34m\u001B[0m\u001B[0;34m\u001B[0m\u001B[0m\n",
      "\u001B[0;31mAttributeError\u001B[0m: 'RNAVelocityLFM' object has no attribute 'pretrain_mode'"
     ]
    }
   ],
   "source": [
    "lfm.set_mode(TrainMode.PRETRAIN)\n",
    "trainer.train(100);"
   ],
   "metadata": {
    "collapsed": false,
    "pycharm": {
     "name": "#%%\n"
    }
   }
  },
  {
   "cell_type": "code",
   "execution_count": 21,
   "outputs": [
    {
     "name": "stdout",
     "output_type": "stream",
     "text": [
      "num t2: torch.Size([197])\n",
      "torch.Size([200, 2]) torch.Size([200, 2])\n",
      "Epoch 051/150 - Loss: 1.81 (1.81 0.00) kernel: [8.128823]\n",
      "num t2: torch.Size([196])\n",
      "torch.Size([200, 2]) torch.Size([200, 2])\n",
      "Epoch 052/150 - Loss: 1.79 (1.79 0.00) kernel: [8.134039]\n",
      "num t2: torch.Size([196])\n",
      "torch.Size([200, 2]) torch.Size([200, 2])\n",
      "Epoch 053/150 - Loss: 1.77 (1.77 0.00) kernel: [8.139246]\n",
      "num t2: torch.Size([197])\n",
      "torch.Size([200, 2]) torch.Size([200, 2])\n",
      "Epoch 054/150 - Loss: 1.76 (1.76 0.00) kernel: [8.144566]\n",
      "num t2: torch.Size([198])\n",
      "torch.Size([200, 2]) torch.Size([200, 2])\n",
      "Epoch 055/150 - Loss: 1.75 (1.75 0.00) kernel: [8.150064]\n",
      "num t2: torch.Size([198])\n",
      "torch.Size([200, 2]) torch.Size([200, 2])\n",
      "Epoch 056/150 - Loss: 1.73 (1.73 0.00) kernel: [8.155708]\n",
      "num t2: torch.Size([199])\n",
      "torch.Size([200, 2]) torch.Size([200, 2])\n",
      "Epoch 057/150 - Loss: 1.70 (1.70 0.00) kernel: [8.1613655]\n",
      "num t2: torch.Size([195])\n",
      "torch.Size([200, 2]) torch.Size([200, 2])\n",
      "Epoch 058/150 - Loss: 1.69 (1.69 0.00) kernel: [8.166955]\n",
      "num t2: torch.Size([196])\n",
      "torch.Size([200, 2]) torch.Size([200, 2])\n",
      "Epoch 059/150 - Loss: 1.67 (1.66 0.00) kernel: [8.172498]\n",
      "num t2: torch.Size([195])\n",
      "torch.Size([200, 2]) torch.Size([200, 2])\n",
      "Epoch 060/150 - Loss: 1.66 (1.66 0.00) kernel: [8.177934]\n",
      "num t2: torch.Size([198])\n",
      "torch.Size([200, 2]) torch.Size([200, 2])\n",
      "Epoch 061/150 - Loss: 1.63 (1.63 0.00) kernel: [8.183146]\n",
      "num t2: torch.Size([196])\n",
      "torch.Size([200, 2]) torch.Size([200, 2])\n",
      "Epoch 062/150 - Loss: 1.61 (1.61 0.00) kernel: [8.18826]\n",
      "num t2: torch.Size([198])\n",
      "torch.Size([200, 2]) torch.Size([200, 2])\n",
      "Epoch 063/150 - Loss: 1.59 (1.59 0.00) kernel: [8.193273]\n",
      "num t2: torch.Size([198])\n",
      "torch.Size([200, 2]) torch.Size([200, 2])\n",
      "Epoch 064/150 - Loss: 1.58 (1.58 0.00) kernel: [8.198174]\n",
      "num t2: torch.Size([196])\n",
      "torch.Size([200, 2]) torch.Size([200, 2])\n",
      "Epoch 065/150 - Loss: 1.56 (1.56 0.00) kernel: [8.203013]\n",
      "num t2: torch.Size([195])\n",
      "torch.Size([200, 2]) torch.Size([200, 2])\n",
      "Epoch 066/150 - Loss: 1.54 (1.54 0.00) kernel: [8.207709]\n",
      "num t2: torch.Size([193])\n",
      "torch.Size([200, 2]) torch.Size([200, 2])\n",
      "Epoch 067/150 - Loss: 1.53 (1.53 0.00) kernel: [8.212384]\n",
      "num t2: torch.Size([195])\n",
      "torch.Size([200, 2]) torch.Size([200, 2])\n",
      "Epoch 068/150 - Loss: 1.52 (1.51 0.00) kernel: [8.217066]\n",
      "num t2: torch.Size([198])\n",
      "torch.Size([200, 2]) torch.Size([200, 2])\n",
      "Epoch 069/150 - Loss: 1.49 (1.49 0.00) kernel: [8.221798]\n",
      "num t2: torch.Size([195])\n",
      "torch.Size([200, 2]) torch.Size([200, 2])\n",
      "Epoch 070/150 - Loss: 1.48 (1.47 0.00) kernel: [8.226302]\n",
      "num t2: torch.Size([197])\n",
      "torch.Size([200, 2]) torch.Size([200, 2])\n",
      "Epoch 071/150 - Loss: 1.46 (1.46 0.00) kernel: [8.230833]\n",
      "num t2: torch.Size([195])\n",
      "torch.Size([200, 2]) torch.Size([200, 2])\n",
      "Epoch 072/150 - Loss: 1.44 (1.44 0.00) kernel: [8.2353]\n",
      "num t2: torch.Size([199])\n",
      "torch.Size([200, 2]) torch.Size([200, 2])\n",
      "Epoch 073/150 - Loss: 1.41 (1.41 0.00) kernel: [8.239707]\n",
      "num t2: torch.Size([196])\n",
      "torch.Size([200, 2]) torch.Size([200, 2])\n",
      "Epoch 074/150 - Loss: 1.39 (1.39 0.00) kernel: [8.243851]\n",
      "num t2: torch.Size([194])\n",
      "torch.Size([200, 2]) torch.Size([200, 2])\n",
      "Epoch 075/150 - Loss: 1.38 (1.38 0.00) kernel: [8.24806]\n",
      "num t2: torch.Size([197])\n",
      "torch.Size([200, 2]) torch.Size([200, 2])\n",
      "Epoch 076/150 - Loss: 1.36 (1.36 0.00) kernel: [8.252248]\n",
      "num t2: torch.Size([199])\n",
      "torch.Size([200, 2]) torch.Size([200, 2])\n",
      "Epoch 077/150 - Loss: 1.34 (1.34 0.00) kernel: [8.256356]\n",
      "num t2: torch.Size([196])\n",
      "torch.Size([200, 2]) torch.Size([200, 2])\n",
      "Epoch 078/150 - Loss: 1.32 (1.31 0.00) kernel: [8.260486]\n",
      "num t2: torch.Size([199])\n",
      "torch.Size([200, 2]) torch.Size([200, 2])\n",
      "Epoch 079/150 - Loss: 1.30 (1.30 0.00) kernel: [8.264549]\n",
      "num t2: torch.Size([196])\n",
      "torch.Size([200, 2]) torch.Size([200, 2])\n",
      "Epoch 080/150 - Loss: 1.28 (1.28 0.00) kernel: [8.268611]\n",
      "num t2: torch.Size([199])\n",
      "torch.Size([200, 2]) torch.Size([200, 2])\n",
      "Epoch 081/150 - Loss: 1.26 (1.26 0.00) kernel: [8.272534]\n",
      "num t2: torch.Size([197])\n",
      "torch.Size([200, 2]) torch.Size([200, 2])\n",
      "Epoch 082/150 - Loss: 1.24 (1.24 0.00) kernel: [8.276414]\n",
      "num t2: torch.Size([199])\n",
      "torch.Size([200, 2]) torch.Size([200, 2])\n",
      "Epoch 083/150 - Loss: 1.22 (1.22 0.00) kernel: [8.280278]\n",
      "num t2: torch.Size([198])\n",
      "torch.Size([200, 2]) torch.Size([200, 2])\n",
      "Epoch 084/150 - Loss: 1.20 (1.20 0.00) kernel: [8.284121]\n",
      "num t2: torch.Size([199])\n",
      "torch.Size([200, 2]) torch.Size([200, 2])\n",
      "Epoch 085/150 - Loss: 1.19 (1.19 0.00) kernel: [8.287917]\n",
      "num t2: torch.Size([200])\n",
      "torch.Size([200, 2]) torch.Size([200, 2])\n",
      "Epoch 086/150 - Loss: 1.17 (1.17 0.00) kernel: [8.291576]\n",
      "num t2: torch.Size([198])\n",
      "torch.Size([200, 2]) torch.Size([200, 2])\n",
      "Epoch 087/150 - Loss: 1.15 (1.15 0.00) kernel: [8.295146]\n",
      "num t2: torch.Size([196])\n",
      "torch.Size([200, 2]) torch.Size([200, 2])\n",
      "Epoch 088/150 - Loss: 1.13 (1.12 0.00) kernel: [8.298639]\n",
      "num t2: torch.Size([199])\n",
      "torch.Size([200, 2]) torch.Size([200, 2])\n",
      "Epoch 089/150 - Loss: 1.11 (1.11 0.00) kernel: [8.302162]\n",
      "num t2: torch.Size([198])\n",
      "torch.Size([200, 2]) torch.Size([200, 2])\n",
      "Epoch 090/150 - Loss: 1.09 (1.09 0.00) kernel: [8.305532]\n",
      "num t2: torch.Size([199])\n",
      "torch.Size([200, 2]) torch.Size([200, 2])\n",
      "Epoch 091/150 - Loss: 1.07 (1.07 0.00) kernel: [8.30882]\n",
      "num t2: torch.Size([198])\n",
      "torch.Size([200, 2]) torch.Size([200, 2])\n",
      "Epoch 092/150 - Loss: 1.05 (1.04 0.00) kernel: [8.312053]\n",
      "num t2: torch.Size([196])\n",
      "torch.Size([200, 2]) torch.Size([200, 2])\n",
      "Epoch 093/150 - Loss: 1.03 (1.03 0.00) kernel: [8.315353]\n",
      "num t2: torch.Size([198])\n",
      "torch.Size([200, 2]) torch.Size([200, 2])\n",
      "Epoch 094/150 - Loss: 1.02 (1.01 0.00) kernel: [8.318662]\n",
      "num t2: torch.Size([194])\n",
      "torch.Size([200, 2]) torch.Size([200, 2])\n",
      "Epoch 095/150 - Loss: 0.99 (0.99 0.00) kernel: [8.322004]\n",
      "num t2: torch.Size([199])\n",
      "torch.Size([200, 2]) torch.Size([200, 2])\n",
      "Epoch 096/150 - Loss: 0.97 (0.97 0.00) kernel: [8.325392]\n",
      "num t2: torch.Size([199])\n",
      "torch.Size([200, 2]) torch.Size([200, 2])\n",
      "Epoch 097/150 - Loss: 0.96 (0.95 0.00) kernel: [8.328859]\n",
      "num t2: torch.Size([198])\n",
      "torch.Size([200, 2]) torch.Size([200, 2])\n",
      "Epoch 098/150 - Loss: 0.93 (0.93 0.00) kernel: [8.33241]\n",
      "num t2: torch.Size([200])\n",
      "torch.Size([200, 2]) torch.Size([200, 2])\n",
      "Epoch 099/150 - Loss: 0.91 (0.91 0.00) kernel: [8.336199]\n",
      "num t2: torch.Size([198])\n",
      "torch.Size([200, 2]) torch.Size([200, 2])\n",
      "Epoch 100/150 - Loss: 0.89 (0.89 0.00) kernel: [8.339902]\n",
      "num t2: torch.Size([199])\n",
      "torch.Size([200, 2]) torch.Size([200, 2])\n",
      "Epoch 101/150 - Loss: 0.87 (0.87 0.00) kernel: [8.343564]\n",
      "num t2: torch.Size([198])\n",
      "torch.Size([200, 2]) torch.Size([200, 2])\n",
      "Epoch 102/150 - Loss: 0.85 (0.85 0.00) kernel: [8.347466]\n",
      "num t2: torch.Size([199])\n",
      "torch.Size([200, 2]) torch.Size([200, 2])\n",
      "Epoch 103/150 - Loss: 0.83 (0.83 0.00) kernel: [8.351306]\n",
      "num t2: torch.Size([198])\n",
      "torch.Size([200, 2]) torch.Size([200, 2])\n",
      "Epoch 104/150 - Loss: 0.80 (0.80 0.00) kernel: [8.355008]\n",
      "num t2: torch.Size([199])\n",
      "torch.Size([200, 2]) torch.Size([200, 2])\n",
      "Epoch 105/150 - Loss: 0.80 (0.79 0.00) kernel: [8.358964]\n",
      "num t2: torch.Size([198])\n",
      "torch.Size([200, 2]) torch.Size([200, 2])\n",
      "Epoch 106/150 - Loss: 0.77 (0.77 0.00) kernel: [8.362764]\n",
      "num t2: torch.Size([199])\n",
      "torch.Size([200, 2]) torch.Size([200, 2])\n",
      "Epoch 107/150 - Loss: 0.76 (0.76 0.00) kernel: [8.366615]\n",
      "num t2: torch.Size([197])\n",
      "torch.Size([200, 2]) torch.Size([200, 2])\n",
      "Epoch 108/150 - Loss: 0.74 (0.73 0.00) kernel: [8.370284]\n",
      "num t2: torch.Size([198])\n",
      "torch.Size([200, 2]) torch.Size([200, 2])\n",
      "Epoch 109/150 - Loss: 0.71 (0.71 0.00) kernel: [8.374035]\n",
      "num t2: torch.Size([199])\n",
      "torch.Size([200, 2]) torch.Size([200, 2])\n",
      "Epoch 110/150 - Loss: 0.69 (0.69 0.00) kernel: [8.377725]\n",
      "num t2: torch.Size([199])\n",
      "torch.Size([200, 2]) torch.Size([200, 2])\n",
      "Epoch 111/150 - Loss: 0.67 (0.67 0.00) kernel: [8.381582]\n",
      "num t2: torch.Size([198])\n",
      "torch.Size([200, 2]) torch.Size([200, 2])\n",
      "Epoch 112/150 - Loss: 0.66 (0.65 0.00) kernel: [8.385157]\n",
      "num t2: torch.Size([200])\n",
      "torch.Size([200, 2]) torch.Size([200, 2])\n",
      "Epoch 113/150 - Loss: 0.63 (0.63 0.00) kernel: [8.388841]\n",
      "num t2: torch.Size([199])\n",
      "torch.Size([200, 2]) torch.Size([200, 2])\n",
      "Epoch 114/150 - Loss: 0.61 (0.61 0.00) kernel: [8.392473]\n",
      "num t2: torch.Size([199])\n",
      "torch.Size([200, 2]) torch.Size([200, 2])\n",
      "Epoch 115/150 - Loss: 0.59 (0.59 0.00) kernel: [8.396144]\n",
      "num t2: torch.Size([198])\n",
      "torch.Size([200, 2]) torch.Size([200, 2])\n",
      "Epoch 116/150 - Loss: 0.57 (0.57 0.00) kernel: [8.399755]\n",
      "num t2: torch.Size([199])\n",
      "torch.Size([200, 2]) torch.Size([200, 2])\n",
      "Epoch 117/150 - Loss: 0.55 (0.55 0.00) kernel: [8.403537]\n",
      "num t2: torch.Size([198])\n",
      "torch.Size([200, 2]) torch.Size([200, 2])\n",
      "Epoch 118/150 - Loss: 0.54 (0.54 0.00) kernel: [8.407264]\n",
      "num t2: torch.Size([199])\n",
      "torch.Size([200, 2]) torch.Size([200, 2])\n",
      "Epoch 119/150 - Loss: 0.51 (0.51 0.00) kernel: [8.411258]\n",
      "num t2: torch.Size([199])\n",
      "torch.Size([200, 2]) torch.Size([200, 2])\n",
      "Epoch 120/150 - Loss: 0.49 (0.49 0.00) kernel: [8.414979]\n",
      "num t2: torch.Size([200])\n",
      "torch.Size([200, 2]) torch.Size([200, 2])\n",
      "Epoch 121/150 - Loss: 0.47 (0.47 0.00) kernel: [8.418938]\n",
      "num t2: torch.Size([199])\n",
      "torch.Size([200, 2]) torch.Size([200, 2])\n",
      "Epoch 122/150 - Loss: 0.45 (0.45 0.00) kernel: [8.423019]\n",
      "num t2: torch.Size([199])\n",
      "torch.Size([200, 2]) torch.Size([200, 2])\n",
      "Epoch 123/150 - Loss: 0.43 (0.43 0.00) kernel: [8.426786]\n",
      "num t2: torch.Size([199])\n",
      "torch.Size([200, 2]) torch.Size([200, 2])\n",
      "Epoch 124/150 - Loss: 0.41 (0.40 0.00) kernel: [8.430807]\n",
      "num t2: torch.Size([199])\n",
      "torch.Size([200, 2]) torch.Size([200, 2])\n",
      "Epoch 125/150 - Loss: 0.40 (0.39 0.00) kernel: [8.434733]\n",
      "num t2: torch.Size([200])\n",
      "torch.Size([200, 2]) torch.Size([200, 2])\n",
      "Epoch 126/150 - Loss: 0.37 (0.37 0.00) kernel: [8.438683]\n",
      "num t2: torch.Size([198])\n",
      "torch.Size([200, 2]) torch.Size([200, 2])\n",
      "Epoch 127/150 - Loss: 0.36 (0.36 0.00) kernel: [8.44274]\n",
      "num t2: torch.Size([199])\n",
      "torch.Size([200, 2]) torch.Size([200, 2])\n",
      "Epoch 128/150 - Loss: 0.32 (0.32 0.00) kernel: [8.446654]\n",
      "num t2: torch.Size([200])\n",
      "torch.Size([200, 2]) torch.Size([200, 2])\n",
      "Epoch 129/150 - Loss: 0.31 (0.31 0.00) kernel: [8.450707]\n",
      "num t2: torch.Size([200])\n",
      "torch.Size([200, 2]) torch.Size([200, 2])\n",
      "Epoch 130/150 - Loss: 0.29 (0.29 0.00) kernel: [8.454444]\n",
      "num t2: torch.Size([199])\n",
      "torch.Size([200, 2]) torch.Size([200, 2])\n",
      "Epoch 131/150 - Loss: 0.27 (0.27 0.00) kernel: [8.458434]\n",
      "num t2: torch.Size([200])\n",
      "torch.Size([200, 2]) torch.Size([200, 2])\n",
      "Epoch 132/150 - Loss: 0.25 (0.25 0.00) kernel: [8.46254]\n",
      "num t2: torch.Size([200])\n",
      "torch.Size([200, 2]) torch.Size([200, 2])\n",
      "Epoch 133/150 - Loss: 0.23 (0.23 0.00) kernel: [8.466512]\n",
      "num t2: torch.Size([199])\n",
      "torch.Size([200, 2]) torch.Size([200, 2])\n",
      "Epoch 134/150 - Loss: 0.21 (0.20 0.00) kernel: [8.470649]\n",
      "num t2: torch.Size([198])\n",
      "torch.Size([200, 2]) torch.Size([200, 2])\n",
      "Epoch 135/150 - Loss: 0.19 (0.19 0.00) kernel: [8.474075]\n",
      "num t2: torch.Size([199])\n",
      "torch.Size([200, 2]) torch.Size([200, 2])\n",
      "Epoch 136/150 - Loss: 0.17 (0.16 0.00) kernel: [8.477838]\n",
      "num t2: torch.Size([200])\n",
      "torch.Size([200, 2]) torch.Size([200, 2])\n",
      "Epoch 137/150 - Loss: 0.15 (0.14 0.00) kernel: [8.481474]\n",
      "num t2: torch.Size([199])\n",
      "torch.Size([200, 2]) torch.Size([200, 2])\n",
      "Epoch 138/150 - Loss: 0.12 (0.12 0.00) kernel: [8.484945]\n",
      "num t2: torch.Size([199])\n",
      "torch.Size([200, 2]) torch.Size([200, 2])\n",
      "Epoch 139/150 - Loss: 0.11 (0.10 0.00) kernel: [8.488517]\n",
      "num t2: torch.Size([199])\n",
      "torch.Size([200, 2]) torch.Size([200, 2])\n",
      "Epoch 140/150 - Loss: 0.09 (0.09 0.00) kernel: [8.491967]\n",
      "num t2: torch.Size([198])\n",
      "torch.Size([200, 2]) torch.Size([200, 2])\n",
      "Epoch 141/150 - Loss: 0.07 (0.07 0.00) kernel: [8.495608]\n",
      "num t2: torch.Size([196])\n",
      "torch.Size([200, 2]) torch.Size([200, 2])\n",
      "Epoch 142/150 - Loss: 0.05 (0.04 0.00) kernel: [8.498753]\n",
      "num t2: torch.Size([199])\n",
      "torch.Size([200, 2]) torch.Size([200, 2])\n",
      "Epoch 143/150 - Loss: 0.03 (0.03 0.00) kernel: [8.502463]\n",
      "num t2: torch.Size([197])\n",
      "torch.Size([200, 2]) torch.Size([200, 2])\n",
      "Epoch 144/150 - Loss: 0.01 (0.00 0.00) kernel: [8.505564]\n",
      "num t2: torch.Size([197])\n",
      "torch.Size([200, 2]) torch.Size([200, 2])\n",
      "Epoch 145/150 - Loss: -0.00 (-0.01 0.00) kernel: [8.509306]\n",
      "num t2: torch.Size([198])\n",
      "torch.Size([200, 2]) torch.Size([200, 2])\n",
      "Epoch 146/150 - Loss: -0.03 (-0.04 0.00) kernel: [8.5132065]\n",
      "num t2: torch.Size([196])\n",
      "torch.Size([200, 2]) torch.Size([200, 2])\n",
      "Epoch 147/150 - Loss: -0.03 (-0.03 0.00) kernel: [8.516442]\n",
      "num t2: torch.Size([198])\n",
      "torch.Size([200, 2]) torch.Size([200, 2])\n",
      "Epoch 148/150 - Loss: -0.05 (-0.05 0.00) kernel: [8.520623]\n",
      "num t2: torch.Size([199])\n",
      "torch.Size([200, 2]) torch.Size([200, 2])\n",
      "Epoch 149/150 - Loss: -0.09 (-0.10 0.00) kernel: [8.524827]\n",
      "num t2: torch.Size([198])\n",
      "torch.Size([200, 2]) torch.Size([200, 2])\n",
      "Epoch 150/150 - Loss: -0.11 (-0.12 0.00) kernel: [8.529103]\n",
      "67.081866979599\n"
     ]
    }
   ],
   "source": [
    "lfm.set_mode(TrainMode.FILTER)\n",
    "\n",
    "import time\n",
    "start = time.time()\n",
    "output = trainer.train(100, report_interval=1, step_size=1e-1, warmup=-1)\n",
    "end = time.time()\n",
    "print(end - start)"
   ],
   "metadata": {
    "collapsed": false,
    "pycharm": {
     "name": "#%%\n"
    }
   }
  },
  {
   "cell_type": "code",
   "execution_count": 43,
   "outputs": [
    {
     "name": "stdout",
     "output_type": "stream",
     "text": [
      "y torch.Size([2, 3696, 1])\n",
      "torch.Size([1, 200])\n",
      "442.33452441673006 0.011494739912450314\n"
     ]
    },
    {
     "data": {
      "text/plain": "<Figure size 432x432 with 1 Axes>",
      "image/png": "[encoded data removed]"
     },
     "metadata": {},
     "output_type": "display_data"
    }
   ],
   "source": [
    "# plotter.plot_outputs(t_predict, replicate=0, t_scatter=t_observed,y_scatter=dataset.m_observed, model_kwargs=model_kwargs);\n",
    "# plotter.plot_latents(t_predict, ylim=(-1, 3), plot_barenco=True, plot_inducing=False)\n",
    "# t_predict = torch.linspace(0, 35, 100)\n",
    "lfm.eval()\n",
    "t_predict = lfm.timepoint_choices\n",
    "y = next(iter(trainer.data_loader)).permute(0, 2, 1)\n",
    "if config.latent_data_present:\n",
    "    y = y[:-1]\n",
    "\n",
    "print('y', y.shape)\n",
    "\n",
    "trainer.e_step(y)\n",
    "out = lfm(t_predict, step_size=step_size)\n",
    "end_index = 0 if single_gene else 2\n",
    "for i in [cpe_index] + list(range(0, end_index)):\n",
    "    print_scatter(cells, i, num_connections=30, figsize=(6, 6))\n",
    "\n",
    "log_likelihood, kl_divergence, _ = lfm.loss_fn(out, data.squeeze().t(), mask=trainer.train_mask)\n",
    "total_loss = (-log_likelihood + kl_divergence)\n",
    "print(-log_likelihood.item(), kl_divergence.item())\n",
    "# plotter.plot_losses(trainer, last_x=200)\n",
    "# 9 5.7"
   ],
   "metadata": {
    "collapsed": false,
    "pycharm": {
     "name": "#%%\n"
    }
   }
  },
  {
   "cell_type": "code",
   "execution_count": null,
   "outputs": [],
   "source": [
    "\n",
    "print(y_target.shape)\n",
    "plt.scatter(out.mean[:, 1].detach(), out.mean[:, 0].detach())\n",
    "plt.scatter(y_target[1], y_target[0])"
   ],
   "metadata": {
    "collapsed": false,
    "pycharm": {
     "name": "#%%\n"
    }
   }
  },
  {
   "cell_type": "code",
   "execution_count": null,
   "outputs": [],
   "source": [
    "titles = ['Transcription rates', 'Splicing rates', 'Decay rates']\n",
    "kinetics = list()\n",
    "for key in track_parameters:\n",
    "    param = trainer.parameter_trace[key]\n",
    "    param = torch.tensor(param)\n",
    "    kinetics.append(\n",
    "        lfm.positivity.transform(param).numpy())\n",
    "kinetics = np.array(kinetics)\n",
    "print(kinetics.shape)\n",
    "for i in range(3):\n",
    "    plt.plot(kinetics[i], label=titles[i])\n",
    "plt.legend()\n",
    "print(kinetics[2])"
   ],
   "metadata": {
    "collapsed": false,
    "pycharm": {
     "name": "#%%\n"
    }
   }
  },
  {
   "cell_type": "code",
   "execution_count": null,
   "outputs": [],
   "source": [
    "savefile = './rna-1106'\n",
    "do_save = False\n",
    "if do_save:\n",
    "    lfm.save(savefile)\n",
    "\n",
    "do_load = False\n",
    "if do_load:\n",
    "    lfm = RNAVelocityLFM.load(savefile,\n",
    "                              gp_model=gp_model,\n",
    "                              lfm_args=[lfm.num_outputs, config],\n",
    "                              lfm_kwargs=lfm_kwargs)\n",
    "\n",
    "\n",
    "    optimizer = torch.optim.Adam(lfm.parameters(), lr=0.1)\n",
    "    trainer = EMTrainer(lfm, [optimizer], dataset, batch_size=4000)\n",
    "print(do_load)"
   ],
   "metadata": {
    "collapsed": false,
    "pycharm": {
     "name": "#%%\n"
    }
   }
  },
  {
   "cell_type": "code",
   "execution_count": null,
   "outputs": [],
   "source": [
    "#0, -3 15\n",
    "#0 -2 0 3\n",
    "out = lfm(lfm.timepoint_choices, step_size=step_size)\n",
    "print(out.mean.shape)\n",
    "out = out.mean.t().detach()\n",
    "u_out = out[:num_genes].squeeze()\n",
    "s_out = out[num_genes:].squeeze()\n",
    "plt.plot(u_out[cpe_index, ::10])\n",
    "plt.plot(-s_out[cpe_index, ::10] + 0.38)\n",
    "# plt.plot(s_out[cpe_index, ::10], u_out[cpe_index, ::10])\n",
    "# plt.plot(s_out[cpe_index, ::10])"
   ],
   "metadata": {
    "collapsed": false,
    "pycharm": {
     "name": "#%%\n"
    }
   }
  },
  {
   "cell_type": "code",
   "execution_count": null,
   "outputs": [],
   "source": [
    "print(lfm.time_assignments_indices.max())\n",
    "u_out = lfm.current_trajectory[:num_genes].detach()\n",
    "s_out = lfm.current_trajectory[num_genes:].detach()\n",
    "plt.plot(u_out[cpe_index])\n",
    "plt.plot(-s_out[cpe_index] + 0.38)"
   ],
   "metadata": {
    "collapsed": false,
    "pycharm": {
     "name": "#%%\n"
    }
   }
  },
  {
   "cell_type": "code",
   "execution_count": null,
   "outputs": [],
   "source": [
    "plt.plot(u_y[cpe_index, ::100])\n",
    "plt.plot(-s_y[cpe_index, ::100])\n",
    "\n",
    "# plt.scatter(s_y[cpe_index, ::10], u_y[cpe_index, ::10], alpha=0.1,s=5, c='black')"
   ],
   "metadata": {
    "collapsed": false,
    "pycharm": {
     "name": "#%%\n"
    }
   }
  },
  {
   "cell_type": "code",
   "execution_count": null,
   "outputs": [],
   "source": [
    "out = lfm(lfm.timepoint_choices, step_size=step_size)"
   ],
   "metadata": {
    "collapsed": false,
    "pycharm": {
     "name": "#%%\n"
    }
   }
  },
  {
   "cell_type": "code",
   "execution_count": null,
   "outputs": [],
   "source": [
    "mean = out.mean.t()\n",
    "print(cells.shape, mean.shape)\n",
    "# print(cells.squeeze()[0])\n",
    "# print(cells.squeeze()[2000])\n",
    "# print((cells.squeeze() * nonzero_mask)[2000].nonzero())\n",
    "# with torch.no_grad():\n",
    "    # lfm.splicing_rate[cpe_index] += 0.2\n",
    "    # lfm.raw_decay_rate[cpe_index] += 0.5\n",
    "print(lfm.decay_rate[cpe_index])\n",
    "print(lfm.splicing_rate[cpe_index])\n",
    "print(lfm.transcription_rate[cpe_index])\n",
    "print(dict(gp_model.named_variational_parameters()))"
   ],
   "metadata": {
    "collapsed": false,
    "pycharm": {
     "name": "#%%\n"
    }
   }
  },
  {
   "cell_type": "code",
   "execution_count": null,
   "outputs": [],
   "source": [
    "print(l2[cpe_index])\n",
    "print(gamma.shape)\n",
    "print(gamma.min())\n",
    "print(gamma.max())\n",
    "# s_low = s_y[s_sort_ind[-50:]]\n",
    "# print(s_low)\n",
    "# u_y.shape, s_y.shape"
   ],
   "metadata": {
    "collapsed": false,
    "pycharm": {
     "name": "#%%\n"
    }
   }
  },
  {
   "cell_type": "code",
   "execution_count": null,
   "outputs": [],
   "source": [
    "print(y_target.shape)\n",
    "print(lfm.current_trajectory.shape)\n",
    "u = lfm.current_trajectory[:2000].detach()[cpe_index]\n",
    "s = lfm.current_trajectory[2000:].detach()[cpe_index]\n",
    "u_y = y_target[:2000]  # (num_genes, num_cells)\n",
    "s_y = y_target[2000:]  # (num_genes, num_cells)\n",
    "print(u.shape, u_y.shape)\n",
    "plt.scatter(s, u)\n",
    "plt.scatter(s_y[cpe_index], u_y[cpe_index])"
   ],
   "metadata": {
    "collapsed": false,
    "pycharm": {
     "name": "#%%\n"
    }
   }
  },
  {
   "cell_type": "code",
   "execution_count": null,
   "outputs": [],
   "source": [
    "fig, axes = plt.subplots(ncols=2, figsize=(5, 2))\n",
    "axes[0].plot(u[:, cpe_index])\n",
    "axes[1].plot(s[:, cpe_index])"
   ],
   "metadata": {
    "collapsed": false,
    "pycharm": {
     "name": "#%%\n"
    }
   }
  },
  {
   "cell_type": "markdown",
   "source": [
    "### Outputs after training"
   ],
   "metadata": {
    "collapsed": false,
    "pycharm": {
     "name": "#%% md\n"
    }
   }
  },
  {
   "cell_type": "code",
   "execution_count": null,
   "outputs": [],
   "source": [
    "plotter.plot_losses(trainer, last_x=100)\n",
    "\n",
    "for i in range(0, 50, 2):\n",
    "    print_scatter(cells, i, num_connections=0)\n"
   ],
   "metadata": {
    "collapsed": false,
    "pycharm": {
     "name": "#%%\n"
    }
   }
  },
  {
   "cell_type": "code",
   "execution_count": null,
   "outputs": [],
   "source": [
    "from alfi.utilities.torch import ceil\n",
    "for i, data in enumerate(trainer.data_loader):\n",
    "    y = data.permute(0, 2, 1)  # (O, C, 1)\n",
    "batch_size = 500\n",
    "num_batches = ceil(y.shape[1] / batch_size)\n",
    "u_y = y[:num_outputs//2]  # (num_genes, num_cells)\n",
    "s_y = y[num_outputs//2:]  # (num_genes, num_cells)\n",
    "plt.scatter(s_y[cpe_index, :, 0], u_y[cpe_index, :, 0])\n",
    "plt.scatter(s[cpe_index, :, 0], u[cpe_index, :, 0])\n",
    "print(u_y.shape, s.shape)\n",
    "print(num_batches * 500)\n",
    "time_ass = torch.clone(lfm.time_assignments_indices)\n",
    "for batch in range(num_batches):\n",
    "    from_index = batch * batch_size\n",
    "    to_index = (batch+1) * batch_size\n",
    "    u_residual = u_y[:, from_index:to_index] - u.transpose(1, 2)\n",
    "    s_residual = s_y[:, from_index:to_index] - s.transpose(1, 2)\n",
    "\n",
    "    residual = u_residual.square() + s_residual.square()\n",
    "    residual = residual.sum(dim=0).argmin(dim=1).type(torch.long)\n",
    "    # print(residual.shape)\n",
    "    # print(residual[:5])\n",
    "    # print('done', batch)\n",
    "    time_ass[from_index:to_index] = residual"
   ],
   "metadata": {
    "collapsed": false,
    "pycharm": {
     "name": "#%%\n"
    }
   }
  },
  {
   "cell_type": "code",
   "execution_count": null,
   "outputs": [],
   "source": [
    "data = next(iter(trainer.data_loader))\n",
    "y = data.permute(0, 2, 1)  # (O, C, 1)\n",
    "print(y.shape)\n",
    "\n",
    "traj = lfm.current_trajectory\n",
    "u = traj[:2000].detach().unsqueeze(2)  # (num_genes, 100, 1)\n",
    "s = traj[2000:].detach().unsqueeze(2)  # (num_genes, 100, 1)\n",
    "u_y = y[:2000]  # (num_genes, num_cells)\n",
    "s_y = y[2000:]  # (num_genes, num_cells)\n",
    "u_y = cells[:2000]  # (num_genes, num_cells)\n",
    "s_y = cells[2000:]  # (num_genes, num_cells)\n",
    "print(s_y.shape, s.transpose(1, 2).shape)\n",
    "u_residual = u_y[1500:] - u[1500:].transpose(1, 2)\n",
    "s_residual = s_y[1500:] - s[1500:].transpose(1, 2)\n",
    "print(u_residual.shape) # (genes, cells, timepoints)\n",
    "residual = u_residual.square() + s_residual.square()\n",
    "residual_indices = residual.sum(dim=0).argmin(dim=1).type(torch.long)\n",
    "gene_index = cpe_index\n",
    "print(gene_index)\n",
    "print(residual.shape)\n",
    "# residual_indices = residual.argmin(dim=1)\n",
    "print(residual_indices.shape)\n",
    "residual_minimum = residual.min(dim=1).values\n",
    "print('min', residual_minimum.shape)\n",
    "residual_sort_indices = residual_minimum.argsort(descending=True)\n",
    "# print(residual_sort_indices)\n",
    "# for this gene, the indices of the closest timepoint for all cells\n",
    "\n",
    "# Plot trajectory\n",
    "plt.scatter(s[gene_index], u[gene_index])\n",
    "\n",
    "# Plot cell points\n",
    "indices = np.intersect1d(s_y[gene_index, :, 0].nonzero(),\n",
    "                         u_y[gene_index, :, 0].nonzero())\n",
    "plt.scatter(s_y[gene_index, indices, 0], u_y[gene_index, indices, 0], s=6, c='black')\n",
    "print()#torch.cat([\n",
    "# for cell_index in residual_sort_indices[-900:]:#, residual_indices[torch.randperm(residual_indices.shape[0])[:1]]]):\n",
    "for cell_index in range(10):\n",
    "    plt.scatter(s_y[gene_index, cell_index, 0], u_y[gene_index, cell_index, 0], s=2, c='red')\n",
    "    line = [\n",
    "    (s[gene_index, residual_indices[cell_index]], s_y[gene_index, cell_index, 0]),\n",
    "    (u[gene_index, residual_indices[cell_index]], u_y[gene_index, cell_index, 0])\n",
    "    ]\n",
    "    plt.plot(line[0], line[1], alpha=0.4, c='purple')\n",
    "\n",
    "    line = [\n",
    "        (s[gene_index, time_ass[cell_index]], s_y[gene_index, i, 0]),\n",
    "        (u[gene_index, time_ass[cell_index]], u_y[gene_index, i, 0])\n",
    "    ]\n",
    "    plt.plot(line[0], line[1], alpha=0.5, c='red')\n",
    "\n",
    "# plt.xlim(0.015, 0.071)\n",
    "# plt.ylim(0.22, 0.25)"
   ],
   "metadata": {
    "collapsed": false,
    "pycharm": {
     "name": "#%%\n"
    }
   }
  },
  {
   "cell_type": "code",
   "execution_count": null,
   "outputs": [],
   "source": [
    "t\n",
    "import scvelo as scv\n",
    "scv.tl.velocity(dataset.loom)"
   ],
   "metadata": {
    "collapsed": false,
    "pycharm": {
     "name": "#%%\n"
    }
   }
  },
  {
   "cell_type": "code",
   "execution_count": null,
   "outputs": [],
   "source": [
    "scv.pl.velocity(dataset.loom, ['Cpe',  'Gnao1', 'Ins2', 'Adk'], ncols=2)"
   ],
   "metadata": {
    "collapsed": false,
    "pycharm": {
     "name": "#%%\n"
    }
   }
  },
  {
   "cell_type": "code",
   "execution_count": null,
   "outputs": [],
   "source": [
    "velocity = dataset.loom.layers['velocity']\n",
    "print(velocity[:100, cpe_index].shape)"
   ],
   "metadata": {
    "collapsed": false,
    "pycharm": {
     "name": "#%%\n"
    }
   }
  },
  {
   "cell_type": "code",
   "execution_count": null,
   "outputs": [],
   "source": [
    "adata = dataset.loom\n",
    "_layers = adata[:, cpe_index].layers\n",
    "u = _layers['Mu']\n",
    "s = _layers['Ms']\n"
   ],
   "metadata": {
    "collapsed": false,
    "pycharm": {
     "name": "#%%\n"
    }
   }
  },
  {
   "cell_type": "code",
   "execution_count": null,
   "outputs": [],
   "source": [],
   "metadata": {
    "collapsed": false,
    "pycharm": {
     "name": "#%%\n"
    }
   }
  }
 ],
 "metadata": {
  "kernelspec": {
   "name": "firstenv",
   "language": "python",
   "display_name": "firstEnv"
  },
  "language_info": {
   "codemirror_mode": {
    "name": "ipython",
    "version": 2
   },
   "file_extension": ".py",
   "mimetype": "text/x-python",
   "name": "python",
   "nbconvert_exporter": "python",
   "pygments_lexer": "ipython2",
   "version": "2.7.6"
  }
 },
 "nbformat": 4,
 "nbformat_minor": 0
}