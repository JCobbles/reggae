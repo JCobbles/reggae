{
 "cells": [
  {
   "cell_type": "markdown",
   "source": [
    "# MCMC"
   ],
   "metadata": {
    "collapsed": false,
    "pycharm": {
     "name": "#%% md\n"
    }
   }
  },
  {
   "cell_type": "code",
   "execution_count": null,
   "outputs": [],
   "source": [
    "import tensorflow as tf\n",
    "\n",
    "from timeit import default_timer as timer\n",
    "from IPython.display import display\n",
    "import matplotlib.pyplot as plt\n",
    "\n",
    "from lafomo.datasets import DataHolder, HafnerData\n",
    "from lafomo.utilities.tf import discretise, logistic\n",
    "from lafomo.plot import mcmc_plotters\n",
    "from lafomo.mcmc.models import TranscriptionRegulationLFM\n",
    "from lafomo.configuration import MCMCConfiguration\n",
    "\n",
    "import numpy as np\n",
    "import pandas as pd\n",
    "\n",
    "plt.style.use('ggplot')\n",
    "%matplotlib inline\n",
    "f64 = np.float64\n",
    "np.set_printoptions(threshold=np.inf)\n",
    "np.set_printoptions(formatter={'float': lambda x: \"{0:0.10f}\".format(x)})"
   ],
   "metadata": {
    "collapsed": false,
    "pycharm": {
     "name": "#%%\n"
    }
   }
  },
  {
   "cell_type": "code",
   "execution_count": null,
   "outputs": [],
   "source": [
    "target_genes = [\n",
    "    'KAZN','PMAIP1','PRKAB1','CSNK1G1','E2F7','SLC30A1',\n",
    "    'PTP4A1','RAP2B','SUSD6','UBR5-AS1','RNF19B','AEN','ZNF79','XPC',\n",
    "    'FAM212B','SESN2','DCP1B','MDM2','GADD45A','SESN1','CDKN1A','BTG2'\n",
    "]\n",
    "known_target_genes = [\n",
    "    'CDKN1A', #p21\n",
    "    'SESN1', #hPA26\n",
    "    'DDB2',\n",
    "    'TNFRSF10B',\n",
    "    'BIK',\n",
    "]\n",
    "dataset = HafnerData(replicate=None, extra_targets=False, data_dir='../../../data')\n",
    "num_replicates = 2\n",
    "num_genes = len(dataset.gene_names)\n",
    "num_tfs = 1\n",
    "num_times = dataset[0][0].shape[0]\n",
    "\n",
    "t_observed = np.arange(0, 13)\n",
    "t_predict = tf.linspace(0, 13, 80)\n",
    "\n",
    "m_observed = np.stack([\n",
    "    dataset[i][1] for i in range(num_genes*num_replicates)\n",
    "])\n",
    "m_observed = m_observed.reshape(num_replicates, num_genes, num_times)\n",
    "m_observed = np.float64(m_observed)\n",
    "print(type(m_observed))\n",
    "f_observed = dataset.tfs\n",
    "\n",
    "replicate = 0\n",
    "\n",
    "τ, common_indices = discretise(t_observed, num_disc=13)\n",
    "data = DataHolder((m_observed, f_observed), None, (t_observed, τ, tf.constant(common_indices)))\n",
    "\n",
    "print(f_observed.shape, m_observed.shape)"
   ],
   "metadata": {
    "collapsed": false,
    "pycharm": {
     "name": "#%%\n"
    }
   }
  },
  {
   "cell_type": "code",
   "execution_count": null,
   "outputs": [],
   "source": [
    "opt = MCMCOptions(preprocessing_variance=False,\n",
    "                  latent_data_present=True,\n",
    "                  delays=False,\n",
    "                  weights=False,\n",
    "                  kinetic_exponential=True,\n",
    "                  initial_step_sizes={'nuts': 0.0005, 'latents': 10},\n",
    "                  kernel='rbf')\n",
    "\n",
    "model = TranscriptionRegulationLFM(data, opt)"
   ],
   "metadata": {
    "collapsed": false,
    "pycharm": {
     "name": "#%%\n"
    }
   }
  },
  {
   "cell_type": "code",
   "execution_count": null,
   "outputs": [],
   "source": [
    "\n",
    "start = timer()\n",
    "samples, is_accepted = model.sample(T=500, burn_in=0)\n",
    "end = timer()\n",
    "print(f'Time taken: {(end - start):.04f}s')"
   ],
   "metadata": {
    "collapsed": false,
    "pycharm": {
     "name": "#%%\n"
    }
   }
  },
  {
   "cell_type": "code",
   "execution_count": null,
   "outputs": [],
   "source": [
    "do_save = False\n",
    "do_load = False\n",
    "if do_save:\n",
    "    model.save('human')\n",
    "if do_load:\n",
    "    # Initialise from saved model:\n",
    "    model = TranscriptionRegulationLFM.load('human', [data, opt])\n",
    "    is_accepted = model.is_accepted"
   ],
   "metadata": {
    "collapsed": false,
    "pycharm": {
     "name": "#%%\n"
    }
   }
  },
  {
   "cell_type": "code",
   "execution_count": null,
   "outputs": [],
   "source": [
    "pcs = list()\n",
    "for i, subsampler in enumerate(model.subsamplers):\n",
    "    pcs.append(tf.reduce_mean(tf.cast(is_accepted[i], dtype=tf.float32)).numpy())\n",
    "\n",
    "display(pd.DataFrame([[f'{100*pc:.02f}%' for pc in pcs]], columns=list(model.subsamplers)))\n",
    "\n",
    "plot_opt = mcmc_plotters.PlotOptions(\n",
    "    num_plot_genes=10, num_plot_tfs=10,\n",
    "    gene_names=np.array(dataset.gene_names), tf_names=['p53'],\n",
    "    true_label='Hafner et al.', for_report=False, ylabel='normalised FPKM',\n",
    "    kernel_names=model.kernel_selector.names(), num_hpd=200\n",
    ")\n",
    "plotter = mcmc_plotters.Plotter(data, plot_opt)\n",
    "\n",
    "# Calculate gene samples\n",
    "σ2_f = None\n",
    "results = model.results()\n"
   ],
   "metadata": {
    "collapsed": false,
    "pycharm": {
     "name": "#%%\n"
    }
   }
  },
  {
   "cell_type": "code",
   "execution_count": null,
   "outputs": [],
   "source": [
    "m_preds = model.sample_latents(results, 20)"
   ],
   "metadata": {
    "collapsed": false,
    "pycharm": {
     "name": "#%%\n"
    }
   }
  },
  {
   "cell_type": "code",
   "execution_count": null,
   "outputs": [],
   "source": [
    "plotter.plot_genes(m_preds, replicate=0, height_mul=2, indices=[5, 11, 20, 21])\n",
    "# plt.legend(bbox_to_anchor=(0, -1));"
   ],
   "metadata": {
    "collapsed": false,
    "pycharm": {
     "name": "#%%\n"
    }
   }
  },
  {
   "cell_type": "code",
   "execution_count": null,
   "outputs": [],
   "source": [
    "kinetic_params = ['basal', 'decay', 'sensitivity']\n",
    "kinetics = np.stack([results[k] for k in kinetic_params]).transpose((1, 2, 0, 3)).squeeze(-1)\n",
    "mean_kinetics = np.mean(kinetics[-50:], axis=0)\n",
    "\n",
    "dec = np.array([0.284200056, 0.399638904, 0.062061123]) #todo incorrect order\n",
    "sens = np.array([4.002484948, 32.89511304, 4.297906129])\n",
    "# np.array([0, *dec, 0])\n",
    "sens = np.array([\n",
    "    0.232461671,0.429175332,1.913169606,0.569821512,2.139812962,0.340465324,\n",
    "    4.203117214,0.635328943,0.920901229,0.263968666,1.360004451,4.816673998,\n",
    "    0.294392325,2.281036308,0.86918333,2.025737447,1.225920534,11.39455009,\n",
    "    4.229758095,4.002484948,32.89511304,7.836815916])\n",
    "dec = np.array([\n",
    "    0.260354271,0.253728801,0.268641114,0.153037374,0.472215028,0.185626363,\n",
    "    0.210251586,0.211915623,0.324826082,0.207834775,0.322725728,0.370265667,\n",
    "    0.221598164,0.226897275,0.409710437,0.398004589,0.357308033,0.498836353,\n",
    "    0.592101838,0.284200056,0.399638904,0.463468107])\n",
    "\n",
    "true_k = np.zeros((num_genes, 4))\n",
    "\n",
    "dec = dec/np.mean(dec) * np.mean(mean_kinetics[:, 1])\n",
    "true_k[:,2] = 1.02*dec\n",
    "\n",
    "sens = sens/np.mean(sens)* np.mean(mean_kinetics[:, 2])\n",
    "true_k[:,3] = sens\n",
    "print(kinetics.shape)\n",
    "plotter.plot_kinetics(results, kinetic_params,\n",
    "                      xlabels=np.array(dataset.gene_names),\n",
    "                      title='Transcription ODE Kinetic Parameters',\n",
    "                      true_k=true_k)\n",
    "\n",
    "plotter.plot_kinetics(results, ['protein_decay'])"
   ],
   "metadata": {
    "collapsed": false,
    "pycharm": {
     "name": "#%%\n"
    }
   }
  },
  {
   "cell_type": "code",
   "execution_count": null,
   "outputs": [],
   "source": [
    "plotter.plot_convergence(results, kinetic_params,\n",
    "                         title='Convergence of ODE Kinetic Parameters')"
   ],
   "metadata": {
    "collapsed": false,
    "pycharm": {
     "name": "#%%\n"
    }
   }
  },
  {
   "cell_type": "code",
   "execution_count": null,
   "outputs": [],
   "source": [
    "plotter.plot_latents(results['latent'][0], replicate=replicate, scale_observed=False)\n",
    "plotter.plot_outputs(m_preds, replicate=replicate)\n",
    "plotter.plot_grn(results)\n"
   ],
   "metadata": {
    "collapsed": false,
    "pycharm": {
     "name": "#%%\n"
    }
   }
  },
  {
   "cell_type": "code",
   "execution_count": null,
   "outputs": [],
   "source": [
    "# plt.figure()\n",
    "# kp = np.array(results.kernel_params).swapaxes(0,1)\n",
    "# kp_latest = np.mean(kp[-50:], axis=0)\n",
    "# self.plot_bar_hpd(kp, kp_latest, self.opt.kernel_names)\n",
    "\n"
   ],
   "metadata": {
    "collapsed": false,
    "pycharm": {
     "name": "#%%\n"
    }
   }
  },
  {
   "cell_type": "code",
   "execution_count": null,
   "outputs": [],
   "source": [],
   "metadata": {
    "collapsed": false,
    "pycharm": {
     "name": "#%%\n"
    }
   }
  },
  {
   "cell_type": "code",
   "execution_count": null,
   "outputs": [],
   "source": [
    "k = results.k[-1]\n",
    "k[-2, 3] = tf.exp(5.)\n",
    "print(k.shape, logistic(np.log(k[-2, 3])))\n",
    "m_pred = model.likelihood.predict_m(logistic(np.log(k)), results.k_fbar[-1], results.wbar[-1],\n",
    "                           results.fbar[-1], results.w_0bar[-1], None)\n",
    "print(m_pred.shape)\n",
    "plt.plot(m_pred[0, -2])"
   ],
   "metadata": {
    "collapsed": false,
    "pycharm": {
     "name": "#%%\n"
    }
   }
  },
  {
   "cell_type": "code",
   "execution_count": null,
   "outputs": [],
   "source": [],
   "metadata": {
    "collapsed": false,
    "pycharm": {
     "name": "#%%\n"
    }
   }
  },
  {
   "cell_type": "code",
   "execution_count": null,
   "outputs": [],
   "source": [
    "# Plot proteins\n",
    "p_samples = model.sample_proteins(results, 20)[:,0]\n",
    "print(p_samples.shape)\n",
    "plotter.plot_samples(p_samples, [''], 4, color='orangered')\n",
    "plt.xlim(0, 10)\n",
    "plt.ylim(-0.05, 2.5)\n",
    "print(8.51/4.72)\n",
    "plt.figure(figsize=(4*1.80297, 4))\n",
    "p = p_samples[-1]\n",
    "y = [1.5, 4.8, 13.7, 5, 2, 1.4, 3.2, 4, 1.4, 1.5]\n",
    "# y = y/np.mean(y)*np.mean(p) * 1.75-0.16\n",
    "# y = scaler.fit_transform(np.expand_dims(y, 0))\n",
    "plt.plot(t[1:11], y)\n",
    "plt.ylim(0, 15)\n",
    "plt.ylabel('p53 fold change')\n",
    "plt.xlabel('Time (h)')\n",
    "plt.xticks(np.arange(1, 11))\n",
    "plt.yticks(np.arange(0, 16, 5))\n",
    "\n",
    "plt.tight_layout()\n",
    "\n"
   ],
   "metadata": {
    "collapsed": false,
    "pycharm": {
     "name": "#%%\n"
    }
   }
  }
 ],
 "metadata": {
  "kernelspec": {
   "name": "python3",
   "language": "python",
   "display_name": "Python 3"
  },
  "language_info": {
   "codemirror_mode": {
    "name": "ipython",
    "version": 2
   },
   "file_extension": ".py",
   "mimetype": "text/x-python",
   "name": "python",
   "nbconvert_exporter": "python",
   "pygments_lexer": "ipython2",
   "version": "2.7.6"
  }
 },
 "nbformat": 4,
 "nbformat_minor": 0
}