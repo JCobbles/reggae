{
 "cells": [
  {
   "cell_type": "code",
   "execution_count": 1,
   "outputs": [],
   "source": [
    "import torch\n",
    "from torch.nn import Parameter\n",
    "\n",
    "from lafomo.gp.variational.models import VariationalLFM\n",
    "from lafomo.gp.variational.trainer import P53ConstrainedTrainer\n",
    "from lafomo.gp.variational.options import VariationalOptions\n",
    "from lafomo.utilities import save, load\n",
    "from lafomo.plot.variational_plotters import Plotter\n",
    "\n",
    "from matplotlib import pyplot as plt"
   ],
   "metadata": {
    "collapsed": false,
    "pycharm": {
     "name": "#%%\n"
    }
   }
  },
  {
   "cell_type": "code",
   "execution_count": 2,
   "outputs": [
    {
     "name": "stderr",
     "output_type": "stream",
     "text": [
      "Variable names are not unique. To make them unique, call `.var_names_make_unique`.\n",
      "Variable names are not unique. To make them unique, call `.var_names_make_unique`.\n",
      "Variable names are not unique. To make them unique, call `.var_names_make_unique`.\n",
      "Variable names are not unique. To make them unique, call `.var_names_make_unique`.\n",
      "Variable names are not unique. To make them unique, call `.var_names_make_unique`.\n"
     ]
    },
    {
     "name": "stdout",
     "output_type": "stream",
     "text": [
      "Filtered out 32289 genes that are detected 20 counts (shared).\n",
      "Normalized count data: X, spliced, unspliced.\n",
      "Extracted 2000 highly variable genes.\n",
      "Logarithmized X.\n"
     ]
    }
   ],
   "source": [
    "from lafomo.data_loaders.datasets import TranscriptomicDataset\n",
    "from os import path\n",
    "import numpy as np\n",
    "class SingleCellKidney(TranscriptomicDataset):\n",
    "    \"\"\"\n",
    "    scRNA-seq dataset on the human kidney.\n",
    "    Accession number: GSE131685\n",
    "    \"\"\"\n",
    "    def __init__(self, replicate=None, data_dir='/Volumes/ultra/genomics/scRNA-seq/GSE131685_RAW_kidney/velocyto'):\n",
    "        super().__init__()\n",
    "        import scvelo as scv\n",
    "        kidney1 = path.join(data_dir, 'kidney1.loom')\n",
    "        data = scv.read_loom(kidney1)\n",
    "        scv.pp.filter_and_normalize(data, min_shared_counts=20, n_top_genes=2000)\n",
    "        self.loom = data\n",
    "        self.gene_names = self.loom.var.index\n",
    "        u = data.layers['unspliced']\n",
    "        s = data.layers['spliced']\n",
    "        self.data = np.concatenate([u.toarray(), s.toarray()], axis=1)\n",
    "        num_cells = self.data.shape[0]\n",
    "        self.data = torch.tensor(self.data.swapaxes(0, 1).reshape(4000, 1, num_cells))\n",
    "        self.m_observed = self.data.permute(1, 0, 2)\n",
    "\n",
    "        self.data = list(self.data)\n",
    "dataset = SingleCellKidney()"
   ],
   "metadata": {
    "collapsed": false,
    "pycharm": {
     "name": "#%%\n"
    }
   }
  },
  {
   "cell_type": "code",
   "execution_count": 3,
   "outputs": [
    {
     "name": "stdout",
     "output_type": "stream",
     "text": [
      "torch.Size([1, 4000, 8164])\n",
      "(2000,)\n",
      "torch.Size([1, 8164])\n"
     ]
    }
   ],
   "source": [
    "print(dataset.m_observed.shape)\n",
    "print(dataset.loom.var.index.shape)\n",
    "print(dataset[0].shape)"
   ],
   "metadata": {
    "collapsed": false,
    "pycharm": {
     "name": "#%%\n"
    }
   }
  },
  {
   "cell_type": "code",
   "execution_count": 4,
   "outputs": [],
   "source": [
    "from lafomo.data_loaders import LFMDataset\n",
    "class RNAVelocityLFM(VariationalLFM):\n",
    "    def __init__(self, num_genes, num_latents, t_inducing, dataset: LFMDataset, options: VariationalOptions, **kwargs):\n",
    "        super().__init__(num_genes*2, num_latents, t_inducing, dataset, options, **kwargs)\n",
    "        self.transcription_rate = Parameter(torch.rand((num_genes, 1), dtype=torch.float64))\n",
    "        self.splicing_rate = Parameter(torch.rand((num_genes, 1), dtype=torch.float64))\n",
    "        self.decay_rate = Parameter(0.1 + torch.rand((num_genes, 1), dtype=torch.float64))\n",
    "        self.num_cells = dataset[0][0].shape[0]\n",
    "        ### Initialise random time assignments\n",
    "        self.time_assignments = torch.rand(self.num_cells, requires_grad=False)\n",
    "\n",
    "    def odefunc(self, t, h):\n",
    "        \"\"\"h is of shape (num_samples, num_outputs, 1)\"\"\"\n",
    "        self.nfe += 1\n",
    "        # if (self.nfe % 100) == 0:\n",
    "        #     print(t)\n",
    "        num_samples = h.shape[0]\n",
    "        num_outputs = h.shape[1]\n",
    "        h = h.view(num_samples, num_outputs//2, 2)\n",
    "        u = h[:, :, 0].unsqueeze(-1)\n",
    "        s = h[:, :, 1].unsqueeze(-1)\n",
    "        du = self.transcription_rate - self.splicing_rate * u\n",
    "        ds = self.splicing_rate * u - self.decay_rate * s\n",
    "\n",
    "        # q_f = self.get_latents(t.reshape(-1))\n",
    "        # # Reparameterisation trick\n",
    "        # f = q_f.rsample([self.num_samples])  # (S, I, t)\n",
    "        # f = self.G(f)  # (S, num_outputs, t)\n",
    "\n",
    "        h_t = torch.cat([du, ds], dim=1)\n",
    "\n",
    "        return h_t\n",
    "\n",
    "    def G(self, f):\n",
    "        \"\"\"\n",
    "        Parameters:\n",
    "            f: (I, T)\n",
    "        \"\"\"\n",
    "        return f\n",
    "\n",
    "    def predict_f(self, t_predict):\n",
    "        # Sample from the latent distribution\n",
    "        q_f = self.get_latents(t_predict.reshape(-1))\n",
    "        f = q_f.sample([500])  # (S, I, t)\n",
    "        # This is a hack to wrap the latent function with the nonlinearity. Note we use the same variance.\n",
    "        f = torch.mean(self.G(f), dim=0)[0]\n",
    "        return torch.distributions.multivariate_normal.MultivariateNormal(f, scale_tril=q_f.scale_tril)"
   ],
   "metadata": {
    "collapsed": false,
    "pycharm": {
     "name": "#%%\n"
    }
   }
  },
  {
   "cell_type": "code",
   "execution_count": 5,
   "outputs": [],
   "source": [
    "from torch.utils.data import DataLoader\n",
    "import numpy as np\n",
    "from lafomo.utilities import is_cuda\n",
    "from lafomo.gp.variational.trainer import Trainer\n",
    "class EMTrainer(Trainer):\n",
    "    \"\"\"\n",
    "    Expectation-Maximisation Trainer\n",
    "\n",
    "    Parameters\n",
    "    ----------\n",
    "    model: .\n",
    "    optimizer:\n",
    "    dataset: Dataset where t_observed (T,), m_observed (J, T).\n",
    "    inducing timepoints.\n",
    "    give_output: whether the trainer should give the first output (y_0) as initial value to the model `forward()`\n",
    "    \"\"\"\n",
    "    def __init__(self, model: RNAVelocityLFM, optimizer: torch.optim.Optimizer, dataset, batch_size=1, give_output=False):\n",
    "        super().__init__(model, optimizer, dataset, batch_size, give_output)\n",
    "        # Initialise trajectory\n",
    "        self.timepoint_choices = torch.linspace(0, 1, 100, requires_grad=False)\n",
    "        initial_value = self.initial_value(None)\n",
    "        self.previous_trajectory = model(self.timepoint_choices, initial_value, rtol=1e-3, atol=1e-4)\n",
    "\n",
    "    def initial_value(self, y):\n",
    "        initial_value = torch.zeros((self.batch_size, 1), dtype=torch.float64)\n",
    "        initial_value = initial_value.cuda() if is_cuda() else initial_value\n",
    "        if self.give_output:\n",
    "            initial_value = y[0]\n",
    "        return initial_value.repeat(self.model.num_samples, 1, 1)  # Add batch dimension for sampling\n",
    "\n",
    "    def single_epoch(self, rtol, atol):\n",
    "        epoch_loss = 0\n",
    "        epoch_ll = 0\n",
    "        epoch_kl = 0\n",
    "        for i, data in enumerate(self.data_loader):\n",
    "            self.optimizer.zero_grad()\n",
    "            y = data\n",
    "            t = t.cuda() if is_cuda() else t\n",
    "            y = y.cuda() if is_cuda() else y\n",
    "            # Assume that the batch of t s are the same\n",
    "            t, y = t[0].view(-1), y\n",
    "\n",
    "            ### E-step ###\n",
    "            # assign timepoints $t_i$ to each cell by minimising its distance to the trajectory\n",
    "            num_outputs = self.model.num_outputs\n",
    "            u = self.previous_trajectory[:num_outputs//2]\n",
    "            s = self.previous_trajectory[num_outputs//2:]\n",
    "            print(u.shape, s.shape, y.shape)\n",
    "            # y shape (\n",
    "            norm = (self.previous_trajectory - y)\n",
    "            ### M-step ###\n",
    "            initial_value = self.initial_value(y)\n",
    "            output = self.model(t, initial_value, rtol=rtol, atol=atol)\n",
    "            output = torch.squeeze(output)\n",
    "            # Calc loss and backprop gradients\n",
    "            mult = 1\n",
    "            if self.num_epochs <= 10:\n",
    "                mult = self.num_epochs/10\n",
    "\n",
    "            ll, kl = self.model.elbo(y, output, mult, data_index=i)\n",
    "            total_loss = -ll + kl\n",
    "            total_loss.backward()\n",
    "            self.optimizer.step()\n",
    "            epoch_loss += total_loss.item()\n",
    "            epoch_ll += ll.item()\n",
    "            epoch_kl += kl.item()\n",
    "        return epoch_loss, epoch_ll, epoch_kl\n",
    "\n",
    "    def train(self, epochs=20, report_interval=1, plot_interval=20, rtol=1e-5, atol=1e-6):\n",
    "        losses = list()\n",
    "        end_epoch = self.num_epochs+epochs\n",
    "        plt.figure(figsize=(4, 2.3))\n",
    "\n",
    "        for epoch in range(epochs):\n",
    "            epoch_loss, epoch_ll, epoch_kl = self.single_epoch(rtol, atol)\n",
    "\n",
    "\n",
    "            if (epoch % report_interval) == 0:\n",
    "                print('Epoch %d/%d - Loss: %.2f (%.2f %.2f) λ: %.3f' % (\n",
    "                    self.num_epochs + 1, end_epoch,\n",
    "                    epoch_loss, -epoch_ll, epoch_kl,\n",
    "                    self.model.kernel.lengthscale[0].item(),\n",
    "                ), end='')\n",
    "                self.print_extra()\n",
    "\n",
    "            losses.append((-epoch_ll, epoch_kl))\n",
    "            self.after_epoch()\n",
    "\n",
    "            if (epoch % plot_interval) == 0:\n",
    "                plt.plot(self.t_observed, output[0].cpu().detach().numpy(), label='epoch'+str(epoch))\n",
    "            self.num_epochs += 1\n",
    "        plt.legend()\n",
    "\n",
    "        losses = np.array(losses)\n",
    "        self.losses = np.concatenate([self.losses, losses], axis=0)\n",
    "\n",
    "        return output\n",
    "\n",
    "    def print_extra(self):\n",
    "        print('')\n",
    "\n",
    "    def after_epoch(self):\n",
    "        pass\n"
   ],
   "metadata": {
    "collapsed": false,
    "pycharm": {
     "name": "#%%\n"
    }
   }
  },
  {
   "cell_type": "code",
   "execution_count": 8,
   "outputs": [
    {
     "name": "stdout",
     "output_type": "stream",
     "text": [
      "8164\n"
     ]
    }
   ],
   "source": [
    "options = VariationalOptions(\n",
    "    learn_inducing=False,\n",
    "    num_samples=50,\n",
    "    kernel_scale=False\n",
    ")\n",
    "num_cells = dataset[0].shape[1]\n",
    "print(num_cells)\n",
    "t_inducing = torch.linspace(0, 1, 10, dtype=torch.float64).reshape((-1, 1))\n",
    "t_observed = torch.linspace(0, 12, num_cells).view(-1)\n",
    "t_predict = torch.linspace(-1, 13, 80, dtype=torch.float64)\n",
    "model = RNAVelocityLFM(2000, 1, t_inducing, dataset, options)\n",
    "\n",
    "optimizer = torch.optim.Adam(model.parameters(), lr=0.05)\n",
    "trainer = EMTrainer(model, optimizer, dataset, batch_size=4000)\n",
    "plotter = Plotter(model, dataset.gene_names)"
   ],
   "metadata": {
    "collapsed": false,
    "pycharm": {
     "name": "#%%\n"
    }
   }
  },
  {
   "cell_type": "markdown",
   "source": [
    "### Outputs prior to training:"
   ],
   "metadata": {
    "collapsed": false
   }
  },
  {
   "cell_type": "code",
   "execution_count": 9,
   "outputs": [
    {
     "data": {
      "text/plain": "(tensor([[[ 0.0000e+00,  3.7026e-03,  7.2158e-03,  ...,  7.1063e-02,\n            7.1127e-02,  7.1189e-02],\n          [ 0.0000e+00,  8.7016e-02,  1.5228e-01,  ...,  4.6229e+01,\n            4.8482e+01,  5.0784e+01],\n          [ 0.0000e+00,  1.4529e-01,  2.8047e-01,  ..., -1.3720e+01,\n           -1.4053e+01, -1.4373e+01],\n          ...,\n          [ 0.0000e+00, -1.3389e-11, -9.4013e-11,  ...,  1.4333e+03,\n            1.6658e+03,  1.9357e+03],\n          [ 0.0000e+00,  6.1605e-12,  4.3187e-11,  ..., -4.0458e+03,\n           -4.6966e+03, -5.4429e+03],\n          [ 0.0000e+00,  3.7919e-14,  2.6667e-13,  ..., -6.7210e+03,\n           -7.8260e+03, -9.0952e+03]],\n \n         [[ 0.0000e+00,  1.1416e-01,  2.1833e-01,  ..., -7.6264e+01,\n           -8.2371e+01, -8.8777e+01],\n          [ 0.0000e+00,  1.6786e-01,  3.2063e-01,  ..., -2.0855e+02,\n           -2.2464e+02, -2.4199e+02],\n          [ 0.0000e+00,  1.5556e-01,  2.9613e-01,  ..., -2.8565e+02,\n           -3.0101e+02, -3.1695e+02],\n          ...,\n          [ 0.0000e+00, -1.7866e-10, -1.2543e-09,  ..., -4.0184e+03,\n           -4.5008e+03, -5.0334e+03],\n          [ 0.0000e+00,  3.7383e-12,  2.6379e-11,  ...,  4.7770e+03,\n            5.4536e+03,  6.2154e+03],\n          [ 0.0000e+00,  3.2662e-16,  2.2624e-15,  ..., -2.1843e+03,\n           -2.5737e+03, -3.0262e+03]]]),\n tensor([[[0., 0., 0.,  ..., 0., 0., 0.],\n          [0., 0., 0.,  ..., 0., 0., 0.],\n          [0., 0., 0.,  ..., 0., 0., 0.],\n          ...,\n          [0., 0., 0.,  ..., 0., 0., 0.],\n          [0., 0., 0.,  ..., 0., 0., 0.],\n          [0., 0., 0.,  ..., 0., 0., 0.]],\n \n         [[0., 0., 0.,  ..., 0., 0., 0.],\n          [0., 0., 0.,  ..., 0., 0., 0.],\n          [0., 0., 0.,  ..., 0., 0., 0.],\n          ...,\n          [0., 0., 0.,  ..., 0., 0., 0.],\n          [0., 0., 0.,  ..., 0., 0., 0.],\n          [0., 0., 0.,  ..., 0., 0., 0.]]]))"
     },
     "execution_count": 9,
     "metadata": {},
     "output_type": "execute_result"
    },
    {
     "data": {
      "text/plain": "<Figure size 432x1152 with 10 Axes>",
      "image/png": "[encoded data removed]"
     },
     "metadata": {},
     "output_type": "display_data"
    }
   ],
   "source": [
    "rtol = 1e-3\n",
    "atol = rtol/10\n",
    "\n",
    "model_kwargs = {\n",
    "    'rtol': rtol, 'atol': atol\n",
    "}\n",
    "\n",
    "plotter.plot_outputs(t_predict, replicate=0, t_scatter=t_observed,y_scatter=dataset.m_observed, model_kwargs=model_kwargs)\n",
    "# plotter.plot_latents(t_predict, ylim=(-1, 3), plot_barenco=True, plot_inducing=False)"
   ],
   "metadata": {
    "collapsed": false,
    "pycharm": {
     "name": "#%%\n"
    }
   }
  },
  {
   "cell_type": "code",
   "execution_count": 10,
   "outputs": [
    {
     "ename": "ValueError",
     "evalue": "too many values to unpack (expected 2)",
     "output_type": "error",
     "traceback": [
      "\u001B[0;31m---------------------------------------------------------------------------\u001B[0m",
      "\u001B[0;31mValueError\u001B[0m                                Traceback (most recent call last)",
      "\u001B[0;32m<ipython-input-10-ac4d58f2757c>\u001B[0m in \u001B[0;36m<module>\u001B[0;34m\u001B[0m\n\u001B[1;32m      4\u001B[0m \u001B[0;34m\u001B[0m\u001B[0m\n\u001B[1;32m      5\u001B[0m output = trainer.train(1, rtol=tol, atol=tol/10,\n\u001B[0;32m----> 6\u001B[0;31m                        report_interval=5, plot_interval=5)\n\u001B[0m\u001B[1;32m      7\u001B[0m \u001B[0mend\u001B[0m \u001B[0;34m=\u001B[0m \u001B[0mtime\u001B[0m\u001B[0;34m.\u001B[0m\u001B[0mtime\u001B[0m\u001B[0;34m(\u001B[0m\u001B[0;34m)\u001B[0m\u001B[0;34m\u001B[0m\u001B[0;34m\u001B[0m\u001B[0m\n\u001B[1;32m      8\u001B[0m \u001B[0mprint\u001B[0m\u001B[0;34m(\u001B[0m\u001B[0mend\u001B[0m \u001B[0;34m-\u001B[0m \u001B[0mstart\u001B[0m\u001B[0;34m)\u001B[0m\u001B[0;34m\u001B[0m\u001B[0;34m\u001B[0m\u001B[0m\n",
      "\u001B[0;32m<ipython-input-5-f566923dfa04>\u001B[0m in \u001B[0;36mtrain\u001B[0;34m(self, epochs, report_interval, plot_interval, rtol, atol)\u001B[0m\n\u001B[1;32m     73\u001B[0m \u001B[0;34m\u001B[0m\u001B[0m\n\u001B[1;32m     74\u001B[0m         \u001B[0;32mfor\u001B[0m \u001B[0mepoch\u001B[0m \u001B[0;32min\u001B[0m \u001B[0mrange\u001B[0m\u001B[0;34m(\u001B[0m\u001B[0mepochs\u001B[0m\u001B[0;34m)\u001B[0m\u001B[0;34m:\u001B[0m\u001B[0;34m\u001B[0m\u001B[0;34m\u001B[0m\u001B[0m\n\u001B[0;32m---> 75\u001B[0;31m             \u001B[0mepoch_loss\u001B[0m\u001B[0;34m,\u001B[0m \u001B[0mepoch_ll\u001B[0m\u001B[0;34m,\u001B[0m \u001B[0mepoch_kl\u001B[0m \u001B[0;34m=\u001B[0m \u001B[0mself\u001B[0m\u001B[0;34m.\u001B[0m\u001B[0msingle_epoch\u001B[0m\u001B[0;34m(\u001B[0m\u001B[0mrtol\u001B[0m\u001B[0;34m,\u001B[0m \u001B[0matol\u001B[0m\u001B[0;34m)\u001B[0m\u001B[0;34m\u001B[0m\u001B[0;34m\u001B[0m\u001B[0m\n\u001B[0m\u001B[1;32m     76\u001B[0m \u001B[0;34m\u001B[0m\u001B[0m\n\u001B[1;32m     77\u001B[0m \u001B[0;34m\u001B[0m\u001B[0m\n",
      "\u001B[0;32m<ipython-input-5-f566923dfa04>\u001B[0m in \u001B[0;36msingle_epoch\u001B[0;34m(self, rtol, atol)\u001B[0m\n\u001B[1;32m     35\u001B[0m         \u001B[0;32mfor\u001B[0m \u001B[0mi\u001B[0m\u001B[0;34m,\u001B[0m \u001B[0mdata\u001B[0m \u001B[0;32min\u001B[0m \u001B[0menumerate\u001B[0m\u001B[0;34m(\u001B[0m\u001B[0mself\u001B[0m\u001B[0;34m.\u001B[0m\u001B[0mdata_loader\u001B[0m\u001B[0;34m)\u001B[0m\u001B[0;34m:\u001B[0m\u001B[0;34m\u001B[0m\u001B[0;34m\u001B[0m\u001B[0m\n\u001B[1;32m     36\u001B[0m             \u001B[0mself\u001B[0m\u001B[0;34m.\u001B[0m\u001B[0moptimizer\u001B[0m\u001B[0;34m.\u001B[0m\u001B[0mzero_grad\u001B[0m\u001B[0;34m(\u001B[0m\u001B[0;34m)\u001B[0m\u001B[0;34m\u001B[0m\u001B[0;34m\u001B[0m\u001B[0m\n\u001B[0;32m---> 37\u001B[0;31m             \u001B[0mt\u001B[0m\u001B[0;34m,\u001B[0m \u001B[0my\u001B[0m \u001B[0;34m=\u001B[0m \u001B[0mdata\u001B[0m\u001B[0;34m\u001B[0m\u001B[0;34m\u001B[0m\u001B[0m\n\u001B[0m\u001B[1;32m     38\u001B[0m             \u001B[0mt\u001B[0m \u001B[0;34m=\u001B[0m \u001B[0mt\u001B[0m\u001B[0;34m.\u001B[0m\u001B[0mcuda\u001B[0m\u001B[0;34m(\u001B[0m\u001B[0;34m)\u001B[0m \u001B[0;32mif\u001B[0m \u001B[0mis_cuda\u001B[0m\u001B[0;34m(\u001B[0m\u001B[0;34m)\u001B[0m \u001B[0;32melse\u001B[0m \u001B[0mt\u001B[0m\u001B[0;34m\u001B[0m\u001B[0;34m\u001B[0m\u001B[0m\n\u001B[1;32m     39\u001B[0m             \u001B[0my\u001B[0m \u001B[0;34m=\u001B[0m \u001B[0my\u001B[0m\u001B[0;34m.\u001B[0m\u001B[0mcuda\u001B[0m\u001B[0;34m(\u001B[0m\u001B[0;34m)\u001B[0m \u001B[0;32mif\u001B[0m \u001B[0mis_cuda\u001B[0m\u001B[0;34m(\u001B[0m\u001B[0;34m)\u001B[0m \u001B[0;32melse\u001B[0m \u001B[0my\u001B[0m\u001B[0;34m\u001B[0m\u001B[0;34m\u001B[0m\u001B[0m\n",
      "\u001B[0;31mValueError\u001B[0m: too many values to unpack (expected 2)"
     ]
    },
    {
     "data": {
      "text/plain": "<Figure size 288x165.6 with 0 Axes>"
     },
     "metadata": {},
     "output_type": "display_data"
    }
   ],
   "source": [
    "tol = 5e-3\n",
    "import time\n",
    "start = time.time()\n",
    "\n",
    "output = trainer.train(1, rtol=tol, atol=tol/10,\n",
    "                       report_interval=5, plot_interval=5)\n",
    "end = time.time()\n",
    "print(end - start)\n"
   ],
   "metadata": {
    "collapsed": false,
    "pycharm": {
     "name": "#%%\n"
    }
   }
  },
  {
   "cell_type": "markdown",
   "source": [
    "### Outputs after training"
   ],
   "metadata": {
    "collapsed": false,
    "pycharm": {
     "name": "#%% md\n"
    }
   }
  },
  {
   "cell_type": "code",
   "execution_count": null,
   "outputs": [],
   "source": [
    "plotter.plot_losses(trainer, last_x=100)\n",
    "plotter.plot_outputs(t_predict, replicate=0, ylim=(0, 3), t_scatter=t_observed,y_scatter=m_observed, model_kwargs=model_kwargs)\n",
    "plotter.plot_latents(t_predict, ylim=(-2, 4), plot_barenco=True, plot_inducing=False)\n",
    "plotter.plot_kinetics()\n",
    "plotter.plot_convergence(trainer)"
   ],
   "metadata": {
    "collapsed": false,
    "pycharm": {
     "name": "#%%\n"
    }
   }
  },
  {
   "cell_type": "code",
   "execution_count": null,
   "outputs": [],
   "source": [
    "save(model, 'variational_linear')"
   ],
   "metadata": {
    "collapsed": false,
    "pycharm": {
     "name": "#%%\n"
    }
   }
  },
  {
   "cell_type": "code",
   "execution_count": null,
   "outputs": [],
   "source": [
    "do_load = False\n",
    "if do_load:\n",
    "    model = load('variational_linear', SingleLinearLFM, num_genes, num_tfs,\n",
    "                 t_inducing, dataset, extra_points=2, fixed_variance=dataset.variance)\n",
    "\n",
    "    optimizer = torch.optim.Adam(model.parameters(), lr=0.1)\n",
    "    trainer = P53ConstrainedTrainer(model, optimizer, dataset)\n",
    "print(do_load)"
   ],
   "metadata": {
    "collapsed": false,
    "pycharm": {
     "name": "#%%\n"
    }
   }
  },
  {
   "cell_type": "code",
   "execution_count": null,
   "outputs": [],
   "source": [
    "\n",
    "\n"
   ],
   "metadata": {
    "collapsed": false,
    "pycharm": {
     "name": "#%%\n"
    }
   }
  }
 ],
 "metadata": {
  "kernelspec": {
   "name": "python3",
   "language": "python",
   "display_name": "Python 3"
  },
  "language_info": {
   "codemirror_mode": {
    "name": "ipython",
    "version": 2
   },
   "file_extension": ".py",
   "mimetype": "text/x-python",
   "name": "python",
   "nbconvert_exporter": "python",
   "pygments_lexer": "ipython2",
   "version": "2.7.6"
  }
 },
 "nbformat": 4,
 "nbformat_minor": 0
}