{
 "cells": [
  {
   "cell_type": "code",
   "execution_count": 1,
   "metadata": {
    "collapsed": true
   },
   "outputs": [],
   "source": [
    "import numpy as np\n",
    "import torch\n",
    "import torch.nn.functional as F\n",
    "\n",
    "from torch.nn import Linear\n",
    "from torch.utils.data import DataLoader, TensorDataset\n",
    "\n",
    "from functools import partial\n",
    "from matplotlib import pyplot as plt\n",
    "\n",
    "from lafomo.datasets import ToyTimeSeries, ToySpatialTranscriptomics\n",
    "from lafomo.models import OperatorModel\n",
    "from lafomo.nn import LpLoss"
   ]
  },
  {
   "cell_type": "code",
   "execution_count": 55,
   "outputs": [
    {
     "name": "stdout",
     "output_type": "stream",
     "text": [
      "(453870, 4)\n",
      "270\n",
      "(1681, 4)\n"
     ]
    },
    {
     "name": "stderr",
     "output_type": "stream",
     "text": [
      "C:\\Users\\Jacob\\miniconda3\\envs\\wishart\\lib\\site-packages\\ipykernel_launcher.py:38: UserWarning: To copy construct from a tensor, it is recommended to use sourceTensor.clone().detach() or sourceTensor.clone().detach().requires_grad_(True), rather than torch.tensor(sourceTensor).\n"
     ]
    },
    {
     "data": {
      "text/plain": "<Figure size 720x360 with 2 Axes>",
      "image/png": "[encoded data removed]"
     },
     "metadata": {},
     "output_type": "display_data"
    }
   ],
   "source": [
    "from lafomo.utilities.torch import get_image\n",
    "from lafomo.plot import Plotter, plot_spatiotemporal_data\n",
    "\n",
    "dataset = ToySpatialTranscriptomics('../../data', one_fixed_sample=False)\n",
    "print(len(dataset))\n",
    "i = 49\n",
    "orig_data = dataset.orig_data[1681*(i):1681*(i+1)]\n",
    "print(orig_data.shape)\n",
    "images = [get_image(orig_data, i) for i in range(2, 4)]\n",
    "tx = dataset.data[0][0]\n",
    "num_t = tx[0, :].unique().shape[0]\n",
    "num_x = tx[1, :].unique().shape[0]\n",
    "\n",
    "ts = tx[0, :].unique().sort()[0].numpy()\n",
    "xs = tx[1, :].unique().sort()[0].numpy()\n",
    "extent = [ts[0], ts[-1], xs[0], xs[-1]]\n",
    "\n",
    "plot_spatiotemporal_data(\n",
    "    [torch.tensor(orig_data[:, 2]).view(num_t, num_x).t()],\n",
    "    extent, nrows=1, ncols=1\n",
    ")\n",
    "block_dim = 2\n",
    "\n",
    "ntest = 50\n",
    "ntrain = len(dataset) - ntest\n",
    "batch_size = 50\n",
    "learning_rate = 0.001\n",
    "\n",
    "step_size = 100\n",
    "gamma = 0.5\n",
    "\n",
    "modes = 12\n",
    "width = 32\n",
    "def generate_neural_dataset(dataset, ntrain, ntest):\n",
    "    s = 41\n",
    "    tx, _ = dataset.data[0]\n",
    "    grid = tx.t()\n",
    "    grid = torch.tensor(grid.reshape(1,s,s,2), dtype=torch.float)\n",
    "\n",
    "    data = torch.tensor(dataset.orig_data.reshape(len(dataset), s, s, 4), dtype=torch.float)\n",
    "    y_train = data[:ntrain, ..., 2:3]\n",
    "    x_train = data[:ntrain, ..., 3]\n",
    "    y_test = data[ntrain:, ..., 2:3]\n",
    "    x_test = data[ntrain:, ..., 3]\n",
    "\n",
    "    x_train = torch.cat([x_train.reshape(ntrain,s,s,1), grid.repeat(ntrain,1,1,1)], dim=3)\n",
    "    x_test = torch.cat([x_test.reshape(ntest,s,s,1), grid.repeat(ntest,1,1,1)], dim=3)\n",
    "\n",
    "    train_loader = DataLoader(torch.utils.data.TensorDataset(x_train, y_train),\n",
    "                              batch_size=batch_size, shuffle=True)\n",
    "    if ntest > 0:\n",
    "        test_loader = DataLoader(torch.utils.data.TensorDataset(x_test, y_test),\n",
    "                              batch_size=ntest, shuffle=True)\n",
    "        return train_loader, test_loader\n",
    "    else:\n",
    "        return train_loader\n",
    "\n",
    "train_loader, test_loader = generate_neural_dataset(dataset, ntrain, ntest)"
   ],
   "metadata": {
    "collapsed": false,
    "pycharm": {
     "name": "#%%\n"
    }
   }
  },
  {
   "cell_type": "code",
   "execution_count": 20,
   "outputs": [],
   "source": [
    "num_outputs = 10\n",
    "basal_rate = 0.1 + 0.3 * torch.rand(torch.Size([num_outputs, 1]), dtype=torch.float32)\n",
    "sensitivity = 2 + 5 * torch.rand(torch.Size([num_outputs, 1]), dtype=torch.float32)\n",
    "decay_rate = 0.2 + 2 * torch.rand(torch.Size([num_outputs, 1]), dtype=torch.float32)\n"
   ],
   "metadata": {
    "collapsed": false,
    "pycharm": {
     "name": "#%%\n"
    }
   }
  },
  {
   "cell_type": "code",
   "execution_count": 3,
   "outputs": [],
   "source": [
    "ntrain = 15\n",
    "ntest = 5\n",
    "learning_rate = 1e-3\n",
    "batch_size = ntrain\n",
    "\n",
    "datasets = list()\n",
    "for i in range(ntrain + ntest):\n",
    "    dataset = ToyTimeSeries(num_outputs, 1, 10, params=[basal_rate, sensitivity, decay_rate], plot=False)\n",
    "    datasets.append(dataset)"
   ],
   "metadata": {
    "collapsed": false,
    "pycharm": {
     "name": "#%%\n"
    }
   }
  },
  {
   "cell_type": "code",
   "execution_count": 14,
   "outputs": [
    {
     "ename": "NameError",
     "evalue": "name 'datasets' is not defined",
     "output_type": "error",
     "traceback": [
      "\u001B[1;31m---------------------------------------------------------------------------\u001B[0m",
      "\u001B[1;31mNameError\u001B[0m                                 Traceback (most recent call last)",
      "\u001B[1;32m<ipython-input-14-e8150b47f81f>\u001B[0m in \u001B[0;36m<module>\u001B[1;34m\u001B[0m\n\u001B[1;32m----> 1\u001B[1;33m \u001B[0mx_train\u001B[0m \u001B[1;33m=\u001B[0m \u001B[0mtorch\u001B[0m\u001B[1;33m.\u001B[0m\u001B[0mcat\u001B[0m\u001B[1;33m(\u001B[0m\u001B[1;33m[\u001B[0m\u001B[0mdataset\u001B[0m\u001B[1;33m.\u001B[0m\u001B[0mm_observed\u001B[0m \u001B[1;32mfor\u001B[0m \u001B[0mdataset\u001B[0m \u001B[1;32min\u001B[0m \u001B[0mdatasets\u001B[0m\u001B[1;33m[\u001B[0m\u001B[1;33m:\u001B[0m\u001B[0mntrain\u001B[0m\u001B[1;33m]\u001B[0m\u001B[1;33m]\u001B[0m\u001B[1;33m)\u001B[0m\u001B[1;33m.\u001B[0m\u001B[0mpermute\u001B[0m\u001B[1;33m(\u001B[0m\u001B[1;36m0\u001B[0m\u001B[1;33m,\u001B[0m \u001B[1;36m2\u001B[0m\u001B[1;33m,\u001B[0m \u001B[1;36m1\u001B[0m\u001B[1;33m)\u001B[0m\u001B[1;33m\u001B[0m\u001B[1;33m\u001B[0m\u001B[0m\n\u001B[0m\u001B[0;32m      2\u001B[0m \u001B[0mx_test\u001B[0m \u001B[1;33m=\u001B[0m \u001B[0mtorch\u001B[0m\u001B[1;33m.\u001B[0m\u001B[0mcat\u001B[0m\u001B[1;33m(\u001B[0m\u001B[1;33m[\u001B[0m\u001B[0mdataset\u001B[0m\u001B[1;33m.\u001B[0m\u001B[0mm_observed\u001B[0m \u001B[1;32mfor\u001B[0m \u001B[0mdataset\u001B[0m \u001B[1;32min\u001B[0m \u001B[0mdatasets\u001B[0m\u001B[1;33m[\u001B[0m\u001B[0mntrain\u001B[0m\u001B[1;33m:\u001B[0m\u001B[1;33m]\u001B[0m\u001B[1;33m]\u001B[0m\u001B[1;33m)\u001B[0m\u001B[1;33m.\u001B[0m\u001B[0mpermute\u001B[0m\u001B[1;33m(\u001B[0m\u001B[1;36m0\u001B[0m\u001B[1;33m,\u001B[0m \u001B[1;36m2\u001B[0m\u001B[1;33m,\u001B[0m \u001B[1;36m1\u001B[0m\u001B[1;33m)\u001B[0m\u001B[1;33m\u001B[0m\u001B[1;33m\u001B[0m\u001B[0m\n\u001B[0;32m      3\u001B[0m \u001B[0mT_in\u001B[0m \u001B[1;33m=\u001B[0m \u001B[1;36m11\u001B[0m\u001B[1;33m\u001B[0m\u001B[1;33m\u001B[0m\u001B[0m\n\u001B[0;32m      4\u001B[0m \u001B[0mgrid\u001B[0m \u001B[1;33m=\u001B[0m \u001B[0mdatasets\u001B[0m\u001B[1;33m[\u001B[0m\u001B[1;36m0\u001B[0m\u001B[1;33m]\u001B[0m\u001B[1;33m.\u001B[0m\u001B[0mt_observed\u001B[0m\u001B[1;33m.\u001B[0m\u001B[0mreshape\u001B[0m\u001B[1;33m(\u001B[0m\u001B[1;36m1\u001B[0m\u001B[1;33m,\u001B[0m \u001B[1;33m-\u001B[0m\u001B[1;36m1\u001B[0m\u001B[1;33m,\u001B[0m \u001B[1;36m1\u001B[0m\u001B[1;33m)\u001B[0m\u001B[1;33m.\u001B[0m\u001B[0mrepeat\u001B[0m\u001B[1;33m(\u001B[0m\u001B[0mntrain\u001B[0m\u001B[1;33m,\u001B[0m \u001B[1;36m1\u001B[0m\u001B[1;33m,\u001B[0m \u001B[1;36m1\u001B[0m\u001B[1;33m)\u001B[0m \u001B[1;31m# (1, 32, 32, 40, 1)\u001B[0m\u001B[1;33m\u001B[0m\u001B[1;33m\u001B[0m\u001B[0m\n\u001B[0;32m      5\u001B[0m \u001B[0mgrid_test\u001B[0m \u001B[1;33m=\u001B[0m \u001B[0mdatasets\u001B[0m\u001B[1;33m[\u001B[0m\u001B[1;36m0\u001B[0m\u001B[1;33m]\u001B[0m\u001B[1;33m.\u001B[0m\u001B[0mt_observed\u001B[0m\u001B[1;33m.\u001B[0m\u001B[0mreshape\u001B[0m\u001B[1;33m(\u001B[0m\u001B[1;36m1\u001B[0m\u001B[1;33m,\u001B[0m \u001B[1;33m-\u001B[0m\u001B[1;36m1\u001B[0m\u001B[1;33m,\u001B[0m \u001B[1;36m1\u001B[0m\u001B[1;33m)\u001B[0m\u001B[1;33m.\u001B[0m\u001B[0mrepeat\u001B[0m\u001B[1;33m(\u001B[0m\u001B[0mntest\u001B[0m\u001B[1;33m,\u001B[0m \u001B[1;36m1\u001B[0m\u001B[1;33m,\u001B[0m \u001B[1;36m1\u001B[0m\u001B[1;33m)\u001B[0m \u001B[1;31m# (1, 32, 32, 40, 1)\u001B[0m\u001B[1;33m\u001B[0m\u001B[1;33m\u001B[0m\u001B[0m\n",
      "\u001B[1;31mNameError\u001B[0m: name 'datasets' is not defined"
     ]
    }
   ],
   "source": [
    "x_train = torch.cat([dataset.m_observed for dataset in datasets[:ntrain]]).permute(0, 2, 1)\n",
    "x_test = torch.cat([dataset.m_observed for dataset in datasets[ntrain:]]).permute(0, 2, 1)\n",
    "T_in = 11\n",
    "grid = datasets[0].t_observed.reshape(1, -1, 1).repeat(ntrain, 1, 1) # (1, 32, 32, 40, 1)\n",
    "grid_test = datasets[0].t_observed.reshape(1, -1, 1).repeat(ntest, 1, 1) # (1, 32, 32, 40, 1)\n",
    "\n",
    "x_train = torch.cat([grid, x_train], dim=-1)\n",
    "x_test = torch.cat([grid_test, x_test], dim=-1)\n",
    "y_train = torch.cat([dataset.f_observed for dataset in datasets[:ntrain]]).permute(0, 2, 1)\n",
    "y_test = torch.cat([dataset.f_observed for dataset in datasets[ntrain:]]).permute(0, 2, 1)\n",
    "print('y', y_train.shape)\n",
    "print('x', x_train.shape)\n",
    "\n",
    "train_loader = DataLoader(torch.utils.data.TensorDataset(x_train, y_train),\n",
    "                          batch_size=batch_size, shuffle=True)\n",
    "test_loader = DataLoader(torch.utils.data.TensorDataset(x_test, y_test),\n",
    "                          batch_size=ntest, shuffle=True)\n",
    "\n",
    "\n"
   ],
   "metadata": {
    "collapsed": false,
    "pycharm": {
     "name": "#%%\n"
    }
   }
  },
  {
   "cell_type": "code",
   "execution_count": 7,
   "outputs": [
    {
     "name": "stdout",
     "output_type": "stream",
     "text": [
      "55777\n"
     ]
    }
   ],
   "source": [
    "width = 20\n",
    "modes = 4\n",
    "model = OperatorModel(block_dim, modes, width)\n",
    "print(model.count_params())"
   ],
   "metadata": {
    "collapsed": false,
    "pycharm": {
     "name": "#%%\n"
    }
   }
  },
  {
   "cell_type": "code",
   "execution_count": 8,
   "outputs": [],
   "source": [
    "gamma = 0.5\n",
    "step_size = 100\n",
    "optimizer = torch.optim.Adam(model.parameters(), lr=learning_rate, weight_decay=1e-4)\n",
    "scheduler = torch.optim.lr_scheduler.StepLR(optimizer, step_size=step_size, gamma=gamma)\n",
    "myloss = LpLoss(size_average=False)"
   ],
   "metadata": {
    "collapsed": false,
    "pycharm": {
     "name": "#%%\n"
    }
   }
  },
  {
   "cell_type": "code",
   "execution_count": 37,
   "outputs": [
    {
     "name": "stdout",
     "output_type": "stream",
     "text": [
      "Epoch 0/50: MSE (train/test): 0.233 0.012 L2 (train/test): 0.476, 0.504\n",
      "Epoch 1/50: MSE (train/test): 0.232 0.011 L2 (train/test): 0.474, 0.504\n",
      "Epoch 2/50: MSE (train/test): 0.229 0.011 L2 (train/test): 0.472, 0.499\n",
      "Epoch 3/50: MSE (train/test): 0.228 0.011 L2 (train/test): 0.470, 0.499\n",
      "Epoch 4/50: MSE (train/test): 0.225 0.011 L2 (train/test): 0.467, 0.498\n",
      "Epoch 5/50: MSE (train/test): 0.223 0.011 L2 (train/test): 0.466, 0.496\n",
      "Epoch 6/50: MSE (train/test): 0.222 0.011 L2 (train/test): 0.464, 0.490\n",
      "Epoch 7/50: MSE (train/test): 0.220 0.011 L2 (train/test): 0.462, 0.492\n",
      "Epoch 8/50: MSE (train/test): 0.218 0.011 L2 (train/test): 0.460, 0.488\n",
      "Epoch 9/50: MSE (train/test): 0.218 0.011 L2 (train/test): 0.460, 0.488\n",
      "Epoch 10/50: MSE (train/test): 0.216 0.011 L2 (train/test): 0.458, 0.484\n",
      "Epoch 11/50: MSE (train/test): 0.214 0.011 L2 (train/test): 0.456, 0.485\n",
      "Epoch 12/50: MSE (train/test): 0.213 0.010 L2 (train/test): 0.454, 0.483\n",
      "Epoch 13/50: MSE (train/test): 0.211 0.010 L2 (train/test): 0.453, 0.480\n",
      "Epoch 14/50: MSE (train/test): 0.210 0.010 L2 (train/test): 0.452, 0.482\n",
      "Epoch 15/50: MSE (train/test): 0.209 0.010 L2 (train/test): 0.451, 0.482\n",
      "Epoch 16/50: MSE (train/test): 0.208 0.010 L2 (train/test): 0.450, 0.483\n",
      "Epoch 17/50: MSE (train/test): 0.207 0.010 L2 (train/test): 0.450, 0.478\n",
      "Epoch 18/50: MSE (train/test): 0.205 0.010 L2 (train/test): 0.446, 0.473\n",
      "Epoch 19/50: MSE (train/test): 0.203 0.010 L2 (train/test): 0.444, 0.473\n",
      "Epoch 20/50: MSE (train/test): 0.201 0.010 L2 (train/test): 0.443, 0.470\n",
      "Epoch 21/50: MSE (train/test): 0.201 0.010 L2 (train/test): 0.442, 0.467\n",
      "Epoch 22/50: MSE (train/test): 0.198 0.010 L2 (train/test): 0.439, 0.467\n",
      "Epoch 23/50: MSE (train/test): 0.198 0.010 L2 (train/test): 0.439, 0.465\n",
      "Epoch 24/50: MSE (train/test): 0.196 0.010 L2 (train/test): 0.438, 0.463\n",
      "Epoch 25/50: MSE (train/test): 0.195 0.010 L2 (train/test): 0.436, 0.463\n",
      "Epoch 26/50: MSE (train/test): 0.194 0.009 L2 (train/test): 0.435, 0.462\n",
      "Epoch 27/50: MSE (train/test): 0.192 0.009 L2 (train/test): 0.433, 0.458\n",
      "Epoch 28/50: MSE (train/test): 0.192 0.009 L2 (train/test): 0.432, 0.459\n",
      "Epoch 29/50: MSE (train/test): 0.190 0.009 L2 (train/test): 0.431, 0.455\n",
      "Epoch 30/50: MSE (train/test): 0.189 0.009 L2 (train/test): 0.429, 0.459\n",
      "Epoch 31/50: MSE (train/test): 0.187 0.009 L2 (train/test): 0.428, 0.454\n",
      "Epoch 32/50: MSE (train/test): 0.187 0.009 L2 (train/test): 0.427, 0.454\n",
      "Epoch 33/50: MSE (train/test): 0.184 0.009 L2 (train/test): 0.424, 0.451\n",
      "Epoch 34/50: MSE (train/test): 0.183 0.009 L2 (train/test): 0.423, 0.450\n",
      "Epoch 35/50: MSE (train/test): 0.181 0.009 L2 (train/test): 0.420, 0.447\n",
      "Epoch 36/50: MSE (train/test): 0.180 0.009 L2 (train/test): 0.419, 0.446\n",
      "Epoch 37/50: MSE (train/test): 0.179 0.009 L2 (train/test): 0.418, 0.446\n",
      "Epoch 38/50: MSE (train/test): 0.177 0.009 L2 (train/test): 0.417, 0.444\n",
      "Epoch 39/50: MSE (train/test): 0.176 0.009 L2 (train/test): 0.415, 0.444\n",
      "Epoch 40/50: MSE (train/test): 0.176 0.009 L2 (train/test): 0.415, 0.441\n",
      "Epoch 41/50: MSE (train/test): 0.174 0.009 L2 (train/test): 0.413, 0.443\n",
      "Epoch 42/50: MSE (train/test): 0.173 0.008 L2 (train/test): 0.412, 0.439\n",
      "Epoch 43/50: MSE (train/test): 0.171 0.008 L2 (train/test): 0.410, 0.437\n",
      "Epoch 44/50: MSE (train/test): 0.170 0.008 L2 (train/test): 0.408, 0.436\n",
      "Epoch 45/50: MSE (train/test): 0.168 0.008 L2 (train/test): 0.406, 0.434\n",
      "Epoch 46/50: MSE (train/test): 0.168 0.008 L2 (train/test): 0.405, 0.433\n",
      "Epoch 47/50: MSE (train/test): 0.167 0.008 L2 (train/test): 0.405, 0.436\n",
      "Epoch 48/50: MSE (train/test): 0.167 0.008 L2 (train/test): 0.405, 0.431\n",
      "Epoch 49/50: MSE (train/test): 0.165 0.008 L2 (train/test): 0.402, 0.429\n"
     ]
    }
   ],
   "source": [
    "epochs = 50\n",
    "\n",
    "for ep in range(epochs):\n",
    "    model.train()\n",
    "    train_mse = 0\n",
    "    train_l2 = 0\n",
    "    for x, y in train_loader:\n",
    "        # x, y = x.cuda(), y.cuda()\n",
    "\n",
    "        optimizer.zero_grad()\n",
    "        out = model(x)\n",
    "\n",
    "        mse = F.mse_loss(out, y, reduction='mean')\n",
    "        # mse.backward()\n",
    "        l2 = myloss(out.view(batch_size, -1), y.view(batch_size, -1))\n",
    "        l2.backward() # use the l2 relative loss\n",
    "\n",
    "        optimizer.step()\n",
    "        train_mse += mse.item()\n",
    "        train_l2 += l2.item()\n",
    "\n",
    "    scheduler.step()\n",
    "    model.eval()\n",
    "    test_l2 = 0.0\n",
    "    test_mse = 0.0\n",
    "    with torch.no_grad():\n",
    "        for x, y in test_loader:\n",
    "            # x, y = x.cuda(), y.cuda()\n",
    "\n",
    "            out = model(x)\n",
    "            test_mse += F.mse_loss(out, y, reduction='mean')\n",
    "            test_l2 += myloss(\n",
    "                out.view(test_loader.batch_size, -1), y.view(test_loader.batch_size, -1)).item()\n",
    "\n",
    "    train_mse /= len(train_loader)\n",
    "    train_l2 /= ntrain\n",
    "    test_l2 /= ntest\n",
    "    test_mse /= ntest\n",
    "\n",
    "    print(f'Epoch {ep}/{epochs}: MSE (train/test): {train_mse:.03f} {test_mse:.03f} L2 (train/test): {train_l2:.03f}, {test_l2:.03f}')"
   ],
   "metadata": {
    "collapsed": false,
    "pycharm": {
     "name": "#%%\n"
    }
   }
  },
  {
   "cell_type": "code",
   "execution_count": 63,
   "outputs": [],
   "source": [
    "def show_result(x, y, out):\n",
    "    if block_dim == 1:\n",
    "        fig, axes = plt.subplots(ncols=2, figsize=(8, 3))\n",
    "        for i in range(1, 5):\n",
    "            axes[0].plot(x[0, :, i])#.shape, y.shape)\n",
    "        axes[1].plot(y[0, :, 0])\n",
    "        axes[1].plot(out[0, :, 0].detach())\n",
    "    else:\n",
    "        plot_spatiotemporal_data(\n",
    "            [\n",
    "                out[0, ..., 0].detach().view(num_t, num_x).t(),\n",
    "                y[0, ..., 0].view(num_t, num_x).t(),\n",
    "                x[0, ..., 0].view(num_t, num_x).t()\n",
    "            ],\n",
    "            extent, nrows=1, ncols=3,\n",
    "            titles=['Latent (Prediction)', 'Latent (Target)', 'Output (Target)']\n",
    "        )"
   ],
   "metadata": {
    "collapsed": false,
    "pycharm": {
     "name": "#%%\n"
    }
   }
  },
  {
   "cell_type": "code",
   "execution_count": 65,
   "outputs": [
    {
     "data": {
      "text/plain": "<Figure size 720x360 with 6 Axes>",
      "image/png": "[encoded data removed]"
     },
     "metadata": {},
     "output_type": "display_data"
    }
   ],
   "source": [
    "x, y = next(iter(test_loader))\n",
    "out = model(x)\n",
    "show_result(x, y, out)"
   ],
   "metadata": {
    "collapsed": false,
    "pycharm": {
     "name": "#%%\n"
    }
   }
  },
  {
   "cell_type": "code",
   "execution_count": 62,
   "outputs": [
    {
     "name": "stdout",
     "output_type": "stream",
     "text": [
      "(1681, 4)\n",
      "torch.Size([1, 41, 41, 3]) torch.Size([1, 41, 41, 1])\n",
      "torch.Size([1, 41, 41, 3])\n"
     ]
    },
    {
     "name": "stderr",
     "output_type": "stream",
     "text": [
      "C:\\Users\\Jacob\\miniconda3\\envs\\wishart\\lib\\site-packages\\ipykernel_launcher.py:38: UserWarning: To copy construct from a tensor, it is recommended to use sourceTensor.clone().detach() or sourceTensor.clone().detach().requires_grad_(True), rather than torch.tensor(sourceTensor).\n"
     ]
    },
    {
     "data": {
      "text/plain": "<Figure size 720x360 with 6 Axes>",
      "image/png": "[encoded data removed]"
     },
     "metadata": {},
     "output_type": "display_data"
    }
   ],
   "source": [
    "dataset = ToySpatialTranscriptomics('../../data', one_fixed_sample=True)\n",
    "train_loader = generate_neural_dataset(dataset, 1, 0)\n",
    "x, y = next(iter(train_loader))\n",
    "out = model(x)\n",
    "show_result(x, y, out)"
   ],
   "metadata": {
    "collapsed": false,
    "pycharm": {
     "name": "#%%\n"
    }
   }
  },
  {
   "cell_type": "code",
   "execution_count": 32,
   "outputs": [],
   "source": [],
   "metadata": {
    "collapsed": false,
    "pycharm": {
     "name": "#%%\n"
    }
   }
  },
  {
   "cell_type": "code",
   "execution_count": null,
   "outputs": [],
   "source": [
    "path = '../../data/ns_V1e-3_N5000_T50.mat'\n",
    "from h5py import File\n",
    "\n",
    "# u shape (50, 64, 64, 5000)\n",
    "# a shape (64, 64, 5000)\n",
    "# t shape (50, 1)\n",
    "\n",
    "f = File(path)\n",
    "print(f)\n",
    "print(f['u'])\n",
    "\n",
    "modes = 4\n",
    "width = 20\n",
    "\n",
    "batch_size = 10\n",
    "batch_size2 = batch_size\n",
    "\n",
    "epochs = 10\n",
    "learning_rate = 0.0025\n",
    "scheduler_step = 100\n",
    "scheduler_gamma = 0.5\n",
    "\n",
    "print(epochs, learning_rate, scheduler_step, scheduler_gamma)\n",
    "\n",
    "\n",
    "runtime = np.zeros(2, )\n",
    "\n",
    "ntrain = 100\n",
    "sub = 1\n",
    "S = 64 // sub\n",
    "T_in = 10\n",
    "T = 40\n",
    "S = 32\n",
    "\n",
    "# train_a = reader.read_field('u')[:ntrain,::sub,::sub,:T_in]\n",
    "# train_u = reader.read_field('u')[:ntrain,::sub,::sub,T_in:T+T_in]\n",
    "train_a = torch.rand((100, 32, 32, 50))[:, :, :, :T_in]\n",
    "train_a = train_a.reshape(ntrain,S,S,1,T_in).repeat([1,1,1,T,1])\n",
    "print(train_a.shape)\n",
    "# pad locations (x,y,t)\n",
    "gridx = torch.tensor(np.linspace(0, 1, S), dtype=torch.float)\n",
    "# 32\n",
    "gridx = gridx.reshape(1, S, 1, 1, 1).repeat([1, 1, S, T, 1])\n",
    "# 1, 32, 32, 40, 1 (1, S, S, T, 1)\n",
    "gridy = torch.tensor(np.linspace(0, 1, S), dtype=torch.float)\n",
    "gridy = gridy.reshape(1, 1, S, 1, 1).repeat([1, S, 1, T, 1])\n",
    "gridt = torch.tensor(np.linspace(0, 1, T+1)[1:], dtype=torch.float)\n",
    "gridt = gridt.reshape(1, 1, 1, T, 1).repeat([1, S, S, 1, 1])\n",
    "# (1, S, S, T, 1)\n",
    "print(gridt.shape, gridx.shape)\n",
    "# for t in range(10):\n",
    "#     plt.figure()\n",
    "#     plt.imshow(gridy.squeeze()[:, :, t])\n",
    "print(gridx.repeat([ntrain,1,1,1,1]).shape)\n",
    "train_a = torch.cat((gridx.repeat([ntrain,1,1,1,1]), gridy.repeat([ntrain,1,1,1,1]),\n",
    "                       gridt.repeat([ntrain,1,1,1,1]), train_a), dim=-1)\n",
    "print(train_a.shape)"
   ],
   "metadata": {
    "collapsed": false,
    "pycharm": {
     "name": "#%%\n"
    }
   }
  },
  {
   "cell_type": "code",
   "execution_count": 38,
   "outputs": [
    {
     "name": "stdout",
     "output_type": "stream",
     "text": [
      "torch.Size([100, 32, 32, 40, 13])\n"
     ]
    }
   ],
   "source": [
    "\n"
   ],
   "metadata": {
    "collapsed": false,
    "pycharm": {
     "name": "#%%\n"
    }
   }
  },
  {
   "cell_type": "code",
   "execution_count": null,
   "outputs": [],
   "source": [
    "# This part checks our complex multiplication code:\n",
    "def compl_mul1d(a, b):\n",
    "    # (batch, in_channel, x ), (in_channel, out_channel, x) -> (batch, out_channel, x)\n",
    "    op = partial(torch.einsum, \"bix,iox->box\")\n",
    "    return torch.stack([\n",
    "        op(a[..., 0], b[..., 0]) - op(a[..., 1], b[..., 1]),\n",
    "        op(a[..., 1], b[..., 0]) + op(a[..., 0], b[..., 1])\n",
    "    ], dim=-1)\n",
    "\n",
    "weights1_sep = torch.rand(20, 20, 4, 2)\n",
    "weights1_sep = torch.rand(64, 64, 4, 2)\n",
    "weights1 = weights1_sep[:, :, :, 0] + weights1_sep[:, :, :, 1] * 1j\n",
    "x = torch.randn((15, 20, 11))\n",
    "x = torch.randn((100, 64, 1024))\n",
    "print(x.shape)"
   ],
   "metadata": {
    "collapsed": false,
    "pycharm": {
     "name": "#%%\n"
    }
   }
  },
  {
   "cell_type": "code",
   "execution_count": null,
   "outputs": [],
   "source": [
    "x_ft = torch.fft.rfft(x)\n",
    "x_ft_sep = torch.stack([\n",
    "    torch.real(x_ft),\n",
    "    torch.imag(x_ft)\n",
    "    ], dim=-1)\n",
    "print(x_ft_sep.shape)"
   ],
   "metadata": {
    "collapsed": false,
    "pycharm": {
     "name": "#%%\n"
    }
   }
  },
  {
   "cell_type": "code",
   "execution_count": null,
   "outputs": [],
   "source": [
    "mul2 = compl_mul1d(x_ft_sep[:, :, :4], weights1_sep)\n",
    "print(mul2)"
   ],
   "metadata": {
    "collapsed": false,
    "pycharm": {
     "name": "#%%\n"
    }
   }
  },
  {
   "cell_type": "code",
   "execution_count": null,
   "outputs": [],
   "source": [
    "op = partial(torch.einsum, \"bix,iox->box\")\n",
    "    # return torch.stack([\n",
    "    #     op(a[..., 0], b[..., 0]) - op(a[..., 1], b[..., 1]),\n",
    "    #     op(a[..., 1], b[..., 0]) + op(a[..., 0], b[..., 1])\n",
    "    # ], dim=-1)\n",
    "\n",
    "A = x_ft[:, :, :4]#.unsqueeze(1)\n",
    "B = weights1#.unsqueeze(0)\n",
    "print(A.shape, B.shape)\n",
    "print(A.type())\n",
    "# print(B.type(torch.complex64))\n",
    "mul = op(A, B.type(torch.complex64))\n",
    "# mul = torch.matmul(A, B)\n",
    "print(mul.shape, mul2.shape)\n",
    "\n",
    "print(mul2[where])\n",
    "\n"
   ],
   "metadata": {
    "collapsed": false,
    "pycharm": {
     "name": "#%%\n"
    }
   }
  },
  {
   "cell_type": "code",
   "execution_count": null,
   "outputs": [],
   "source": [
    "ntrain = 1000\n",
    "ntest = 100\n",
    "\n",
    "sub = 2**3 #subsampling rate\n",
    "h = 2**13 // sub #total grid size divided by the subsampling rate\n",
    "s = h\n",
    "\n",
    "batch_size = 20\n",
    "learning_rate = 0.001\n",
    "\n",
    "grid = np.linspace(0, 2*np.pi, s).reshape(1, s, 1)\n",
    "grid = torch.tensor(grid, dtype=torch.float)\n",
    "x_train = torch.randn(ntrain, s, 1)\n",
    "x_train = torch.cat([x_train.reshape(ntrain,s,1), grid.repeat(ntrain,1,1)], dim=2)\n",
    "\n",
    "modes = 16\n",
    "width = 64\n",
    "print(x_train.shape)\n",
    "x = Linear(2, width)(x_train).permute(0, 2, 1)\n",
    "print(x.shape)"
   ],
   "metadata": {
    "collapsed": false,
    "pycharm": {
     "name": "#%%\n"
    }
   }
  }
 ],
 "metadata": {
  "kernelspec": {
   "name": "pycharm-222640c7",
   "language": "python",
   "display_name": "PyCharm (reggae)"
  },
  "language_info": {
   "codemirror_mode": {
    "name": "ipython",
    "version": 2
   },
   "file_extension": ".py",
   "mimetype": "text/x-python",
   "name": "python",
   "nbconvert_exporter": "python",
   "pygments_lexer": "ipython2",
   "version": "2.7.6"
  }
 },
 "nbformat": 4,
 "nbformat_minor": 0
}