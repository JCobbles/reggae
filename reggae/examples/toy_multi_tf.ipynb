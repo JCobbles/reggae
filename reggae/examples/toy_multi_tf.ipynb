{
 "cells": [
  {
   "cell_type": "code",
   "execution_count": 2,
   "metadata": {
    "collapsed": true
   },
   "outputs": [],
   "source": [
    "import torch\n",
    "from reggae.utilities import save, load\n",
    "\n",
    "from reggae.gp.variational.models import NonLinearLFM, ExponentialLFM\n",
    "from reggae.gp.variational.trainer import Trainer\n",
    "from reggae.data_loaders.artificial import get_artificial_dataset\n",
    "from reggae.plot.variational_plotters import Plotter\n",
    "from matplotlib import pyplot as plt\n",
    "\n",
    "import numpy as np\n",
    "\n",
    "f64 = np.float64"
   ]
  },
  {
   "cell_type": "code",
   "execution_count": null,
   "outputs": [],
   "source": [
    "replicate = 0\n",
    "nodelay_dataset, delay_dataset = get_artificial_dataset()\n",
    "p_nodelay, m_nodelay = nodelay_dataset"
   ],
   "metadata": {
    "collapsed": false,
    "pycharm": {
     "name": "#%%\n"
    }
   }
  },
  {
   "cell_type": "code",
   "execution_count": null,
   "outputs": [],
   "source": [
    "print(p_nodelay.shape)\n",
    "print(m_nodelay.shape)\n",
    "\n",
    "m_nodelay = m_nodelay[replicate]\n",
    "p_nodelay = p_nodelay[replicate]\n",
    "num_genes = m_nodelay.shape[0]\n",
    "num_tfs = p_nodelay.shape[0]"
   ],
   "metadata": {
    "collapsed": false,
    "pycharm": {
     "name": "#%%\n"
    }
   }
  },
  {
   "cell_type": "code",
   "execution_count": null,
   "outputs": [],
   "source": [
    "\n"
   ],
   "metadata": {
    "collapsed": false,
    "pycharm": {
     "name": "#%%\n"
    }
   }
  },
  {
   "cell_type": "code",
   "execution_count": null,
   "outputs": [],
   "source": [
    "model = NonLinearLFM(num_genes, num_tfs, t_inducing, t_observed, fixed_variance=None)\n",
    "optimizer = torch.optim.Adam(model.parameters(), lr=0.2)\n",
    "trainer = Trainer(model, optimizer, (t_observed, m_observed))\n",
    "\n",
    "# list(model.parameters())\n",
    "print(t_observed.shape, m_observed.shape)"
   ],
   "metadata": {
    "collapsed": false,
    "pycharm": {
     "name": "#%%\n"
    }
   }
  },
  {
   "cell_type": "markdown",
   "source": [
    "### Outputs prior to training:"
   ],
   "metadata": {
    "collapsed": false,
    "pycharm": {
     "name": "#%% md\n"
    }
   }
  },
  {
   "cell_type": "code",
   "execution_count": null,
   "outputs": [],
   "source": [
    "plotter = Plotter(model, m_df.index, t_inducing)\n",
    "plot_genes(rtol=1e-3, atol=1e-4)\n",
    "plotter.plot_tfs()"
   ],
   "metadata": {
    "collapsed": false,
    "pycharm": {
     "name": "#%%\n"
    }
   }
  },
  {
   "cell_type": "code",
   "execution_count": null,
   "outputs": [],
   "source": [
    "tol = 1e-3\n",
    "# trainer = Trainer(optimizer)\n",
    "output = trainer.train(40, rtol=tol, atol=tol/10, report_interval=1, plot_interval=2)"
   ],
   "metadata": {
    "collapsed": false,
    "pycharm": {
     "name": "#%%\n"
    }
   }
  },
  {
   "cell_type": "markdown",
   "source": [
    "### Outputs after training"
   ],
   "metadata": {
    "collapsed": false,
    "pycharm": {
     "name": "#%% md\n"
    }
   }
  },
  {
   "cell_type": "code",
   "execution_count": null,
   "outputs": [],
   "source": [
    "plotter = Plotter(model, m_df.index, t_inducing)\n",
    "\n",
    "tol = 1e-3\n",
    "plotter.plot_losses(trainer, last_x=100)\n",
    "plot_genes(rtol=tol, atol=tol/10)\n",
    "plotter.plot_tfs(ylim=(-2, 9))\n"
   ],
   "metadata": {
    "collapsed": false,
    "pycharm": {
     "name": "#%%\n"
    }
   }
  },
  {
   "cell_type": "code",
   "execution_count": null,
   "outputs": [],
   "source": [
    "save(model, 'nonlinear')"
   ],
   "metadata": {
    "collapsed": false,
    "pycharm": {
     "name": "#%%\n"
    }
   }
  },
  {
   "cell_type": "code",
   "execution_count": null,
   "outputs": [],
   "source": [
    "model = load('nonlinear', NonLinearLFM, num_genes, num_tfs, t_inducing, t_observed, fixed_variance=None)\n",
    "optimizer = torch.optim.Adam(model.parameters(), lr=0.2)\n",
    "trainer = Trainer(model, optimizer, (t_observed, m_observed))"
   ],
   "metadata": {
    "collapsed": false,
    "pycharm": {
     "name": "#%%\n"
    }
   }
  },
  {
   "cell_type": "code",
   "execution_count": null,
   "outputs": [],
   "source": [
    "titles = ['basal', 'decay', 'sensitivity', 'lengthscale']\n",
    "datas = [np.array(trainer.basalrates)[:,:,0],\n",
    "         np.array(trainer.decayrates)[:,:,0],\n",
    "         np.array(trainer.sensitivities)[:,:,0],\n",
    "         np.array(trainer.lengthscales)]\n",
    "\n",
    "plt.figure(figsize=(5, 6))\n",
    "for i, (title, data) in enumerate(zip(titles, datas)):\n",
    "    plt.subplot(411 + i)\n",
    "    plt.title(title)\n",
    "    # if data.ndim > 1:\n",
    "    #     for j in range(data.shape[1]):\n",
    "\n",
    "    plt.plot(data)"
   ],
   "metadata": {
    "collapsed": false,
    "pycharm": {
     "name": "#%%\n"
    }
   }
  },
  {
   "cell_type": "code",
   "execution_count": null,
   "outputs": [],
   "source": [],
   "metadata": {
    "collapsed": false,
    "pycharm": {
     "name": "#%%\n"
    }
   }
  }
 ],
 "metadata": {
  "kernelspec": {
   "name": "pycharm-efda258d",
   "language": "python",
   "display_name": "PyCharm (gskproj)"
  },
  "language_info": {
   "codemirror_mode": {
    "name": "ipython",
    "version": 2
   },
   "file_extension": ".py",
   "mimetype": "text/x-python",
   "name": "python",
   "nbconvert_exporter": "python",
   "pygments_lexer": "ipython2",
   "version": "2.7.6"
  }
 },
 "nbformat": 4,
 "nbformat_minor": 0
}