{
 "cells": [
  {
   "cell_type": "code",
   "execution_count": 1,
   "metadata": {
    "collapsed": true
   },
   "outputs": [],
   "source": [
    "import torch\n",
    "torch.set_default_dtype(torch.float64)\n",
    "\n",
    "from reggae.utilities import save, load\n",
    "from reggae.gp.variational.models import MLPLFM, ExponentialLFM\n",
    "from reggae.utilities import inv_softplus\n",
    "from reggae.data_loaders.ndp_datasets import DeterministicLotkaVolteraData\n",
    "from torch.utils.data import Dataset, DataLoader\n",
    "from reggae.data_loaders import load_humanp53\n",
    "from reggae.plot.variational_plotters import Plotter\n",
    "from matplotlib import pyplot as plt\n",
    "\n",
    "import numpy as np\n",
    "\n",
    "f64 = np.float64"
   ]
  },
  {
   "cell_type": "code",
   "execution_count": 2,
   "outputs": [
    {
     "name": "stdout",
     "output_type": "stream",
     "text": [
      "Lotka-Voltera is in {self.mode} mode.\n",
      "Creating dataset...\n",
      "2\n"
     ]
    },
    {
     "name": "stderr",
     "output_type": "stream",
     "text": [
      "100%|██████████| 50/50 [00:00<00:00, 510.53it/s]\n"
     ]
    },
    {
     "data": {
      "text/plain": "<Figure size 432x288 with 1 Axes>",
      "image/png": "[encoded data removed]"
     },
     "metadata": {},
     "output_type": "display_data"
    }
   ],
   "source": [
    "dataset = DeterministicLotkaVolteraData(alpha = 2./3,\n",
    "                        beta = 4./3, gamma = 1., delta = 1.,\n",
    "                        num_samples=50)\n",
    "x_min, x_max = 0.0, 1.5\n",
    "initial_x = -0.1\n",
    "\n",
    "print(len(dataset.data[0]))\n",
    "plt.plot(dataset.data[0][0], dataset.data[0][1])\n",
    "\n",
    "num_latents = 2\n",
    "num_outputs = 2\n",
    "\n",
    "t_predict = torch.linspace(x_min, x_max, 50)\n",
    "t_inducing = torch.linspace(f64(x_min), f64(x_max), 5, dtype=torch.float32).reshape((-1, 1))\n",
    "t_observed = dataset.data[0][0].view(-1)\n",
    "output_names = np.array(['pred','prey'])"
   ],
   "metadata": {
    "collapsed": false,
    "pycharm": {
     "name": "#%%\n"
    }
   }
  },
  {
   "cell_type": "code",
   "execution_count": 7,
   "outputs": [],
   "source": [
    "class Trainer:\n",
    "    \"\"\"\n",
    "    Trainer\n",
    "\n",
    "    Parameters\n",
    "    ----------\n",
    "    model: .\n",
    "    optimizer:\n",
    "    dataset: Dataset where t_observed (T,), m_observed (J, T).\n",
    "    inducing timepoints.\n",
    "    \"\"\"\n",
    "    def __init__(self, model, optimizer: torch.optim.Optimizer, dataset: Dataset):\n",
    "        self.num_epochs = 0\n",
    "        self.kl_mult = 0\n",
    "        self.optimizer = optimizer\n",
    "        self.model = model\n",
    "        self.t_observed = dataset.data[0][0].view(-1)\n",
    "        self.num_outputs = dataset.data[0][1].shape[1]\n",
    "        self.data_loader = DataLoader(dataset, batch_size=1, shuffle=True)\n",
    "        self.losses = np.empty((0, 2))\n",
    "\n",
    "    def train(self, epochs=20, report_interval=1, plot_interval=20, rtol=1e-5, atol=1e-6, num_samples=5):\n",
    "        losses = list()\n",
    "        end_epoch = self.num_epochs+epochs\n",
    "        plt.figure(figsize=(4, 2.3))\n",
    "        for epoch in range(epochs):\n",
    "            for i, data in enumerate(self.data_loader):\n",
    "                t, y = data\n",
    "                # for now we don't batch\n",
    "                t, y = t[0].reshape(-1), y[0].transpose(0, 1)\n",
    "\n",
    "                self.optimizer.zero_grad()\n",
    "\n",
    "                # with ef.scan():\n",
    "                initial_value = torch.zeros((self.num_outputs, 1), dtype=torch.float64)\n",
    "                output = self.model(t, initial_value, rtol=rtol, atol=atol, num_samples=num_samples)\n",
    "                output = torch.squeeze(output)\n",
    "\n",
    "                # Calc loss and backprop gradients\n",
    "                mult = 1\n",
    "                if self.num_epochs <= 10:\n",
    "                    mult = self.num_epochs/10\n",
    "\n",
    "                ll, kl = self.model.elbo(y, output, mult)\n",
    "                total_loss = -ll + kl\n",
    "                total_loss.backward()\n",
    "                self.optimizer.step()\n",
    "\n",
    "            if (epoch % report_interval) == 0:\n",
    "                print('Epoch %d/%d - Loss: %.2f (%.2f %.2f)' % (\n",
    "                    self.num_epochs + 1, end_epoch,\n",
    "                    total_loss.item(),\n",
    "                    -ll.item(), kl.item()\n",
    "                ))\n",
    "                self.print_extra()\n",
    "\n",
    "            losses.append((ll.item(), kl.item()))\n",
    "            self.after_epoch()\n",
    "\n",
    "            if (epoch % plot_interval) == 0:\n",
    "                plt.plot(self.t_observed, output[0].detach().numpy(), label='epoch'+str(epoch))\n",
    "            self.num_epochs += 1\n",
    "        plt.legend()\n",
    "\n",
    "        losses = np.array(losses)\n",
    "        self.losses = np.concatenate([self.losses, losses], axis=0)\n",
    "\n",
    "        return output\n",
    "    def print_extra(self):\n",
    "        pass\n",
    "    def after_epoch(self):\n",
    "        pass\n",
    "\n",
    "class TranscriptionalTrainer(Trainer):\n",
    "    def __init__(self, model, optimizer: torch.optim.Optimizer, dataset: Dataset):\n",
    "        super(TranscriptionalTrainer, self).__init__(model, optimizer, dataset)\n",
    "        self.basalrates = list()\n",
    "        self.decayrates = list()\n",
    "        self.lengthscales = list()\n",
    "        self.sensitivities = list()\n",
    "        self.mus = list()\n",
    "        self.cholS = list()\n",
    "\n",
    "    def print_extra(self):\n",
    "        print('b: %.2f d %.2f s: %.2f λ: %.3f' % (\n",
    "            self.model.basal_rate[0].item(),\n",
    "            self.model.decay_rate[0].item(),\n",
    "            self.model.sensitivity[0].item(),\n",
    "            self.model.lengthscale[0].item()\n",
    "        ))\n",
    "\n",
    "    def after_epoch(self):\n",
    "        self.basalrates.append(self.model.basal_rate.detach().clone().numpy())\n",
    "        self.decayrates.append(self.model.decay_rate.detach().clone().numpy())\n",
    "        self.sensitivities.append(self.model.sensitivity.detach().clone().numpy())\n",
    "        self.lengthscales.append(self.model.lengthscale.detach().clone().numpy())\n",
    "        self.cholS.append(self.model.q_cholS.detach().clone())\n",
    "        self.mus.append(self.model.q_m.detach().clone())\n",
    "        with torch.no_grad():\n",
    "            self.model.raw_lengthscale.clamp_(-2.5, inv_softplus(torch.tensor(1., dtype=torch.float64))) # TODO is this needed?\n",
    "            # TODO can we replace these with parameter transforms like we did with lengthscale\n",
    "            self.model.sensitivity.clamp_(0.4, 8)\n",
    "            self.model.basal_rate.clamp_(0, 8)\n",
    "            self.model.decay_rate.clamp_(0, 8)\n",
    "            self.model.sensitivity[3] = np.float64(1.)\n",
    "            self.model.decay_rate[3] = np.float64(0.8)\n",
    "            self.model.q_m[0, 0] = 0.\n",
    "\n"
   ],
   "metadata": {
    "collapsed": false,
    "pycharm": {
     "name": "#%%\n"
    }
   }
  },
  {
   "cell_type": "code",
   "execution_count": 8,
   "outputs": [
    {
     "name": "stderr",
     "output_type": "stream",
     "text": [
      "C:\\Users\\Jacob\\Documents\\proj\\reggae\\reggae\\gp\\variational\\models.py:35: UserWarning: To copy construct from a tensor, it is recommended to use sourceTensor.clone().detach() or sourceTensor.clone().detach().requires_grad_(True), rather than torch.tensor(sourceTensor).\n",
      "  self.inducing_inputs = torch.tensor(t_inducing, requires_grad=False)\n"
     ]
    }
   ],
   "source": [
    "model = MLPLFM(num_outputs, num_latents, t_inducing, dataset)\n",
    "optimizer = torch.optim.Adam(model.parameters(), lr=0.2)\n",
    "\n",
    "trainer = Trainer(model, optimizer, dataset)"
   ],
   "metadata": {
    "collapsed": false,
    "pycharm": {
     "name": "#%%\n"
    }
   }
  },
  {
   "cell_type": "markdown",
   "source": [
    "### Outputs prior to training:"
   ],
   "metadata": {
    "collapsed": false,
    "pycharm": {
     "name": "#%% md\n"
    }
   }
  },
  {
   "cell_type": "code",
   "execution_count": 9,
   "outputs": [
    {
     "name": "stdout",
     "output_type": "stream",
     "text": [
      "torch.Size([50, 2, 1])\n",
      "torch.Size([2, 50])\n"
     ]
    },
    {
     "data": {
      "text/plain": "<Figure size 432x288 with 2 Axes>",
      "image/png": "[encoded data removed]"
     },
     "metadata": {},
     "output_type": "display_data"
    },
    {
     "data": {
      "text/plain": "<Figure size 360x432 with 2 Axes>",
      "image/png": "[encoded data removed]"
     },
     "metadata": {},
     "output_type": "display_data"
    }
   ],
   "source": [
    "rtol = 5e-3\n",
    "atol = rtol/10\n",
    "model_kwargs = {\n",
    "    'rtol': rtol, 'atol': atol,\n",
    "    'num_samples': 1\n",
    "}\n",
    "plotter = Plotter(model, output_names, t_inducing)\n",
    "plotter.plot_outputs(t_predict, model_kwargs=model_kwargs)\n",
    "plotter.plot_tfs()\n"
   ],
   "metadata": {
    "collapsed": false,
    "pycharm": {
     "name": "#%%\n"
    }
   }
  },
  {
   "cell_type": "code",
   "execution_count": null,
   "outputs": [
    {
     "name": "stdout",
     "output_type": "stream",
     "text": [
      "torch.Size([150]) torch.Size([2, 150])\n",
      "torch.Size([150, 2, 1])\n",
      "torch.Size([150, 2, 1])\n",
      "torch.Size([150, 2, 1])\n",
      "torch.Size([150, 2, 1])\n",
      "torch.Size([150, 2, 1])\n",
      "torch.Size([2, 150]) torch.Size([2, 150])\n",
      "torch.Size([150]) torch.Size([2, 150])\n",
      "torch.Size([150, 2, 1])\n",
      "torch.Size([150, 2, 1])\n",
      "torch.Size([150, 2, 1])\n",
      "torch.Size([150, 2, 1])\n",
      "torch.Size([150, 2, 1])\n",
      "torch.Size([2, 150]) torch.Size([2, 150])\n",
      "torch.Size([150]) torch.Size([2, 150])\n",
      "torch.Size([150, 2, 1])\n",
      "torch.Size([150, 2, 1])\n",
      "torch.Size([150, 2, 1])\n",
      "torch.Size([150, 2, 1])\n",
      "torch.Size([150, 2, 1])\n",
      "torch.Size([2, 150]) torch.Size([2, 150])\n",
      "torch.Size([150]) torch.Size([2, 150])\n",
      "torch.Size([150, 2, 1])\n",
      "torch.Size([150, 2, 1])\n",
      "torch.Size([150, 2, 1])\n",
      "torch.Size([150, 2, 1])\n",
      "torch.Size([150, 2, 1])\n",
      "torch.Size([2, 150]) torch.Size([2, 150])\n",
      "torch.Size([150]) torch.Size([2, 150])\n",
      "torch.Size([150, 2, 1])\n",
      "torch.Size([150, 2, 1])\n",
      "torch.Size([150, 2, 1])\n",
      "torch.Size([150, 2, 1])\n",
      "torch.Size([150, 2, 1])\n",
      "torch.Size([2, 150]) torch.Size([2, 150])\n",
      "torch.Size([150]) torch.Size([2, 150])\n",
      "torch.Size([150, 2, 1])\n",
      "torch.Size([150, 2, 1])\n",
      "torch.Size([150, 2, 1])\n",
      "torch.Size([150, 2, 1])\n",
      "torch.Size([150, 2, 1])\n",
      "torch.Size([2, 150]) torch.Size([2, 150])\n",
      "torch.Size([150]) torch.Size([2, 150])\n",
      "torch.Size([150, 2, 1])\n",
      "torch.Size([150, 2, 1])\n",
      "torch.Size([150, 2, 1])\n",
      "torch.Size([150, 2, 1])\n",
      "torch.Size([150, 2, 1])\n",
      "torch.Size([2, 150]) torch.Size([2, 150])\n",
      "torch.Size([150]) torch.Size([2, 150])\n",
      "torch.Size([150, 2, 1])\n",
      "torch.Size([150, 2, 1])\n",
      "torch.Size([150, 2, 1])\n",
      "torch.Size([150, 2, 1])\n",
      "torch.Size([150, 2, 1])\n",
      "torch.Size([2, 150]) torch.Size([2, 150])\n",
      "torch.Size([150]) torch.Size([2, 150])\n",
      "torch.Size([150, 2, 1])\n",
      "torch.Size([150, 2, 1])\n",
      "torch.Size([150, 2, 1])\n",
      "torch.Size([150, 2, 1])\n",
      "torch.Size([150, 2, 1])\n",
      "torch.Size([2, 150]) torch.Size([2, 150])\n",
      "torch.Size([150]) torch.Size([2, 150])\n",
      "torch.Size([150, 2, 1])\n",
      "torch.Size([150, 2, 1])\n",
      "torch.Size([150, 2, 1])\n",
      "torch.Size([150, 2, 1])\n",
      "torch.Size([150, 2, 1])\n",
      "torch.Size([2, 150]) torch.Size([2, 150])\n",
      "torch.Size([150]) torch.Size([2, 150])\n",
      "torch.Size([150, 2, 1])\n",
      "torch.Size([150, 2, 1])\n",
      "torch.Size([150, 2, 1])\n",
      "torch.Size([150, 2, 1])\n",
      "torch.Size([150, 2, 1])\n",
      "torch.Size([2, 150]) torch.Size([2, 150])\n",
      "torch.Size([150]) torch.Size([2, 150])\n",
      "torch.Size([150, 2, 1])\n",
      "torch.Size([150, 2, 1])\n",
      "torch.Size([150, 2, 1])\n",
      "torch.Size([150, 2, 1])\n",
      "torch.Size([150, 2, 1])\n",
      "torch.Size([2, 150]) torch.Size([2, 150])\n",
      "torch.Size([150]) torch.Size([2, 150])\n",
      "torch.Size([150, 2, 1])\n",
      "torch.Size([150, 2, 1])\n",
      "torch.Size([150, 2, 1])\n",
      "torch.Size([150, 2, 1])\n",
      "torch.Size([150, 2, 1])\n",
      "torch.Size([2, 150]) torch.Size([2, 150])\n",
      "torch.Size([150]) torch.Size([2, 150])\n",
      "torch.Size([150, 2, 1])\n",
      "torch.Size([150, 2, 1])\n",
      "torch.Size([150, 2, 1])\n",
      "torch.Size([150, 2, 1])\n",
      "torch.Size([150, 2, 1])\n",
      "torch.Size([2, 150]) torch.Size([2, 150])\n",
      "torch.Size([150]) torch.Size([2, 150])\n",
      "torch.Size([150, 2, 1])\n",
      "torch.Size([150, 2, 1])\n",
      "torch.Size([150, 2, 1])\n",
      "torch.Size([150, 2, 1])\n",
      "torch.Size([150, 2, 1])\n",
      "torch.Size([2, 150]) torch.Size([2, 150])\n",
      "torch.Size([150]) torch.Size([2, 150])\n",
      "torch.Size([150, 2, 1])\n",
      "torch.Size([150, 2, 1])\n",
      "torch.Size([150, 2, 1])\n",
      "torch.Size([150, 2, 1])\n",
      "torch.Size([150, 2, 1])\n",
      "torch.Size([2, 150]) torch.Size([2, 150])\n",
      "torch.Size([150]) torch.Size([2, 150])\n",
      "torch.Size([150, 2, 1])\n",
      "torch.Size([150, 2, 1])\n",
      "torch.Size([150, 2, 1])\n",
      "torch.Size([150, 2, 1])\n",
      "torch.Size([150, 2, 1])\n",
      "torch.Size([2, 150]) torch.Size([2, 150])\n",
      "torch.Size([150]) torch.Size([2, 150])\n",
      "torch.Size([150, 2, 1])\n",
      "torch.Size([150, 2, 1])\n",
      "torch.Size([150, 2, 1])\n",
      "torch.Size([150, 2, 1])\n",
      "torch.Size([150, 2, 1])\n",
      "torch.Size([2, 150]) torch.Size([2, 150])\n",
      "torch.Size([150]) torch.Size([2, 150])\n",
      "torch.Size([150, 2, 1])\n",
      "torch.Size([150, 2, 1])\n",
      "torch.Size([150, 2, 1])\n",
      "torch.Size([150, 2, 1])\n",
      "torch.Size([150, 2, 1])\n",
      "torch.Size([2, 150]) torch.Size([2, 150])\n",
      "torch.Size([150]) torch.Size([2, 150])\n",
      "torch.Size([150, 2, 1])\n",
      "torch.Size([150, 2, 1])\n",
      "torch.Size([150, 2, 1])\n",
      "torch.Size([150, 2, 1])\n",
      "torch.Size([150, 2, 1])\n",
      "torch.Size([2, 150]) torch.Size([2, 150])\n",
      "torch.Size([150]) torch.Size([2, 150])\n",
      "torch.Size([150, 2, 1])\n",
      "torch.Size([150, 2, 1])\n",
      "torch.Size([150, 2, 1])\n",
      "torch.Size([150, 2, 1])\n",
      "torch.Size([150, 2, 1])\n",
      "torch.Size([2, 150]) torch.Size([2, 150])\n",
      "torch.Size([150]) torch.Size([2, 150])\n",
      "torch.Size([150, 2, 1])\n",
      "torch.Size([150, 2, 1])\n",
      "torch.Size([150, 2, 1])\n",
      "torch.Size([150, 2, 1])\n",
      "torch.Size([150, 2, 1])\n",
      "torch.Size([2, 150]) torch.Size([2, 150])\n",
      "torch.Size([150]) torch.Size([2, 150])\n",
      "torch.Size([150, 2, 1])\n",
      "torch.Size([150, 2, 1])\n",
      "torch.Size([150, 2, 1])\n",
      "torch.Size([150, 2, 1])\n",
      "torch.Size([150, 2, 1])\n",
      "torch.Size([2, 150]) torch.Size([2, 150])\n",
      "torch.Size([150]) torch.Size([2, 150])\n",
      "torch.Size([150, 2, 1])\n",
      "torch.Size([150, 2, 1])\n",
      "torch.Size([150, 2, 1])\n",
      "torch.Size([150, 2, 1])\n",
      "torch.Size([150, 2, 1])\n",
      "torch.Size([2, 150]) torch.Size([2, 150])\n",
      "torch.Size([150]) torch.Size([2, 150])\n",
      "torch.Size([150, 2, 1])\n",
      "torch.Size([150, 2, 1])\n",
      "torch.Size([150, 2, 1])\n",
      "torch.Size([150, 2, 1])\n",
      "torch.Size([150, 2, 1])\n",
      "torch.Size([2, 150]) torch.Size([2, 150])\n",
      "torch.Size([150]) torch.Size([2, 150])\n",
      "torch.Size([150, 2, 1])\n",
      "torch.Size([150, 2, 1])\n",
      "torch.Size([150, 2, 1])\n",
      "torch.Size([150, 2, 1])\n",
      "torch.Size([150, 2, 1])\n",
      "torch.Size([2, 150]) torch.Size([2, 150])\n",
      "torch.Size([150]) torch.Size([2, 150])\n",
      "torch.Size([150, 2, 1])\n",
      "torch.Size([150, 2, 1])\n",
      "torch.Size([150, 2, 1])\n",
      "torch.Size([150, 2, 1])\n",
      "torch.Size([150, 2, 1])\n",
      "torch.Size([2, 150]) torch.Size([2, 150])\n",
      "torch.Size([150]) torch.Size([2, 150])\n",
      "torch.Size([150, 2, 1])\n",
      "torch.Size([150, 2, 1])\n",
      "torch.Size([150, 2, 1])\n",
      "torch.Size([150, 2, 1])\n",
      "torch.Size([150, 2, 1])\n",
      "torch.Size([2, 150]) torch.Size([2, 150])\n",
      "torch.Size([150]) torch.Size([2, 150])\n",
      "torch.Size([150, 2, 1])\n",
      "torch.Size([150, 2, 1])\n",
      "torch.Size([150, 2, 1])\n",
      "torch.Size([150, 2, 1])\n",
      "torch.Size([150, 2, 1])\n",
      "torch.Size([2, 150]) torch.Size([2, 150])\n",
      "torch.Size([150]) torch.Size([2, 150])\n",
      "torch.Size([150, 2, 1])\n",
      "torch.Size([150, 2, 1])\n",
      "torch.Size([150, 2, 1])\n",
      "torch.Size([150, 2, 1])\n",
      "torch.Size([150, 2, 1])\n",
      "torch.Size([2, 150]) torch.Size([2, 150])\n",
      "torch.Size([150]) torch.Size([2, 150])\n",
      "torch.Size([150, 2, 1])\n",
      "torch.Size([150, 2, 1])\n",
      "torch.Size([150, 2, 1])\n",
      "torch.Size([150, 2, 1])\n",
      "torch.Size([150, 2, 1])\n",
      "torch.Size([2, 150]) torch.Size([2, 150])\n",
      "torch.Size([150]) torch.Size([2, 150])\n",
      "torch.Size([150, 2, 1])\n",
      "torch.Size([150, 2, 1])\n",
      "torch.Size([150, 2, 1])\n",
      "torch.Size([150, 2, 1])\n",
      "torch.Size([150, 2, 1])\n",
      "torch.Size([2, 150]) torch.Size([2, 150])\n",
      "torch.Size([150]) torch.Size([2, 150])\n",
      "torch.Size([150, 2, 1])\n",
      "torch.Size([150, 2, 1])\n",
      "torch.Size([150, 2, 1])\n",
      "torch.Size([150, 2, 1])\n",
      "torch.Size([150, 2, 1])\n",
      "torch.Size([2, 150]) torch.Size([2, 150])\n",
      "torch.Size([150]) torch.Size([2, 150])\n",
      "torch.Size([150, 2, 1])\n",
      "torch.Size([150, 2, 1])\n",
      "torch.Size([150, 2, 1])\n",
      "torch.Size([150, 2, 1])\n",
      "torch.Size([150, 2, 1])\n",
      "torch.Size([2, 150]) torch.Size([2, 150])\n",
      "torch.Size([150]) torch.Size([2, 150])\n",
      "torch.Size([150, 2, 1])\n",
      "torch.Size([150, 2, 1])\n",
      "torch.Size([150, 2, 1])\n",
      "torch.Size([150, 2, 1])\n",
      "torch.Size([150, 2, 1])\n",
      "torch.Size([2, 150]) torch.Size([2, 150])\n",
      "torch.Size([150]) torch.Size([2, 150])\n",
      "torch.Size([150, 2, 1])\n",
      "torch.Size([150, 2, 1])\n",
      "torch.Size([150, 2, 1])\n",
      "torch.Size([150, 2, 1])\n",
      "torch.Size([150, 2, 1])\n",
      "torch.Size([2, 150]) torch.Size([2, 150])\n",
      "torch.Size([150]) torch.Size([2, 150])\n",
      "torch.Size([150, 2, 1])\n",
      "torch.Size([150, 2, 1])\n",
      "torch.Size([150, 2, 1])\n",
      "torch.Size([150, 2, 1])\n",
      "torch.Size([150, 2, 1])\n",
      "torch.Size([2, 150]) torch.Size([2, 150])\n",
      "torch.Size([150]) torch.Size([2, 150])\n",
      "torch.Size([150, 2, 1])\n",
      "torch.Size([150, 2, 1])\n",
      "torch.Size([150, 2, 1])\n",
      "torch.Size([150, 2, 1])\n",
      "torch.Size([150, 2, 1])\n",
      "torch.Size([2, 150]) torch.Size([2, 150])\n",
      "torch.Size([150]) torch.Size([2, 150])\n",
      "torch.Size([150, 2, 1])\n",
      "torch.Size([150, 2, 1])\n",
      "torch.Size([150, 2, 1])\n",
      "torch.Size([150, 2, 1])\n",
      "torch.Size([150, 2, 1])\n",
      "torch.Size([2, 150]) torch.Size([2, 150])\n",
      "torch.Size([150]) torch.Size([2, 150])\n",
      "torch.Size([150, 2, 1])\n",
      "torch.Size([150, 2, 1])\n",
      "torch.Size([150, 2, 1])\n",
      "torch.Size([150, 2, 1])\n",
      "torch.Size([150, 2, 1])\n",
      "torch.Size([2, 150]) torch.Size([2, 150])\n",
      "torch.Size([150]) torch.Size([2, 150])\n",
      "torch.Size([150, 2, 1])\n",
      "torch.Size([150, 2, 1])\n",
      "torch.Size([150, 2, 1])\n",
      "torch.Size([150, 2, 1])\n",
      "torch.Size([150, 2, 1])\n",
      "torch.Size([2, 150]) torch.Size([2, 150])\n",
      "torch.Size([150]) torch.Size([2, 150])\n",
      "torch.Size([150, 2, 1])\n",
      "torch.Size([150, 2, 1])\n",
      "torch.Size([150, 2, 1])\n",
      "torch.Size([150, 2, 1])\n",
      "torch.Size([150, 2, 1])\n",
      "torch.Size([2, 150]) torch.Size([2, 150])\n",
      "torch.Size([150]) torch.Size([2, 150])\n",
      "torch.Size([150, 2, 1])\n",
      "torch.Size([150, 2, 1])\n",
      "torch.Size([150, 2, 1])\n",
      "torch.Size([150, 2, 1])\n",
      "torch.Size([150, 2, 1])\n",
      "torch.Size([2, 150]) torch.Size([2, 150])\n",
      "torch.Size([150]) torch.Size([2, 150])\n",
      "torch.Size([150, 2, 1])\n",
      "torch.Size([150, 2, 1])\n",
      "torch.Size([150, 2, 1])\n",
      "torch.Size([150, 2, 1])\n",
      "torch.Size([150, 2, 1])\n",
      "torch.Size([2, 150]) torch.Size([2, 150])\n",
      "torch.Size([150]) torch.Size([2, 150])\n",
      "torch.Size([150, 2, 1])\n",
      "torch.Size([150, 2, 1])\n",
      "torch.Size([150, 2, 1])\n",
      "torch.Size([150, 2, 1])\n",
      "torch.Size([150, 2, 1])\n",
      "torch.Size([2, 150]) torch.Size([2, 150])\n"
     ]
    }
   ],
   "source": [
    "tol = 1e-3\n",
    "# trainer = Trainer(optimizer)\n",
    "output = trainer.train(10, rtol=tol, atol=tol/10, report_interval=1, plot_interval=2)"
   ],
   "metadata": {
    "collapsed": false,
    "pycharm": {
     "name": "#%%\n",
     "is_executing": true
    }
   }
  },
  {
   "cell_type": "markdown",
   "source": [
    "### Outputs after training"
   ],
   "metadata": {
    "collapsed": false,
    "pycharm": {
     "name": "#%% md\n"
    }
   }
  },
  {
   "cell_type": "code",
   "execution_count": null,
   "outputs": [],
   "source": [
    "plotter = Plotter(model, m_df.index, t_inducing)\n",
    "\n",
    "tol = 1e-3\n",
    "plotter.plot_losses(trainer, last_x=100)\n",
    "plot_genes(rtol=tol, atol=tol/10)\n",
    "plotter.plot_tfs(ylim=(-2, 9))\n"
   ],
   "metadata": {
    "collapsed": false,
    "pycharm": {
     "name": "#%%\n"
    }
   }
  },
  {
   "cell_type": "code",
   "execution_count": null,
   "outputs": [],
   "source": [
    "save(model, 'nonlinear')"
   ],
   "metadata": {
    "collapsed": false,
    "pycharm": {
     "name": "#%%\n"
    }
   }
  },
  {
   "cell_type": "code",
   "execution_count": null,
   "outputs": [],
   "source": [
    "model = load('nonlinear', NonLinearLFM, num_genes, num_tfs, t_inducing, t_observed, fixed_variance=None)\n",
    "optimizer = torch.optim.Adam(model.parameters(), lr=0.2)\n",
    "trainer = Trainer(model, optimizer, (t_observed, m_observed))"
   ],
   "metadata": {
    "collapsed": false,
    "pycharm": {
     "name": "#%%\n"
    }
   }
  },
  {
   "cell_type": "code",
   "execution_count": null,
   "outputs": [],
   "source": [
    "titles = ['basal', 'decay', 'sensitivity', 'lengthscale']\n",
    "datas = [np.array(trainer.basalrates)[:,:,0],\n",
    "         np.array(trainer.decayrates)[:,:,0],\n",
    "         np.array(trainer.sensitivities)[:,:,0],\n",
    "         np.array(trainer.lengthscales)]\n",
    "\n",
    "plt.figure(figsize=(5, 6))\n",
    "for i, (title, data) in enumerate(zip(titles, datas)):\n",
    "    plt.subplot(411 + i)\n",
    "    plt.title(title)\n",
    "    # if data.ndim > 1:\n",
    "    #     for j in range(data.shape[1]):\n",
    "\n",
    "    plt.plot(data)"
   ],
   "metadata": {
    "collapsed": false,
    "pycharm": {
     "name": "#%%\n"
    }
   }
  },
  {
   "cell_type": "code",
   "execution_count": null,
   "outputs": [],
   "source": [],
   "metadata": {
    "collapsed": false,
    "pycharm": {
     "name": "#%%\n"
    }
   }
  }
 ],
 "metadata": {
  "kernelspec": {
   "name": "pycharm-efda258d",
   "language": "python",
   "display_name": "PyCharm (gskproj)"
  },
  "language_info": {
   "codemirror_mode": {
    "name": "ipython",
    "version": 2
   },
   "file_extension": ".py",
   "mimetype": "text/x-python",
   "name": "python",
   "nbconvert_exporter": "python",
   "pygments_lexer": "ipython2",
   "version": "2.7.6"
  }
 },
 "nbformat": 4,
 "nbformat_minor": 0
}