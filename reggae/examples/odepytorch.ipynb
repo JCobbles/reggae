{
 "cells": [
  {
   "cell_type": "code",
   "execution_count": 1,
   "metadata": {
    "collapsed": true
   },
   "outputs": [],
   "source": [
    "import torch\n",
    "from torch import nn\n",
    "from torch.nn import functional as F\n",
    "from torchdiffeq import odeint\n",
    "from torch.nn.parameter import Parameter\n",
    "from torch.distributions.multivariate_normal import MultivariateNormal\n",
    "from torch.distributions.normal import Normal\n",
    "\n",
    "import gpytorch\n",
    "\n",
    "from reggae.data_loaders import load_barenco_puma, DataHolder\n",
    "\n",
    "from matplotlib import pyplot as plt\n",
    "\n",
    "import numpy as np\n",
    "\n",
    "f64 = np.float64"
   ]
  },
  {
   "cell_type": "code",
   "execution_count": 2,
   "outputs": [
    {
     "name": "stdout",
     "output_type": "stream",
     "text": [
      "torch.Size([3, 5, 7])\n",
      "tensor([[0.0000],\n",
      "        [0.1667],\n",
      "        [0.3333],\n",
      "        [0.5000],\n",
      "        [0.6667],\n",
      "        [0.8333],\n",
      "        [1.0000]], dtype=torch.float64)\n"
     ]
    },
    {
     "data": {
      "text/plain": "[<matplotlib.lines.Line2D at 0x7ff950b49310>]"
     },
     "execution_count": 2,
     "metadata": {},
     "output_type": "execute_result"
    },
    {
     "data": {
      "text/plain": "<Figure size 432x288 with 1 Axes>",
      "image/png": "[encoded data removed]"
     },
     "metadata": {
      "needs_background": "light"
     },
     "output_type": "display_data"
    }
   ],
   "source": [
    "m_observed, f_observed, σ2_m_pre, σ2_f_pre, t = load_barenco_puma('../data/')\n",
    "\n",
    "m_df, m_observed = m_observed\n",
    "f_df, f_observed = f_observed\n",
    "# Shape of m_observed = (replicates, genes, times)\n",
    "m_observed = torch.tensor(m_observed)\n",
    "f_observed = torch.tensor(f_observed)\n",
    "data = (m_observed, f_observed)\n",
    "\n",
    "σ2_m_pre = f64(σ2_m_pre)\n",
    "σ2_f_pre = f64(σ2_f_pre)\n",
    "noise_data = (σ2_m_pre, σ2_f_pre)\n",
    "\n",
    "print(m_observed.shape)\n",
    "\n",
    "num_genes = m_observed.shape[1]\n",
    "num_tfs = f_observed.shape[1]\n",
    "N_m = m_observed.shape[2]\n",
    "granularity = 100\n",
    "t_start = f64(0)\n",
    "t_end = f64(1)\n",
    "t = torch.linspace(t_start, t_end, granularity, dtype=torch.float64).view((-1, 1))\n",
    "t_inducing = torch.linspace(t_start, t_end, 7, dtype=torch.float64).reshape((-1, 1))\n",
    "print(t_inducing)\n",
    "plt.plot(m_observed[0,0])"
   ],
   "metadata": {
    "collapsed": false,
    "pycharm": {
     "name": "#%%\n"
    }
   }
  },
  {
   "cell_type": "code",
   "execution_count": 3,
   "outputs": [],
   "source": [
    "def positivity_transform(value):\n",
    "    return torch.log(1+torch.exp(value))\n",
    "\n",
    "def plot_genes():\n",
    "    initial_value = torch.zeros((num_genes, 1), dtype=torch.float64) #, dtype=torch.float64\n",
    "    outputs = torch.squeeze(model(t.view(-1), initial_value))\n",
    "    print(outputs.shape)\n",
    "    plt.figure(figsize=(5, 8))\n",
    "    for i in range(num_genes):\n",
    "        plt.subplot(511+i)\n",
    "        plt.plot(t, torch.squeeze(outputs[0]).detach())\n",
    "        plt.scatter(t_inducing, m_observed[0][i])"
   ],
   "metadata": {
    "collapsed": false,
    "pycharm": {
     "name": "#%%\n"
    }
   }
  },
  {
   "cell_type": "code",
   "execution_count": 62,
   "outputs": [],
   "source": [
    "class GP(gpytorch.models.ExactGP):\n",
    "    def __init__(self, train_x, train_y, num_tfs):\n",
    "        likelihood = gpytorch.likelihoods.MultitaskGaussianLikelihood(num_tasks=num_tfs)\n",
    "        super(GP, self).__init__(train_x, train_y, likelihood)\n",
    "        self.mean_module = gpytorch.means.ConstantMean(batch_shape=torch.Size([num_tfs]))\n",
    "        rbf = gpytorch.kernels.RBFKernel(eps=0.15, batch_shape=torch.Size([num_tfs])) # eps is min lengthscale\n",
    "        rbf.lengthscale = f64(0.2)\n",
    "        self.covar_module = gpytorch.kernels.ScaleKernel(rbf, batch_shape=torch.Size([num_tfs]))\n",
    "\n",
    "\n",
    "    def forward(self, x):\n",
    "        mean_x = self.mean_module(x)\n",
    "        covar_x = self.covar_module(x)\n",
    "        return gpytorch.distributions.MultitaskMultivariateNormal.from_batch_mvn(\n",
    "            gpytorch.distributions.MultivariateNormal(mean_x, covar_x)\n",
    "        )\n",
    "\n",
    "\n",
    "class ODEModel(nn.Module):\n",
    "    \"\"\"\n",
    "    Description blah\n",
    "    Parameters\n",
    "    ----------\n",
    "    num_genes : int\n",
    "    Number of genes.\n",
    "    num_tfs : int\n",
    "\n",
    "    t_inducing : int\n",
    "    inducing timepoints.\n",
    "    \"\"\"\n",
    "    def __init__(self, num_genes, num_tfs, t_inducing):\n",
    "        super(ODEModel, self).__init__()\n",
    "        self.num_genes = num_genes\n",
    "        self.num_tfs = num_tfs\n",
    "        self.num_inducing = 7\n",
    "        self.inducing_inputs = t_inducing\n",
    "\n",
    "        self.decay_rate = Parameter(1*torch.ones((self.num_genes, 1), dtype=torch.float64))\n",
    "        self.basal_rate = Parameter(0.2*torch.ones((self.num_genes, 1), dtype=torch.float64))\n",
    "        self.sensitivity = Parameter(2*torch.ones((self.num_genes, 1), dtype=torch.float64))\n",
    "        self.w = Parameter(torch.ones((self.num_genes, self.num_tfs), dtype=torch.float64))\n",
    "        self.w_0 = Parameter(torch.ones((self.num_tfs), dtype=torch.float64))\n",
    "        variat_mean = torch.rand((self.num_tfs, self.num_inducing, 1), dtype=torch.float64) * 10 - 5\n",
    "        print(variat_mean)\n",
    "        variat_var = torch.eye(self.num_inducing, dtype=torch.float64).view(1, self.num_inducing, self.num_inducing)\n",
    "        variat_var = variat_var.repeat(self.num_tfs, 1, 1)\n",
    "        self.variat_mean = Parameter(variat_mean)\n",
    "        self.variat_var = Parameter(variat_var)\n",
    "\n",
    "        self.inducing_targets = torch.randn(self.num_tfs, self.num_inducing, dtype=torch.float64) #This is not used\n",
    "        # self.gp = GP(self.inducing_inputs.view(-1), self.inducing_targets, self.num_tfs)\n",
    "        self.nfe = 0\n",
    "        self.l2 = Parameter(0.2*torch.ones((num_tfs), dtype=torch.float64))\n",
    "        self.v = Parameter(1 * torch.ones((num_tfs), dtype=torch.float64))\n",
    "\n",
    "    def rbf(self, x: torch.Tensor, x2: torch.Tensor=None):\n",
    "        \"\"\"\n",
    "        Radial basis function kernel.\n",
    "        @param x:\n",
    "        @param x2: if None, then x2 becomes x\n",
    "        @return: K of shape (I, |x|, |x2|)\n",
    "        \"\"\"\n",
    "        if x2==None:\n",
    "            x2 = x\n",
    "        x = x.view(-1)\n",
    "        x2 = x2.view(-1)\n",
    "        sq_dist = torch.square(x.view(-1, 1)-x2)\n",
    "        sq_dist = sq_dist.repeat(self.num_tfs, 1, 1)\n",
    "        sq_dist = torch.div(sq_dist, 2*self.l2.view((-1, 1, 1)))\n",
    "\n",
    "        K =  self.v.view(-1, 1, 1) * torch.exp(-sq_dist)\n",
    "        return K\n",
    "\n",
    "\n",
    "    def forward(self, t, h):\n",
    "        \"\"\"\n",
    "        t : torch.Tensor\n",
    "            Shape (num_times)\n",
    "        h : torch.Tensor the initial state of the ODE\n",
    "            Shape (num_genes, 1)\n",
    "        Returns\n",
    "        -------\n",
    "        Returns evolved h across times t.\n",
    "        Shape (num_genes, num_points).\n",
    "        \"\"\"\n",
    "        self.nfe = 0\n",
    "        num_times = t.size()\n",
    "\n",
    "        # 1: Likelihood step: Sample from variational distribution\n",
    "        self.Kmm = self.rbf(self.inducing_inputs)\n",
    "        self.inv_Kmm = torch.inverse(self.Kmm)\n",
    "\n",
    "\n",
    "        # Integrate forward from the batch of initial positions z.\n",
    "        h = odeint(self.odefunc, h, t, method='dopri5', rtol=1e-3, atol=1e-5) # shape (num_genes, num_times, 1\n",
    "\n",
    "        # 2: KL terms:\n",
    "        q = MultivariateNormal(self.variat_mean, self.variat_var)\n",
    "        μ = torch.zeros((self.num_tfs, self.num_inducing), dtype=torch.float64)\n",
    "        p = MultivariateNormal(μ, self.Kmm)\n",
    "        kl = torch.distributions.kl.kl_divergence(p, q)\n",
    "        print(kl.shape)\n",
    "        return torch.transpose(h, 0, 1), kl\n",
    "\n",
    "\n",
    "    def odefunc(self, t, h):\n",
    "        self.nfe += 1\n",
    "        # print(t)\n",
    "        # h is of shape (num_genes, 1)\n",
    "        decay = torch.multiply(self.decay_rate.view(-1), h.view(-1)).view(-1, 1)\n",
    "\n",
    "        p = self.get_tfs(t)\n",
    "        Gp = self.G(p)\n",
    "        # print(Gp.shape)\n",
    "        # print(self.basal_rate, Gp, decay)\n",
    "\n",
    "        return self.basal_rate + self.sensitivity * Gp - decay\n",
    "\n",
    "    def get_tfs(self, t):\n",
    "        Ksm = self.rbf(t, self.inducing_inputs) # (I, T*, T)\n",
    "        α = Ksm.matmul(self.inv_Kmm) # (I, T*, T)\n",
    "        m_s = torch.matmul(α, self.variat_mean) # (I, T*, T*)\n",
    "        Kss = self.rbf(t) # (I, T*, T*)\n",
    "        S_Kmm = self.variat_var - self.Kmm # (I, T, T)\n",
    "        AS_KA = torch.matmul(torch.matmul(α, S_Kmm), torch.transpose(α, 1, 2)) # (I, T*, T*)\n",
    "        S_s = (Kss + AS_KA) # (I, T*, T*)\n",
    "        q_f = Normal(torch.squeeze(m_s), torch.squeeze(S_s))\n",
    "        f = q_f.sample() # TODO: multiple samples\n",
    "        return f\n",
    "    # def get_tfs(self, at):\n",
    "    #     self.gp.set_train_data(self.inducing_sources, self.inducing_targets)\n",
    "    #     f_mvn = self.gp(self.inducing_sources) #\n",
    "    #\n",
    "    #     self.gp.eval() # activate posterior mode (calls to gp() will be posterior predictive)\n",
    "    #\n",
    "    #     # print(at.shape, self.inducing_targets.shape)\n",
    "    #     inputs = torch.cat([self.inducing_targets, at.view(-1)])\n",
    "    #     # f_mvn = self.gp(at.view(-1))\n",
    "    #     f_mvn = self.gp(inputs)\n",
    "    #     # print(f_mvn.mean.shape)\n",
    "    #\n",
    "    #     self.gp.train()\n",
    "    #\n",
    "    #     return torch.unsqueeze(f_mvn.mean[-1], 0) #TODO support multi tfs, in which case the 0 dim is num_tfs\n",
    "\n",
    "    def G(self, p):\n",
    "        # p_pos = positivity_transform(p)\n",
    "        # interactions = torch.matmul(self.w, torch.log(p_pos+1e-50)) + self.w_0 #(TODO)\n",
    "        # return torch.sigmoid(interactions) # TF Activation Function (sigmoid)\n",
    "        return p\n",
    "\n",
    "    # def latent(self, t):\n",
    "    #     self.gp.eval()\n",
    "    #     f_mvn = self.gp(t)\n",
    "    #     return positivity_transform(f_mvn.mean)\n",
    "\n",
    "    def train(self, mode=True):\n",
    "        # self.gp.train(mode)\n",
    "        # self.gp.likelihood.train(mode)\n",
    "        super().train(mode)"
   ],
   "metadata": {
    "collapsed": false,
    "pycharm": {
     "name": "#%%\n"
    }
   }
  },
  {
   "cell_type": "code",
   "execution_count": 63,
   "outputs": [],
   "source": [
    "def train(optimizer, loss_fn, epochs=10):\n",
    "    basalrates = list()\n",
    "    decayrates = list()\n",
    "    lengthscales = list()\n",
    "    plt.figure()\n",
    "    plt.plot(t_inducing, m_observed[0,0], label='real')\n",
    "\n",
    "    for epoch in range(epochs):\n",
    "        optimizer.zero_grad()\n",
    "        # Output from model\n",
    "        initial_value = torch.zeros((num_genes, 1), dtype=torch.float64) #, dtype=torch.float64\n",
    "        output, kl = torch.squeeze(model(t_inducing.view(-1), initial_value))\n",
    "        print('success', kl)\n",
    "\n",
    "        # Calc loss and backprop gradients\n",
    "        loss = loss_fn(output, m_observed[0])\n",
    "\n",
    "        loss.backward()\n",
    "        print('Epoch %d/%d - Loss: %.3f %.3f b: %.2f d %.2f λ: %.7f' % (\n",
    "            epoch + 1, epochs, loss.item(),\n",
    "            output[3,3].item(),\n",
    "            model.basal_rate[0].item(),\n",
    "            model.decay_rate[0].item(),\n",
    "            model.l2.squeeze().item()\n",
    "        ))\n",
    "        optimizer.step()\n",
    "\n",
    "        basalrates.append(model.basal_rate.detach().numpy())\n",
    "        decayrates.append(model.decay_rate.detach().numpy())\n",
    "        lengthscales.append(model.l2.squeeze().item())\n",
    "        if (epoch % 10) ==0:\n",
    "            plt.plot(t_inducing, output[0].detach().numpy(), label='epoch'+str(epoch))\n",
    "\n",
    "    plt.legend()\n",
    "    return output, (basalrates, decayrates, lengthscales)"
   ],
   "metadata": {
    "collapsed": false,
    "pycharm": {
     "name": "#%%\n"
    }
   }
  },
  {
   "cell_type": "code",
   "execution_count": 64,
   "outputs": [
    {
     "name": "stdout",
     "output_type": "stream",
     "text": [
      "tensor([[[-1.9141],\n",
      "         [-4.7774],\n",
      "         [ 3.2341],\n",
      "         [ 1.2621],\n",
      "         [-1.2087],\n",
      "         [ 4.0223],\n",
      "         [ 4.1059]]], dtype=torch.float64)\n"
     ]
    },
    {
     "data": {
      "text/plain": "[Parameter containing:\n tensor([[1.],\n         [1.],\n         [1.],\n         [1.],\n         [1.]], dtype=torch.float64, requires_grad=True),\n Parameter containing:\n tensor([[0.2000],\n         [0.2000],\n         [0.2000],\n         [0.2000],\n         [0.2000]], dtype=torch.float64, requires_grad=True),\n Parameter containing:\n tensor([[2.],\n         [2.],\n         [2.],\n         [2.],\n         [2.]], dtype=torch.float64, requires_grad=True),\n Parameter containing:\n tensor([[1.],\n         [1.],\n         [1.],\n         [1.],\n         [1.]], dtype=torch.float64, requires_grad=True),\n Parameter containing:\n tensor([1.], dtype=torch.float64, requires_grad=True),\n Parameter containing:\n tensor([[[-1.9141],\n          [-4.7774],\n          [ 3.2341],\n          [ 1.2621],\n          [-1.2087],\n          [ 4.0223],\n          [ 4.1059]]], dtype=torch.float64, requires_grad=True),\n Parameter containing:\n tensor([[[1., 0., 0., 0., 0., 0., 0.],\n          [0., 1., 0., 0., 0., 0., 0.],\n          [0., 0., 1., 0., 0., 0., 0.],\n          [0., 0., 0., 1., 0., 0., 0.],\n          [0., 0., 0., 0., 1., 0., 0.],\n          [0., 0., 0., 0., 0., 1., 0.],\n          [0., 0., 0., 0., 0., 0., 1.]]], dtype=torch.float64,\n        requires_grad=True),\n Parameter containing:\n tensor([0.2000], dtype=torch.float64, requires_grad=True),\n Parameter containing:\n tensor([1.], dtype=torch.float64, requires_grad=True)]"
     },
     "execution_count": 64,
     "metadata": {},
     "output_type": "execute_result"
    }
   ],
   "source": [
    "model = ODEModel(num_genes, num_tfs, t_inducing)\n",
    "optimizer = torch.optim.Adam(model.parameters(), lr=0.08)  # Includes GaussianLikelihood parameters\n",
    "loss_fn = torch.nn.MSELoss(reduction='mean')\n",
    "\n",
    "model.rbf(model.inducing_inputs)\n",
    "list(model.parameters())"
   ],
   "metadata": {
    "collapsed": false,
    "pycharm": {
     "name": "#%%\n"
    }
   }
  },
  {
   "cell_type": "markdown",
   "source": [
    "### Outputs prior to training:"
   ],
   "metadata": {
    "collapsed": false,
    "pycharm": {
     "name": "#%% md\n"
    }
   }
  },
  {
   "cell_type": "code",
   "execution_count": 65,
   "outputs": [
    {
     "ename": "NotImplementedError",
     "evalue": "",
     "output_type": "error",
     "traceback": [
      "\u001B[0;31m---------------------------------------------------------------------------\u001B[0m",
      "\u001B[0;31mNotImplementedError\u001B[0m                       Traceback (most recent call last)",
      "\u001B[0;32m<ipython-input-65-695ef2eb1a2d>\u001B[0m in \u001B[0;36m<module>\u001B[0;34m\u001B[0m\n\u001B[0;32m----> 1\u001B[0;31m \u001B[0mplot_genes\u001B[0m\u001B[0;34m(\u001B[0m\u001B[0;34m)\u001B[0m\u001B[0;34m\u001B[0m\u001B[0;34m\u001B[0m\u001B[0m\n\u001B[0m",
      "\u001B[0;32m<ipython-input-3-688e1139f790>\u001B[0m in \u001B[0;36mplot_genes\u001B[0;34m()\u001B[0m\n\u001B[1;32m      4\u001B[0m \u001B[0;32mdef\u001B[0m \u001B[0mplot_genes\u001B[0m\u001B[0;34m(\u001B[0m\u001B[0;34m)\u001B[0m\u001B[0;34m:\u001B[0m\u001B[0;34m\u001B[0m\u001B[0;34m\u001B[0m\u001B[0m\n\u001B[1;32m      5\u001B[0m     \u001B[0minitial_value\u001B[0m \u001B[0;34m=\u001B[0m \u001B[0mtorch\u001B[0m\u001B[0;34m.\u001B[0m\u001B[0mzeros\u001B[0m\u001B[0;34m(\u001B[0m\u001B[0;34m(\u001B[0m\u001B[0mnum_genes\u001B[0m\u001B[0;34m,\u001B[0m \u001B[0;36m1\u001B[0m\u001B[0;34m)\u001B[0m\u001B[0;34m,\u001B[0m \u001B[0mdtype\u001B[0m\u001B[0;34m=\u001B[0m\u001B[0mtorch\u001B[0m\u001B[0;34m.\u001B[0m\u001B[0mfloat64\u001B[0m\u001B[0;34m)\u001B[0m \u001B[0;31m#, dtype=torch.float64\u001B[0m\u001B[0;34m\u001B[0m\u001B[0;34m\u001B[0m\u001B[0m\n\u001B[0;32m----> 6\u001B[0;31m     \u001B[0moutputs\u001B[0m \u001B[0;34m=\u001B[0m \u001B[0mtorch\u001B[0m\u001B[0;34m.\u001B[0m\u001B[0msqueeze\u001B[0m\u001B[0;34m(\u001B[0m\u001B[0mmodel\u001B[0m\u001B[0;34m(\u001B[0m\u001B[0mt\u001B[0m\u001B[0;34m.\u001B[0m\u001B[0mview\u001B[0m\u001B[0;34m(\u001B[0m\u001B[0;34m-\u001B[0m\u001B[0;36m1\u001B[0m\u001B[0;34m)\u001B[0m\u001B[0;34m,\u001B[0m \u001B[0minitial_value\u001B[0m\u001B[0;34m)\u001B[0m\u001B[0;34m)\u001B[0m\u001B[0;34m\u001B[0m\u001B[0;34m\u001B[0m\u001B[0m\n\u001B[0m\u001B[1;32m      7\u001B[0m     \u001B[0mprint\u001B[0m\u001B[0;34m(\u001B[0m\u001B[0moutputs\u001B[0m\u001B[0;34m.\u001B[0m\u001B[0mshape\u001B[0m\u001B[0;34m)\u001B[0m\u001B[0;34m\u001B[0m\u001B[0;34m\u001B[0m\u001B[0m\n\u001B[1;32m      8\u001B[0m     \u001B[0mplt\u001B[0m\u001B[0;34m.\u001B[0m\u001B[0mfigure\u001B[0m\u001B[0;34m(\u001B[0m\u001B[0mfigsize\u001B[0m\u001B[0;34m=\u001B[0m\u001B[0;34m(\u001B[0m\u001B[0;36m5\u001B[0m\u001B[0;34m,\u001B[0m \u001B[0;36m8\u001B[0m\u001B[0;34m)\u001B[0m\u001B[0;34m)\u001B[0m\u001B[0;34m\u001B[0m\u001B[0;34m\u001B[0m\u001B[0m\n",
      "\u001B[0;32m~/miniconda3/envs/wishart/lib/python3.7/site-packages/torch/nn/modules/module.py\u001B[0m in \u001B[0;36m_call_impl\u001B[0;34m(self, *input, **kwargs)\u001B[0m\n\u001B[1;32m    725\u001B[0m             \u001B[0mresult\u001B[0m \u001B[0;34m=\u001B[0m \u001B[0mself\u001B[0m\u001B[0;34m.\u001B[0m\u001B[0m_slow_forward\u001B[0m\u001B[0;34m(\u001B[0m\u001B[0;34m*\u001B[0m\u001B[0minput\u001B[0m\u001B[0;34m,\u001B[0m \u001B[0;34m**\u001B[0m\u001B[0mkwargs\u001B[0m\u001B[0;34m)\u001B[0m\u001B[0;34m\u001B[0m\u001B[0;34m\u001B[0m\u001B[0m\n\u001B[1;32m    726\u001B[0m         \u001B[0;32melse\u001B[0m\u001B[0;34m:\u001B[0m\u001B[0;34m\u001B[0m\u001B[0;34m\u001B[0m\u001B[0m\n\u001B[0;32m--> 727\u001B[0;31m             \u001B[0mresult\u001B[0m \u001B[0;34m=\u001B[0m \u001B[0mself\u001B[0m\u001B[0;34m.\u001B[0m\u001B[0mforward\u001B[0m\u001B[0;34m(\u001B[0m\u001B[0;34m*\u001B[0m\u001B[0minput\u001B[0m\u001B[0;34m,\u001B[0m \u001B[0;34m**\u001B[0m\u001B[0mkwargs\u001B[0m\u001B[0;34m)\u001B[0m\u001B[0;34m\u001B[0m\u001B[0;34m\u001B[0m\u001B[0m\n\u001B[0m\u001B[1;32m    728\u001B[0m         for hook in itertools.chain(\n\u001B[1;32m    729\u001B[0m                 \u001B[0m_global_forward_hooks\u001B[0m\u001B[0;34m.\u001B[0m\u001B[0mvalues\u001B[0m\u001B[0;34m(\u001B[0m\u001B[0;34m)\u001B[0m\u001B[0;34m,\u001B[0m\u001B[0;34m\u001B[0m\u001B[0;34m\u001B[0m\u001B[0m\n",
      "\u001B[0;32m<ipython-input-62-b97fc9dbbabd>\u001B[0m in \u001B[0;36mforward\u001B[0;34m(self, t, h)\u001B[0m\n\u001B[1;32m     99\u001B[0m         \u001B[0mμ\u001B[0m \u001B[0;34m=\u001B[0m \u001B[0mtorch\u001B[0m\u001B[0;34m.\u001B[0m\u001B[0mzeros\u001B[0m\u001B[0;34m(\u001B[0m\u001B[0;34m(\u001B[0m\u001B[0mself\u001B[0m\u001B[0;34m.\u001B[0m\u001B[0mnum_tfs\u001B[0m\u001B[0;34m,\u001B[0m \u001B[0mself\u001B[0m\u001B[0;34m.\u001B[0m\u001B[0mnum_inducing\u001B[0m\u001B[0;34m)\u001B[0m\u001B[0;34m,\u001B[0m \u001B[0mdtype\u001B[0m\u001B[0;34m=\u001B[0m\u001B[0mtorch\u001B[0m\u001B[0;34m.\u001B[0m\u001B[0mfloat64\u001B[0m\u001B[0;34m)\u001B[0m\u001B[0;34m\u001B[0m\u001B[0;34m\u001B[0m\u001B[0m\n\u001B[1;32m    100\u001B[0m         \u001B[0mp\u001B[0m \u001B[0;34m=\u001B[0m \u001B[0mMultivariateNormal\u001B[0m\u001B[0;34m(\u001B[0m\u001B[0mμ\u001B[0m\u001B[0;34m,\u001B[0m \u001B[0mself\u001B[0m\u001B[0;34m.\u001B[0m\u001B[0mKmm\u001B[0m\u001B[0;34m)\u001B[0m\u001B[0;34m\u001B[0m\u001B[0;34m\u001B[0m\u001B[0m\n\u001B[0;32m--> 101\u001B[0;31m         \u001B[0mkl\u001B[0m \u001B[0;34m=\u001B[0m \u001B[0mtorch\u001B[0m\u001B[0;34m.\u001B[0m\u001B[0mdistributions\u001B[0m\u001B[0;34m.\u001B[0m\u001B[0mkl\u001B[0m\u001B[0;34m.\u001B[0m\u001B[0mkl_divergence\u001B[0m\u001B[0;34m(\u001B[0m\u001B[0mp\u001B[0m\u001B[0;34m,\u001B[0m \u001B[0mq\u001B[0m\u001B[0;34m)\u001B[0m\u001B[0;34m\u001B[0m\u001B[0;34m\u001B[0m\u001B[0m\n\u001B[0m\u001B[1;32m    102\u001B[0m         \u001B[0;32mreturn\u001B[0m \u001B[0mtorch\u001B[0m\u001B[0;34m.\u001B[0m\u001B[0mtranspose\u001B[0m\u001B[0;34m(\u001B[0m\u001B[0mh\u001B[0m\u001B[0;34m,\u001B[0m \u001B[0;36m0\u001B[0m\u001B[0;34m,\u001B[0m \u001B[0;36m1\u001B[0m\u001B[0;34m)\u001B[0m\u001B[0;34m\u001B[0m\u001B[0;34m\u001B[0m\u001B[0m\n\u001B[1;32m    103\u001B[0m \u001B[0;34m\u001B[0m\u001B[0m\n",
      "\u001B[0;32m~/miniconda3/envs/wishart/lib/python3.7/site-packages/torch/distributions/kl.py\u001B[0m in \u001B[0;36mkl_divergence\u001B[0;34m(p, q)\u001B[0m\n\u001B[1;32m    164\u001B[0m         \u001B[0m_KL_MEMOIZE\u001B[0m\u001B[0;34m[\u001B[0m\u001B[0mtype\u001B[0m\u001B[0;34m(\u001B[0m\u001B[0mp\u001B[0m\u001B[0;34m)\u001B[0m\u001B[0;34m,\u001B[0m \u001B[0mtype\u001B[0m\u001B[0;34m(\u001B[0m\u001B[0mq\u001B[0m\u001B[0;34m)\u001B[0m\u001B[0;34m]\u001B[0m \u001B[0;34m=\u001B[0m \u001B[0mfun\u001B[0m\u001B[0;34m\u001B[0m\u001B[0;34m\u001B[0m\u001B[0m\n\u001B[1;32m    165\u001B[0m     \u001B[0;32mif\u001B[0m \u001B[0mfun\u001B[0m \u001B[0;32mis\u001B[0m \u001B[0mNotImplemented\u001B[0m\u001B[0;34m:\u001B[0m\u001B[0;34m\u001B[0m\u001B[0;34m\u001B[0m\u001B[0m\n\u001B[0;32m--> 166\u001B[0;31m         \u001B[0;32mraise\u001B[0m \u001B[0mNotImplementedError\u001B[0m\u001B[0;34m\u001B[0m\u001B[0;34m\u001B[0m\u001B[0m\n\u001B[0m\u001B[1;32m    167\u001B[0m     \u001B[0;32mreturn\u001B[0m \u001B[0mfun\u001B[0m\u001B[0;34m(\u001B[0m\u001B[0mp\u001B[0m\u001B[0;34m,\u001B[0m \u001B[0mq\u001B[0m\u001B[0;34m)\u001B[0m\u001B[0;34m\u001B[0m\u001B[0;34m\u001B[0m\u001B[0m\n\u001B[1;32m    168\u001B[0m \u001B[0;34m\u001B[0m\u001B[0m\n",
      "\u001B[0;31mNotImplementedError\u001B[0m: "
     ]
    }
   ],
   "source": [
    "plot_genes()"
   ],
   "metadata": {
    "collapsed": false,
    "pycharm": {
     "name": "#%%\n"
    }
   }
  },
  {
   "cell_type": "code",
   "execution_count": 61,
   "outputs": [
    {
     "name": "stdout",
     "output_type": "stream",
     "text": [
      "success\n",
      "Epoch 1/10 - Loss: 4.415 -0.871 b: 0.98 d 1.75 λ: 0.2000000\n",
      "success\n",
      "Epoch 2/10 - Loss: 4.262 -0.851 b: 1.06 d 1.82 λ: 0.2000000\n",
      "success\n",
      "Epoch 3/10 - Loss: 4.112 -0.809 b: 1.13 d 1.89 λ: 0.2000000\n",
      "success\n",
      "Epoch 4/10 - Loss: 3.791 -0.756 b: 1.20 d 1.95 λ: 0.2000000\n",
      "success\n",
      "Epoch 5/10 - Loss: 3.573 -0.626 b: 1.28 d 2.01 λ: 0.2000000\n",
      "success\n",
      "Epoch 6/10 - Loss: 3.464 -0.652 b: 1.35 d 2.07 λ: 0.2000000\n",
      "success\n",
      "Epoch 7/10 - Loss: 3.248 -0.558 b: 1.42 d 2.13 λ: 0.2000000\n",
      "success\n",
      "Epoch 8/10 - Loss: 3.017 -0.439 b: 1.50 d 2.18 λ: 0.2000000\n",
      "success\n",
      "Epoch 9/10 - Loss: 3.011 -0.494 b: 1.57 d 2.23 λ: 0.2000000\n",
      "success\n",
      "Epoch 10/10 - Loss: 2.752 -0.372 b: 1.63 d 2.27 λ: 0.2000000\n"
     ]
    },
    {
     "data": {
      "text/plain": "<Figure size 432x288 with 1 Axes>",
      "image/png": "[encoded data removed]"
     },
     "metadata": {
      "needs_background": "light"
     },
     "output_type": "display_data"
    }
   ],
   "source": [
    "output, params = train(optimizer, loss_fn, 10)"
   ],
   "metadata": {
    "collapsed": false,
    "pycharm": {
     "name": "#%%\n"
    }
   }
  },
  {
   "cell_type": "code",
   "execution_count": 77,
   "outputs": [
    {
     "name": "stdout",
     "output_type": "stream",
     "text": [
      "tensor([[0.8441]], grad_fn=<SoftplusBackward>)\n"
     ]
    }
   ],
   "source": [
    "print(model.gp.covar_module.base_kernel.lengthscale)"
   ],
   "metadata": {
    "collapsed": false,
    "pycharm": {
     "name": "#%%\n"
    }
   }
  },
  {
   "cell_type": "code",
   "execution_count": 175,
   "outputs": [
    {
     "name": "stdout",
     "output_type": "stream",
     "text": [
      "torch.float64\n"
     ]
    },
    {
     "ename": "RuntimeError",
     "evalue": "expected scalar type Double but found Float",
     "output_type": "error",
     "traceback": [
      "\u001B[0;31m---------------------------------------------------------------------------\u001B[0m",
      "\u001B[0;31mRuntimeError\u001B[0m                              Traceback (most recent call last)",
      "\u001B[0;32m<ipython-input-175-b521780b4888>\u001B[0m in \u001B[0;36m<module>\u001B[0;34m\u001B[0m\n\u001B[1;32m      1\u001B[0m \u001B[0mplt\u001B[0m\u001B[0;34m.\u001B[0m\u001B[0mfigure\u001B[0m\u001B[0;34m(\u001B[0m\u001B[0;34m)\u001B[0m\u001B[0;34m\u001B[0m\u001B[0;34m\u001B[0m\u001B[0m\n\u001B[1;32m      2\u001B[0m \u001B[0mprint\u001B[0m\u001B[0;34m(\u001B[0m\u001B[0mt\u001B[0m\u001B[0;34m.\u001B[0m\u001B[0mdtype\u001B[0m\u001B[0;34m)\u001B[0m\u001B[0;34m\u001B[0m\u001B[0;34m\u001B[0m\u001B[0m\n\u001B[0;32m----> 3\u001B[0;31m \u001B[0mprint\u001B[0m\u001B[0;34m(\u001B[0m\u001B[0mmodel\u001B[0m\u001B[0;34m.\u001B[0m\u001B[0mlatent\u001B[0m\u001B[0;34m(\u001B[0m\u001B[0mt\u001B[0m\u001B[0;34m)\u001B[0m\u001B[0;34m.\u001B[0m\u001B[0mshape\u001B[0m\u001B[0;34m)\u001B[0m\u001B[0;34m\u001B[0m\u001B[0;34m\u001B[0m\u001B[0m\n\u001B[0m\u001B[1;32m      4\u001B[0m \u001B[0mplt\u001B[0m\u001B[0;34m.\u001B[0m\u001B[0mplot\u001B[0m\u001B[0;34m(\u001B[0m\u001B[0mt\u001B[0m\u001B[0;34m,\u001B[0m \u001B[0mmodel\u001B[0m\u001B[0;34m.\u001B[0m\u001B[0mlatent\u001B[0m\u001B[0;34m(\u001B[0m\u001B[0mt\u001B[0m\u001B[0;34m)\u001B[0m\u001B[0;34m.\u001B[0m\u001B[0mdetach\u001B[0m\u001B[0;34m(\u001B[0m\u001B[0;34m)\u001B[0m\u001B[0;34m)\u001B[0m\u001B[0;34m\u001B[0m\u001B[0;34m\u001B[0m\u001B[0m\n\u001B[1;32m      5\u001B[0m \u001B[0mplt\u001B[0m\u001B[0;34m.\u001B[0m\u001B[0mscatter\u001B[0m\u001B[0;34m(\u001B[0m\u001B[0mt_inducing\u001B[0m\u001B[0;34m,\u001B[0m \u001B[0mmodel\u001B[0m\u001B[0;34m.\u001B[0m\u001B[0minducing_targets\u001B[0m\u001B[0;34m.\u001B[0m\u001B[0mdetach\u001B[0m\u001B[0;34m(\u001B[0m\u001B[0;34m)\u001B[0m\u001B[0;34m,\u001B[0m \u001B[0mmarker\u001B[0m\u001B[0;34m=\u001B[0m\u001B[0;34m'x'\u001B[0m\u001B[0;34m)\u001B[0m\u001B[0;34m\u001B[0m\u001B[0;34m\u001B[0m\u001B[0m\n",
      "\u001B[0;32m<ipython-input-167-f2ea92868218>\u001B[0m in \u001B[0;36mlatent\u001B[0;34m(self, t)\u001B[0m\n\u001B[1;32m    128\u001B[0m     \u001B[0;32mdef\u001B[0m \u001B[0mlatent\u001B[0m\u001B[0;34m(\u001B[0m\u001B[0mself\u001B[0m\u001B[0;34m,\u001B[0m \u001B[0mt\u001B[0m\u001B[0;34m)\u001B[0m\u001B[0;34m:\u001B[0m\u001B[0;34m\u001B[0m\u001B[0;34m\u001B[0m\u001B[0m\n\u001B[1;32m    129\u001B[0m         \u001B[0mself\u001B[0m\u001B[0;34m.\u001B[0m\u001B[0mgp\u001B[0m\u001B[0;34m.\u001B[0m\u001B[0meval\u001B[0m\u001B[0;34m(\u001B[0m\u001B[0;34m)\u001B[0m\u001B[0;34m\u001B[0m\u001B[0;34m\u001B[0m\u001B[0m\n\u001B[0;32m--> 130\u001B[0;31m         \u001B[0mf_mvn\u001B[0m \u001B[0;34m=\u001B[0m \u001B[0mself\u001B[0m\u001B[0;34m.\u001B[0m\u001B[0mgp\u001B[0m\u001B[0;34m(\u001B[0m\u001B[0mt\u001B[0m\u001B[0;34m)\u001B[0m\u001B[0;34m\u001B[0m\u001B[0;34m\u001B[0m\u001B[0m\n\u001B[0m\u001B[1;32m    131\u001B[0m         \u001B[0;32mreturn\u001B[0m \u001B[0mpositivity_transform\u001B[0m\u001B[0;34m(\u001B[0m\u001B[0mf_mvn\u001B[0m\u001B[0;34m.\u001B[0m\u001B[0mmean\u001B[0m\u001B[0;34m)\u001B[0m\u001B[0;34m\u001B[0m\u001B[0;34m\u001B[0m\u001B[0m\n\u001B[1;32m    132\u001B[0m \u001B[0;34m\u001B[0m\u001B[0m\n",
      "\u001B[0;32m~/miniconda3/envs/wishart/lib/python3.7/site-packages/gpytorch/models/exact_gp.py\u001B[0m in \u001B[0;36m__call__\u001B[0;34m(self, *args, **kwargs)\u001B[0m\n\u001B[1;32m    317\u001B[0m             \u001B[0;31m# Make the prediction\u001B[0m\u001B[0;34m\u001B[0m\u001B[0;34m\u001B[0m\u001B[0;34m\u001B[0m\u001B[0m\n\u001B[1;32m    318\u001B[0m             \u001B[0;32mwith\u001B[0m \u001B[0msettings\u001B[0m\u001B[0;34m.\u001B[0m\u001B[0m_use_eval_tolerance\u001B[0m\u001B[0;34m(\u001B[0m\u001B[0;34m)\u001B[0m\u001B[0;34m:\u001B[0m\u001B[0;34m\u001B[0m\u001B[0;34m\u001B[0m\u001B[0m\n\u001B[0;32m--> 319\u001B[0;31m                 \u001B[0mpredictive_mean\u001B[0m\u001B[0;34m,\u001B[0m \u001B[0mpredictive_covar\u001B[0m \u001B[0;34m=\u001B[0m \u001B[0mself\u001B[0m\u001B[0;34m.\u001B[0m\u001B[0mprediction_strategy\u001B[0m\u001B[0;34m.\u001B[0m\u001B[0mexact_prediction\u001B[0m\u001B[0;34m(\u001B[0m\u001B[0mfull_mean\u001B[0m\u001B[0;34m,\u001B[0m \u001B[0mfull_covar\u001B[0m\u001B[0;34m)\u001B[0m\u001B[0;34m\u001B[0m\u001B[0;34m\u001B[0m\u001B[0m\n\u001B[0m\u001B[1;32m    320\u001B[0m \u001B[0;34m\u001B[0m\u001B[0m\n\u001B[1;32m    321\u001B[0m             \u001B[0;31m# Reshape predictive mean to match the appropriate event shape\u001B[0m\u001B[0;34m\u001B[0m\u001B[0;34m\u001B[0m\u001B[0;34m\u001B[0m\u001B[0m\n",
      "\u001B[0;32m~/miniconda3/envs/wishart/lib/python3.7/site-packages/gpytorch/models/exact_prediction_strategies.py\u001B[0m in \u001B[0;36mexact_prediction\u001B[0;34m(self, joint_mean, joint_covar)\u001B[0m\n\u001B[1;32m    307\u001B[0m         \u001B[0;31m# For efficiency - we can make things more efficient\u001B[0m\u001B[0;34m\u001B[0m\u001B[0;34m\u001B[0m\u001B[0;34m\u001B[0m\u001B[0m\n\u001B[1;32m    308\u001B[0m         \u001B[0;32mif\u001B[0m \u001B[0mjoint_covar\u001B[0m\u001B[0;34m.\u001B[0m\u001B[0msize\u001B[0m\u001B[0;34m(\u001B[0m\u001B[0;34m-\u001B[0m\u001B[0;36m1\u001B[0m\u001B[0;34m)\u001B[0m \u001B[0;34m<=\u001B[0m \u001B[0msettings\u001B[0m\u001B[0;34m.\u001B[0m\u001B[0mmax_eager_kernel_size\u001B[0m\u001B[0;34m.\u001B[0m\u001B[0mvalue\u001B[0m\u001B[0;34m(\u001B[0m\u001B[0;34m)\u001B[0m\u001B[0;34m:\u001B[0m\u001B[0;34m\u001B[0m\u001B[0;34m\u001B[0m\u001B[0m\n\u001B[0;32m--> 309\u001B[0;31m             \u001B[0mtest_covar\u001B[0m \u001B[0;34m=\u001B[0m \u001B[0mjoint_covar\u001B[0m\u001B[0;34m[\u001B[0m\u001B[0;34m...\u001B[0m\u001B[0;34m,\u001B[0m \u001B[0mself\u001B[0m\u001B[0;34m.\u001B[0m\u001B[0mnum_train\u001B[0m \u001B[0;34m:\u001B[0m\u001B[0;34m,\u001B[0m \u001B[0;34m:\u001B[0m\u001B[0;34m]\u001B[0m\u001B[0;34m.\u001B[0m\u001B[0mevaluate\u001B[0m\u001B[0;34m(\u001B[0m\u001B[0;34m)\u001B[0m\u001B[0;34m\u001B[0m\u001B[0;34m\u001B[0m\u001B[0m\n\u001B[0m\u001B[1;32m    310\u001B[0m             \u001B[0mtest_test_covar\u001B[0m \u001B[0;34m=\u001B[0m \u001B[0mtest_covar\u001B[0m\u001B[0;34m[\u001B[0m\u001B[0;34m...\u001B[0m\u001B[0;34m,\u001B[0m \u001B[0mself\u001B[0m\u001B[0;34m.\u001B[0m\u001B[0mnum_train\u001B[0m \u001B[0;34m:\u001B[0m\u001B[0;34m]\u001B[0m\u001B[0;34m\u001B[0m\u001B[0;34m\u001B[0m\u001B[0m\n\u001B[1;32m    311\u001B[0m             \u001B[0mtest_train_covar\u001B[0m \u001B[0;34m=\u001B[0m \u001B[0mtest_covar\u001B[0m\u001B[0;34m[\u001B[0m\u001B[0;34m...\u001B[0m\u001B[0;34m,\u001B[0m \u001B[0;34m:\u001B[0m \u001B[0mself\u001B[0m\u001B[0;34m.\u001B[0m\u001B[0mnum_train\u001B[0m\u001B[0;34m]\u001B[0m\u001B[0;34m\u001B[0m\u001B[0;34m\u001B[0m\u001B[0m\n",
      "\u001B[0;32m~/miniconda3/envs/wishart/lib/python3.7/site-packages/gpytorch/utils/memoize.py\u001B[0m in \u001B[0;36mg\u001B[0;34m(self, *args, **kwargs)\u001B[0m\n\u001B[1;32m     57\u001B[0m         \u001B[0mkwargs_pkl\u001B[0m \u001B[0;34m=\u001B[0m \u001B[0mpickle\u001B[0m\u001B[0;34m.\u001B[0m\u001B[0mdumps\u001B[0m\u001B[0;34m(\u001B[0m\u001B[0mkwargs\u001B[0m\u001B[0;34m)\u001B[0m\u001B[0;34m\u001B[0m\u001B[0;34m\u001B[0m\u001B[0m\n\u001B[1;32m     58\u001B[0m         \u001B[0;32mif\u001B[0m \u001B[0;32mnot\u001B[0m \u001B[0m_is_in_cache\u001B[0m\u001B[0;34m(\u001B[0m\u001B[0mself\u001B[0m\u001B[0;34m,\u001B[0m \u001B[0mcache_name\u001B[0m\u001B[0;34m,\u001B[0m \u001B[0;34m*\u001B[0m\u001B[0margs\u001B[0m\u001B[0;34m,\u001B[0m \u001B[0mkwargs_pkl\u001B[0m\u001B[0;34m=\u001B[0m\u001B[0mkwargs_pkl\u001B[0m\u001B[0;34m)\u001B[0m\u001B[0;34m:\u001B[0m\u001B[0;34m\u001B[0m\u001B[0;34m\u001B[0m\u001B[0m\n\u001B[0;32m---> 59\u001B[0;31m             \u001B[0;32mreturn\u001B[0m \u001B[0m_add_to_cache\u001B[0m\u001B[0;34m(\u001B[0m\u001B[0mself\u001B[0m\u001B[0;34m,\u001B[0m \u001B[0mcache_name\u001B[0m\u001B[0;34m,\u001B[0m \u001B[0mmethod\u001B[0m\u001B[0;34m(\u001B[0m\u001B[0mself\u001B[0m\u001B[0;34m,\u001B[0m \u001B[0;34m*\u001B[0m\u001B[0margs\u001B[0m\u001B[0;34m,\u001B[0m \u001B[0;34m**\u001B[0m\u001B[0mkwargs\u001B[0m\u001B[0;34m)\u001B[0m\u001B[0;34m,\u001B[0m \u001B[0;34m*\u001B[0m\u001B[0margs\u001B[0m\u001B[0;34m,\u001B[0m \u001B[0mkwargs_pkl\u001B[0m\u001B[0;34m=\u001B[0m\u001B[0mkwargs_pkl\u001B[0m\u001B[0;34m)\u001B[0m\u001B[0;34m\u001B[0m\u001B[0;34m\u001B[0m\u001B[0m\n\u001B[0m\u001B[1;32m     60\u001B[0m         \u001B[0;32mreturn\u001B[0m \u001B[0m_get_from_cache\u001B[0m\u001B[0;34m(\u001B[0m\u001B[0mself\u001B[0m\u001B[0;34m,\u001B[0m \u001B[0mcache_name\u001B[0m\u001B[0;34m,\u001B[0m \u001B[0;34m*\u001B[0m\u001B[0margs\u001B[0m\u001B[0;34m,\u001B[0m \u001B[0mkwargs_pkl\u001B[0m\u001B[0;34m=\u001B[0m\u001B[0mkwargs_pkl\u001B[0m\u001B[0;34m)\u001B[0m\u001B[0;34m\u001B[0m\u001B[0;34m\u001B[0m\u001B[0m\n\u001B[1;32m     61\u001B[0m \u001B[0;34m\u001B[0m\u001B[0m\n",
      "\u001B[0;32m~/miniconda3/envs/wishart/lib/python3.7/site-packages/gpytorch/lazy/lazy_tensor.py\u001B[0m in \u001B[0;36mevaluate\u001B[0;34m(self)\u001B[0m\n\u001B[1;32m    900\u001B[0m             \u001B[0meye\u001B[0m \u001B[0;34m=\u001B[0m \u001B[0mtorch\u001B[0m\u001B[0;34m.\u001B[0m\u001B[0meye\u001B[0m\u001B[0;34m(\u001B[0m\u001B[0mnum_rows\u001B[0m\u001B[0;34m,\u001B[0m \u001B[0mdtype\u001B[0m\u001B[0;34m=\u001B[0m\u001B[0mself\u001B[0m\u001B[0;34m.\u001B[0m\u001B[0mdtype\u001B[0m\u001B[0;34m,\u001B[0m \u001B[0mdevice\u001B[0m\u001B[0;34m=\u001B[0m\u001B[0mself\u001B[0m\u001B[0;34m.\u001B[0m\u001B[0mdevice\u001B[0m\u001B[0;34m)\u001B[0m\u001B[0;34m\u001B[0m\u001B[0;34m\u001B[0m\u001B[0m\n\u001B[1;32m    901\u001B[0m             \u001B[0meye\u001B[0m \u001B[0;34m=\u001B[0m \u001B[0meye\u001B[0m\u001B[0;34m.\u001B[0m\u001B[0mexpand\u001B[0m\u001B[0;34m(\u001B[0m\u001B[0;34m*\u001B[0m\u001B[0mself\u001B[0m\u001B[0;34m.\u001B[0m\u001B[0mbatch_shape\u001B[0m\u001B[0;34m,\u001B[0m \u001B[0mnum_rows\u001B[0m\u001B[0;34m,\u001B[0m \u001B[0mnum_rows\u001B[0m\u001B[0;34m)\u001B[0m\u001B[0;34m\u001B[0m\u001B[0;34m\u001B[0m\u001B[0m\n\u001B[0;32m--> 902\u001B[0;31m             \u001B[0mres\u001B[0m \u001B[0;34m=\u001B[0m \u001B[0mself\u001B[0m\u001B[0;34m.\u001B[0m\u001B[0mtranspose\u001B[0m\u001B[0;34m(\u001B[0m\u001B[0;34m-\u001B[0m\u001B[0;36m1\u001B[0m\u001B[0;34m,\u001B[0m \u001B[0;34m-\u001B[0m\u001B[0;36m2\u001B[0m\u001B[0;34m)\u001B[0m\u001B[0;34m.\u001B[0m\u001B[0mmatmul\u001B[0m\u001B[0;34m(\u001B[0m\u001B[0meye\u001B[0m\u001B[0;34m)\u001B[0m\u001B[0;34m.\u001B[0m\u001B[0mtranspose\u001B[0m\u001B[0;34m(\u001B[0m\u001B[0;34m-\u001B[0m\u001B[0;36m1\u001B[0m\u001B[0;34m,\u001B[0m \u001B[0;34m-\u001B[0m\u001B[0;36m2\u001B[0m\u001B[0;34m)\u001B[0m\u001B[0;34m.\u001B[0m\u001B[0mcontiguous\u001B[0m\u001B[0;34m(\u001B[0m\u001B[0;34m)\u001B[0m\u001B[0;34m\u001B[0m\u001B[0;34m\u001B[0m\u001B[0m\n\u001B[0m\u001B[1;32m    903\u001B[0m         \u001B[0;32melse\u001B[0m\u001B[0;34m:\u001B[0m\u001B[0;34m\u001B[0m\u001B[0;34m\u001B[0m\u001B[0m\n\u001B[1;32m    904\u001B[0m             \u001B[0meye\u001B[0m \u001B[0;34m=\u001B[0m \u001B[0mtorch\u001B[0m\u001B[0;34m.\u001B[0m\u001B[0meye\u001B[0m\u001B[0;34m(\u001B[0m\u001B[0mnum_cols\u001B[0m\u001B[0;34m,\u001B[0m \u001B[0mdtype\u001B[0m\u001B[0;34m=\u001B[0m\u001B[0mself\u001B[0m\u001B[0;34m.\u001B[0m\u001B[0mdtype\u001B[0m\u001B[0;34m,\u001B[0m \u001B[0mdevice\u001B[0m\u001B[0;34m=\u001B[0m\u001B[0mself\u001B[0m\u001B[0;34m.\u001B[0m\u001B[0mdevice\u001B[0m\u001B[0;34m)\u001B[0m\u001B[0;34m\u001B[0m\u001B[0;34m\u001B[0m\u001B[0m\n",
      "\u001B[0;32m~/miniconda3/envs/wishart/lib/python3.7/site-packages/gpytorch/lazy/lazy_tensor.py\u001B[0m in \u001B[0;36mmatmul\u001B[0;34m(self, other)\u001B[0m\n\u001B[1;32m   1115\u001B[0m \u001B[0;34m\u001B[0m\u001B[0m\n\u001B[1;32m   1116\u001B[0m         \u001B[0mfunc\u001B[0m \u001B[0;34m=\u001B[0m \u001B[0mMatmul\u001B[0m\u001B[0;34m(\u001B[0m\u001B[0;34m)\u001B[0m\u001B[0;34m\u001B[0m\u001B[0;34m\u001B[0m\u001B[0m\n\u001B[0;32m-> 1117\u001B[0;31m         \u001B[0;32mreturn\u001B[0m \u001B[0mfunc\u001B[0m\u001B[0;34m.\u001B[0m\u001B[0mapply\u001B[0m\u001B[0;34m(\u001B[0m\u001B[0mself\u001B[0m\u001B[0;34m.\u001B[0m\u001B[0mrepresentation_tree\u001B[0m\u001B[0;34m(\u001B[0m\u001B[0;34m)\u001B[0m\u001B[0;34m,\u001B[0m \u001B[0mother\u001B[0m\u001B[0;34m,\u001B[0m \u001B[0;34m*\u001B[0m\u001B[0mself\u001B[0m\u001B[0;34m.\u001B[0m\u001B[0mrepresentation\u001B[0m\u001B[0;34m(\u001B[0m\u001B[0;34m)\u001B[0m\u001B[0;34m)\u001B[0m\u001B[0;34m\u001B[0m\u001B[0;34m\u001B[0m\u001B[0m\n\u001B[0m\u001B[1;32m   1118\u001B[0m \u001B[0;34m\u001B[0m\u001B[0m\n\u001B[1;32m   1119\u001B[0m     \u001B[0;34m@\u001B[0m\u001B[0mproperty\u001B[0m\u001B[0;34m\u001B[0m\u001B[0;34m\u001B[0m\u001B[0m\n",
      "\u001B[0;32m~/miniconda3/envs/wishart/lib/python3.7/site-packages/gpytorch/functions/_matmul.py\u001B[0m in \u001B[0;36mforward\u001B[0;34m(ctx, representation_tree, rhs, *matrix_args)\u001B[0m\n\u001B[1;32m     19\u001B[0m \u001B[0;34m\u001B[0m\u001B[0m\n\u001B[1;32m     20\u001B[0m         \u001B[0mlazy_tsr\u001B[0m \u001B[0;34m=\u001B[0m \u001B[0mctx\u001B[0m\u001B[0;34m.\u001B[0m\u001B[0mrepresentation_tree\u001B[0m\u001B[0;34m(\u001B[0m\u001B[0;34m*\u001B[0m\u001B[0mmatrix_args\u001B[0m\u001B[0;34m)\u001B[0m\u001B[0;34m\u001B[0m\u001B[0;34m\u001B[0m\u001B[0m\n\u001B[0;32m---> 21\u001B[0;31m         \u001B[0mres\u001B[0m \u001B[0;34m=\u001B[0m \u001B[0mlazy_tsr\u001B[0m\u001B[0;34m.\u001B[0m\u001B[0m_matmul\u001B[0m\u001B[0;34m(\u001B[0m\u001B[0mrhs\u001B[0m\u001B[0;34m)\u001B[0m\u001B[0;34m\u001B[0m\u001B[0;34m\u001B[0m\u001B[0m\n\u001B[0m\u001B[1;32m     22\u001B[0m \u001B[0;34m\u001B[0m\u001B[0m\n\u001B[1;32m     23\u001B[0m         \u001B[0mto_save\u001B[0m \u001B[0;34m=\u001B[0m \u001B[0;34m[\u001B[0m\u001B[0morig_rhs\u001B[0m\u001B[0;34m]\u001B[0m \u001B[0;34m+\u001B[0m \u001B[0mlist\u001B[0m\u001B[0;34m(\u001B[0m\u001B[0mmatrix_args\u001B[0m\u001B[0;34m)\u001B[0m\u001B[0;34m\u001B[0m\u001B[0;34m\u001B[0m\u001B[0m\n",
      "\u001B[0;32m~/miniconda3/envs/wishart/lib/python3.7/site-packages/gpytorch/lazy/block_lazy_tensor.py\u001B[0m in \u001B[0;36m_matmul\u001B[0;34m(self, rhs)\u001B[0m\n\u001B[1;32m    104\u001B[0m \u001B[0;34m\u001B[0m\u001B[0m\n\u001B[1;32m    105\u001B[0m         \u001B[0mrhs\u001B[0m \u001B[0;34m=\u001B[0m \u001B[0mself\u001B[0m\u001B[0;34m.\u001B[0m\u001B[0m_add_batch_dim\u001B[0m\u001B[0;34m(\u001B[0m\u001B[0mrhs\u001B[0m\u001B[0;34m)\u001B[0m\u001B[0;34m\u001B[0m\u001B[0;34m\u001B[0m\u001B[0m\n\u001B[0;32m--> 106\u001B[0;31m         \u001B[0mres\u001B[0m \u001B[0;34m=\u001B[0m \u001B[0mself\u001B[0m\u001B[0;34m.\u001B[0m\u001B[0mbase_lazy_tensor\u001B[0m\u001B[0;34m.\u001B[0m\u001B[0m_matmul\u001B[0m\u001B[0;34m(\u001B[0m\u001B[0mrhs\u001B[0m\u001B[0;34m)\u001B[0m\u001B[0;34m\u001B[0m\u001B[0;34m\u001B[0m\u001B[0m\n\u001B[0m\u001B[1;32m    107\u001B[0m         \u001B[0mres\u001B[0m \u001B[0;34m=\u001B[0m \u001B[0mself\u001B[0m\u001B[0;34m.\u001B[0m\u001B[0m_remove_batch_dim\u001B[0m\u001B[0;34m(\u001B[0m\u001B[0mres\u001B[0m\u001B[0;34m)\u001B[0m\u001B[0;34m\u001B[0m\u001B[0;34m\u001B[0m\u001B[0m\n\u001B[1;32m    108\u001B[0m \u001B[0;34m\u001B[0m\u001B[0m\n",
      "\u001B[0;32m~/miniconda3/envs/wishart/lib/python3.7/site-packages/gpytorch/lazy/non_lazy_tensor.py\u001B[0m in \u001B[0;36m_matmul\u001B[0;34m(self, rhs)\u001B[0m\n\u001B[1;32m     42\u001B[0m \u001B[0;34m\u001B[0m\u001B[0m\n\u001B[1;32m     43\u001B[0m     \u001B[0;32mdef\u001B[0m \u001B[0m_matmul\u001B[0m\u001B[0;34m(\u001B[0m\u001B[0mself\u001B[0m\u001B[0;34m,\u001B[0m \u001B[0mrhs\u001B[0m\u001B[0;34m)\u001B[0m\u001B[0;34m:\u001B[0m\u001B[0;34m\u001B[0m\u001B[0;34m\u001B[0m\u001B[0m\n\u001B[0;32m---> 44\u001B[0;31m         \u001B[0;32mreturn\u001B[0m \u001B[0mtorch\u001B[0m\u001B[0;34m.\u001B[0m\u001B[0mmatmul\u001B[0m\u001B[0;34m(\u001B[0m\u001B[0mself\u001B[0m\u001B[0;34m.\u001B[0m\u001B[0mtensor\u001B[0m\u001B[0;34m,\u001B[0m \u001B[0mrhs\u001B[0m\u001B[0;34m)\u001B[0m\u001B[0;34m\u001B[0m\u001B[0;34m\u001B[0m\u001B[0m\n\u001B[0m\u001B[1;32m     45\u001B[0m \u001B[0;34m\u001B[0m\u001B[0m\n\u001B[1;32m     46\u001B[0m     \u001B[0;32mdef\u001B[0m \u001B[0m_prod_batch\u001B[0m\u001B[0;34m(\u001B[0m\u001B[0mself\u001B[0m\u001B[0;34m,\u001B[0m \u001B[0mdim\u001B[0m\u001B[0;34m)\u001B[0m\u001B[0;34m:\u001B[0m\u001B[0;34m\u001B[0m\u001B[0;34m\u001B[0m\u001B[0m\n",
      "\u001B[0;31mRuntimeError\u001B[0m: expected scalar type Double but found Float"
     ]
    },
    {
     "data": {
      "text/plain": "<Figure size 432x288 with 0 Axes>"
     },
     "metadata": {},
     "output_type": "display_data"
    }
   ],
   "source": [
    "plt.figure()\n",
    "print(t.dtype)\n",
    "print(model.latent(t).shape)\n",
    "plt.plot(t, model.latent(t).detach())\n",
    "plt.scatter(t_inducing, model.inducing_targets.detach(), marker='x')\n",
    "plt.title('Latent')"
   ],
   "metadata": {
    "collapsed": false,
    "pycharm": {
     "name": "#%%\n"
    }
   }
  },
  {
   "cell_type": "code",
   "execution_count": 59,
   "outputs": [
    {
     "name": "stdout",
     "output_type": "stream",
     "text": [
      "torch.Size([5, 100])\n"
     ]
    },
    {
     "data": {
      "text/plain": "<Figure size 360x576 with 5 Axes>",
      "image/png": "[encoded data removed]"
     },
     "metadata": {
      "needs_background": "light"
     },
     "output_type": "display_data"
    }
   ],
   "source": [
    "plot_genes()"
   ],
   "metadata": {
    "collapsed": false,
    "pycharm": {
     "name": "#%%\n"
    }
   }
  },
  {
   "cell_type": "code",
   "execution_count": 32,
   "outputs": [
    {
     "name": "stdout",
     "output_type": "stream",
     "text": [
      "torch.Size([100, 1])\n"
     ]
    },
    {
     "data": {
      "text/plain": "[<matplotlib.lines.Line2D at 0x7ff61f3d8390>]"
     },
     "execution_count": 32,
     "metadata": {},
     "output_type": "execute_result"
    },
    {
     "data": {
      "text/plain": "<Figure size 432x288 with 1 Axes>",
      "image/png": "[encoded data removed]"
     },
     "metadata": {
      "needs_background": "light"
     },
     "output_type": "display_data"
    }
   ],
   "source": [
    "print(t.shape)\n",
    "\n",
    "t_ = torch.cat([t_inducing, torch.tensor([0.01], dtype=torch.float64).view(-1,1)])\n",
    "model.gp.eval()\n",
    "plt.plot(model.gp(t_).mean.detach())"
   ],
   "metadata": {
    "collapsed": false,
    "pycharm": {
     "name": "#%%\n"
    }
   }
  },
  {
   "cell_type": "code",
   "execution_count": null,
   "outputs": [],
   "source": [
    "plt.figure(figsize=(5, 6))\n",
    "basal, decay, lengthscale = params\n",
    "basals = np.array(basal)\n",
    "decays = np.array(decay)\n",
    "lengthscales = np.array(lengthscale)\n",
    "print(lengthscales.shape)\n",
    "plt.subplot(311)\n",
    "# print(basals[:,0])\n",
    "plt.plot(basals[:,0])\n",
    "# plt.ylim(1, 1.5)\n",
    "plt.subplot(312)\n",
    "plt.plot(decays[:,0])\n",
    "# plt.ylim(0.5, 1)\n",
    "plt.subplot(313)\n",
    "plt.plot(lengthscales)\n",
    "# plt.ylim(1, 1.2)\n",
    "\n",
    "print(model.basal_rate)\n"
   ],
   "metadata": {
    "collapsed": false,
    "pycharm": {
     "name": "#%%\n"
    }
   }
  },
  {
   "cell_type": "code",
   "execution_count": 96,
   "outputs": [
    {
     "data": {
      "text/plain": "Parameter containing:\ntensor([[1.],\n        [1.],\n        [1.],\n        [1.],\n        [1.]], dtype=torch.float64, requires_grad=True)"
     },
     "execution_count": 96,
     "metadata": {},
     "output_type": "execute_result"
    }
   ],
   "source": [
    "model.w"
   ],
   "metadata": {
    "collapsed": false,
    "pycharm": {
     "name": "#%%\n"
    }
   }
  },
  {
   "cell_type": "code",
   "execution_count": 89,
   "outputs": [
    {
     "data": {
      "text/plain": "Parameter containing:\ntensor([[8.9318],\n        [9.4879],\n        [9.1635],\n        [5.7552],\n        [9.1064]], dtype=torch.float64, requires_grad=True)"
     },
     "execution_count": 89,
     "metadata": {},
     "output_type": "execute_result"
    }
   ],
   "source": [
    "model.sensitivity\n",
    "# model.gp.covar_module.outputscale"
   ],
   "metadata": {
    "collapsed": false,
    "pycharm": {
     "name": "#%%\n"
    }
   }
  },
  {
   "cell_type": "code",
   "execution_count": null,
   "outputs": [],
   "source": [
    "\n",
    "\n"
   ],
   "metadata": {
    "collapsed": false,
    "pycharm": {
     "name": "#%%\n"
    }
   }
  }
 ],
 "metadata": {
  "kernelspec": {
   "display_name": "Python 3",
   "language": "python",
   "name": "python3"
  },
  "language_info": {
   "codemirror_mode": {
    "name": "ipython",
    "version": 2
   },
   "file_extension": ".py",
   "mimetype": "text/x-python",
   "name": "python",
   "nbconvert_exporter": "python",
   "pygments_lexer": "ipython2",
   "version": "2.7.6"
  }
 },
 "nbformat": 4,
 "nbformat_minor": 0
}