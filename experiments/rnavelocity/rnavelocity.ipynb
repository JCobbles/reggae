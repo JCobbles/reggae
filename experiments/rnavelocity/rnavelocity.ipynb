{
 "cells": [
  {
   "cell_type": "code",
   "execution_count": 1,
   "metadata": {
    "collapsed": true
   },
   "outputs": [],
   "source": [
    "import torch\n",
    "from matplotlib import pyplot as plt\n",
    "from torch.optim import Adam\n",
    "from gpytorch.optim import NGD\n",
    "\n",
    "from alfi.models import generate_multioutput_gp, TrainMode\n",
    "from alfi.plot import Plotter1d, tight_kwargs\n",
    "from alfi.utilities.torch import softplus\n",
    "from alfi.datasets import SingleCellKidney, Pancreas\n",
    "from alfi.impl.trainers import EMTrainer\n",
    "from alfi.impl.odes import RNAVelocityLFM, RNAVelocityConfiguration\n",
    "\n",
    "import numpy as np"
   ]
  },
  {
   "cell_type": "code",
   "execution_count": 2,
   "outputs": [],
   "source": [
    "# kidney_path = '/Volumes/ultra/genomics/scRNA-seq/GSE131685_RAW_kidney/velocyto'\n",
    "# kidney_path = 'F:/genomics/scRNA-seq/GSE131685_RAW_kidney/velocyto'\n",
    "#\n",
    "# dataset = SingleCellKidney(calc_moments=True, raw_data_dir=kidney_path)\n",
    "single_gene = True\n",
    "cpe_index = 1710\n",
    "\n",
    "if single_gene:\n",
    "    dataset = Pancreas(data_dir='../../data', gene_index=cpe_index)\n",
    "    cpe_index = 0\n",
    "else:\n",
    "    dataset = Pancreas(data_dir='../../data')\n",
    "# cpe_index = np.where(dataset.loom.var.index == 'Cpe')[0][0]\n",
    "num_cells = dataset[0].shape[1]\n",
    "num_genes = 1 if single_gene else 2000\n",
    "num_outputs = 2 * num_genes\n",
    "num_latents = 1 if single_gene else 10\n",
    "num_inducing = 20  # (I x m x 1)\n",
    "num_timepoint_choices = 200\n",
    "end_t = 20"
   ],
   "metadata": {
    "collapsed": false,
    "pycharm": {
     "name": "#%%\n"
    }
   }
  },
  {
   "cell_type": "code",
   "execution_count": 3,
   "outputs": [
    {
     "name": "stdout",
     "output_type": "stream",
     "text": [
      "tensor([[0.1141]])\n",
      "torch.Size([1, 1]) tensor(0.1141) tensor(0.1141) tensor([0.1141])\n"
     ]
    }
   ],
   "source": [
    "data = dataset.m_observed.squeeze().clone()\n",
    "y_target = data\n",
    "u_y = y_target[:num_genes]  # (num_genes, num_cells)\n",
    "s_y = y_target[num_genes:]  # (num_genes, num_cells)\n",
    "# w = torch.logical_and(u_y > 0, s_y > 0)\n",
    "# u_y = torch.gather(u_y, dim=1, index=w)\n",
    "u_norm = u_y / u_y.max(dim=1).values.unsqueeze(1)\n",
    "s_norm = s_y / s_y.max(dim=1).values.unsqueeze(1)\n",
    "norm = u_norm + s_norm\n",
    "weights = norm >= torch.tensor(np.percentile(norm, 95, axis=1)).unsqueeze(1)\n",
    "\n",
    "s = s_y * weights\n",
    "u = u_y * weights\n",
    "s = s.unsqueeze(-1)\n",
    "u = u.unsqueeze(1)\n",
    "\n",
    "gamma = torch.matmul(u, s).squeeze(1).squeeze(1)\n",
    "l2 = s.squeeze(2).square().sum(dim=1)\n",
    "gamma /= l2\n",
    "gamma = gamma.unsqueeze(-1)\n",
    "if single_gene:\n",
    "    gamma += 0\n",
    "    print(gamma)\n",
    "print(gamma.shape, gamma.max(), gamma.min(), gamma[cpe_index])"
   ],
   "metadata": {
    "collapsed": false,
    "pycharm": {
     "name": "#%%\n"
    }
   }
  },
  {
   "cell_type": "code",
   "execution_count": 4,
   "outputs": [
    {
     "name": "stdout",
     "output_type": "stream",
     "text": [
      "torch.Size([1, 3696])\n",
      "tensor([[8.7662]]) tensor([[1.]]) tensor([[9.8950]]) tensor([[12.4695,  0.0596, 14.6405,  ...,  0.0818, 14.1306, 11.9084]])\n",
      "tensor([[   nan, 0.0530,    nan,  ..., 0.0728,    nan,    nan]])\n"
     ]
    }
   ],
   "source": [
    "beta = 1.\n",
    "u_infty = torch.ones_like(gamma)\n",
    "s_infty = 1./gamma\n",
    "beta_tilde = beta / (gamma - beta)\n",
    "print(u_y.shape)\n",
    "s_tilde = s_y - beta_tilde * u_y\n",
    "s_tilde_infty = s_infty - beta_tilde * u_infty\n",
    "print(s_infty, u_infty, s_tilde_infty, s_tilde)\n",
    "t = -1/gamma * torch.log((s_tilde - s_tilde_infty) / (-s_tilde_infty))\n",
    "time_ass = t.nan_to_num(0)\n",
    "print(t)\n",
    "\n",
    "splicing_rate = torch.zeros_like(gamma)\n",
    "splicing_rate += 2.013\n",
    "transcription_rate = torch.zeros_like(gamma)\n",
    "transcription_rate += 2.96#3.6\n",
    "gamma = torch.zeros_like(gamma)\n",
    "gamma += 0.189\n"
   ],
   "metadata": {
    "collapsed": false,
    "pycharm": {
     "name": "#%%\n"
    }
   }
  },
  {
   "cell_type": "code",
   "execution_count": 5,
   "outputs": [],
   "source": [
    "def plot_scatter(cells, gene_index,\n",
    "                 num_connections=10,\n",
    "                 figsize=(3, 3),\n",
    "                 colors=None,\n",
    "                 time_ass=None):\n",
    "    traj = lfm.current_trajectory\n",
    "    u = traj[:num_genes].detach()  # (num_genes, 100)\n",
    "    s = traj[num_genes:].detach()  # (num_genes, 100)\n",
    "    u_y = cells[:num_genes]  # (num_genes, num_cells)\n",
    "    s_y = cells[num_genes:]  # (num_genes, num_cells)\n",
    "    print(u.shape)\n",
    "    plt.figure(figsize=figsize)\n",
    "    plt.title(dataset.gene_names[gene_index])\n",
    "\n",
    "    # Plot trajectory\n",
    "    plt.plot(s[gene_index], u[gene_index], color='red')\n",
    "\n",
    "    # Plot cell points\n",
    "    indices = np.intersect1d(s_y[gene_index, :, 0].nonzero(),\n",
    "                             u_y[gene_index, :, 0].nonzero())\n",
    "    if time_ass is None:\n",
    "        time_ass = 'black'\n",
    "    else:\n",
    "        time_ass = time_ass[0, indices] / time_ass[0, indices].max()\n",
    "    plt.scatter(s_y[gene_index, indices, 0], u_y[gene_index, indices, 0],\n",
    "                alpha=0.1, s=5, cmap='viridis', c=time_ass)\n",
    "\n",
    "    # Plot timepoint choices\n",
    "    for timepoint in range(lfm.timepoint_choices.shape[0]):\n",
    "        plt.scatter(s[gene_index, timepoint], u[gene_index, timepoint], s=4, c='black')\n",
    "\n",
    "    # Plot some connections between cell points and the trajectory line\n",
    "    for i in range(num_connections):\n",
    "        plt.scatter(s_y[gene_index, i, 0], u_y[gene_index, i, 0], s=8, c='red')\n",
    "        line = [\n",
    "            (s[gene_index, lfm.time_assignments_indices[i]], s_y[gene_index, i, 0]),\n",
    "            (u[gene_index, lfm.time_assignments_indices[i]], u_y[gene_index, i, 0])\n",
    "        ]\n",
    "        plt.plot(line[0], line[1], alpha=0.5, c='purple')\n",
    "        # trainer.time_assignments_indices[i]\n",
    "    plt.ylabel('unspliced')\n",
    "    plt.xlabel('spliced')\n",
    "\n",
    "def plot_latents(lfm, num_samples=3):\n",
    "    fig, axes = plt.subplots(ncols=2, figsize=(6, 3))\n",
    "\n",
    "    t = lfm.inducing_points\n",
    "    t_f = torch.arange(t.min(), t.max()+1e-2, 1e-2)\n",
    "    s = lfm.sample_latents(t_f, num_samples)\n",
    "    for i in range(num_latents):\n",
    "        for sample in range(num_samples):\n",
    "            axes[0].plot(t_f, s[sample, :, i].detach())\n",
    "    axes[0].set_title('samples')\n",
    "    mean = list(lfm.gp_model.variational_parameters())[0]\n",
    "    axes[1].plot(mean.detach()[0])\n",
    "    axes[1].set_title('variational mean')"
   ],
   "metadata": {
    "collapsed": false,
    "pycharm": {
     "name": "#%%\n"
    }
   }
  },
  {
   "cell_type": "code",
   "execution_count": 6,
   "outputs": [
    {
     "name": "stdout",
     "output_type": "stream",
     "text": [
      "Number of cells: 3696\n",
      "Number of latent GPs (# transcription rates): 1\n"
     ]
    }
   ],
   "source": [
    "use_natural = False\n",
    "step_size = 1e-1\n",
    "config = RNAVelocityConfiguration(\n",
    "    latent_data_present=False,\n",
    "    num_samples=50,\n",
    "    num_cells=num_cells,\n",
    "    end_pseudotime=end_t,\n",
    "    num_timepoint_choices=num_timepoint_choices\n",
    ")\n",
    "\n",
    "print('Number of cells:', num_cells)\n",
    "print('Number of latent GPs (# transcription rates):', num_latents)\n",
    "\n",
    "inducing_points = torch.linspace(0, end_t, num_inducing).repeat(num_latents, 1).view(num_latents, num_inducing, 1)\n",
    "t_predict = torch.linspace(0, end_t, 80, dtype=torch.float32)\n",
    "\n",
    "from gpytorch.kernels import MaternKernel\n",
    "gp_model = generate_multioutput_gp(num_latents, inducing_points,\n",
    "                                   kernel_class=MaternKernel,\n",
    "                                   kernel_kwargs=dict(nu=1.5),\n",
    "                                   zero_mean=False,\n",
    "                                   use_scale=False, initial_lengthscale=8,\n",
    "                                   gp_kwargs=dict(natural=use_natural))\n"
   ],
   "metadata": {
    "collapsed": false,
    "pycharm": {
     "name": "#%%\n"
    }
   }
  },
  {
   "cell_type": "code",
   "execution_count": 7,
   "outputs": [],
   "source": [
    "data = dataset.m_observed\n",
    "cells = data.permute(1, 2, 0)  # (O, C, 1)\n",
    "u_y = cells[:num_genes]  # (num_genes, num_cells)\n",
    "s_y = cells[num_genes:]  # (num_genes, num_cells)\n",
    "nonzero_mask = list()\n",
    "for gene_index in range(num_genes):\n",
    "    nonzero_mask.append(torch.logical_and(s_y[gene_index, :, 0] > 0,\n",
    "                                          u_y[gene_index, :, 0] > 0))\n",
    "nonzero_mask = torch.stack(nonzero_mask).repeat(2, 1)\n",
    "if config.latent_data_present:\n",
    "    filler = torch.ones(nonzero_mask.shape[1]).unsqueeze(0)\n",
    "    nonzero_mask = torch.cat([nonzero_mask, filler])\n",
    "\n",
    "num_data = num_cells #config.num_timepoint_choices\n",
    "lfm_kwargs = dict(\n",
    "    nonlinearity=softplus, #torch.sigmoid\n",
    "    decay_rate=gamma,\n",
    "    splicing_rate=splicing_rate,\n",
    "    transcription_rate=transcription_rate,\n",
    "    num_training_points=num_data,\n",
    "    nonzero_mask=nonzero_mask\n",
    ")\n",
    "track_parameters = [\n",
    "    'raw_transcription_rate',\n",
    "    'raw_splicing_rate',\n",
    "    'raw_decay_rate'\n",
    "]\n",
    "lfm = RNAVelocityLFM(num_outputs, gp_model, config, **lfm_kwargs)\n",
    "\n",
    "# Add latent points to the data\n",
    "data = torch.stack(dataset.data)\n",
    "t = torch.linspace(0, end_t, lfm.timepoint_choices.shape[0])\n",
    "alpha = transcription_rate.item()\n",
    "y = alpha * (1 - torch.sigmoid(t * 12 / end_t - 7))#pha/2., 0., 0., 0., 0., 0.]).unsqueeze(-1)\n",
    "filler = torch.zeros(data.shape[2] - lfm.timepoint_choices.shape[0])\n",
    "y = torch.cat([y, filler], dim=0).view(1, 1, -1)\n",
    "\n",
    "if config.latent_data_present:\n",
    "    data = torch.stack(dataset.data)\n",
    "    t = torch.linspace(0, end_t, lfm.timepoint_choices.shape[0])\n",
    "    alpha = transcription_rate.item()\n",
    "    y = alpha * (1 - torch.sigmoid(t * 12 / end_t - 7))#pha/2., 0., 0., 0., 0., 0.]).unsqueeze(-1)\n",
    "    filler = torch.zeros(data.shape[2] - lfm.timepoint_choices.shape[0])\n",
    "    y = torch.cat([y, filler], dim=0).view(1, 1, -1)\n",
    "    data = torch.cat([data, y], dim=0)\n",
    "    dataset.data = list(data)\n",
    "\n",
    "def make_optimizers():\n",
    "    if use_natural:\n",
    "        variational_optimizer = NGD(lfm.variational_parameters(), num_data=num_data, lr=0.005)\n",
    "        parameter_optimizer = Adam(lfm.nonvariational_parameters(), lr=0.001)\n",
    "        return [variational_optimizer, parameter_optimizer]\n",
    "    else:\n",
    "        return [torch.optim.Adam(lfm.parameters(), lr=0.02)]\n",
    "\n",
    "optimizers = make_optimizers()\n",
    "batch_size = num_outputs + 1 if config.latent_data_present else num_outputs\n",
    "trainer = EMTrainer(lfm, optimizers, dataset, batch_size=batch_size, track_parameters=track_parameters)\n",
    "plotter = Plotter1d(lfm, dataset.gene_names)\n",
    "# preestimator = EMPreEstimator(\n",
    "#     lfm, optimizers, dataset, trainer, batch_size=batch_size, track_parameters=track_parameters)"
   ],
   "metadata": {
    "collapsed": false,
    "pycharm": {
     "name": "#%%\n"
    }
   }
  },
  {
   "cell_type": "code",
   "execution_count": 8,
   "outputs": [],
   "source": [
    "pretrain=False\n",
    "if pretrain:\n",
    "    # Training the GP model\n",
    "    from gpytorch.mlls import VariationalELBO\n",
    "    from gpytorch.likelihoods import MultitaskGaussianLikelihood\n",
    "    from torch.optim import Adam\n",
    "    from alfi.utilities.torch import inv_softplus\n",
    "    like = MultitaskGaussianLikelihood(1)\n",
    "    mll = VariationalELBO(like, gp_model, 50)\n",
    "    if use_natural:\n",
    "        optims = [\n",
    "            NGD(gp_model.variational_parameters(), 50, lr=0.1),\n",
    "            Adam([\n",
    "                {'params':gp_model.hyperparameters()},\n",
    "                {'params':like.parameters()}\n",
    "                ], lr=0.01)\n",
    "        ]\n",
    "\n",
    "    else:\n",
    "        optims = [Adam(gp_model.parameters(), lr=0.05)]\n",
    "    t = torch.linspace(0, end_t, config.num_timepoint_choices)\n",
    "    print(t.shape)\n",
    "    y_train = inv_softplus(y[0, 0, :config.num_timepoint_choices]).view(-1, 1)\n",
    "    # plt.plot(t, y)\n",
    "    for epoch in range(60):\n",
    "        [optim.zero_grad() for optim in optims]\n",
    "        out = gp_model(t)\n",
    "        loss = - mll(out, y_train)\n",
    "        if epoch % 10 == 0:\n",
    "            print('Epoch', epoch, 'loss', loss.item(), 'l', gp_model.covar_module.lengthscale.item())\n",
    "        loss.backward()\n",
    "        [optim.step() for optim in optims]\n",
    "\n",
    "    out = gp_model(t)\n",
    "    plt.plot(t, softplus(out.mean[:, 0].detach()))\n",
    "    with torch.no_grad():\n",
    "        # transcription_rate += 1.\n",
    "        # lfm.raw_transcription_rate -= 3\n",
    "        # lfm.raw_splicing_rate += 0.5\n",
    "        print(lfm.splicing_rate)\n",
    "        print(transcription_rate, lfm.transcription_rate)\n",
    "        print(lfm.decay_rate)\n",
    "    lfm(lfm.timepoint_choices, step_size=1e-1)\n",
    "    plot_scatter(cells, cpe_index, num_connections=0)"
   ],
   "metadata": {
    "collapsed": false,
    "pycharm": {
     "name": "#%%\n"
    }
   }
  },
  {
   "cell_type": "markdown",
   "source": [
    "### Outputs prior to training:"
   ],
   "metadata": {
    "collapsed": false
   }
  },
  {
   "cell_type": "code",
   "execution_count": 9,
   "outputs": [
    {
     "name": "stdout",
     "output_type": "stream",
     "text": [
      "2.9600000381469727 2.013000011444092 0.1889999955892563\n",
      "torch.Size([1, 200])\n"
     ]
    },
    {
     "data": {
      "text/plain": "<Figure size 288x288 with 1 Axes>",
      "image/png": "[encoded data removed]"
     },
     "metadata": {},
     "output_type": "display_data"
    },
    {
     "data": {
      "text/plain": "<Figure size 432x216 with 2 Axes>",
      "image/png": "[encoded data removed]"
     },
     "metadata": {},
     "output_type": "display_data"
    }
   ],
   "source": [
    "lfm.eval()\n",
    "with torch.no_grad():\n",
    "    lfm.raw_decay_rate += 0\n",
    "    lfm.raw_transcription_rate -= 0\n",
    "    lfm.raw_splicing_rate += 0\n",
    "    pass\n",
    "print(lfm.transcription_rate.item(), lfm.splicing_rate.item(), lfm.decay_rate.item())\n",
    "t_predict = lfm.timepoint_choices\n",
    "out = lfm(t_predict, step_size=step_size)\n",
    "plot_scatter(cells, cpe_index, num_connections=0,\n",
    "              figsize=(4, 4), time_ass=time_ass)\n",
    "# plt.savefig('rna_train.pdf', **tight_kwargs)\n",
    "plot_latents(lfm)"
   ],
   "metadata": {
    "collapsed": false,
    "pycharm": {
     "name": "#%%\n"
    }
   }
  },
  {
   "cell_type": "code",
   "execution_count": 10,
   "outputs": [
    {
     "name": "stdout",
     "output_type": "stream",
     "text": [
      "torch.Size([2, 200])\n"
     ]
    },
    {
     "data": {
      "text/plain": "<matplotlib.collections.PathCollection at 0x7f9a216d1090>"
     },
     "execution_count": 10,
     "metadata": {},
     "output_type": "execute_result"
    },
    {
     "data": {
      "text/plain": "<Figure size 576x396 with 1 Axes>",
      "image/png": "[encoded data removed]"
     },
     "metadata": {},
     "output_type": "display_data"
    }
   ],
   "source": [
    "t_interpolated, data_interpolated, _ = trainer.get_interpolated_data(cells)\n",
    "print(data_interpolated.shape)\n",
    "plt.scatter(data_interpolated[1], data_interpolated[0])"
   ],
   "metadata": {
    "collapsed": false,
    "pycharm": {
     "name": "#%%\n"
    }
   }
  },
  {
   "cell_type": "code",
   "execution_count": 11,
   "outputs": [],
   "source": [
    "gradmatch = False\n",
    "if gradmatch:\n",
    "    lfm.set_mode(TrainMode.GRADIENT_MATCH)\n",
    "    trainer.train(50, report_interval=10)\n",
    "    lfm.eval()\n",
    "    out = lfm(t_predict, step_size=step_size)\n",
    "    plot_scatter(cells, cpe_index, num_connections=0,\n",
    "                  figsize=(4, 4), time_ass=time_ass)\n"
   ],
   "metadata": {
    "collapsed": false,
    "pycharm": {
     "name": "#%%\n"
    }
   }
  },
  {
   "cell_type": "code",
   "execution_count": 12,
   "outputs": [],
   "source": [
    "filt = False\n",
    "if filt:\n",
    "    optimizers = make_optimizers()\n",
    "    trainer.set_optimizers(optimizers)\n",
    "    lfm.set_mode(TrainMode.FILTER)\n",
    "    output = trainer.train(100, report_interval=1, step_size=1e-1, warmup=-1)\n",
    "    lfm.eval()\n",
    "    out = lfm(t_predict, step_size=step_size)\n",
    "    plot_scatter(cells, cpe_index, num_connections=0,\n",
    "                  figsize=(4, 4), time_ass=time_ass)"
   ],
   "metadata": {
    "collapsed": false,
    "pycharm": {
     "name": "#%%\n"
    }
   }
  },
  {
   "cell_type": "code",
   "execution_count": 13,
   "outputs": [
    {
     "name": "stdout",
     "output_type": "stream",
     "text": [
      "tensor([0.0000e+00, 5.4127e-03, 1.0825e-02,  ..., 1.9989e+01, 1.9995e+01,\n",
      "        2.0000e+01], grad_fn=<SortBackward>)\n"
     ]
    },
    {
     "ename": "TypeError",
     "evalue": "arange() received an invalid combination of arguments - got (Tensor, Tensor, float), but expected one of:\n * (Number end, *, Tensor out, torch.dtype dtype, torch.layout layout, torch.device device, bool pin_memory, bool requires_grad)\n * (Number start, Number end, Number step, *, Tensor out, torch.dtype dtype, torch.layout layout, torch.device device, bool pin_memory, bool requires_grad)\n",
     "output_type": "error",
     "traceback": [
      "\u001B[0;31m---------------------------------------------------------------------------\u001B[0m",
      "\u001B[0;31mTypeError\u001B[0m                                 Traceback (most recent call last)",
      "\u001B[0;32m<ipython-input-13-38b478c17488>\u001B[0m in \u001B[0;36m<module>\u001B[0;34m\u001B[0m\n\u001B[1;32m      2\u001B[0m \u001B[0mtrainer\u001B[0m\u001B[0;34m.\u001B[0m\u001B[0mset_optimizers\u001B[0m\u001B[0;34m(\u001B[0m\u001B[0moptimizers\u001B[0m\u001B[0;34m)\u001B[0m\u001B[0;34m\u001B[0m\u001B[0;34m\u001B[0m\u001B[0m\n\u001B[1;32m      3\u001B[0m \u001B[0mlfm\u001B[0m\u001B[0;34m.\u001B[0m\u001B[0mset_mode\u001B[0m\u001B[0;34m(\u001B[0m\u001B[0mTrainMode\u001B[0m\u001B[0;34m.\u001B[0m\u001B[0mNORMAL\u001B[0m\u001B[0;34m)\u001B[0m\u001B[0;34m\u001B[0m\u001B[0;34m\u001B[0m\u001B[0m\n\u001B[0;32m----> 4\u001B[0;31m \u001B[0moutput\u001B[0m \u001B[0;34m=\u001B[0m \u001B[0mtrainer\u001B[0m\u001B[0;34m.\u001B[0m\u001B[0mtrain\u001B[0m\u001B[0;34m(\u001B[0m\u001B[0;36m10\u001B[0m\u001B[0;34m,\u001B[0m \u001B[0mreport_interval\u001B[0m\u001B[0;34m=\u001B[0m\u001B[0;36m1\u001B[0m\u001B[0;34m,\u001B[0m \u001B[0mstep_size\u001B[0m\u001B[0;34m=\u001B[0m\u001B[0;36m1e-1\u001B[0m\u001B[0;34m,\u001B[0m \u001B[0mwarmup\u001B[0m\u001B[0;34m=\u001B[0m\u001B[0;34m-\u001B[0m\u001B[0;36m1\u001B[0m\u001B[0;34m)\u001B[0m\u001B[0;34m\u001B[0m\u001B[0;34m\u001B[0m\u001B[0m\n\u001B[0m\u001B[1;32m      5\u001B[0m \u001B[0mlfm\u001B[0m\u001B[0;34m.\u001B[0m\u001B[0meval\u001B[0m\u001B[0;34m(\u001B[0m\u001B[0;34m)\u001B[0m\u001B[0;34m\u001B[0m\u001B[0;34m\u001B[0m\u001B[0m\n\u001B[1;32m      6\u001B[0m \u001B[0mout\u001B[0m \u001B[0;34m=\u001B[0m \u001B[0mlfm\u001B[0m\u001B[0;34m(\u001B[0m\u001B[0mt_predict\u001B[0m\u001B[0;34m,\u001B[0m \u001B[0mstep_size\u001B[0m\u001B[0;34m=\u001B[0m\u001B[0mstep_size\u001B[0m\u001B[0;34m)\u001B[0m\u001B[0;34m\u001B[0m\u001B[0;34m\u001B[0m\u001B[0m\n",
      "\u001B[0;32m~/Documents/proj/reggae/alfi/trainers/trainer.py\u001B[0m in \u001B[0;36mtrain\u001B[0;34m(self, epochs, report_interval, **kwargs)\u001B[0m\n\u001B[1;32m     59\u001B[0m \u001B[0;34m\u001B[0m\u001B[0m\n\u001B[1;32m     60\u001B[0m         \u001B[0;32mfor\u001B[0m \u001B[0mepoch\u001B[0m \u001B[0;32min\u001B[0m \u001B[0mrange\u001B[0m\u001B[0;34m(\u001B[0m\u001B[0mepochs\u001B[0m\u001B[0;34m)\u001B[0m\u001B[0;34m:\u001B[0m\u001B[0;34m\u001B[0m\u001B[0;34m\u001B[0m\u001B[0m\n\u001B[0;32m---> 61\u001B[0;31m             \u001B[0mepoch_loss\u001B[0m\u001B[0;34m,\u001B[0m \u001B[0msplit_loss\u001B[0m \u001B[0;34m=\u001B[0m \u001B[0mself\u001B[0m\u001B[0;34m.\u001B[0m\u001B[0msingle_epoch\u001B[0m\u001B[0;34m(\u001B[0m\u001B[0mepoch\u001B[0m\u001B[0;34m=\u001B[0m\u001B[0mself\u001B[0m\u001B[0;34m.\u001B[0m\u001B[0mnum_epochs\u001B[0m\u001B[0;34m,\u001B[0m \u001B[0;34m**\u001B[0m\u001B[0mkwargs\u001B[0m\u001B[0;34m)\u001B[0m\u001B[0;34m\u001B[0m\u001B[0;34m\u001B[0m\u001B[0m\n\u001B[0m\u001B[1;32m     62\u001B[0m             \u001B[0mt\u001B[0m \u001B[0;34m=\u001B[0m \u001B[0mtime\u001B[0m\u001B[0;34m.\u001B[0m\u001B[0mtime\u001B[0m\u001B[0;34m(\u001B[0m\u001B[0;34m)\u001B[0m\u001B[0;34m\u001B[0m\u001B[0;34m\u001B[0m\u001B[0m\n\u001B[1;32m     63\u001B[0m             \u001B[0mtimes\u001B[0m\u001B[0;34m.\u001B[0m\u001B[0mappend\u001B[0m\u001B[0;34m(\u001B[0m\u001B[0;34m(\u001B[0m\u001B[0mt\u001B[0m\u001B[0;34m,\u001B[0m \u001B[0mepoch_loss\u001B[0m\u001B[0;34m)\u001B[0m\u001B[0;34m)\u001B[0m\u001B[0;34m\u001B[0m\u001B[0;34m\u001B[0m\u001B[0m\n",
      "\u001B[0;32m~/Documents/proj/reggae/alfi/impl/trainers/rna_em.py\u001B[0m in \u001B[0;36msingle_epoch\u001B[0;34m(self, epoch, step_size, warmup, **kwargs)\u001B[0m\n\u001B[1;32m    139\u001B[0m                     \u001B[0mself\u001B[0m\u001B[0;34m.\u001B[0m\u001B[0mlfm\u001B[0m\u001B[0;34m.\u001B[0m\u001B[0mtime_assignments_indices\u001B[0m \u001B[0;34m=\u001B[0m \u001B[0mindices\u001B[0m\u001B[0;34m\u001B[0m\u001B[0;34m\u001B[0m\u001B[0m\n\u001B[1;32m    140\u001B[0m                     \u001B[0mprint\u001B[0m\u001B[0;34m(\u001B[0m\u001B[0mt_sorted\u001B[0m\u001B[0;34m)\u001B[0m\u001B[0;34m\u001B[0m\u001B[0;34m\u001B[0m\u001B[0m\n\u001B[0;32m--> 141\u001B[0;31m                     \u001B[0mout\u001B[0m \u001B[0;34m=\u001B[0m \u001B[0mself\u001B[0m\u001B[0;34m.\u001B[0m\u001B[0mlfm\u001B[0m\u001B[0;34m(\u001B[0m\u001B[0mt_sorted\u001B[0m\u001B[0;34m,\u001B[0m \u001B[0mstep_size\u001B[0m\u001B[0;34m=\u001B[0m\u001B[0mstep_size\u001B[0m\u001B[0;34m)\u001B[0m\u001B[0;34m\u001B[0m\u001B[0;34m\u001B[0m\u001B[0m\n\u001B[0m\u001B[1;32m    142\u001B[0m                     \u001B[0mself\u001B[0m\u001B[0;34m.\u001B[0m\u001B[0me_step\u001B[0m\u001B[0;34m(\u001B[0m\u001B[0mcells\u001B[0m\u001B[0;34m)\u001B[0m\u001B[0;34m\u001B[0m\u001B[0;34m\u001B[0m\u001B[0m\n\u001B[1;32m    143\u001B[0m                     \u001B[0mself\u001B[0m\u001B[0;34m.\u001B[0m\u001B[0mlfm\u001B[0m\u001B[0;34m.\u001B[0m\u001B[0mset_mode\u001B[0m\u001B[0;34m(\u001B[0m\u001B[0mmode\u001B[0m\u001B[0;34m)\u001B[0m\u001B[0;34m\u001B[0m\u001B[0;34m\u001B[0m\u001B[0m\n",
      "\u001B[0;32m~/miniconda3/envs/wishart/lib/python3.7/site-packages/torch/nn/modules/module.py\u001B[0m in \u001B[0;36m_call_impl\u001B[0;34m(self, *input, **kwargs)\u001B[0m\n\u001B[1;32m    887\u001B[0m             \u001B[0mresult\u001B[0m \u001B[0;34m=\u001B[0m \u001B[0mself\u001B[0m\u001B[0;34m.\u001B[0m\u001B[0m_slow_forward\u001B[0m\u001B[0;34m(\u001B[0m\u001B[0;34m*\u001B[0m\u001B[0minput\u001B[0m\u001B[0;34m,\u001B[0m \u001B[0;34m**\u001B[0m\u001B[0mkwargs\u001B[0m\u001B[0;34m)\u001B[0m\u001B[0;34m\u001B[0m\u001B[0;34m\u001B[0m\u001B[0m\n\u001B[1;32m    888\u001B[0m         \u001B[0;32melse\u001B[0m\u001B[0;34m:\u001B[0m\u001B[0;34m\u001B[0m\u001B[0;34m\u001B[0m\u001B[0m\n\u001B[0;32m--> 889\u001B[0;31m             \u001B[0mresult\u001B[0m \u001B[0;34m=\u001B[0m \u001B[0mself\u001B[0m\u001B[0;34m.\u001B[0m\u001B[0mforward\u001B[0m\u001B[0;34m(\u001B[0m\u001B[0;34m*\u001B[0m\u001B[0minput\u001B[0m\u001B[0;34m,\u001B[0m \u001B[0;34m**\u001B[0m\u001B[0mkwargs\u001B[0m\u001B[0;34m)\u001B[0m\u001B[0;34m\u001B[0m\u001B[0;34m\u001B[0m\u001B[0m\n\u001B[0m\u001B[1;32m    890\u001B[0m         for hook in itertools.chain(\n\u001B[1;32m    891\u001B[0m                 \u001B[0m_global_forward_hooks\u001B[0m\u001B[0;34m.\u001B[0m\u001B[0mvalues\u001B[0m\u001B[0;34m(\u001B[0m\u001B[0;34m)\u001B[0m\u001B[0;34m,\u001B[0m\u001B[0;34m\u001B[0m\u001B[0;34m\u001B[0m\u001B[0m\n",
      "\u001B[0;32m~/Documents/proj/reggae/alfi/models/ordinary_lfm.py\u001B[0m in \u001B[0;36mforward\u001B[0;34m(self, t, step_size, return_samples, **kwargs)\u001B[0m\n\u001B[1;32m     49\u001B[0m             \u001B[0mh0\u001B[0m \u001B[0;34m=\u001B[0m \u001B[0mt\u001B[0m\u001B[0;34m[\u001B[0m\u001B[0;36m1\u001B[0m\u001B[0;34m]\u001B[0m\u001B[0;34m.\u001B[0m\u001B[0munsqueeze\u001B[0m\u001B[0;34m(\u001B[0m\u001B[0;36m0\u001B[0m\u001B[0;34m)\u001B[0m\u001B[0;34m.\u001B[0m\u001B[0mrepeat\u001B[0m\u001B[0;34m(\u001B[0m\u001B[0mself\u001B[0m\u001B[0;34m.\u001B[0m\u001B[0mconfig\u001B[0m\u001B[0;34m.\u001B[0m\u001B[0mnum_samples\u001B[0m\u001B[0;34m,\u001B[0m \u001B[0;36m1\u001B[0m\u001B[0;34m,\u001B[0m \u001B[0;36m1\u001B[0m\u001B[0;34m)\u001B[0m\u001B[0;34m\u001B[0m\u001B[0;34m\u001B[0m\u001B[0m\n\u001B[1;32m     50\u001B[0m         \u001B[0;32melse\u001B[0m\u001B[0;34m:\u001B[0m\u001B[0;34m\u001B[0m\u001B[0;34m\u001B[0m\u001B[0m\n\u001B[0;32m---> 51\u001B[0;31m             \u001B[0mt_f\u001B[0m \u001B[0;34m=\u001B[0m \u001B[0mtorch\u001B[0m\u001B[0;34m.\u001B[0m\u001B[0marange\u001B[0m\u001B[0;34m(\u001B[0m\u001B[0mt\u001B[0m\u001B[0;34m.\u001B[0m\u001B[0mmin\u001B[0m\u001B[0;34m(\u001B[0m\u001B[0;34m)\u001B[0m\u001B[0;34m,\u001B[0m \u001B[0mt\u001B[0m\u001B[0;34m.\u001B[0m\u001B[0mmax\u001B[0m\u001B[0;34m(\u001B[0m\u001B[0;34m)\u001B[0m\u001B[0;34m+\u001B[0m\u001B[0mstep_size\u001B[0m\u001B[0;34m/\u001B[0m\u001B[0;36m3\u001B[0m\u001B[0;34m,\u001B[0m \u001B[0mstep_size\u001B[0m\u001B[0;34m/\u001B[0m\u001B[0;36m3\u001B[0m\u001B[0;34m)\u001B[0m\u001B[0;34m\u001B[0m\u001B[0;34m\u001B[0m\u001B[0m\n\u001B[0m\u001B[1;32m     52\u001B[0m             \u001B[0mh0\u001B[0m \u001B[0;34m=\u001B[0m \u001B[0mself\u001B[0m\u001B[0;34m.\u001B[0m\u001B[0minitial_state\u001B[0m\u001B[0;34m(\u001B[0m\u001B[0;34m)\u001B[0m\u001B[0;34m\u001B[0m\u001B[0;34m\u001B[0m\u001B[0m\n\u001B[1;32m     53\u001B[0m             \u001B[0mh0\u001B[0m \u001B[0;34m=\u001B[0m \u001B[0mh0\u001B[0m\u001B[0;34m.\u001B[0m\u001B[0munsqueeze\u001B[0m\u001B[0;34m(\u001B[0m\u001B[0;36m0\u001B[0m\u001B[0;34m)\u001B[0m\u001B[0;34m.\u001B[0m\u001B[0mrepeat\u001B[0m\u001B[0;34m(\u001B[0m\u001B[0mself\u001B[0m\u001B[0;34m.\u001B[0m\u001B[0mconfig\u001B[0m\u001B[0;34m.\u001B[0m\u001B[0mnum_samples\u001B[0m\u001B[0;34m,\u001B[0m \u001B[0;36m1\u001B[0m\u001B[0;34m,\u001B[0m \u001B[0;36m1\u001B[0m\u001B[0;34m)\u001B[0m\u001B[0;34m\u001B[0m\u001B[0;34m\u001B[0m\u001B[0m\n",
      "\u001B[0;31mTypeError\u001B[0m: arange() received an invalid combination of arguments - got (Tensor, Tensor, float), but expected one of:\n * (Number end, *, Tensor out, torch.dtype dtype, torch.layout layout, torch.device device, bool pin_memory, bool requires_grad)\n * (Number start, Number end, Number step, *, Tensor out, torch.dtype dtype, torch.layout layout, torch.device device, bool pin_memory, bool requires_grad)\n"
     ]
    }
   ],
   "source": [
    "optimizers = make_optimizers()\n",
    "trainer.set_optimizers(optimizers)\n",
    "lfm.set_mode(TrainMode.NORMAL)\n",
    "output = trainer.train(10, report_interval=1, step_size=1e-1, warmup=-1)\n",
    "lfm.eval()\n",
    "out = lfm(t_predict, step_size=step_size)\n",
    "plot_scatter(cells, cpe_index, num_connections=0,\n",
    "              figsize=(4, 4), time_ass=time_ass)\n",
    "sss"
   ],
   "metadata": {
    "collapsed": false,
    "pycharm": {
     "name": "#%%\n"
    }
   }
  },
  {
   "cell_type": "code",
   "execution_count": 17,
   "outputs": [
    {
     "name": "stdout",
     "output_type": "stream",
     "text": [
      "tensor(0., grad_fn=<MinBackward1>) tensor(0.)\n"
     ]
    },
    {
     "ename": "TypeError",
     "evalue": "arange() received an invalid combination of arguments - got (Tensor, Tensor, float), but expected one of:\n * (Number end, *, Tensor out, torch.dtype dtype, torch.layout layout, torch.device device, bool pin_memory, bool requires_grad)\n * (Number start, Number end, Number step, *, Tensor out, torch.dtype dtype, torch.layout layout, torch.device device, bool pin_memory, bool requires_grad)\n",
     "output_type": "error",
     "traceback": [
      "\u001B[0;31m---------------------------------------------------------------------------\u001B[0m",
      "\u001B[0;31mTypeError\u001B[0m                                 Traceback (most recent call last)",
      "\u001B[0;32m<ipython-input-17-4526e4dccebe>\u001B[0m in \u001B[0;36m<module>\u001B[0;34m\u001B[0m\n\u001B[1;32m      1\u001B[0m \u001B[0mprint\u001B[0m\u001B[0;34m(\u001B[0m\u001B[0mlfm\u001B[0m\u001B[0;34m.\u001B[0m\u001B[0mtime_assignments\u001B[0m\u001B[0;34m.\u001B[0m\u001B[0mmin\u001B[0m\u001B[0;34m(\u001B[0m\u001B[0;34m)\u001B[0m\u001B[0;34m,\u001B[0m \u001B[0mlfm\u001B[0m\u001B[0;34m.\u001B[0m\u001B[0mtimepoint_choices\u001B[0m\u001B[0;34m.\u001B[0m\u001B[0mmin\u001B[0m\u001B[0;34m(\u001B[0m\u001B[0;34m)\u001B[0m\u001B[0;34m)\u001B[0m\u001B[0;34m\u001B[0m\u001B[0;34m\u001B[0m\u001B[0m\n\u001B[0;32m----> 2\u001B[0;31m \u001B[0mtorch\u001B[0m\u001B[0;34m.\u001B[0m\u001B[0marange\u001B[0m\u001B[0;34m(\u001B[0m\u001B[0mlfm\u001B[0m\u001B[0;34m.\u001B[0m\u001B[0mtime_assignments\u001B[0m\u001B[0;34m.\u001B[0m\u001B[0mmin\u001B[0m\u001B[0;34m(\u001B[0m\u001B[0;34m)\u001B[0m\u001B[0;34m,\u001B[0m \u001B[0mlfm\u001B[0m\u001B[0;34m.\u001B[0m\u001B[0mtime_assignments\u001B[0m\u001B[0;34m.\u001B[0m\u001B[0mmax\u001B[0m\u001B[0;34m(\u001B[0m\u001B[0;34m)\u001B[0m\u001B[0;34m,\u001B[0m \u001B[0;36m1.\u001B[0m\u001B[0;34m)\u001B[0m\u001B[0;34m\u001B[0m\u001B[0;34m\u001B[0m\u001B[0m\n\u001B[0m",
      "\u001B[0;31mTypeError\u001B[0m: arange() received an invalid combination of arguments - got (Tensor, Tensor, float), but expected one of:\n * (Number end, *, Tensor out, torch.dtype dtype, torch.layout layout, torch.device device, bool pin_memory, bool requires_grad)\n * (Number start, Number end, Number step, *, Tensor out, torch.dtype dtype, torch.layout layout, torch.device device, bool pin_memory, bool requires_grad)\n"
     ]
    }
   ],
   "source": [
    "print(lfm.time_assignments.min(), lfm.timepoint_choices.min())\n",
    "torch.arange(lfm.time_assignments.min(), lfm.time_assignments.max(), 1.)"
   ],
   "metadata": {
    "collapsed": false,
    "pycharm": {
     "name": "#%%\n"
    }
   }
  },
  {
   "cell_type": "code",
   "execution_count": null,
   "outputs": [],
   "source": [
    "# plotter.plot_outputs(t_predict, replicate=0, t_scatter=t_observed,y_scatter=dataset.m_observed, model_kwargs=model_kwargs);\n",
    "# plotter.plot_latents(t_predict, ylim=(-1, 3), plot_barenco=True, plot_inducing=False)\n",
    "# t_predict = torch.linspace(0, 35, 100)\n",
    "lfm.eval()\n",
    "trainer.e_step(cells)\n",
    "out = lfm(t_predict, step_size=step_size)\n",
    "end_index = 0 if single_gene else 2\n",
    "for i in [cpe_index] + list(range(0, end_index)):\n",
    "    plot_scatter(cells, i, num_connections=30, figsize=(6, 6))\n",
    "\n",
    "log_likelihood, kl_divergence, _ = lfm.loss_fn(out, data.squeeze().t(), mask=trainer.train_mask)\n",
    "total_loss = (-log_likelihood + kl_divergence)\n",
    "print(-log_likelihood.item(), kl_divergence.item())\n",
    "# plotter.plot_losses(trainer, last_x=200)\n",
    "# 9 5.7"
   ],
   "metadata": {
    "collapsed": false,
    "pycharm": {
     "name": "#%%\n"
    }
   }
  },
  {
   "cell_type": "code",
   "execution_count": null,
   "outputs": [],
   "source": [
    "\n",
    "print(y_target.shape)\n",
    "plt.scatter(out.mean[:, 1].detach(), out.mean[:, 0].detach())\n",
    "plt.scatter(y_target[1], y_target[0])"
   ],
   "metadata": {
    "collapsed": false,
    "pycharm": {
     "name": "#%%\n"
    }
   }
  },
  {
   "cell_type": "code",
   "execution_count": null,
   "outputs": [],
   "source": [
    "titles = ['Transcription rates', 'Splicing rates', 'Decay rates']\n",
    "kinetics = list()\n",
    "for key in track_parameters:\n",
    "    param = trainer.parameter_trace[key]\n",
    "    param = torch.tensor(param)\n",
    "    kinetics.append(\n",
    "        lfm.positivity.transform(param).numpy())\n",
    "kinetics = np.array(kinetics)\n",
    "print(kinetics.shape)\n",
    "for i in range(3):\n",
    "    plt.plot(kinetics[i], label=titles[i])\n",
    "plt.legend()\n",
    "print(kinetics[2])"
   ],
   "metadata": {
    "collapsed": false,
    "pycharm": {
     "name": "#%%\n"
    }
   }
  },
  {
   "cell_type": "code",
   "execution_count": null,
   "outputs": [],
   "source": [
    "savefile = './rna-1106'\n",
    "do_save = False\n",
    "if do_save:\n",
    "    lfm.save(savefile)\n",
    "\n",
    "do_load = False\n",
    "if do_load:\n",
    "    lfm = RNAVelocityLFM.load(savefile,\n",
    "                              gp_model=gp_model,\n",
    "                              lfm_args=[lfm.num_outputs, config],\n",
    "                              lfm_kwargs=lfm_kwargs)\n",
    "\n",
    "\n",
    "    optimizer = torch.optim.Adam(lfm.parameters(), lr=0.1)\n",
    "    trainer = EMTrainer(lfm, [optimizer], dataset, batch_size=4000)\n",
    "print(do_load)"
   ],
   "metadata": {
    "collapsed": false,
    "pycharm": {
     "name": "#%%\n"
    }
   }
  },
  {
   "cell_type": "code",
   "execution_count": null,
   "outputs": [],
   "source": [
    "#0, -3 15\n",
    "#0 -2 0 3\n",
    "out = lfm(lfm.timepoint_choices, step_size=step_size)\n",
    "print(out.mean.shape)\n",
    "out = out.mean.t().detach()\n",
    "u_out = out[:num_genes].squeeze()\n",
    "s_out = out[num_genes:].squeeze()\n",
    "plt.plot(u_out[cpe_index, ::10])\n",
    "plt.plot(-s_out[cpe_index, ::10] + 0.38)\n",
    "# plt.plot(s_out[cpe_index, ::10], u_out[cpe_index, ::10])\n",
    "# plt.plot(s_out[cpe_index, ::10])"
   ],
   "metadata": {
    "collapsed": false,
    "pycharm": {
     "name": "#%%\n"
    }
   }
  },
  {
   "cell_type": "code",
   "execution_count": null,
   "outputs": [],
   "source": [
    "print(lfm.time_assignments_indices.max())\n",
    "u_out = lfm.current_trajectory[:num_genes].detach()\n",
    "s_out = lfm.current_trajectory[num_genes:].detach()\n",
    "plt.plot(u_out[cpe_index])\n",
    "plt.plot(-s_out[cpe_index] + 0.38)"
   ],
   "metadata": {
    "collapsed": false,
    "pycharm": {
     "name": "#%%\n"
    }
   }
  },
  {
   "cell_type": "code",
   "execution_count": null,
   "outputs": [],
   "source": [
    "plt.plot(u_y[cpe_index, ::100])\n",
    "plt.plot(-s_y[cpe_index, ::100])\n",
    "\n",
    "# plt.scatter(s_y[cpe_index, ::10], u_y[cpe_index, ::10], alpha=0.1,s=5, c='black')"
   ],
   "metadata": {
    "collapsed": false,
    "pycharm": {
     "name": "#%%\n"
    }
   }
  },
  {
   "cell_type": "code",
   "execution_count": null,
   "outputs": [],
   "source": [
    "out = lfm(lfm.timepoint_choices, step_size=step_size)"
   ],
   "metadata": {
    "collapsed": false,
    "pycharm": {
     "name": "#%%\n"
    }
   }
  },
  {
   "cell_type": "code",
   "execution_count": null,
   "outputs": [],
   "source": [
    "mean = out.mean.t()\n",
    "print(cells.shape, mean.shape)\n",
    "# print(cells.squeeze()[0])\n",
    "# print(cells.squeeze()[2000])\n",
    "# print((cells.squeeze() * nonzero_mask)[2000].nonzero())\n",
    "# with torch.no_grad():\n",
    "    # lfm.splicing_rate[cpe_index] += 0.2\n",
    "    # lfm.raw_decay_rate[cpe_index] += 0.5\n",
    "print(lfm.decay_rate[cpe_index])\n",
    "print(lfm.splicing_rate[cpe_index])\n",
    "print(lfm.transcription_rate[cpe_index])\n",
    "print(dict(gp_model.named_variational_parameters()))"
   ],
   "metadata": {
    "collapsed": false,
    "pycharm": {
     "name": "#%%\n"
    }
   }
  },
  {
   "cell_type": "code",
   "execution_count": null,
   "outputs": [],
   "source": [
    "print(l2[cpe_index])\n",
    "print(gamma.shape)\n",
    "print(gamma.min())\n",
    "print(gamma.max())\n",
    "# s_low = s_y[s_sort_ind[-50:]]\n",
    "# print(s_low)\n",
    "# u_y.shape, s_y.shape"
   ],
   "metadata": {
    "collapsed": false,
    "pycharm": {
     "name": "#%%\n"
    }
   }
  },
  {
   "cell_type": "code",
   "execution_count": null,
   "outputs": [],
   "source": [
    "print(y_target.shape)\n",
    "print(lfm.current_trajectory.shape)\n",
    "u = lfm.current_trajectory[:2000].detach()[cpe_index]\n",
    "s = lfm.current_trajectory[2000:].detach()[cpe_index]\n",
    "u_y = y_target[:2000]  # (num_genes, num_cells)\n",
    "s_y = y_target[2000:]  # (num_genes, num_cells)\n",
    "print(u.shape, u_y.shape)\n",
    "plt.scatter(s, u)\n",
    "plt.scatter(s_y[cpe_index], u_y[cpe_index])"
   ],
   "metadata": {
    "collapsed": false,
    "pycharm": {
     "name": "#%%\n"
    }
   }
  },
  {
   "cell_type": "code",
   "execution_count": null,
   "outputs": [],
   "source": [
    "fig, axes = plt.subplots(ncols=2, figsize=(5, 2))\n",
    "axes[0].plot(u[:, cpe_index])\n",
    "axes[1].plot(s[:, cpe_index])"
   ],
   "metadata": {
    "collapsed": false,
    "pycharm": {
     "name": "#%%\n"
    }
   }
  },
  {
   "cell_type": "markdown",
   "source": [
    "### Outputs after training"
   ],
   "metadata": {
    "collapsed": false,
    "pycharm": {
     "name": "#%% md\n"
    }
   }
  },
  {
   "cell_type": "code",
   "execution_count": null,
   "outputs": [],
   "source": [
    "plotter.plot_losses(trainer, last_x=100)\n",
    "\n",
    "for i in range(0, 50, 2):\n",
    "    print_scatter(cells, i, num_connections=0)\n"
   ],
   "metadata": {
    "collapsed": false,
    "pycharm": {
     "name": "#%%\n"
    }
   }
  },
  {
   "cell_type": "code",
   "execution_count": null,
   "outputs": [],
   "source": [
    "from alfi.utilities.torch import ceil\n",
    "for i, data in enumerate(trainer.data_loader):\n",
    "    y = data.permute(0, 2, 1)  # (O, C, 1)\n",
    "batch_size = 500\n",
    "num_batches = ceil(y.shape[1] / batch_size)\n",
    "u_y = y[:num_outputs//2]  # (num_genes, num_cells)\n",
    "s_y = y[num_outputs//2:]  # (num_genes, num_cells)\n",
    "plt.scatter(s_y[cpe_index, :, 0], u_y[cpe_index, :, 0])\n",
    "plt.scatter(s[cpe_index, :, 0], u[cpe_index, :, 0])\n",
    "print(u_y.shape, s.shape)\n",
    "print(num_batches * 500)\n",
    "time_ass = torch.clone(lfm.time_assignments_indices)\n",
    "for batch in range(num_batches):\n",
    "    from_index = batch * batch_size\n",
    "    to_index = (batch+1) * batch_size\n",
    "    u_residual = u_y[:, from_index:to_index] - u.transpose(1, 2)\n",
    "    s_residual = s_y[:, from_index:to_index] - s.transpose(1, 2)\n",
    "\n",
    "    residual = u_residual.square() + s_residual.square()\n",
    "    residual = residual.sum(dim=0).argmin(dim=1).type(torch.long)\n",
    "    # print(residual.shape)\n",
    "    # print(residual[:5])\n",
    "    # print('done', batch)\n",
    "    time_ass[from_index:to_index] = residual"
   ],
   "metadata": {
    "collapsed": false,
    "pycharm": {
     "name": "#%%\n"
    }
   }
  },
  {
   "cell_type": "code",
   "execution_count": null,
   "outputs": [],
   "source": [
    "data = next(iter(trainer.data_loader))\n",
    "y = data.permute(0, 2, 1)  # (O, C, 1)\n",
    "print(y.shape)\n",
    "\n",
    "traj = lfm.current_trajectory\n",
    "u = traj[:2000].detach().unsqueeze(2)  # (num_genes, 100, 1)\n",
    "s = traj[2000:].detach().unsqueeze(2)  # (num_genes, 100, 1)\n",
    "u_y = y[:2000]  # (num_genes, num_cells)\n",
    "s_y = y[2000:]  # (num_genes, num_cells)\n",
    "u_y = cells[:2000]  # (num_genes, num_cells)\n",
    "s_y = cells[2000:]  # (num_genes, num_cells)\n",
    "print(s_y.shape, s.transpose(1, 2).shape)\n",
    "u_residual = u_y[1500:] - u[1500:].transpose(1, 2)\n",
    "s_residual = s_y[1500:] - s[1500:].transpose(1, 2)\n",
    "print(u_residual.shape) # (genes, cells, timepoints)\n",
    "residual = u_residual.square() + s_residual.square()\n",
    "residual_indices = residual.sum(dim=0).argmin(dim=1).type(torch.long)\n",
    "gene_index = cpe_index\n",
    "print(gene_index)\n",
    "print(residual.shape)\n",
    "# residual_indices = residual.argmin(dim=1)\n",
    "print(residual_indices.shape)\n",
    "residual_minimum = residual.min(dim=1).values\n",
    "print('min', residual_minimum.shape)\n",
    "residual_sort_indices = residual_minimum.argsort(descending=True)\n",
    "# print(residual_sort_indices)\n",
    "# for this gene, the indices of the closest timepoint for all cells\n",
    "\n",
    "# Plot trajectory\n",
    "plt.scatter(s[gene_index], u[gene_index])\n",
    "\n",
    "# Plot cell points\n",
    "indices = np.intersect1d(s_y[gene_index, :, 0].nonzero(),\n",
    "                         u_y[gene_index, :, 0].nonzero())\n",
    "plt.scatter(s_y[gene_index, indices, 0], u_y[gene_index, indices, 0], s=6, c='black')\n",
    "print()#torch.cat([\n",
    "# for cell_index in residual_sort_indices[-900:]:#, residual_indices[torch.randperm(residual_indices.shape[0])[:1]]]):\n",
    "for cell_index in range(10):\n",
    "    plt.scatter(s_y[gene_index, cell_index, 0], u_y[gene_index, cell_index, 0], s=2, c='red')\n",
    "    line = [\n",
    "    (s[gene_index, residual_indices[cell_index]], s_y[gene_index, cell_index, 0]),\n",
    "    (u[gene_index, residual_indices[cell_index]], u_y[gene_index, cell_index, 0])\n",
    "    ]\n",
    "    plt.plot(line[0], line[1], alpha=0.4, c='purple')\n",
    "\n",
    "    line = [\n",
    "        (s[gene_index, time_ass[cell_index]], s_y[gene_index, i, 0]),\n",
    "        (u[gene_index, time_ass[cell_index]], u_y[gene_index, i, 0])\n",
    "    ]\n",
    "    plt.plot(line[0], line[1], alpha=0.5, c='red')\n",
    "\n",
    "# plt.xlim(0.015, 0.071)\n",
    "# plt.ylim(0.22, 0.25)"
   ],
   "metadata": {
    "collapsed": false,
    "pycharm": {
     "name": "#%%\n"
    }
   }
  },
  {
   "cell_type": "code",
   "execution_count": null,
   "outputs": [],
   "source": [
    "t\n",
    "import scvelo as scv\n",
    "scv.tl.velocity(dataset.loom)"
   ],
   "metadata": {
    "collapsed": false,
    "pycharm": {
     "name": "#%%\n"
    }
   }
  },
  {
   "cell_type": "code",
   "execution_count": null,
   "outputs": [],
   "source": [
    "scv.pl.velocity(dataset.loom, ['Cpe',  'Gnao1', 'Ins2', 'Adk'], ncols=2)"
   ],
   "metadata": {
    "collapsed": false,
    "pycharm": {
     "name": "#%%\n"
    }
   }
  },
  {
   "cell_type": "code",
   "execution_count": null,
   "outputs": [],
   "source": [
    "velocity = dataset.loom.layers['velocity']\n",
    "print(velocity[:100, cpe_index].shape)"
   ],
   "metadata": {
    "collapsed": false,
    "pycharm": {
     "name": "#%%\n"
    }
   }
  },
  {
   "cell_type": "code",
   "execution_count": null,
   "outputs": [],
   "source": [
    "adata = dataset.loom\n",
    "_layers = adata[:, cpe_index].layers\n",
    "u = _layers['Mu']\n",
    "s = _layers['Ms']\n"
   ],
   "metadata": {
    "collapsed": false,
    "pycharm": {
     "name": "#%%\n"
    }
   }
  },
  {
   "cell_type": "code",
   "execution_count": null,
   "outputs": [],
   "source": [],
   "metadata": {
    "collapsed": false,
    "pycharm": {
     "name": "#%%\n"
    }
   }
  }
 ],
 "metadata": {
  "kernelspec": {
   "name": "firstenv",
   "language": "python",
   "display_name": "firstEnv"
  },
  "language_info": {
   "codemirror_mode": {
    "name": "ipython",
    "version": 2
   },
   "file_extension": ".py",
   "mimetype": "text/x-python",
   "name": "python",
   "nbconvert_exporter": "python",
   "pygments_lexer": "ipython2",
   "version": "2.7.6"
  }
 },
 "nbformat": 4,
 "nbformat_minor": 0
}