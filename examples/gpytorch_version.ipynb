{
 "cells": [
  {
   "cell_type": "code",
   "execution_count": 1,
   "metadata": {
    "collapsed": true
   },
   "outputs": [],
   "source": [
    "import math\n",
    "from abc import abstractmethod\n",
    "import torch\n",
    "import gpytorch\n",
    "import tqdm\n",
    "from matplotlib import pyplot as plt\n",
    "from gpytorch.likelihoods import MultitaskGaussianLikelihood\n",
    "from torchdiffeq import odeint\n",
    "from torch.nn import Parameter\n",
    "from torch.distributions import Independent, Normal\n",
    "\n",
    "from lafomo.datasets import P53Data\n",
    "from lafomo.configuration import VariationalConfiguration\n",
    "from lafomo.variational.models import VariationalLFM"
   ]
  },
  {
   "cell_type": "code",
   "execution_count": 2,
   "outputs": [],
   "source": [
    "class MultitaskGPModel(gpytorch.models.ApproximateGP):\n",
    "    def __init__(self, inducing_points, num_latents):\n",
    "        # We have to mark the CholeskyVariationalDistribution as batch\n",
    "        # so that we learn a variational distribution for each task\n",
    "        variational_distribution = gpytorch.variational.CholeskyVariationalDistribution(\n",
    "            inducing_points.size(-2), batch_shape=torch.Size([num_latents])\n",
    "        )\n",
    "\n",
    "        # We have to wrap the VariationalStrategy in a MultitaskVariationalStrategy\n",
    "        # so that the output will be a MultitaskMultivariateNormal rather than a batch output\n",
    "        variational_strategy = gpytorch.variational.IndependentMultitaskVariationalStrategy(\n",
    "            gpytorch.variational.VariationalStrategy(\n",
    "                self, inducing_points, variational_distribution, learn_inducing_locations=True\n",
    "            ), num_tasks=num_latents\n",
    "        )\n",
    "\n",
    "        super().__init__(variational_strategy)\n",
    "\n",
    "        # The mean and covariance modules should be marked as batch\n",
    "        # so we learn a different set of hyperparameters\n",
    "        self.mean_module = gpytorch.means.ZeroMean(batch_shape=torch.Size([num_latents]))\n",
    "        self.covar_module = gpytorch.kernels.RBFKernel(batch_shape=torch.Size([num_latents]))\n",
    "\n",
    "    def forward(self, t):\n",
    "        # The forward function should be written as if we were dealing with each output\n",
    "        # dimension in batch\n",
    "        mean_x = self.mean_module(t)\n",
    "        covar_x = self.covar_module(t)\n",
    "        return gpytorch.distributions.MultivariateNormal(mean_x, covar_x)\n",
    "\n",
    "\n",
    "\n",
    "class OrdinaryLFM(VariationalLFM):\n",
    "    \"\"\"\n",
    "    Variational approximation for an LFM based on an ordinary differential equation (ODE).\n",
    "    Inheriting classes must override the `odefunc` function which encodes the ODE.\n",
    "    \"\"\"\n",
    "\n",
    "    # def __init__(self, num_latent, config: VariationalConfiguration, kernel, t_inducing, dataset: LFMDataset, dtype=torch.float64):\n",
    "        # super().__init__(num_latent, config, kernel, t_inducing, dataset, dtype)\n",
    "    def __init__(self, config: VariationalConfiguration, dataset, dtype=torch.float64):\n",
    "        self.config = config\n",
    "        super().__init__(config, dataset, dtype=dtype)\n",
    "        self.nfe = 0\n",
    "        self.f = None\n",
    "\n",
    "    def initial_state(self):\n",
    "        initial_state = torch.zeros(torch.Size([self.num_outputs, 1]), dtype=torch.float64)\n",
    "        initial_state = initial_state.cuda() if is_cuda() else initial_state\n",
    "        return initial_state.repeat(self.config.num_samples, 1, 1)  # Add batch dimension for sampling\n",
    "        # if self.options.initial_conditions: TODO:\n",
    "        #     h = self.initial_conditions.repeat(h.shape[0], 1, 1)\n",
    "\n",
    "    def forward(self, t, q_f, step_size=1e-1, return_samples=False):\n",
    "        \"\"\"\n",
    "        t : torch.Tensor\n",
    "            Shape (num_times)\n",
    "        h : torch.Tensor the initial state of the ODE\n",
    "            Shape (num_genes, 1)\n",
    "        Returns\n",
    "        -------\n",
    "        Returns evolved h across times t.\n",
    "        Shape (num_genes, num_points).\n",
    "        \"\"\"\n",
    "        self.nfe = 0\n",
    "\n",
    "        # Integrate forward from the initial positions h0.\n",
    "        h0 = self.initial_state()\n",
    "        h0 = h0.unsqueeze(0).repeat(self.options.num_samples, 1, 1)\n",
    "        self.f = q_f.rsample(torch.Size([self.options.num_samples])).permute(0, 2, 1)  # (S, I, T)\n",
    "        self.f = self.G(self.f)\n",
    "        # print('de_model forward', self.f.shape)\n",
    "        # print(self.f.shape)\n",
    "        self.t_index = 0\n",
    "        self.last_t = self.f.min()-1\n",
    "        h_samples = odeint(self.odefunc, h0, t, method='rk4', options=dict(step_size=step_size))#, rtol=rtol, atol=atol)  # (T, S, num_outputs, 1)\n",
    "\n",
    "        self.f = None\n",
    "        # self.t_index = None\n",
    "        # self.last_t = None\n",
    "        if return_samples:\n",
    "            return h_samples\n",
    "\n",
    "        h_out = torch.mean(h_samples, dim=1).permute(1, 0, 2).reshape(-1) # shape was (#outputs, #T, 1)\n",
    "        h_var = torch.var(h_samples, dim=1).permute(1, 0, 2).reshape(-1) + 1e-7\n",
    "\n",
    "        h_out = self.decode(h_out)\n",
    "        # print('h_out', h_out.shape, h_var.shape)\n",
    "        # TODO: make distribution something less constraining\n",
    "        # print(h_var.min(), h_var)\n",
    "        h_covar = torch.diag(h_var)\n",
    "        q = gpytorch.distributions.MultivariateNormal(h_out, h_covar)\n",
    "        return q\n",
    "\n",
    "    def decode(self, h_out):\n",
    "        return h_out\n",
    "\n",
    "    @abstractmethod\n",
    "    def odefunc(self, t, h):\n",
    "        \"\"\"\n",
    "        Parameters:\n",
    "            h: shape (num_samples, num_outputs, 1)\n",
    "        \"\"\"\n",
    "        pass\n",
    "\n",
    "    @abstractmethod\n",
    "    def G(self, f):\n",
    "        return f.repeat(1, self.num_outputs, 1)  # (S, I, t)\n",
    "\n",
    "\n",
    "class TranscriptionalRegulationLFM(OrdinaryLFM):\n",
    "    def __init__(self, config: VariationalConfiguration, dataset):\n",
    "        super().__init__(config, dataset)\n",
    "        self.decay_rate = Parameter(0.1 + torch.rand((self.num_outputs, 1), dtype=torch.float64))\n",
    "        self.basal_rate = Parameter(torch.rand((self.num_outputs, 1), dtype=torch.float64))\n",
    "        self.sensitivity = Parameter(0.2 + torch.rand((self.num_outputs, 1), dtype=torch.float64))\n",
    "\n",
    "    def initial_state(self):\n",
    "        return self.basal_rate / self.decay_rate\n",
    "\n",
    "    def odefunc(self, t, h):\n",
    "        \"\"\"h is of shape (num_samples, num_outputs, 1)\"\"\"\n",
    "        self.nfe += 1\n",
    "        # if (self.nfe % 100) == 0:\n",
    "        #     print(t)\n",
    "\n",
    "        decay = self.decay_rate * h\n",
    "\n",
    "        f = self.f[:, :, self.t_index].unsqueeze(2)\n",
    "\n",
    "        h = self.basal_rate + self.sensitivity * f - decay\n",
    "        if t > self.last_t:\n",
    "            self.t_index += 1\n",
    "        self.last_t = t\n",
    "        return h"
   ],
   "metadata": {
    "collapsed": false,
    "pycharm": {
     "name": "#%%\n"
    }
   }
  },
  {
   "cell_type": "code",
   "execution_count": 21,
   "outputs": [],
   "source": [
    "from lafomo.variational.trainer import Trainer\n",
    "from lafomo.utilities.torch import is_cuda\n",
    "\n",
    "\n",
    "class NewTrainer(Trainer):\n",
    "    def __init__(self, gp_model: gpytorch.models.GP, de_model, optimizer: torch.optim.Optimizer, dataset):\n",
    "        super().__init__(gp_model, de_model, optimizer, dataset, batch_size=de_model.num_outputs)\n",
    "\n",
    "    def single_epoch(self, rtol, atol):\n",
    "        data = next(iter(self.data_loader))\n",
    "\n",
    "        self.optimizer.zero_grad()\n",
    "        t, y = data\n",
    "        t = t.cuda() if is_cuda() else t\n",
    "        y = y.cuda() if is_cuda() else y\n",
    "        # Assume that the batch of t s are the same\n",
    "        t, y = t[0].view(-1), y\n",
    "\n",
    "        # with ef.scan():\n",
    "        t_f = torch.arange(t.min(), t.max()+step_size/3, step_size/3)\n",
    "        # print('feeding gp with ', t_f.shape)\n",
    "        f_output = self.gp_model(t_f)\n",
    "        # print('fout', f_output)\n",
    "\n",
    "        g_output = self.de_model(t, f_output, step_size=1e-1)\n",
    "\n",
    "        # Calc loss and backprop gradients\n",
    "        #  log_likelihood - kl_divergence + log_prior - added_loss\n",
    "        log_likelihood, kl_divergence, _ = mll(g_output, y.view(-1))\n",
    "\n",
    "        loss = - (log_likelihood - kl_divergence)\n",
    "\n",
    "        loss.backward()\n",
    "        self.optimizer.step()\n",
    "\n",
    "        return loss, (-log_likelihood, kl_divergence)"
   ],
   "metadata": {
    "collapsed": false,
    "pycharm": {
     "name": "#%%\n"
    }
   }
  },
  {
   "cell_type": "code",
   "execution_count": 32,
   "outputs": [],
   "source": [
    "dataset = P53Data(replicate=0, data_dir='../data')\n",
    "num_genes = 5\n",
    "num_tfs = 1\n",
    "config = VariationalConfiguration(\n",
    "    preprocessing_variance=dataset.variance,\n",
    "    learn_inducing=False,\n",
    "    num_samples=70,\n",
    "    kernel_scale=False,\n",
    "    initial_conditions=False\n",
    ")\n",
    "\n",
    "# The shape of the inducing points should be (2 x m x 1) - so that we learn different inducing\n",
    "# points for each output\n",
    "num_inducing = 12\n",
    "inducing_points = torch.linspace(0, 12, num_inducing).view(num_tfs, num_inducing, 1)\n",
    "\n",
    "gp_model = MultitaskGPModel(inducing_points, num_tfs)\n",
    "de_model = TranscriptionalRegulationLFM(config, dataset)\n",
    "\n",
    "likelihood = gpytorch.likelihoods.MultitaskGaussianLikelihood(num_tasks=num_tfs)\n",
    "\n",
    "# Find optimal model hyperparameters\n",
    "gp_model.train()\n",
    "likelihood.train()\n",
    "\n",
    "# Use the adam optimizer\n",
    "optimizer = torch.optim.Adam([\n",
    "    *gp_model.parameters(),\n",
    "    *de_model.parameters()\n",
    "], lr=0.08)\n",
    "\n",
    "# \"Loss\" for GPs - the marginal log likelihood\n",
    "# num_data refers to the number of training datapoints\n",
    "num_training_points = 7 * 5\n",
    "mll = gpytorch.mlls.VariationalELBO(likelihood, gp_model, num_training_points, combine_terms=False)\n",
    "trainer = NewTrainer(gp_model, de_model, optimizer, dataset)\n",
    "\n",
    "step_size = 5e-2"
   ],
   "metadata": {
    "collapsed": false,
    "pycharm": {
     "name": "#%%\n"
    }
   }
  },
  {
   "cell_type": "code",
   "execution_count": 35,
   "outputs": [
    {
     "name": "stdout",
     "output_type": "stream",
     "text": [
      "Epoch 101/200 - Loss: 1.30 (1.20  0.10  ) λ: 1.3371168375015259\n",
      "Epoch 111/200 - Loss: 1.30 (1.21  0.09  ) λ: 1.4878180027008057\n",
      "Epoch 121/200 - Loss: 1.29 (1.20  0.09  ) λ: 1.5825453996658325\n",
      "Epoch 131/200 - Loss: 1.30 (1.21  0.09  ) λ: 1.6578046083450317\n",
      "Epoch 141/200 - Loss: 1.30 (1.21  0.09  ) λ: 1.6881388425827026\n",
      "Epoch 151/200 - Loss: 1.30 (1.21  0.09  ) λ: 1.7050822973251343\n",
      "Epoch 161/200 - Loss: 1.29 (1.20  0.09  ) λ: 1.75022554397583\n",
      "Epoch 171/200 - Loss: 1.29 (1.19  0.10  ) λ: 1.7332490682601929\n",
      "Epoch 181/200 - Loss: 1.29 (1.20  0.09  ) λ: 1.7439863681793213\n",
      "Epoch 191/200 - Loss: 1.29 (1.20  0.10  ) λ: 1.711625576019287\n"
     ]
    }
   ],
   "source": [
    "gp_model.train()\n",
    "likelihood.train()\n",
    "\n",
    "trainer.train(100, report_interval=10, rtol=step_size)"
   ],
   "metadata": {
    "collapsed": false,
    "pycharm": {
     "name": "#%%\n"
    }
   }
  },
  {
   "cell_type": "code",
   "execution_count": 36,
   "outputs": [
    {
     "name": "stdout",
     "output_type": "stream",
     "text": [
      "tensor([ 0.,  2.,  4.,  6.,  8., 10., 12.])\n",
      "torch.Size([35])\n"
     ]
    },
    {
     "data": {
      "text/plain": "<Figure size 432x288 with 1 Axes>",
      "image/png": "[encoded data removed]"
     },
     "metadata": {
      "needs_background": "light"
     },
     "output_type": "display_data"
    },
    {
     "data": {
      "text/plain": "<Figure size 432x288 with 1 Axes>",
      "image/png": "[encoded data removed]"
     },
     "metadata": {
      "needs_background": "light"
     },
     "output_type": "display_data"
    }
   ],
   "source": [
    "gp_model.eval()\n",
    "likelihood.eval()\n",
    "\n",
    "with torch.no_grad():\n",
    "    data = next(iter(trainer.data_loader))\n",
    "    t, y = data\n",
    "\n",
    "    # Assume that the batch of t s are the same\n",
    "    t, y = t[0].view(-1), y\n",
    "    print(t)\n",
    "    # with ef.scan():\n",
    "    t_f = torch.arange(t.min(), t.max()+step_size/3, step_size/3)\n",
    "\n",
    "    f_output = gp_model(t_f)\n",
    "\n",
    "    g_output = de_model(t, f_output, step_size=1e-1)\n",
    "\n",
    "    observed_pred = likelihood(g_output)\n",
    "    print(observed_pred.mean.shape)\n",
    "    obs = observed_pred.mean.view(5, 7)\n",
    "\n",
    "    for i in range(5):\n",
    "        plt.plot(obs[i])\n",
    "\n",
    "\n",
    "    plt.figure()\n",
    "    plt.plot(f_output.mean.squeeze())"
   ],
   "metadata": {
    "collapsed": false,
    "pycharm": {
     "name": "#%%\n"
    }
   }
  },
  {
   "cell_type": "code",
   "execution_count": 6,
   "outputs": [
    {
     "name": "stdout",
     "output_type": "stream",
     "text": [
      "torch.Size([7])\n"
     ]
    },
    {
     "data": {
      "text/plain": "tensor([[0., 0., 0., 0., 0., 0., 0.]])"
     },
     "execution_count": 6,
     "metadata": {},
     "output_type": "execute_result"
    }
   ],
   "source": [
    "print(t.shape)\n",
    "gp_model.mean_module(t)"
   ],
   "metadata": {
    "collapsed": false,
    "pycharm": {
     "name": "#%%\n"
    }
   }
  },
  {
   "cell_type": "code",
   "execution_count": 6,
   "outputs": [],
   "source": [],
   "metadata": {
    "collapsed": false,
    "pycharm": {
     "name": "#%%\n"
    }
   }
  }
 ],
 "metadata": {
  "kernelspec": {
   "name": "pycharm-222640c7",
   "language": "python",
   "display_name": "PyCharm (reggae)"
  },
  "language_info": {
   "codemirror_mode": {
    "name": "ipython",
    "version": 2
   },
   "file_extension": ".py",
   "mimetype": "text/x-python",
   "name": "python",
   "nbconvert_exporter": "python",
   "pygments_lexer": "ipython2",
   "version": "2.7.6"
  }
 },
 "nbformat": 4,
 "nbformat_minor": 0
}