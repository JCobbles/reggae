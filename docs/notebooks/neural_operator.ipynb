{
 "cells": [
  {
   "cell_type": "code",
   "execution_count": 1,
   "metadata": {
    "collapsed": true
   },
   "outputs": [],
   "source": [
    "import torch\n",
    "import numpy as np\n",
    "from matplotlib import pyplot as plt\n",
    "import torch.nn.functional as F\n",
    "from torch.nn import Module, Conv1d, Linear\n",
    "from torch.nn.parameter import Parameter\n",
    "import matplotlib.pyplot as plt\n",
    "from torch.utils.data import DataLoader, TensorDataset\n",
    "import operator\n",
    "from functools import reduce\n",
    "from functools import partial\n",
    "\n",
    "from lafomo.utilities.data import MatReader\n",
    "from lafomo.datasets import ToyTimeSeries"
   ]
  },
  {
   "cell_type": "code",
   "execution_count": 2,
   "outputs": [],
   "source": [
    "num_outputs = 10\n",
    "basal_rate = 0.1 + 0.3 * torch.rand(torch.Size([num_outputs, 1]), dtype=torch.float32)\n",
    "sensitivity = 2 + 5 * torch.rand(torch.Size([num_outputs, 1]), dtype=torch.float32)\n",
    "decay_rate = 0.2 + 2 * torch.rand(torch.Size([num_outputs, 1]), dtype=torch.float32)\n"
   ],
   "metadata": {
    "collapsed": false,
    "pycharm": {
     "name": "#%%\n"
    }
   }
  },
  {
   "cell_type": "code",
   "execution_count": 20,
   "outputs": [],
   "source": [
    "ntrain = 15\n",
    "\n",
    "datasets = list()\n",
    "for i in range(ntrain):\n",
    "    dataset = ToyTimeSeries(num_outputs, 1, 10, params=[basal_rate, sensitivity, decay_rate], plot=False)\n",
    "    datasets.append(dataset)"
   ],
   "metadata": {
    "collapsed": false,
    "pycharm": {
     "name": "#%%\n"
    }
   }
  },
  {
   "cell_type": "code",
   "execution_count": 296,
   "outputs": [
    {
     "name": "stdout",
     "output_type": "stream",
     "text": [
      "y torch.Size([15, 11, 1])\n",
      "x torch.Size([15, 11, 11])\n"
     ]
    }
   ],
   "source": [
    "train_a = torch.cat([dataset.m_observed for dataset in datasets]).permute(0, 2, 1)\n",
    "T_in = 11\n",
    "grid = datasets[0].t_observed.reshape(1, -1, 1).repeat(ntrain, 1, 1) # (1, 32, 32, 40, 1)\n",
    "\n",
    "x_train = torch.cat([grid, train_a], dim=-1)\n",
    "y_train = torch.cat([dataset.f_observed for dataset in datasets]).permute(0, 2, 1)\n",
    "print('y', y_train.shape)\n",
    "print('x', x_train.shape)\n",
    "batch_size = 15\n",
    "train_loader = DataLoader(torch.utils.data.TensorDataset(x_train, y_train),\n",
    "                          batch_size=batch_size, shuffle=True)"
   ],
   "metadata": {
    "collapsed": false,
    "pycharm": {
     "name": "#%%\n"
    }
   }
  },
  {
   "cell_type": "code",
   "execution_count": 297,
   "outputs": [],
   "source": [
    "#Complex multiplication\n",
    "def compl_mul1d(a, b):\n",
    "    # (batch, in_channel, x ), (in_channel, out_channel, x) -> (batch, out_channel, x)\n",
    "    return torch.einsum('bix,iox->box', a, b)\n",
    "\n",
    "\n",
    "################################################################\n",
    "#  1d fourier layer\n",
    "################################################################\n",
    "class SpectralConv1d(torch.nn.Module):\n",
    "    def __init__(self, in_channels, out_channels, modes1):\n",
    "        super(SpectralConv1d, self).__init__()\n",
    "\n",
    "        \"\"\"\n",
    "        1D Fourier layer. It does FFT, linear transform, and Inverse FFT.\n",
    "        \"\"\"\n",
    "\n",
    "        self.in_channels = in_channels\n",
    "        self.out_channels = out_channels\n",
    "        self.modes1 = modes1  #Number of Fourier modes to multiply, at most floor(N/2) + 1\n",
    "\n",
    "        self.scale = (1 / (in_channels*out_channels))\n",
    "        self.weights1 = Parameter(\n",
    "            self.scale * torch.rand(in_channels, out_channels, self.modes1).type(torch.complex64))\n",
    "\n",
    "    def forward(self, x):\n",
    "        batchsize = x.shape[0]\n",
    "        #Compute Fourier coeffcients up to factor of e^(- something constant)\n",
    "        x_ft = torch.fft.rfft(x)\n",
    "\n",
    "        # Multiply relevant Fourier modes\n",
    "        out_ft = torch.zeros(batchsize, self.in_channels, x.size(-1)//2 + 1, device=x.device)\n",
    "        out_ft[:, :, :self.modes1] = compl_mul1d(x_ft[:, :, :self.modes1], self.weights1)\n",
    "\n",
    "        #Return to physical space\n",
    "        x = torch.fft.irfft(out_ft, n=x.size(-1))\n",
    "        return x\n"
   ],
   "metadata": {
    "collapsed": false,
    "pycharm": {
     "name": "#%%\n"
    }
   }
  },
  {
   "cell_type": "code",
   "execution_count": 298,
   "outputs": [],
   "source": [
    "class SimpleBlock1d(Module):\n",
    "    def __init__(self, modes, width):\n",
    "        super(SimpleBlock1d, self).__init__()\n",
    "\n",
    "        \"\"\"\n",
    "        The overall network. It contains 4 layers of the Fourier layer.\n",
    "        1. Lift the input to the desire channel dimension by self.fc0 .\n",
    "        2. 4 layers of the integral operators u' = (W + K)(u).\n",
    "            W defined by self.w; K defined by self.conv .\n",
    "        3. Project from the channel space to the output space by self.fc1 and self.fc2 .\n",
    "\n",
    "        input: the solution of the initial condition and location (a(x), x)\n",
    "        input shape: (batchsize, x=s, c=2)\n",
    "        output: the solution of a later timestep\n",
    "        output shape: (batchsize, x=s, c=1)\n",
    "        \"\"\"\n",
    "\n",
    "        self.modes1 = modes\n",
    "        self.width = width\n",
    "        self.fc0 = Linear(11, self.width)\n",
    "\n",
    "        self.conv0 = SpectralConv1d(self.width, self.width, self.modes1)\n",
    "        self.conv1 = SpectralConv1d(self.width, self.width, self.modes1)\n",
    "        self.conv2 = SpectralConv1d(self.width, self.width, self.modes1)\n",
    "        self.conv3 = SpectralConv1d(self.width, self.width, self.modes1)\n",
    "        self.w0 = Conv1d(self.width, self.width, 1)\n",
    "        self.w1 = Conv1d(self.width, self.width, 1)\n",
    "        self.w2 = Conv1d(self.width, self.width, 1)\n",
    "        self.w3 = Conv1d(self.width, self.width, 1)\n",
    "\n",
    "\n",
    "        self.fc1 = Linear(self.width, 128)\n",
    "        self.fc2 = Linear(128, 1)\n",
    "\n",
    "    def forward(self, x):\n",
    "\n",
    "        x = self.fc0(x)\n",
    "        x = x.permute(0, 2, 1)\n",
    "\n",
    "        x1 = self.conv0(x)\n",
    "        x2 = self.w0(x)\n",
    "        x = x1 + x2\n",
    "        x = F.relu(x)\n",
    "\n",
    "        x1 = self.conv1(x)\n",
    "        x2 = self.w1(x)\n",
    "        x = x1 + x2\n",
    "        x = F.relu(x)\n",
    "\n",
    "        x1 = self.conv2(x)\n",
    "        x2 = self.w2(x)\n",
    "        x = x1 + x2\n",
    "        x = F.relu(x)\n",
    "\n",
    "        x1 = self.conv3(x)\n",
    "        x2 = self.w3(x)\n",
    "        x = x1 + x2\n",
    "\n",
    "        x = x.permute(0, 2, 1)\n",
    "        x = self.fc1(x)\n",
    "        x = F.relu(x)\n",
    "        x = self.fc2(x)\n",
    "        return x\n",
    "\n",
    "class Net1d(Module):\n",
    "    def __init__(self, modes, width):\n",
    "        super(Net1d, self).__init__()\n",
    "\n",
    "        \"\"\"\n",
    "        A wrapper function\n",
    "        \"\"\"\n",
    "\n",
    "        self.conv1 = SimpleBlock1d(modes, width)\n",
    "\n",
    "\n",
    "    def forward(self, x):\n",
    "        x = self.conv1(x)\n",
    "        return x#.squeeze()\n",
    "\n",
    "    def count_params(self):\n",
    "        c = 0\n",
    "        for p in self.parameters():\n",
    "            c += reduce(operator.mul, list(p.size()))\n",
    "\n",
    "        return c\n",
    "#loss function with rel/abs Lp loss\n",
    "class LpLoss(object):\n",
    "    def __init__(self, d=2, p=2, size_average=True, reduction=True):\n",
    "        super(LpLoss, self).__init__()\n",
    "\n",
    "        #Dimension and Lp-norm type are postive\n",
    "        assert d > 0 and p > 0\n",
    "\n",
    "        self.d = d\n",
    "        self.p = p\n",
    "        self.reduction = reduction\n",
    "        self.size_average = size_average\n",
    "\n",
    "    def abs(self, x, y):\n",
    "        num_examples = x.size()[0]\n",
    "\n",
    "        #Assume uniform mesh\n",
    "        h = 1.0 / (x.size()[1] - 1.0)\n",
    "\n",
    "        all_norms = (h**(self.d/self.p))*torch.norm(x.view(num_examples,-1) - y.view(num_examples,-1), self.p, 1)\n",
    "\n",
    "        if self.reduction:\n",
    "            if self.size_average:\n",
    "                return torch.mean(all_norms)\n",
    "            else:\n",
    "                return torch.sum(all_norms)\n",
    "\n",
    "        return all_norms\n",
    "\n",
    "    def rel(self, x, y):\n",
    "        num_examples = x.size()[0]\n",
    "\n",
    "        diff_norms = torch.norm(x.reshape(num_examples,-1) - y.reshape(num_examples,-1), self.p, 1)\n",
    "        y_norms = torch.norm(y.reshape(num_examples,-1), self.p, 1)\n",
    "\n",
    "        if self.reduction:\n",
    "            if self.size_average:\n",
    "                return torch.mean(diff_norms/y_norms)\n",
    "            else:\n",
    "                return torch.sum(diff_norms/y_norms)\n",
    "\n",
    "        return diff_norms/y_norms\n",
    "\n",
    "    def __call__(self, x, y):\n",
    "        return self.rel(x, y)"
   ],
   "metadata": {
    "collapsed": false,
    "pycharm": {
     "name": "#%%\n"
    }
   }
  },
  {
   "cell_type": "code",
   "execution_count": 299,
   "outputs": [
    {
     "name": "stdout",
     "output_type": "stream",
     "text": [
      "11137\n"
     ]
    }
   ],
   "source": [
    "width = 20\n",
    "modes = 4\n",
    "model = Net1d(modes, width)\n",
    "print(model.count_params())"
   ],
   "metadata": {
    "collapsed": false,
    "pycharm": {
     "name": "#%%\n"
    }
   }
  },
  {
   "cell_type": "code",
   "execution_count": 300,
   "outputs": [],
   "source": [
    "learning_rate = 1e-3\n",
    "gamma = 0.5\n",
    "step_size = 100\n",
    "optimizer = torch.optim.Adam(model.parameters(), lr=learning_rate, weight_decay=1e-4)\n",
    "scheduler = torch.optim.lr_scheduler.StepLR(optimizer, step_size=step_size, gamma=gamma)\n",
    "epochs = 10\n",
    "myloss = LpLoss(size_average=False)"
   ],
   "metadata": {
    "collapsed": false,
    "pycharm": {
     "name": "#%%\n"
    }
   }
  },
  {
   "cell_type": "code",
   "execution_count": 318,
   "outputs": [
    {
     "name": "stdout",
     "output_type": "stream",
     "text": [
      "torch.Size([15, 11, 11]) torch.Size([15, 11, 1]) torch.Size([15, 11, 1])\n",
      "0 0.14626476168632507 0.3663055419921875 0.0\n",
      "torch.Size([15, 11, 11]) torch.Size([15, 11, 1]) torch.Size([15, 11, 1])\n",
      "1 0.13902819156646729 0.35802593231201174 0.0\n",
      "torch.Size([15, 11, 11]) torch.Size([15, 11, 1]) torch.Size([15, 11, 1])\n",
      "2 0.1348535120487213 0.3582077344258626 0.0\n",
      "torch.Size([15, 11, 11]) torch.Size([15, 11, 1]) torch.Size([15, 11, 1])\n",
      "3 0.13477924466133118 0.3596274058024089 0.0\n",
      "torch.Size([15, 11, 11]) torch.Size([15, 11, 1]) torch.Size([15, 11, 1])\n",
      "4 0.13321538269519806 0.35240332285563153 0.0\n",
      "torch.Size([15, 11, 11]) torch.Size([15, 11, 1]) torch.Size([15, 11, 1])\n",
      "5 0.13794411718845367 0.3557927449544271 0.0\n",
      "torch.Size([15, 11, 11]) torch.Size([15, 11, 1]) torch.Size([15, 11, 1])\n",
      "6 0.13495256006717682 0.35241724650065104 0.0\n",
      "torch.Size([15, 11, 11]) torch.Size([15, 11, 1]) torch.Size([15, 11, 1])\n",
      "7 0.12961086630821228 0.3490499178568522 0.0\n",
      "torch.Size([15, 11, 11]) torch.Size([15, 11, 1]) torch.Size([15, 11, 1])\n",
      "8 0.12904943525791168 0.351177978515625 0.0\n",
      "torch.Size([15, 11, 11]) torch.Size([15, 11, 1]) torch.Size([15, 11, 1])\n",
      "9 0.12743961811065674 0.34618523915608723 0.0\n"
     ]
    }
   ],
   "source": [
    "for ep in range(epochs):\n",
    "    model.train()\n",
    "    train_mse = 0\n",
    "    train_l2 = 0\n",
    "    for x, y in train_loader:\n",
    "        # x, y = x.cuda(), y.cuda()\n",
    "\n",
    "        optimizer.zero_grad()\n",
    "        out = model(x)\n",
    "        print(x.shape, out.shape, y.shape)\n",
    "        mse = F.mse_loss(out, y, reduction='mean')\n",
    "        # mse.backward()\n",
    "        l2 = myloss(out.view(batch_size, -1), y.view(batch_size, -1))\n",
    "        l2.backward() # use the l2 relative loss\n",
    "\n",
    "        optimizer.step()\n",
    "        train_mse += mse.item()\n",
    "        train_l2 += l2.item()\n",
    "\n",
    "    scheduler.step()\n",
    "    model.eval()\n",
    "    test_l2 = 0.0\n",
    "    # with torch.no_grad():\n",
    "    #     for x, y in test_loader:\n",
    "    #         x, y = x.cuda(), y.cuda()\n",
    "    #\n",
    "    #         out = model(x)\n",
    "    #         test_l2 += myloss(out.view(batch_size, -1), y.view(batch_size, -1)).item()\n",
    "\n",
    "    train_mse /= len(train_loader)\n",
    "    train_l2 /= ntrain\n",
    "    # test_l2 /= ntest\n",
    "\n",
    "    print(ep, train_mse,  train_l2, test_l2)"
   ],
   "metadata": {
    "collapsed": false,
    "pycharm": {
     "name": "#%%\n"
    }
   }
  },
  {
   "cell_type": "code",
   "execution_count": 319,
   "outputs": [
    {
     "name": "stdout",
     "output_type": "stream",
     "text": [
      "torch.Size([15, 11, 11]) torch.Size([15, 11, 1])\n",
      "torch.Size([15, 11, 1])\n"
     ]
    },
    {
     "data": {
      "text/plain": "[<matplotlib.lines.Line2D at 0x7ff40f254150>]"
     },
     "execution_count": 319,
     "metadata": {},
     "output_type": "execute_result"
    },
    {
     "data": {
      "text/plain": "<Figure size 576x396 with 1 Axes>",
      "image/png": "[encoded data removed]"
     },
     "metadata": {},
     "output_type": "display_data"
    },
    {
     "data": {
      "text/plain": "<Figure size 576x396 with 1 Axes>",
      "image/png": "[encoded data removed]"
     },
     "metadata": {},
     "output_type": "display_data"
    }
   ],
   "source": [
    "x, y = next(iter(train_loader))\n",
    "print(x.shape, y.shape)\n",
    "for i in range(1, 5):\n",
    "    plt.plot(x[0, :, i])#.shape, y.shape)\n",
    "\n",
    "plt.figure()\n",
    "plt.plot(y[0, :, 0])\n",
    "\n",
    "out = model(x)\n",
    "print(out.shape)\n",
    "plt.plot(out[0, :, 0].detach())\n"
   ],
   "metadata": {
    "collapsed": false,
    "pycharm": {
     "name": "#%%\n"
    }
   }
  },
  {
   "cell_type": "code",
   "execution_count": 310,
   "outputs": [
    {
     "ename": "NameError",
     "evalue": "name 'test_loader' is not defined",
     "output_type": "error",
     "traceback": [
      "\u001B[0;31m---------------------------------------------------------------------------\u001B[0m",
      "\u001B[0;31mNameError\u001B[0m                                 Traceback (most recent call last)",
      "\u001B[0;32m<ipython-input-310-38d4f3513f62>\u001B[0m in \u001B[0;36m<module>\u001B[0;34m\u001B[0m\n\u001B[1;32m      4\u001B[0m \u001B[0;31m# test_loader = torch.utils.data.DataLoader(torch.utils.data.TensorDataset(x_test, y_test), batch_size=1, shuffle=False)\u001B[0m\u001B[0;34m\u001B[0m\u001B[0;34m\u001B[0m\u001B[0;34m\u001B[0m\u001B[0m\n\u001B[1;32m      5\u001B[0m \u001B[0;32mwith\u001B[0m \u001B[0mtorch\u001B[0m\u001B[0;34m.\u001B[0m\u001B[0mno_grad\u001B[0m\u001B[0;34m(\u001B[0m\u001B[0;34m)\u001B[0m\u001B[0;34m:\u001B[0m\u001B[0;34m\u001B[0m\u001B[0;34m\u001B[0m\u001B[0m\n\u001B[0;32m----> 6\u001B[0;31m     \u001B[0;32mfor\u001B[0m \u001B[0mx\u001B[0m\u001B[0;34m,\u001B[0m \u001B[0my\u001B[0m \u001B[0;32min\u001B[0m \u001B[0mtest_loader\u001B[0m\u001B[0;34m:\u001B[0m\u001B[0;34m\u001B[0m\u001B[0;34m\u001B[0m\u001B[0m\n\u001B[0m\u001B[1;32m      7\u001B[0m         \u001B[0mtest_l2\u001B[0m \u001B[0;34m=\u001B[0m \u001B[0;36m0\u001B[0m\u001B[0;34m\u001B[0m\u001B[0;34m\u001B[0m\u001B[0m\n\u001B[1;32m      8\u001B[0m         \u001B[0;31m# x, y = x.cuda(), y.cuda()\u001B[0m\u001B[0;34m\u001B[0m\u001B[0;34m\u001B[0m\u001B[0;34m\u001B[0m\u001B[0m\n",
      "\u001B[0;31mNameError\u001B[0m: name 'test_loader' is not defined"
     ]
    }
   ],
   "source": [
    "# torch.save(model, 'model/ns_fourier_burgers_8192')\n",
    "pred = torch.zeros(y_train.shape)\n",
    "index = 0\n",
    "# test_loader = torch.utils.data.DataLoader(torch.utils.data.TensorDataset(x_test, y_test), batch_size=1, shuffle=False)\n",
    "with torch.no_grad():\n",
    "    for x, y in test_loader:\n",
    "        test_l2 = 0\n",
    "        # x, y = x.cuda(), y.cuda()\n",
    "\n",
    "        out = model(x)\n",
    "        pred[index] = out\n",
    "\n",
    "        test_l2 += myloss(out.view(1, -1), y.view(1, -1)).item()\n",
    "        print(index, test_l2)\n",
    "        index = index + 1"
   ],
   "metadata": {
    "collapsed": false,
    "pycharm": {
     "name": "#%%\n"
    }
   }
  },
  {
   "cell_type": "code",
   "execution_count": 240,
   "outputs": [
    {
     "name": "stderr",
     "output_type": "stream",
     "text": [
      "/Users/jacob/miniconda3/envs/wishart/lib/python3.7/site-packages/ipykernel_launcher.py:8: H5pyDeprecationWarning: The default file mode will change to 'r' (read-only) in h5py 3.0. To suppress this warning, pass the mode you need to h5py.File(), or set the global default h5.get_config().default_file_mode, or set the environment variable H5PY_DEFAULT_READONLY=1. Available modes are: 'r', 'r+', 'w', 'w-'/'x', 'a'. See the docs for details.\n",
      "  \n"
     ]
    },
    {
     "name": "stdout",
     "output_type": "stream",
     "text": [
      "<HDF5 file \"ns_V1e-3_N5000_T50.mat\" (mode r+)>\n",
      "<HDF5 dataset \"u\": shape (50, 64, 64, 5000), type \"<f4\">\n",
      "10 0.0025 100 0.5\n",
      "torch.Size([100, 32, 32, 40, 10])\n",
      "torch.Size([1, 32, 32, 40, 1]) torch.Size([1, 32, 32, 40, 1])\n",
      "torch.Size([100, 32, 32, 40, 1])\n",
      "torch.Size([100, 32, 32, 40, 13])\n"
     ]
    }
   ],
   "source": [],
   "metadata": {
    "collapsed": false,
    "pycharm": {
     "name": "#%%\n"
    }
   }
  },
  {
   "cell_type": "code",
   "execution_count": null,
   "outputs": [],
   "source": [],
   "metadata": {
    "collapsed": false,
    "pycharm": {
     "name": "#%%\n"
    }
   }
  },
  {
   "cell_type": "code",
   "execution_count": null,
   "outputs": [],
   "source": [
    "path = '../../data/ns_V1e-3_N5000_T50.mat'\n",
    "from h5py import File\n",
    "\n",
    "# u shape (50, 64, 64, 5000)\n",
    "# a shape (64, 64, 5000)\n",
    "# t shape (50, 1)\n",
    "\n",
    "f = File(path)\n",
    "print(f)\n",
    "print(f['u'])\n",
    "\n",
    "modes = 4\n",
    "width = 20\n",
    "\n",
    "batch_size = 10\n",
    "batch_size2 = batch_size\n",
    "\n",
    "epochs = 10\n",
    "learning_rate = 0.0025\n",
    "scheduler_step = 100\n",
    "scheduler_gamma = 0.5\n",
    "\n",
    "print(epochs, learning_rate, scheduler_step, scheduler_gamma)\n",
    "\n",
    "\n",
    "runtime = np.zeros(2, )\n",
    "\n",
    "ntrain = 100\n",
    "sub = 1\n",
    "S = 64 // sub\n",
    "T_in = 10\n",
    "T = 40\n",
    "S = 32\n",
    "\n",
    "# train_a = reader.read_field('u')[:ntrain,::sub,::sub,:T_in]\n",
    "# train_u = reader.read_field('u')[:ntrain,::sub,::sub,T_in:T+T_in]\n",
    "train_a = torch.rand((100, 32, 32, 50))[:, :, :, :T_in]\n",
    "train_a = train_a.reshape(ntrain,S,S,1,T_in).repeat([1,1,1,T,1])\n",
    "print(train_a.shape)\n",
    "# pad locations (x,y,t)\n",
    "gridx = torch.tensor(np.linspace(0, 1, S), dtype=torch.float)\n",
    "# 32\n",
    "gridx = gridx.reshape(1, S, 1, 1, 1).repeat([1, 1, S, T, 1])\n",
    "# 1, 32, 32, 40, 1 (1, S, S, T, 1)\n",
    "gridy = torch.tensor(np.linspace(0, 1, S), dtype=torch.float)\n",
    "gridy = gridy.reshape(1, 1, S, 1, 1).repeat([1, S, 1, T, 1])\n",
    "gridt = torch.tensor(np.linspace(0, 1, T+1)[1:], dtype=torch.float)\n",
    "gridt = gridt.reshape(1, 1, 1, T, 1).repeat([1, S, S, 1, 1])\n",
    "# (1, S, S, T, 1)\n",
    "print(gridt.shape, gridx.shape)\n",
    "# for t in range(10):\n",
    "#     plt.figure()\n",
    "#     plt.imshow(gridy.squeeze()[:, :, t])\n",
    "print(gridx.repeat([ntrain,1,1,1,1]).shape)\n",
    "train_a = torch.cat((gridx.repeat([ntrain,1,1,1,1]), gridy.repeat([ntrain,1,1,1,1]),\n",
    "                       gridt.repeat([ntrain,1,1,1,1]), train_a), dim=-1)\n",
    "print(train_a.shape)"
   ],
   "metadata": {
    "collapsed": false,
    "pycharm": {
     "name": "#%%\n"
    }
   }
  },
  {
   "cell_type": "code",
   "execution_count": 38,
   "outputs": [
    {
     "name": "stdout",
     "output_type": "stream",
     "text": [
      "torch.Size([100, 32, 32, 40, 13])\n"
     ]
    }
   ],
   "source": [
    "\n"
   ],
   "metadata": {
    "collapsed": false,
    "pycharm": {
     "name": "#%%\n"
    }
   }
  },
  {
   "cell_type": "code",
   "execution_count": null,
   "outputs": [],
   "source": [
    "# This part checks our complex multiplication code:\n",
    "def compl_mul1d(a, b):\n",
    "    # (batch, in_channel, x ), (in_channel, out_channel, x) -> (batch, out_channel, x)\n",
    "    op = partial(torch.einsum, \"bix,iox->box\")\n",
    "    return torch.stack([\n",
    "        op(a[..., 0], b[..., 0]) - op(a[..., 1], b[..., 1]),\n",
    "        op(a[..., 1], b[..., 0]) + op(a[..., 0], b[..., 1])\n",
    "    ], dim=-1)\n",
    "\n",
    "weights1_sep = torch.rand(20, 20, 4, 2)\n",
    "weights1_sep = torch.rand(64, 64, 4, 2)\n",
    "weights1 = weights1_sep[:, :, :, 0] + weights1_sep[:, :, :, 1] * 1j\n",
    "x = torch.randn((15, 20, 11))\n",
    "x = torch.randn((100, 64, 1024))\n",
    "print(x.shape)"
   ],
   "metadata": {
    "collapsed": false,
    "pycharm": {
     "name": "#%%\n"
    }
   }
  },
  {
   "cell_type": "code",
   "execution_count": null,
   "outputs": [],
   "source": [
    "x_ft = torch.fft.rfft(x)\n",
    "x_ft_sep = torch.stack([\n",
    "    torch.real(x_ft),\n",
    "    torch.imag(x_ft)\n",
    "    ], dim=-1)\n",
    "print(x_ft_sep.shape)"
   ],
   "metadata": {
    "collapsed": false,
    "pycharm": {
     "name": "#%%\n"
    }
   }
  },
  {
   "cell_type": "code",
   "execution_count": null,
   "outputs": [],
   "source": [
    "mul2 = compl_mul1d(x_ft_sep[:, :, :4], weights1_sep)\n",
    "print(mul2)"
   ],
   "metadata": {
    "collapsed": false,
    "pycharm": {
     "name": "#%%\n"
    }
   }
  },
  {
   "cell_type": "code",
   "execution_count": null,
   "outputs": [],
   "source": [
    "op = partial(torch.einsum, \"bix,iox->box\")\n",
    "    # return torch.stack([\n",
    "    #     op(a[..., 0], b[..., 0]) - op(a[..., 1], b[..., 1]),\n",
    "    #     op(a[..., 1], b[..., 0]) + op(a[..., 0], b[..., 1])\n",
    "    # ], dim=-1)\n",
    "\n",
    "A = x_ft[:, :, :4]#.unsqueeze(1)\n",
    "B = weights1#.unsqueeze(0)\n",
    "print(A.shape, B.shape)\n",
    "print(A.type())\n",
    "# print(B.type(torch.complex64))\n",
    "mul = op(A, B.type(torch.complex64))\n",
    "# mul = torch.matmul(A, B)\n",
    "print(mul.shape, mul2.shape)\n",
    "\n",
    "print(mul2[where])\n",
    "\n"
   ],
   "metadata": {
    "collapsed": false,
    "pycharm": {
     "name": "#%%\n"
    }
   }
  },
  {
   "cell_type": "code",
   "execution_count": null,
   "outputs": [],
   "source": [
    "ntrain = 1000\n",
    "ntest = 100\n",
    "\n",
    "sub = 2**3 #subsampling rate\n",
    "h = 2**13 // sub #total grid size divided by the subsampling rate\n",
    "s = h\n",
    "\n",
    "batch_size = 20\n",
    "learning_rate = 0.001\n",
    "\n",
    "grid = np.linspace(0, 2*np.pi, s).reshape(1, s, 1)\n",
    "grid = torch.tensor(grid, dtype=torch.float)\n",
    "x_train = torch.randn(ntrain, s, 1)\n",
    "x_train = torch.cat([x_train.reshape(ntrain,s,1), grid.repeat(ntrain,1,1)], dim=2)\n",
    "\n",
    "modes = 16\n",
    "width = 64\n",
    "print(x_train.shape)\n",
    "x = Linear(2, width)(x_train).permute(0, 2, 1)\n",
    "print(x.shape)"
   ],
   "metadata": {
    "collapsed": false,
    "pycharm": {
     "name": "#%%\n"
    }
   }
  }
 ],
 "metadata": {
  "kernelspec": {
   "display_name": "Python 3",
   "language": "python",
   "name": "python3"
  },
  "language_info": {
   "codemirror_mode": {
    "name": "ipython",
    "version": 2
   },
   "file_extension": ".py",
   "mimetype": "text/x-python",
   "name": "python",
   "nbconvert_exporter": "python",
   "pygments_lexer": "ipython2",
   "version": "2.7.6"
  }
 },
 "nbformat": 4,
 "nbformat_minor": 0
}