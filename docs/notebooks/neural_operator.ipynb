{
 "cells": [
  {
   "cell_type": "code",
   "execution_count": 3,
   "metadata": {
    "collapsed": true
   },
   "outputs": [],
   "source": [
    "import operator\n",
    "import numpy as np\n",
    "import torch\n",
    "import torch.nn.functional as F\n",
    "\n",
    "from torch.nn import Module, Conv1d, Linear\n",
    "from torch.nn.parameter import Parameter\n",
    "from torch.utils.data import DataLoader, TensorDataset\n",
    "\n",
    "from functools import reduce, partial\n",
    "from matplotlib import pyplot as plt\n",
    "\n",
    "from lafomo.datasets import ToyTimeSeries, ToySpatialTranscriptomics"
   ]
  },
  {
   "cell_type": "code",
   "execution_count": 66,
   "outputs": [
    {
     "name": "stdout",
     "output_type": "stream",
     "text": [
      "(84050, 4)\n",
      "(1681, 4)\n",
      "torch.Size([45, 41, 41, 1]) hi\n",
      "torch.Size([45, 41, 41, 3]) torch.Size([5, 41, 41, 3])\n",
      "torch.float32 torch.float32\n"
     ]
    },
    {
     "name": "stderr",
     "output_type": "stream",
     "text": [
      "/Users/jacob/miniconda3/envs/wishart/lib/python3.7/site-packages/ipykernel_launcher.py:39: UserWarning: To copy construct from a tensor, it is recommended to use sourceTensor.clone().detach() or sourceTensor.clone().detach().requires_grad_(True), rather than torch.tensor(sourceTensor).\n"
     ]
    },
    {
     "data": {
      "text/plain": "<Figure size 720x360 with 2 Axes>",
      "image/png": "[encoded data removed]"
     },
     "metadata": {},
     "output_type": "display_data"
    }
   ],
   "source": [
    "from lafomo.utilities.torch import get_image\n",
    "from lafomo.plot import Plotter, plot_spatiotemporal_data\n",
    "\n",
    "dataset = ToySpatialTranscriptomics('../../data', one_fixed_sample=False)\n",
    "\n",
    "i = 49\n",
    "orig_data = dataset.orig_data[1681*(i):1681*(i+1)]\n",
    "print(orig_data.shape)\n",
    "images = [get_image(orig_data, i) for i in range(2, 4)]\n",
    "tx = dataset.data[0][0]\n",
    "num_t = tx[0, :].unique().shape[0]\n",
    "num_x = tx[1, :].unique().shape[0]\n",
    "\n",
    "ts = tx[0, :].unique().sort()[0].numpy()\n",
    "xs = tx[1, :].unique().sort()[0].numpy()\n",
    "extent = [ts[0], ts[-1], xs[0], xs[-1]]\n",
    "\n",
    "plot_spatiotemporal_data(\n",
    "    [torch.tensor(orig_data[:, 2]).view(num_t, num_x).t()],\n",
    "    extent, nrows=1, ncols=1\n",
    ")\n",
    "\n",
    "ntrain = 45\n",
    "ntest = 5\n",
    "block_dim = 2\n",
    "batch_size = 45\n",
    "learning_rate = 0.001\n",
    "\n",
    "epochs = 500\n",
    "step_size = 100\n",
    "gamma = 0.5\n",
    "\n",
    "modes = 12\n",
    "width = 32\n",
    "s = 41\n",
    "\n",
    "tx, _ = dataset.data[0]\n",
    "grid = tx.t()\n",
    "grid = torch.tensor(grid.reshape(1,s,s,2), dtype=torch.float)\n",
    "\n",
    "data = torch.tensor(dataset.orig_data.reshape(len(dataset), s, s, 4), dtype=torch.float)\n",
    "y_train = data[:ntrain, ..., 2:3]\n",
    "x_train = data[:ntrain, ..., 3]\n",
    "y_test = data[ntrain:, ..., 2:3]\n",
    "x_test = data[ntrain:, ..., 3]\n",
    "\n",
    "x_train = torch.cat([x_train.reshape(ntrain,s,s,1), grid.repeat(ntrain,1,1,1)], dim=3)\n",
    "x_test = torch.cat([x_test.reshape(ntest,s,s,1), grid.repeat(ntest,1,1,1)], dim=3)\n",
    "print(x_train.shape, x_test.shape)\n",
    "print(x_train.dtype, x_test.dtype)\n",
    "train_loader = DataLoader(torch.utils.data.TensorDataset(x_train, y_train),\n",
    "                          batch_size=batch_size, shuffle=True)\n",
    "test_loader = DataLoader(torch.utils.data.TensorDataset(x_test, y_test),\n",
    "                          batch_size=ntest, shuffle=False)"
   ],
   "metadata": {
    "collapsed": false,
    "pycharm": {
     "name": "#%%\n"
    }
   }
  },
  {
   "cell_type": "code",
   "execution_count": 20,
   "outputs": [],
   "source": [
    "num_outputs = 10\n",
    "basal_rate = 0.1 + 0.3 * torch.rand(torch.Size([num_outputs, 1]), dtype=torch.float32)\n",
    "sensitivity = 2 + 5 * torch.rand(torch.Size([num_outputs, 1]), dtype=torch.float32)\n",
    "decay_rate = 0.2 + 2 * torch.rand(torch.Size([num_outputs, 1]), dtype=torch.float32)\n"
   ],
   "metadata": {
    "collapsed": false,
    "pycharm": {
     "name": "#%%\n"
    }
   }
  },
  {
   "cell_type": "code",
   "execution_count": 3,
   "outputs": [],
   "source": [
    "ntrain = 15\n",
    "ntest = 5\n",
    "learning_rate = 1e-3\n",
    "batch_size = ntrain\n",
    "\n",
    "datasets = list()\n",
    "for i in range(ntrain + ntest):\n",
    "    dataset = ToyTimeSeries(num_outputs, 1, 10, params=[basal_rate, sensitivity, decay_rate], plot=False)\n",
    "    datasets.append(dataset)"
   ],
   "metadata": {
    "collapsed": false,
    "pycharm": {
     "name": "#%%\n"
    }
   }
  },
  {
   "cell_type": "code",
   "execution_count": 24,
   "outputs": [
    {
     "name": "stdout",
     "output_type": "stream",
     "text": [
      "y torch.Size([15, 11, 1])\n",
      "x torch.Size([15, 11, 11])\n"
     ]
    }
   ],
   "source": [
    "x_train = torch.cat([dataset.m_observed for dataset in datasets[:ntrain]]).permute(0, 2, 1)\n",
    "x_test = torch.cat([dataset.m_observed for dataset in datasets[ntrain:]]).permute(0, 2, 1)\n",
    "T_in = 11\n",
    "grid = datasets[0].t_observed.reshape(1, -1, 1).repeat(ntrain, 1, 1) # (1, 32, 32, 40, 1)\n",
    "grid_test = datasets[0].t_observed.reshape(1, -1, 1).repeat(ntest, 1, 1) # (1, 32, 32, 40, 1)\n",
    "\n",
    "x_train = torch.cat([grid, x_train], dim=-1)\n",
    "x_test = torch.cat([grid_test, x_test], dim=-1)\n",
    "y_train = torch.cat([dataset.f_observed for dataset in datasets[:ntrain]]).permute(0, 2, 1)\n",
    "y_test = torch.cat([dataset.f_observed for dataset in datasets[ntrain:]]).permute(0, 2, 1)\n",
    "print('y', y_train.shape)\n",
    "print('x', x_train.shape)\n",
    "\n",
    "train_loader = DataLoader(torch.utils.data.TensorDataset(x_train, y_train),\n",
    "                          batch_size=batch_size, shuffle=True)\n",
    "test_loader = DataLoader(torch.utils.data.TensorDataset(x_test, y_test),\n",
    "                          batch_size=ntest, shuffle=True)\n"
   ],
   "metadata": {
    "collapsed": false,
    "pycharm": {
     "name": "#%%\n"
    }
   }
  },
  {
   "cell_type": "code",
   "execution_count": 73,
   "outputs": [],
   "source": [
    "from lafomo.nn import SpectralConv1d, LpLoss\n",
    "from torch.nn import Conv2d\n",
    "\n",
    "\n",
    "from lafomo.nn import SimpleBlock1d\n"
   ],
   "metadata": {
    "collapsed": false,
    "pycharm": {
     "name": "#%%\n"
    }
   }
  },
  {
   "cell_type": "code",
   "execution_count": 74,
   "outputs": [
    {
     "name": "stdout",
     "output_type": "stream",
     "text": [
      "55777\n"
     ]
    }
   ],
   "source": [
    "width = 20\n",
    "modes = 4\n",
    "model = OperatorModel(block_dim, modes, width)\n",
    "print(model.count_params())"
   ],
   "metadata": {
    "collapsed": false,
    "pycharm": {
     "name": "#%%\n"
    }
   }
  },
  {
   "cell_type": "code",
   "execution_count": 75,
   "outputs": [],
   "source": [
    "gamma = 0.5\n",
    "step_size = 100\n",
    "optimizer = torch.optim.Adam(model.parameters(), lr=learning_rate, weight_decay=1e-4)\n",
    "scheduler = torch.optim.lr_scheduler.StepLR(optimizer, step_size=step_size, gamma=gamma)\n",
    "myloss = LpLoss(size_average=False)"
   ],
   "metadata": {
    "collapsed": false,
    "pycharm": {
     "name": "#%%\n"
    }
   }
  },
  {
   "cell_type": "code",
   "execution_count": 108,
   "outputs": [
    {
     "name": "stdout",
     "output_type": "stream",
     "text": [
      "Epoch 0/50: MSE (train/test): 0.346 0.086 L2 (train/test): 0.611, 0.629\n",
      "Epoch 1/50: MSE (train/test): 0.345 0.088 L2 (train/test): 0.610, 0.635\n",
      "Epoch 2/50: MSE (train/test): 0.343 0.087 L2 (train/test): 0.608, 0.633\n",
      "Epoch 3/50: MSE (train/test): 0.341 0.086 L2 (train/test): 0.607, 0.631\n",
      "Epoch 4/50: MSE (train/test): 0.340 0.088 L2 (train/test): 0.605, 0.636\n",
      "Epoch 5/50: MSE (train/test): 0.338 0.086 L2 (train/test): 0.604, 0.629\n",
      "Epoch 6/50: MSE (train/test): 0.337 0.087 L2 (train/test): 0.603, 0.635\n",
      "Epoch 7/50: MSE (train/test): 0.335 0.085 L2 (train/test): 0.601, 0.629\n",
      "Epoch 8/50: MSE (train/test): 0.334 0.086 L2 (train/test): 0.599, 0.632\n",
      "Epoch 9/50: MSE (train/test): 0.332 0.086 L2 (train/test): 0.598, 0.631\n",
      "Epoch 10/50: MSE (train/test): 0.330 0.085 L2 (train/test): 0.597, 0.629\n",
      "Epoch 11/50: MSE (train/test): 0.329 0.086 L2 (train/test): 0.595, 0.633\n",
      "Epoch 12/50: MSE (train/test): 0.327 0.085 L2 (train/test): 0.594, 0.628\n",
      "Epoch 13/50: MSE (train/test): 0.326 0.087 L2 (train/test): 0.593, 0.636\n",
      "Epoch 14/50: MSE (train/test): 0.325 0.084 L2 (train/test): 0.591, 0.626\n",
      "Epoch 15/50: MSE (train/test): 0.324 0.087 L2 (train/test): 0.590, 0.636\n",
      "Epoch 16/50: MSE (train/test): 0.322 0.084 L2 (train/test): 0.589, 0.627\n",
      "Epoch 17/50: MSE (train/test): 0.320 0.085 L2 (train/test): 0.587, 0.631\n",
      "Epoch 18/50: MSE (train/test): 0.318 0.085 L2 (train/test): 0.586, 0.630\n",
      "Epoch 19/50: MSE (train/test): 0.317 0.084 L2 (train/test): 0.584, 0.626\n",
      "Epoch 20/50: MSE (train/test): 0.316 0.086 L2 (train/test): 0.583, 0.634\n",
      "Epoch 21/50: MSE (train/test): 0.314 0.083 L2 (train/test): 0.582, 0.625\n",
      "Epoch 22/50: MSE (train/test): 0.313 0.085 L2 (train/test): 0.581, 0.632\n",
      "Epoch 23/50: MSE (train/test): 0.311 0.084 L2 (train/test): 0.579, 0.628\n",
      "Epoch 24/50: MSE (train/test): 0.309 0.084 L2 (train/test): 0.577, 0.628\n",
      "Epoch 25/50: MSE (train/test): 0.308 0.085 L2 (train/test): 0.576, 0.631\n",
      "Epoch 26/50: MSE (train/test): 0.307 0.082 L2 (train/test): 0.575, 0.624\n",
      "Epoch 27/50: MSE (train/test): 0.305 0.085 L2 (train/test): 0.574, 0.632\n",
      "Epoch 28/50: MSE (train/test): 0.304 0.083 L2 (train/test): 0.573, 0.624\n",
      "Epoch 29/50: MSE (train/test): 0.303 0.085 L2 (train/test): 0.571, 0.631\n",
      "Epoch 30/50: MSE (train/test): 0.301 0.083 L2 (train/test): 0.570, 0.627\n",
      "Epoch 31/50: MSE (train/test): 0.299 0.084 L2 (train/test): 0.568, 0.627\n",
      "Epoch 32/50: MSE (train/test): 0.298 0.084 L2 (train/test): 0.567, 0.630\n",
      "Epoch 33/50: MSE (train/test): 0.297 0.083 L2 (train/test): 0.566, 0.625\n",
      "Epoch 34/50: MSE (train/test): 0.295 0.085 L2 (train/test): 0.564, 0.632\n",
      "Epoch 35/50: MSE (train/test): 0.294 0.083 L2 (train/test): 0.563, 0.625\n",
      "Epoch 36/50: MSE (train/test): 0.293 0.086 L2 (train/test): 0.562, 0.635\n",
      "Epoch 37/50: MSE (train/test): 0.292 0.083 L2 (train/test): 0.561, 0.625\n",
      "Epoch 38/50: MSE (train/test): 0.290 0.085 L2 (train/test): 0.560, 0.634\n",
      "Epoch 39/50: MSE (train/test): 0.289 0.084 L2 (train/test): 0.558, 0.629\n",
      "Epoch 40/50: MSE (train/test): 0.287 0.084 L2 (train/test): 0.557, 0.630\n",
      "Epoch 41/50: MSE (train/test): 0.287 0.085 L2 (train/test): 0.556, 0.633\n",
      "Epoch 42/50: MSE (train/test): 0.286 0.085 L2 (train/test): 0.555, 0.633\n",
      "Epoch 43/50: MSE (train/test): 0.285 0.085 L2 (train/test): 0.555, 0.631\n",
      "Epoch 44/50: MSE (train/test): 0.285 0.085 L2 (train/test): 0.554, 0.632\n",
      "Epoch 45/50: MSE (train/test): 0.284 0.086 L2 (train/test): 0.553, 0.635\n",
      "Epoch 46/50: MSE (train/test): 0.283 0.086 L2 (train/test): 0.553, 0.635\n",
      "Epoch 47/50: MSE (train/test): 0.282 0.085 L2 (train/test): 0.552, 0.633\n",
      "Epoch 48/50: MSE (train/test): 0.282 0.085 L2 (train/test): 0.551, 0.634\n",
      "Epoch 49/50: MSE (train/test): 0.281 0.086 L2 (train/test): 0.551, 0.635\n"
     ]
    }
   ],
   "source": [
    "epochs = 50\n",
    "\n",
    "for ep in range(epochs):\n",
    "    model.train()\n",
    "    train_mse = 0\n",
    "    train_l2 = 0\n",
    "    for x, y in train_loader:\n",
    "        # x, y = x.cuda(), y.cuda()\n",
    "\n",
    "        optimizer.zero_grad()\n",
    "        out = model(x)\n",
    "\n",
    "        mse = F.mse_loss(out, y, reduction='mean')\n",
    "        # mse.backward()\n",
    "        l2 = myloss(out.view(batch_size, -1), y.view(batch_size, -1))\n",
    "        l2.backward() # use the l2 relative loss\n",
    "\n",
    "        optimizer.step()\n",
    "        train_mse += mse.item()\n",
    "        train_l2 += l2.item()\n",
    "\n",
    "    scheduler.step()\n",
    "    model.eval()\n",
    "    test_l2 = 0.0\n",
    "    test_mse = 0.0\n",
    "    with torch.no_grad():\n",
    "        for x, y in test_loader:\n",
    "            # x, y = x.cuda(), y.cuda()\n",
    "\n",
    "            out = model(x)\n",
    "            test_mse += F.mse_loss(out, y, reduction='mean')\n",
    "            test_l2 += myloss(\n",
    "                out.view(test_loader.batch_size, -1), y.view(test_loader.batch_size, -1)).item()\n",
    "\n",
    "    train_mse /= len(train_loader)\n",
    "    train_l2 /= ntrain\n",
    "    test_l2 /= ntest\n",
    "    test_mse /= ntest\n",
    "\n",
    "    print(f'Epoch {ep}/{epochs}: MSE (train/test): {train_mse:.03f} {test_mse:.03f} L2 (train/test): {train_l2:.03f}, {test_l2:.03f}')"
   ],
   "metadata": {
    "collapsed": false,
    "pycharm": {
     "name": "#%%\n"
    }
   }
  },
  {
   "cell_type": "code",
   "execution_count": 109,
   "outputs": [
    {
     "name": "stdout",
     "output_type": "stream",
     "text": [
      "torch.Size([5, 41, 41, 3]) torch.Size([5, 41, 41, 1])\n",
      "torch.Size([5, 41, 41, 1])\n",
      "torch.Size([5, 41, 41, 3])\n"
     ]
    },
    {
     "data": {
      "text/plain": "<Figure size 720x360 with 6 Axes>",
      "image/png": "[encoded data removed]"
     },
     "metadata": {},
     "output_type": "display_data"
    }
   ],
   "source": [
    "x, y = next(iter(test_loader))\n",
    "print(x.shape, y.shape)\n",
    "out = model(x)\n",
    "print(out.shape)\n",
    "\n",
    "if block_dim == 1:\n",
    "    fig, axes = plt.subplots(ncols=2, figsize=(8, 3))\n",
    "    for i in range(1, 5):\n",
    "        axes[0].plot(x[0, :, i])#.shape, y.shape)\n",
    "    axes[1].plot(y[0, :, 0])\n",
    "    axes[1].plot(out[0, :, 0].detach())\n",
    "else:\n",
    "    #axes[0].imshow(x[0, ..., 0])\n",
    "    print(x.shape)\n",
    "    plot_spatiotemporal_data(\n",
    "        [\n",
    "            out[0, ..., 0].detach().view(num_t, num_x).t(),\n",
    "            y[0, ..., 0].view(num_t, num_x).t(),\n",
    "            x[0, ..., 0].view(num_t, num_x).t()\n",
    "        ],\n",
    "        extent, nrows=1, ncols=3,\n",
    "        titles=['Latent (Prediction)', 'Latent (Target)', 'Output (Target)']\n",
    "    )"
   ],
   "metadata": {
    "collapsed": false,
    "pycharm": {
     "name": "#%%\n"
    }
   }
  },
  {
   "cell_type": "code",
   "execution_count": null,
   "outputs": [],
   "source": [
    "dataset = ToySpatialTranscriptomics('../../data', one_fixed_sample=False)"
   ],
   "metadata": {
    "collapsed": false,
    "pycharm": {
     "name": "#%%\n"
    }
   }
  },
  {
   "cell_type": "code",
   "execution_count": 310,
   "outputs": [
    {
     "ename": "NameError",
     "evalue": "name 'test_loader' is not defined",
     "output_type": "error",
     "traceback": [
      "\u001B[0;31m---------------------------------------------------------------------------\u001B[0m",
      "\u001B[0;31mNameError\u001B[0m                                 Traceback (most recent call last)",
      "\u001B[0;32m<ipython-input-310-38d4f3513f62>\u001B[0m in \u001B[0;36m<module>\u001B[0;34m\u001B[0m\n\u001B[1;32m      4\u001B[0m \u001B[0;31m# test_loader = torch.utils.data.DataLoader(torch.utils.data.TensorDataset(x_test, y_test), batch_size=1, shuffle=False)\u001B[0m\u001B[0;34m\u001B[0m\u001B[0;34m\u001B[0m\u001B[0;34m\u001B[0m\u001B[0m\n\u001B[1;32m      5\u001B[0m \u001B[0;32mwith\u001B[0m \u001B[0mtorch\u001B[0m\u001B[0;34m.\u001B[0m\u001B[0mno_grad\u001B[0m\u001B[0;34m(\u001B[0m\u001B[0;34m)\u001B[0m\u001B[0;34m:\u001B[0m\u001B[0;34m\u001B[0m\u001B[0;34m\u001B[0m\u001B[0m\n\u001B[0;32m----> 6\u001B[0;31m     \u001B[0;32mfor\u001B[0m \u001B[0mx\u001B[0m\u001B[0;34m,\u001B[0m \u001B[0my\u001B[0m \u001B[0;32min\u001B[0m \u001B[0mtest_loader\u001B[0m\u001B[0;34m:\u001B[0m\u001B[0;34m\u001B[0m\u001B[0;34m\u001B[0m\u001B[0m\n\u001B[0m\u001B[1;32m      7\u001B[0m         \u001B[0mtest_l2\u001B[0m \u001B[0;34m=\u001B[0m \u001B[0;36m0\u001B[0m\u001B[0;34m\u001B[0m\u001B[0;34m\u001B[0m\u001B[0m\n\u001B[1;32m      8\u001B[0m         \u001B[0;31m# x, y = x.cuda(), y.cuda()\u001B[0m\u001B[0;34m\u001B[0m\u001B[0;34m\u001B[0m\u001B[0;34m\u001B[0m\u001B[0m\n",
      "\u001B[0;31mNameError\u001B[0m: name 'test_loader' is not defined"
     ]
    }
   ],
   "source": [
    "# torch.save(model, 'model/ns_fourier_burgers_8192')\n",
    "pred = torch.zeros(y_train.shape)\n",
    "index = 0\n",
    "# test_loader = torch.utils.data.DataLoader(torch.utils.data.TensorDataset(x_test, y_test), batch_size=1, shuffle=False)\n",
    "with torch.no_grad():\n",
    "    for x, y in test_loader:\n",
    "        test_l2 = 0\n",
    "        # x, y = x.cuda(), y.cuda()\n",
    "\n",
    "        out = model(x)\n",
    "        pred[index] = out\n",
    "\n",
    "        test_l2 += myloss(out.view(1, -1), y.view(1, -1)).item()\n",
    "        print(index, test_l2)\n",
    "        index = index + 1"
   ],
   "metadata": {
    "collapsed": false,
    "pycharm": {
     "name": "#%%\n"
    }
   }
  },
  {
   "cell_type": "code",
   "execution_count": 240,
   "outputs": [
    {
     "name": "stderr",
     "output_type": "stream",
     "text": [
      "/Users/jacob/miniconda3/envs/wishart/lib/python3.7/site-packages/ipykernel_launcher.py:8: H5pyDeprecationWarning: The default file mode will change to 'r' (read-only) in h5py 3.0. To suppress this warning, pass the mode you need to h5py.File(), or set the global default h5.get_config().default_file_mode, or set the environment variable H5PY_DEFAULT_READONLY=1. Available modes are: 'r', 'r+', 'w', 'w-'/'x', 'a'. See the docs for details.\n",
      "  \n"
     ]
    },
    {
     "name": "stdout",
     "output_type": "stream",
     "text": [
      "<HDF5 file \"ns_V1e-3_N5000_T50.mat\" (mode r+)>\n",
      "<HDF5 dataset \"u\": shape (50, 64, 64, 5000), type \"<f4\">\n",
      "10 0.0025 100 0.5\n",
      "torch.Size([100, 32, 32, 40, 10])\n",
      "torch.Size([1, 32, 32, 40, 1]) torch.Size([1, 32, 32, 40, 1])\n",
      "torch.Size([100, 32, 32, 40, 1])\n",
      "torch.Size([100, 32, 32, 40, 13])\n"
     ]
    }
   ],
   "source": [],
   "metadata": {
    "collapsed": false,
    "pycharm": {
     "name": "#%%\n"
    }
   }
  },
  {
   "cell_type": "code",
   "execution_count": null,
   "outputs": [],
   "source": [],
   "metadata": {
    "collapsed": false,
    "pycharm": {
     "name": "#%%\n"
    }
   }
  },
  {
   "cell_type": "code",
   "execution_count": null,
   "outputs": [],
   "source": [
    "path = '../../data/ns_V1e-3_N5000_T50.mat'\n",
    "from h5py import File\n",
    "\n",
    "# u shape (50, 64, 64, 5000)\n",
    "# a shape (64, 64, 5000)\n",
    "# t shape (50, 1)\n",
    "\n",
    "f = File(path)\n",
    "print(f)\n",
    "print(f['u'])\n",
    "\n",
    "modes = 4\n",
    "width = 20\n",
    "\n",
    "batch_size = 10\n",
    "batch_size2 = batch_size\n",
    "\n",
    "epochs = 10\n",
    "learning_rate = 0.0025\n",
    "scheduler_step = 100\n",
    "scheduler_gamma = 0.5\n",
    "\n",
    "print(epochs, learning_rate, scheduler_step, scheduler_gamma)\n",
    "\n",
    "\n",
    "runtime = np.zeros(2, )\n",
    "\n",
    "ntrain = 100\n",
    "sub = 1\n",
    "S = 64 // sub\n",
    "T_in = 10\n",
    "T = 40\n",
    "S = 32\n",
    "\n",
    "# train_a = reader.read_field('u')[:ntrain,::sub,::sub,:T_in]\n",
    "# train_u = reader.read_field('u')[:ntrain,::sub,::sub,T_in:T+T_in]\n",
    "train_a = torch.rand((100, 32, 32, 50))[:, :, :, :T_in]\n",
    "train_a = train_a.reshape(ntrain,S,S,1,T_in).repeat([1,1,1,T,1])\n",
    "print(train_a.shape)\n",
    "# pad locations (x,y,t)\n",
    "gridx = torch.tensor(np.linspace(0, 1, S), dtype=torch.float)\n",
    "# 32\n",
    "gridx = gridx.reshape(1, S, 1, 1, 1).repeat([1, 1, S, T, 1])\n",
    "# 1, 32, 32, 40, 1 (1, S, S, T, 1)\n",
    "gridy = torch.tensor(np.linspace(0, 1, S), dtype=torch.float)\n",
    "gridy = gridy.reshape(1, 1, S, 1, 1).repeat([1, S, 1, T, 1])\n",
    "gridt = torch.tensor(np.linspace(0, 1, T+1)[1:], dtype=torch.float)\n",
    "gridt = gridt.reshape(1, 1, 1, T, 1).repeat([1, S, S, 1, 1])\n",
    "# (1, S, S, T, 1)\n",
    "print(gridt.shape, gridx.shape)\n",
    "# for t in range(10):\n",
    "#     plt.figure()\n",
    "#     plt.imshow(gridy.squeeze()[:, :, t])\n",
    "print(gridx.repeat([ntrain,1,1,1,1]).shape)\n",
    "train_a = torch.cat((gridx.repeat([ntrain,1,1,1,1]), gridy.repeat([ntrain,1,1,1,1]),\n",
    "                       gridt.repeat([ntrain,1,1,1,1]), train_a), dim=-1)\n",
    "print(train_a.shape)"
   ],
   "metadata": {
    "collapsed": false,
    "pycharm": {
     "name": "#%%\n"
    }
   }
  },
  {
   "cell_type": "code",
   "execution_count": 38,
   "outputs": [
    {
     "name": "stdout",
     "output_type": "stream",
     "text": [
      "torch.Size([100, 32, 32, 40, 13])\n"
     ]
    }
   ],
   "source": [
    "\n"
   ],
   "metadata": {
    "collapsed": false,
    "pycharm": {
     "name": "#%%\n"
    }
   }
  },
  {
   "cell_type": "code",
   "execution_count": null,
   "outputs": [],
   "source": [
    "# This part checks our complex multiplication code:\n",
    "def compl_mul1d(a, b):\n",
    "    # (batch, in_channel, x ), (in_channel, out_channel, x) -> (batch, out_channel, x)\n",
    "    op = partial(torch.einsum, \"bix,iox->box\")\n",
    "    return torch.stack([\n",
    "        op(a[..., 0], b[..., 0]) - op(a[..., 1], b[..., 1]),\n",
    "        op(a[..., 1], b[..., 0]) + op(a[..., 0], b[..., 1])\n",
    "    ], dim=-1)\n",
    "\n",
    "weights1_sep = torch.rand(20, 20, 4, 2)\n",
    "weights1_sep = torch.rand(64, 64, 4, 2)\n",
    "weights1 = weights1_sep[:, :, :, 0] + weights1_sep[:, :, :, 1] * 1j\n",
    "x = torch.randn((15, 20, 11))\n",
    "x = torch.randn((100, 64, 1024))\n",
    "print(x.shape)"
   ],
   "metadata": {
    "collapsed": false,
    "pycharm": {
     "name": "#%%\n"
    }
   }
  },
  {
   "cell_type": "code",
   "execution_count": null,
   "outputs": [],
   "source": [
    "x_ft = torch.fft.rfft(x)\n",
    "x_ft_sep = torch.stack([\n",
    "    torch.real(x_ft),\n",
    "    torch.imag(x_ft)\n",
    "    ], dim=-1)\n",
    "print(x_ft_sep.shape)"
   ],
   "metadata": {
    "collapsed": false,
    "pycharm": {
     "name": "#%%\n"
    }
   }
  },
  {
   "cell_type": "code",
   "execution_count": null,
   "outputs": [],
   "source": [
    "mul2 = compl_mul1d(x_ft_sep[:, :, :4], weights1_sep)\n",
    "print(mul2)"
   ],
   "metadata": {
    "collapsed": false,
    "pycharm": {
     "name": "#%%\n"
    }
   }
  },
  {
   "cell_type": "code",
   "execution_count": null,
   "outputs": [],
   "source": [
    "op = partial(torch.einsum, \"bix,iox->box\")\n",
    "    # return torch.stack([\n",
    "    #     op(a[..., 0], b[..., 0]) - op(a[..., 1], b[..., 1]),\n",
    "    #     op(a[..., 1], b[..., 0]) + op(a[..., 0], b[..., 1])\n",
    "    # ], dim=-1)\n",
    "\n",
    "A = x_ft[:, :, :4]#.unsqueeze(1)\n",
    "B = weights1#.unsqueeze(0)\n",
    "print(A.shape, B.shape)\n",
    "print(A.type())\n",
    "# print(B.type(torch.complex64))\n",
    "mul = op(A, B.type(torch.complex64))\n",
    "# mul = torch.matmul(A, B)\n",
    "print(mul.shape, mul2.shape)\n",
    "\n",
    "print(mul2[where])\n",
    "\n"
   ],
   "metadata": {
    "collapsed": false,
    "pycharm": {
     "name": "#%%\n"
    }
   }
  },
  {
   "cell_type": "code",
   "execution_count": null,
   "outputs": [],
   "source": [
    "ntrain = 1000\n",
    "ntest = 100\n",
    "\n",
    "sub = 2**3 #subsampling rate\n",
    "h = 2**13 // sub #total grid size divided by the subsampling rate\n",
    "s = h\n",
    "\n",
    "batch_size = 20\n",
    "learning_rate = 0.001\n",
    "\n",
    "grid = np.linspace(0, 2*np.pi, s).reshape(1, s, 1)\n",
    "grid = torch.tensor(grid, dtype=torch.float)\n",
    "x_train = torch.randn(ntrain, s, 1)\n",
    "x_train = torch.cat([x_train.reshape(ntrain,s,1), grid.repeat(ntrain,1,1)], dim=2)\n",
    "\n",
    "modes = 16\n",
    "width = 64\n",
    "print(x_train.shape)\n",
    "x = Linear(2, width)(x_train).permute(0, 2, 1)\n",
    "print(x.shape)"
   ],
   "metadata": {
    "collapsed": false,
    "pycharm": {
     "name": "#%%\n"
    }
   }
  }
 ],
 "metadata": {
  "kernelspec": {
   "display_name": "Python 3",
   "language": "python",
   "name": "python3"
  },
  "language_info": {
   "codemirror_mode": {
    "name": "ipython",
    "version": 2
   },
   "file_extension": ".py",
   "mimetype": "text/x-python",
   "name": "python",
   "nbconvert_exporter": "python",
   "pygments_lexer": "ipython2",
   "version": "2.7.6"
  }
 },
 "nbformat": 4,
 "nbformat_minor": 0
}