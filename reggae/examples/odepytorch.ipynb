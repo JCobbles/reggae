{
 "cells": [
  {
   "cell_type": "code",
   "execution_count": 2,
   "metadata": {
    "collapsed": true
   },
   "outputs": [],
   "source": [
    "import torch\n",
    "from torch import nn\n",
    "from torch.nn import functional as F\n",
    "from torchdiffeq import odeint\n",
    "from torch.nn.parameter import Parameter\n",
    "import gpytorch\n",
    "\n",
    "from reggae.data_loaders import load_barenco_puma, DataHolder\n",
    "\n",
    "from matplotlib import pyplot as plt\n",
    "\n",
    "import tensorflow_probability as tfp\n",
    "import numpy as np\n",
    "\n",
    "f64 = np.float64"
   ]
  },
  {
   "cell_type": "code",
   "execution_count": 3,
   "outputs": [
    {
     "name": "stdout",
     "output_type": "stream",
     "text": [
      "torch.Size([3, 5, 7])\n",
      "tensor([[0.0000],\n",
      "        [0.1667],\n",
      "        [0.3333],\n",
      "        [0.5000],\n",
      "        [0.6667],\n",
      "        [0.8333],\n",
      "        [1.0000]], dtype=torch.float64)\n"
     ]
    },
    {
     "data": {
      "text/plain": "[<matplotlib.lines.Line2D at 0x7faddf0cba50>]"
     },
     "execution_count": 3,
     "metadata": {},
     "output_type": "execute_result"
    },
    {
     "data": {
      "text/plain": "<Figure size 432x288 with 1 Axes>",
      "image/png": "[encoded data removed]"
     },
     "metadata": {
      "needs_background": "light"
     },
     "output_type": "display_data"
    }
   ],
   "source": [
    "m_observed, f_observed, σ2_m_pre, σ2_f_pre, t = load_barenco_puma('../data/')\n",
    "\n",
    "m_df, m_observed = m_observed\n",
    "f_df, f_observed = f_observed\n",
    "# Shape of m_observed = (replicates, genes, times)\n",
    "m_observed = torch.tensor(m_observed)\n",
    "f_observed = torch.tensor(f_observed)\n",
    "data = (m_observed, f_observed)\n",
    "\n",
    "σ2_m_pre = f64(σ2_m_pre)\n",
    "σ2_f_pre = f64(σ2_f_pre)\n",
    "noise_data = (σ2_m_pre, σ2_f_pre)\n",
    "\n",
    "print(m_observed.shape)\n",
    "\n",
    "num_genes = m_observed.shape[1]\n",
    "num_tfs = f_observed.shape[1]\n",
    "N_m = m_observed.shape[2]\n",
    "granularity = 100\n",
    "t_start = f64(0)\n",
    "t_end = f64(1)\n",
    "t = torch.linspace(t_start, t_end, granularity, dtype=torch.float64).view((-1, 1))\n",
    "t_inducing = torch.linspace(t_start, t_end, 7, dtype=torch.float64).reshape((-1, 1))\n",
    "print(t_inducing)\n",
    "plt.plot(m_observed[0,0])"
   ],
   "metadata": {
    "collapsed": false,
    "pycharm": {
     "name": "#%%\n"
    }
   }
  },
  {
   "cell_type": "code",
   "execution_count": 4,
   "outputs": [],
   "source": [
    "def positivity_transform(value):\n",
    "    return torch.log(1+torch.exp(value))\n",
    "\n",
    "def plot_genes():\n",
    "    initial_value = torch.zeros((num_genes, 1), dtype=torch.float64) #, dtype=torch.float64\n",
    "    outputs = torch.squeeze(model(t.view(-1), initial_value))\n",
    "    print(outputs.shape)\n",
    "    plt.figure(figsize=(5, 8))\n",
    "    for i in range(num_genes):\n",
    "        plt.subplot(511+i)\n",
    "        plt.plot(t, torch.squeeze(outputs[0]).detach())\n",
    "        plt.scatter(t_inducing, m_observed[0][i])"
   ],
   "metadata": {
    "collapsed": false,
    "pycharm": {
     "name": "#%%\n"
    }
   }
  },
  {
   "cell_type": "code",
   "execution_count": 17,
   "outputs": [],
   "source": [
    "class GP(gpytorch.models.ExactGP):\n",
    "    def __init__(self, train_x, train_y):\n",
    "        super(GP, self).__init__(train_x, train_y, gpytorch.likelihoods.GaussianLikelihood())\n",
    "        self.mean_module = gpytorch.means.ConstantMean()\n",
    "        rbf = gpytorch.kernels.RBFKernel(eps=0.15) # eps is min lengthscale\n",
    "        rbf.lengthscale = f64(0.2)\n",
    "        self.covar_module = gpytorch.kernels.ScaleKernel(rbf)\n",
    "\n",
    "    def forward(self, x):\n",
    "        mean_x = self.mean_module(x)\n",
    "        covar_x = self.covar_module(x)\n",
    "        return gpytorch.distributions.MultivariateNormal(mean_x, covar_x)\n",
    "\n",
    "class ODEModel(nn.Module):\n",
    "    \"\"\"\n",
    "    Description blah\n",
    "    Parameters\n",
    "    ----------\n",
    "    num_genes : int\n",
    "    Number of genes.\n",
    "    num_tfs : int\n",
    "\n",
    "    t_inducing : int\n",
    "    inducing timepoints.\n",
    "    \"\"\"\n",
    "    def __init__(self, num_genes, num_tfs, t_inducing):\n",
    "        super(ODEModel, self).__init__()\n",
    "        self.num_genes = num_genes\n",
    "        self.num_tfs = num_tfs\n",
    "        self.num_inducing = 7\n",
    "        self.inducing_sources = t_inducing\n",
    "\n",
    "        self.decay_rate = Parameter(1*torch.ones((self.num_genes, 1), dtype=torch.float64))\n",
    "        self.basal_rate = Parameter(0.2*torch.ones((self.num_genes, 1), dtype=torch.float64))\n",
    "        self.sensitivity = Parameter(2*torch.ones((self.num_genes, 1), dtype=torch.float64))\n",
    "        self.w = Parameter(torch.ones((self.num_genes, self.num_tfs), dtype=torch.float64))\n",
    "        self.w_0 = Parameter(torch.ones((self.num_tfs), dtype=torch.float64))\n",
    "        variat_mean = torch.rand((self.num_tfs, self.num_inducing), dtype=torch.float64) * 10 - 5\n",
    "        print(variat_mean)\n",
    "        variat_var = torch.eye(self.num_inducing, dtype=torch.float64).view(1, self.num_inducing, self.num_inducing)\n",
    "        variat_var = variat_var.repeat(self.num_tfs, 1, 1)\n",
    "        self.variat_mean = Parameter(variat_mean)\n",
    "        self.variat_var = Parameter(variat_var)\n",
    "        self.inducing_targets = 3+Parameter(torch.randn(self.num_inducing, dtype=torch.float64))\n",
    "        self.gp = GP(self.inducing_sources.view(-1), self.inducing_targets)\n",
    "        self.nfe = 0\n",
    "\n",
    "    def forward(self, t, h):\n",
    "        \"\"\"\n",
    "        t : torch.Tensor\n",
    "            Shape (num_times)\n",
    "        h : torch.Tensor the initial state of the ODE\n",
    "            Shape (num_genes, 1)\n",
    "        Returns\n",
    "        -------\n",
    "        Returns evolved h across times t.\n",
    "        Shape (num_genes, num_points).\n",
    "        \"\"\"\n",
    "        self.nfe = 0\n",
    "        num_times = t.size()\n",
    "\n",
    "        # 1: Likelihood step: Sample from variational distribution\n",
    "        q = torch.distributions.multivariate_normal.MultivariateNormal(self.variat_mean, self.variat_var)\n",
    "        self.tfs_sample = q.sample() # shape (num_tfs, num_times)\n",
    "        print('sample shape', self.tfs_sample.shape)\n",
    "\n",
    "        # Integrate forward from the batch of initial positions z.\n",
    "        h = odeint(self.odefunc, h, t, method='dopri5') # shape (num_genes, num_times, 1\n",
    "\n",
    "        # 2: KL terms:\n",
    "        μ = torch.zeros((self.num_tfs, self.num_inducing), dtype=torch.float64)\n",
    "        K = self.gp.covar_module(self.inducing_sources)\n",
    "        p = torch.distributions.multivariate_normal.MultivariateNormal(μ, K)\n",
    "        kl = torch.distributions.kl.kl_divergence(p, q)\n",
    "        print(kl)\n",
    "        return torch.transpose(h, 0, 1), kl\n",
    "\n",
    "    def odefunc(self, t, h):\n",
    "        self.nfe += 1\n",
    "        # print(t)\n",
    "        print(h.shape, self.decay_rate.shape)\n",
    "        # h is of shape (num_genes, 1)\n",
    "        decay = torch.multiply(self.decay_rate.view(-1), h.view(-1)).view(-1, 1)\n",
    "\n",
    "        # p = self.get_tfs(t)\n",
    "        p = self.tfs_sample\n",
    "        # print(p.shape)\n",
    "        Gp = self.G(p)\n",
    "        # print(Gp.shape)\n",
    "        # print(self.basal_rate, Gp, decay)\n",
    "\n",
    "        return self.basal_rate + self.sensitivity * Gp - decay\n",
    "\n",
    "    # def get_tfs(self, at):\n",
    "    #     self.gp.set_train_data(self.inducing_sources, self.inducing_targets)\n",
    "    #     f_mvn = self.gp(self.inducing_sources) #\n",
    "    #\n",
    "    #     self.gp.eval() # activate posterior mode (calls to gp() will be posterior predictive)\n",
    "    #\n",
    "    #     # print(at.shape, self.inducing_targets.shape)\n",
    "    #     inputs = torch.cat([self.inducing_targets, at.view(-1)])\n",
    "    #     # f_mvn = self.gp(at.view(-1))\n",
    "    #     f_mvn = self.gp(inputs)\n",
    "    #     # print(f_mvn.mean.shape)\n",
    "    #\n",
    "    #     self.gp.train()\n",
    "    #\n",
    "    #     return torch.unsqueeze(f_mvn.mean[-1], 0) #TODO support multi tfs, in which case the 0 dim is num_tfs\n",
    "\n",
    "    def G(self, p):\n",
    "        # p_pos = positivity_transform(p)\n",
    "        # interactions = torch.matmul(self.w, torch.log(p_pos+1e-50)) + self.w_0 #(TODO)\n",
    "        # return torch.sigmoid(interactions) # TF Activation Function (sigmoid)\n",
    "        return p\n",
    "\n",
    "    def latent(self, t):\n",
    "        self.gp.eval()\n",
    "        f_mvn = self.gp(t)\n",
    "        return positivity_transform(f_mvn.mean)\n",
    "\n",
    "    def train(self, mode=True):\n",
    "        self.gp.train(mode)\n",
    "        self.gp.likelihood.train(mode)\n",
    "        super().train(mode)"
   ],
   "metadata": {
    "collapsed": false,
    "pycharm": {
     "name": "#%%\n"
    }
   }
  },
  {
   "cell_type": "code",
   "execution_count": 18,
   "outputs": [],
   "source": [
    "def train(optimizer, loss_fn, epochs=10):\n",
    "    basalrates = list()\n",
    "    decayrates = list()\n",
    "    lengthscales = list()\n",
    "    plt.figure()\n",
    "    plt.plot(t_inducing, m_observed[0,0], label='real')\n",
    "\n",
    "    for epoch in range(epochs):\n",
    "        optimizer.zero_grad()\n",
    "        # Output from model\n",
    "        initial_value = torch.zeros((num_genes, 1), dtype=torch.float64) #, dtype=torch.float64\n",
    "        output, kl = torch.squeeze(model(t_inducing.view(-1), initial_value))\n",
    "        print('success')\n",
    "\n",
    "        # Calc loss and backprop gradients\n",
    "        loss = loss_fn(output, m_observed[0])\n",
    "\n",
    "        loss.backward()\n",
    "        print('Epoch %d/%d - Loss: %.3f %.3f b: %.2f d %.2f λ: %.3f noise: %.3f' % (\n",
    "            epoch + 1, epochs, loss.item(),\n",
    "            output[3,3].item(),\n",
    "            model.basal_rate[0].item(),\n",
    "            model.decay_rate[0].item(),\n",
    "            model.gp.covar_module.base_kernel.lengthscale.item(),\n",
    "            model.gp.likelihood.noise.item()\n",
    "        ))\n",
    "        optimizer.step()\n",
    "\n",
    "        basalrates.append(model.basal_rate.detach().numpy())\n",
    "        decayrates.append(model.decay_rate.detach().numpy())\n",
    "        lengthscales.append(model.gp.covar_module.base_kernel.lengthscale.item())\n",
    "        if (epoch % 10) ==0:\n",
    "            plt.plot(t_inducing, output[0].detach().numpy(), label='epoch'+str(epoch))\n",
    "\n",
    "    plt.legend()\n",
    "    return output, (basalrates, decayrates, lengthscales)"
   ],
   "metadata": {
    "collapsed": false,
    "pycharm": {
     "name": "#%%\n"
    }
   }
  },
  {
   "cell_type": "code",
   "execution_count": 19,
   "outputs": [
    {
     "name": "stdout",
     "output_type": "stream",
     "text": [
      "tensor([[3.2382, 2.5804, 3.0436, 0.7458, 4.4686, 2.8413, 3.4276]],\n",
      "       dtype=torch.float64)\n"
     ]
    }
   ],
   "source": [
    "model = ODEModel(num_genes, num_tfs, t_inducing)\n",
    "optimizer = torch.optim.Adam(model.parameters(), lr=0.08)  # Includes GaussianLikelihood parameters\n",
    "loss_fn = torch.nn.MSELoss(reduction='mean')"
   ],
   "metadata": {
    "collapsed": false,
    "pycharm": {
     "name": "#%%\n"
    }
   }
  },
  {
   "cell_type": "markdown",
   "source": [
    "### Outputs prior to training:"
   ],
   "metadata": {
    "collapsed": false,
    "pycharm": {
     "name": "#%% md\n"
    }
   }
  },
  {
   "cell_type": "code",
   "execution_count": 20,
   "outputs": [
    {
     "name": "stdout",
     "output_type": "stream",
     "text": [
      "sample shape torch.Size([1, 7])\n",
      "torch.Size([5, 1]) torch.Size([5, 1])\n",
      "torch.Size([5, 7]) torch.Size([5, 1])\n"
     ]
    },
    {
     "ename": "RuntimeError",
     "evalue": "The size of tensor a (5) must match the size of tensor b (35) at non-singleton dimension 0",
     "output_type": "error",
     "traceback": [
      "\u001B[0;31m---------------------------------------------------------------------------\u001B[0m",
      "\u001B[0;31mRuntimeError\u001B[0m                              Traceback (most recent call last)",
      "\u001B[0;32m<ipython-input-20-695ef2eb1a2d>\u001B[0m in \u001B[0;36m<module>\u001B[0;34m\u001B[0m\n\u001B[0;32m----> 1\u001B[0;31m \u001B[0mplot_genes\u001B[0m\u001B[0;34m(\u001B[0m\u001B[0;34m)\u001B[0m\u001B[0;34m\u001B[0m\u001B[0;34m\u001B[0m\u001B[0m\n\u001B[0m",
      "\u001B[0;32m<ipython-input-4-688e1139f790>\u001B[0m in \u001B[0;36mplot_genes\u001B[0;34m()\u001B[0m\n\u001B[1;32m      4\u001B[0m \u001B[0;32mdef\u001B[0m \u001B[0mplot_genes\u001B[0m\u001B[0;34m(\u001B[0m\u001B[0;34m)\u001B[0m\u001B[0;34m:\u001B[0m\u001B[0;34m\u001B[0m\u001B[0;34m\u001B[0m\u001B[0m\n\u001B[1;32m      5\u001B[0m     \u001B[0minitial_value\u001B[0m \u001B[0;34m=\u001B[0m \u001B[0mtorch\u001B[0m\u001B[0;34m.\u001B[0m\u001B[0mzeros\u001B[0m\u001B[0;34m(\u001B[0m\u001B[0;34m(\u001B[0m\u001B[0mnum_genes\u001B[0m\u001B[0;34m,\u001B[0m \u001B[0;36m1\u001B[0m\u001B[0;34m)\u001B[0m\u001B[0;34m,\u001B[0m \u001B[0mdtype\u001B[0m\u001B[0;34m=\u001B[0m\u001B[0mtorch\u001B[0m\u001B[0;34m.\u001B[0m\u001B[0mfloat64\u001B[0m\u001B[0;34m)\u001B[0m \u001B[0;31m#, dtype=torch.float64\u001B[0m\u001B[0;34m\u001B[0m\u001B[0;34m\u001B[0m\u001B[0m\n\u001B[0;32m----> 6\u001B[0;31m     \u001B[0moutputs\u001B[0m \u001B[0;34m=\u001B[0m \u001B[0mtorch\u001B[0m\u001B[0;34m.\u001B[0m\u001B[0msqueeze\u001B[0m\u001B[0;34m(\u001B[0m\u001B[0mmodel\u001B[0m\u001B[0;34m(\u001B[0m\u001B[0mt\u001B[0m\u001B[0;34m.\u001B[0m\u001B[0mview\u001B[0m\u001B[0;34m(\u001B[0m\u001B[0;34m-\u001B[0m\u001B[0;36m1\u001B[0m\u001B[0;34m)\u001B[0m\u001B[0;34m,\u001B[0m \u001B[0minitial_value\u001B[0m\u001B[0;34m)\u001B[0m\u001B[0;34m)\u001B[0m\u001B[0;34m\u001B[0m\u001B[0;34m\u001B[0m\u001B[0m\n\u001B[0m\u001B[1;32m      7\u001B[0m     \u001B[0mprint\u001B[0m\u001B[0;34m(\u001B[0m\u001B[0moutputs\u001B[0m\u001B[0;34m.\u001B[0m\u001B[0mshape\u001B[0m\u001B[0;34m)\u001B[0m\u001B[0;34m\u001B[0m\u001B[0;34m\u001B[0m\u001B[0m\n\u001B[1;32m      8\u001B[0m     \u001B[0mplt\u001B[0m\u001B[0;34m.\u001B[0m\u001B[0mfigure\u001B[0m\u001B[0;34m(\u001B[0m\u001B[0mfigsize\u001B[0m\u001B[0;34m=\u001B[0m\u001B[0;34m(\u001B[0m\u001B[0;36m5\u001B[0m\u001B[0;34m,\u001B[0m \u001B[0;36m8\u001B[0m\u001B[0;34m)\u001B[0m\u001B[0;34m)\u001B[0m\u001B[0;34m\u001B[0m\u001B[0;34m\u001B[0m\u001B[0m\n",
      "\u001B[0;32m~/miniconda3/envs/wishart/lib/python3.7/site-packages/torch/nn/modules/module.py\u001B[0m in \u001B[0;36m_call_impl\u001B[0;34m(self, *input, **kwargs)\u001B[0m\n\u001B[1;32m    725\u001B[0m             \u001B[0mresult\u001B[0m \u001B[0;34m=\u001B[0m \u001B[0mself\u001B[0m\u001B[0;34m.\u001B[0m\u001B[0m_slow_forward\u001B[0m\u001B[0;34m(\u001B[0m\u001B[0;34m*\u001B[0m\u001B[0minput\u001B[0m\u001B[0;34m,\u001B[0m \u001B[0;34m**\u001B[0m\u001B[0mkwargs\u001B[0m\u001B[0;34m)\u001B[0m\u001B[0;34m\u001B[0m\u001B[0;34m\u001B[0m\u001B[0m\n\u001B[1;32m    726\u001B[0m         \u001B[0;32melse\u001B[0m\u001B[0;34m:\u001B[0m\u001B[0;34m\u001B[0m\u001B[0;34m\u001B[0m\u001B[0m\n\u001B[0;32m--> 727\u001B[0;31m             \u001B[0mresult\u001B[0m \u001B[0;34m=\u001B[0m \u001B[0mself\u001B[0m\u001B[0;34m.\u001B[0m\u001B[0mforward\u001B[0m\u001B[0;34m(\u001B[0m\u001B[0;34m*\u001B[0m\u001B[0minput\u001B[0m\u001B[0;34m,\u001B[0m \u001B[0;34m**\u001B[0m\u001B[0mkwargs\u001B[0m\u001B[0;34m)\u001B[0m\u001B[0;34m\u001B[0m\u001B[0;34m\u001B[0m\u001B[0m\n\u001B[0m\u001B[1;32m    728\u001B[0m         for hook in itertools.chain(\n\u001B[1;32m    729\u001B[0m                 \u001B[0m_global_forward_hooks\u001B[0m\u001B[0;34m.\u001B[0m\u001B[0mvalues\u001B[0m\u001B[0;34m(\u001B[0m\u001B[0;34m)\u001B[0m\u001B[0;34m,\u001B[0m\u001B[0;34m\u001B[0m\u001B[0;34m\u001B[0m\u001B[0m\n",
      "\u001B[0;32m<ipython-input-17-552fdbdc7d45>\u001B[0m in \u001B[0;36mforward\u001B[0;34m(self, t, h)\u001B[0m\n\u001B[1;32m     66\u001B[0m \u001B[0;34m\u001B[0m\u001B[0m\n\u001B[1;32m     67\u001B[0m         \u001B[0;31m# Integrate forward from the batch of initial positions z.\u001B[0m\u001B[0;34m\u001B[0m\u001B[0;34m\u001B[0m\u001B[0;34m\u001B[0m\u001B[0m\n\u001B[0;32m---> 68\u001B[0;31m         \u001B[0mh\u001B[0m \u001B[0;34m=\u001B[0m \u001B[0modeint\u001B[0m\u001B[0;34m(\u001B[0m\u001B[0mself\u001B[0m\u001B[0;34m.\u001B[0m\u001B[0modefunc\u001B[0m\u001B[0;34m,\u001B[0m \u001B[0mh\u001B[0m\u001B[0;34m,\u001B[0m \u001B[0mt\u001B[0m\u001B[0;34m,\u001B[0m \u001B[0mmethod\u001B[0m\u001B[0;34m=\u001B[0m\u001B[0;34m'dopri5'\u001B[0m\u001B[0;34m)\u001B[0m \u001B[0;31m# shape (num_genes, num_times, 1\u001B[0m\u001B[0;34m\u001B[0m\u001B[0;34m\u001B[0m\u001B[0m\n\u001B[0m\u001B[1;32m     69\u001B[0m \u001B[0;34m\u001B[0m\u001B[0m\n\u001B[1;32m     70\u001B[0m         \u001B[0;31m# 2: KL terms:\u001B[0m\u001B[0;34m\u001B[0m\u001B[0;34m\u001B[0m\u001B[0;34m\u001B[0m\u001B[0m\n",
      "\u001B[0;32m~/miniconda3/envs/wishart/lib/python3.7/site-packages/torchdiffeq/_impl/odeint.py\u001B[0m in \u001B[0;36modeint\u001B[0;34m(func, y0, t, rtol, atol, method, options)\u001B[0m\n\u001B[1;32m     63\u001B[0m \u001B[0;34m\u001B[0m\u001B[0m\n\u001B[1;32m     64\u001B[0m     \u001B[0msolver\u001B[0m \u001B[0;34m=\u001B[0m \u001B[0mSOLVERS\u001B[0m\u001B[0;34m[\u001B[0m\u001B[0mmethod\u001B[0m\u001B[0;34m]\u001B[0m\u001B[0;34m(\u001B[0m\u001B[0mfunc\u001B[0m\u001B[0;34m=\u001B[0m\u001B[0mfunc\u001B[0m\u001B[0;34m,\u001B[0m \u001B[0my0\u001B[0m\u001B[0;34m=\u001B[0m\u001B[0my0\u001B[0m\u001B[0;34m,\u001B[0m \u001B[0mrtol\u001B[0m\u001B[0;34m=\u001B[0m\u001B[0mrtol\u001B[0m\u001B[0;34m,\u001B[0m \u001B[0matol\u001B[0m\u001B[0;34m=\u001B[0m\u001B[0matol\u001B[0m\u001B[0;34m,\u001B[0m \u001B[0;34m**\u001B[0m\u001B[0moptions\u001B[0m\u001B[0;34m)\u001B[0m\u001B[0;34m\u001B[0m\u001B[0;34m\u001B[0m\u001B[0m\n\u001B[0;32m---> 65\u001B[0;31m     \u001B[0msolution\u001B[0m \u001B[0;34m=\u001B[0m \u001B[0msolver\u001B[0m\u001B[0;34m.\u001B[0m\u001B[0mintegrate\u001B[0m\u001B[0;34m(\u001B[0m\u001B[0mt\u001B[0m\u001B[0;34m)\u001B[0m\u001B[0;34m\u001B[0m\u001B[0;34m\u001B[0m\u001B[0m\n\u001B[0m\u001B[1;32m     66\u001B[0m \u001B[0;34m\u001B[0m\u001B[0m\n\u001B[1;32m     67\u001B[0m     \u001B[0;32mif\u001B[0m \u001B[0mshapes\u001B[0m \u001B[0;32mis\u001B[0m \u001B[0;32mnot\u001B[0m \u001B[0;32mNone\u001B[0m\u001B[0;34m:\u001B[0m\u001B[0;34m\u001B[0m\u001B[0;34m\u001B[0m\u001B[0m\n",
      "\u001B[0;32m~/miniconda3/envs/wishart/lib/python3.7/site-packages/torchdiffeq/_impl/solvers.py\u001B[0m in \u001B[0;36mintegrate\u001B[0;34m(self, t)\u001B[0m\n\u001B[1;32m     25\u001B[0m         \u001B[0msolution\u001B[0m\u001B[0;34m[\u001B[0m\u001B[0;36m0\u001B[0m\u001B[0;34m]\u001B[0m \u001B[0;34m=\u001B[0m \u001B[0mself\u001B[0m\u001B[0;34m.\u001B[0m\u001B[0my0\u001B[0m\u001B[0;34m\u001B[0m\u001B[0;34m\u001B[0m\u001B[0m\n\u001B[1;32m     26\u001B[0m         \u001B[0mt\u001B[0m \u001B[0;34m=\u001B[0m \u001B[0mt\u001B[0m\u001B[0;34m.\u001B[0m\u001B[0mto\u001B[0m\u001B[0;34m(\u001B[0m\u001B[0mself\u001B[0m\u001B[0;34m.\u001B[0m\u001B[0mdtype\u001B[0m\u001B[0;34m)\u001B[0m\u001B[0;34m\u001B[0m\u001B[0;34m\u001B[0m\u001B[0m\n\u001B[0;32m---> 27\u001B[0;31m         \u001B[0mself\u001B[0m\u001B[0;34m.\u001B[0m\u001B[0m_before_integrate\u001B[0m\u001B[0;34m(\u001B[0m\u001B[0mt\u001B[0m\u001B[0;34m)\u001B[0m\u001B[0;34m\u001B[0m\u001B[0;34m\u001B[0m\u001B[0m\n\u001B[0m\u001B[1;32m     28\u001B[0m         \u001B[0;32mfor\u001B[0m \u001B[0mi\u001B[0m \u001B[0;32min\u001B[0m \u001B[0mrange\u001B[0m\u001B[0;34m(\u001B[0m\u001B[0;36m1\u001B[0m\u001B[0;34m,\u001B[0m \u001B[0mlen\u001B[0m\u001B[0;34m(\u001B[0m\u001B[0mt\u001B[0m\u001B[0;34m)\u001B[0m\u001B[0;34m)\u001B[0m\u001B[0;34m:\u001B[0m\u001B[0;34m\u001B[0m\u001B[0;34m\u001B[0m\u001B[0m\n\u001B[1;32m     29\u001B[0m             \u001B[0msolution\u001B[0m\u001B[0;34m[\u001B[0m\u001B[0mi\u001B[0m\u001B[0;34m]\u001B[0m \u001B[0;34m=\u001B[0m \u001B[0mself\u001B[0m\u001B[0;34m.\u001B[0m\u001B[0m_advance\u001B[0m\u001B[0;34m(\u001B[0m\u001B[0mt\u001B[0m\u001B[0;34m[\u001B[0m\u001B[0mi\u001B[0m\u001B[0;34m]\u001B[0m\u001B[0;34m)\u001B[0m\u001B[0;34m\u001B[0m\u001B[0;34m\u001B[0m\u001B[0m\n",
      "\u001B[0;32m~/miniconda3/envs/wishart/lib/python3.7/site-packages/torchdiffeq/_impl/rk_common.py\u001B[0m in \u001B[0;36m_before_integrate\u001B[0;34m(self, t)\u001B[0m\n\u001B[1;32m    142\u001B[0m         \u001B[0;32mif\u001B[0m \u001B[0mself\u001B[0m\u001B[0;34m.\u001B[0m\u001B[0mfirst_step\u001B[0m \u001B[0;32mis\u001B[0m \u001B[0;32mNone\u001B[0m\u001B[0;34m:\u001B[0m\u001B[0;34m\u001B[0m\u001B[0;34m\u001B[0m\u001B[0m\n\u001B[1;32m    143\u001B[0m             first_step = _select_initial_step(self.func, t[0], self.y0, self.order - 1, self.rtol, self.atol,\n\u001B[0;32m--> 144\u001B[0;31m                                               self.norm, f0=f0)\n\u001B[0m\u001B[1;32m    145\u001B[0m         \u001B[0;32melse\u001B[0m\u001B[0;34m:\u001B[0m\u001B[0;34m\u001B[0m\u001B[0;34m\u001B[0m\u001B[0m\n\u001B[1;32m    146\u001B[0m             \u001B[0mfirst_step\u001B[0m \u001B[0;34m=\u001B[0m \u001B[0mself\u001B[0m\u001B[0;34m.\u001B[0m\u001B[0mfirst_step\u001B[0m\u001B[0;34m\u001B[0m\u001B[0;34m\u001B[0m\u001B[0m\n",
      "\u001B[0;32m~/miniconda3/envs/wishart/lib/python3.7/site-packages/torchdiffeq/_impl/misc.py\u001B[0m in \u001B[0;36m_select_initial_step\u001B[0;34m(func, t0, y0, order, rtol, atol, norm, f0)\u001B[0m\n\u001B[1;32m     75\u001B[0m \u001B[0;34m\u001B[0m\u001B[0m\n\u001B[1;32m     76\u001B[0m     \u001B[0my1\u001B[0m \u001B[0;34m=\u001B[0m \u001B[0my0\u001B[0m \u001B[0;34m+\u001B[0m \u001B[0mh0\u001B[0m \u001B[0;34m*\u001B[0m \u001B[0mf0\u001B[0m\u001B[0;34m\u001B[0m\u001B[0;34m\u001B[0m\u001B[0m\n\u001B[0;32m---> 77\u001B[0;31m     \u001B[0mf1\u001B[0m \u001B[0;34m=\u001B[0m \u001B[0mfunc\u001B[0m\u001B[0;34m(\u001B[0m\u001B[0mt0\u001B[0m \u001B[0;34m+\u001B[0m \u001B[0mh0\u001B[0m\u001B[0;34m,\u001B[0m \u001B[0my1\u001B[0m\u001B[0;34m)\u001B[0m\u001B[0;34m\u001B[0m\u001B[0;34m\u001B[0m\u001B[0m\n\u001B[0m\u001B[1;32m     78\u001B[0m \u001B[0;34m\u001B[0m\u001B[0m\n\u001B[1;32m     79\u001B[0m     \u001B[0md2\u001B[0m \u001B[0;34m=\u001B[0m \u001B[0mnorm\u001B[0m\u001B[0;34m(\u001B[0m\u001B[0;34m(\u001B[0m\u001B[0mf1\u001B[0m \u001B[0;34m-\u001B[0m \u001B[0mf0\u001B[0m\u001B[0;34m)\u001B[0m \u001B[0;34m/\u001B[0m \u001B[0mscale\u001B[0m\u001B[0;34m)\u001B[0m \u001B[0;34m/\u001B[0m \u001B[0mh0\u001B[0m\u001B[0;34m\u001B[0m\u001B[0;34m\u001B[0m\u001B[0m\n",
      "\u001B[0;32m~/miniconda3/envs/wishart/lib/python3.7/site-packages/torchdiffeq/_impl/rk_common.py\u001B[0m in \u001B[0;36m<lambda>\u001B[0;34m(t, y)\u001B[0m\n\u001B[1;32m    118\u001B[0m         \u001B[0mdevice\u001B[0m \u001B[0;34m=\u001B[0m \u001B[0my0\u001B[0m\u001B[0;34m.\u001B[0m\u001B[0mdevice\u001B[0m\u001B[0;34m\u001B[0m\u001B[0;34m\u001B[0m\u001B[0m\n\u001B[1;32m    119\u001B[0m \u001B[0;34m\u001B[0m\u001B[0m\n\u001B[0;32m--> 120\u001B[0;31m         \u001B[0mself\u001B[0m\u001B[0;34m.\u001B[0m\u001B[0mfunc\u001B[0m \u001B[0;34m=\u001B[0m \u001B[0;32mlambda\u001B[0m \u001B[0mt\u001B[0m\u001B[0;34m,\u001B[0m \u001B[0my\u001B[0m\u001B[0;34m:\u001B[0m \u001B[0mfunc\u001B[0m\u001B[0;34m(\u001B[0m\u001B[0mt\u001B[0m\u001B[0;34m.\u001B[0m\u001B[0mtype_as\u001B[0m\u001B[0;34m(\u001B[0m\u001B[0my\u001B[0m\u001B[0;34m)\u001B[0m\u001B[0;34m,\u001B[0m \u001B[0my\u001B[0m\u001B[0;34m)\u001B[0m\u001B[0;34m\u001B[0m\u001B[0;34m\u001B[0m\u001B[0m\n\u001B[0m\u001B[1;32m    121\u001B[0m         \u001B[0mself\u001B[0m\u001B[0;34m.\u001B[0m\u001B[0mrtol\u001B[0m \u001B[0;34m=\u001B[0m \u001B[0mtorch\u001B[0m\u001B[0;34m.\u001B[0m\u001B[0mas_tensor\u001B[0m\u001B[0;34m(\u001B[0m\u001B[0mrtol\u001B[0m\u001B[0;34m,\u001B[0m \u001B[0mdtype\u001B[0m\u001B[0;34m=\u001B[0m\u001B[0mdtype\u001B[0m\u001B[0;34m,\u001B[0m \u001B[0mdevice\u001B[0m\u001B[0;34m=\u001B[0m\u001B[0mdevice\u001B[0m\u001B[0;34m)\u001B[0m\u001B[0;34m\u001B[0m\u001B[0;34m\u001B[0m\u001B[0m\n\u001B[1;32m    122\u001B[0m         \u001B[0mself\u001B[0m\u001B[0;34m.\u001B[0m\u001B[0matol\u001B[0m \u001B[0;34m=\u001B[0m \u001B[0mtorch\u001B[0m\u001B[0;34m.\u001B[0m\u001B[0mas_tensor\u001B[0m\u001B[0;34m(\u001B[0m\u001B[0matol\u001B[0m\u001B[0;34m,\u001B[0m \u001B[0mdtype\u001B[0m\u001B[0;34m=\u001B[0m\u001B[0mdtype\u001B[0m\u001B[0;34m,\u001B[0m \u001B[0mdevice\u001B[0m\u001B[0;34m=\u001B[0m\u001B[0mdevice\u001B[0m\u001B[0;34m)\u001B[0m\u001B[0;34m\u001B[0m\u001B[0;34m\u001B[0m\u001B[0m\n",
      "\u001B[0;32m<ipython-input-17-552fdbdc7d45>\u001B[0m in \u001B[0;36modefunc\u001B[0;34m(self, t, h)\u001B[0m\n\u001B[1;32m     81\u001B[0m         \u001B[0mprint\u001B[0m\u001B[0;34m(\u001B[0m\u001B[0mh\u001B[0m\u001B[0;34m.\u001B[0m\u001B[0mshape\u001B[0m\u001B[0;34m,\u001B[0m \u001B[0mself\u001B[0m\u001B[0;34m.\u001B[0m\u001B[0mdecay_rate\u001B[0m\u001B[0;34m.\u001B[0m\u001B[0mshape\u001B[0m\u001B[0;34m)\u001B[0m\u001B[0;34m\u001B[0m\u001B[0;34m\u001B[0m\u001B[0m\n\u001B[1;32m     82\u001B[0m         \u001B[0;31m# h is of shape (num_genes, 1)\u001B[0m\u001B[0;34m\u001B[0m\u001B[0;34m\u001B[0m\u001B[0;34m\u001B[0m\u001B[0m\n\u001B[0;32m---> 83\u001B[0;31m         \u001B[0mdecay\u001B[0m \u001B[0;34m=\u001B[0m \u001B[0mtorch\u001B[0m\u001B[0;34m.\u001B[0m\u001B[0mmultiply\u001B[0m\u001B[0;34m(\u001B[0m\u001B[0mself\u001B[0m\u001B[0;34m.\u001B[0m\u001B[0mdecay_rate\u001B[0m\u001B[0;34m.\u001B[0m\u001B[0mview\u001B[0m\u001B[0;34m(\u001B[0m\u001B[0;34m-\u001B[0m\u001B[0;36m1\u001B[0m\u001B[0;34m)\u001B[0m\u001B[0;34m,\u001B[0m \u001B[0mh\u001B[0m\u001B[0;34m.\u001B[0m\u001B[0mview\u001B[0m\u001B[0;34m(\u001B[0m\u001B[0;34m-\u001B[0m\u001B[0;36m1\u001B[0m\u001B[0;34m)\u001B[0m\u001B[0;34m)\u001B[0m\u001B[0;34m.\u001B[0m\u001B[0mview\u001B[0m\u001B[0;34m(\u001B[0m\u001B[0;34m-\u001B[0m\u001B[0;36m1\u001B[0m\u001B[0;34m,\u001B[0m \u001B[0;36m1\u001B[0m\u001B[0;34m)\u001B[0m\u001B[0;34m\u001B[0m\u001B[0;34m\u001B[0m\u001B[0m\n\u001B[0m\u001B[1;32m     84\u001B[0m \u001B[0;34m\u001B[0m\u001B[0m\n\u001B[1;32m     85\u001B[0m         \u001B[0;31m# p = self.get_tfs(t)\u001B[0m\u001B[0;34m\u001B[0m\u001B[0;34m\u001B[0m\u001B[0;34m\u001B[0m\u001B[0m\n",
      "\u001B[0;31mRuntimeError\u001B[0m: The size of tensor a (5) must match the size of tensor b (35) at non-singleton dimension 0"
     ]
    }
   ],
   "source": [
    "plot_genes()"
   ],
   "metadata": {
    "collapsed": false,
    "pycharm": {
     "name": "#%%\n"
    }
   }
  },
  {
   "cell_type": "code",
   "execution_count": 76,
   "outputs": [
    {
     "name": "stdout",
     "output_type": "stream",
     "text": [
      "Epoch 1/80 - Loss: 21.514 0.812 b: 2.82 d 5.60 λ: 0.533 noise: 0.693\n",
      "Epoch 2/80 - Loss: 21.491 0.813 b: 2.82 d 5.61 λ: 0.537 noise: 0.693\n",
      "Epoch 3/80 - Loss: 21.468 0.814 b: 2.83 d 5.63 λ: 0.541 noise: 0.693\n",
      "Epoch 4/80 - Loss: 21.446 0.814 b: 2.84 d 5.64 λ: 0.545 noise: 0.693\n",
      "Epoch 5/80 - Loss: 21.423 0.815 b: 2.84 d 5.65 λ: 0.549 noise: 0.693\n",
      "Epoch 6/80 - Loss: 21.401 0.816 b: 2.85 d 5.66 λ: 0.553 noise: 0.693\n",
      "Epoch 7/80 - Loss: 21.379 0.817 b: 2.85 d 5.67 λ: 0.557 noise: 0.693\n",
      "Epoch 8/80 - Loss: 21.357 0.818 b: 2.86 d 5.68 λ: 0.561 noise: 0.693\n",
      "Epoch 9/80 - Loss: 21.336 0.818 b: 2.86 d 5.69 λ: 0.565 noise: 0.693\n",
      "Epoch 10/80 - Loss: 21.315 0.819 b: 2.87 d 5.70 λ: 0.568 noise: 0.693\n",
      "Epoch 11/80 - Loss: 21.293 0.820 b: 2.88 d 5.71 λ: 0.572 noise: 0.693\n",
      "Epoch 12/80 - Loss: 21.273 0.821 b: 2.88 d 5.72 λ: 0.576 noise: 0.693\n",
      "Epoch 13/80 - Loss: 21.252 0.822 b: 2.89 d 5.73 λ: 0.580 noise: 0.693\n",
      "Epoch 14/80 - Loss: 21.231 0.822 b: 2.89 d 5.74 λ: 0.584 noise: 0.693\n",
      "Epoch 15/80 - Loss: 21.211 0.823 b: 2.90 d 5.75 λ: 0.588 noise: 0.693\n",
      "Epoch 16/80 - Loss: 21.190 0.824 b: 2.90 d 5.76 λ: 0.592 noise: 0.693\n",
      "Epoch 17/80 - Loss: 21.170 0.825 b: 2.91 d 5.77 λ: 0.596 noise: 0.693\n",
      "Epoch 18/80 - Loss: 21.151 0.825 b: 2.91 d 5.78 λ: 0.600 noise: 0.693\n",
      "Epoch 19/80 - Loss: 21.131 0.826 b: 2.92 d 5.79 λ: 0.604 noise: 0.693\n",
      "Epoch 20/80 - Loss: 21.111 0.827 b: 2.92 d 5.80 λ: 0.608 noise: 0.693\n",
      "Epoch 21/80 - Loss: 21.092 0.828 b: 2.93 d 5.81 λ: 0.612 noise: 0.693\n",
      "Epoch 22/80 - Loss: 21.073 0.828 b: 2.93 d 5.82 λ: 0.616 noise: 0.693\n",
      "Epoch 23/80 - Loss: 21.053 0.829 b: 2.94 d 5.83 λ: 0.620 noise: 0.693\n",
      "Epoch 24/80 - Loss: 21.035 0.830 b: 2.94 d 5.84 λ: 0.624 noise: 0.693\n",
      "Epoch 25/80 - Loss: 21.016 0.831 b: 2.95 d 5.85 λ: 0.628 noise: 0.693\n",
      "Epoch 26/80 - Loss: 20.997 0.831 b: 2.95 d 5.86 λ: 0.632 noise: 0.693\n",
      "Epoch 27/80 - Loss: 20.979 0.832 b: 2.96 d 5.87 λ: 0.636 noise: 0.693\n",
      "Epoch 28/80 - Loss: 20.960 0.833 b: 2.96 d 5.88 λ: 0.640 noise: 0.693\n",
      "Epoch 29/80 - Loss: 20.942 0.834 b: 2.97 d 5.89 λ: 0.644 noise: 0.693\n",
      "Epoch 30/80 - Loss: 20.924 0.834 b: 2.97 d 5.90 λ: 0.648 noise: 0.693\n",
      "Epoch 31/80 - Loss: 20.906 0.835 b: 2.98 d 5.91 λ: 0.651 noise: 0.693\n",
      "Epoch 32/80 - Loss: 20.889 0.836 b: 2.98 d 5.92 λ: 0.655 noise: 0.693\n",
      "Epoch 33/80 - Loss: 20.871 0.836 b: 2.99 d 5.92 λ: 0.659 noise: 0.693\n",
      "Epoch 34/80 - Loss: 20.853 0.837 b: 2.99 d 5.93 λ: 0.663 noise: 0.693\n",
      "Epoch 35/80 - Loss: 20.836 0.838 b: 3.00 d 5.94 λ: 0.667 noise: 0.693\n",
      "Epoch 36/80 - Loss: 20.819 0.839 b: 3.00 d 5.95 λ: 0.671 noise: 0.693\n",
      "Epoch 37/80 - Loss: 20.802 0.839 b: 3.01 d 5.96 λ: 0.675 noise: 0.693\n",
      "Epoch 38/80 - Loss: 20.785 0.840 b: 3.01 d 5.97 λ: 0.679 noise: 0.693\n",
      "Epoch 39/80 - Loss: 20.768 0.841 b: 3.02 d 5.98 λ: 0.683 noise: 0.693\n",
      "Epoch 40/80 - Loss: 20.752 0.841 b: 3.02 d 5.99 λ: 0.687 noise: 0.693\n",
      "Epoch 41/80 - Loss: 20.735 0.842 b: 3.03 d 5.99 λ: 0.691 noise: 0.693\n",
      "Epoch 42/80 - Loss: 20.719 0.843 b: 3.03 d 6.00 λ: 0.695 noise: 0.693\n",
      "Epoch 43/80 - Loss: 20.702 0.843 b: 3.04 d 6.01 λ: 0.699 noise: 0.693\n",
      "Epoch 44/80 - Loss: 20.686 0.844 b: 3.04 d 6.02 λ: 0.703 noise: 0.693\n",
      "Epoch 45/80 - Loss: 20.670 0.845 b: 3.04 d 6.03 λ: 0.707 noise: 0.693\n",
      "Epoch 46/80 - Loss: 20.654 0.845 b: 3.05 d 6.04 λ: 0.711 noise: 0.693\n",
      "Epoch 47/80 - Loss: 20.638 0.846 b: 3.05 d 6.05 λ: 0.715 noise: 0.693\n",
      "Epoch 48/80 - Loss: 20.623 0.847 b: 3.06 d 6.05 λ: 0.719 noise: 0.693\n",
      "Epoch 49/80 - Loss: 20.607 0.847 b: 3.06 d 6.06 λ: 0.723 noise: 0.693\n",
      "Epoch 50/80 - Loss: 20.592 0.848 b: 3.07 d 6.07 λ: 0.726 noise: 0.693\n",
      "Epoch 51/80 - Loss: 20.577 0.849 b: 3.07 d 6.08 λ: 0.730 noise: 0.693\n",
      "Epoch 52/80 - Loss: 20.561 0.849 b: 3.07 d 6.09 λ: 0.734 noise: 0.693\n",
      "Epoch 53/80 - Loss: 20.546 0.850 b: 3.08 d 6.09 λ: 0.738 noise: 0.693\n",
      "Epoch 54/80 - Loss: 20.531 0.851 b: 3.08 d 6.10 λ: 0.742 noise: 0.693\n",
      "Epoch 55/80 - Loss: 20.517 0.851 b: 3.09 d 6.11 λ: 0.746 noise: 0.693\n",
      "Epoch 56/80 - Loss: 20.502 0.852 b: 3.09 d 6.12 λ: 0.750 noise: 0.693\n",
      "Epoch 57/80 - Loss: 20.487 0.853 b: 3.10 d 6.12 λ: 0.754 noise: 0.693\n",
      "Epoch 58/80 - Loss: 20.473 0.853 b: 3.10 d 6.13 λ: 0.757 noise: 0.693\n",
      "Epoch 59/80 - Loss: 20.458 0.854 b: 3.10 d 6.14 λ: 0.761 noise: 0.693\n",
      "Epoch 60/80 - Loss: 20.444 0.855 b: 3.11 d 6.15 λ: 0.765 noise: 0.693\n",
      "Epoch 61/80 - Loss: 20.430 0.855 b: 3.11 d 6.16 λ: 0.769 noise: 0.693\n",
      "Epoch 62/80 - Loss: 20.416 0.856 b: 3.12 d 6.16 λ: 0.773 noise: 0.693\n",
      "Epoch 63/80 - Loss: 20.402 0.856 b: 3.12 d 6.17 λ: 0.777 noise: 0.693\n",
      "Epoch 64/80 - Loss: 20.388 0.857 b: 3.12 d 6.18 λ: 0.781 noise: 0.693\n",
      "Epoch 65/80 - Loss: 20.375 0.858 b: 3.13 d 6.19 λ: 0.784 noise: 0.693\n",
      "Epoch 66/80 - Loss: 20.361 0.858 b: 3.13 d 6.19 λ: 0.788 noise: 0.693\n",
      "Epoch 67/80 - Loss: 20.347 0.859 b: 3.13 d 6.20 λ: 0.792 noise: 0.693\n",
      "Epoch 68/80 - Loss: 20.334 0.859 b: 3.14 d 6.21 λ: 0.796 noise: 0.693\n",
      "Epoch 69/80 - Loss: 20.321 0.860 b: 3.14 d 6.21 λ: 0.799 noise: 0.693\n",
      "Epoch 70/80 - Loss: 20.308 0.861 b: 3.15 d 6.22 λ: 0.803 noise: 0.693\n",
      "Epoch 71/80 - Loss: 20.294 0.861 b: 3.15 d 6.23 λ: 0.807 noise: 0.693\n",
      "Epoch 72/80 - Loss: 20.281 0.862 b: 3.15 d 6.24 λ: 0.811 noise: 0.693\n",
      "Epoch 73/80 - Loss: 20.269 0.862 b: 3.16 d 6.24 λ: 0.814 noise: 0.693\n",
      "Epoch 74/80 - Loss: 20.256 0.863 b: 3.16 d 6.25 λ: 0.818 noise: 0.693\n",
      "Epoch 75/80 - Loss: 20.243 0.863 b: 3.16 d 6.26 λ: 0.822 noise: 0.693\n",
      "Epoch 76/80 - Loss: 20.231 0.864 b: 3.17 d 6.26 λ: 0.826 noise: 0.693\n",
      "Epoch 77/80 - Loss: 20.218 0.865 b: 3.17 d 6.27 λ: 0.829 noise: 0.693\n",
      "Epoch 78/80 - Loss: 20.206 0.865 b: 3.18 d 6.28 λ: 0.833 noise: 0.693\n",
      "Epoch 79/80 - Loss: 20.193 0.866 b: 3.18 d 6.28 λ: 0.837 noise: 0.693\n",
      "Epoch 80/80 - Loss: 20.181 0.866 b: 3.18 d 6.29 λ: 0.840 noise: 0.693\n"
     ]
    },
    {
     "data": {
      "text/plain": "<Figure size 432x288 with 1 Axes>",
      "image/png": "[encoded data removed]"
     },
     "metadata": {
      "needs_background": "light"
     },
     "output_type": "display_data"
    }
   ],
   "source": [
    "output, params = train(optimizer, loss_fn, 80)"
   ],
   "metadata": {
    "collapsed": false,
    "pycharm": {
     "name": "#%%\n"
    }
   }
  },
  {
   "cell_type": "code",
   "execution_count": 77,
   "outputs": [
    {
     "name": "stdout",
     "output_type": "stream",
     "text": [
      "tensor([[0.8441]], grad_fn=<SoftplusBackward>)\n"
     ]
    }
   ],
   "source": [
    "print(model.gp.covar_module.base_kernel.lengthscale)"
   ],
   "metadata": {
    "collapsed": false,
    "pycharm": {
     "name": "#%%\n"
    }
   }
  },
  {
   "cell_type": "code",
   "execution_count": 74,
   "outputs": [
    {
     "name": "stdout",
     "output_type": "stream",
     "text": [
      "torch.Size([7])\n"
     ]
    },
    {
     "data": {
      "text/plain": "Text(0.5, 1.0, 'Latent')"
     },
     "execution_count": 74,
     "metadata": {},
     "output_type": "execute_result"
    },
    {
     "data": {
      "text/plain": "<Figure size 432x288 with 1 Axes>",
      "image/png": "[encoded data removed]"
     },
     "metadata": {
      "needs_background": "light"
     },
     "output_type": "display_data"
    }
   ],
   "source": [
    "print(model.inducing_targets.shape)\n",
    "plt.figure()\n",
    "plt.plot(t, model.latent(t).detach())\n",
    "plt.scatter(t_inducing, model.inducing_targets.detach(), marker='x')\n",
    "plt.title('Latent')"
   ],
   "metadata": {
    "collapsed": false,
    "pycharm": {
     "name": "#%%\n"
    }
   }
  },
  {
   "cell_type": "code",
   "execution_count": 75,
   "outputs": [
    {
     "name": "stderr",
     "output_type": "stream",
     "text": [
      "/Users/jacob/miniconda3/envs/wishart/lib/python3.7/site-packages/gpytorch/models/exact_gp.py:275: GPInputWarning: The input matches the stored training data. Did you forget to call model.train()?\n",
      "  GPInputWarning,\n"
     ]
    },
    {
     "name": "stdout",
     "output_type": "stream",
     "text": [
      "torch.Size([5, 100])\n"
     ]
    },
    {
     "data": {
      "text/plain": "<Figure size 360x576 with 5 Axes>",
      "image/png": "[encoded data removed]"
     },
     "metadata": {
      "needs_background": "light"
     },
     "output_type": "display_data"
    }
   ],
   "source": [
    "plot_genes()"
   ],
   "metadata": {
    "collapsed": false,
    "pycharm": {
     "name": "#%%\n"
    }
   }
  },
  {
   "cell_type": "code",
   "execution_count": 32,
   "outputs": [
    {
     "name": "stdout",
     "output_type": "stream",
     "text": [
      "torch.Size([100, 1])\n"
     ]
    },
    {
     "data": {
      "text/plain": "[<matplotlib.lines.Line2D at 0x7ff61f3d8390>]"
     },
     "execution_count": 32,
     "metadata": {},
     "output_type": "execute_result"
    },
    {
     "data": {
      "text/plain": "<Figure size 432x288 with 1 Axes>",
      "image/png": "[encoded data removed]"
     },
     "metadata": {
      "needs_background": "light"
     },
     "output_type": "display_data"
    }
   ],
   "source": [
    "print(t.shape)\n",
    "\n",
    "t_ = torch.cat([t_inducing, torch.tensor([0.01], dtype=torch.float64).view(-1,1)])\n",
    "model.gp.eval()\n",
    "plt.plot(model.gp(t_).mean.detach())"
   ],
   "metadata": {
    "collapsed": false,
    "pycharm": {
     "name": "#%%\n"
    }
   }
  },
  {
   "cell_type": "code",
   "execution_count": null,
   "outputs": [],
   "source": [
    "plt.figure(figsize=(5, 6))\n",
    "basal, decay, lengthscale = params\n",
    "basals = np.array(basal)\n",
    "decays = np.array(decay)\n",
    "lengthscales = np.array(lengthscale)\n",
    "print(lengthscales.shape)\n",
    "plt.subplot(311)\n",
    "# print(basals[:,0])\n",
    "plt.plot(basals[:,0])\n",
    "# plt.ylim(1, 1.5)\n",
    "plt.subplot(312)\n",
    "plt.plot(decays[:,0])\n",
    "# plt.ylim(0.5, 1)\n",
    "plt.subplot(313)\n",
    "plt.plot(lengthscales)\n",
    "# plt.ylim(1, 1.2)\n",
    "\n",
    "print(model.basal_rate)\n"
   ],
   "metadata": {
    "collapsed": false,
    "pycharm": {
     "name": "#%%\n"
    }
   }
  },
  {
   "cell_type": "code",
   "execution_count": 96,
   "outputs": [
    {
     "data": {
      "text/plain": "Parameter containing:\ntensor([[1.],\n        [1.],\n        [1.],\n        [1.],\n        [1.]], dtype=torch.float64, requires_grad=True)"
     },
     "execution_count": 96,
     "metadata": {},
     "output_type": "execute_result"
    }
   ],
   "source": [
    "model.w"
   ],
   "metadata": {
    "collapsed": false,
    "pycharm": {
     "name": "#%%\n"
    }
   }
  },
  {
   "cell_type": "code",
   "execution_count": 89,
   "outputs": [
    {
     "data": {
      "text/plain": "Parameter containing:\ntensor([[8.9318],\n        [9.4879],\n        [9.1635],\n        [5.7552],\n        [9.1064]], dtype=torch.float64, requires_grad=True)"
     },
     "execution_count": 89,
     "metadata": {},
     "output_type": "execute_result"
    }
   ],
   "source": [
    "model.sensitivity\n",
    "# model.gp.covar_module.outputscale"
   ],
   "metadata": {
    "collapsed": false,
    "pycharm": {
     "name": "#%%\n"
    }
   }
  },
  {
   "cell_type": "code",
   "execution_count": null,
   "outputs": [],
   "source": [
    "\n",
    "\n"
   ],
   "metadata": {
    "collapsed": false,
    "pycharm": {
     "name": "#%%\n"
    }
   }
  }
 ],
 "metadata": {
  "kernelspec": {
   "display_name": "Python 3",
   "language": "python",
   "name": "python3"
  },
  "language_info": {
   "codemirror_mode": {
    "name": "ipython",
    "version": 2
   },
   "file_extension": ".py",
   "mimetype": "text/x-python",
   "name": "python",
   "nbconvert_exporter": "python",
   "pygments_lexer": "ipython2",
   "version": "2.7.6"
  }
 },
 "nbformat": 4,
 "nbformat_minor": 0
}