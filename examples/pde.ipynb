{
 "cells": [
  {
   "cell_type": "code",
   "execution_count": 1,
   "metadata": {
    "collapsed": true
   },
   "outputs": [],
   "source": [
    "import torch\n",
    "import numpy as np\n",
    "\n",
    "from lafomo.datasets import ToySpatialTranscriptomics\n",
    "from lafomo.options import VariationalOptions\n",
    "from lafomo.utilities.torch import save, load\n",
    "from lafomo.plot import Plotter\n",
    "\n",
    "from matplotlib import pyplot as plt\n",
    "\n",
    "from fenics import *\n",
    "from fenics_adjoint import *\n",
    "\n",
    "import torch_fenics"
   ]
  },
  {
   "cell_type": "code",
   "execution_count": 30,
   "outputs": [
    {
     "data": {
      "text/plain": "       t    x         U    Y\n0  0.000  0.0  0.978006  0.0\n1  0.025  0.0  1.009034  0.0\n2  0.050  0.0  1.006165  0.0\n3  0.075  0.0  0.967695  0.0\n4  0.100  0.0  0.893023  0.0",
      "text/html": "<div>\n<style scoped>\n    .dataframe tbody tr th:only-of-type {\n        vertical-align: middle;\n    }\n\n    .dataframe tbody tr th {\n        vertical-align: top;\n    }\n\n    .dataframe thead th {\n        text-align: right;\n    }\n</style>\n<table border=\"1\" class=\"dataframe\">\n  <thead>\n    <tr style=\"text-align: right;\">\n      <th></th>\n      <th>t</th>\n      <th>x</th>\n      <th>U</th>\n      <th>Y</th>\n    </tr>\n  </thead>\n  <tbody>\n    <tr>\n      <th>0</th>\n      <td>0.000</td>\n      <td>0.0</td>\n      <td>0.978006</td>\n      <td>0.0</td>\n    </tr>\n    <tr>\n      <th>1</th>\n      <td>0.025</td>\n      <td>0.0</td>\n      <td>1.009034</td>\n      <td>0.0</td>\n    </tr>\n    <tr>\n      <th>2</th>\n      <td>0.050</td>\n      <td>0.0</td>\n      <td>1.006165</td>\n      <td>0.0</td>\n    </tr>\n    <tr>\n      <th>3</th>\n      <td>0.075</td>\n      <td>0.0</td>\n      <td>0.967695</td>\n      <td>0.0</td>\n    </tr>\n    <tr>\n      <th>4</th>\n      <td>0.100</td>\n      <td>0.0</td>\n      <td>0.893023</td>\n      <td>0.0</td>\n    </tr>\n  </tbody>\n</table>\n</div>"
     },
     "metadata": {},
     "output_type": "display_data"
    }
   ],
   "source": [
    "import pandas as pd\n",
    "data = pd.read_csv('../data/demToy1GPGene.csv')\n",
    "data = pd.read_csv('../data/demToy1GPmRNA.csv')\n",
    "display(data.head(5))\n",
    "\n",
    "vals = data.values\n",
    "\n",
    "def plot_output(ax, output, title=None):\n",
    "    ax.set_title(title)\n",
    "    ax.plot(output)\n",
    "    ax.set_xlabel('distance')\n",
    "    ax.set_ylabel('y')\n",
    "def scatter_output(ax, output, title=None):\n",
    "    ax.set_title(title)\n",
    "    ax.scatter(data.iloc[:, 0], data.iloc[:, 1], c=output)\n",
    "    ax.set_xlabel('time')\n",
    "    ax.set_ylabel('distance')\n",
    "    ax.set_aspect('equal')"
   ],
   "metadata": {
    "collapsed": false,
    "pycharm": {
     "name": "#%%\n"
    }
   }
  },
  {
   "cell_type": "code",
   "execution_count": 3,
   "outputs": [],
   "source": [
    "## REACTION DIFFUSION FENICS MODULE\n",
    "class ReactionDiffusion(torch_fenics.FEniCSModule):\n",
    "    # Construct variables which can be in the constructor\n",
    "    def __init__(self, mesh_cells):\n",
    "        super().__init__()\n",
    "\n",
    "        # Create function space\n",
    "        mesh = UnitIntervalMesh(mesh_cells)\n",
    "        self.V = FunctionSpace(mesh, 'P', 1)\n",
    "\n",
    "        # Create trial and test functions\n",
    "        y = TrialFunction(self.V)\n",
    "        self.v = TestFunction(self.V)\n",
    "\n",
    "\n",
    "    def solve(self, y_prev, u, sensitivity, decay, diffusion):\n",
    "        # Construct bilinear form (Arity = 2 (for both Trial and Test function))\n",
    "        y = TrialFunction(self.V)\n",
    "        self.a = (1 + dt * decay) * y * self.v * dx +\\\n",
    "         dt * diffusion * inner(grad(y), grad(self.v)) * dx\n",
    "\n",
    "        # Construct linear form\n",
    "        L = (y_prev + dt * sensitivity * u) * self.v * dx\n",
    "\n",
    "        # Construct boundary condition\n",
    "        bc = DirichletBC(self.V, Constant(0), 'on_boundary')\n",
    "\n",
    "        # Solve the Poisson equation\n",
    "        y = Function(self.V)\n",
    "        solve(self.a == L, y, bc)\n",
    "\n",
    "        return y\n",
    "\n",
    "    def input_templates(self):\n",
    "        # Declare templates for the inputs to Poisson.solve\n",
    "        return Function(self.V), Function(self.V), \\\n",
    "               Constant(0), Constant(0), Constant(0)"
   ],
   "metadata": {
    "collapsed": false,
    "pycharm": {
     "name": "#%%\n"
    }
   }
  },
  {
   "cell_type": "code",
   "execution_count": 54,
   "outputs": [],
   "source": [
    "from torch.nn import Parameter\n",
    "from lafomo.datasets import LFMDataset\n",
    "from lafomo import LFM\n",
    "from lafomo.variational.models import OrdinaryLFM\n",
    "\n",
    "T = 1.0            # final time\n",
    "num_steps = 40     # number of time steps\n",
    "dt = T / num_steps # time step size\n",
    "\n",
    "class PartialLFM(OrdinaryLFM):\n",
    "    def __init__(self, num_outputs, num_latents, t_inducing,\n",
    "                 dataset: LFMDataset, options: VariationalOptions, dtype=torch.float64):\n",
    "        super().__init__(num_outputs, num_latents, t_inducing, dataset, options, dtype)\n",
    "        if self.options.initial_conditions:\n",
    "            raise Exception('Initial conditions are not implemented for PartialLFM.')\n",
    "\n",
    "        self.mesh_cells = 40\n",
    "        self.fenics_module = ReactionDiffusion(self.mesh_cells)\n",
    "        self.sensitivity = Parameter(torch.ones((1, 1), dtype=torch.float64), requires_grad=True)\n",
    "        self.decay = Parameter(0.1*torch.ones((1, 1), dtype=torch.float64), requires_grad=True)\n",
    "        self.diffusion = Parameter(0.01*torch.ones((1, 1), dtype=torch.float64), requires_grad=True)\n",
    "\n",
    "    def forward(self, t, h, compute_var=False, return_samples=False):\n",
    "        \"\"\"\n",
    "        t : torch.Tensor\n",
    "            Shape (num_times)\n",
    "        h : torch.Tensor the initial state of the ODE\n",
    "            Shape (num_genes, 1)\n",
    "        Returns\n",
    "        -------\n",
    "        Returns evolved h across times t.\n",
    "        Shape (num_genes, num_points).\n",
    "        \"\"\"\n",
    "        self.nfe = 0\n",
    "\n",
    "        # Precompute variables\n",
    "        self.Kmm = self.kernel(self.inducing_inputs)\n",
    "        self.L = torch.cholesky(self.Kmm)\n",
    "        q_cholS = torch.tril(self.q_cholS)\n",
    "        self.S = torch.matmul(q_cholS, torch.transpose(q_cholS, 1, 2))\n",
    "\n",
    "        # Integrate forward from the initial positions h0.\n",
    "        h0 = self.initial_state(h)\n",
    "\n",
    "        ####\n",
    "        outputs = list()\n",
    "        y_prev = torch.zeros((1, self.mesh_cells + 1), requires_grad=False, dtype=torch.float64)\n",
    "        t_index = 0\n",
    "\n",
    "        for n in range(num_steps+1):\n",
    "            u = data[data['t'] == t[t_index]]['U'].values\n",
    "            u = torch.tensor(u, requires_grad=False).unsqueeze(0)\n",
    "            print(u.shape)\n",
    "            u = self.get_latents(t[t_index])\n",
    "            print(u.shape)\n",
    "            y_prev = self.fenics_module(y_prev, u,\n",
    "                                        self.sensitivity, self.decay, self.diffusion)\n",
    "\n",
    "            # y_prev shape (N, 21)\n",
    "            t_index += 1\n",
    "            outputs.append(y_prev)\n",
    "        outputs = torch.stack(outputs).permute(1, 0, 2)  # shape (batch, times, distance)\n",
    "\n",
    "        return outputs\n",
    "        ####\n",
    "        # h_samples = odeint(self.odefunc, h0, t, )  # (T, S, num_outputs, 1)\n",
    "        #\n",
    "        # if return_samples:\n",
    "        #     return h_samples\n",
    "        #\n",
    "        # h_out = torch.mean(h_samples, dim=1).transpose(0, 1)\n",
    "        # h_std = torch.std(h_samples, dim=1).transpose(0, 1)\n",
    "        #\n",
    "        # if compute_var:\n",
    "        #     return self.decode(h_out), h_std\n",
    "        # return self.decode(h_out)\n"
   ],
   "metadata": {
    "collapsed": false,
    "pycharm": {
     "name": "#%%\n"
    }
   }
  },
  {
   "cell_type": "code",
   "execution_count": 55,
   "outputs": [
    {
     "name": "stderr",
     "output_type": "stream",
     "text": [
      "/Users/jacob/Documents/proj/reggae/lafomo/variational/models/model.py:36: UserWarning: To copy construct from a tensor, it is recommended to use sourceTensor.clone().detach() or sourceTensor.clone().detach().requires_grad_(True), rather than torch.tensor(sourceTensor).\n",
      "  self.inducing_inputs = Parameter(torch.tensor(t_inducing), requires_grad=options.learn_inducing)\n"
     ]
    }
   ],
   "source": [
    "from lafomo.variational.trainer import Trainer\n",
    "\n",
    "class PDETrainer(Trainer):\n",
    "\n",
    "    def single_epoch(self, *args):\n",
    "        epoch_loss = 0\n",
    "        epoch_ll = 0\n",
    "        epoch_kl = 0\n",
    "        output = None\n",
    "        # for i, data in enumerate(self.data_loader):\n",
    "\n",
    "        self.optimizer.zero_grad()\n",
    "        # t, y = data\n",
    "        # t = t.cuda() if is_cuda() else t\n",
    "        # y = y.cuda() if is_cuda() else y\n",
    "        # # Assume that the batch of t s are the same\n",
    "        # t, y = t[0].view(-1), y\n",
    "        # initial_value = self.initial_value(y)\n",
    "        initial_value = None\n",
    "        t = data['t'].values\n",
    "\n",
    "        output = self.model(t, initial_value)\n",
    "\n",
    "        y_target = torch.tensor(data['Y'].values).unsqueeze(0)\n",
    "        print(y_target.shape)\n",
    "        print(output.shape)\n",
    "        output = output.transpose(1, 2).reshape(-1)\n",
    "        print(output.shape)\n",
    "        # loss = self.loss_fn(y_prev, y_target)\n",
    "        # loss.backward()\n",
    "        fig, axes = plt.subplots(ncols=2)\n",
    "        scatter_output(axes[0], output.detach(), 'Prediction')\n",
    "        scatter_output(axes[1], data.iloc[:, 3], 'Actual')\n",
    "\n",
    "        # Calc loss and backprop gradients\n",
    "        mult = 1\n",
    "        if self.num_epochs <= 10:\n",
    "            mult = self.num_epochs/10\n",
    "\n",
    "        ll, kl = self.model.elbo(y_target, output, mult)\n",
    "        total_loss = -ll #+ kl\n",
    "\n",
    "        total_loss.backward()\n",
    "        print('ses', self.model.sensitivity)\n",
    "        print('grad', self.model.sensitivity.grad)\n",
    "\n",
    "        self.optimizer.step()\n",
    "        print(\"ses\", self.model.sensitivity)\n",
    "\n",
    "        epoch_loss += total_loss.item()\n",
    "        epoch_ll += ll.item()\n",
    "        epoch_kl += kl.item()\n",
    "\n",
    "        # end for\n",
    "        return output, epoch_loss, (-epoch_ll, epoch_kl)\n",
    "\n",
    "\n",
    "options = VariationalOptions(initial_conditions=False)\n",
    "\n",
    "dataset = ToySpatialTranscriptomics()\n",
    "model = PartialLFM(1, 1, torch.ones(10), dataset, options)\n",
    "optimizer = torch.optim.Adam(model.parameters(), lr=0.05)\n",
    "trainer = PDETrainer(model, optimizer, dataset)"
   ],
   "metadata": {
    "collapsed": false,
    "pycharm": {
     "name": "#%%\n"
    }
   }
  },
  {
   "cell_type": "code",
   "execution_count": 56,
   "outputs": [
    {
     "name": "stdout",
     "output_type": "stream",
     "text": [
      "torch.Size([1, 41])\n"
     ]
    },
    {
     "ename": "TypeError",
     "evalue": "Cannot interpret '-1' as a data type",
     "output_type": "error",
     "traceback": [
      "\u001B[0;31m---------------------------------------------------------------------------\u001B[0m",
      "\u001B[0;31mTypeError\u001B[0m                                 Traceback (most recent call last)",
      "\u001B[0;32m<ipython-input-56-40839d992a4e>\u001B[0m in \u001B[0;36m<module>\u001B[0;34m\u001B[0m\n\u001B[0;32m----> 1\u001B[0;31m \u001B[0mtrainer\u001B[0m\u001B[0;34m.\u001B[0m\u001B[0mtrain\u001B[0m\u001B[0;34m(\u001B[0m\u001B[0;36m2\u001B[0m\u001B[0;34m)\u001B[0m\u001B[0;34m\u001B[0m\u001B[0;34m\u001B[0m\u001B[0m\n\u001B[0m",
      "\u001B[0;32m~/Documents/proj/reggae/lafomo/variational/trainer.py\u001B[0m in \u001B[0;36mtrain\u001B[0;34m(self, epochs, report_interval, plot_interval, rtol, atol)\u001B[0m\n\u001B[1;32m     44\u001B[0m \u001B[0;34m\u001B[0m\u001B[0m\n\u001B[1;32m     45\u001B[0m         \u001B[0;32mfor\u001B[0m \u001B[0mepoch\u001B[0m \u001B[0;32min\u001B[0m \u001B[0mrange\u001B[0m\u001B[0;34m(\u001B[0m\u001B[0mepochs\u001B[0m\u001B[0;34m)\u001B[0m\u001B[0;34m:\u001B[0m\u001B[0;34m\u001B[0m\u001B[0;34m\u001B[0m\u001B[0m\n\u001B[0;32m---> 46\u001B[0;31m             \u001B[0moutput\u001B[0m\u001B[0;34m,\u001B[0m \u001B[0mepoch_loss\u001B[0m\u001B[0;34m,\u001B[0m \u001B[0msplit_loss\u001B[0m \u001B[0;34m=\u001B[0m \u001B[0mself\u001B[0m\u001B[0;34m.\u001B[0m\u001B[0msingle_epoch\u001B[0m\u001B[0;34m(\u001B[0m\u001B[0mrtol\u001B[0m\u001B[0;34m,\u001B[0m \u001B[0matol\u001B[0m\u001B[0;34m)\u001B[0m\u001B[0;34m\u001B[0m\u001B[0;34m\u001B[0m\u001B[0m\n\u001B[0m\u001B[1;32m     47\u001B[0m \u001B[0;34m\u001B[0m\u001B[0m\n\u001B[1;32m     48\u001B[0m             \u001B[0;32mif\u001B[0m \u001B[0;34m(\u001B[0m\u001B[0mepoch\u001B[0m \u001B[0;34m%\u001B[0m \u001B[0mreport_interval\u001B[0m\u001B[0;34m)\u001B[0m \u001B[0;34m==\u001B[0m \u001B[0;36m0\u001B[0m\u001B[0;34m:\u001B[0m\u001B[0;34m\u001B[0m\u001B[0;34m\u001B[0m\u001B[0m\n",
      "\u001B[0;32m<ipython-input-55-87d5f090d37d>\u001B[0m in \u001B[0;36msingle_epoch\u001B[0;34m(self, *args)\u001B[0m\n\u001B[1;32m     20\u001B[0m         \u001B[0mt\u001B[0m \u001B[0;34m=\u001B[0m \u001B[0mdata\u001B[0m\u001B[0;34m[\u001B[0m\u001B[0;34m't'\u001B[0m\u001B[0;34m]\u001B[0m\u001B[0;34m.\u001B[0m\u001B[0mvalues\u001B[0m\u001B[0;34m\u001B[0m\u001B[0;34m\u001B[0m\u001B[0m\n\u001B[1;32m     21\u001B[0m \u001B[0;34m\u001B[0m\u001B[0m\n\u001B[0;32m---> 22\u001B[0;31m         \u001B[0moutput\u001B[0m \u001B[0;34m=\u001B[0m \u001B[0mself\u001B[0m\u001B[0;34m.\u001B[0m\u001B[0mmodel\u001B[0m\u001B[0;34m(\u001B[0m\u001B[0mt\u001B[0m\u001B[0;34m,\u001B[0m \u001B[0minitial_value\u001B[0m\u001B[0;34m)\u001B[0m\u001B[0;34m\u001B[0m\u001B[0;34m\u001B[0m\u001B[0m\n\u001B[0m\u001B[1;32m     23\u001B[0m \u001B[0;34m\u001B[0m\u001B[0m\n\u001B[1;32m     24\u001B[0m         \u001B[0my_target\u001B[0m \u001B[0;34m=\u001B[0m \u001B[0mtorch\u001B[0m\u001B[0;34m.\u001B[0m\u001B[0mtensor\u001B[0m\u001B[0;34m(\u001B[0m\u001B[0mdata\u001B[0m\u001B[0;34m[\u001B[0m\u001B[0;34m'Y'\u001B[0m\u001B[0;34m]\u001B[0m\u001B[0;34m.\u001B[0m\u001B[0mvalues\u001B[0m\u001B[0;34m)\u001B[0m\u001B[0;34m.\u001B[0m\u001B[0munsqueeze\u001B[0m\u001B[0;34m(\u001B[0m\u001B[0;36m0\u001B[0m\u001B[0;34m)\u001B[0m\u001B[0;34m\u001B[0m\u001B[0;34m\u001B[0m\u001B[0m\n",
      "\u001B[0;32m~/miniconda3/envs/wishart/lib/python3.7/site-packages/torch/nn/modules/module.py\u001B[0m in \u001B[0;36m_call_impl\u001B[0;34m(self, *input, **kwargs)\u001B[0m\n\u001B[1;32m    725\u001B[0m             \u001B[0mresult\u001B[0m \u001B[0;34m=\u001B[0m \u001B[0mself\u001B[0m\u001B[0;34m.\u001B[0m\u001B[0m_slow_forward\u001B[0m\u001B[0;34m(\u001B[0m\u001B[0;34m*\u001B[0m\u001B[0minput\u001B[0m\u001B[0;34m,\u001B[0m \u001B[0;34m**\u001B[0m\u001B[0mkwargs\u001B[0m\u001B[0;34m)\u001B[0m\u001B[0;34m\u001B[0m\u001B[0;34m\u001B[0m\u001B[0m\n\u001B[1;32m    726\u001B[0m         \u001B[0;32melse\u001B[0m\u001B[0;34m:\u001B[0m\u001B[0;34m\u001B[0m\u001B[0;34m\u001B[0m\u001B[0m\n\u001B[0;32m--> 727\u001B[0;31m             \u001B[0mresult\u001B[0m \u001B[0;34m=\u001B[0m \u001B[0mself\u001B[0m\u001B[0;34m.\u001B[0m\u001B[0mforward\u001B[0m\u001B[0;34m(\u001B[0m\u001B[0;34m*\u001B[0m\u001B[0minput\u001B[0m\u001B[0;34m,\u001B[0m \u001B[0;34m**\u001B[0m\u001B[0mkwargs\u001B[0m\u001B[0;34m)\u001B[0m\u001B[0;34m\u001B[0m\u001B[0;34m\u001B[0m\u001B[0m\n\u001B[0m\u001B[1;32m    728\u001B[0m         for hook in itertools.chain(\n\u001B[1;32m    729\u001B[0m                 \u001B[0m_global_forward_hooks\u001B[0m\u001B[0;34m.\u001B[0m\u001B[0mvalues\u001B[0m\u001B[0;34m(\u001B[0m\u001B[0;34m)\u001B[0m\u001B[0;34m,\u001B[0m\u001B[0;34m\u001B[0m\u001B[0;34m\u001B[0m\u001B[0m\n",
      "\u001B[0;32m<ipython-input-54-0064b03b0d00>\u001B[0m in \u001B[0;36mforward\u001B[0;34m(self, t, h, compute_var, return_samples)\u001B[0m\n\u001B[1;32m     52\u001B[0m             \u001B[0mu\u001B[0m \u001B[0;34m=\u001B[0m \u001B[0mtorch\u001B[0m\u001B[0;34m.\u001B[0m\u001B[0mtensor\u001B[0m\u001B[0;34m(\u001B[0m\u001B[0mu\u001B[0m\u001B[0;34m,\u001B[0m \u001B[0mrequires_grad\u001B[0m\u001B[0;34m=\u001B[0m\u001B[0;32mFalse\u001B[0m\u001B[0;34m)\u001B[0m\u001B[0;34m.\u001B[0m\u001B[0munsqueeze\u001B[0m\u001B[0;34m(\u001B[0m\u001B[0;36m0\u001B[0m\u001B[0;34m)\u001B[0m\u001B[0;34m\u001B[0m\u001B[0;34m\u001B[0m\u001B[0m\n\u001B[1;32m     53\u001B[0m             \u001B[0mprint\u001B[0m\u001B[0;34m(\u001B[0m\u001B[0mu\u001B[0m\u001B[0;34m.\u001B[0m\u001B[0mshape\u001B[0m\u001B[0;34m)\u001B[0m\u001B[0;34m\u001B[0m\u001B[0;34m\u001B[0m\u001B[0m\n\u001B[0;32m---> 54\u001B[0;31m             \u001B[0mu\u001B[0m \u001B[0;34m=\u001B[0m \u001B[0mself\u001B[0m\u001B[0;34m.\u001B[0m\u001B[0mget_latents\u001B[0m\u001B[0;34m(\u001B[0m\u001B[0mt\u001B[0m\u001B[0;34m[\u001B[0m\u001B[0mt_index\u001B[0m\u001B[0;34m]\u001B[0m\u001B[0;34m)\u001B[0m\u001B[0;34m\u001B[0m\u001B[0;34m\u001B[0m\u001B[0m\n\u001B[0m\u001B[1;32m     55\u001B[0m             \u001B[0mprint\u001B[0m\u001B[0;34m(\u001B[0m\u001B[0mu\u001B[0m\u001B[0;34m.\u001B[0m\u001B[0mshape\u001B[0m\u001B[0;34m)\u001B[0m\u001B[0;34m\u001B[0m\u001B[0;34m\u001B[0m\u001B[0m\n\u001B[1;32m     56\u001B[0m             y_prev = self.fenics_module(y_prev, u, \n",
      "\u001B[0;32m~/Documents/proj/reggae/lafomo/variational/models/model.py\u001B[0m in \u001B[0;36mget_latents\u001B[0;34m(self, t)\u001B[0m\n\u001B[1;32m    132\u001B[0m             \u001B[0mt\u001B[0m\u001B[0;34m:\u001B[0m \u001B[0mshape\u001B[0m \u001B[0;34m(\u001B[0m\u001B[0mT\u001B[0m\u001B[0;34m*\u001B[0m\u001B[0;34m,\u001B[0m\u001B[0;34m)\u001B[0m\u001B[0;34m\u001B[0m\u001B[0;34m\u001B[0m\u001B[0m\n\u001B[1;32m    133\u001B[0m         \"\"\"\n\u001B[0;32m--> 134\u001B[0;31m         \u001B[0mKsm\u001B[0m \u001B[0;34m=\u001B[0m \u001B[0mself\u001B[0m\u001B[0;34m.\u001B[0m\u001B[0mkernel\u001B[0m\u001B[0;34m(\u001B[0m\u001B[0mt\u001B[0m\u001B[0;34m,\u001B[0m \u001B[0mself\u001B[0m\u001B[0;34m.\u001B[0m\u001B[0minducing_inputs\u001B[0m\u001B[0;34m)\u001B[0m  \u001B[0;31m# (I, T*, Tu)\u001B[0m\u001B[0;34m\u001B[0m\u001B[0;34m\u001B[0m\u001B[0m\n\u001B[0m\u001B[1;32m    135\u001B[0m         \u001B[0mα\u001B[0m \u001B[0;34m=\u001B[0m \u001B[0mtorch\u001B[0m\u001B[0;34m.\u001B[0m\u001B[0mcholesky_solve\u001B[0m\u001B[0;34m(\u001B[0m\u001B[0mKsm\u001B[0m\u001B[0;34m.\u001B[0m\u001B[0mpermute\u001B[0m\u001B[0;34m(\u001B[0m\u001B[0;34m[\u001B[0m\u001B[0;36m0\u001B[0m\u001B[0;34m,\u001B[0m \u001B[0;36m2\u001B[0m\u001B[0;34m,\u001B[0m \u001B[0;36m1\u001B[0m\u001B[0;34m]\u001B[0m\u001B[0;34m)\u001B[0m\u001B[0;34m,\u001B[0m \u001B[0mself\u001B[0m\u001B[0;34m.\u001B[0m\u001B[0mL\u001B[0m\u001B[0;34m,\u001B[0m \u001B[0mupper\u001B[0m\u001B[0;34m=\u001B[0m\u001B[0;32mFalse\u001B[0m\u001B[0;34m)\u001B[0m\u001B[0;34m.\u001B[0m\u001B[0mpermute\u001B[0m\u001B[0;34m(\u001B[0m\u001B[0;34m[\u001B[0m\u001B[0;36m0\u001B[0m\u001B[0;34m,\u001B[0m \u001B[0;36m2\u001B[0m\u001B[0;34m,\u001B[0m \u001B[0;36m1\u001B[0m\u001B[0;34m]\u001B[0m\u001B[0;34m)\u001B[0m  \u001B[0;31m# (I, T*, Tu)\u001B[0m\u001B[0;34m\u001B[0m\u001B[0;34m\u001B[0m\u001B[0m\n\u001B[1;32m    136\u001B[0m         \u001B[0mm_s\u001B[0m \u001B[0;34m=\u001B[0m \u001B[0mtorch\u001B[0m\u001B[0;34m.\u001B[0m\u001B[0mmatmul\u001B[0m\u001B[0;34m(\u001B[0m\u001B[0mα\u001B[0m\u001B[0;34m,\u001B[0m \u001B[0mself\u001B[0m\u001B[0;34m.\u001B[0m\u001B[0mq_m\u001B[0m\u001B[0;34m)\u001B[0m  \u001B[0;31m# (I, T*, 1)\u001B[0m\u001B[0;34m\u001B[0m\u001B[0;34m\u001B[0m\u001B[0m\n",
      "\u001B[0;32m~/miniconda3/envs/wishart/lib/python3.7/site-packages/torch/nn/modules/module.py\u001B[0m in \u001B[0;36m_call_impl\u001B[0;34m(self, *input, **kwargs)\u001B[0m\n\u001B[1;32m    725\u001B[0m             \u001B[0mresult\u001B[0m \u001B[0;34m=\u001B[0m \u001B[0mself\u001B[0m\u001B[0;34m.\u001B[0m\u001B[0m_slow_forward\u001B[0m\u001B[0;34m(\u001B[0m\u001B[0;34m*\u001B[0m\u001B[0minput\u001B[0m\u001B[0;34m,\u001B[0m \u001B[0;34m**\u001B[0m\u001B[0mkwargs\u001B[0m\u001B[0;34m)\u001B[0m\u001B[0;34m\u001B[0m\u001B[0;34m\u001B[0m\u001B[0m\n\u001B[1;32m    726\u001B[0m         \u001B[0;32melse\u001B[0m\u001B[0;34m:\u001B[0m\u001B[0;34m\u001B[0m\u001B[0;34m\u001B[0m\u001B[0m\n\u001B[0;32m--> 727\u001B[0;31m             \u001B[0mresult\u001B[0m \u001B[0;34m=\u001B[0m \u001B[0mself\u001B[0m\u001B[0;34m.\u001B[0m\u001B[0mforward\u001B[0m\u001B[0;34m(\u001B[0m\u001B[0;34m*\u001B[0m\u001B[0minput\u001B[0m\u001B[0;34m,\u001B[0m \u001B[0;34m**\u001B[0m\u001B[0mkwargs\u001B[0m\u001B[0;34m)\u001B[0m\u001B[0;34m\u001B[0m\u001B[0;34m\u001B[0m\u001B[0m\n\u001B[0m\u001B[1;32m    728\u001B[0m         for hook in itertools.chain(\n\u001B[1;32m    729\u001B[0m                 \u001B[0m_global_forward_hooks\u001B[0m\u001B[0;34m.\u001B[0m\u001B[0mvalues\u001B[0m\u001B[0;34m(\u001B[0m\u001B[0;34m)\u001B[0m\u001B[0;34m,\u001B[0m\u001B[0;34m\u001B[0m\u001B[0;34m\u001B[0m\u001B[0m\n",
      "\u001B[0;32m~/Documents/proj/reggae/lafomo/kernels/stationary.py\u001B[0m in \u001B[0;36mforward\u001B[0;34m(self, x, x2)\u001B[0m\n\u001B[1;32m     41\u001B[0m         \u001B[0;32mif\u001B[0m \u001B[0mx2\u001B[0m \u001B[0;32mis\u001B[0m \u001B[0;32mNone\u001B[0m\u001B[0;34m:\u001B[0m\u001B[0;34m\u001B[0m\u001B[0;34m\u001B[0m\u001B[0m\n\u001B[1;32m     42\u001B[0m             \u001B[0mx2\u001B[0m \u001B[0;34m=\u001B[0m \u001B[0mx\u001B[0m\u001B[0;34m\u001B[0m\u001B[0;34m\u001B[0m\u001B[0m\n\u001B[0;32m---> 43\u001B[0;31m         \u001B[0mx\u001B[0m \u001B[0;34m=\u001B[0m \u001B[0mx\u001B[0m\u001B[0;34m.\u001B[0m\u001B[0mview\u001B[0m\u001B[0;34m(\u001B[0m\u001B[0;34m-\u001B[0m\u001B[0;36m1\u001B[0m\u001B[0;34m)\u001B[0m\u001B[0;34m\u001B[0m\u001B[0;34m\u001B[0m\u001B[0m\n\u001B[0m\u001B[1;32m     44\u001B[0m         \u001B[0mx2\u001B[0m \u001B[0;34m=\u001B[0m \u001B[0mx2\u001B[0m\u001B[0;34m.\u001B[0m\u001B[0mview\u001B[0m\u001B[0;34m(\u001B[0m\u001B[0;34m-\u001B[0m\u001B[0;36m1\u001B[0m\u001B[0;34m)\u001B[0m\u001B[0;34m\u001B[0m\u001B[0;34m\u001B[0m\u001B[0m\n\u001B[1;32m     45\u001B[0m         \u001B[0msq_dist\u001B[0m \u001B[0;34m=\u001B[0m \u001B[0mtorch\u001B[0m\u001B[0;34m.\u001B[0m\u001B[0msquare\u001B[0m\u001B[0;34m(\u001B[0m\u001B[0mx\u001B[0m\u001B[0;34m.\u001B[0m\u001B[0mview\u001B[0m\u001B[0;34m(\u001B[0m\u001B[0;34m-\u001B[0m\u001B[0;36m1\u001B[0m\u001B[0;34m,\u001B[0m \u001B[0;36m1\u001B[0m\u001B[0;34m)\u001B[0m\u001B[0;34m-\u001B[0m\u001B[0mx2\u001B[0m\u001B[0;34m)\u001B[0m\u001B[0;34m\u001B[0m\u001B[0;34m\u001B[0m\u001B[0m\n",
      "\u001B[0;31mTypeError\u001B[0m: Cannot interpret '-1' as a data type"
     ]
    }
   ],
   "source": [
    "trainer.train(2)"
   ],
   "metadata": {
    "collapsed": false,
    "pycharm": {
     "name": "#%%\n"
    }
   }
  },
  {
   "cell_type": "code",
   "execution_count": 14,
   "outputs": [
    {
     "ename": "NameError",
     "evalue": "name 'us' is not defined",
     "output_type": "error",
     "traceback": [
      "\u001B[0;31m---------------------------------------------------------------------------\u001B[0m",
      "\u001B[0;31mNameError\u001B[0m                                 Traceback (most recent call last)",
      "\u001B[0;32m<ipython-input-14-d19c88869966>\u001B[0m in \u001B[0;36m<module>\u001B[0;34m\u001B[0m\n\u001B[1;32m     12\u001B[0m \u001B[0;34m\u001B[0m\u001B[0m\n\u001B[1;32m     13\u001B[0m \u001B[0mfig\u001B[0m\u001B[0;34m,\u001B[0m \u001B[0maxes\u001B[0m \u001B[0;34m=\u001B[0m \u001B[0mplt\u001B[0m\u001B[0;34m.\u001B[0m\u001B[0msubplots\u001B[0m\u001B[0;34m(\u001B[0m\u001B[0mncols\u001B[0m\u001B[0;34m=\u001B[0m\u001B[0;36m2\u001B[0m\u001B[0;34m)\u001B[0m\u001B[0;34m\u001B[0m\u001B[0;34m\u001B[0m\u001B[0m\n\u001B[0;32m---> 14\u001B[0;31m \u001B[0mprint\u001B[0m\u001B[0;34m(\u001B[0m\u001B[0mus\u001B[0m\u001B[0;34m.\u001B[0m\u001B[0mshape\u001B[0m\u001B[0;34m)\u001B[0m\u001B[0;34m\u001B[0m\u001B[0;34m\u001B[0m\u001B[0m\n\u001B[0m\u001B[1;32m     15\u001B[0m \u001B[0mscatter_output\u001B[0m\u001B[0;34m(\u001B[0m\u001B[0maxes\u001B[0m\u001B[0;34m[\u001B[0m\u001B[0;36m0\u001B[0m\u001B[0;34m]\u001B[0m\u001B[0;34m,\u001B[0m \u001B[0mus\u001B[0m\u001B[0;34m.\u001B[0m\u001B[0mtranspose\u001B[0m\u001B[0;34m(\u001B[0m\u001B[0;36m1\u001B[0m\u001B[0;34m,\u001B[0m \u001B[0;36m2\u001B[0m\u001B[0;34m)\u001B[0m\u001B[0;34m.\u001B[0m\u001B[0mreshape\u001B[0m\u001B[0;34m(\u001B[0m\u001B[0;34m-\u001B[0m\u001B[0;36m1\u001B[0m\u001B[0;34m)\u001B[0m\u001B[0;34m,\u001B[0m \u001B[0;34m'Prediction'\u001B[0m\u001B[0;34m)\u001B[0m\u001B[0;34m\u001B[0m\u001B[0;34m\u001B[0m\u001B[0m\n\u001B[1;32m     16\u001B[0m \u001B[0mscatter_output\u001B[0m\u001B[0;34m(\u001B[0m\u001B[0maxes\u001B[0m\u001B[0;34m[\u001B[0m\u001B[0;36m1\u001B[0m\u001B[0;34m]\u001B[0m\u001B[0;34m,\u001B[0m \u001B[0mdata\u001B[0m\u001B[0;34m.\u001B[0m\u001B[0miloc\u001B[0m\u001B[0;34m[\u001B[0m\u001B[0;34m:\u001B[0m\u001B[0;34m,\u001B[0m \u001B[0;36m3\u001B[0m\u001B[0;34m]\u001B[0m\u001B[0;34m,\u001B[0m \u001B[0;34m'Actual'\u001B[0m\u001B[0;34m)\u001B[0m\u001B[0;34m\u001B[0m\u001B[0;34m\u001B[0m\u001B[0m\n",
      "\u001B[0;31mNameError\u001B[0m: name 'us' is not defined"
     ]
    },
    {
     "data": {
      "text/plain": "<Figure size 432x288 with 2 Axes>",
      "image/png": "[encoded data removed]"
     },
     "metadata": {},
     "output_type": "display_data"
    }
   ],
   "source": [
    "fig, axes = plt.subplots(ncols=2)\n",
    "scatter_output(axes[0], us.transpose(1, 2).reshape(-1), 'Prediction')\n",
    "scatter_output(axes[1], data.iloc[:, 3], 'Actual')\n",
    "\n",
    "plt.tight_layout()\n",
    "fig, axes = plt.subplots(ncols=2)\n",
    "plot_output(axes[0], us[0, 4, :], 'Prediction')\n",
    "plot_output(axes[1], data[data['t'] == ts[4]].iloc[:, 3], 'Actual')"
   ],
   "metadata": {
    "collapsed": false,
    "pycharm": {
     "name": "#%%\n"
    }
   }
  },
  {
   "cell_type": "code",
   "execution_count": 94,
   "outputs": [
    {
     "data": {
      "text/plain": "Text(0, 0.5, 'u')"
     },
     "execution_count": 94,
     "metadata": {},
     "output_type": "execute_result"
    },
    {
     "data": {
      "text/plain": "<Figure size 432x288 with 1 Axes>",
      "image/png": "[encoded data removed]"
     },
     "metadata": {},
     "output_type": "display_data"
    }
   ],
   "source": [
    "plt.plot(data[data['t'] == ts[5]].iloc[:, 2])\n",
    "plt.xlabel('distance')\n",
    "plt.ylabel('u')\n",
    "\n"
   ],
   "metadata": {
    "collapsed": false,
    "pycharm": {
     "name": "#%%\n"
    }
   }
  },
  {
   "cell_type": "code",
   "execution_count": null,
   "outputs": [],
   "source": [],
   "metadata": {
    "collapsed": false,
    "pycharm": {
     "name": "#%%\n"
    }
   }
  }
 ],
 "metadata": {
  "kernelspec": {
   "name": "python3",
   "language": "python",
   "display_name": "Python 3"
  },
  "language_info": {
   "codemirror_mode": {
    "name": "ipython",
    "version": 2
   },
   "file_extension": ".py",
   "mimetype": "text/x-python",
   "name": "python",
   "nbconvert_exporter": "python",
   "pygments_lexer": "ipython2",
   "version": "2.7.6"
  }
 },
 "nbformat": 4,
 "nbformat_minor": 0
}