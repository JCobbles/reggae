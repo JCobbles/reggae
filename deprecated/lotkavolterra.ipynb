{
 "cells": [
  {
   "cell_type": "code",
   "execution_count": 1,
   "metadata": {
    "collapsed": true
   },
   "outputs": [],
   "source": [
    "import torch\n",
    "torch.set_default_dtype(torch.float64)\n",
    "\n",
    "from reggae.utilities import save, load, LFMDataset\n",
    "from reggae.gp.variational.models import MLPLFM, ExponentialLFM\n",
    "from reggae.utilities import inv_softplus\n",
    "from reggae.data_loaders.datasets import DeterministicLotkaVolteraData\n",
    "from torch.utils.data import Dataset, DataLoader\n",
    "from reggae.data_loaders import load_humanp53\n",
    "from reggae.plot.variational_plotters import Plotter\n",
    "from matplotlib import pyplot as plt\n",
    "\n",
    "import numpy as np\n",
    "\n",
    "f64 = np.float64"
   ]
  },
  {
   "cell_type": "code",
   "execution_count": 9,
   "outputs": [
    {
     "name": "stdout",
     "output_type": "stream",
     "text": [
      "Lotka-Voltera is in {self.mode} mode.\n",
      "Creating dataset...\n",
      "2\n"
     ]
    },
    {
     "name": "stderr",
     "output_type": "stream",
     "text": [
      "100%|██████████| 50/50 [00:00<00:00, 450.73it/s]\n"
     ]
    },
    {
     "data": {
      "text/plain": "<Figure size 432x288 with 1 Axes>",
      "image/png": "[encoded data removed]"
     },
     "metadata": {},
     "output_type": "display_data"
    }
   ],
   "source": [
    "dataset = DeterministicLotkaVolteraData(alpha = 2./3,\n",
    "\t\t\t\t\t\t\tbeta = 4./3, gamma = 1., delta = 1.,\n",
    "\t\t\t\t\t\t\tnum_samples=50)\n",
    "x_min, x_max = 0.0, 1.5\n",
    "initial_x = -0.1\n",
    "\n",
    "print(len(dataset.data[0]))\n",
    "plt.plot(dataset.data[0][0], dataset.data[0][1])\n",
    "\n",
    "num_latents = 2\n",
    "num_outputs = 2\n",
    "\n",
    "t_predict = torch.linspace(x_min, x_max, 50)\n",
    "t_inducing = torch.linspace(f64(x_min), f64(x_max), 5, dtype=torch.float32).reshape((-1, 1))\n",
    "t_observed = dataset.data[0][0].view(-1)\n",
    "output_names = np.array(['pred','prey'])\n",
    "\n"
   ],
   "metadata": {
    "collapsed": false,
    "pycharm": {
     "name": "#%%\n"
    }
   }
  },
  {
   "cell_type": "code",
   "execution_count": null,
   "outputs": [],
   "source": [
    "model = MLPLFM(num_outputs, num_latents, t_inducing, dataset)\n",
    "optimizer = torch.optim.Adam(model.parameters(), lr=0.2)\n",
    "\n",
    "trainer = Trainer(model, optimizer, dataset)"
   ],
   "metadata": {
    "collapsed": false,
    "pycharm": {
     "name": "#%%\n"
    }
   }
  },
  {
   "cell_type": "markdown",
   "source": [
    "### Outputs prior to training:"
   ],
   "metadata": {
    "collapsed": false,
    "pycharm": {
     "name": "#%% md\n"
    }
   }
  },
  {
   "cell_type": "code",
   "execution_count": null,
   "outputs": [],
   "source": [
    "rtol = 5e-3\n",
    "atol = rtol/10\n",
    "model_kwargs = {\n",
    "    'rtol': rtol, 'atol': atol,\n",
    "    'num_samples': 1\n",
    "}\n",
    "plotter = Plotter(model, output_names, t_inducing)\n",
    "plotter.plot_outputs(t_predict, model_kwargs=model_kwargs)\n",
    "plotter.plot_tfs()\n"
   ],
   "metadata": {
    "collapsed": false,
    "pycharm": {
     "name": "#%%\n"
    }
   }
  },
  {
   "cell_type": "code",
   "execution_count": null,
   "outputs": [],
   "source": [
    "tol = 1e-3\n",
    "# trainer = Trainer(optimizer)\n",
    "output = trainer.train(10, rtol=tol, atol=tol/10, report_interval=1, plot_interval=2)"
   ],
   "metadata": {
    "collapsed": false,
    "pycharm": {
     "name": "#%%\n"
    }
   }
  },
  {
   "cell_type": "markdown",
   "source": [
    "### Outputs after training"
   ],
   "metadata": {
    "collapsed": false,
    "pycharm": {
     "name": "#%% md\n"
    }
   }
  },
  {
   "cell_type": "code",
   "execution_count": null,
   "outputs": [],
   "source": [
    "tol = 1e-3\n",
    "plotter = Plotter(model, output_names, t_inducing)\n",
    "plotter.plot_outputs(t_predict, model_kwargs=model_kwargs)\n",
    "plotter.plot_tfs()"
   ],
   "metadata": {
    "collapsed": false,
    "pycharm": {
     "name": "#%%\n"
    }
   }
  },
  {
   "cell_type": "code",
   "execution_count": null,
   "outputs": [],
   "source": [
    "save(model, 'nonlinear')"
   ],
   "metadata": {
    "collapsed": false,
    "pycharm": {
     "name": "#%%\n"
    }
   }
  },
  {
   "cell_type": "code",
   "execution_count": null,
   "outputs": [],
   "source": [
    "model = load('nonlinear', NonLinearLFM, num_genes, num_tfs, t_inducing, t_observed, fixed_variance=None)\n",
    "optimizer = torch.optim.Adam(model.parameters(), lr=0.2)\n",
    "trainer = Trainer(model, optimizer, (t_observed, m_observed))"
   ],
   "metadata": {
    "collapsed": false,
    "pycharm": {
     "name": "#%%\n"
    }
   }
  },
  {
   "cell_type": "code",
   "execution_count": null,
   "outputs": [],
   "source": [
    "titles = ['basal', 'decay', 'sensitivity', 'lengthscale']\n",
    "datas = [np.array(trainer.basalrates)[:,:,0],\n",
    "         np.array(trainer.decayrates)[:,:,0],\n",
    "         np.array(trainer.sensitivities)[:,:,0],\n",
    "         np.array(trainer.lengthscales)]\n",
    "\n",
    "plt.figure(figsize=(5, 6))\n",
    "for i, (title, data) in enumerate(zip(titles, datas)):\n",
    "    plt.subplot(411 + i)\n",
    "    plt.title(title)\n",
    "    # if data.ndim > 1:\n",
    "    #     for j in range(data.shape[1]):\n",
    "\n",
    "    plt.plot(data)"
   ],
   "metadata": {
    "collapsed": false,
    "pycharm": {
     "name": "#%%\n"
    }
   }
  },
  {
   "cell_type": "code",
   "execution_count": null,
   "outputs": [],
   "source": [],
   "metadata": {
    "collapsed": false,
    "pycharm": {
     "name": "#%%\n"
    }
   }
  }
 ],
 "metadata": {
  "kernelspec": {
   "name": "pycharm-222640c7",
   "language": "python",
   "display_name": "PyCharm (reggae)"
  },
  "language_info": {
   "codemirror_mode": {
    "name": "ipython",
    "version": 2
   },
   "file_extension": ".py",
   "mimetype": "text/x-python",
   "name": "python",
   "nbconvert_exporter": "python",
   "pygments_lexer": "ipython2",
   "version": "2.7.6"
  }
 },
 "nbformat": 4,
 "nbformat_minor": 0
}