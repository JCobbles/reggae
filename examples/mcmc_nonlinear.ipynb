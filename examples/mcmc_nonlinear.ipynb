{
 "cells": [
  {
   "cell_type": "code",
   "execution_count": 1,
   "metadata": {
    "collapsed": true
   },
   "outputs": [],
   "source": [
    "import tensorflow as tf\n",
    "import os\n",
    "\n",
    "from timeit import default_timer as timer\n",
    "from IPython.display import display\n",
    "import matplotlib.pyplot as plt\n",
    "\n",
    "from lafomo.datasets import DataHolder, HafnerData\n",
    "from lafomo.utilities.tf import discretise, logistic\n",
    "from lafomo.plot import mcmc_plotters\n",
    "from lafomo.mcmc.models import TranscriptionRegulationLFM\n",
    "from lafomo.options import MCMCOptions\n",
    "\n",
    "import numpy as np\n",
    "import pandas as pd\n",
    "import arviz\n",
    "\n",
    "plt.style.use('ggplot')\n",
    "%matplotlib inline\n",
    "f64 = np.float64\n",
    "np.set_printoptions(threshold=np.inf)\n",
    "np.set_printoptions(formatter={'float': lambda x: \"{0:0.10f}\".format(x)})"
   ]
  },
  {
   "cell_type": "code",
   "execution_count": 2,
   "outputs": [
    {
     "name": "stdout",
     "output_type": "stream",
     "text": [
      "<class 'numpy.ndarray'>\n",
      "(2, 1, 13) (2, 22, 13)\n"
     ]
    }
   ],
   "source": [
    "target_genes = [\n",
    "    'KAZN','PMAIP1','PRKAB1','CSNK1G1','E2F7','SLC30A1',\n",
    "    'PTP4A1','RAP2B','SUSD6','UBR5-AS1','RNF19B','AEN','ZNF79','XPC',\n",
    "    'FAM212B','SESN2','DCP1B','MDM2','GADD45A','SESN1','CDKN1A','BTG2'\n",
    "]\n",
    "known_target_genes = [\n",
    "    'CDKN1A', #p21\n",
    "    'SESN1', #hPA26\n",
    "    'DDB2',\n",
    "    'TNFRSF10B',\n",
    "    'BIK',\n",
    "]\n",
    "dataset = HafnerData(replicate=None, data_dir='../lafomo/data', extra_targets=False)\n",
    "num_replicates = 2\n",
    "num_genes = len(dataset.gene_names)\n",
    "num_tfs = 1\n",
    "num_times = dataset[0][0].shape[0]\n",
    "\n",
    "t_observed = np.arange(0, 13)\n",
    "t_predict = tf.linspace(0, 13, 80)\n",
    "\n",
    "m_observed = np.stack([\n",
    "    dataset[i][1] for i in range(num_genes*num_replicates)\n",
    "])\n",
    "m_observed = m_observed.reshape(num_replicates, num_genes, num_times)\n",
    "m_observed = np.float64(m_observed)\n",
    "print(type(m_observed))\n",
    "f_observed = dataset.tfs\n",
    "\n",
    "replicate = 0\n",
    "\n",
    "τ, common_indices = discretise(t_observed, num_disc=13)\n",
    "data = DataHolder((m_observed, f_observed), None, (t_observed, τ, tf.constant(common_indices)))\n",
    "\n",
    "print(f_observed.shape, m_observed.shape)\n"
   ],
   "metadata": {
    "collapsed": false,
    "pycharm": {
     "name": "#%%\n"
    }
   }
  },
  {
   "cell_type": "code",
   "execution_count": 3,
   "outputs": [],
   "source": [
    "opt = MCMCOptions(preprocessing_variance=False,\n",
    "                  latent_data_present=True,\n",
    "                  delays=False,\n",
    "                  weights=False,\n",
    "                  kinetic_exponential=True,\n",
    "                  initial_step_sizes={'logistic': 0.000005, 'latents': 10},\n",
    "                  kernel='rbf')\n",
    "\n",
    "model = TranscriptionRegulationLFM(data, opt)"
   ],
   "metadata": {
    "collapsed": false,
    "pycharm": {
     "name": "#%%\n"
    }
   }
  },
  {
   "cell_type": "code",
   "execution_count": 4,
   "outputs": [
    {
     "name": "stdout",
     "output_type": "stream",
     "text": [
      "<lafomo.mcmc.samplers.mixed.MixedSampler object at 0x000002C6927936C8>\n",
      "[['basal', 'decay', 'sensitivity', 'initial', 'protein_decay'], ['latent'], ['σ2_f'], ['σ2_m']]\n"
     ]
    }
   ],
   "source": [
    "print(model.sampler)\n",
    "print(model.sampler.ordered_param_keysets)\n",
    "#{param_key: current_state[i]"
   ],
   "metadata": {
    "collapsed": false,
    "pycharm": {
     "name": "#%%\n"
    }
   }
  },
  {
   "cell_type": "code",
   "execution_count": 5,
   "outputs": [
    {
     "name": "stdout",
     "output_type": "stream",
     "text": [
      "----- Sampling Begins -----\n",
      "{'basal': <tf.Tensor 'mcmc_sample_chain/current_state:0' shape=(22,) dtype=float64>, 'decay': <tf.Tensor 'mcmc_sample_chain/current_state_1:0' shape=(22,) dtype=float64>, 'sensitivity': <tf.Tensor 'mcmc_sample_chain/current_state_2:0' shape=(22,) dtype=float64>, 'initial': <tf.Tensor 'mcmc_sample_chain/current_state_3:0' shape=(22,) dtype=float64>, 'protein_decay': <tf.Tensor 'mcmc_sample_chain/current_state_4:0' shape=(1,) dtype=float64>, 'latent': [<tf.Tensor 'mcmc_sample_chain/current_state_5:0' shape=(2, 1, 169) dtype=float64>, <tf.Tensor 'mcmc_sample_chain/current_state_6:0' shape=(1,) dtype=float64>, <tf.Tensor 'mcmc_sample_chain/current_state_7:0' shape=(1,) dtype=float64>], 'σ2_f': <tf.Tensor 'mcmc_sample_chain/current_state_8:0' shape=(1, 1) dtype=float64>, 'σ2_m': <tf.Tensor 'mcmc_sample_chain/current_state_9:0' shape=(22, 1) dtype=float64>}\n",
      "iteration_callback() {'basal': <tf.Tensor 'mcmc_sample_chain/current_state:0' shape=(22,) dtype=float64>, 'decay': <tf.Tensor 'mcmc_sample_chain/current_state_1:0' shape=(22,) dtype=float64>, 'sensitivity': <tf.Tensor 'mcmc_sample_chain/current_state_2:0' shape=(22,) dtype=float64>, 'initial': <tf.Tensor 'mcmc_sample_chain/current_state_3:0' shape=(22,) dtype=float64>, 'protein_decay': <tf.Tensor 'mcmc_sample_chain/current_state_4:0' shape=(1,) dtype=float64>, 'latent': [<tf.Tensor 'mcmc_sample_chain/current_state_5:0' shape=(2, 1, 169) dtype=float64>, <tf.Tensor 'mcmc_sample_chain/current_state_6:0' shape=(1,) dtype=float64>, <tf.Tensor 'mcmc_sample_chain/current_state_7:0' shape=(1,) dtype=float64>], 'σ2_f': <tf.Tensor 'mcmc_sample_chain/current_state_8:0' shape=(1, 1) dtype=float64>, 'σ2_m': <tf.Tensor 'mcmc_sample_chain/current_state_9:0' shape=(22, 1) dtype=float64>}\n",
      "log_prob hmc sampler args Tensor(\"mcmc_sample_chain/current_state:0\", shape=(22,), dtype=float64, device=/job:localhost/replica:0/task:0/device:CPU:0) Tensor(\"mcmc_sample_chain/current_state_1:0\", shape=(22,), dtype=float64, device=/job:localhost/replica:0/task:0/device:CPU:0) Tensor(\"mcmc_sample_chain/current_state_2:0\", shape=(22,), dtype=float64, device=/job:localhost/replica:0/task:0/device:CPU:0) Tensor(\"mcmc_sample_chain/current_state_3:0\", shape=(22,), dtype=float64, device=/job:localhost/replica:0/task:0/device:CPU:0) Tensor(\"mcmc_sample_chain/current_state_4:0\", shape=(1,), dtype=float64, device=/job:localhost/replica:0/task:0/device:CPU:0)\n"
     ]
    },
    {
     "ename": "TypeError",
     "evalue": "in user code:\n\n    C:\\Users\\Jacob\\Documents\\proj\\reggae\\lafomo\\mcmc\\samplers\\mixed.py:62 run_chain  *\n        samples, is_accepted = tfp.mcmc.sample_chain(\n    C:\\Users\\Jacob\\Documents\\proj\\reggae\\lafomo\\mcmc\\models\\transcriptional.py:260 likelihood  *\n        return self._genes(**parameter_state)\n    C:\\Users\\Jacob\\Documents\\proj\\reggae\\lafomo\\mcmc\\models\\transcriptional.py:242 _genes  *\n        m_pred = self.predict_m(σ2_m=σ2_m, **parameter_state)\n\n    TypeError: tf__predict_m() got an unexpected keyword argument 'σ2_m'\n",
     "output_type": "error",
     "traceback": [
      "\u001B[1;31m---------------------------------------------------------------------------\u001B[0m",
      "\u001B[1;31mTypeError\u001B[0m                                 Traceback (most recent call last)",
      "\u001B[1;32m<ipython-input-5-bd912b655dfd>\u001B[0m in \u001B[0;36m<module>\u001B[1;34m\u001B[0m\n\u001B[0;32m      1\u001B[0m \u001B[0mstart\u001B[0m \u001B[1;33m=\u001B[0m \u001B[0mtimer\u001B[0m\u001B[1;33m(\u001B[0m\u001B[1;33m)\u001B[0m\u001B[1;33m\u001B[0m\u001B[1;33m\u001B[0m\u001B[0m\n\u001B[1;32m----> 2\u001B[1;33m \u001B[0msamples\u001B[0m\u001B[1;33m,\u001B[0m \u001B[0mis_accepted\u001B[0m \u001B[1;33m=\u001B[0m \u001B[0mmodel\u001B[0m\u001B[1;33m.\u001B[0m\u001B[0msample\u001B[0m\u001B[1;33m(\u001B[0m\u001B[0mT\u001B[0m\u001B[1;33m=\u001B[0m\u001B[1;36m500\u001B[0m\u001B[1;33m,\u001B[0m \u001B[0mburn_in\u001B[0m\u001B[1;33m=\u001B[0m\u001B[1;36m0\u001B[0m\u001B[1;33m)\u001B[0m\u001B[1;33m\u001B[0m\u001B[1;33m\u001B[0m\u001B[0m\n\u001B[0m\u001B[0;32m      3\u001B[0m \u001B[0mend\u001B[0m \u001B[1;33m=\u001B[0m \u001B[0mtimer\u001B[0m\u001B[1;33m(\u001B[0m\u001B[1;33m)\u001B[0m\u001B[1;33m\u001B[0m\u001B[1;33m\u001B[0m\u001B[0m\n\u001B[0;32m      4\u001B[0m \u001B[0mprint\u001B[0m\u001B[1;33m(\u001B[0m\u001B[1;34mf'Time taken: {(end - start):.04f}s'\u001B[0m\u001B[1;33m)\u001B[0m\u001B[1;33m\u001B[0m\u001B[1;33m\u001B[0m\u001B[0m\n\u001B[0;32m      5\u001B[0m \u001B[1;33m\u001B[0m\u001B[0m\n",
      "\u001B[1;32m~\\Documents\\proj\\reggae\\lafomo\\mcmc\\models\\transcriptional.py\u001B[0m in \u001B[0;36msample\u001B[1;34m(self, T, **kwargs)\u001B[0m\n\u001B[0;32m    175\u001B[0m \u001B[1;33m\u001B[0m\u001B[0m\n\u001B[0;32m    176\u001B[0m     \u001B[1;32mdef\u001B[0m \u001B[0msample\u001B[0m\u001B[1;33m(\u001B[0m\u001B[0mself\u001B[0m\u001B[1;33m,\u001B[0m \u001B[0mT\u001B[0m\u001B[1;33m=\u001B[0m\u001B[1;36m2000\u001B[0m\u001B[1;33m,\u001B[0m \u001B[1;33m**\u001B[0m\u001B[0mkwargs\u001B[0m\u001B[1;33m)\u001B[0m\u001B[1;33m:\u001B[0m\u001B[1;33m\u001B[0m\u001B[1;33m\u001B[0m\u001B[0m\n\u001B[1;32m--> 177\u001B[1;33m         \u001B[1;32mreturn\u001B[0m \u001B[0mself\u001B[0m\u001B[1;33m.\u001B[0m\u001B[0msampler\u001B[0m\u001B[1;33m.\u001B[0m\u001B[0msample\u001B[0m\u001B[1;33m(\u001B[0m\u001B[0mT\u001B[0m\u001B[1;33m,\u001B[0m \u001B[1;33m**\u001B[0m\u001B[0mkwargs\u001B[0m\u001B[1;33m)\u001B[0m\u001B[1;33m\u001B[0m\u001B[1;33m\u001B[0m\u001B[0m\n\u001B[0m\u001B[0;32m    178\u001B[0m \u001B[1;33m\u001B[0m\u001B[0m\n\u001B[0;32m    179\u001B[0m \u001B[1;33m\u001B[0m\u001B[0m\n",
      "\u001B[1;32m~\\Documents\\proj\\reggae\\lafomo\\mcmc\\samplers\\mixed.py\u001B[0m in \u001B[0;36msample\u001B[1;34m(self, T, store_every, burn_in, report_every, skip, num_chains, profile)\u001B[0m\n\u001B[0;32m     73\u001B[0m             \u001B[0mlogdir\u001B[0m \u001B[1;33m=\u001B[0m \u001B[1;34m'.\\\\logs\\\\lafomo\\\\%s'\u001B[0m \u001B[1;33m%\u001B[0m \u001B[0mstamp\u001B[0m\u001B[1;33m\u001B[0m\u001B[1;33m\u001B[0m\u001B[0m\n\u001B[0;32m     74\u001B[0m             \u001B[0mtf\u001B[0m\u001B[1;33m.\u001B[0m\u001B[0mprofiler\u001B[0m\u001B[1;33m.\u001B[0m\u001B[0mexperimental\u001B[0m\u001B[1;33m.\u001B[0m\u001B[0mstart\u001B[0m\u001B[1;33m(\u001B[0m\u001B[0mlogdir\u001B[0m\u001B[1;33m)\u001B[0m\u001B[1;33m\u001B[0m\u001B[1;33m\u001B[0m\u001B[0m\n\u001B[1;32m---> 75\u001B[1;33m         \u001B[0msamples\u001B[0m\u001B[1;33m,\u001B[0m \u001B[0mis_accepted\u001B[0m \u001B[1;33m=\u001B[0m \u001B[0mrun_chain\u001B[0m\u001B[1;33m(\u001B[0m\u001B[1;33m)\u001B[0m\u001B[1;33m\u001B[0m\u001B[1;33m\u001B[0m\u001B[0m\n\u001B[0m\u001B[0;32m     76\u001B[0m         \u001B[1;32mif\u001B[0m \u001B[0mprofile\u001B[0m\u001B[1;33m:\u001B[0m\u001B[1;33m\u001B[0m\u001B[1;33m\u001B[0m\u001B[0m\n\u001B[0;32m     77\u001B[0m             \u001B[0mtf\u001B[0m\u001B[1;33m.\u001B[0m\u001B[0mprofiler\u001B[0m\u001B[1;33m.\u001B[0m\u001B[0mexperimental\u001B[0m\u001B[1;33m.\u001B[0m\u001B[0mstop\u001B[0m\u001B[1;33m(\u001B[0m\u001B[1;33m)\u001B[0m\u001B[1;33m\u001B[0m\u001B[1;33m\u001B[0m\u001B[0m\n",
      "\u001B[1;32m~\\miniconda3\\envs\\wishart\\lib\\site-packages\\tensorflow\\python\\eager\\def_function.py\u001B[0m in \u001B[0;36m__call__\u001B[1;34m(self, *args, **kwds)\u001B[0m\n\u001B[0;32m    826\u001B[0m     \u001B[0mtracing_count\u001B[0m \u001B[1;33m=\u001B[0m \u001B[0mself\u001B[0m\u001B[1;33m.\u001B[0m\u001B[0mexperimental_get_tracing_count\u001B[0m\u001B[1;33m(\u001B[0m\u001B[1;33m)\u001B[0m\u001B[1;33m\u001B[0m\u001B[1;33m\u001B[0m\u001B[0m\n\u001B[0;32m    827\u001B[0m     \u001B[1;32mwith\u001B[0m \u001B[0mtrace\u001B[0m\u001B[1;33m.\u001B[0m\u001B[0mTrace\u001B[0m\u001B[1;33m(\u001B[0m\u001B[0mself\u001B[0m\u001B[1;33m.\u001B[0m\u001B[0m_name\u001B[0m\u001B[1;33m)\u001B[0m \u001B[1;32mas\u001B[0m \u001B[0mtm\u001B[0m\u001B[1;33m:\u001B[0m\u001B[1;33m\u001B[0m\u001B[1;33m\u001B[0m\u001B[0m\n\u001B[1;32m--> 828\u001B[1;33m       \u001B[0mresult\u001B[0m \u001B[1;33m=\u001B[0m \u001B[0mself\u001B[0m\u001B[1;33m.\u001B[0m\u001B[0m_call\u001B[0m\u001B[1;33m(\u001B[0m\u001B[1;33m*\u001B[0m\u001B[0margs\u001B[0m\u001B[1;33m,\u001B[0m \u001B[1;33m**\u001B[0m\u001B[0mkwds\u001B[0m\u001B[1;33m)\u001B[0m\u001B[1;33m\u001B[0m\u001B[1;33m\u001B[0m\u001B[0m\n\u001B[0m\u001B[0;32m    829\u001B[0m       \u001B[0mcompiler\u001B[0m \u001B[1;33m=\u001B[0m \u001B[1;34m\"xla\"\u001B[0m \u001B[1;32mif\u001B[0m \u001B[0mself\u001B[0m\u001B[1;33m.\u001B[0m\u001B[0m_experimental_compile\u001B[0m \u001B[1;32melse\u001B[0m \u001B[1;34m\"nonXla\"\u001B[0m\u001B[1;33m\u001B[0m\u001B[1;33m\u001B[0m\u001B[0m\n\u001B[0;32m    830\u001B[0m       \u001B[0mnew_tracing_count\u001B[0m \u001B[1;33m=\u001B[0m \u001B[0mself\u001B[0m\u001B[1;33m.\u001B[0m\u001B[0mexperimental_get_tracing_count\u001B[0m\u001B[1;33m(\u001B[0m\u001B[1;33m)\u001B[0m\u001B[1;33m\u001B[0m\u001B[1;33m\u001B[0m\u001B[0m\n",
      "\u001B[1;32m~\\miniconda3\\envs\\wishart\\lib\\site-packages\\tensorflow\\python\\eager\\def_function.py\u001B[0m in \u001B[0;36m_call\u001B[1;34m(self, *args, **kwds)\u001B[0m\n\u001B[0;32m    869\u001B[0m       \u001B[1;31m# This is the first call of __call__, so we have to initialize.\u001B[0m\u001B[1;33m\u001B[0m\u001B[1;33m\u001B[0m\u001B[1;33m\u001B[0m\u001B[0m\n\u001B[0;32m    870\u001B[0m       \u001B[0minitializers\u001B[0m \u001B[1;33m=\u001B[0m \u001B[1;33m[\u001B[0m\u001B[1;33m]\u001B[0m\u001B[1;33m\u001B[0m\u001B[1;33m\u001B[0m\u001B[0m\n\u001B[1;32m--> 871\u001B[1;33m       \u001B[0mself\u001B[0m\u001B[1;33m.\u001B[0m\u001B[0m_initialize\u001B[0m\u001B[1;33m(\u001B[0m\u001B[0margs\u001B[0m\u001B[1;33m,\u001B[0m \u001B[0mkwds\u001B[0m\u001B[1;33m,\u001B[0m \u001B[0madd_initializers_to\u001B[0m\u001B[1;33m=\u001B[0m\u001B[0minitializers\u001B[0m\u001B[1;33m)\u001B[0m\u001B[1;33m\u001B[0m\u001B[1;33m\u001B[0m\u001B[0m\n\u001B[0m\u001B[0;32m    872\u001B[0m     \u001B[1;32mfinally\u001B[0m\u001B[1;33m:\u001B[0m\u001B[1;33m\u001B[0m\u001B[1;33m\u001B[0m\u001B[0m\n\u001B[0;32m    873\u001B[0m       \u001B[1;31m# At this point we know that the initialization is complete (or less\u001B[0m\u001B[1;33m\u001B[0m\u001B[1;33m\u001B[0m\u001B[1;33m\u001B[0m\u001B[0m\n",
      "\u001B[1;32m~\\miniconda3\\envs\\wishart\\lib\\site-packages\\tensorflow\\python\\eager\\def_function.py\u001B[0m in \u001B[0;36m_initialize\u001B[1;34m(self, args, kwds, add_initializers_to)\u001B[0m\n\u001B[0;32m    724\u001B[0m     self._concrete_stateful_fn = (\n\u001B[0;32m    725\u001B[0m         self._stateful_fn._get_concrete_function_internal_garbage_collected(  # pylint: disable=protected-access\n\u001B[1;32m--> 726\u001B[1;33m             *args, **kwds))\n\u001B[0m\u001B[0;32m    727\u001B[0m \u001B[1;33m\u001B[0m\u001B[0m\n\u001B[0;32m    728\u001B[0m     \u001B[1;32mdef\u001B[0m \u001B[0minvalid_creator_scope\u001B[0m\u001B[1;33m(\u001B[0m\u001B[1;33m*\u001B[0m\u001B[0munused_args\u001B[0m\u001B[1;33m,\u001B[0m \u001B[1;33m**\u001B[0m\u001B[0munused_kwds\u001B[0m\u001B[1;33m)\u001B[0m\u001B[1;33m:\u001B[0m\u001B[1;33m\u001B[0m\u001B[1;33m\u001B[0m\u001B[0m\n",
      "\u001B[1;32m~\\miniconda3\\envs\\wishart\\lib\\site-packages\\tensorflow\\python\\eager\\function.py\u001B[0m in \u001B[0;36m_get_concrete_function_internal_garbage_collected\u001B[1;34m(self, *args, **kwargs)\u001B[0m\n\u001B[0;32m   2967\u001B[0m       \u001B[0margs\u001B[0m\u001B[1;33m,\u001B[0m \u001B[0mkwargs\u001B[0m \u001B[1;33m=\u001B[0m \u001B[1;32mNone\u001B[0m\u001B[1;33m,\u001B[0m \u001B[1;32mNone\u001B[0m\u001B[1;33m\u001B[0m\u001B[1;33m\u001B[0m\u001B[0m\n\u001B[0;32m   2968\u001B[0m     \u001B[1;32mwith\u001B[0m \u001B[0mself\u001B[0m\u001B[1;33m.\u001B[0m\u001B[0m_lock\u001B[0m\u001B[1;33m:\u001B[0m\u001B[1;33m\u001B[0m\u001B[1;33m\u001B[0m\u001B[0m\n\u001B[1;32m-> 2969\u001B[1;33m       \u001B[0mgraph_function\u001B[0m\u001B[1;33m,\u001B[0m \u001B[0m_\u001B[0m \u001B[1;33m=\u001B[0m \u001B[0mself\u001B[0m\u001B[1;33m.\u001B[0m\u001B[0m_maybe_define_function\u001B[0m\u001B[1;33m(\u001B[0m\u001B[0margs\u001B[0m\u001B[1;33m,\u001B[0m \u001B[0mkwargs\u001B[0m\u001B[1;33m)\u001B[0m\u001B[1;33m\u001B[0m\u001B[1;33m\u001B[0m\u001B[0m\n\u001B[0m\u001B[0;32m   2970\u001B[0m     \u001B[1;32mreturn\u001B[0m \u001B[0mgraph_function\u001B[0m\u001B[1;33m\u001B[0m\u001B[1;33m\u001B[0m\u001B[0m\n\u001B[0;32m   2971\u001B[0m \u001B[1;33m\u001B[0m\u001B[0m\n",
      "\u001B[1;32m~\\miniconda3\\envs\\wishart\\lib\\site-packages\\tensorflow\\python\\eager\\function.py\u001B[0m in \u001B[0;36m_maybe_define_function\u001B[1;34m(self, args, kwargs)\u001B[0m\n\u001B[0;32m   3359\u001B[0m \u001B[1;33m\u001B[0m\u001B[0m\n\u001B[0;32m   3360\u001B[0m           \u001B[0mself\u001B[0m\u001B[1;33m.\u001B[0m\u001B[0m_function_cache\u001B[0m\u001B[1;33m.\u001B[0m\u001B[0mmissed\u001B[0m\u001B[1;33m.\u001B[0m\u001B[0madd\u001B[0m\u001B[1;33m(\u001B[0m\u001B[0mcall_context_key\u001B[0m\u001B[1;33m)\u001B[0m\u001B[1;33m\u001B[0m\u001B[1;33m\u001B[0m\u001B[0m\n\u001B[1;32m-> 3361\u001B[1;33m           \u001B[0mgraph_function\u001B[0m \u001B[1;33m=\u001B[0m \u001B[0mself\u001B[0m\u001B[1;33m.\u001B[0m\u001B[0m_create_graph_function\u001B[0m\u001B[1;33m(\u001B[0m\u001B[0margs\u001B[0m\u001B[1;33m,\u001B[0m \u001B[0mkwargs\u001B[0m\u001B[1;33m)\u001B[0m\u001B[1;33m\u001B[0m\u001B[1;33m\u001B[0m\u001B[0m\n\u001B[0m\u001B[0;32m   3362\u001B[0m           \u001B[0mself\u001B[0m\u001B[1;33m.\u001B[0m\u001B[0m_function_cache\u001B[0m\u001B[1;33m.\u001B[0m\u001B[0mprimary\u001B[0m\u001B[1;33m[\u001B[0m\u001B[0mcache_key\u001B[0m\u001B[1;33m]\u001B[0m \u001B[1;33m=\u001B[0m \u001B[0mgraph_function\u001B[0m\u001B[1;33m\u001B[0m\u001B[1;33m\u001B[0m\u001B[0m\n\u001B[0;32m   3363\u001B[0m \u001B[1;33m\u001B[0m\u001B[0m\n",
      "\u001B[1;32m~\\miniconda3\\envs\\wishart\\lib\\site-packages\\tensorflow\\python\\eager\\function.py\u001B[0m in \u001B[0;36m_create_graph_function\u001B[1;34m(self, args, kwargs, override_flat_arg_shapes)\u001B[0m\n\u001B[0;32m   3204\u001B[0m             \u001B[0marg_names\u001B[0m\u001B[1;33m=\u001B[0m\u001B[0marg_names\u001B[0m\u001B[1;33m,\u001B[0m\u001B[1;33m\u001B[0m\u001B[1;33m\u001B[0m\u001B[0m\n\u001B[0;32m   3205\u001B[0m             \u001B[0moverride_flat_arg_shapes\u001B[0m\u001B[1;33m=\u001B[0m\u001B[0moverride_flat_arg_shapes\u001B[0m\u001B[1;33m,\u001B[0m\u001B[1;33m\u001B[0m\u001B[1;33m\u001B[0m\u001B[0m\n\u001B[1;32m-> 3206\u001B[1;33m             capture_by_value=self._capture_by_value),\n\u001B[0m\u001B[0;32m   3207\u001B[0m         \u001B[0mself\u001B[0m\u001B[1;33m.\u001B[0m\u001B[0m_function_attributes\u001B[0m\u001B[1;33m,\u001B[0m\u001B[1;33m\u001B[0m\u001B[1;33m\u001B[0m\u001B[0m\n\u001B[0;32m   3208\u001B[0m         \u001B[0mfunction_spec\u001B[0m\u001B[1;33m=\u001B[0m\u001B[0mself\u001B[0m\u001B[1;33m.\u001B[0m\u001B[0mfunction_spec\u001B[0m\u001B[1;33m,\u001B[0m\u001B[1;33m\u001B[0m\u001B[1;33m\u001B[0m\u001B[0m\n",
      "\u001B[1;32m~\\miniconda3\\envs\\wishart\\lib\\site-packages\\tensorflow\\python\\framework\\func_graph.py\u001B[0m in \u001B[0;36mfunc_graph_from_py_func\u001B[1;34m(name, python_func, args, kwargs, signature, func_graph, autograph, autograph_options, add_control_dependencies, arg_names, op_return_value, collections, capture_by_value, override_flat_arg_shapes)\u001B[0m\n\u001B[0;32m    988\u001B[0m         \u001B[0m_\u001B[0m\u001B[1;33m,\u001B[0m \u001B[0moriginal_func\u001B[0m \u001B[1;33m=\u001B[0m \u001B[0mtf_decorator\u001B[0m\u001B[1;33m.\u001B[0m\u001B[0munwrap\u001B[0m\u001B[1;33m(\u001B[0m\u001B[0mpython_func\u001B[0m\u001B[1;33m)\u001B[0m\u001B[1;33m\u001B[0m\u001B[1;33m\u001B[0m\u001B[0m\n\u001B[0;32m    989\u001B[0m \u001B[1;33m\u001B[0m\u001B[0m\n\u001B[1;32m--> 990\u001B[1;33m       \u001B[0mfunc_outputs\u001B[0m \u001B[1;33m=\u001B[0m \u001B[0mpython_func\u001B[0m\u001B[1;33m(\u001B[0m\u001B[1;33m*\u001B[0m\u001B[0mfunc_args\u001B[0m\u001B[1;33m,\u001B[0m \u001B[1;33m**\u001B[0m\u001B[0mfunc_kwargs\u001B[0m\u001B[1;33m)\u001B[0m\u001B[1;33m\u001B[0m\u001B[1;33m\u001B[0m\u001B[0m\n\u001B[0m\u001B[0;32m    991\u001B[0m \u001B[1;33m\u001B[0m\u001B[0m\n\u001B[0;32m    992\u001B[0m       \u001B[1;31m# invariant: `func_outputs` contains only Tensors, CompositeTensors,\u001B[0m\u001B[1;33m\u001B[0m\u001B[1;33m\u001B[0m\u001B[1;33m\u001B[0m\u001B[0m\n",
      "\u001B[1;32m~\\miniconda3\\envs\\wishart\\lib\\site-packages\\tensorflow\\python\\eager\\def_function.py\u001B[0m in \u001B[0;36mwrapped_fn\u001B[1;34m(*args, **kwds)\u001B[0m\n\u001B[0;32m    632\u001B[0m             \u001B[0mxla_context\u001B[0m\u001B[1;33m.\u001B[0m\u001B[0mExit\u001B[0m\u001B[1;33m(\u001B[0m\u001B[1;33m)\u001B[0m\u001B[1;33m\u001B[0m\u001B[1;33m\u001B[0m\u001B[0m\n\u001B[0;32m    633\u001B[0m         \u001B[1;32melse\u001B[0m\u001B[1;33m:\u001B[0m\u001B[1;33m\u001B[0m\u001B[1;33m\u001B[0m\u001B[0m\n\u001B[1;32m--> 634\u001B[1;33m           \u001B[0mout\u001B[0m \u001B[1;33m=\u001B[0m \u001B[0mweak_wrapped_fn\u001B[0m\u001B[1;33m(\u001B[0m\u001B[1;33m)\u001B[0m\u001B[1;33m.\u001B[0m\u001B[0m__wrapped__\u001B[0m\u001B[1;33m(\u001B[0m\u001B[1;33m*\u001B[0m\u001B[0margs\u001B[0m\u001B[1;33m,\u001B[0m \u001B[1;33m**\u001B[0m\u001B[0mkwds\u001B[0m\u001B[1;33m)\u001B[0m\u001B[1;33m\u001B[0m\u001B[1;33m\u001B[0m\u001B[0m\n\u001B[0m\u001B[0;32m    635\u001B[0m         \u001B[1;32mreturn\u001B[0m \u001B[0mout\u001B[0m\u001B[1;33m\u001B[0m\u001B[1;33m\u001B[0m\u001B[0m\n\u001B[0;32m    636\u001B[0m \u001B[1;33m\u001B[0m\u001B[0m\n",
      "\u001B[1;32m~\\miniconda3\\envs\\wishart\\lib\\site-packages\\tensorflow\\python\\framework\\func_graph.py\u001B[0m in \u001B[0;36mwrapper\u001B[1;34m(*args, **kwargs)\u001B[0m\n\u001B[0;32m    975\u001B[0m           \u001B[1;32mexcept\u001B[0m \u001B[0mException\u001B[0m \u001B[1;32mas\u001B[0m \u001B[0me\u001B[0m\u001B[1;33m:\u001B[0m  \u001B[1;31m# pylint:disable=broad-except\u001B[0m\u001B[1;33m\u001B[0m\u001B[1;33m\u001B[0m\u001B[0m\n\u001B[0;32m    976\u001B[0m             \u001B[1;32mif\u001B[0m \u001B[0mhasattr\u001B[0m\u001B[1;33m(\u001B[0m\u001B[0me\u001B[0m\u001B[1;33m,\u001B[0m \u001B[1;34m\"ag_error_metadata\"\u001B[0m\u001B[1;33m)\u001B[0m\u001B[1;33m:\u001B[0m\u001B[1;33m\u001B[0m\u001B[1;33m\u001B[0m\u001B[0m\n\u001B[1;32m--> 977\u001B[1;33m               \u001B[1;32mraise\u001B[0m \u001B[0me\u001B[0m\u001B[1;33m.\u001B[0m\u001B[0mag_error_metadata\u001B[0m\u001B[1;33m.\u001B[0m\u001B[0mto_exception\u001B[0m\u001B[1;33m(\u001B[0m\u001B[0me\u001B[0m\u001B[1;33m)\u001B[0m\u001B[1;33m\u001B[0m\u001B[1;33m\u001B[0m\u001B[0m\n\u001B[0m\u001B[0;32m    978\u001B[0m             \u001B[1;32melse\u001B[0m\u001B[1;33m:\u001B[0m\u001B[1;33m\u001B[0m\u001B[1;33m\u001B[0m\u001B[0m\n\u001B[0;32m    979\u001B[0m               \u001B[1;32mraise\u001B[0m\u001B[1;33m\u001B[0m\u001B[1;33m\u001B[0m\u001B[0m\n",
      "\u001B[1;31mTypeError\u001B[0m: in user code:\n\n    C:\\Users\\Jacob\\Documents\\proj\\reggae\\lafomo\\mcmc\\samplers\\mixed.py:62 run_chain  *\n        samples, is_accepted = tfp.mcmc.sample_chain(\n    C:\\Users\\Jacob\\Documents\\proj\\reggae\\lafomo\\mcmc\\models\\transcriptional.py:260 likelihood  *\n        return self._genes(**parameter_state)\n    C:\\Users\\Jacob\\Documents\\proj\\reggae\\lafomo\\mcmc\\models\\transcriptional.py:242 _genes  *\n        m_pred = self.predict_m(σ2_m=σ2_m, **parameter_state)\n\n    TypeError: tf__predict_m() got an unexpected keyword argument 'σ2_m'\n"
     ]
    }
   ],
   "source": [
    "\n",
    "start = timer()\n",
    "samples, is_accepted = model.sample(T=500, burn_in=0)\n",
    "end = timer()\n",
    "print(f'Time taken: {(end - start):.04f}s')"
   ],
   "metadata": {
    "collapsed": false,
    "pycharm": {
     "name": "#%%\n"
    }
   }
  },
  {
   "cell_type": "code",
   "execution_count": null,
   "outputs": [],
   "source": [
    "do_save = False\n",
    "do_load = False\n",
    "if do_save:\n",
    "    model.save('human')\n",
    "if do_load:\n",
    "    # Initialise from saved model:\n",
    "    model = TranscriptionMixedSampler.load('human', [data, opt])\n",
    "    is_accepted = model.is_accepted"
   ],
   "metadata": {
    "collapsed": false,
    "pycharm": {
     "name": "#%%\n"
    }
   }
  },
  {
   "cell_type": "code",
   "execution_count": null,
   "outputs": [],
   "source": [
    "pcs = list()\n",
    "for i, param in enumerate(model.state_indices):\n",
    "    pcs.append(tf.reduce_mean(tf.cast(is_accepted[i], dtype=tf.float32)).numpy())\n",
    "\n",
    "display(pd.DataFrame([[f'{100*pc:.02f}%' for pc in pcs]], columns=list(model.state_indices)))\n",
    "\n",
    "plot_opt = mcmc_plotters.PlotOptions(\n",
    "    num_plot_genes=10, num_plot_tfs=10,\n",
    "    gene_names=np.array(dataset.gene_names), tf_names=['p53'],\n",
    "    true_label='Hafner et al.', for_report=True, ylabel='normalised FPKM',\n",
    "    kernel_names=model.kernel_selector.names(), num_hpd=200\n",
    ")\n",
    "plotter = mcmc_plotters.Plotter(data, plot_opt)\n",
    "\n",
    "# Calculate gene samples\n",
    "σ2_f = None\n",
    "results = model.results()\n",
    "\n"
   ],
   "metadata": {
    "collapsed": false,
    "pycharm": {
     "name": "#%%\n"
    }
   }
  },
  {
   "cell_type": "code",
   "execution_count": null,
   "outputs": [],
   "source": [
    "m_preds = model.sample_latents(results, 20)"
   ],
   "metadata": {
    "collapsed": false,
    "pycharm": {
     "name": "#%%\n"
    }
   }
  },
  {
   "cell_type": "code",
   "execution_count": null,
   "outputs": [],
   "source": [
    "\n",
    "dec = np.array([0.284200056, 0.399638904, 0.062061123]) #todo incorrect order\n",
    "sens = np.array([4.002484948, 32.89511304, 4.297906129])\n",
    "# np.array([0, *dec, 0])\n",
    "sens = np.array([\n",
    "    0.232461671,0.429175332,1.913169606,0.569821512,2.139812962,0.340465324,\n",
    "    4.203117214,0.635328943,0.920901229,0.263968666,1.360004451,4.816673998,\n",
    "    0.294392325,2.281036308,0.86918333,2.025737447,1.225920534,11.39455009,\n",
    "    4.229758095,4.002484948,32.89511304,7.836815916])\n",
    "dec = np.array([\n",
    "    0.260354271,0.253728801,0.268641114,0.153037374,0.472215028,0.185626363,\n",
    "    0.210251586,0.211915623,0.324826082,0.207834775,0.322725728,0.370265667,\n",
    "    0.221598164,0.226897275,0.409710437,0.398004589,0.357308033,0.498836353,\n",
    "    0.592101838,0.284200056,0.399638904,0.463468107])\n",
    "\n",
    "ktrue = np.zeros((num_genes, 4))\n",
    "k_latest = np.mean(results.k[-40:], axis=0)\n",
    "dec = dec/np.mean(dec)* np.mean(k_latest[:,2])\n",
    "ktrue[:,2] = 1.02*dec\n",
    "\n",
    "sens = sens/np.mean(sens)* np.mean(k_latest[:,3])\n",
    "ktrue[:,3] = sens"
   ],
   "metadata": {
    "collapsed": false,
    "pycharm": {
     "name": "#%%\n"
    }
   }
  },
  {
   "cell_type": "code",
   "execution_count": null,
   "outputs": [],
   "source": [
    "print(type(m_preds))\n",
    "print(type((data.m_obs)))\n",
    "plotter.plot_genes(m_preds, replicate=0, height_mul=2, indices=[5, 11, 20, 21])\n",
    "# plt.legend(bbox_to_anchor=(0, -1));"
   ],
   "metadata": {
    "collapsed": false,
    "pycharm": {
     "name": "#%%\n"
    }
   }
  },
  {
   "cell_type": "code",
   "execution_count": null,
   "outputs": [],
   "source": [
    "k = results.k[-1]\n",
    "k[-2, 3] = tf.exp(5.)\n",
    "print(k.shape, logistic(np.log(k[-2, 3])))\n",
    "m_pred = model.likelihood.predict_m(logistic(np.log(k)), results.k_fbar[-1], results.wbar[-1],\n",
    "                           results.fbar[-1], results.w_0bar[-1], None)\n",
    "print(m_pred.shape)\n",
    "plt.plot(m_pred[0, -2])\n"
   ],
   "metadata": {
    "collapsed": false,
    "pycharm": {
     "name": "#%%\n"
    }
   }
  },
  {
   "cell_type": "code",
   "execution_count": null,
   "outputs": [],
   "source": [
    "plotter.summary(results, m_preds, true_k=ktrue, replicate=0, scale_observed=True)\n"
   ],
   "metadata": {
    "collapsed": false,
    "pycharm": {
     "name": "#%%\n"
    }
   }
  },
  {
   "cell_type": "code",
   "execution_count": null,
   "outputs": [],
   "source": [
    "plotter.convergence_summary(results)\n"
   ],
   "metadata": {
    "collapsed": false,
    "pycharm": {
     "name": "#%%\n"
    }
   }
  },
  {
   "cell_type": "code",
   "execution_count": null,
   "outputs": [],
   "source": [
    "plotter.plot_grn(results)"
   ],
   "metadata": {
    "collapsed": false,
    "pycharm": {
     "name": "#%%\n"
    }
   }
  },
  {
   "cell_type": "code",
   "execution_count": null,
   "outputs": [],
   "source": [
    "# Plot proteins\n",
    "p_samples = model.sample_proteins(results, 20)[:,0]\n",
    "print(p_samples.shape)\n",
    "plotter.plot_samples(p_samples, [''], 4, color='orangered')\n",
    "plt.xlim(0, 10)\n",
    "plt.ylim(-0.05, 2.5)\n",
    "print(8.51/4.72)\n",
    "plt.figure(figsize=(4*1.80297, 4))\n",
    "p = p_samples[-1]\n",
    "y = [1.5, 4.8, 13.7, 5, 2, 1.4, 3.2, 4, 1.4, 1.5]\n",
    "# y = y/np.mean(y)*np.mean(p) * 1.75-0.16\n",
    "# y = scaler.fit_transform(np.expand_dims(y, 0))\n",
    "plt.plot(t[1:11], y)\n",
    "plt.ylim(0, 15)\n",
    "plt.ylabel('p53 fold change')\n",
    "plt.xlabel('Time (h)')\n",
    "plt.xticks(np.arange(1, 11))\n",
    "plt.yticks(np.arange(0, 16, 5))\n",
    "\n",
    "plt.tight_layout()\n",
    "\n"
   ],
   "metadata": {
    "collapsed": false,
    "pycharm": {
     "name": "#%%\n"
    }
   }
  }
 ],
 "metadata": {
  "kernelspec": {
   "name": "pycharm-222640c7",
   "language": "python",
   "display_name": "PyCharm (reggae)"
  },
  "language_info": {
   "codemirror_mode": {
    "name": "ipython",
    "version": 2
   },
   "file_extension": ".py",
   "mimetype": "text/x-python",
   "name": "python",
   "nbconvert_exporter": "python",
   "pygments_lexer": "ipython2",
   "version": "2.7.6"
  }
 },
 "nbformat": 4,
 "nbformat_minor": 0
}