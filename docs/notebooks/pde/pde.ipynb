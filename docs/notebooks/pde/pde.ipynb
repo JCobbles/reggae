{
 "cells": [
  {
   "cell_type": "markdown",
   "source": [
    "# Spatio-temporal Transcriptomics\n",
    "\n",
    "Toy dataset from López-Lopera et al. (2019)\n",
    "\n",
    "- Data download: https://github.com/anfelopera/PhysicallyGPDrosophila"
   ],
   "metadata": {
    "collapsed": false,
    "pycharm": {
     "name": "#%% md\n"
    }
   }
  },
  {
   "cell_type": "code",
   "execution_count": 1,
   "outputs": [],
   "source": [
    "import numpy as np\n",
    "import torch\n",
    "\n",
    "from torch.nn import Parameter\n",
    "from torch.optim import Adam\n",
    "from gpytorch.optim import NGD\n",
    "from gpytorch.constraints import Interval\n",
    "from matplotlib import pyplot as plt\n",
    "from mpl_toolkits.axes_grid1 import ImageGrid\n",
    "from os import path\n",
    "\n",
    "from lafomo.utilities.torch import get_image\n",
    "from lafomo.datasets import DrosophilaSpatialTranscriptomics\n",
    "from lafomo.models import MultiOutputGP, PartialLFM\n",
    "from lafomo.models.pdes import ReactionDiffusion\n",
    "from lafomo.datasets import ToySpatialTranscriptomics, P53Data\n",
    "from lafomo.configuration import VariationalConfiguration\n",
    "from lafomo.plot import Plotter, plot_spatiotemporal_data\n",
    "from lafomo.trainers import PDETrainer\n",
    "from lafomo.utilities.torch import discretise, softplus\n",
    "from lafomo.utilities.fenics import interval_mesh\n"
   ],
   "metadata": {
    "collapsed": false,
    "pycharm": {
     "name": "#%%\n"
    }
   }
  },
  {
   "cell_type": "code",
   "execution_count": 2,
   "outputs": [],
   "source": [
    "kr_dataset = DrosophilaSpatialTranscriptomics(gene='kr', data_dir='../../../data')\n",
    "kni_dataset = DrosophilaSpatialTranscriptomics(gene='kni', data_dir='../../../data')\n",
    "gt_dataset = DrosophilaSpatialTranscriptomics(gene='gt', data_dir='../../../data')\n",
    "\n",
    "drosophila = False\n",
    "\n",
    "if drosophila:\n",
    "    filepath = path.join('../../../experiments', 'dros-kr', 'partial', 'savedmodel')\n",
    "\n",
    "    dataset = DrosophilaSpatialTranscriptomics(gene='kr', data_dir='../../../data')\n",
    "\n",
    "    data = next(iter(dataset))\n",
    "    tx, y_target = data\n",
    "    lengthscale = 10\n",
    "    images = [get_image(dataset.orig_data, i)\n",
    "          for i in range(2, 4)\n",
    "          for dataset in [kr_dataset, kni_dataset, gt_dataset]\n",
    "          ]\n",
    "\n",
    "else:\n",
    "    filepath = path.join('../../../experiments', 'toy-spatial', 'partial', 'savedmodel')\n",
    "\n",
    "    dataset = ToySpatialTranscriptomics(data_dir='../../../data/')\n",
    "    data = next(iter(dataset))\n",
    "    tx, y_target = data\n",
    "    lengthscale = 0.2\n",
    "\n",
    "num_inducing = int(tx.shape[1] * 5/6)\n",
    "\n",
    "ts = tx[0, :].unique().sort()[0].numpy()\n",
    "xs = tx[1, :].unique().sort()[0].numpy()\n",
    "t_diff = ts[-1]-ts[0]\n",
    "x_diff = xs[-1]-xs[0]\n",
    "extent = [ts[0], ts[-1], xs[0], xs[-1]]\n",
    "\n",
    "if drosophila: plot_spatiotemporal_data(images, extent, nrows=2, ncols=3)"
   ],
   "metadata": {
    "collapsed": false,
    "pycharm": {
     "name": "#%%\n"
    }
   }
  },
  {
   "cell_type": "markdown",
   "source": [
    "We can either create a simple unit interval mesh"
   ],
   "metadata": {
    "collapsed": false,
    "pycharm": {
     "name": "#%% md\n"
    }
   }
  },
  {
   "cell_type": "code",
   "execution_count": 3,
   "outputs": [
    {
     "data": {
      "text/plain": "[<matplotlib.lines.Line2D at 0x7fb52e858850>]"
     },
     "execution_count": 3,
     "metadata": {},
     "output_type": "execute_result"
    },
    {
     "data": {
      "text/plain": "<Figure size 432x288 with 1 Axes>",
      "image/png": "[encoded data removed]"
     },
     "metadata": {},
     "output_type": "display_data"
    }
   ],
   "source": [
    "from dolfin import *\n",
    "\n",
    "mesh = UnitIntervalMesh(40)\n",
    "plot(mesh)"
   ],
   "metadata": {
    "collapsed": false,
    "pycharm": {
     "name": "#%%\n"
    }
   }
  },
  {
   "cell_type": "markdown",
   "source": [
    "Alternatively, if our spatial data is not uniformly spaced, we can define a custom mesh as follows."
   ],
   "metadata": {
    "collapsed": false
   }
  },
  {
   "cell_type": "code",
   "execution_count": 4,
   "outputs": [
    {
     "name": "stdout",
     "output_type": "stream",
     "text": [
      "Matching: True\n"
     ]
    },
    {
     "data": {
      "text/plain": "<Figure size 432x288 with 1 Axes>",
      "image/png": "[encoded data removed]"
     },
     "metadata": {},
     "output_type": "display_data"
    }
   ],
   "source": [
    "# We calculate a mesh that contains all possible spatial locations in the dataset\n",
    "\n",
    "spatial = np.unique(tx[1, :])\n",
    "mesh = interval_mesh(spatial)\n",
    "plot(mesh)\n",
    "# The mesh coordinates should match up to the data:\n",
    "print('Matching:', all(spatial == mesh.coordinates().reshape(-1)))"
   ],
   "metadata": {
    "collapsed": false,
    "pycharm": {
     "name": "#%%\n"
    }
   }
  },
  {
   "cell_type": "markdown",
   "source": [
    "Set up GP model"
   ],
   "metadata": {
    "collapsed": false,
    "pycharm": {
     "name": "#%% md\n"
    }
   }
  },
  {
   "cell_type": "code",
   "execution_count": 5,
   "outputs": [
    {
     "name": "stdout",
     "output_type": "stream",
     "text": [
      "torch.Size([1, 504, 2])\n"
     ]
    },
    {
     "data": {
      "text/plain": "<matplotlib.collections.PathCollection at 0x7fb5280eb450>"
     },
     "execution_count": 5,
     "metadata": {},
     "output_type": "execute_result"
    },
    {
     "data": {
      "text/plain": "<Figure size 432x288 with 1 Axes>",
      "image/png": "[encoded data removed]"
     },
     "metadata": {},
     "output_type": "display_data"
    }
   ],
   "source": [
    "inducing_points = torch.stack([\n",
    "    tx[0, torch.randperm(tx.shape[1])[:int(0.3 * tx.shape[1])]],\n",
    "    tx[1, torch.randperm(tx.shape[1])[:int(0.3 * tx.shape[1])]]\n",
    "], dim=1).unsqueeze(0)\n",
    "\n",
    "gp_kwargs = dict(use_ard=True,\n",
    "                 use_scale=False,\n",
    "                 # lengthscale_constraint=Interval(0.1, 0.3),\n",
    "                 learn_inducing_locations=False,\n",
    "                 initial_lengthscale=lengthscale)\n",
    "gp_model = MultiOutputGP(inducing_points, 1, **gp_kwargs)\n",
    "gp_model.double();\n",
    "\n",
    "print(inducing_points.shape)\n",
    "plt.scatter(inducing_points[0,:,0], inducing_points[0, :, 1])"
   ],
   "metadata": {
    "collapsed": false,
    "pycharm": {
     "name": "#%%\n"
    }
   }
  },
  {
   "cell_type": "markdown",
   "source": [
    "Set up PDE"
   ],
   "metadata": {
    "collapsed": false
   }
  },
  {
   "cell_type": "code",
   "execution_count": 6,
   "outputs": [
    {
     "name": "stdout",
     "output_type": "stream",
     "text": [
      "(0.0, 1.0)\n",
      "40\n"
     ]
    }
   ],
   "source": [
    "t_range = (ts[0], ts[-1])\n",
    "print(t_range)\n",
    "time_steps = dataset.num_discretised\n",
    "print(time_steps)\n",
    "\n",
    "fenics_model = ReactionDiffusion(t_range, time_steps, mesh)\n",
    "\n",
    "config = VariationalConfiguration(\n",
    "    initial_conditions=False,\n",
    "    num_samples=25\n",
    ")\n",
    "\n",
    "sensitivity = Parameter(torch.ones((1, 1), dtype=torch.float64), requires_grad=False)\n",
    "decay = Parameter(0.1*torch.ones((1, 1), dtype=torch.float64), requires_grad=False)\n",
    "diffusion = Parameter(0.01*torch.ones((1, 1), dtype=torch.float64), requires_grad=False)\n",
    "fenics_params = [sensitivity, decay, diffusion]\n",
    "\n",
    "lfm = PartialLFM(1, gp_model, fenics_model, fenics_params, config)"
   ],
   "metadata": {
    "collapsed": false,
    "pycharm": {
     "name": "#%%\n"
    }
   }
  },
  {
   "cell_type": "code",
   "execution_count": 9,
   "outputs": [
    {
     "name": "stdout",
     "output_type": "stream",
     "text": [
      "t_sorted, dp [0.    0.025 0.05  0.075 0.1   0.125 0.15  0.175 0.2   0.225 0.25  0.275\n",
      " 0.3   0.325 0.35  0.375 0.4   0.425 0.45  0.475 0.5   0.525 0.55  0.575\n",
      " 0.6   0.625 0.65  0.675 0.7   0.725 0.75  0.775 0.8   0.825 0.85  0.875\n",
      " 0.9   0.925 0.95  0.975 1.   ] 0.025\n",
      "x dp is set to 0.025\n",
      "t_sorted, dp [0.    0.025 0.05  0.075 0.1   0.125 0.15  0.175 0.2   0.225 0.25  0.275\n",
      " 0.3   0.325 0.35  0.375 0.4   0.425 0.45  0.475 0.5   0.525 0.55  0.575\n",
      " 0.6   0.625 0.65  0.675 0.7   0.725 0.75  0.775 0.8   0.825 0.85  0.875\n",
      " 0.9   0.925 0.95  0.975 1.   ] 0.025\n"
     ]
    }
   ],
   "source": [
    "train_mask = torch.zeros_like(tx[0,:])\n",
    "train_mask[torch.randperm(tx.shape[1])[:int(0.3 * tx.shape[1])]] = 1\n",
    "\n",
    "num_training = tx.shape[1]\n",
    "variational_optimizer = NGD(lfm.variational_parameters(), num_data=num_training, lr=0.1)\n",
    "parameter_optimizer = Adam(lfm.nonvariational_parameters(), lr=0.07)\n",
    "optimizers = [variational_optimizer, parameter_optimizer]\n",
    "\n",
    "trainer = PDETrainer(lfm,\n",
    "                     optimizers,\n",
    "                     dataset,\n",
    "                     track_parameters=list(lfm.fenics_named_parameters.keys()),\n",
    "                     train_mask=train_mask.bool(),\n",
    "                     warm_variational=1)"
   ],
   "metadata": {
    "collapsed": false,
    "pycharm": {
     "name": "#%%\n"
    }
   }
  },
  {
   "cell_type": "markdown",
   "source": [
    "Now let's see some samples from the GP and corresponding LFM output\n"
   ],
   "metadata": {
    "collapsed": false
   }
  },
  {
   "cell_type": "code",
   "execution_count": 10,
   "outputs": [
    {
     "ename": "KeyboardInterrupt",
     "evalue": "",
     "output_type": "error",
     "traceback": [
      "\u001B[0;31m---------------------------------------------------------------------------\u001B[0m",
      "\u001B[0;31mKeyboardInterrupt\u001B[0m                         Traceback (most recent call last)",
      "\u001B[0;32m<ipython-input-10-d904d801b3d5>\u001B[0m in \u001B[0;36m<module>\u001B[0;34m\u001B[0m\n\u001B[1;32m     27\u001B[0m     real_out[0].detach().transpose(0, 1)],\n\u001B[1;32m     28\u001B[0m     \u001B[0mextent\u001B[0m\u001B[0;34m,\u001B[0m\u001B[0;34m\u001B[0m\u001B[0;34m\u001B[0m\u001B[0m\n\u001B[0;32m---> 29\u001B[0;31m     \u001B[0mtitles\u001B[0m\u001B[0;34m=\u001B[0m\u001B[0;34m[\u001B[0m\u001B[0;34m'Prediction'\u001B[0m\u001B[0;34m,\u001B[0m \u001B[0;34m'Ground truth'\u001B[0m\u001B[0;34m]\u001B[0m\u001B[0;34m\u001B[0m\u001B[0;34m\u001B[0m\u001B[0m\n\u001B[0m\u001B[1;32m     30\u001B[0m )\n\u001B[1;32m     31\u001B[0m \u001B[0;34m\u001B[0m\u001B[0m\n",
      "\u001B[0;32m~/Documents/proj/reggae/lafomo/plot/misc.py\u001B[0m in \u001B[0;36mplot_spatiotemporal_data\u001B[0;34m(images, extent, nrows, ncols, titles)\u001B[0m\n\u001B[1;32m     22\u001B[0m                      \u001B[0mcbar_mode\u001B[0m\u001B[0;34m=\u001B[0m\u001B[0;34m\"each\"\u001B[0m\u001B[0;34m,\u001B[0m\u001B[0;34m\u001B[0m\u001B[0;34m\u001B[0m\u001B[0m\n\u001B[1;32m     23\u001B[0m                      \u001B[0mcbar_size\u001B[0m\u001B[0;34m=\u001B[0m\u001B[0;34m\"7%\"\u001B[0m\u001B[0;34m,\u001B[0m\u001B[0;34m\u001B[0m\u001B[0;34m\u001B[0m\u001B[0m\n\u001B[0;32m---> 24\u001B[0;31m                      \u001B[0mcbar_pad\u001B[0m\u001B[0;34m=\u001B[0m\u001B[0;34m\"2%\"\u001B[0m\u001B[0;34m,\u001B[0m\u001B[0;34m\u001B[0m\u001B[0;34m\u001B[0m\u001B[0m\n\u001B[0m\u001B[1;32m     25\u001B[0m                  )\n\u001B[1;32m     26\u001B[0m     \u001B[0maspect\u001B[0m \u001B[0;34m=\u001B[0m \u001B[0;34m(\u001B[0m\u001B[0mextent\u001B[0m\u001B[0;34m[\u001B[0m\u001B[0;36m1\u001B[0m\u001B[0;34m]\u001B[0m\u001B[0;34m-\u001B[0m\u001B[0mextent\u001B[0m\u001B[0;34m[\u001B[0m\u001B[0;36m0\u001B[0m\u001B[0;34m]\u001B[0m\u001B[0;34m)\u001B[0m\u001B[0;34m/\u001B[0m \u001B[0;34m(\u001B[0m\u001B[0mextent\u001B[0m\u001B[0;34m[\u001B[0m\u001B[0;36m3\u001B[0m\u001B[0;34m]\u001B[0m\u001B[0;34m-\u001B[0m\u001B[0mextent\u001B[0m\u001B[0;34m[\u001B[0m\u001B[0;36m2\u001B[0m\u001B[0;34m]\u001B[0m\u001B[0;34m)\u001B[0m\u001B[0;34m\u001B[0m\u001B[0;34m\u001B[0m\u001B[0m\n",
      "\u001B[0;32m~/miniconda3/envs/wishart/lib/python3.7/site-packages/matplotlib/cbook/deprecation.py\u001B[0m in \u001B[0;36mwrapper\u001B[0;34m(*inner_args, **inner_kwargs)\u001B[0m\n\u001B[1;32m    409\u001B[0m                          \u001B[0;32melse\u001B[0m \u001B[0mdeprecation_addendum\u001B[0m\u001B[0;34m,\u001B[0m\u001B[0;34m\u001B[0m\u001B[0;34m\u001B[0m\u001B[0m\n\u001B[1;32m    410\u001B[0m                 **kwargs)\n\u001B[0;32m--> 411\u001B[0;31m         \u001B[0;32mreturn\u001B[0m \u001B[0mfunc\u001B[0m\u001B[0;34m(\u001B[0m\u001B[0;34m*\u001B[0m\u001B[0minner_args\u001B[0m\u001B[0;34m,\u001B[0m \u001B[0;34m**\u001B[0m\u001B[0minner_kwargs\u001B[0m\u001B[0;34m)\u001B[0m\u001B[0;34m\u001B[0m\u001B[0;34m\u001B[0m\u001B[0m\n\u001B[0m\u001B[1;32m    412\u001B[0m \u001B[0;34m\u001B[0m\u001B[0m\n\u001B[1;32m    413\u001B[0m     \u001B[0;32mreturn\u001B[0m \u001B[0mwrapper\u001B[0m\u001B[0;34m\u001B[0m\u001B[0;34m\u001B[0m\u001B[0m\n",
      "\u001B[0;32m~/miniconda3/envs/wishart/lib/python3.7/site-packages/mpl_toolkits/axes_grid1/axes_grid.py\u001B[0m in \u001B[0;36m__init__\u001B[0;34m(self, fig, rect, nrows_ncols, ngrids, direction, axes_pad, add_all, share_all, aspect, label_mode, cbar_mode, cbar_location, cbar_pad, cbar_size, cbar_set_cax, axes_class)\u001B[0m\n\u001B[1;32m    434\u001B[0m                 \u001B[0mdirection\u001B[0m\u001B[0;34m=\u001B[0m\u001B[0mdirection\u001B[0m\u001B[0;34m,\u001B[0m \u001B[0maxes_pad\u001B[0m\u001B[0;34m=\u001B[0m\u001B[0maxes_pad\u001B[0m\u001B[0;34m,\u001B[0m\u001B[0;34m\u001B[0m\u001B[0;34m\u001B[0m\u001B[0m\n\u001B[1;32m    435\u001B[0m                 \u001B[0mshare_all\u001B[0m\u001B[0;34m=\u001B[0m\u001B[0mshare_all\u001B[0m\u001B[0;34m,\u001B[0m \u001B[0mshare_x\u001B[0m\u001B[0;34m=\u001B[0m\u001B[0;32mTrue\u001B[0m\u001B[0;34m,\u001B[0m \u001B[0mshare_y\u001B[0m\u001B[0;34m=\u001B[0m\u001B[0;32mTrue\u001B[0m\u001B[0;34m,\u001B[0m \u001B[0maspect\u001B[0m\u001B[0;34m=\u001B[0m\u001B[0maspect\u001B[0m\u001B[0;34m,\u001B[0m\u001B[0;34m\u001B[0m\u001B[0;34m\u001B[0m\u001B[0m\n\u001B[0;32m--> 436\u001B[0;31m                 label_mode=label_mode, axes_class=axes_class)\n\u001B[0m\u001B[1;32m    437\u001B[0m         \u001B[0;32melse\u001B[0m\u001B[0;34m:\u001B[0m  \u001B[0;31m# Only show deprecation in that case.\u001B[0m\u001B[0;34m\u001B[0m\u001B[0;34m\u001B[0m\u001B[0m\n\u001B[1;32m    438\u001B[0m             super().__init__(\n",
      "\u001B[0;32m~/miniconda3/envs/wishart/lib/python3.7/site-packages/matplotlib/cbook/deprecation.py\u001B[0m in \u001B[0;36mwrapper\u001B[0;34m(*inner_args, **inner_kwargs)\u001B[0m\n\u001B[1;32m    409\u001B[0m                          \u001B[0;32melse\u001B[0m \u001B[0mdeprecation_addendum\u001B[0m\u001B[0;34m,\u001B[0m\u001B[0;34m\u001B[0m\u001B[0;34m\u001B[0m\u001B[0m\n\u001B[1;32m    410\u001B[0m                 **kwargs)\n\u001B[0;32m--> 411\u001B[0;31m         \u001B[0;32mreturn\u001B[0m \u001B[0mfunc\u001B[0m\u001B[0;34m(\u001B[0m\u001B[0;34m*\u001B[0m\u001B[0minner_args\u001B[0m\u001B[0;34m,\u001B[0m \u001B[0;34m**\u001B[0m\u001B[0minner_kwargs\u001B[0m\u001B[0;34m)\u001B[0m\u001B[0;34m\u001B[0m\u001B[0;34m\u001B[0m\u001B[0m\n\u001B[0m\u001B[1;32m    412\u001B[0m \u001B[0;34m\u001B[0m\u001B[0m\n\u001B[1;32m    413\u001B[0m     \u001B[0;32mreturn\u001B[0m \u001B[0mwrapper\u001B[0m\u001B[0;34m\u001B[0m\u001B[0;34m\u001B[0m\u001B[0m\n",
      "\u001B[0;32m~/miniconda3/envs/wishart/lib/python3.7/site-packages/mpl_toolkits/axes_grid1/axes_grid.py\u001B[0m in \u001B[0;36m__init__\u001B[0;34m(self, fig, rect, nrows_ncols, ngrids, direction, axes_pad, add_all, share_all, share_x, share_y, label_mode, axes_class, aspect)\u001B[0m\n\u001B[1;32m    206\u001B[0m         \u001B[0mself\u001B[0m\u001B[0;34m.\u001B[0m\u001B[0maxes_llc\u001B[0m \u001B[0;34m=\u001B[0m \u001B[0mself\u001B[0m\u001B[0;34m.\u001B[0m\u001B[0maxes_column\u001B[0m\u001B[0;34m[\u001B[0m\u001B[0;36m0\u001B[0m\u001B[0;34m]\u001B[0m\u001B[0;34m[\u001B[0m\u001B[0;34m-\u001B[0m\u001B[0;36m1\u001B[0m\u001B[0;34m]\u001B[0m\u001B[0;34m\u001B[0m\u001B[0;34m\u001B[0m\u001B[0m\n\u001B[1;32m    207\u001B[0m \u001B[0;34m\u001B[0m\u001B[0m\n\u001B[0;32m--> 208\u001B[0;31m         \u001B[0mself\u001B[0m\u001B[0;34m.\u001B[0m\u001B[0m_init_locators\u001B[0m\u001B[0;34m(\u001B[0m\u001B[0;34m)\u001B[0m\u001B[0;34m\u001B[0m\u001B[0;34m\u001B[0m\u001B[0m\n\u001B[0m\u001B[1;32m    209\u001B[0m \u001B[0;34m\u001B[0m\u001B[0m\n\u001B[1;32m    210\u001B[0m         \u001B[0;32mif\u001B[0m \u001B[0madd_all\u001B[0m\u001B[0;34m:\u001B[0m\u001B[0;34m\u001B[0m\u001B[0;34m\u001B[0m\u001B[0m\n",
      "\u001B[0;32m~/miniconda3/envs/wishart/lib/python3.7/site-packages/mpl_toolkits/axes_grid1/axes_grid.py\u001B[0m in \u001B[0;36m_init_locators\u001B[0;34m(self)\u001B[0m\n\u001B[1;32m    474\u001B[0m                 \u001B[0mself\u001B[0m\u001B[0;34m.\u001B[0m\u001B[0maxes_all\u001B[0m\u001B[0;34m[\u001B[0m\u001B[0;36m0\u001B[0m\u001B[0;34m]\u001B[0m\u001B[0;34m.\u001B[0m\u001B[0mfigure\u001B[0m\u001B[0;34m,\u001B[0m \u001B[0mself\u001B[0m\u001B[0;34m.\u001B[0m\u001B[0m_divider\u001B[0m\u001B[0;34m.\u001B[0m\u001B[0mget_position\u001B[0m\u001B[0;34m(\u001B[0m\u001B[0;34m)\u001B[0m\u001B[0;34m,\u001B[0m\u001B[0;34m\u001B[0m\u001B[0;34m\u001B[0m\u001B[0m\n\u001B[1;32m    475\u001B[0m                 orientation=self._colorbar_location)\n\u001B[0;32m--> 476\u001B[0;31m             for _ in range(self.ngrids)]\n\u001B[0m\u001B[1;32m    477\u001B[0m \u001B[0;34m\u001B[0m\u001B[0m\n\u001B[1;32m    478\u001B[0m         \u001B[0mcb_mode\u001B[0m \u001B[0;34m=\u001B[0m \u001B[0mself\u001B[0m\u001B[0;34m.\u001B[0m\u001B[0m_colorbar_mode\u001B[0m\u001B[0;34m\u001B[0m\u001B[0;34m\u001B[0m\u001B[0m\n",
      "\u001B[0;32m~/miniconda3/envs/wishart/lib/python3.7/site-packages/mpl_toolkits/axes_grid1/axes_grid.py\u001B[0m in \u001B[0;36m<listcomp>\u001B[0;34m(.0)\u001B[0m\n\u001B[1;32m    474\u001B[0m                 \u001B[0mself\u001B[0m\u001B[0;34m.\u001B[0m\u001B[0maxes_all\u001B[0m\u001B[0;34m[\u001B[0m\u001B[0;36m0\u001B[0m\u001B[0;34m]\u001B[0m\u001B[0;34m.\u001B[0m\u001B[0mfigure\u001B[0m\u001B[0;34m,\u001B[0m \u001B[0mself\u001B[0m\u001B[0;34m.\u001B[0m\u001B[0m_divider\u001B[0m\u001B[0;34m.\u001B[0m\u001B[0mget_position\u001B[0m\u001B[0;34m(\u001B[0m\u001B[0;34m)\u001B[0m\u001B[0;34m,\u001B[0m\u001B[0;34m\u001B[0m\u001B[0;34m\u001B[0m\u001B[0m\n\u001B[1;32m    475\u001B[0m                 orientation=self._colorbar_location)\n\u001B[0;32m--> 476\u001B[0;31m             for _ in range(self.ngrids)]\n\u001B[0m\u001B[1;32m    477\u001B[0m \u001B[0;34m\u001B[0m\u001B[0m\n\u001B[1;32m    478\u001B[0m         \u001B[0mcb_mode\u001B[0m \u001B[0;34m=\u001B[0m \u001B[0mself\u001B[0m\u001B[0;34m.\u001B[0m\u001B[0m_colorbar_mode\u001B[0m\u001B[0;34m\u001B[0m\u001B[0;34m\u001B[0m\u001B[0m\n",
      "\u001B[0;32m~/miniconda3/envs/wishart/lib/python3.7/site-packages/mpl_toolkits/axes_grid1/axes_grid.py\u001B[0m in \u001B[0;36m__init__\u001B[0;34m(self, orientation, *args, **kwargs)\u001B[0m\n\u001B[1;32m     25\u001B[0m         \u001B[0mself\u001B[0m\u001B[0;34m.\u001B[0m\u001B[0m_default_label_on\u001B[0m \u001B[0;34m=\u001B[0m \u001B[0;32mTrue\u001B[0m\u001B[0;34m\u001B[0m\u001B[0;34m\u001B[0m\u001B[0m\n\u001B[1;32m     26\u001B[0m         \u001B[0mself\u001B[0m\u001B[0;34m.\u001B[0m\u001B[0m_locator\u001B[0m \u001B[0;34m=\u001B[0m \u001B[0;32mNone\u001B[0m  \u001B[0;31m# deprecated.\u001B[0m\u001B[0;34m\u001B[0m\u001B[0;34m\u001B[0m\u001B[0m\n\u001B[0;32m---> 27\u001B[0;31m         \u001B[0msuper\u001B[0m\u001B[0;34m(\u001B[0m\u001B[0;34m)\u001B[0m\u001B[0;34m.\u001B[0m\u001B[0m__init__\u001B[0m\u001B[0;34m(\u001B[0m\u001B[0;34m*\u001B[0m\u001B[0margs\u001B[0m\u001B[0;34m,\u001B[0m \u001B[0;34m**\u001B[0m\u001B[0mkwargs\u001B[0m\u001B[0;34m)\u001B[0m\u001B[0;34m\u001B[0m\u001B[0;34m\u001B[0m\u001B[0m\n\u001B[0m\u001B[1;32m     28\u001B[0m \u001B[0;34m\u001B[0m\u001B[0m\n\u001B[1;32m     29\u001B[0m     \u001B[0;34m@\u001B[0m\u001B[0mcbook\u001B[0m\u001B[0;34m.\u001B[0m\u001B[0m_rename_parameter\u001B[0m\u001B[0;34m(\u001B[0m\u001B[0;34m\"3.2\"\u001B[0m\u001B[0;34m,\u001B[0m \u001B[0;34m\"locator\"\u001B[0m\u001B[0;34m,\u001B[0m \u001B[0;34m\"ticks\"\u001B[0m\u001B[0;34m)\u001B[0m\u001B[0;34m\u001B[0m\u001B[0;34m\u001B[0m\u001B[0m\n",
      "\u001B[0;32m~/miniconda3/envs/wishart/lib/python3.7/site-packages/matplotlib/axes/_base.py\u001B[0m in \u001B[0;36m__init__\u001B[0;34m(self, fig, rect, facecolor, frameon, sharex, sharey, label, xscale, yscale, box_aspect, **kwargs)\u001B[0m\n\u001B[1;32m    509\u001B[0m \u001B[0;34m\u001B[0m\u001B[0m\n\u001B[1;32m    510\u001B[0m         \u001B[0mself\u001B[0m\u001B[0;34m.\u001B[0m\u001B[0m_rasterization_zorder\u001B[0m \u001B[0;34m=\u001B[0m \u001B[0;32mNone\u001B[0m\u001B[0;34m\u001B[0m\u001B[0;34m\u001B[0m\u001B[0m\n\u001B[0;32m--> 511\u001B[0;31m         \u001B[0mself\u001B[0m\u001B[0;34m.\u001B[0m\u001B[0mcla\u001B[0m\u001B[0;34m(\u001B[0m\u001B[0;34m)\u001B[0m\u001B[0;34m\u001B[0m\u001B[0;34m\u001B[0m\u001B[0m\n\u001B[0m\u001B[1;32m    512\u001B[0m \u001B[0;34m\u001B[0m\u001B[0m\n\u001B[1;32m    513\u001B[0m         \u001B[0;31m# funcs used to format x and y - fall back on major formatters\u001B[0m\u001B[0;34m\u001B[0m\u001B[0;34m\u001B[0m\u001B[0;34m\u001B[0m\u001B[0m\n",
      "\u001B[0;32m~/miniconda3/envs/wishart/lib/python3.7/site-packages/mpl_toolkits/axes_grid1/axes_grid.py\u001B[0m in \u001B[0;36mcla\u001B[0;34m(self)\u001B[0m\n\u001B[1;32m     80\u001B[0m     \u001B[0;32mdef\u001B[0m \u001B[0mcla\u001B[0m\u001B[0;34m(\u001B[0m\u001B[0mself\u001B[0m\u001B[0;34m)\u001B[0m\u001B[0;34m:\u001B[0m\u001B[0;34m\u001B[0m\u001B[0;34m\u001B[0m\u001B[0m\n\u001B[1;32m     81\u001B[0m         \u001B[0msuper\u001B[0m\u001B[0;34m(\u001B[0m\u001B[0;34m)\u001B[0m\u001B[0;34m.\u001B[0m\u001B[0mcla\u001B[0m\u001B[0;34m(\u001B[0m\u001B[0;34m)\u001B[0m\u001B[0;34m\u001B[0m\u001B[0;34m\u001B[0m\u001B[0m\n\u001B[0;32m---> 82\u001B[0;31m         \u001B[0mself\u001B[0m\u001B[0;34m.\u001B[0m\u001B[0m_config_axes\u001B[0m\u001B[0;34m(\u001B[0m\u001B[0;34m)\u001B[0m\u001B[0;34m\u001B[0m\u001B[0;34m\u001B[0m\u001B[0m\n\u001B[0m\u001B[1;32m     83\u001B[0m \u001B[0;34m\u001B[0m\u001B[0m\n\u001B[1;32m     84\u001B[0m \u001B[0;34m\u001B[0m\u001B[0m\n",
      "\u001B[0;32m~/miniconda3/envs/wishart/lib/python3.7/site-packages/mpl_toolkits/axes_grid1/axes_grid.py\u001B[0m in \u001B[0;36m_config_axes\u001B[0;34m(self)\u001B[0m\n\u001B[1;32m     69\u001B[0m         \u001B[0max\u001B[0m \u001B[0;34m=\u001B[0m \u001B[0mself\u001B[0m\u001B[0;34m\u001B[0m\u001B[0;34m\u001B[0m\u001B[0m\n\u001B[1;32m     70\u001B[0m         \u001B[0max\u001B[0m\u001B[0;34m.\u001B[0m\u001B[0mset_navigate\u001B[0m\u001B[0;34m(\u001B[0m\u001B[0;32mFalse\u001B[0m\u001B[0;34m)\u001B[0m\u001B[0;34m\u001B[0m\u001B[0;34m\u001B[0m\u001B[0m\n\u001B[0;32m---> 71\u001B[0;31m         \u001B[0max\u001B[0m\u001B[0;34m.\u001B[0m\u001B[0maxis\u001B[0m\u001B[0;34m[\u001B[0m\u001B[0;34m:\u001B[0m\u001B[0;34m]\u001B[0m\u001B[0;34m.\u001B[0m\u001B[0mtoggle\u001B[0m\u001B[0;34m(\u001B[0m\u001B[0mall\u001B[0m\u001B[0;34m=\u001B[0m\u001B[0;32mFalse\u001B[0m\u001B[0;34m)\u001B[0m\u001B[0;34m\u001B[0m\u001B[0;34m\u001B[0m\u001B[0m\n\u001B[0m\u001B[1;32m     72\u001B[0m         \u001B[0mb\u001B[0m \u001B[0;34m=\u001B[0m \u001B[0mself\u001B[0m\u001B[0;34m.\u001B[0m\u001B[0m_default_label_on\u001B[0m\u001B[0;34m\u001B[0m\u001B[0;34m\u001B[0m\u001B[0m\n\u001B[1;32m     73\u001B[0m         \u001B[0max\u001B[0m\u001B[0;34m.\u001B[0m\u001B[0maxis\u001B[0m\u001B[0;34m[\u001B[0m\u001B[0mself\u001B[0m\u001B[0;34m.\u001B[0m\u001B[0morientation\u001B[0m\u001B[0;34m]\u001B[0m\u001B[0;34m.\u001B[0m\u001B[0mtoggle\u001B[0m\u001B[0;34m(\u001B[0m\u001B[0mall\u001B[0m\u001B[0;34m=\u001B[0m\u001B[0mb\u001B[0m\u001B[0;34m)\u001B[0m\u001B[0;34m\u001B[0m\u001B[0;34m\u001B[0m\u001B[0m\n",
      "\u001B[0;32m~/miniconda3/envs/wishart/lib/python3.7/site-packages/mpl_toolkits/axes_grid1/mpl_axes.py\u001B[0m in \u001B[0;36m__call__\u001B[0;34m(self, *args, **kwargs)\u001B[0m\n\u001B[1;32m     14\u001B[0m     \u001B[0;32mdef\u001B[0m \u001B[0m__call__\u001B[0m\u001B[0;34m(\u001B[0m\u001B[0mself\u001B[0m\u001B[0;34m,\u001B[0m \u001B[0;34m*\u001B[0m\u001B[0margs\u001B[0m\u001B[0;34m,\u001B[0m \u001B[0;34m**\u001B[0m\u001B[0mkwargs\u001B[0m\u001B[0;34m)\u001B[0m\u001B[0;34m:\u001B[0m\u001B[0;34m\u001B[0m\u001B[0;34m\u001B[0m\u001B[0m\n\u001B[1;32m     15\u001B[0m         \u001B[0;32mfor\u001B[0m \u001B[0mm\u001B[0m \u001B[0;32min\u001B[0m \u001B[0mself\u001B[0m\u001B[0;34m.\u001B[0m\u001B[0m_objects\u001B[0m\u001B[0;34m:\u001B[0m\u001B[0;34m\u001B[0m\u001B[0;34m\u001B[0m\u001B[0m\n\u001B[0;32m---> 16\u001B[0;31m             \u001B[0mm\u001B[0m\u001B[0;34m(\u001B[0m\u001B[0;34m*\u001B[0m\u001B[0margs\u001B[0m\u001B[0;34m,\u001B[0m \u001B[0;34m**\u001B[0m\u001B[0mkwargs\u001B[0m\u001B[0;34m)\u001B[0m\u001B[0;34m\u001B[0m\u001B[0;34m\u001B[0m\u001B[0m\n\u001B[0m\u001B[1;32m     17\u001B[0m \u001B[0;34m\u001B[0m\u001B[0m\n\u001B[1;32m     18\u001B[0m \u001B[0;34m\u001B[0m\u001B[0m\n",
      "\u001B[0;32m~/miniconda3/envs/wishart/lib/python3.7/site-packages/mpl_toolkits/axes_grid1/mpl_axes.py\u001B[0m in \u001B[0;36mtoggle\u001B[0;34m(self, all, ticks, ticklabels, label)\u001B[0m\n\u001B[1;32m    124\u001B[0m         \u001B[0;32mif\u001B[0m \u001B[0m_ticklabels\u001B[0m \u001B[0;32mis\u001B[0m \u001B[0;32mnot\u001B[0m \u001B[0;32mNone\u001B[0m\u001B[0;34m:\u001B[0m\u001B[0;34m\u001B[0m\u001B[0;34m\u001B[0m\u001B[0m\n\u001B[1;32m    125\u001B[0m             \u001B[0mtickparam\u001B[0m \u001B[0;34m=\u001B[0m \u001B[0;34m{\u001B[0m\u001B[0mlabelOn\u001B[0m\u001B[0;34m:\u001B[0m \u001B[0m_ticklabels\u001B[0m\u001B[0;34m}\u001B[0m\u001B[0;34m\u001B[0m\u001B[0;34m\u001B[0m\u001B[0m\n\u001B[0;32m--> 126\u001B[0;31m             \u001B[0mself\u001B[0m\u001B[0;34m.\u001B[0m\u001B[0m_axis\u001B[0m\u001B[0;34m.\u001B[0m\u001B[0mset_tick_params\u001B[0m\u001B[0;34m(\u001B[0m\u001B[0;34m**\u001B[0m\u001B[0mtickparam\u001B[0m\u001B[0;34m)\u001B[0m\u001B[0;34m\u001B[0m\u001B[0;34m\u001B[0m\u001B[0m\n\u001B[0m\u001B[1;32m    127\u001B[0m \u001B[0;34m\u001B[0m\u001B[0m\n\u001B[1;32m    128\u001B[0m         \u001B[0;32mif\u001B[0m \u001B[0m_label\u001B[0m \u001B[0;32mis\u001B[0m \u001B[0;32mnot\u001B[0m \u001B[0;32mNone\u001B[0m\u001B[0;34m:\u001B[0m\u001B[0;34m\u001B[0m\u001B[0;34m\u001B[0m\u001B[0m\n",
      "\u001B[0;32m~/miniconda3/envs/wishart/lib/python3.7/site-packages/matplotlib/axis.py\u001B[0m in \u001B[0;36mset_tick_params\u001B[0;34m(self, which, reset, **kw)\u001B[0m\n\u001B[1;32m    837\u001B[0m                 \u001B[0mself\u001B[0m\u001B[0;34m.\u001B[0m\u001B[0m_major_tick_kw\u001B[0m\u001B[0;34m.\u001B[0m\u001B[0mupdate\u001B[0m\u001B[0;34m(\u001B[0m\u001B[0mkwtrans\u001B[0m\u001B[0;34m)\u001B[0m\u001B[0;34m\u001B[0m\u001B[0;34m\u001B[0m\u001B[0m\n\u001B[1;32m    838\u001B[0m                 \u001B[0;32mfor\u001B[0m \u001B[0mtick\u001B[0m \u001B[0;32min\u001B[0m \u001B[0mself\u001B[0m\u001B[0;34m.\u001B[0m\u001B[0mmajorTicks\u001B[0m\u001B[0;34m:\u001B[0m\u001B[0;34m\u001B[0m\u001B[0;34m\u001B[0m\u001B[0m\n\u001B[0;32m--> 839\u001B[0;31m                     \u001B[0mtick\u001B[0m\u001B[0;34m.\u001B[0m\u001B[0m_apply_params\u001B[0m\u001B[0;34m(\u001B[0m\u001B[0;34m**\u001B[0m\u001B[0mkwtrans\u001B[0m\u001B[0;34m)\u001B[0m\u001B[0;34m\u001B[0m\u001B[0;34m\u001B[0m\u001B[0m\n\u001B[0m\u001B[1;32m    840\u001B[0m             \u001B[0;32mif\u001B[0m \u001B[0mwhich\u001B[0m \u001B[0;32min\u001B[0m \u001B[0;34m[\u001B[0m\u001B[0;34m'minor'\u001B[0m\u001B[0;34m,\u001B[0m \u001B[0;34m'both'\u001B[0m\u001B[0;34m]\u001B[0m\u001B[0;34m:\u001B[0m\u001B[0;34m\u001B[0m\u001B[0;34m\u001B[0m\u001B[0m\n\u001B[1;32m    841\u001B[0m                 \u001B[0mself\u001B[0m\u001B[0;34m.\u001B[0m\u001B[0m_minor_tick_kw\u001B[0m\u001B[0;34m.\u001B[0m\u001B[0mupdate\u001B[0m\u001B[0;34m(\u001B[0m\u001B[0mkwtrans\u001B[0m\u001B[0;34m)\u001B[0m\u001B[0;34m\u001B[0m\u001B[0;34m\u001B[0m\u001B[0m\n",
      "\u001B[0;32m~/miniconda3/envs/wishart/lib/python3.7/site-packages/matplotlib/axis.py\u001B[0m in \u001B[0;36m_apply_params\u001B[0;34m(self, **kw)\u001B[0m\n\u001B[1;32m    381\u001B[0m         label_kw = {k[5:]: v for k, v in kw.items()\n\u001B[1;32m    382\u001B[0m                     if k in ['labelsize', 'labelcolor']}\n\u001B[0;32m--> 383\u001B[0;31m         \u001B[0mself\u001B[0m\u001B[0;34m.\u001B[0m\u001B[0mlabel1\u001B[0m\u001B[0;34m.\u001B[0m\u001B[0mset\u001B[0m\u001B[0;34m(\u001B[0m\u001B[0;34m**\u001B[0m\u001B[0mlabel_kw\u001B[0m\u001B[0;34m)\u001B[0m\u001B[0;34m\u001B[0m\u001B[0;34m\u001B[0m\u001B[0m\n\u001B[0m\u001B[1;32m    384\u001B[0m         \u001B[0mself\u001B[0m\u001B[0;34m.\u001B[0m\u001B[0mlabel2\u001B[0m\u001B[0;34m.\u001B[0m\u001B[0mset\u001B[0m\u001B[0;34m(\u001B[0m\u001B[0;34m**\u001B[0m\u001B[0mlabel_kw\u001B[0m\u001B[0;34m)\u001B[0m\u001B[0;34m\u001B[0m\u001B[0;34m\u001B[0m\u001B[0m\n\u001B[1;32m    385\u001B[0m         \u001B[0;32mfor\u001B[0m \u001B[0mk\u001B[0m\u001B[0;34m,\u001B[0m \u001B[0mv\u001B[0m \u001B[0;32min\u001B[0m \u001B[0mlabel_kw\u001B[0m\u001B[0;34m.\u001B[0m\u001B[0mitems\u001B[0m\u001B[0;34m(\u001B[0m\u001B[0;34m)\u001B[0m\u001B[0;34m:\u001B[0m\u001B[0;34m\u001B[0m\u001B[0;34m\u001B[0m\u001B[0m\n",
      "\u001B[0;32m~/miniconda3/envs/wishart/lib/python3.7/site-packages/matplotlib/artist.py\u001B[0m in \u001B[0;36mset\u001B[0;34m(self, **kwargs)\u001B[0m\n\u001B[1;32m   1086\u001B[0m     \u001B[0;32mdef\u001B[0m \u001B[0mset\u001B[0m\u001B[0;34m(\u001B[0m\u001B[0mself\u001B[0m\u001B[0;34m,\u001B[0m \u001B[0;34m**\u001B[0m\u001B[0mkwargs\u001B[0m\u001B[0;34m)\u001B[0m\u001B[0;34m:\u001B[0m\u001B[0;34m\u001B[0m\u001B[0;34m\u001B[0m\u001B[0m\n\u001B[1;32m   1087\u001B[0m         \u001B[0;34m\"\"\"A property batch setter.  Pass *kwargs* to set properties.\"\"\"\u001B[0m\u001B[0;34m\u001B[0m\u001B[0;34m\u001B[0m\u001B[0m\n\u001B[0;32m-> 1088\u001B[0;31m         \u001B[0mkwargs\u001B[0m \u001B[0;34m=\u001B[0m \u001B[0mcbook\u001B[0m\u001B[0;34m.\u001B[0m\u001B[0mnormalize_kwargs\u001B[0m\u001B[0;34m(\u001B[0m\u001B[0mkwargs\u001B[0m\u001B[0;34m,\u001B[0m \u001B[0mself\u001B[0m\u001B[0;34m)\u001B[0m\u001B[0;34m\u001B[0m\u001B[0;34m\u001B[0m\u001B[0m\n\u001B[0m\u001B[1;32m   1089\u001B[0m         \u001B[0mmove_color_to_start\u001B[0m \u001B[0;34m=\u001B[0m \u001B[0;32mFalse\u001B[0m\u001B[0;34m\u001B[0m\u001B[0;34m\u001B[0m\u001B[0m\n\u001B[1;32m   1090\u001B[0m         \u001B[0;32mif\u001B[0m \u001B[0;34m\"color\"\u001B[0m \u001B[0;32min\u001B[0m \u001B[0mkwargs\u001B[0m\u001B[0;34m:\u001B[0m\u001B[0;34m\u001B[0m\u001B[0;34m\u001B[0m\u001B[0m\n",
      "\u001B[0;32m~/miniconda3/envs/wishart/lib/python3.7/site-packages/matplotlib/cbook/deprecation.py\u001B[0m in \u001B[0;36mwrapper\u001B[0;34m(*inner_args, **inner_kwargs)\u001B[0m\n\u001B[1;32m    409\u001B[0m                          \u001B[0;32melse\u001B[0m \u001B[0mdeprecation_addendum\u001B[0m\u001B[0;34m,\u001B[0m\u001B[0;34m\u001B[0m\u001B[0;34m\u001B[0m\u001B[0m\n\u001B[1;32m    410\u001B[0m                 **kwargs)\n\u001B[0;32m--> 411\u001B[0;31m         \u001B[0;32mreturn\u001B[0m \u001B[0mfunc\u001B[0m\u001B[0;34m(\u001B[0m\u001B[0;34m*\u001B[0m\u001B[0minner_args\u001B[0m\u001B[0;34m,\u001B[0m \u001B[0;34m**\u001B[0m\u001B[0minner_kwargs\u001B[0m\u001B[0;34m)\u001B[0m\u001B[0;34m\u001B[0m\u001B[0;34m\u001B[0m\u001B[0m\n\u001B[0m\u001B[1;32m    412\u001B[0m \u001B[0;34m\u001B[0m\u001B[0m\n\u001B[1;32m    413\u001B[0m     \u001B[0;32mreturn\u001B[0m \u001B[0mwrapper\u001B[0m\u001B[0;34m\u001B[0m\u001B[0;34m\u001B[0m\u001B[0m\n",
      "\u001B[0;32m~/miniconda3/envs/wishart/lib/python3.7/site-packages/matplotlib/cbook/deprecation.py\u001B[0m in \u001B[0;36mwrapper\u001B[0;34m(*inner_args, **inner_kwargs)\u001B[0m\n\u001B[1;32m    409\u001B[0m                          \u001B[0;32melse\u001B[0m \u001B[0mdeprecation_addendum\u001B[0m\u001B[0;34m,\u001B[0m\u001B[0;34m\u001B[0m\u001B[0;34m\u001B[0m\u001B[0m\n\u001B[1;32m    410\u001B[0m                 **kwargs)\n\u001B[0;32m--> 411\u001B[0;31m         \u001B[0;32mreturn\u001B[0m \u001B[0mfunc\u001B[0m\u001B[0;34m(\u001B[0m\u001B[0;34m*\u001B[0m\u001B[0minner_args\u001B[0m\u001B[0;34m,\u001B[0m \u001B[0;34m**\u001B[0m\u001B[0minner_kwargs\u001B[0m\u001B[0;34m)\u001B[0m\u001B[0;34m\u001B[0m\u001B[0;34m\u001B[0m\u001B[0m\n\u001B[0m\u001B[1;32m    412\u001B[0m \u001B[0;34m\u001B[0m\u001B[0m\n\u001B[1;32m    413\u001B[0m     \u001B[0;32mreturn\u001B[0m \u001B[0mwrapper\u001B[0m\u001B[0;34m\u001B[0m\u001B[0;34m\u001B[0m\u001B[0m\n",
      "\u001B[0;32m~/miniconda3/envs/wishart/lib/python3.7/site-packages/matplotlib/cbook/deprecation.py\u001B[0m in \u001B[0;36mwrapper\u001B[0;34m(*inner_args, **inner_kwargs)\u001B[0m\n\u001B[1;32m    409\u001B[0m                          \u001B[0;32melse\u001B[0m \u001B[0mdeprecation_addendum\u001B[0m\u001B[0;34m,\u001B[0m\u001B[0;34m\u001B[0m\u001B[0;34m\u001B[0m\u001B[0m\n\u001B[1;32m    410\u001B[0m                 **kwargs)\n\u001B[0;32m--> 411\u001B[0;31m         \u001B[0;32mreturn\u001B[0m \u001B[0mfunc\u001B[0m\u001B[0;34m(\u001B[0m\u001B[0;34m*\u001B[0m\u001B[0minner_args\u001B[0m\u001B[0;34m,\u001B[0m \u001B[0;34m**\u001B[0m\u001B[0minner_kwargs\u001B[0m\u001B[0;34m)\u001B[0m\u001B[0;34m\u001B[0m\u001B[0;34m\u001B[0m\u001B[0m\n\u001B[0m\u001B[1;32m    412\u001B[0m \u001B[0;34m\u001B[0m\u001B[0m\n\u001B[1;32m    413\u001B[0m     \u001B[0;32mreturn\u001B[0m \u001B[0mwrapper\u001B[0m\u001B[0;34m\u001B[0m\u001B[0;34m\u001B[0m\u001B[0m\n",
      "\u001B[0;32m~/miniconda3/envs/wishart/lib/python3.7/site-packages/matplotlib/cbook/__init__.py\u001B[0m in \u001B[0;36mnormalize_kwargs\u001B[0;34m(kw, alias_mapping, required, forbidden, allowed)\u001B[0m\n\u001B[1;32m   1738\u001B[0m     elif (isinstance(alias_mapping, type) and issubclass(alias_mapping, Artist)\n\u001B[1;32m   1739\u001B[0m           or isinstance(alias_mapping, Artist)):\n\u001B[0;32m-> 1740\u001B[0;31m         \u001B[0malias_mapping\u001B[0m \u001B[0;34m=\u001B[0m \u001B[0mgetattr\u001B[0m\u001B[0;34m(\u001B[0m\u001B[0malias_mapping\u001B[0m\u001B[0;34m,\u001B[0m \u001B[0;34m\"_alias_map\"\u001B[0m\u001B[0;34m,\u001B[0m \u001B[0;34m{\u001B[0m\u001B[0;34m}\u001B[0m\u001B[0;34m)\u001B[0m\u001B[0;34m\u001B[0m\u001B[0;34m\u001B[0m\u001B[0m\n\u001B[0m\u001B[1;32m   1741\u001B[0m \u001B[0;34m\u001B[0m\u001B[0m\n\u001B[1;32m   1742\u001B[0m     to_canonical = {alias: canonical\n",
      "\u001B[0;31mKeyboardInterrupt\u001B[0m: "
     ]
    },
    {
     "data": {
      "text/plain": "<Figure size 432x288 with 4 Axes>",
      "image/png": "[encoded data removed]"
     },
     "metadata": {},
     "output_type": "display_data"
    },
    {
     "data": {
      "text/plain": "<Figure size 432x288 with 0 Axes>"
     },
     "metadata": {},
     "output_type": "display_data"
    }
   ],
   "source": [
    "num_t = trainer.tx[0, :].unique().shape[0]\n",
    "num_x = trainer.tx[1, :].unique().shape[0]\n",
    "\n",
    "# gp_model.covar_module.lengthscale = 0.3*0.3 * 2\n",
    "out = gp_model(trainer.tx.transpose(0, 1))\n",
    "\n",
    "sample = out.sample(torch.Size([lfm.config.num_samples])).permute(0, 2, 1)\n",
    "real = torch.tensor(dataset.orig_data[trainer.t_sorted, 2]).unsqueeze(0)\n",
    "\n",
    "\n",
    "plot_spatiotemporal_data(\n",
    "    [sample.mean(0)[0].detach().view(num_t, num_x).transpose(0, 1),\n",
    "    real.squeeze().view(num_t, num_x).transpose(0, 1)],\n",
    "    extent,\n",
    "    titles=['Prediction', 'Ground truth']\n",
    ")\n",
    "\n",
    "sample = sample.view(lfm.config.num_samples, 1, num_t, num_x)\n",
    "real = real.repeat(lfm.config.num_samples, 1, 1)\n",
    "real = real.view(lfm.config.num_samples, 1, num_t, num_x)\n",
    "\n",
    "out = lfm.solve_pde(sample)\n",
    "real_out = lfm.solve_pde(real)\n",
    "\n",
    "plot_spatiotemporal_data(\n",
    "    [out.mean(0).detach().transpose(0, 1),\n",
    "    real_out[0].detach().transpose(0, 1)],\n",
    "    extent,\n",
    "    titles=['Prediction', 'Ground truth']\n",
    ")"
   ],
   "metadata": {
    "collapsed": false,
    "pycharm": {
     "name": "#%%\n"
    }
   }
  },
  {
   "cell_type": "code",
   "execution_count": null,
   "outputs": [],
   "source": [
    "#print(hihi)\n",
    "\n",
    "trainer.train(2)"
   ],
   "metadata": {
    "collapsed": false,
    "pycharm": {
     "name": "#%%\n"
    }
   }
  },
  {
   "cell_type": "code",
   "execution_count": 24,
   "outputs": [
    {
     "name": "stdout",
     "output_type": "stream",
     "text": [
      "torch.Size([25, 1, 512])\n"
     ]
    },
    {
     "ename": "IndexError",
     "evalue": "Dimension out of range (expected to be in range of [-1, 0], but got 1)",
     "output_type": "error",
     "traceback": [
      "\u001B[0;31m---------------------------------------------------------------------------\u001B[0m",
      "\u001B[0;31mIndexError\u001B[0m                                Traceback (most recent call last)",
      "\u001B[0;32m<ipython-input-24-d175470bbe4e>\u001B[0m in \u001B[0;36m<module>\u001B[0;34m\u001B[0m\n\u001B[1;32m      1\u001B[0m \u001B[0mprint\u001B[0m\u001B[0;34m(\u001B[0m\u001B[0msample\u001B[0m\u001B[0;34m.\u001B[0m\u001B[0mshape\u001B[0m\u001B[0;34m)\u001B[0m\u001B[0;34m\u001B[0m\u001B[0;34m\u001B[0m\u001B[0m\n\u001B[1;32m      2\u001B[0m \u001B[0;34m\u001B[0m\u001B[0m\n\u001B[0;32m----> 3\u001B[0;31m \u001B[0mplt\u001B[0m\u001B[0;34m.\u001B[0m\u001B[0mimshow\u001B[0m\u001B[0;34m(\u001B[0m\u001B[0msample\u001B[0m\u001B[0;34m.\u001B[0m\u001B[0mmean\u001B[0m\u001B[0;34m(\u001B[0m\u001B[0;36m0\u001B[0m\u001B[0;34m)\u001B[0m\u001B[0;34m[\u001B[0m\u001B[0;36m0\u001B[0m\u001B[0;34m]\u001B[0m\u001B[0;34m.\u001B[0m\u001B[0mtranspose\u001B[0m\u001B[0;34m(\u001B[0m\u001B[0;36m0\u001B[0m\u001B[0;34m,\u001B[0m \u001B[0;36m1\u001B[0m\u001B[0;34m)\u001B[0m\u001B[0;34m)\u001B[0m\u001B[0;34m\u001B[0m\u001B[0;34m\u001B[0m\u001B[0m\n\u001B[0m\u001B[1;32m      4\u001B[0m \u001B[0mplt\u001B[0m\u001B[0;34m.\u001B[0m\u001B[0mcolorbar\u001B[0m\u001B[0;34m(\u001B[0m\u001B[0;34m)\u001B[0m\u001B[0;34m\u001B[0m\u001B[0;34m\u001B[0m\u001B[0m\n\u001B[1;32m      5\u001B[0m \u001B[0mplt\u001B[0m\u001B[0;34m.\u001B[0m\u001B[0mfigure\u001B[0m\u001B[0;34m(\u001B[0m\u001B[0;34m)\u001B[0m\u001B[0;34m\u001B[0m\u001B[0;34m\u001B[0m\u001B[0m\n",
      "\u001B[0;31mIndexError\u001B[0m: Dimension out of range (expected to be in range of [-1, 0], but got 1)"
     ]
    }
   ],
   "source": [
    "print(sample.shape)\n",
    "\n",
    "plt.imshow(sample.mean(0)[0].transpose(0, 1))\n",
    "plt.colorbar()\n",
    "plt.figure()\n",
    "plt.imshow(out.mean(0).detach())\n",
    "# lfm.save(filepath)"
   ],
   "metadata": {
    "collapsed": false,
    "pycharm": {
     "name": "#%%\n"
    }
   }
  },
  {
   "cell_type": "code",
   "execution_count": 25,
   "outputs": [
    {
     "name": "stdout",
     "output_type": "stream",
     "text": [
      "t_sorted, dp [53.925 60.175 66.425 72.675 78.925 85.175 91.425 97.675] 6.25\n",
      "x dp is set to 1.0\n",
      "t_sorted, dp [25.5 26.5 27.5 28.5 29.5 30.5 31.5 32.5 33.5 34.5 35.5 36.5 37.5 38.5\n",
      " 39.5 40.5 41.5 42.5 43.5 44.5 45.5 46.5 47.5 48.5 49.5 50.5 51.5 52.5\n",
      " 53.5 54.5 55.5 56.5 57.5 58.5 59.5 60.5 61.5 62.5 63.5 64.5 65.5 66.5\n",
      " 67.5 68.5 69.5 70.5 71.5 72.5 73.5 74.5 75.5 76.5 77.5 78.5 79.5 80.5\n",
      " 81.5 82.5 83.5 84.5 85.5 86.5 87.5 88.5] 1.0\n"
     ]
    }
   ],
   "source": [
    "lfm = PartialLFM.load(filepath,\n",
    "                      gp_cls=MultiOutputGP,\n",
    "                      gp_args=[inducing_points, 1],\n",
    "                      gp_kwargs=gp_kwargs,\n",
    "                      lfm_args=[1, fenics_model, fenics_params, config])\n",
    "# lfm = PartialLFM(gp_model, fenics_model, fenics_params, config)\n",
    "\n",
    "gp_model = lfm.gp_model\n",
    "optimizer = torch.optim.Adam(lfm.parameters(), lr=0.07)\n",
    "trainer = PDETrainer(lfm, optimizer, dataset, track_parameters=list(lfm.fenics_named_parameters.keys()))"
   ],
   "metadata": {
    "collapsed": false,
    "pycharm": {
     "name": "#%%\n"
    }
   }
  },
  {
   "cell_type": "code",
   "execution_count": 26,
   "outputs": [
    {
     "ename": "NameError",
     "evalue": "name 'f_mean' is not defined",
     "output_type": "error",
     "traceback": [
      "\u001B[0;31m---------------------------------------------------------------------------\u001B[0m",
      "\u001B[0;31mNameError\u001B[0m                                 Traceback (most recent call last)",
      "\u001B[0;32m<ipython-input-26-2d90327e70b2>\u001B[0m in \u001B[0;36m<module>\u001B[0;34m\u001B[0m\n\u001B[1;32m     12\u001B[0m \u001B[0mx_diff\u001B[0m \u001B[0;34m=\u001B[0m \u001B[0mxs\u001B[0m\u001B[0;34m[\u001B[0m\u001B[0;34m-\u001B[0m\u001B[0;36m1\u001B[0m\u001B[0;34m]\u001B[0m \u001B[0;34m-\u001B[0m \u001B[0mxs\u001B[0m\u001B[0;34m[\u001B[0m\u001B[0;36m0\u001B[0m\u001B[0;34m]\u001B[0m\u001B[0;34m\u001B[0m\u001B[0;34m\u001B[0m\u001B[0m\n\u001B[1;32m     13\u001B[0m \u001B[0mextent\u001B[0m \u001B[0;34m=\u001B[0m \u001B[0;34m[\u001B[0m\u001B[0mts\u001B[0m\u001B[0;34m[\u001B[0m\u001B[0;36m0\u001B[0m\u001B[0;34m]\u001B[0m\u001B[0;34m,\u001B[0m \u001B[0mts\u001B[0m\u001B[0;34m[\u001B[0m\u001B[0;34m-\u001B[0m\u001B[0;36m1\u001B[0m\u001B[0;34m]\u001B[0m\u001B[0;34m,\u001B[0m \u001B[0mxs\u001B[0m\u001B[0;34m[\u001B[0m\u001B[0;36m0\u001B[0m\u001B[0;34m]\u001B[0m\u001B[0;34m,\u001B[0m \u001B[0mxs\u001B[0m\u001B[0;34m[\u001B[0m\u001B[0;34m-\u001B[0m\u001B[0;36m1\u001B[0m\u001B[0;34m]\u001B[0m\u001B[0;34m]\u001B[0m\u001B[0;34m\u001B[0m\u001B[0;34m\u001B[0m\u001B[0m\n\u001B[0;32m---> 14\u001B[0;31m \u001B[0mprint\u001B[0m\u001B[0;34m(\u001B[0m\u001B[0my_target\u001B[0m\u001B[0;34m.\u001B[0m\u001B[0mshape\u001B[0m\u001B[0;34m,\u001B[0m \u001B[0mf_mean\u001B[0m\u001B[0;34m.\u001B[0m\u001B[0msqueeze\u001B[0m\u001B[0;34m(\u001B[0m\u001B[0;34m)\u001B[0m\u001B[0;34m.\u001B[0m\u001B[0mshape\u001B[0m\u001B[0;34m)\u001B[0m\u001B[0;34m\u001B[0m\u001B[0;34m\u001B[0m\u001B[0m\n\u001B[0m\u001B[1;32m     15\u001B[0m \u001B[0mf_mean_test\u001B[0m \u001B[0;34m=\u001B[0m \u001B[0mf_mean\u001B[0m\u001B[0;34m.\u001B[0m\u001B[0msqueeze\u001B[0m\u001B[0;34m(\u001B[0m\u001B[0;34m)\u001B[0m\u001B[0;34m\u001B[0m\u001B[0;34m\u001B[0m\u001B[0m\n\u001B[1;32m     16\u001B[0m \u001B[0mf_var_test\u001B[0m \u001B[0;34m=\u001B[0m \u001B[0mf_var\u001B[0m\u001B[0;34m.\u001B[0m\u001B[0msqueeze\u001B[0m\u001B[0;34m(\u001B[0m\u001B[0;34m)\u001B[0m\u001B[0;34m\u001B[0m\u001B[0;34m\u001B[0m\u001B[0m\n",
      "\u001B[0;31mNameError\u001B[0m: name 'f_mean' is not defined"
     ]
    }
   ],
   "source": [
    "from lafomo.utilities.torch import smse, cia, q2\n",
    "\n",
    "tx = trainer.tx\n",
    "num_t = tx[0, :].unique().shape[0]\n",
    "num_x = tx[1, :].unique().shape[0]\n",
    "# f_mean = lfm(tx).mean.detach()\n",
    "# f_var = lfm(tx).variance.detach()\n",
    "y_target = trainer.y_target[0]\n",
    "ts = tx[0, :].unique().sort()[0].numpy()\n",
    "xs = tx[1, :].unique().sort()[0].numpy()\n",
    "t_diff = ts[-1] - ts[0]\n",
    "x_diff = xs[-1] - xs[0]\n",
    "extent = [ts[0], ts[-1], xs[0], xs[-1]]\n",
    "print(y_target.shape, f_mean.squeeze().shape)\n",
    "f_mean_test = f_mean.squeeze()\n",
    "f_var_test = f_var.squeeze()\n",
    "\n",
    "print(q2(y_target, f_mean.squeeze()))\n",
    "print(cia(y_target, f_mean_test, f_var_test).item())\n",
    "print(smse(y_target, f_mean_test).mean().item())"
   ],
   "metadata": {
    "collapsed": false,
    "pycharm": {
     "name": "#%%\n"
    }
   }
  },
  {
   "cell_type": "code",
   "execution_count": 32,
   "outputs": [
    {
     "data": {
      "text/plain": "<Figure size 576x288 with 3 Axes>",
      "image/png": "[encoded data removed]"
     },
     "metadata": {},
     "output_type": "display_data"
    }
   ],
   "source": [
    "plotter = Plotter(lfm, np.arange(1))\n",
    "\n",
    "labels = ['Sensitivity', 'Decay', 'Diffusion']\n",
    "kinetics = list()\n",
    "for key in lfm.fenics_named_parameters.keys():\n",
    "    kinetics.append(softplus(trainer.parameter_trace[key][-1]).squeeze().numpy())\n",
    "\n",
    "plotter.plot_double_bar(kinetics, labels)\n",
    "\n",
    "# plotter.plot_latents()"
   ],
   "metadata": {
    "collapsed": false,
    "pycharm": {
     "name": "#%%\n"
    }
   }
  },
  {
   "cell_type": "code",
   "execution_count": null,
   "outputs": [],
   "source": [],
   "metadata": {
    "collapsed": false,
    "pycharm": {
     "name": "#%%\n"
    }
   }
  }
 ],
 "metadata": {
  "kernelspec": {
   "name": "python3",
   "language": "python",
   "display_name": "Python 3"
  },
  "language_info": {
   "codemirror_mode": {
    "name": "ipython",
    "version": 2
   },
   "file_extension": ".py",
   "mimetype": "text/x-python",
   "name": "python",
   "nbconvert_exporter": "python",
   "pygments_lexer": "ipython2",
   "version": "2.7.6"
  }
 },
 "nbformat": 4,
 "nbformat_minor": 0
}