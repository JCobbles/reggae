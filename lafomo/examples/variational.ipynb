{
 "cells": [
  {
   "cell_type": "code",
   "execution_count": null,
   "outputs": [],
   "source": [
    "import torch\n",
    "\n",
    "from lafomo.data_loaders.datasets import P53Data\n",
    "from lafomo.variational.models import SingleLinearLFM\n",
    "from lafomo.variational.trainer import P53ConstrainedTrainer\n",
    "from lafomo.options import VariationalOptions\n",
    "from lafomo.utilities import save, load\n",
    "from lafomo.plot.variational_plotters import Plotter\n",
    "\n",
    "from matplotlib import pyplot as plt\n"
   ],
   "metadata": {
    "collapsed": false,
    "pycharm": {
     "name": "#%%\n"
    }
   }
  },
  {
   "cell_type": "code",
   "execution_count": null,
   "outputs": [],
   "source": [
    "dataset = P53Data(replicate=0)\n",
    "num_genes = 5\n",
    "num_tfs = 1\n",
    "num_replicates = 1\n",
    "num_times = 7\n",
    "\n",
    "m_observed = torch.stack([\n",
    "    dataset[i][1] for i in range(num_genes*num_replicates)\n",
    "]).view(num_replicates, num_genes, num_times)\n",
    "\n",
    "t_inducing = torch.linspace(0, 12, 7, dtype=torch.float64).reshape((-1, 1))\n",
    "t_observed = torch.linspace(0, 12, 7).view(-1)\n",
    "t_predict = torch.linspace(-1, 13, 80, dtype=torch.float64)\n",
    "\n",
    "\n",
    "plt.figure(figsize=(4, 2))\n",
    "plt.plot(dataset[0][1])\n",
    "plt.plot(m_observed[0, 0])"
   ],
   "metadata": {
    "collapsed": false,
    "pycharm": {
     "name": "#%%\n"
    }
   }
  },
  {
   "cell_type": "code",
   "execution_count": null,
   "outputs": [],
   "source": [
    "options = VariationalOptions(\n",
    "    preprocessing_variance=dataset.variance,\n",
    "    learn_inducing=False,\n",
    "    num_samples=50,\n",
    "    kernel_scale=False\n",
    ")\n",
    "\n",
    "model = SingleLinearLFM(num_genes, num_tfs, t_inducing, dataset, options)\n",
    "optimizer = torch.optim.Adam(model.parameters(), lr=0.05)\n",
    "trainer = P53ConstrainedTrainer(model, optimizer, dataset)\n",
    "plotter = Plotter(model, dataset.gene_names)"
   ],
   "metadata": {
    "collapsed": false,
    "pycharm": {
     "name": "#%%\n"
    }
   }
  },
  {
   "cell_type": "markdown",
   "source": [
    "### Outputs prior to training:"
   ],
   "metadata": {
    "collapsed": false
   }
  },
  {
   "cell_type": "code",
   "execution_count": null,
   "outputs": [],
   "source": [
    "rtol = 1e-3\n",
    "atol = rtol/10\n",
    "\n",
    "model_kwargs = {\n",
    "    'rtol': rtol, 'atol': atol\n",
    "}\n",
    "\n",
    "plotter.plot_kinetics()\n",
    "plotter.plot_outputs(t_predict, replicate=0, t_scatter=t_observed,y_scatter=m_observed, model_kwargs=model_kwargs)\n",
    "plotter.plot_latents(t_predict, ylim=(-1, 3), plot_barenco=True, plot_inducing=False)"
   ],
   "metadata": {
    "collapsed": false,
    "pycharm": {
     "name": "#%%\n"
    }
   }
  },
  {
   "cell_type": "code",
   "execution_count": null,
   "outputs": [],
   "source": [
    "tol = 5e-3\n",
    "import time\n",
    "start = time.time()\n",
    "\n",
    "output = trainer.train(50, rtol=tol, atol=tol/10,\n",
    "                       report_interval=5, plot_interval=None)\n",
    "end = time.time()\n",
    "print(end - start)"
   ],
   "metadata": {
    "collapsed": false,
    "pycharm": {
     "name": "#%%\n"
    }
   }
  },
  {
   "cell_type": "markdown",
   "source": [
    "### Outputs after training"
   ],
   "metadata": {
    "collapsed": false,
    "pycharm": {
     "name": "#%% md\n"
    }
   }
  },
  {
   "cell_type": "code",
   "execution_count": null,
   "outputs": [],
   "source": [
    "S = torch.tril(torch.stack(trainer.cholS).squeeze())\n",
    "S = torch.matmul(S, S.transpose(1, 2))\n",
    "plt.imshow(S[140])"
   ],
   "metadata": {
    "collapsed": false,
    "pycharm": {
     "name": "#%%\n"
    }
   }
  },
  {
   "cell_type": "code",
   "execution_count": null,
   "outputs": [],
   "source": [
    "plotter.plot_losses(trainer, last_x=100)\n",
    "plotter.plot_outputs(t_predict, replicate=0, ylim=(0, 3), t_scatter=t_observed,y_scatter=m_observed, model_kwargs=model_kwargs)\n",
    "plotter.plot_latents(t_predict, ylim=(-2, 4), plot_barenco=True, plot_inducing=False)\n",
    "plotter.plot_kinetics()\n",
    "plotter.plot_convergence(trainer)"
   ],
   "metadata": {
    "collapsed": false,
    "pycharm": {
     "name": "#%%\n"
    }
   }
  },
  {
   "cell_type": "code",
   "execution_count": null,
   "outputs": [],
   "source": [
    "save(model, 'variational_linear')"
   ],
   "metadata": {
    "collapsed": false,
    "pycharm": {
     "name": "#%%\n"
    }
   }
  },
  {
   "cell_type": "code",
   "execution_count": null,
   "outputs": [],
   "source": [
    "do_load = False\n",
    "if do_load:\n",
    "    model = load('variational_linear', SingleLinearLFM, num_genes, num_tfs,\n",
    "                 t_inducing, dataset, extra_points=2, fixed_variance=dataset.variance)\n",
    "\n",
    "    optimizer = torch.optim.Adam(model.parameters(), lr=0.1)\n",
    "    trainer = P53ConstrainedTrainer(model, optimizer, dataset)\n",
    "print(do_load)"
   ],
   "metadata": {
    "collapsed": false,
    "pycharm": {
     "name": "#%%\n"
    }
   }
  },
  {
   "cell_type": "code",
   "execution_count": null,
   "outputs": [],
   "source": [
    "\n",
    "\n"
   ],
   "metadata": {
    "collapsed": false,
    "pycharm": {
     "name": "#%%\n"
    }
   }
  }
 ],
 "metadata": {
  "kernelspec": {
   "name": "pycharm-222640c7",
   "language": "python",
   "display_name": "PyCharm (reggae)"
  },
  "language_info": {
   "codemirror_mode": {
    "name": "ipython",
    "version": 2
   },
   "file_extension": ".py",
   "mimetype": "text/x-python",
   "name": "python",
   "nbconvert_exporter": "python",
   "pygments_lexer": "ipython2",
   "version": "2.7.6"
  }
 },
 "nbformat": 4,
 "nbformat_minor": 0
}