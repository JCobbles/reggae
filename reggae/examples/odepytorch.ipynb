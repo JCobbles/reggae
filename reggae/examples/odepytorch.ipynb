{
 "cells": [
  {
   "cell_type": "code",
   "execution_count": 1,
   "metadata": {
    "collapsed": true
   },
   "outputs": [],
   "source": [
    "import torch\n",
    "from torch import nn\n",
    "from torch.nn import functional as F\n",
    "from torchdiffeq import odeint\n",
    "from torch.nn.parameter import Parameter\n",
    "from torch.distributions.multivariate_normal import MultivariateNormal\n",
    "from torch.distributions.normal import Normal\n",
    "\n",
    "import gpytorch\n",
    "\n",
    "from reggae.data_loaders import load_barenco_puma, DataHolder\n",
    "\n",
    "from matplotlib import pyplot as plt\n",
    "\n",
    "import numpy as np\n",
    "\n",
    "f64 = np.float64"
   ]
  },
  {
   "cell_type": "code",
   "execution_count": 2,
   "outputs": [
    {
     "name": "stdout",
     "output_type": "stream",
     "text": [
      "torch.Size([3, 5, 7])\n",
      "tensor([[0.0000],\n",
      "        [0.1667],\n",
      "        [0.3333],\n",
      "        [0.5000],\n",
      "        [0.6667],\n",
      "        [0.8333],\n",
      "        [1.0000]], dtype=torch.float64)\n"
     ]
    },
    {
     "data": {
      "text/plain": "[<matplotlib.lines.Line2D at 0x7fd2f883f350>]"
     },
     "execution_count": 2,
     "metadata": {},
     "output_type": "execute_result"
    },
    {
     "data": {
      "text/plain": "<Figure size 432x288 with 1 Axes>",
      "image/png": "[encoded data removed]"
     },
     "metadata": {
      "needs_background": "light"
     },
     "output_type": "display_data"
    }
   ],
   "source": [
    "m_observed, f_observed, σ2_m_pre, σ2_f_pre, t = load_barenco_puma('../data/')\n",
    "\n",
    "m_df, m_observed = m_observed\n",
    "f_df, f_observed = f_observed\n",
    "# Shape of m_observed = (replicates, genes, times)\n",
    "m_observed = torch.tensor(m_observed)\n",
    "f_observed = torch.tensor(f_observed)\n",
    "data = (m_observed, f_observed)\n",
    "\n",
    "σ2_m_pre = f64(σ2_m_pre)\n",
    "σ2_f_pre = f64(σ2_f_pre)\n",
    "noise_data = (σ2_m_pre, σ2_f_pre)\n",
    "\n",
    "print(m_observed.shape)\n",
    "\n",
    "num_genes = m_observed.shape[1]\n",
    "num_tfs = f_observed.shape[1]\n",
    "N_m = m_observed.shape[2]\n",
    "granularity = 100\n",
    "t_start = f64(0)\n",
    "t_end = f64(1)\n",
    "t = torch.linspace(t_start, t_end, granularity, dtype=torch.float64).view((-1, 1))\n",
    "t_inducing = torch.linspace(t_start, t_end, 7, dtype=torch.float64).reshape((-1, 1))\n",
    "print(t_inducing)\n",
    "plt.plot(m_observed[0,0])"
   ],
   "metadata": {
    "collapsed": false,
    "pycharm": {
     "name": "#%%\n"
    }
   }
  },
  {
   "cell_type": "code",
   "execution_count": 17,
   "outputs": [],
   "source": [
    "def positivity_transform(value):\n",
    "    return torch.log(1+torch.exp(value))\n",
    "\n",
    "def plot_genes():\n",
    "    initial_value = torch.zeros((num_genes, 1), dtype=torch.float64) #, dtype=torch.float64\n",
    "    outputs, _ = model(t.view(-1), initial_value)\n",
    "    outputs = torch.squeeze(outputs)\n",
    "    print(outputs.shape)\n",
    "    plt.figure(figsize=(5, 8))\n",
    "    for i in range(num_genes):\n",
    "        plt.subplot(511+i)\n",
    "        plt.plot(t, torch.squeeze(outputs[0]).detach())\n",
    "        plt.scatter(t_inducing, m_observed[0][i])\n",
    "\n",
    "def plot_tfs():\n",
    "    plt.figure(figsize=(5, 3))\n",
    "    t_predict = torch.linspace(0, 1, 80)\n",
    "    tfs = model.get_tfs(t_predict)\n",
    "    print(tfs.shape)\n",
    "    plt.plot(t_predict, tfs[0].detach())\n",
    "    plt.title('Latent')"
   ],
   "metadata": {
    "collapsed": false,
    "pycharm": {
     "name": "#%%\n"
    }
   }
  },
  {
   "cell_type": "code",
   "execution_count": 8,
   "outputs": [],
   "source": [
    "# class GP(gpytorch.models.ExactGP):\n",
    "#     def __init__(self, train_x, train_y, num_tfs):\n",
    "#         likelihood = gpytorch.likelihoods.MultitaskGaussianLikelihood(num_tasks=num_tfs)\n",
    "#         super(GP, self).__init__(train_x, train_y, likelihood)\n",
    "#         self.mean_module = gpytorch.means.ConstantMean(batch_shape=torch.Size([num_tfs]))\n",
    "#         rbf = gpytorch.kernels.RBFKernel(eps=0.15, batch_shape=torch.Size([num_tfs])) # eps is min lengthscale\n",
    "#         rbf.lengthscale = f64(0.2)\n",
    "#         self.covar_module = gpytorch.kernels.ScaleKernel(rbf, batch_shape=torch.Size([num_tfs]))\n",
    "#\n",
    "#\n",
    "#     def forward(self, x):\n",
    "#         mean_x = self.mean_module(x)\n",
    "#         covar_x = self.covar_module(x)\n",
    "#         return gpytorch.distributions.MultitaskMultivariateNormal.from_batch_mvn(\n",
    "#             gpytorch.distributions.MultivariateNormal(mean_x, covar_x)\n",
    "#         )\n",
    "\n",
    "\n",
    "class ODEModel(nn.Module):\n",
    "    \"\"\"\n",
    "    Description blah\n",
    "    Parameters\n",
    "    ----------\n",
    "    num_genes : int\n",
    "    Number of genes.\n",
    "    num_tfs : int\n",
    "\n",
    "    t_inducing : int\n",
    "    inducing timepoints.\n",
    "    \"\"\"\n",
    "    def __init__(self, num_genes, num_tfs, t_inducing):\n",
    "        super(ODEModel, self).__init__()\n",
    "        self.num_genes = num_genes\n",
    "        self.num_tfs = num_tfs\n",
    "        self.num_inducing = t_inducing.shape[0]\n",
    "        self.inducing_inputs = t_inducing\n",
    "\n",
    "        self.decay_rate = Parameter(1*torch.ones((self.num_genes, 1), dtype=torch.float64))\n",
    "        self.basal_rate = Parameter(0.2*torch.ones((self.num_genes, 1), dtype=torch.float64))\n",
    "        self.sensitivity = Parameter(2*torch.ones((self.num_genes, 1), dtype=torch.float64))\n",
    "        self.w = Parameter(torch.ones((self.num_genes, self.num_tfs), dtype=torch.float64))\n",
    "        self.w_0 = Parameter(torch.ones((self.num_tfs), dtype=torch.float64))\n",
    "        q_m = torch.rand((self.num_tfs, self.num_inducing, 1), dtype=torch.float64) * 10 - 5\n",
    "        q_K = torch.eye(self.num_inducing, dtype=torch.float64).view(1, self.num_inducing, self.num_inducing)\n",
    "        q_K = q_K.repeat(self.num_tfs, 1, 1)\n",
    "        q_cholK = torch.cholesky(q_K)\n",
    "        self.q_m = Parameter(q_m)\n",
    "        self.q_cholS = Parameter(q_cholK) # hoping that this remains\n",
    "        self.inducing_targets = torch.randn(self.num_tfs, self.num_inducing, dtype=torch.float64) #This is not used\n",
    "        # self.gp = GP(self.inducing_inputs.view(-1), self.inducing_targets, self.num_tfs)\n",
    "        self.nfe = 0\n",
    "        self.l2 = Parameter(0.2*torch.ones((num_tfs), dtype=torch.float64))\n",
    "        self.v = Parameter(1 * torch.ones((num_tfs), dtype=torch.float64))\n",
    "\n",
    "    def rbf(self, x: torch.Tensor, x2: torch.Tensor=None):\n",
    "        \"\"\"\n",
    "        Radial basis function kernel.\n",
    "        @param x:\n",
    "        @param x2: if None, then x2 becomes x\n",
    "        @return: K of shape (I, |x|, |x2|)\n",
    "        \"\"\"\n",
    "        if x2 is None:\n",
    "            x2 = x\n",
    "        x = x.view(-1)\n",
    "        x2 = x2.view(-1)\n",
    "        sq_dist = torch.square(x.view(-1, 1)-x2)\n",
    "        sq_dist = sq_dist.repeat(self.num_tfs, 1, 1)\n",
    "        sq_dist = torch.div(sq_dist, 2*self.l2.view((-1, 1, 1)))\n",
    "\n",
    "        K =  self.v.view(-1, 1, 1) * torch.exp(-sq_dist)\n",
    "        return K\n",
    "\n",
    "\n",
    "    def forward(self, t, h, rtol=1e-4, atol=1e-6):\n",
    "        \"\"\"\n",
    "        t : torch.Tensor\n",
    "            Shape (num_times)\n",
    "        h : torch.Tensor the initial state of the ODE\n",
    "            Shape (num_genes, 1)\n",
    "        Returns\n",
    "        -------\n",
    "        Returns evolved h across times t.\n",
    "        Shape (num_genes, num_points).\n",
    "        \"\"\"\n",
    "        self.nfe = 0\n",
    "        num_times = t.size()\n",
    "\n",
    "        # 1: Likelihood step: Sample from variational distribution\n",
    "        self.Kmm = self.rbf(self.inducing_inputs)\n",
    "        # TODO: make inverse more efficient (we calculate cholesky below anyway)\n",
    "        self.inv_Kmm = torch.inverse(self.Kmm)\n",
    "\n",
    "\n",
    "        # Integrate forward from the batch of initial positions z.\n",
    "        h = odeint(self.odefunc, h, t, method='dopri5', rtol=rtol, atol=atol) # shape (num_genes, num_times, 1\n",
    "\n",
    "        # 2: KL term:\n",
    "        # q = MultivariateNormal(self.q_m, self.q_cholS)\n",
    "        # above: make cholesky\n",
    "        KL = -0.5 * self.num_tfs * self.num_inducing # CHECK\n",
    "        # log of determinant of S. Uses that sqrt(det(X)) = det(X^(1/2)) and\n",
    "        # that the determinant of a upper triangular matrix (which q_sqrt is),\n",
    "        # is the product of the diagonal entries (i.e. sum of their logarithm).\n",
    "        S_diag = torch.diagonal(self.q_cholS, dim1=1, dim2=2)\n",
    "        logdetS = torch.sum(torch.log(S_diag ** 2))\n",
    "        # log of determinant of Kuu. Uses that determinant of triangular\n",
    "        # matrix is product of diagonal entries and that 0.5*|Kuu| =\n",
    "        # 0.5*|LL^T| = |L|.\n",
    "        L = torch.cholesky(self.Kmm)\n",
    "        logdetK = torch.sum(torch.log(torch.diagonal(L, dim1=1, dim2=2)))\n",
    "\n",
    "        # now the trace term:\n",
    "        trKS = torch.matmul(self.inv_Kmm, self.q_cholS**2)\n",
    "        trKS = torch.sum(torch.diagonal(trKS, dim1=1, dim2=2))\n",
    "\n",
    "        # computes m^T Kuu^(-1) m, which is scalar or rather has shape\n",
    "        # [num_latent]. cholesky_solve expects the Cholesky decomposition\n",
    "        # of the left side (i.e. as first argument), therefore Lu is used\n",
    "        # instead of Kuu.\n",
    "        Kinv_m = torch.cholesky_solve(self.q_m, L, upper=False)\n",
    "        # print('mm',torch.matmul(self.Kmm, Kinv_m), self.q_m)\n",
    "        # print(self.q_m.shape, Kinv_m.shape)\n",
    "        m_Kinv_m = torch.sum(torch.matmul(torch.transpose(self.q_m, 1, 2), Kinv_m))\n",
    "        #CHECK logdetK * self.num_nodes\n",
    "        KL += 0.5 * (logdetK - logdetS + trKS + m_Kinv_m)\n",
    "        # print(logdetK, logdetS, trKS, m_Kinv_m)\n",
    "\n",
    "        return torch.transpose(h, 0, 1), KL\n",
    "\n",
    "\n",
    "    def odefunc(self, t, h):\n",
    "        self.nfe += 1\n",
    "        # if (self.nfe % 100) == 0:\n",
    "        #     print(t)\n",
    "        # h is of shape (num_genes, 1)\n",
    "        decay = torch.multiply(self.decay_rate.view(-1), h.view(-1)).view(-1, 1)\n",
    "\n",
    "        p = self.get_tfs(t)\n",
    "        Gp = self.G(p)\n",
    "        # print(Gp.shape)\n",
    "        # print(self.basal_rate, Gp, decay)\n",
    "\n",
    "        return self.basal_rate + self.sensitivity * Gp - decay\n",
    "\n",
    "    def get_tfs(self, t):\n",
    "        Ksm = self.rbf(t, self.inducing_inputs) # (I, T*, T)\n",
    "        α = Ksm.matmul(self.inv_Kmm) # (I, T*, T)\n",
    "        m_s = torch.matmul(α, self.q_m) # (I, T*, T*)\n",
    "        Kss = self.rbf(t) # (I, T*, T*)\n",
    "        # I think Kss is always 1: rbf with one timepoint is = e^0\n",
    "        S = self.q_cholS ** 2\n",
    "        S_Kmm = S - self.Kmm # (I, T, T)\n",
    "        AS_KA = torch.matmul(torch.matmul(α, S_Kmm), torch.transpose(α, 1, 2)) # (I, T*, T*)\n",
    "        S_s = (Kss + AS_KA) # (I, T*, T*)\n",
    "        q_f = Normal(torch.squeeze(m_s), torch.squeeze(S_s))\n",
    "        f = q_f.rsample() # TODO: multiple samples\n",
    "        # does gradient propagate properly?\n",
    "        return f\n",
    "    # def get_tfs(self, at):\n",
    "    #     self.gp.set_train_data(self.inducing_sources, self.inducing_targets)\n",
    "    #     f_mvn = self.gp(self.inducing_sources) #\n",
    "    #\n",
    "    #     self.gp.eval() # activate posterior mode (calls to gp() will be posterior predictive)\n",
    "    #\n",
    "    #     # print(at.shape, self.inducing_targets.shape)\n",
    "    #     inputs = torch.cat([self.inducing_targets, at.view(-1)])\n",
    "    #     # f_mvn = self.gp(at.view(-1))\n",
    "    #     f_mvn = self.gp(inputs)\n",
    "    #     # print(f_mvn.mean.shape)\n",
    "    #\n",
    "    #     self.gp.train()\n",
    "    #\n",
    "    #     return torch.unsqueeze(f_mvn.mean[-1], 0) #TODO support multi tfs, in which case the 0 dim is num_tfs\n",
    "\n",
    "    def G(self, p): #TODO\n",
    "        return torch.sum(p, dim=0)\n",
    "        # p_pos = positivity_transform(p)\n",
    "        # interactions = torch.matmul(self.w, torch.log(p_pos+1e-50)) + self.w_0 #(TODO)\n",
    "        # return torch.sigmoid(interactions) # TF Activation Function (sigmoid)\n",
    "        # return p\n",
    "\n",
    "    # def latent(self, t):\n",
    "    #     self.gp.eval()\n",
    "    #     f_mvn = self.gp(t)\n",
    "    #     return positivity_transform(f_mvn.mean)\n",
    "\n",
    "    def train(self, mode=True):\n",
    "        # self.gp.train(mode)\n",
    "        # self.gp.likelihood.train(mode)\n",
    "        super().train(mode)"
   ],
   "metadata": {
    "collapsed": false,
    "pycharm": {
     "name": "#%%\n"
    }
   }
  },
  {
   "cell_type": "code",
   "execution_count": 41,
   "outputs": [],
   "source": [
    "def train(optimizer, loss_fn, epochs=20, rtol=1e-5, atol=1e-6):\n",
    "    basalrates = list()\n",
    "    decayrates = list()\n",
    "    lengthscales = list()\n",
    "    losses = list()\n",
    "    plt.figure()\n",
    "    plt.plot(t_inducing, m_observed[0,0], label='real')\n",
    "\n",
    "    for epoch in range(epochs):\n",
    "        optimizer.zero_grad()\n",
    "        # Output from model\n",
    "        initial_value = torch.zeros((num_genes, 1), dtype=torch.float64) #, dtype=torch.float64\n",
    "        output, kl = model(t_inducing.view(-1), initial_value, rtol=rtol, atol=atol)\n",
    "        output = torch.squeeze(output)\n",
    "\n",
    "        # Calc loss and backprop gradients\n",
    "        loss = loss_fn(output, m_observed[0])\n",
    "        total_loss = loss + kl\n",
    "\n",
    "        total_loss.backward()\n",
    "        print('Epoch %d/%d - Loss: %.3f %.3f b: %.2f d %.2f λ: %.7f' % (\n",
    "            epoch + 1, epochs, loss.item(),\n",
    "            kl.item(),\n",
    "            model.basal_rate[0].item(),\n",
    "            model.decay_rate[0].item(),\n",
    "            model.l2.squeeze().item()\n",
    "        ))\n",
    "        optimizer.step()\n",
    "\n",
    "        basalrates.append(model.basal_rate.detach().numpy())\n",
    "        decayrates.append(model.decay_rate.detach().numpy())\n",
    "        lengthscales.append(model.l2.squeeze().item())\n",
    "        losses.append((loss.item(), kl.item()))\n",
    "        with torch.no_grad():\n",
    "            model.l2.clamp_(0.1, 0.5)\n",
    "            model.sensitivity.clamp_(0, 8)\n",
    "            model.basal_rate.clamp_(0, 8)\n",
    "            model.decay_rate.clamp_(0, 8)\n",
    "\n",
    "        if (epoch % 5) ==0:\n",
    "            plt.plot(t_inducing, output[0].detach().numpy(), label='epoch'+str(epoch))\n",
    "\n",
    "    plt.legend()\n",
    "    return output, (losses, basalrates, decayrates, lengthscales)"
   ],
   "metadata": {
    "collapsed": false,
    "pycharm": {
     "name": "#%%\n"
    }
   }
  },
  {
   "cell_type": "code",
   "execution_count": 48,
   "outputs": [
    {
     "data": {
      "text/plain": "tensor([[[1.0000, 0.9329, 0.7575, 0.5353, 0.3292, 0.1762, 0.0821],\n         [0.9329, 1.0000, 0.9329, 0.7575, 0.5353, 0.3292, 0.1762],\n         [0.7575, 0.9329, 1.0000, 0.9329, 0.7575, 0.5353, 0.3292],\n         [0.5353, 0.7575, 0.9329, 1.0000, 0.9329, 0.7575, 0.5353],\n         [0.3292, 0.5353, 0.7575, 0.9329, 1.0000, 0.9329, 0.7575],\n         [0.1762, 0.3292, 0.5353, 0.7575, 0.9329, 1.0000, 0.9329],\n         [0.0821, 0.1762, 0.3292, 0.5353, 0.7575, 0.9329, 1.0000]]],\n       dtype=torch.float64, grad_fn=<MulBackward0>)"
     },
     "execution_count": 48,
     "metadata": {},
     "output_type": "execute_result"
    }
   ],
   "source": [
    "model = ODEModel(num_genes, num_tfs, t_inducing)\n",
    "optimizer = torch.optim.Adam(model.parameters(), lr=0.1)\n",
    "loss_fn = torch.nn.MSELoss(reduction='sum')\n",
    "losses = np.empty((0, 2))\n",
    "model.rbf(model.inducing_inputs)\n",
    "# list(model.parameters())"
   ],
   "metadata": {
    "collapsed": false,
    "pycharm": {
     "name": "#%%\n"
    }
   }
  },
  {
   "cell_type": "markdown",
   "source": [
    "### Outputs prior to training:"
   ],
   "metadata": {
    "collapsed": false,
    "pycharm": {
     "name": "#%% md\n"
    }
   }
  },
  {
   "cell_type": "code",
   "execution_count": null,
   "outputs": [],
   "source": [
    "plot_genes()\n",
    "plot_tfs()"
   ],
   "metadata": {
    "collapsed": false,
    "pycharm": {
     "name": "#%%\n",
     "is_executing": true
    }
   }
  },
  {
   "cell_type": "code",
   "execution_count": null,
   "outputs": [],
   "source": [
    "output, params = train(optimizer, loss_fn, 50, rtol=1e-5, atol=1e-6)\n",
    "new_losses, _,_,_ = params\n",
    "new_losses = np.array(new_losses)\n",
    "losses = np.concatenate([losses, new_losses], axis=0)"
   ],
   "metadata": {
    "collapsed": false,
    "pycharm": {
     "name": "#%%\n",
     "is_executing": true
    }
   }
  },
  {
   "cell_type": "markdown",
   "source": [
    "### Outputs after training"
   ],
   "metadata": {
    "collapsed": false,
    "pycharm": {
     "name": "#%% md\n"
    }
   }
  },
  {
   "cell_type": "code",
   "execution_count": 38,
   "outputs": [
    {
     "name": "stdout",
     "output_type": "stream",
     "text": [
      "(324, 2)\n",
      "torch.Size([5, 100])\n",
      "torch.Size([80, 80])\n"
     ]
    },
    {
     "data": {
      "text/plain": "<Figure size 360x144 with 1 Axes>",
      "image/png": "[encoded data removed]"
     },
     "metadata": {
      "needs_background": "light"
     },
     "output_type": "display_data"
    },
    {
     "data": {
      "text/plain": "<Figure size 360x144 with 1 Axes>",
      "image/png": "[encoded data removed]"
     },
     "metadata": {
      "needs_background": "light"
     },
     "output_type": "display_data"
    },
    {
     "data": {
      "text/plain": "<Figure size 360x576 with 5 Axes>",
      "image/png": "[encoded data removed]"
     },
     "metadata": {
      "needs_background": "light"
     },
     "output_type": "display_data"
    },
    {
     "data": {
      "text/plain": "<Figure size 360x216 with 1 Axes>",
      "image/png": "[encoded data removed]"
     },
     "metadata": {
      "needs_background": "light"
     },
     "output_type": "display_data"
    }
   ],
   "source": [
    "print(losses.shape)\n",
    "plt.figure(figsize=(5, 2))\n",
    "plt.plot(losses[50:, 0])\n",
    "plt.title('Loss')\n",
    "plt.figure(figsize=(5, 2))\n",
    "plt.plot(losses[50:, 1])\n",
    "plt.title('KL-divergence')\n",
    "\n",
    "plot_genes()\n",
    "plot_tfs()"
   ],
   "metadata": {
    "collapsed": false,
    "pycharm": {
     "name": "#%%\n"
    }
   }
  },
  {
   "cell_type": "code",
   "execution_count": 39,
   "outputs": [
    {
     "name": "stdout",
     "output_type": "stream",
     "text": [
      "(50,)\n",
      "Parameter containing:\n",
      "tensor([[3.0514],\n",
      "        [1.9328],\n",
      "        [2.3411],\n",
      "        [0.8497],\n",
      "        [2.6980]], dtype=torch.float64, requires_grad=True)\n"
     ]
    },
    {
     "data": {
      "text/plain": "<Figure size 360x432 with 3 Axes>",
      "image/png": "[encoded data removed]"
     },
     "metadata": {
      "needs_background": "light"
     },
     "output_type": "display_data"
    }
   ],
   "source": [
    "plt.figure(figsize=(5, 6))\n",
    "_, basal, decay, lengthscale = params\n",
    "basals = np.array(basal)\n",
    "decays = np.array(decay)\n",
    "lengthscales = np.array(lengthscale)\n",
    "print(lengthscales.shape)\n",
    "plt.subplot(311)\n",
    "# print(basals[:,0])\n",
    "plt.plot(basals[:,0])\n",
    "# plt.ylim(1, 1.5)\n",
    "plt.subplot(312)\n",
    "plt.plot(decays[:,0])\n",
    "# plt.ylim(0.5, 1)\n",
    "plt.subplot(313)\n",
    "plt.plot(lengthscales)\n",
    "# plt.ylim(1, 1.2)\n",
    "\n",
    "print(model.basal_rate)\n"
   ],
   "metadata": {
    "collapsed": false,
    "pycharm": {
     "name": "#%%\n"
    }
   }
  },
  {
   "cell_type": "code",
   "execution_count": 40,
   "outputs": [
    {
     "data": {
      "text/plain": "Parameter containing:\ntensor([[-3.1375],\n        [-3.1689],\n        [-2.9132],\n        [-2.5274],\n        [-3.1247]], dtype=torch.float64, requires_grad=True)"
     },
     "execution_count": 40,
     "metadata": {},
     "output_type": "execute_result"
    }
   ],
   "source": [
    "model.sensitivity\n",
    "# model.gp.covar_module.outputscale"
   ],
   "metadata": {
    "collapsed": false,
    "pycharm": {
     "name": "#%%\n"
    }
   }
  },
  {
   "cell_type": "code",
   "execution_count": null,
   "outputs": [],
   "source": [
    "\n",
    "\n"
   ],
   "metadata": {
    "collapsed": false,
    "pycharm": {
     "name": "#%%\n",
     "is_executing": true
    }
   }
  }
 ],
 "metadata": {
  "kernelspec": {
   "display_name": "Python 3",
   "language": "python",
   "name": "python3"
  },
  "language_info": {
   "codemirror_mode": {
    "name": "ipython",
    "version": 2
   },
   "file_extension": ".py",
   "mimetype": "text/x-python",
   "name": "python",
   "nbconvert_exporter": "python",
   "pygments_lexer": "ipython2",
   "version": "2.7.6"
  }
 },
 "nbformat": 4,
 "nbformat_minor": 0
}