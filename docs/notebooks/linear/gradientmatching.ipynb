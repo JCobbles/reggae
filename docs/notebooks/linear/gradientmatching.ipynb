{
 "cells": [
  {
   "cell_type": "markdown",
   "source": [
    "## Variational Inference\n",
    "\n",
    "The dataset required is small and is available preprocessed here:\n",
    "\n",
    "- https://drive.google.com/drive/folders/1Tg_3SlKbdv0pDog6k2ys0J79e1-vgRyd?usp=sharing"
   ],
   "metadata": {
    "collapsed": false
   }
  },
  {
   "cell_type": "code",
   "execution_count": 3,
   "outputs": [],
   "source": [
    "import torch\n",
    "import numpy as np\n",
    "from gpytorch.optim import NGD\n",
    "from torch.optim import Adam\n",
    "from torch.nn import Parameter\n",
    "from matplotlib import pyplot as plt\n",
    "from os import path\n",
    "\n",
    "from lafomo.datasets import P53Data\n",
    "from lafomo.configuration import VariationalConfiguration\n",
    "from lafomo.models import OrdinaryLFM, VariationalLFM, generate_multioutput_rbf_gp\n",
    "from lafomo.plot import Plotter\n",
    "from lafomo.trainers import VariationalTrainer\n",
    "from lafomo.utilities.data import p53_ground_truth\n",
    "from lafomo.utilities.torch import is_cuda"
   ],
   "metadata": {
    "collapsed": false,
    "pycharm": {
     "name": "#%%\n"
    }
   }
  },
  {
   "cell_type": "markdown",
   "source": [
    "Let's start by importing our dataset..."
   ],
   "metadata": {
    "collapsed": false
   }
  },
  {
   "cell_type": "code",
   "execution_count": 4,
   "outputs": [
    {
     "data": {
      "text/plain": "<Figure size 288x144 with 1 Axes>",
      "image/png": "[encoded data removed]"
     },
     "metadata": {},
     "output_type": "display_data"
    }
   ],
   "source": [
    "dataset = P53Data(replicate=0, data_dir='../../../data')\n",
    "num_genes = 5\n",
    "num_tfs = 1\n",
    "\n",
    "plt.figure(figsize=(4, 2))\n",
    "for i in range(5):\n",
    "    plt.plot(dataset[i][1])"
   ],
   "metadata": {
    "collapsed": false,
    "pycharm": {
     "name": "#%%\n"
    }
   }
  },
  {
   "cell_type": "markdown",
   "source": [
    "Differential equation here: ....\n",
    "\n",
    "Since this is an ordinary differential equation (ODE), we inherit from the `OrdinaryLFM` class."
   ],
   "metadata": {
    "collapsed": false
   }
  },
  {
   "cell_type": "code",
   "execution_count": 5,
   "outputs": [],
   "source": [
    "from abc import abstractmethod\n",
    "import gpytorch\n",
    "\n",
    "class GradientMatchingLFM(VariationalLFM):\n",
    "    \"\"\"\n",
    "    Variational approximation for an LFM based on an ordinary differential equation (ODE).\n",
    "    Inheriting classes must override the `odefunc` function which encodes the ODE.\n",
    "    \"\"\"\n",
    "\n",
    "    def __init__(self, num_outputs, gp_model, config: VariationalConfiguration, **kwargs):\n",
    "        super().__init__(num_outputs, gp_model, config, **kwargs)\n",
    "        self.nfe = 0\n",
    "        self.f = None\n",
    "\n",
    "    def initial_state(self):\n",
    "        initial_state = torch.zeros(torch.Size([self.num_outputs, 1]), dtype=torch.float64)\n",
    "        initial_state = initial_state.cuda() if is_cuda() else initial_state\n",
    "        return initial_state #initial_state.repeat(self.config.num_samples, 1, 1)  # Add batch dimension for sampling\n",
    "        # if self.config.initial_conditions: TODO:\n",
    "        #     h = self.initial_conditions.repeat(h.shape[0], 1, 1)\n",
    "\n",
    "    def forward(self, t, step_size=1e-1, return_samples=False):\n",
    "        \"\"\"\n",
    "        t : torch.Tensor\n",
    "            Shape (num_times)\n",
    "        h : torch.Tensor the initial state of the ODE\n",
    "            Shape (num_genes, 1)\n",
    "        Returns\n",
    "        -------\n",
    "        Returns evolved h across times t.\n",
    "        Shape (num_genes, num_points).\n",
    "        \"\"\"\n",
    "        self.nfe = 0\n",
    "\n",
    "        # Get GP outputs\n",
    "        # t_f = torch.arange(t.min(), t.max()+step_size/3, step_size/3)\n",
    "        t_f = t\n",
    "        q_f = self.gp_model(t_f)\n",
    "\n",
    "        h0 = self.initial_state()\n",
    "        h0 = h0.unsqueeze(0).repeat(self.config.num_samples, 1, 1)\n",
    "        self.f = q_f.rsample(torch.Size([self.config.num_samples])).permute(0, 2, 1)  # (S, I, T)\n",
    "        self.f = self.G(self.f)\n",
    "\n",
    "\n",
    "        # h_samples = odeint(self.odefunc, h0, t, method='rk4', options=dict(step_size=step_size)) # (T, S, num_outputs, 1)\n",
    "        h_samples = self.odefunc(t_f, h0)\n",
    "\n",
    "        self.f = None\n",
    "        # self.t_index = None\n",
    "        # self.last_t = None\n",
    "        if return_samples:\n",
    "            return h_samples\n",
    "\n",
    "        h_mean = torch.mean(h_samples, dim=0).squeeze(-1) # shape was (#outputs, #T, 1) .permute(1, 0, 2)\n",
    "        h_var = torch.var(h_samples, dim=0).squeeze(-1) + 1e-7\n",
    "        h_mean = self.decode(h_mean)\n",
    "        # TODO: make distribution something less constraining\n",
    "        h_covar = torch.diag_embed(h_var)\n",
    "        batch_mvn = gpytorch.distributions.MultivariateNormal(h_mean, h_covar)\n",
    "        return gpytorch.distributions.MultitaskMultivariateNormal.from_batch_mvn(batch_mvn, task_dim=0)\n",
    "\n",
    "    def decode(self, h_out):\n",
    "        return h_out\n",
    "\n",
    "    @abstractmethod\n",
    "    def odefunc(self, t, h):\n",
    "        \"\"\"\n",
    "        Parameters:\n",
    "            h: shape (num_samples, num_outputs, 1)\n",
    "        \"\"\"\n",
    "        pass\n",
    "\n",
    "    def G(self, f):\n",
    "        return f.repeat(1, self.num_outputs, 1)  # (S, I, t)\n",
    "\n",
    "class TranscriptionLFM(GradientMatchingLFM):\n",
    "    def __init__(self, num_outputs, gp_model, config: VariationalConfiguration, **kwargs):\n",
    "        super().__init__(num_outputs, gp_model, config, **kwargs)\n",
    "        self.decay_rate = Parameter(0.1 + torch.rand(torch.Size([self.num_outputs, 1]), dtype=torch.float64))\n",
    "        self.basal_rate = Parameter(torch.rand(torch.Size([self.num_outputs, 1]), dtype=torch.float64))\n",
    "        self.sensitivity = Parameter(0.2 + torch.rand(torch.Size([self.num_outputs, 1]), dtype=torch.float64))\n",
    "\n",
    "    def initial_state(self):\n",
    "        return self.basal_rate / self.decay_rate\n",
    "\n",
    "    def odefunc(self, t, h):\n",
    "        \"\"\"h is of shape (num_samples, num_outputs, 1)\"\"\"\n",
    "        self.nfe += 1\n",
    "        # if (self.nfe % 100) == 0:\n",
    "        #     print(t)\n",
    "\n",
    "        decay = self.decay_rate * h\n",
    "        # print(h.shape, t.shape, self.f.shape)\n",
    "        dh = self.basal_rate + self.sensitivity * self.f - decay\n",
    "\n",
    "        return dh\n"
   ],
   "metadata": {
    "collapsed": false,
    "pycharm": {
     "name": "#%%\n"
    }
   }
  },
  {
   "cell_type": "code",
   "execution_count": 6,
   "outputs": [
    {
     "name": "stderr",
     "output_type": "stream",
     "text": [
      "/Users/jacob/Documents/proj/reggae/lafomo/models/variational_lfm.py:51: UserWarning: To copy construct from a tensor, it is recommended to use sourceTensor.clone().detach() or sourceTensor.clone().detach().requires_grad_(True), rather than torch.tensor(sourceTensor).\n",
      "  self.initial_conditions = Parameter(torch.tensor(torch.zeros(self.num_outputs, 1)), requires_grad=True)\n"
     ]
    }
   ],
   "source": [
    "config = VariationalConfiguration(\n",
    "    preprocessing_variance=dataset.variance,\n",
    "    num_samples=80,\n",
    ")\n",
    "\n",
    "num_inducing = 12  # (I x m x 1)\n",
    "inducing_points = torch.linspace(0, 12, num_inducing).repeat(num_tfs, 1).view(num_tfs, num_inducing, 1)\n",
    "t_predict = torch.linspace(0, 13, 80, dtype=torch.float32)\n",
    "step_size = 1e-1\n",
    "num_training = dataset.m_observed.shape[-1]\n",
    "\n",
    "gp_model = generate_multioutput_rbf_gp(num_tfs, inducing_points)\n",
    "\n",
    "lfm = TranscriptionLFM(num_genes, gp_model, config, num_training_points=num_training)\n",
    "\n",
    "plotter = Plotter(lfm, dataset.gene_names, style='seaborn')\n",
    "\n",
    "class P53ConstrainedTrainer(VariationalTrainer):\n",
    "    def after_epoch(self):\n",
    "        super().after_epoch()\n",
    "        # self.cholS.append(self.lfm.q_cholS.detach().clone())\n",
    "        # self.mus.append(self.lfm.q_m.detach().clone())\n",
    "        with torch.no_grad():\n",
    "            # TODO can we replace these with parameter transforms like we did with lengthscale\n",
    "            # self.lfm.sensitivity.clamp_(0, 20)\n",
    "            self.lfm.basal_rate.clamp_(0, 20)\n",
    "            self.lfm.decay_rate.clamp_(0, 20)\n",
    "            self.lfm.sensitivity[3] = np.float64(1.)\n",
    "            self.lfm.decay_rate[3] = np.float64(0.8)\n",
    "\n",
    "track_parameters = [\n",
    "    'basal_rate',\n",
    "    'decay_rate',\n",
    "    'sensitivity',\n",
    "    'gp_model.covar_module.raw_lengthscale',\n",
    "]\n",
    "use_natural = False\n",
    "if use_natural:\n",
    "    variational_optimizer = NGD(lfm.variational_parameters(), num_data=num_training, lr=0.1)\n",
    "    parameter_optimizer = Adam(lfm.nonvariational_parameters(), lr=0.03)\n",
    "    optimizers = [variational_optimizer, parameter_optimizer]\n",
    "else:\n",
    "    optimizers = [Adam(lfm.parameters(), lr=0.05)]\n",
    "trainer = P53ConstrainedTrainer(lfm, optimizers, dataset, track_parameters=track_parameters)"
   ],
   "metadata": {
    "collapsed": false,
    "pycharm": {
     "name": "#%%\n"
    }
   }
  },
  {
   "cell_type": "code",
   "execution_count": 7,
   "outputs": [
    {
     "name": "stdout",
     "output_type": "stream",
     "text": [
      "(5, 97)\n"
     ]
    },
    {
     "data": {
      "text/plain": "<Figure size 432x144 with 2 Axes>",
      "image/png": "[encoded data removed]"
     },
     "metadata": {},
     "output_type": "display_data"
    }
   ],
   "source": [
    "from scipy.interpolate import interp1d\n",
    "data = next(iter(trainer.data_loader))\n",
    "t = data[0][0]\n",
    "y = data[1][0]\n",
    "def calc(N, d):\n",
    "    return (N - 1) * (d + 1) + 1\n",
    "t_interpolate = torch.linspace(min(t), max(t), calc(13, 7))\n",
    "\n",
    "y_interpolate = interp1d(data[0][0], data[1], axis=1, kind='cubic')\n",
    "y_interpolate = y_interpolate(t_interpolate)\n",
    "denom = t[1] - t[0]\n",
    "y_grad = np.gradient(y_interpolate, denom, axis=1)\n",
    "\n",
    "fig, axes = plt.subplots(ncols=2, figsize=(6, 2))\n",
    "for i in range(5):\n",
    "    axes[0].plot(t_interpolate, y_interpolate[i])\n",
    "    axes[1].plot(t_interpolate, y_grad[i])\n",
    "plt.tight_layout()\n",
    "print(y_grad.shape)"
   ],
   "metadata": {
    "collapsed": false,
    "pycharm": {
     "name": "#%% # FIRST WE PRETRAIN ON THE INTERPOLATED DERVIATIVE\n"
    }
   }
  },
  {
   "cell_type": "code",
   "execution_count": 40,
   "outputs": [
    {
     "name": "stdout",
     "output_type": "stream",
     "text": [
      "0 loss -5.824160843526239 2.6300127506256104\n",
      "10 loss -6.370044673230499 2.5826966762542725\n",
      "20 loss -6.1052455952889595 2.5759270191192627\n",
      "30 loss -3.0384824705496154 2.7007124423980713\n",
      "40 loss -4.972351202686605 2.7331249713897705\n"
     ]
    }
   ],
   "source": [
    "x, y = next(iter(trainer.data_loader))\n",
    "x = x[0]\n",
    "y_grad_target = torch.tensor([y_grad[:, i*7+i] for i in range(13)])\n",
    "y_grad_target = y_grad_target[::2]\n",
    "t_grad = torch.tensor([t_interpolate[i*7+i] for i in range(13)])\n",
    "t_grad = t_grad[::2]\n",
    "\n",
    "lfm.train()\n",
    "# Pretrain\n",
    "def single_epoch(epoch=0):\n",
    "    optimizers[0].zero_grad()\n",
    "\n",
    "    grads = lfm(x)\n",
    "    log_likelihood, kl_divergence, _ = lfm.loss_fn(grads, y_grad_target)\n",
    "    loss = - (log_likelihood - kl_divergence)\n",
    "\n",
    "    if (i % 10) == 0:\n",
    "        print(i, 'loss', loss.item(), lfm.gp_model.covar_module.lengthscale.item())\n",
    "    loss.backward()\n",
    "    optimizers[0].step()\n",
    "    # print('lenghscale', lfm.gp_model.covar_module.lengthscale)\n",
    "    # print(lfm.basal_rate, lfm.decay_rate, lfm.sensitivity)\n",
    "    with torch.no_grad():\n",
    "        # TODO can we replace these with parameter transforms like we did with lengthscale\n",
    "        lfm.sensitivity.clamp_(0, 20)\n",
    "        lfm.basal_rate.clamp_(0, 20)\n",
    "        lfm.decay_rate.clamp_(0, 20)\n",
    "        lfm.sensitivity[3] = np.float64(1.)\n",
    "        lfm.decay_rate[3] = np.float64(0.8)\n",
    "\n",
    "for i in range(50):\n",
    "    single_epoch(i)"
   ],
   "metadata": {
    "collapsed": false,
    "pycharm": {
     "name": "#%%\n"
    }
   }
  },
  {
   "cell_type": "code",
   "execution_count": 41,
   "outputs": [
    {
     "name": "stdout",
     "output_type": "stream",
     "text": [
      "tensor([ 0.,  2.,  4.,  6.,  8., 10., 12.])\n",
      "shape torch.Size([80, 5])\n"
     ]
    },
    {
     "data": {
      "text/plain": "(-0.3, 0.2)"
     },
     "execution_count": 41,
     "metadata": {},
     "output_type": "execute_result"
    },
    {
     "data": {
      "text/plain": "<Figure size 576x396 with 1 Axes>",
      "image/png": "[encoded data removed]"
     },
     "metadata": {},
     "output_type": "display_data"
    }
   ],
   "source": [
    "print(x)\n",
    "lfm.eval()\n",
    "grads = lfm(t_predict)\n",
    "print('shape', grads.mean.detach().shape)\n",
    "for i in range(1):\n",
    "    plt.plot(t_predict, grads.mean.detach()[:, i], color='black')#.cumsum(dim=1))\n",
    "    # plt.plot(t_predict, grads.mean.detach().cumsum(dim=0)[:, i])\n",
    "\n",
    "plt.plot(t_grad, y_grad_target[:, 0], color='blue')\n",
    "plt.ylim(-0.3, 0.2)"
   ],
   "metadata": {
    "collapsed": false,
    "pycharm": {
     "name": "#%%\n"
    }
   }
  },
  {
   "cell_type": "code",
   "execution_count": 121,
   "outputs": [],
   "source": [
    "class GPModelWithDerivatives(gpytorch.models.ExactGP):\n",
    "    def __init__(self, train_input, train_target, likelihood):\n",
    "        super(GPModelWithDerivatives, self).__init__(train_input, train_target, likelihood)\n",
    "        self.mean_module = gpytorch.means.ConstantMeanGrad()\n",
    "        self.base_kernel = gpytorch.kernels.RBFKernelGrad()\n",
    "        self.base_kernel.lengthscale = 2.\n",
    "        self.covar_module = gpytorch.kernels.ScaleKernel(self.base_kernel)\n",
    "\n",
    "    def forward(self, x):\n",
    "        mean_x = self.mean_module(x)\n",
    "        covar_x = self.covar_module(x)\n",
    "        return gpytorch.distributions.MultitaskMultivariateNormal(mean_x, covar_x)\n",
    "\n",
    "train_input = data[0][0].view(-1, 1)\n",
    "temp_train_target = torch.stack([\n",
    "    data[1][0],\n",
    "    torch.zeros_like(data[1][0]) # TODO [0] is for first time series\n",
    "], -1)\n",
    "\n",
    "likelihood = gpytorch.likelihoods.MultitaskGaussianLikelihood(num_tasks=2)  # Value + Derivative\n",
    "approximating_gp = GPModelWithDerivatives(train_input, temp_train_target, likelihood)\n",
    "approximating_gp.double()\n",
    "approximating_gp.train()\n",
    "likelihood.train()"
   ],
   "metadata": {
    "collapsed": false,
    "pycharm": {
     "name": "#%%\n"
    }
   }
  },
  {
   "cell_type": "code",
   "execution_count": 145,
   "outputs": [],
   "source": [
    "# Use the adam optimizer\n",
    "optimizer = torch.optim.Adam([\n",
    "    {'params': [\n",
    "        *approximating_gp.parameters(),\n",
    "        *lfm.parameters()\n",
    "    ]},\n",
    "], lr=0.05)\n",
    "\n",
    "# \"Loss\" for GPs - the marginal log likelihood\n",
    "mll = gpytorch.mlls.ExactMarginalLogLikelihood(likelihood, approximating_gp)"
   ],
   "metadata": {
    "collapsed": false,
    "pycharm": {
     "name": "#%%\n"
    }
   }
  },
  {
   "cell_type": "code",
   "execution_count": 146,
   "outputs": [
    {
     "name": "stdout",
     "output_type": "stream",
     "text": [
      "torch.Size([7, 2]) torch.Size([7, 2])\n",
      "Epoch 0 - Loss: -2.634   lengthscale: 1.335   noise: 0.000\n",
      "torch.Size([7, 2]) torch.Size([7, 2])\n",
      "Epoch 1 - Loss: -4.104   lengthscale: 1.372   noise: 0.000\n",
      "torch.Size([7, 2]) torch.Size([7, 2])\n",
      "Epoch 2 - Loss: -4.086   lengthscale: 1.400   noise: 0.000\n",
      "torch.Size([7, 2]) torch.Size([7, 2])\n",
      "Epoch 3 - Loss: -3.740   lengthscale: 1.433   noise: 0.000\n",
      "torch.Size([7, 2]) torch.Size([7, 2])\n",
      "Epoch 4 - Loss: -3.945   lengthscale: 1.466   noise: 0.000\n",
      "torch.Size([7, 2]) torch.Size([7, 2])\n",
      "Epoch 5 - Loss: -4.378   lengthscale: 1.501   noise: 0.000\n",
      "torch.Size([7, 2]) torch.Size([7, 2])\n",
      "Epoch 6 - Loss: -4.708   lengthscale: 1.538   noise: 0.000\n",
      "torch.Size([7, 2]) torch.Size([7, 2])\n",
      "Epoch 7 - Loss: -4.764   lengthscale: 1.575   noise: 0.000\n",
      "torch.Size([7, 2]) torch.Size([7, 2])\n",
      "Epoch 8 - Loss: -4.672   lengthscale: 1.614   noise: 0.000\n",
      "torch.Size([7, 2]) torch.Size([7, 2])\n",
      "Epoch 9 - Loss: -4.699   lengthscale: 1.653   noise: 0.000\n",
      "torch.Size([7, 2]) torch.Size([7, 2])\n",
      "Epoch 10 - Loss: -4.905   lengthscale: 1.692   noise: 0.000\n",
      "torch.Size([7, 2]) torch.Size([7, 2])\n",
      "Epoch 11 - Loss: -5.175   lengthscale: 1.732   noise: 0.000\n",
      "torch.Size([7, 2]) torch.Size([7, 2])\n",
      "Epoch 12 - Loss: -5.341   lengthscale: 1.773   noise: 0.000\n",
      "torch.Size([7, 2]) torch.Size([7, 2])\n",
      "Epoch 13 - Loss: -5.360   lengthscale: 1.814   noise: 0.000\n",
      "torch.Size([7, 2]) torch.Size([7, 2])\n",
      "Epoch 14 - Loss: -5.338   lengthscale: 1.856   noise: 0.000\n",
      "torch.Size([7, 2]) torch.Size([7, 2])\n",
      "Epoch 15 - Loss: -5.433   lengthscale: 1.897   noise: 0.000\n",
      "torch.Size([7, 2]) torch.Size([7, 2])\n",
      "Epoch 16 - Loss: -5.614   lengthscale: 1.939   noise: 0.000\n",
      "torch.Size([7, 2]) torch.Size([7, 2])\n",
      "Epoch 17 - Loss: -5.779   lengthscale: 1.981   noise: 0.000\n",
      "torch.Size([7, 2]) torch.Size([7, 2])\n",
      "Epoch 18 - Loss: -5.826   lengthscale: 2.023   noise: 0.000\n",
      "torch.Size([7, 2]) torch.Size([7, 2])\n",
      "Epoch 19 - Loss: -5.819   lengthscale: 2.065   noise: 0.000\n",
      "torch.Size([7, 2]) torch.Size([7, 2])\n",
      "Epoch 20 - Loss: -5.863   lengthscale: 2.106   noise: 0.000\n",
      "torch.Size([7, 2]) torch.Size([7, 2])\n",
      "Epoch 21 - Loss: -6.002   lengthscale: 2.147   noise: 0.000\n",
      "torch.Size([7, 2]) torch.Size([7, 2])\n",
      "Epoch 22 - Loss: -6.118   lengthscale: 2.188   noise: 0.000\n",
      "torch.Size([7, 2]) torch.Size([7, 2])\n",
      "Epoch 23 - Loss: -6.135   lengthscale: 2.228   noise: 0.000\n",
      "torch.Size([7, 2]) torch.Size([7, 2])\n",
      "Epoch 24 - Loss: -6.124   lengthscale: 2.268   noise: 0.000\n",
      "torch.Size([7, 2]) torch.Size([7, 2])\n",
      "Epoch 25 - Loss: -6.198   lengthscale: 2.307   noise: 0.000\n",
      "torch.Size([7, 2]) torch.Size([7, 2])\n",
      "Epoch 26 - Loss: -6.302   lengthscale: 2.345   noise: 0.000\n",
      "torch.Size([7, 2]) torch.Size([7, 2])\n",
      "Epoch 27 - Loss: -6.339   lengthscale: 2.382   noise: 0.000\n",
      "torch.Size([7, 2]) torch.Size([7, 2])\n",
      "Epoch 28 - Loss: -6.328   lengthscale: 2.419   noise: 0.000\n",
      "torch.Size([7, 2]) torch.Size([7, 2])\n",
      "Epoch 29 - Loss: -6.358   lengthscale: 2.455   noise: 0.000\n",
      "torch.Size([7, 2]) torch.Size([7, 2])\n",
      "Epoch 30 - Loss: -6.438   lengthscale: 2.489   noise: 0.000\n",
      "torch.Size([7, 2]) torch.Size([7, 2])\n",
      "Epoch 31 - Loss: -6.476   lengthscale: 2.523   noise: 0.000\n",
      "torch.Size([7, 2]) torch.Size([7, 2])\n",
      "Epoch 32 - Loss: -6.466   lengthscale: 2.556   noise: 0.000\n",
      "torch.Size([7, 2]) torch.Size([7, 2])\n",
      "Epoch 33 - Loss: -6.490   lengthscale: 2.588   noise: 0.000\n",
      "torch.Size([7, 2]) torch.Size([7, 2])\n",
      "Epoch 34 - Loss: -6.545   lengthscale: 2.619   noise: 0.000\n",
      "torch.Size([7, 2]) torch.Size([7, 2])\n",
      "Epoch 35 - Loss: -6.570   lengthscale: 2.649   noise: 0.000\n",
      "torch.Size([7, 2]) torch.Size([7, 2])\n",
      "Epoch 36 - Loss: -6.564   lengthscale: 2.678   noise: 0.000\n",
      "torch.Size([7, 2]) torch.Size([7, 2])\n",
      "Epoch 37 - Loss: -6.584   lengthscale: 2.706   noise: 0.000\n",
      "torch.Size([7, 2]) torch.Size([7, 2])\n",
      "Epoch 38 - Loss: -6.626   lengthscale: 2.733   noise: 0.000\n",
      "torch.Size([7, 2]) torch.Size([7, 2])\n",
      "Epoch 39 - Loss: -6.639   lengthscale: 2.760   noise: 0.000\n",
      "torch.Size([7, 2]) torch.Size([7, 2])\n",
      "Epoch 40 - Loss: -6.636   lengthscale: 2.785   noise: 0.000\n",
      "torch.Size([7, 2]) torch.Size([7, 2])\n",
      "Epoch 41 - Loss: -6.658   lengthscale: 2.810   noise: 0.000\n",
      "torch.Size([7, 2]) torch.Size([7, 2])\n",
      "Epoch 42 - Loss: -6.685   lengthscale: 2.834   noise: 0.000\n",
      "torch.Size([7, 2]) torch.Size([7, 2])\n",
      "Epoch 43 - Loss: -6.688   lengthscale: 2.857   noise: 0.000\n",
      "torch.Size([7, 2]) torch.Size([7, 2])\n",
      "Epoch 44 - Loss: -6.692   lengthscale: 2.879   noise: 0.000\n",
      "torch.Size([7, 2]) torch.Size([7, 2])\n",
      "Epoch 45 - Loss: -6.713   lengthscale: 2.901   noise: 0.000\n",
      "torch.Size([7, 2]) torch.Size([7, 2])\n",
      "Epoch 46 - Loss: -6.728   lengthscale: 2.921   noise: 0.000\n",
      "torch.Size([7, 2]) torch.Size([7, 2])\n",
      "Epoch 47 - Loss: -6.726   lengthscale: 2.942   noise: 0.000\n",
      "torch.Size([7, 2]) torch.Size([7, 2])\n",
      "Epoch 48 - Loss: -6.738   lengthscale: 2.961   noise: 0.000\n",
      "torch.Size([7, 2]) torch.Size([7, 2])\n",
      "Epoch 49 - Loss: -6.754   lengthscale: 2.980   noise: 0.000\n",
      "torch.Size([7, 2]) torch.Size([7, 2])\n",
      "Epoch 50 - Loss: -6.755   lengthscale: 2.998   noise: 0.000\n",
      "torch.Size([7, 2]) torch.Size([7, 2])\n",
      "Epoch 51 - Loss: -6.761   lengthscale: 3.016   noise: 0.000\n",
      "torch.Size([7, 2]) torch.Size([7, 2])\n",
      "Epoch 52 - Loss: -6.775   lengthscale: 3.033   noise: 0.000\n",
      "torch.Size([7, 2]) torch.Size([7, 2])\n",
      "Epoch 53 - Loss: -6.779   lengthscale: 3.049   noise: 0.000\n",
      "torch.Size([7, 2]) torch.Size([7, 2])\n",
      "Epoch 54 - Loss: -6.782   lengthscale: 3.065   noise: 0.000\n",
      "torch.Size([7, 2]) torch.Size([7, 2])\n",
      "Epoch 55 - Loss: -6.791   lengthscale: 3.081   noise: 0.000\n",
      "torch.Size([7, 2]) torch.Size([7, 2])\n",
      "Epoch 56 - Loss: -6.798   lengthscale: 3.096   noise: 0.000\n",
      "torch.Size([7, 2]) torch.Size([7, 2])\n",
      "Epoch 57 - Loss: -6.799   lengthscale: 3.111   noise: 0.000\n",
      "torch.Size([7, 2]) torch.Size([7, 2])\n",
      "Epoch 58 - Loss: -6.807   lengthscale: 3.125   noise: 0.000\n",
      "torch.Size([7, 2]) torch.Size([7, 2])\n",
      "Epoch 59 - Loss: -6.813   lengthscale: 3.139   noise: 0.000\n",
      "torch.Size([7, 2]) torch.Size([7, 2])\n",
      "Epoch 60 - Loss: -6.814   lengthscale: 3.152   noise: 0.000\n",
      "torch.Size([7, 2]) torch.Size([7, 2])\n",
      "Epoch 61 - Loss: -6.820   lengthscale: 3.165   noise: 0.000\n",
      "torch.Size([7, 2]) torch.Size([7, 2])\n",
      "Epoch 62 - Loss: -6.826   lengthscale: 3.178   noise: 0.000\n",
      "torch.Size([7, 2]) torch.Size([7, 2])\n",
      "Epoch 63 - Loss: -6.828   lengthscale: 3.190   noise: 0.000\n",
      "torch.Size([7, 2]) torch.Size([7, 2])\n",
      "Epoch 64 - Loss: -6.832   lengthscale: 3.202   noise: 0.000\n",
      "torch.Size([7, 2]) torch.Size([7, 2])\n",
      "Epoch 65 - Loss: -6.837   lengthscale: 3.214   noise: 0.000\n",
      "torch.Size([7, 2]) torch.Size([7, 2])\n",
      "Epoch 66 - Loss: -6.839   lengthscale: 3.225   noise: 0.000\n",
      "torch.Size([7, 2]) torch.Size([7, 2])\n",
      "Epoch 67 - Loss: -6.842   lengthscale: 3.236   noise: 0.000\n",
      "torch.Size([7, 2]) torch.Size([7, 2])\n",
      "Epoch 68 - Loss: -6.846   lengthscale: 3.247   noise: 0.000\n",
      "torch.Size([7, 2]) torch.Size([7, 2])\n",
      "Epoch 69 - Loss: -6.848   lengthscale: 3.258   noise: 0.000\n",
      "torch.Size([7, 2]) torch.Size([7, 2])\n",
      "Epoch 70 - Loss: -6.851   lengthscale: 3.268   noise: 0.000\n",
      "torch.Size([7, 2]) torch.Size([7, 2])\n",
      "Epoch 71 - Loss: -6.855   lengthscale: 3.278   noise: 0.000\n",
      "torch.Size([7, 2]) torch.Size([7, 2])\n",
      "Epoch 72 - Loss: -6.857   lengthscale: 3.288   noise: 0.000\n",
      "torch.Size([7, 2]) torch.Size([7, 2])\n",
      "Epoch 73 - Loss: -6.860   lengthscale: 3.298   noise: 0.000\n",
      "torch.Size([7, 2]) torch.Size([7, 2])\n",
      "Epoch 74 - Loss: -6.862   lengthscale: 3.308   noise: 0.000\n",
      "torch.Size([7, 2]) torch.Size([7, 2])\n",
      "Epoch 75 - Loss: -6.864   lengthscale: 3.317   noise: 0.000\n",
      "torch.Size([7, 2]) torch.Size([7, 2])\n",
      "Epoch 76 - Loss: -6.867   lengthscale: 3.326   noise: 0.000\n",
      "torch.Size([7, 2]) torch.Size([7, 2])\n",
      "Epoch 77 - Loss: -6.869   lengthscale: 3.335   noise: 0.000\n",
      "torch.Size([7, 2]) torch.Size([7, 2])\n",
      "Epoch 78 - Loss: -6.871   lengthscale: 3.344   noise: 0.000\n",
      "torch.Size([7, 2]) torch.Size([7, 2])\n",
      "Epoch 79 - Loss: -6.873   lengthscale: 3.352   noise: 0.000\n",
      "torch.Size([7, 2]) torch.Size([7, 2])\n",
      "Epoch 80 - Loss: -6.875   lengthscale: 3.361   noise: 0.000\n",
      "torch.Size([7, 2]) torch.Size([7, 2])\n",
      "Epoch 81 - Loss: -6.877   lengthscale: 3.369   noise: 0.000\n",
      "torch.Size([7, 2]) torch.Size([7, 2])\n",
      "Epoch 82 - Loss: -6.879   lengthscale: 3.377   noise: 0.000\n",
      "torch.Size([7, 2]) torch.Size([7, 2])\n",
      "Epoch 83 - Loss: -6.881   lengthscale: 3.386   noise: 0.000\n",
      "torch.Size([7, 2]) torch.Size([7, 2])\n",
      "Epoch 84 - Loss: -6.883   lengthscale: 3.393   noise: 0.000\n",
      "torch.Size([7, 2]) torch.Size([7, 2])\n",
      "Epoch 85 - Loss: -6.885   lengthscale: 3.401   noise: 0.000\n",
      "torch.Size([7, 2]) torch.Size([7, 2])\n",
      "Epoch 86 - Loss: -6.886   lengthscale: 3.409   noise: 0.000\n",
      "torch.Size([7, 2]) torch.Size([7, 2])\n",
      "Epoch 87 - Loss: -6.888   lengthscale: 3.416   noise: 0.000\n",
      "torch.Size([7, 2]) torch.Size([7, 2])\n",
      "Epoch 88 - Loss: -6.889   lengthscale: 3.424   noise: 0.000\n",
      "torch.Size([7, 2]) torch.Size([7, 2])\n",
      "Epoch 89 - Loss: -6.891   lengthscale: 3.431   noise: 0.000\n",
      "torch.Size([7, 2]) torch.Size([7, 2])\n",
      "Epoch 90 - Loss: -6.892   lengthscale: 3.438   noise: 0.000\n",
      "torch.Size([7, 2]) torch.Size([7, 2])\n",
      "Epoch 91 - Loss: -6.894   lengthscale: 3.446   noise: 0.000\n",
      "torch.Size([7, 2]) torch.Size([7, 2])\n",
      "Epoch 92 - Loss: -6.895   lengthscale: 3.453   noise: 0.000\n",
      "torch.Size([7, 2]) torch.Size([7, 2])\n",
      "Epoch 93 - Loss: -6.897   lengthscale: 3.460   noise: 0.000\n",
      "torch.Size([7, 2]) torch.Size([7, 2])\n",
      "Epoch 94 - Loss: -6.898   lengthscale: 3.466   noise: 0.000\n",
      "torch.Size([7, 2]) torch.Size([7, 2])\n",
      "Epoch 95 - Loss: -6.899   lengthscale: 3.473   noise: 0.000\n",
      "torch.Size([7, 2]) torch.Size([7, 2])\n",
      "Epoch 96 - Loss: -6.901   lengthscale: 3.480   noise: 0.000\n",
      "torch.Size([7, 2]) torch.Size([7, 2])\n",
      "Epoch 97 - Loss: -6.902   lengthscale: 3.486   noise: 0.000\n",
      "torch.Size([7, 2]) torch.Size([7, 2])\n",
      "Epoch 98 - Loss: -6.903   lengthscale: 3.493   noise: 0.000\n",
      "torch.Size([7, 2]) torch.Size([7, 2])\n",
      "Epoch 99 - Loss: -6.904   lengthscale: 3.499   noise: 0.000\n"
     ]
    }
   ],
   "source": [
    "approximating_gp.train()\n",
    "lfm.train()\n",
    "likelihood.train()\n",
    "\n",
    "# with torch.no_grad():\n",
    "#     approximating_gp.covar_module.base_kernel.lengthscale = 2.\n",
    "def single_epoch(epoch=0):\n",
    "    optimizer.zero_grad()\n",
    "\n",
    "    # get gradients at all t\n",
    "    grads = lfm(x)\n",
    "    # plt.plot(grads.mean.detach().cumsum(dim=1).permute(1, 0))\n",
    "    # plt.plot(grads.mean.detach())\n",
    "    # get approximating GP at all t\n",
    "    y_target = torch.stack([\n",
    "            y[0], # values\n",
    "            grads.mean[:, 0]  # grads TODO [0] is for first time series\n",
    "    ], -1)\n",
    "    approximating_gp.set_train_data(\n",
    "        targets=y_target, strict=False\n",
    "    )\n",
    "    out = approximating_gp(approximating_gp.train_inputs[0])\n",
    "    # plt.plot(out.mean[:, 0].detach())\n",
    "    print(out.mean.shape, y_target.shape)\n",
    "    # take loss and step\n",
    "    loss = -mll(out, y_target)\n",
    "\n",
    "    loss.backward()\n",
    "    print('Epoch %d - Loss: %.3f   lengthscale: %.3f   noise: %.3f' % (\n",
    "        epoch, loss.item(),\n",
    "        approximating_gp.covar_module.base_kernel.lengthscale.item(),\n",
    "        approximating_gp.likelihood.noise.item()\n",
    "    ))\n",
    "    # print(lfm.basal_rate.view(-1))\n",
    "    # print(lfm.decay_rate.view(-1))\n",
    "    # print(lfm.sensitivity.view(-1))\n",
    "    optimizer.step()\n",
    "\n",
    "for i in range(100):\n",
    "    single_epoch(i)"
   ],
   "metadata": {
    "collapsed": false,
    "pycharm": {
     "name": "#%%\n"
    }
   }
  },
  {
   "cell_type": "code",
   "execution_count": 147,
   "outputs": [
    {
     "name": "stdout",
     "output_type": "stream",
     "text": [
      "tensor([0.8734, 0.3011, 0.3979, 0.1621, 0.7643], dtype=torch.float64,\n",
      "       grad_fn=<ViewBackward>)\n",
      "tensor([0.3840, 0.2197, 0.8913, 0.8000, 0.5992], dtype=torch.float64,\n",
      "       grad_fn=<ViewBackward>)\n",
      "tensor([-1.4326e-04,  6.4682e-02,  9.0406e-02,  1.0000e+00,  9.5463e-02],\n",
      "       dtype=torch.float64, grad_fn=<ViewBackward>)\n"
     ]
    }
   ],
   "source": [
    "print(lfm.basal_rate.view(-1))\n",
    "print(lfm.decay_rate.view(-1))\n",
    "print(lfm.sensitivity.view(-1))\n",
    "# with torch.no_grad():\n",
    "#     lfm.sensitivity += 0.3"
   ],
   "metadata": {
    "collapsed": false,
    "pycharm": {
     "name": "#%%\n"
    }
   }
  },
  {
   "cell_type": "code",
   "execution_count": 148,
   "outputs": [
    {
     "name": "stdout",
     "output_type": "stream",
     "text": [
      "tensor(8.1197e-05, dtype=torch.float64)\n"
     ]
    },
    {
     "data": {
      "text/plain": "<matplotlib.legend.Legend at 0x7fde32618a90>"
     },
     "execution_count": 148,
     "metadata": {},
     "output_type": "execute_result"
    },
    {
     "data": {
      "text/plain": "<Figure size 576x288 with 2 Axes>",
      "image/png": "[encoded data removed]"
     },
     "metadata": {},
     "output_type": "display_data"
    }
   ],
   "source": [
    "approximating_gp.eval()\n",
    "lfm.eval()\n",
    "grads = lfm(x)\n",
    "mean_pred = approximating_gp(t_predict.double()).mean.detach()\n",
    "\n",
    "print(mean_pred[:, 1].max())\n",
    "fig, axes = plt.subplots(ncols=2, figsize=(8, 4))\n",
    "\n",
    "axes[0].plot(t_predict, mean_pred[:, 0])\n",
    "axes[0].scatter(dataset.t_observed, y[0])\n",
    "axes[1].plot(t_predict, mean_pred[:, 1], label='approx pred')\n",
    "axes[1].plot(t_interpolate, y_grad[0], label='empirical grad')\n",
    "axes[1].plot(dataset.t_observed, grads.mean[:, 0].detach(), label='lfm pred')\n",
    "axes[1].legend()"
   ],
   "metadata": {
    "collapsed": false,
    "pycharm": {
     "name": "#%%\n"
    }
   }
  },
  {
   "cell_type": "markdown",
   "source": [
    "### Outputs prior to training:"
   ],
   "metadata": {
    "collapsed": false
   }
  },
  {
   "cell_type": "code",
   "execution_count": 22,
   "outputs": [
    {
     "name": "stdout",
     "output_type": "stream",
     "text": [
      "torch.Size([80, 5, 1]) torch.Size([80]) torch.Size([80, 5, 80])\n",
      "torch.Size([80, 5, 80])\n",
      "samp torch.Size([80, 5, 80])\n",
      "torch.Size([80, 5, 5])\n"
     ]
    },
    {
     "ename": "ValueError",
     "evalue": "x and y must have same first dimension, but have shapes torch.Size([80]) and torch.Size([5])",
     "output_type": "error",
     "traceback": [
      "\u001B[0;31m---------------------------------------------------------------------------\u001B[0m",
      "\u001B[0;31mValueError\u001B[0m                                Traceback (most recent call last)",
      "\u001B[0;32m<ipython-input-22-1490ca48d386>\u001B[0m in \u001B[0;36m<module>\u001B[0;34m\u001B[0m\n\u001B[1;32m     10\u001B[0m plotter.plot_gp(q_m, t_predict, replicate=0,\n\u001B[1;32m     11\u001B[0m                 \u001B[0mt_scatter\u001B[0m\u001B[0;34m=\u001B[0m\u001B[0mdataset\u001B[0m\u001B[0;34m.\u001B[0m\u001B[0mt_observed\u001B[0m\u001B[0;34m,\u001B[0m\u001B[0;34m\u001B[0m\u001B[0;34m\u001B[0m\u001B[0m\n\u001B[0;32m---> 12\u001B[0;31m                 y_scatter=dataset.m_observed, num_samples=0)\n\u001B[0m\u001B[1;32m     13\u001B[0m \u001B[0mplotter\u001B[0m\u001B[0;34m.\u001B[0m\u001B[0mplot_gp\u001B[0m\u001B[0;34m(\u001B[0m\u001B[0mq_f\u001B[0m\u001B[0;34m,\u001B[0m \u001B[0mt_predict\u001B[0m\u001B[0;34m,\u001B[0m \u001B[0mylim\u001B[0m\u001B[0;34m=\u001B[0m\u001B[0;34m(\u001B[0m\u001B[0;34m-\u001B[0m\u001B[0;36m1\u001B[0m\u001B[0;34m,\u001B[0m \u001B[0;36m3\u001B[0m\u001B[0;34m)\u001B[0m\u001B[0;34m)\u001B[0m\u001B[0;34m\u001B[0m\u001B[0;34m\u001B[0m\u001B[0m\n\u001B[1;32m     14\u001B[0m \u001B[0mplt\u001B[0m\u001B[0;34m.\u001B[0m\u001B[0mtitle\u001B[0m\u001B[0;34m(\u001B[0m\u001B[0;34m'Latent'\u001B[0m\u001B[0;34m)\u001B[0m\u001B[0;34m\u001B[0m\u001B[0;34m\u001B[0m\u001B[0m\n",
      "\u001B[0;32m~/Documents/proj/reggae/lafomo/plot/plotter.py\u001B[0m in \u001B[0;36mplot_gp\u001B[0;34m(self, gp, t_predict, t_scatter, y_scatter, num_samples, transform, ylim, titles, max_plots, replicate, ax, plot_inducing, color, shade_color)\u001B[0m\n\u001B[1;32m     66\u001B[0m             \u001B[0;32mif\u001B[0m \u001B[0mtitles\u001B[0m \u001B[0;32mis\u001B[0m \u001B[0;32mnot\u001B[0m \u001B[0;32mNone\u001B[0m\u001B[0;34m:\u001B[0m\u001B[0;34m\u001B[0m\u001B[0;34m\u001B[0m\u001B[0m\n\u001B[1;32m     67\u001B[0m                 \u001B[0max\u001B[0m\u001B[0;34m.\u001B[0m\u001B[0mset_title\u001B[0m\u001B[0;34m(\u001B[0m\u001B[0mtitles\u001B[0m\u001B[0;34m[\u001B[0m\u001B[0mi\u001B[0m\u001B[0;34m]\u001B[0m\u001B[0;34m)\u001B[0m\u001B[0;34m\u001B[0m\u001B[0;34m\u001B[0m\u001B[0m\n\u001B[0;32m---> 68\u001B[0;31m             \u001B[0max\u001B[0m\u001B[0;34m.\u001B[0m\u001B[0mplot\u001B[0m\u001B[0;34m(\u001B[0m\u001B[0mt_predict\u001B[0m\u001B[0;34m,\u001B[0m \u001B[0mmean\u001B[0m\u001B[0;34m[\u001B[0m\u001B[0mreplicate\u001B[0m\u001B[0;34m,\u001B[0m \u001B[0mi\u001B[0m\u001B[0;34m]\u001B[0m\u001B[0;34m.\u001B[0m\u001B[0mdetach\u001B[0m\u001B[0;34m(\u001B[0m\u001B[0;34m)\u001B[0m\u001B[0;34m,\u001B[0m \u001B[0mcolor\u001B[0m\u001B[0;34m=\u001B[0m\u001B[0mcolor\u001B[0m\u001B[0;34m)\u001B[0m\u001B[0;34m\u001B[0m\u001B[0;34m\u001B[0m\u001B[0m\n\u001B[0m\u001B[1;32m     69\u001B[0m             ax.fill_between(t_predict,\n\u001B[1;32m     70\u001B[0m                              \u001B[0mmean\u001B[0m\u001B[0;34m[\u001B[0m\u001B[0mreplicate\u001B[0m\u001B[0;34m,\u001B[0m \u001B[0mi\u001B[0m\u001B[0;34m]\u001B[0m \u001B[0;34m+\u001B[0m \u001B[0;36m2\u001B[0m\u001B[0;34m*\u001B[0m\u001B[0mstd\u001B[0m\u001B[0;34m[\u001B[0m\u001B[0mreplicate\u001B[0m\u001B[0;34m,\u001B[0m \u001B[0mi\u001B[0m\u001B[0;34m]\u001B[0m\u001B[0;34m,\u001B[0m\u001B[0;34m\u001B[0m\u001B[0;34m\u001B[0m\u001B[0m\n",
      "\u001B[0;32m~/miniconda3/envs/wishart/lib/python3.7/site-packages/matplotlib/axes/_axes.py\u001B[0m in \u001B[0;36mplot\u001B[0;34m(self, scalex, scaley, data, *args, **kwargs)\u001B[0m\n\u001B[1;32m   1741\u001B[0m         \"\"\"\n\u001B[1;32m   1742\u001B[0m         \u001B[0mkwargs\u001B[0m \u001B[0;34m=\u001B[0m \u001B[0mcbook\u001B[0m\u001B[0;34m.\u001B[0m\u001B[0mnormalize_kwargs\u001B[0m\u001B[0;34m(\u001B[0m\u001B[0mkwargs\u001B[0m\u001B[0;34m,\u001B[0m \u001B[0mmlines\u001B[0m\u001B[0;34m.\u001B[0m\u001B[0mLine2D\u001B[0m\u001B[0;34m)\u001B[0m\u001B[0;34m\u001B[0m\u001B[0;34m\u001B[0m\u001B[0m\n\u001B[0;32m-> 1743\u001B[0;31m         \u001B[0mlines\u001B[0m \u001B[0;34m=\u001B[0m \u001B[0;34m[\u001B[0m\u001B[0;34m*\u001B[0m\u001B[0mself\u001B[0m\u001B[0;34m.\u001B[0m\u001B[0m_get_lines\u001B[0m\u001B[0;34m(\u001B[0m\u001B[0;34m*\u001B[0m\u001B[0margs\u001B[0m\u001B[0;34m,\u001B[0m \u001B[0mdata\u001B[0m\u001B[0;34m=\u001B[0m\u001B[0mdata\u001B[0m\u001B[0;34m,\u001B[0m \u001B[0;34m**\u001B[0m\u001B[0mkwargs\u001B[0m\u001B[0;34m)\u001B[0m\u001B[0;34m]\u001B[0m\u001B[0;34m\u001B[0m\u001B[0;34m\u001B[0m\u001B[0m\n\u001B[0m\u001B[1;32m   1744\u001B[0m         \u001B[0;32mfor\u001B[0m \u001B[0mline\u001B[0m \u001B[0;32min\u001B[0m \u001B[0mlines\u001B[0m\u001B[0;34m:\u001B[0m\u001B[0;34m\u001B[0m\u001B[0;34m\u001B[0m\u001B[0m\n\u001B[1;32m   1745\u001B[0m             \u001B[0mself\u001B[0m\u001B[0;34m.\u001B[0m\u001B[0madd_line\u001B[0m\u001B[0;34m(\u001B[0m\u001B[0mline\u001B[0m\u001B[0;34m)\u001B[0m\u001B[0;34m\u001B[0m\u001B[0;34m\u001B[0m\u001B[0m\n",
      "\u001B[0;32m~/miniconda3/envs/wishart/lib/python3.7/site-packages/matplotlib/axes/_base.py\u001B[0m in \u001B[0;36m__call__\u001B[0;34m(self, data, *args, **kwargs)\u001B[0m\n\u001B[1;32m    271\u001B[0m                 \u001B[0mthis\u001B[0m \u001B[0;34m+=\u001B[0m \u001B[0margs\u001B[0m\u001B[0;34m[\u001B[0m\u001B[0;36m0\u001B[0m\u001B[0;34m]\u001B[0m\u001B[0;34m,\u001B[0m\u001B[0;34m\u001B[0m\u001B[0;34m\u001B[0m\u001B[0m\n\u001B[1;32m    272\u001B[0m                 \u001B[0margs\u001B[0m \u001B[0;34m=\u001B[0m \u001B[0margs\u001B[0m\u001B[0;34m[\u001B[0m\u001B[0;36m1\u001B[0m\u001B[0;34m:\u001B[0m\u001B[0;34m]\u001B[0m\u001B[0;34m\u001B[0m\u001B[0;34m\u001B[0m\u001B[0m\n\u001B[0;32m--> 273\u001B[0;31m             \u001B[0;32myield\u001B[0m \u001B[0;32mfrom\u001B[0m \u001B[0mself\u001B[0m\u001B[0;34m.\u001B[0m\u001B[0m_plot_args\u001B[0m\u001B[0;34m(\u001B[0m\u001B[0mthis\u001B[0m\u001B[0;34m,\u001B[0m \u001B[0mkwargs\u001B[0m\u001B[0;34m)\u001B[0m\u001B[0;34m\u001B[0m\u001B[0;34m\u001B[0m\u001B[0m\n\u001B[0m\u001B[1;32m    274\u001B[0m \u001B[0;34m\u001B[0m\u001B[0m\n\u001B[1;32m    275\u001B[0m     \u001B[0;32mdef\u001B[0m \u001B[0mget_next_color\u001B[0m\u001B[0;34m(\u001B[0m\u001B[0mself\u001B[0m\u001B[0;34m)\u001B[0m\u001B[0;34m:\u001B[0m\u001B[0;34m\u001B[0m\u001B[0;34m\u001B[0m\u001B[0m\n",
      "\u001B[0;32m~/miniconda3/envs/wishart/lib/python3.7/site-packages/matplotlib/axes/_base.py\u001B[0m in \u001B[0;36m_plot_args\u001B[0;34m(self, tup, kwargs)\u001B[0m\n\u001B[1;32m    397\u001B[0m \u001B[0;34m\u001B[0m\u001B[0m\n\u001B[1;32m    398\u001B[0m         \u001B[0;32mif\u001B[0m \u001B[0mx\u001B[0m\u001B[0;34m.\u001B[0m\u001B[0mshape\u001B[0m\u001B[0;34m[\u001B[0m\u001B[0;36m0\u001B[0m\u001B[0;34m]\u001B[0m \u001B[0;34m!=\u001B[0m \u001B[0my\u001B[0m\u001B[0;34m.\u001B[0m\u001B[0mshape\u001B[0m\u001B[0;34m[\u001B[0m\u001B[0;36m0\u001B[0m\u001B[0;34m]\u001B[0m\u001B[0;34m:\u001B[0m\u001B[0;34m\u001B[0m\u001B[0;34m\u001B[0m\u001B[0m\n\u001B[0;32m--> 399\u001B[0;31m             raise ValueError(f\"x and y must have same first dimension, but \"\n\u001B[0m\u001B[1;32m    400\u001B[0m                              f\"have shapes {x.shape} and {y.shape}\")\n\u001B[1;32m    401\u001B[0m         \u001B[0;32mif\u001B[0m \u001B[0mx\u001B[0m\u001B[0;34m.\u001B[0m\u001B[0mndim\u001B[0m \u001B[0;34m>\u001B[0m \u001B[0;36m2\u001B[0m \u001B[0;32mor\u001B[0m \u001B[0my\u001B[0m\u001B[0;34m.\u001B[0m\u001B[0mndim\u001B[0m \u001B[0;34m>\u001B[0m \u001B[0;36m2\u001B[0m\u001B[0;34m:\u001B[0m\u001B[0;34m\u001B[0m\u001B[0;34m\u001B[0m\u001B[0m\n",
      "\u001B[0;31mValueError\u001B[0m: x and y must have same first dimension, but have shapes torch.Size([80]) and torch.Size([5])"
     ]
    },
    {
     "data": {
      "text/plain": "<Figure size 576x216 with 3 Axes>",
      "image/png": "[encoded data removed]"
     },
     "metadata": {},
     "output_type": "display_data"
    },
    {
     "data": {
      "text/plain": "<Figure size 432x1152 with 1 Axes>",
      "image/png": "[encoded data removed]"
     },
     "metadata": {},
     "output_type": "display_data"
    }
   ],
   "source": [
    "labels = ['Basal rates', 'Sensitivities', 'Decay rates']\n",
    "kinetics = list()\n",
    "for key in ['basal_rate', 'sensitivity', 'decay_rate']:\n",
    "    kinetics.append(trainer.parameter_trace[key][-1].squeeze().numpy())\n",
    "\n",
    "plotter.plot_double_bar(kinetics, labels, p53_ground_truth())\n",
    "q_m = lfm.predict_m(t_predict, step_size=step_size)\n",
    "q_f = lfm.predict_f(t_predict)\n",
    "\n",
    "plotter.plot_gp(q_m, t_predict, replicate=0,\n",
    "                t_scatter=dataset.t_observed,\n",
    "                y_scatter=dataset.m_observed, num_samples=0)\n",
    "plotter.plot_gp(q_f, t_predict, ylim=(-1, 3))\n",
    "plt.title('Latent')\n"
   ],
   "metadata": {
    "collapsed": false,
    "pycharm": {
     "name": "#%%\n"
    }
   }
  },
  {
   "cell_type": "code",
   "execution_count": null,
   "outputs": [],
   "source": [
    "lfm.train()\n",
    "\n",
    "trainer.train(400, report_interval=10, step_size=step_size)\n"
   ],
   "metadata": {
    "collapsed": false,
    "pycharm": {
     "name": "#%%\n"
    }
   }
  },
  {
   "cell_type": "code",
   "execution_count": null,
   "outputs": [],
   "source": [
    "lfm.eval()\n",
    "q_m = lfm.predict_m(t_predict, step_size=step_size)\n",
    "q_f = lfm.predict_f(t_predict)\n",
    "\n",
    "plotter.plot_losses(trainer, last_x=200)\n",
    "plotter.plot_gp(q_m, t_predict, replicate=0,\n",
    "                     t_scatter=dataset.t_observed, y_scatter=dataset.m_observed, num_samples=0)\n",
    "plotter.plot_gp(q_f, t_predict, ylim=(-2, 3.2), num_samples=3)\n",
    "plt.title('Latent')\n",
    "\n",
    "labels = ['Basal rates', 'Sensitivities', 'Decay rates']\n",
    "kinetics = list()\n",
    "for key in ['basal_rate', 'sensitivity', 'decay_rate']:\n",
    "    kinetics.append(trainer.parameter_trace[key][-1].squeeze().numpy())\n",
    "\n",
    "plotter.plot_double_bar(kinetics, labels, p53_ground_truth())"
   ],
   "metadata": {
    "collapsed": false,
    "pycharm": {
     "name": "#%%\n"
    }
   }
  },
  {
   "cell_type": "code",
   "execution_count": null,
   "outputs": [],
   "source": [
    "\n",
    "\n"
   ],
   "metadata": {
    "collapsed": false,
    "pycharm": {
     "name": "#%%\n"
    }
   }
  }
 ],
 "metadata": {
  "kernelspec": {
   "display_name": "Python 3",
   "language": "python",
   "name": "python3"
  },
  "language_info": {
   "codemirror_mode": {
    "name": "ipython",
    "version": 2
   },
   "file_extension": ".py",
   "mimetype": "text/x-python",
   "name": "python",
   "nbconvert_exporter": "python",
   "pygments_lexer": "ipython2",
   "version": "2.7.6"
  }
 },
 "nbformat": 4,
 "nbformat_minor": 0
}