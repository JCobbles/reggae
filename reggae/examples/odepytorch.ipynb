{
 "cells": [
  {
   "cell_type": "code",
   "execution_count": 2,
   "metadata": {
    "collapsed": true
   },
   "outputs": [],
   "source": [
    "import torch\n",
    "from torch import nn\n",
    "from torchdiffeq import odeint\n",
    "from torch.nn.parameter import Parameter\n",
    "from torch.distributions.multivariate_normal import MultivariateNormal\n",
    "from torch.distributions.normal import Normal\n",
    "\n",
    "from reggae.data_loaders import load_barenco_puma, DataHolder, scaled_barenco_data\n",
    "from reggae.utilities import softplus, inv_softplus, cholesky_inverse\n",
    "from matplotlib import pyplot as plt\n",
    "\n",
    "import numpy as np\n",
    "\n",
    "f64 = np.float64"
   ]
  },
  {
   "cell_type": "code",
   "execution_count": 4,
   "outputs": [
    {
     "data": {
      "text/plain": "[<matplotlib.lines.Line2D at 0x7ff0e10710d0>]"
     },
     "execution_count": 4,
     "metadata": {},
     "output_type": "execute_result"
    },
    {
     "data": {
      "text/plain": "<Figure size 288x144 with 1 Axes>",
      "image/png": "[encoded data removed]"
     },
     "metadata": {
      "needs_background": "light"
     },
     "output_type": "display_data"
    }
   ],
   "source": [
    "m_observed, f_observed, σ2_m_pre, σ2_f_pre, t = load_barenco_puma('../data/')\n",
    "\n",
    "m_df, m_observed = m_observed\n",
    "f_df, f_observed = f_observed\n",
    "# Shape of m_observed = (replicates, genes, times)\n",
    "m_observed = torch.tensor(m_observed)\n",
    "f_observed = torch.tensor(f_observed)\n",
    "data = (m_observed, f_observed)\n",
    "\n",
    "σ2_m_pre = f64(σ2_m_pre)\n",
    "σ2_f_pre = f64(σ2_f_pre)\n",
    "noise_data = (σ2_m_pre, σ2_f_pre)\n",
    "\n",
    "num_genes = m_observed.shape[1]\n",
    "num_tfs = f_observed.shape[1]\n",
    "N_m = m_observed.shape[2]\n",
    "granularity = 100\n",
    "t_inducing = torch.linspace(f64(0), f64(1), 5, dtype=torch.float64).reshape((-1, 1))\n",
    "t_observed = torch.linspace(f64(0), f64(1), 7)\n",
    "plt.figure(figsize=(4, 2))\n",
    "plt.plot(m_observed[0,0])"
   ],
   "metadata": {
    "collapsed": false,
    "pycharm": {
     "name": "#%%\n"
    }
   }
  },
  {
   "cell_type": "code",
   "execution_count": 25,
   "outputs": [],
   "source": [
    "def save():\n",
    "    torch.save(model.state_dict(), 'model.pt')\n",
    "\n",
    "def load():\n",
    "    model = ODEModel(num_genes, num_tfs, t_inducing)\n",
    "    model.load_state_dict(torch.load('model.pt'))\n",
    "    return model\n",
    "\n",
    "def plot_genes(rtol=1e-4, atol=1e-6):\n",
    "    t_predict = torch.linspace(f64(0), f64(1), 80)\n",
    "    initial_value = torch.zeros((num_genes, 1), dtype=torch.float64) #, dtype=torch.float64\n",
    "\n",
    "    # output_obs, _ = model(t_observed.view(-1), initial_value, rtol=rtol, atol=atol)\n",
    "    # output_obs = torch.squeeze(output_obs).detach()\n",
    "    # plt.plot(t_observed, output_obs[0])\n",
    "    # plt.scatter(t_observed, m_observed[0][0])\n",
    "\n",
    "    outputs, _ = model(t_predict.view(-1), initial_value, rtol=rtol, atol=atol, num_samples=1)\n",
    "\n",
    "    outputs = torch.squeeze(outputs)\n",
    "    print(outputs.shape)\n",
    "    plt.figure(figsize=(5, 8))\n",
    "    for i in range(num_genes):\n",
    "        plt.subplot(511+i)\n",
    "        plt.plot(t_predict, torch.squeeze(outputs[i]).detach())\n",
    "        plt.scatter(t_observed, m_observed[0][i])\n",
    "\n",
    "def plot_tfs(ylim=(-2, 2), num_samples=7, plt_inducing=False):\n",
    "    tf_i = 0\n",
    "\n",
    "    t_predict = torch.linspace(0, 1, 80)\n",
    "    q_f = model.get_tfs(t_predict.reshape(-1))\n",
    "    q_u = model.get_tfs(model.inducing_inputs)\n",
    "    mean = model.G(q_f.mean).detach().numpy() # (T)\n",
    "    mean_u = model.G(q_u.mean).detach().numpy()\n",
    "    std = torch.sqrt(q_f.variance)[tf_i].detach().numpy()\n",
    "    std_u = torch.sqrt(q_u.variance[0]).detach().numpy()\n",
    "    barenco_f, _ = scaled_barenco_data(mean)\n",
    "    plt.figure(figsize=(5, 3))\n",
    "    plt.fill_between(t_predict, mean+std, mean-std, color='orangered', alpha=0.5)\n",
    "    plt.scatter(np.linspace(0,1,7), barenco_f, marker='x', s=60, linewidth=2, label='Barenco et al.')\n",
    "    plt.scatter(t_inducing, mean_u, marker='o', color='brown')\n",
    "    for _ in range(num_samples):\n",
    "        plt.plot(t_predict, model.G(q_f.sample()).detach(), alpha=0.2, color='gray')\n",
    "    plt.plot(t_predict, mean, color='gray')\n",
    "\n",
    "    if plt_inducing:\n",
    "        S = torch.matmul(model.q_cholS, model.q_cholS.transpose(1,2))\n",
    "        std_u = torch.sqrt(torch.diagonal(S[0])).detach()\n",
    "        u = torch.squeeze(model.q_m[tf_i].detach())\n",
    "        print(std_u, u.shape, model.q_m.shape)\n",
    "        plt.plot(t_inducing, u)\n",
    "        plt.fill_between(t_inducing.view(-1), u+std_u, u-std_u, color='green', alpha=0.5)\n",
    "\n",
    "    plt.title('Latent')\n",
    "    plt.ylim(ylim)\n",
    "\n",
    "def plot_losses(trainer, last_x=50):\n",
    "    plt.figure(figsize=(5, 2))\n",
    "    plt.plot(np.sum(trainer.losses, axis=1)[-last_x:])\n",
    "    plt.title('Total loss')\n",
    "    plt.figure(figsize=(5, 2))\n",
    "    plt.subplot(221)\n",
    "    plt.plot(trainer.losses[-last_x:, 0])\n",
    "    plt.title('Loss')\n",
    "    plt.subplot(222)\n",
    "    plt.plot(trainer.losses[-last_x:, 1])\n",
    "    plt.title('KL-divergence')"
   ],
   "metadata": {
    "collapsed": false,
    "pycharm": {
     "name": "#%%\n"
    }
   }
  },
  {
   "cell_type": "code",
   "execution_count": 17,
   "outputs": [],
   "source": [
    "class ODEModel(nn.Module):\n",
    "    \"\"\"\n",
    "    Description blah\n",
    "    Parameters\n",
    "    ----------\n",
    "    num_genes : int\n",
    "    Number of genes.\n",
    "    num_tfs : int\n",
    "\n",
    "    t_inducing : int\n",
    "    inducing timepoints.\n",
    "    \"\"\"\n",
    "    def __init__(self, num_genes, num_tfs, t_inducing):\n",
    "        super(ODEModel, self).__init__()\n",
    "        self.num_genes = num_genes\n",
    "        self.num_tfs = num_tfs\n",
    "        self.num_inducing = t_inducing.shape[0]\n",
    "        self.inducing_inputs = torch.tensor(t_inducing, requires_grad=False)\n",
    "\n",
    "        self.decay_rate = Parameter(1*torch.ones((self.num_genes, 1), dtype=torch.float64))\n",
    "        self.basal_rate = Parameter(0.2*torch.ones((self.num_genes, 1), dtype=torch.float64))\n",
    "        self.sensitivity = Parameter(2*torch.ones((self.num_genes, 1), dtype=torch.float64))\n",
    "        # self.w = Parameter(torch.ones((self.num_genes, self.num_tfs), dtype=torch.float64))\n",
    "        # self.w_0 = Parameter(torch.ones((self.num_tfs), dtype=torch.float64))\n",
    "\n",
    "        self.nfe = 0\n",
    "        self.raw_lengthscale = Parameter(0.5*torch.ones((num_tfs), dtype=torch.float64))\n",
    "        self.v = Parameter(torch.ones((num_tfs), dtype=torch.float64))\n",
    "        q_m = torch.rand((self.num_tfs, self.num_inducing, 1), dtype=torch.float64)\n",
    "        q_K = self.rbf(self.inducing_inputs)\n",
    "\n",
    "        # q_K = torch.eye(self.num_inducing, dtype=torch.float64).view(1, self.num_inducing, self.num_inducing)\n",
    "        q_K = q_K.repeat(self.num_tfs, 1, 1)\n",
    "        q_cholK = torch.cholesky(q_K)\n",
    "        self.q_m = Parameter(q_m)\n",
    "        self.q_cholS = Parameter(q_cholK)\n",
    "\n",
    "        self.likelihood_variance = torch.tensor(σ2_m_pre[0], requires_grad=False)\n",
    "        # self.likelihood_variance = Parameter(torch.ones((self.num_genes, self.num_inducing), dtype=torch.float64))\n",
    "\n",
    "    @property\n",
    "    def lengthscale(self):\n",
    "        return softplus(self.raw_lengthscale)\n",
    "\n",
    "    @lengthscale.setter\n",
    "    def lengthscale(self, value):\n",
    "        self.raw_lengthscale = inv_softplus(value)\n",
    "\n",
    "    def rbf(self, x: torch.Tensor, x2: torch.Tensor=None):\n",
    "        \"\"\"\n",
    "        Radial basis function kernel.\n",
    "        @param x:\n",
    "        @param x2: if None, then x2 becomes x\n",
    "        @return: K of shape (I, |x|, |x2|)\n",
    "        \"\"\"\n",
    "        add_jitter = x2 is None\n",
    "        if x2 is None:\n",
    "            x2 = x\n",
    "        x = x.view(-1)\n",
    "        x2 = x2.view(-1)\n",
    "        sq_dist = torch.square(x.view(-1, 1)-x2)\n",
    "        sq_dist = sq_dist.repeat(self.num_tfs, 1, 1)\n",
    "        sq_dist = torch.div(sq_dist, 2*self.lengthscale.view((-1, 1, 1)))\n",
    "        K =  self.v.view(-1, 1, 1) * torch.exp(-sq_dist)\n",
    "        if add_jitter:\n",
    "            jitter = 1e-6 * torch.eye(x.shape[0])\n",
    "            K += jitter\n",
    "        return K\n",
    "\n",
    "\n",
    "    def forward(self, t, h, rtol=1e-4, atol=1e-6, num_samples=5):\n",
    "        \"\"\"\n",
    "        t : torch.Tensor\n",
    "            Shape (num_times)\n",
    "        h : torch.Tensor the initial state of the ODE\n",
    "            Shape (num_genes, 1)\n",
    "        Returns\n",
    "        -------\n",
    "        Returns evolved h across times t.\n",
    "        Shape (num_genes, num_points).\n",
    "        \"\"\"\n",
    "        self.nfe = 0\n",
    "        num_times = t.size()\n",
    "\n",
    "        # 1: Likelihood step: Sample from variational distribution\n",
    "        self.Kmm = self.rbf(self.inducing_inputs)\n",
    "\n",
    "        L = torch.cholesky(self.Kmm)\n",
    "        self.inv_Kmm = cholesky_inverse(L)\n",
    "        q_cholS = torch.tril(self.q_cholS)\n",
    "        self.S = torch.matmul(q_cholS, torch.transpose(q_cholS, 1, 2))\n",
    "\n",
    "        # Integrate forward from the initial positions h.\n",
    "        h_avg = 0\n",
    "        for _ in range(num_samples):\n",
    "            h_avg += odeint(self.odefunc, h, t, method='dopri5', rtol=rtol, atol=atol) / num_samples # shape (num_genes, num_times, 1\n",
    "\n",
    "        # 2: KL term:\n",
    "        # above: make cholesky\n",
    "        KL = -0.5 * self.num_tfs * self.num_inducing # CHECK\n",
    "\n",
    "        # log(det(S)): (already checked, seems working)\n",
    "        # Uses that sqrt(det(X)) = det(X^(1/2)) and that det of triangular matrix\n",
    "        # is the product of the diagonal entries (i.e. sum of their logarithm).\n",
    "        logdetS = torch.sum(torch.log(torch.diagonal(q_cholS, dim1=1, dim2=2)**2))\n",
    "\n",
    "        # log(det(Kmm)): (already checked, seems working)\n",
    "        logdetK = torch.sum(torch.log(torch.diagonal(L, dim1=1, dim2=2)**2))\n",
    "        # print('logdetK', logdetK.item(), torch.logdet(self.Kmm).item())\n",
    "        # print('logdetS', logdetS.item(), torch.logdet(self.S).item())\n",
    "        # tr(inv_Kmm * S):\n",
    "        trKS = torch.matmul(self.inv_Kmm, self.S)\n",
    "        trKS = torch.sum(torch.diagonal(trKS, dim1=1, dim2=2))\n",
    "\n",
    "        # m^T Kuu^(-1) m:\n",
    "        # cholesky_solve(b, chol)\n",
    "        Kinv_m = torch.cholesky_solve(self.q_m, L, upper=False)\n",
    "        m_Kinv_m = torch.matmul(torch.transpose(self.q_m, 1, 2), Kinv_m)# (1,1,1)\n",
    "        m_Kinv_m = torch.squeeze(m_Kinv_m)\n",
    "        KL += 0.5 * (logdetK - logdetS + trKS + m_Kinv_m)\n",
    "\n",
    "        ## Use this code to check:\n",
    "        # print('kl', KL)\n",
    "        # plt.imshow(self.S[0].detach())\n",
    "        # p = MultivariateNormal(torch.zeros((1, self.num_inducing), dtype=torch.float64), self.Kmm)\n",
    "        # q = MultivariateNormal(torch.squeeze(self.q_m, 2), self.S)\n",
    "        # KL2 = torch.distributions.kl_divergence(q, p)\n",
    "        # print('kl2', KL2)\n",
    "        ##\n",
    "        return torch.transpose(h_avg, 0, 1), KL\n",
    "\n",
    "\n",
    "    def odefunc(self, t, h):\n",
    "        self.nfe += 1\n",
    "        # if (self.nfe % 100) == 0:\n",
    "        #     print(t)\n",
    "        # h is of shape (num_genes, 1)\n",
    "        decay = torch.multiply(self.decay_rate.view(-1), h.view(-1)).view(-1, 1)\n",
    "\n",
    "        q_f = self.get_tfs(t.reshape(-1))\n",
    "        # Reparameterisation trick\n",
    "        f = q_f.rsample() # TODO: multiple samples?\n",
    "        Gp = self.G(f)[1] #get the midpoint\n",
    "\n",
    "        # print(Gp.shape)\n",
    "        # print(self.basal_rate, Gp, decay)\n",
    "\n",
    "        return self.basal_rate + self.sensitivity * Gp - decay\n",
    "\n",
    "    def get_tfs(self, t):\n",
    "        \"\"\"t: shape (T*,)\"\"\"\n",
    "        ## Uncomment this if calling get_tfs on a fresh model\n",
    "        # self.Kmm = self.rbf(self.inducing_inputs)\n",
    "        # L = torch.cholesky(self.Kmm)\n",
    "        # self.inv_Kmm = cholesky_inverse(L)\n",
    "        # q_cholS = torch.tril(self.q_cholS)\n",
    "        # self.S = torch.matmul(q_cholS, torch.transpose(q_cholS, 1, 2))\n",
    "        ##\n",
    "        if t.shape[0] == 1:\n",
    "            t = torch.tensor([t[0]-0.05, t, t[0]+0.05])\n",
    "            # print(t)\n",
    "        Ksm = self.rbf(t, self.inducing_inputs) # (I, T*, T)\n",
    "        α = torch.matmul(Ksm, self.inv_Kmm) # (I, T*, T)\n",
    "        m_s = torch.matmul(α, self.q_m) # (I, T*, T*)\n",
    "        Kss = self.rbf(t) # (I, T*, T*)\n",
    "        # I think Kss is always v: rbf with one timepoint is = ve^0\n",
    "        S_Kmm = self.S - self.Kmm # (I, T, T)\n",
    "        AS_KA = torch.matmul(torch.matmul(α, S_Kmm), torch.transpose(α, 1, 2)) # (I, T*, T*)\n",
    "        S_s = (Kss + AS_KA) # (I, T*, T*)\n",
    "        # print(Kss, AS_KA)\n",
    "        # plt.figure()\n",
    "        # plt.imshow(self.S[0].detach())\n",
    "        # plt.plot(torch.squeeze(m_s[0], 1).detach())\n",
    "        if S_s.shape[2] > 1:\n",
    "            q_f = MultivariateNormal(torch.squeeze(m_s, 2), S_s)\n",
    "        else:\n",
    "            q_f = Normal(torch.squeeze(m_s), torch.squeeze(S_s))\n",
    "\n",
    "        return q_f\n",
    "\n",
    "    def G(self, p): #TODO\n",
    "        return torch.squeeze(p, dim=0)\n",
    "        # p_pos = softplus(p)\n",
    "        # interactions = torch.matmul(self.w, torch.log(p_pos+1e-50)) + self.w_0 #(TODO)\n",
    "        # return torch.sigmoid(interactions) # TF Activation Function (sigmoid)\n",
    "        # return p\n",
    "\n",
    "    def train(self, mode=True):\n",
    "        # self.gp.train(mode)\n",
    "        # self.gp.likelihood.train(mode)\n",
    "        super().train(mode)\n",
    "\n",
    "    def log_likelihood(self, y, h):\n",
    "        # print(self.likelihood_variance)\n",
    "        sq_diff = torch.square(y - h)\n",
    "        variance = self.likelihood_variance # add PUMA variance, 0th replicate\n",
    "        log_lik = -0.5*torch.log(2*3.1415926*variance) - 0.5*sq_diff/variance\n",
    "        log_lik = torch.sum(log_lik)\n",
    "        return log_lik * self.num_tfs * self.num_inducing\n",
    "        # return MultivariateNormal(y, torch.exp(self.likelihood_variance)).log_prob(h)"
   ],
   "metadata": {
    "collapsed": false,
    "pycharm": {
     "name": "#%%\n"
    }
   }
  },
  {
   "cell_type": "code",
   "execution_count": 18,
   "outputs": [],
   "source": [
    "class Trainer():\n",
    "    def __init__(self, optimizer):\n",
    "        self.num_epochs = 0\n",
    "        self.kl_mult = 0\n",
    "        self.optimizer = optimizer\n",
    "        self.losses = np.empty((0, 2))\n",
    "\n",
    "        self.basalrates = list()\n",
    "        self.decayrates = list()\n",
    "        self.lengthscales = list()\n",
    "\n",
    "    def train(self, epochs=20, report_interval=1, plot_interval=20, rtol=1e-5, atol=1e-6):\n",
    "        losses = list()\n",
    "        plt.figure()\n",
    "        plt.plot(np.linspace(0, 1, 7), m_observed[0,0], label='real')\n",
    "        end_epoch = self.num_epochs+epochs\n",
    "        for epoch in range(epochs):\n",
    "            self.optimizer.zero_grad()\n",
    "            # Output from model\n",
    "            initial_value = torch.zeros((num_genes, 1), dtype=torch.float64) #, dtype=torch.float64\n",
    "            output, kl = model(t_observed.view(-1), initial_value, rtol=rtol, atol=atol)\n",
    "            output = torch.squeeze(output)\n",
    "\n",
    "            # print(model.q_cholS)\n",
    "            # Calc loss and backprop gradients\n",
    "            loss = -1*torch.sum(model.log_likelihood(m_observed[0], output))\n",
    "            mult = 1\n",
    "            if self.num_epochs <= 10:\n",
    "                mult = self.num_epochs/10\n",
    "            kl *= mult\n",
    "            total_loss = loss + kl\n",
    "            total_loss.backward()\n",
    "            # print(model.q_cholS)\n",
    "            if (epoch % report_interval) == 0:\n",
    "                print('Epoch %d/%d - Loss: %.2f (%.2f %.2f) [%.2f,%.2f,%.2f] b: %.2f d %.2f s %.2f λ: %.3f' % (\n",
    "                    self.num_epochs + 1, end_epoch,\n",
    "                    total_loss.item(),\n",
    "                    loss.item(), kl.item(),\n",
    "                    model.q_m[0, 1], model.q_m[0,2], model.q_m[0, 3],\n",
    "                    model.basal_rate[0].item(),\n",
    "                    model.decay_rate[0].item(),\n",
    "                    model.sensitivity[0].item(),\n",
    "                    model.lengthscale.squeeze().item()\n",
    "                ))\n",
    "            self.optimizer.step()\n",
    "\n",
    "            self.basalrates.append(model.basal_rate.detach().numpy())\n",
    "            self.decayrates.append(model.decay_rate.detach().numpy())\n",
    "            self.lengthscales.append(model.lengthscale.squeeze().item())\n",
    "            losses.append((loss.item(), kl.item()))\n",
    "            with torch.no_grad():\n",
    "                model.raw_lengthscale.clamp_(-2, 1)\n",
    "                model.sensitivity.clamp_(0.4, 8)\n",
    "                model.basal_rate.clamp_(0, 8)\n",
    "                model.decay_rate.clamp_(0, 8)\n",
    "                model.sensitivity[3] = np.float64(1.)\n",
    "                model.decay_rate[3] = np.float64(0.8)\n",
    "                # model.q_cholS = torch.tril(model.q_cholS)\n",
    "\n",
    "\n",
    "            if (epoch % plot_interval) == 0:\n",
    "                plt.plot(t_observed, output[0].detach().numpy(), label='epoch'+str(epoch))\n",
    "            self.num_epochs += 1\n",
    "        plt.legend()\n",
    "\n",
    "        losses = np.array(losses)\n",
    "        self.losses = np.concatenate([self.losses, losses], axis=0)\n",
    "\n",
    "        return output"
   ],
   "metadata": {
    "collapsed": false,
    "pycharm": {
     "name": "#%%\n"
    }
   }
  },
  {
   "cell_type": "code",
   "execution_count": 35,
   "outputs": [
    {
     "name": "stderr",
     "output_type": "stream",
     "text": [
      "/Users/jacob/miniconda3/envs/wishart/lib/python3.7/site-packages/ipykernel_launcher.py:18: UserWarning: To copy construct from a tensor, it is recommended to use sourceTensor.clone().detach() or sourceTensor.clone().detach().requires_grad_(True), rather than torch.tensor(sourceTensor).\n"
     ]
    }
   ],
   "source": [
    "model = ODEModel(num_genes, num_tfs, t_inducing)\n",
    "optimizer = torch.optim.Adam(model.parameters(), lr=0.1)\n",
    "trainer = Trainer(optimizer)\n",
    "# list(model.parameters())"
   ],
   "metadata": {
    "collapsed": false,
    "pycharm": {
     "name": "#%%\n"
    }
   }
  },
  {
   "cell_type": "markdown",
   "source": [
    "### Outputs prior to training:"
   ],
   "metadata": {
    "collapsed": false,
    "pycharm": {
     "name": "#%% md\n"
    }
   }
  },
  {
   "cell_type": "code",
   "execution_count": 36,
   "outputs": [
    {
     "name": "stdout",
     "output_type": "stream",
     "text": [
      "torch.Size([5, 80])\n",
      "(1, 80)\n"
     ]
    },
    {
     "data": {
      "text/plain": "<Figure size 360x576 with 5 Axes>",
      "image/png": "[encoded data removed]"
     },
     "metadata": {
      "needs_background": "light"
     },
     "output_type": "display_data"
    },
    {
     "data": {
      "text/plain": "<Figure size 360x216 with 1 Axes>",
      "image/png": "[encoded data removed]"
     },
     "metadata": {
      "needs_background": "light"
     },
     "output_type": "display_data"
    }
   ],
   "source": [
    "plot_genes(rtol=1e-3, atol=1e-4)\n",
    "plot_tfs()"
   ],
   "metadata": {
    "collapsed": false,
    "pycharm": {
     "name": "#%%\n"
    }
   }
  },
  {
   "cell_type": "code",
   "execution_count": 37,
   "outputs": [
    {
     "name": "stdout",
     "output_type": "stream",
     "text": [
      "Epoch 1/1 - Loss: 3688.29 (374.72 3313.56) [0.07,0.54,0.22] b: 0.20 d 1.00 s 2.00 λ: 0.313\n"
     ]
    },
    {
     "data": {
      "text/plain": "<Figure size 432x288 with 1 Axes>",
      "image/png": "[encoded data removed]"
     },
     "metadata": {
      "needs_background": "light"
     },
     "output_type": "display_data"
    }
   ],
   "source": [
    "tol = 1e-3\n",
    "# trainer = Trainer(optimizer)\n",
    "output = trainer.train(1, rtol=tol, atol=tol/10, report_interval=1)"
   ],
   "metadata": {
    "collapsed": false,
    "pycharm": {
     "name": "#%%\n"
    }
   }
  },
  {
   "cell_type": "markdown",
   "source": [
    "### Outputs after training"
   ],
   "metadata": {
    "collapsed": false,
    "pycharm": {
     "name": "#%% md\n"
    }
   }
  },
  {
   "cell_type": "code",
   "execution_count": 26,
   "outputs": [
    {
     "name": "stdout",
     "output_type": "stream",
     "text": [
      "torch.Size([5, 80])\n",
      "(1, 80)\n"
     ]
    },
    {
     "data": {
      "text/plain": "<Figure size 360x144 with 1 Axes>",
      "image/png": "[encoded data removed]"
     },
     "metadata": {
      "needs_background": "light"
     },
     "output_type": "display_data"
    },
    {
     "data": {
      "text/plain": "<Figure size 360x144 with 2 Axes>",
      "image/png": "[encoded data removed]"
     },
     "metadata": {
      "needs_background": "light"
     },
     "output_type": "display_data"
    },
    {
     "data": {
      "text/plain": "<Figure size 360x576 with 5 Axes>",
      "image/png": "[encoded data removed]"
     },
     "metadata": {
      "needs_background": "light"
     },
     "output_type": "display_data"
    },
    {
     "data": {
      "text/plain": "<Figure size 360x216 with 1 Axes>",
      "image/png": "[encoded data removed]"
     },
     "metadata": {
      "needs_background": "light"
     },
     "output_type": "display_data"
    }
   ],
   "source": [
    "plot_losses(trainer)\n",
    "plot_genes(rtol=tol, atol=tol/10)\n",
    "\n",
    "# with torch.no_grad():\n",
    "#     model.q_m[0,0] = 0\n",
    "#     model.q_m[0,1] = 1\n",
    "#     model.q_m[0,2] = 3\n",
    "#     model.q_m[0,3] = 3\n",
    "#     model.q_m[0,4] = 1\n",
    "#     model.q_m[0,5] = 0\n",
    "#     model.q_m[0,6] = 0\n",
    "plot_tfs()\n"
   ],
   "metadata": {
    "collapsed": false,
    "pycharm": {
     "name": "#%%\n"
    }
   }
  },
  {
   "cell_type": "code",
   "execution_count": 134,
   "outputs": [
    {
     "name": "stdout",
     "output_type": "stream",
     "text": [
      "torch.Size([1, 7, 1])\n",
      "Parameter containing:\n",
      "tensor([[-1.5246, -3.4225,  0.5453,  0.4558, -0.8991,  0.1822, -2.0911],\n",
      "        [-2.7409, -0.6415,  0.3184,  0.4650, -2.0896,  0.5004, -2.0094],\n",
      "        [-3.0729, -0.4409,  0.2341, -0.3513, -1.8795,  0.8146, -1.7812],\n",
      "        [-3.9272, -4.1301,  0.9394, -0.5000, -3.4205, -0.6667, -3.3327],\n",
      "        [-1.3829, -3.4332,  0.5892,  0.2126, -0.2391,  0.2169, -2.1182]],\n",
      "       dtype=torch.float64, requires_grad=True)\n"
     ]
    },
    {
     "data": {
      "text/plain": "[<matplotlib.lines.Line2D at 0x7faa009f3b10>]"
     },
     "execution_count": 134,
     "metadata": {},
     "output_type": "execute_result"
    },
    {
     "data": {
      "text/plain": "<Figure size 432x288 with 1 Axes>",
      "image/png": "[encoded data removed]"
     },
     "metadata": {
      "needs_background": "light"
     },
     "output_type": "display_data"
    }
   ],
   "source": [
    "save()"
   ],
   "metadata": {
    "collapsed": false,
    "pycharm": {
     "name": "#%%\n"
    }
   }
  },
  {
   "cell_type": "code",
   "execution_count": null,
   "outputs": [],
   "source": [
    "plt.figure(figsize=(5, 6))\n",
    "basals = np.array(trainer.basalrates)\n",
    "decays = np.array(trainer.decayrates)\n",
    "lengthscales = np.array(trainer.lengthscales)\n",
    "print(lengthscales.shape)\n",
    "plt.subplot(311)\n",
    "# print(basals[:,0])\n",
    "plt.plot(basals[:,0])\n",
    "# plt.ylim(1, 1.5)\n",
    "plt.subplot(312)\n",
    "plt.plot(decays[:,0])\n",
    "# plt.ylim(0.5, 1)\n",
    "plt.subplot(313)\n",
    "plt.plot(lengthscales)\n",
    "# plt.ylim(1, 1.2)\n",
    "\n",
    "print(model.basal_rate)\n"
   ],
   "metadata": {
    "collapsed": false,
    "pycharm": {
     "name": "#%%\n"
    }
   }
  },
  {
   "cell_type": "code",
   "execution_count": 217,
   "outputs": [
    {
     "data": {
      "text/plain": "Parameter containing:\ntensor([[0.9056],\n        [1.5209],\n        [1.2982],\n        [0.8000],\n        [1.1355]], dtype=torch.float64, requires_grad=True)"
     },
     "execution_count": 217,
     "metadata": {},
     "output_type": "execute_result"
    }
   ],
   "source": [
    "model.sensitivity\n",
    "model.decay_rate\n",
    "# model.gp.covar_module.outputscale"
   ],
   "metadata": {
    "collapsed": false,
    "pycharm": {
     "name": "#%%\n"
    }
   }
  },
  {
   "cell_type": "code",
   "execution_count": null,
   "outputs": [],
   "source": [
    "\n",
    "\n"
   ],
   "metadata": {
    "collapsed": false,
    "pycharm": {
     "name": "#%%\n"
    }
   }
  }
 ],
 "metadata": {
  "kernelspec": {
   "display_name": "Python 3",
   "language": "python",
   "name": "python3"
  },
  "language_info": {
   "codemirror_mode": {
    "name": "ipython",
    "version": 2
   },
   "file_extension": ".py",
   "mimetype": "text/x-python",
   "name": "python",
   "nbconvert_exporter": "python",
   "pygments_lexer": "ipython2",
   "version": "2.7.6"
  }
 },
 "nbformat": 4,
 "nbformat_minor": 0
}