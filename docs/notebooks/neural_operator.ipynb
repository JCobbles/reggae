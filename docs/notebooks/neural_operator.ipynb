{
 "cells": [
  {
   "cell_type": "code",
   "execution_count": 1,
   "metadata": {
    "collapsed": true
   },
   "outputs": [],
   "source": [
    "import numpy as np\n",
    "import torch\n",
    "\n",
    "from torch.nn import Linear\n",
    "from torch.utils.data import DataLoader, TensorDataset\n",
    "\n",
    "from functools import partial\n",
    "from matplotlib import pyplot as plt\n",
    "\n",
    "from lafomo.datasets import ToyTimeSeries, ToySpatialTranscriptomics\n",
    "from lafomo.models import NeuralOperator\n",
    "from lafomo.trainers import NeuralOperatorTrainer\n",
    "from lafomo.plot import Plotter, plot_spatiotemporal_data"
   ]
  },
  {
   "cell_type": "code",
   "execution_count": 2,
   "outputs": [
    {
     "name": "stdout",
     "output_type": "stream",
     "text": [
      "(1765050, 4)\n"
     ]
    },
    {
     "name": "stderr",
     "output_type": "stream",
     "text": [
      "C:\\Users\\Jacob\\miniconda3\\envs\\wishart\\lib\\site-packages\\ipykernel_launcher.py:32: UserWarning: To copy construct from a tensor, it is recommended to use sourceTensor.clone().detach() or sourceTensor.clone().detach().requires_grad_(True), rather than torch.tensor(sourceTensor).\n"
     ]
    },
    {
     "data": {
      "text/plain": "<Figure size 720x360 with 2 Axes>",
      "image/png": "[encoded data removed]"
     },
     "metadata": {},
     "output_type": "display_data"
    }
   ],
   "source": [
    "dataset = ToySpatialTranscriptomics('../../data', one_fixed_sample=False)\n",
    "\n",
    "i = 49\n",
    "orig_data = dataset.orig_data[1681*(i):1681*(i+1)]\n",
    "tx = dataset.data[0][0]\n",
    "num_t = tx[0, :].unique().shape[0]\n",
    "num_x = tx[1, :].unique().shape[0]\n",
    "\n",
    "ts = tx[0, :].unique().sort()[0].numpy()\n",
    "xs = tx[1, :].unique().sort()[0].numpy()\n",
    "extent = [ts[0], ts[-1], xs[0], xs[-1]]\n",
    "\n",
    "plot_spatiotemporal_data(\n",
    "    [torch.tensor(orig_data[:, 2]).view(num_t, num_x).t()],\n",
    "    extent, nrows=1, ncols=1\n",
    ")\n",
    "block_dim = 2\n",
    "\n",
    "ntest = 50\n",
    "ntrain = len(dataset) - ntest\n",
    "batch_size = 50\n",
    "learning_rate = 1e-3\n",
    "\n",
    "modes = 12\n",
    "width = 32\n",
    "in_channels = 3\n",
    "\n",
    "def generate_neural_dataset(dataset, ntrain, ntest):\n",
    "    s = 41\n",
    "    tx, _ = dataset.data[0]\n",
    "    grid = tx.t()\n",
    "    grid = torch.tensor(grid.reshape(1,s,s,2), dtype=torch.float)\n",
    "\n",
    "    data = torch.tensor(dataset.orig_data.reshape(len(dataset), s, s, 4), dtype=torch.float)\n",
    "    y_train = data[:ntrain, ..., 2:3]\n",
    "    x_train = data[:ntrain, ..., 3]\n",
    "    y_test = data[ntrain:, ..., 2:3]\n",
    "    x_test = data[ntrain:, ..., 3]\n",
    "\n",
    "    x_train = torch.cat([x_train.reshape(ntrain,s,s,1), grid.repeat(ntrain,1,1,1)], dim=3)\n",
    "    x_test = torch.cat([x_test.reshape(ntest,s,s,1), grid.repeat(ntest,1,1,1)], dim=3)\n",
    "\n",
    "    train_loader = DataLoader(torch.utils.data.TensorDataset(x_train, y_train),\n",
    "                              batch_size=batch_size, shuffle=True)\n",
    "    if ntest > 0:\n",
    "        test_loader = DataLoader(torch.utils.data.TensorDataset(x_test, y_test),\n",
    "                              batch_size=ntest, shuffle=True)\n",
    "        return train_loader, test_loader\n",
    "    else:\n",
    "        return train_loader\n",
    "\n",
    "train_loader, test_loader = generate_neural_dataset(dataset, ntrain, ntest)"
   ],
   "metadata": {
    "collapsed": false,
    "pycharm": {
     "name": "#%%\n"
    }
   }
  },
  {
   "cell_type": "code",
   "execution_count": 19,
   "outputs": [
    {
     "name": "stdout",
     "output_type": "stream",
     "text": [
      "(328050, 4)\n",
      "81 81\n"
     ]
    },
    {
     "data": {
      "text/plain": "<mpl_toolkits.axes_grid1.axes_grid.ImageGrid at 0x2d0029222c8>"
     },
     "execution_count": 19,
     "metadata": {},
     "output_type": "execute_result"
    },
    {
     "data": {
      "text/plain": "<Figure size 720x360 with 2 Axes>",
      "image/png": "[encoded data removed]"
     },
     "metadata": {},
     "output_type": "display_data"
    }
   ],
   "source": [
    "dataset = ToySpatialTranscriptomics('../../data', one_fixed_sample=False, highres=True)\n",
    "i = torch.randint(50, torch.Size([1]))[0]\n",
    "\n",
    "orig_data = dataset.orig_data[1681*(i):1681*(i+1)]\n",
    "\n",
    "tx = dataset.data[i][0]\n",
    "lf = dataset.data[i][1]\n",
    "\n",
    "num_t = tx[0, :].unique().shape[0]\n",
    "num_x = tx[1, :].unique().shape[0]\n",
    "ts = tx[0, :].unique().sort()[0].numpy()\n",
    "xs = tx[1, :].unique().sort()[0].numpy()\n",
    "extent = [ts[0], ts[-1], xs[0], xs[-1]]\n",
    "\n",
    "plot_spatiotemporal_data(\n",
    "    [lf.view(num_t, num_x).t()],\n",
    "    extent, nrows=1, ncols=1\n",
    ")"
   ],
   "metadata": {
    "collapsed": false,
    "pycharm": {
     "name": "#%%\n"
    }
   }
  },
  {
   "cell_type": "code",
   "execution_count": 26,
   "outputs": [
    {
     "name": "stdout",
     "output_type": "stream",
     "text": [
      "20 20.0\n"
     ]
    }
   ],
   "source": [
    "num_outputs = 10\n",
    "basal_rate = 0.1 + 0.3 * torch.rand(torch.Size([num_outputs, 1]), dtype=torch.float32)\n",
    "sensitivity = 2 + 5 * torch.rand(torch.Size([num_outputs, 1]), dtype=torch.float32)\n",
    "decay_rate = 0.2 + 2 * torch.rand(torch.Size([num_outputs, 1]), dtype=torch.float32)\n"
   ],
   "metadata": {
    "collapsed": false,
    "pycharm": {
     "name": "#%%\n"
    }
   }
  },
  {
   "cell_type": "code",
   "execution_count": null,
   "outputs": [],
   "source": [
    "ntrain = 15\n",
    "ntest = 5\n",
    "batch_size = ntrain\n",
    "\n",
    "datasets = list()\n",
    "for i in range(ntrain + ntest):\n",
    "    dataset = ToyTimeSeries(num_outputs, 1, 10, params=[basal_rate, sensitivity, decay_rate], plot=False)\n",
    "    datasets.append(dataset)"
   ],
   "metadata": {
    "collapsed": false,
    "pycharm": {
     "name": "#%%\n"
    }
   }
  },
  {
   "cell_type": "code",
   "execution_count": null,
   "outputs": [],
   "source": [
    "x_train = torch.cat([dataset.m_observed for dataset in datasets[:ntrain]]).permute(0, 2, 1)\n",
    "x_test = torch.cat([dataset.m_observed for dataset in datasets[ntrain:]]).permute(0, 2, 1)\n",
    "T_in = 11\n",
    "grid = datasets[0].t_observed.reshape(1, -1, 1).repeat(ntrain, 1, 1) # (1, 32, 32, 40, 1)\n",
    "grid_test = datasets[0].t_observed.reshape(1, -1, 1).repeat(ntest, 1, 1) # (1, 32, 32, 40, 1)\n",
    "\n",
    "x_train = torch.cat([grid, x_train], dim=-1)\n",
    "x_test = torch.cat([grid_test, x_test], dim=-1)\n",
    "y_train = torch.cat([dataset.f_observed for dataset in datasets[:ntrain]]).permute(0, 2, 1)\n",
    "y_test = torch.cat([dataset.f_observed for dataset in datasets[ntrain:]]).permute(0, 2, 1)\n",
    "print('y', y_train.shape)\n",
    "print('x', x_train.shape)\n",
    "width = 20\n",
    "modes = 4\n",
    "in_channels = 11\n",
    "train_loader = DataLoader(torch.utils.data.TensorDataset(x_train, y_train),\n",
    "                          batch_size=batch_size, shuffle=True)\n",
    "test_loader = DataLoader(torch.utils.data.TensorDataset(x_test, y_test),\n",
    "                          batch_size=ntest, shuffle=True)"
   ],
   "metadata": {
    "collapsed": false,
    "pycharm": {
     "name": "#%%\n"
    }
   }
  },
  {
   "cell_type": "code",
   "execution_count": 3,
   "outputs": [
    {
     "name": "stdout",
     "output_type": "stream",
     "text": [
      "1188353\n"
     ]
    }
   ],
   "source": [
    "model = NeuralOperator(block_dim, in_channels, modes, width)\n",
    "print(model.count_params())"
   ],
   "metadata": {
    "collapsed": false,
    "pycharm": {
     "name": "#%%\n"
    }
   }
  },
  {
   "cell_type": "code",
   "execution_count": 4,
   "outputs": [],
   "source": [
    "optimizer = torch.optim.Adam(model.parameters(), lr=learning_rate, weight_decay=1e-4)\n",
    "\n",
    "trainer = NeuralOperatorTrainer(model, [optimizer], train_loader, test_loader)"
   ],
   "metadata": {
    "collapsed": false,
    "pycharm": {
     "name": "#%%\n"
    }
   }
  },
  {
   "cell_type": "code",
   "execution_count": null,
   "outputs": [
    {
     "name": "stdout",
     "output_type": "stream",
     "text": [
      "Epoch 001/020 - Loss: 48.32 (0.94 0.76 43.69)\n",
      "Epoch 002/020 - Loss: 40.68 (0.66 0.62 40.19)\n",
      "Epoch 003/020 - Loss: 37.23 (0.55 0.52 36.59)\n",
      "Epoch 004/020 - Loss: 33.20 (0.43 0.41 32.69)\n",
      "Epoch 005/020 - Loss: 28.39 (0.31 0.28 26.47)\n",
      "Epoch 006/020 - Loss: 23.34 (0.21 0.19 22.09)\n",
      "Epoch 007/020 - Loss: 19.10 (0.14 0.13 18.00)\n",
      "Epoch 008/020 - Loss: 15.84 (0.10 0.08 14.57)\n",
      "Epoch 009/020 - Loss: 12.66 (0.06 0.05 11.50)\n",
      "Epoch 010/020 - Loss: 10.81 (0.05 0.04 10.43)\n",
      "Epoch 011/020 - Loss: 9.82 (0.04 0.04 9.96)\n"
     ]
    }
   ],
   "source": [
    "trainer.train(20);"
   ],
   "metadata": {
    "collapsed": false,
    "pycharm": {
     "name": "#%%\n",
     "is_executing": true
    }
   }
  },
  {
   "cell_type": "code",
   "execution_count": 6,
   "outputs": [],
   "source": [
    "def show_result(x, y, out):\n",
    "    if block_dim == 1:\n",
    "        fig, axes = plt.subplots(ncols=2, figsize=(8, 3))\n",
    "        for i in range(1, 5):\n",
    "            axes[0].plot(x[0, :, i])#.shape, y.shape)\n",
    "        axes[1].plot(y[0, :, 0])\n",
    "        axes[1].plot(out[0, :, 0].detach())\n",
    "    else:\n",
    "        plot_spatiotemporal_data(\n",
    "            [\n",
    "                out[0, ..., 0].detach().view(num_t, num_x).t(),\n",
    "                y[0, ..., 0].view(num_t, num_x).t(),\n",
    "                x[0, ..., 0].view(num_t, num_x).t()\n",
    "            ],\n",
    "            extent, nrows=1, ncols=3,\n",
    "            titles=['Latent (Prediction)', 'Latent (Target)', 'Test input']\n",
    "        )"
   ],
   "metadata": {
    "collapsed": false,
    "pycharm": {
     "name": "#%%\n"
    }
   }
  },
  {
   "cell_type": "code",
   "execution_count": 12,
   "outputs": [
    {
     "data": {
      "text/plain": "<Figure size 720x360 with 6 Axes>",
      "image/png": "[encoded data removed]"
     },
     "metadata": {},
     "output_type": "display_data"
    }
   ],
   "source": [
    "x, y = next(iter(test_loader))\n",
    "out = model(x)\n",
    "show_result(x, y, out)"
   ],
   "metadata": {
    "collapsed": false,
    "pycharm": {
     "name": "#%%\n"
    }
   }
  },
  {
   "cell_type": "code",
   "execution_count": 13,
   "outputs": [
    {
     "name": "stdout",
     "output_type": "stream",
     "text": [
      "(1681, 4)\n"
     ]
    },
    {
     "name": "stderr",
     "output_type": "stream",
     "text": [
      "C:\\Users\\Jacob\\miniconda3\\envs\\wishart\\lib\\site-packages\\ipykernel_launcher.py:31: UserWarning: To copy construct from a tensor, it is recommended to use sourceTensor.clone().detach() or sourceTensor.clone().detach().requires_grad_(True), rather than torch.tensor(sourceTensor).\n"
     ]
    },
    {
     "data": {
      "text/plain": "<Figure size 720x360 with 6 Axes>",
      "image/png": "[encoded data removed]"
     },
     "metadata": {},
     "output_type": "display_data"
    }
   ],
   "source": [
    "dataset = ToySpatialTranscriptomics('../../data', one_fixed_sample=True)\n",
    "train_loader = generate_neural_dataset(dataset, 1, 0)\n",
    "x, y = next(iter(train_loader))\n",
    "out = model(x)\n",
    "show_result(x, y, out)"
   ],
   "metadata": {
    "collapsed": false,
    "pycharm": {
     "name": "#%%\n"
    }
   }
  },
  {
   "cell_type": "code",
   "execution_count": 14,
   "outputs": [
    {
     "name": "stdout",
     "output_type": "stream",
     "text": [
      "torch.Size([1, 41, 41, 1]) torch.Size([41, 41])\n",
      "tensor(0.0423, grad_fn=<MseLossBackward>)\n",
      "torch.Size([41, 41])\n"
     ]
    }
   ],
   "source": [
    "import torch.nn.functional as F\n",
    "from lafomo.utilities.torch import smse, q2\n",
    "f_mean_test = out.squeeze()\n",
    "y_target = y.squeeze()\n",
    "print(y.shape, f_mean_test.shape)\n",
    "print(F.mse_loss(f_mean_test, y_target))\n",
    "\n",
    "print(smse(y_target, f_mean_test).shape)\n"
   ],
   "metadata": {
    "collapsed": false,
    "pycharm": {
     "name": "#%%\n"
    }
   }
  },
  {
   "cell_type": "code",
   "execution_count": null,
   "outputs": [],
   "source": [
    "path = '../../data/ns_V1e-3_N5000_T50.mat'\n",
    "from h5py import File\n",
    "\n",
    "# u shape (50, 64, 64, 5000)\n",
    "# a shape (64, 64, 5000)\n",
    "# t shape (50, 1)\n",
    "\n",
    "f = File(path)\n",
    "print(f)\n",
    "print(f['u'])\n",
    "\n",
    "modes = 4\n",
    "width = 20\n",
    "\n",
    "batch_size = 10\n",
    "batch_size2 = batch_size\n",
    "\n",
    "epochs = 10\n",
    "runtime = np.zeros(2, )\n",
    "\n",
    "ntrain = 100\n",
    "sub = 1\n",
    "S = 64 // sub\n",
    "T_in = 10\n",
    "T = 40\n",
    "S = 32\n",
    "\n",
    "# train_a = reader.read_field('u')[:ntrain,::sub,::sub,:T_in]\n",
    "# train_u = reader.read_field('u')[:ntrain,::sub,::sub,T_in:T+T_in]\n",
    "train_a = torch.rand((100, 32, 32, 50))[:, :, :, :T_in]\n",
    "train_a = train_a.reshape(ntrain,S,S,1,T_in).repeat([1,1,1,T,1])\n",
    "print(train_a.shape)\n",
    "# pad locations (x,y,t)\n",
    "gridx = torch.tensor(np.linspace(0, 1, S), dtype=torch.float)\n",
    "# 32\n",
    "gridx = gridx.reshape(1, S, 1, 1, 1).repeat([1, 1, S, T, 1])\n",
    "# 1, 32, 32, 40, 1 (1, S, S, T, 1)\n",
    "gridy = torch.tensor(np.linspace(0, 1, S), dtype=torch.float)\n",
    "gridy = gridy.reshape(1, 1, S, 1, 1).repeat([1, S, 1, T, 1])\n",
    "gridt = torch.tensor(np.linspace(0, 1, T+1)[1:], dtype=torch.float)\n",
    "gridt = gridt.reshape(1, 1, 1, T, 1).repeat([1, S, S, 1, 1])\n",
    "# (1, S, S, T, 1)\n",
    "print(gridt.shape, gridx.shape)\n",
    "# for t in range(10):\n",
    "#     plt.figure()\n",
    "#     plt.imshow(gridy.squeeze()[:, :, t])\n",
    "print(gridx.repeat([ntrain,1,1,1,1]).shape)\n",
    "train_a = torch.cat((gridx.repeat([ntrain,1,1,1,1]), gridy.repeat([ntrain,1,1,1,1]),\n",
    "                       gridt.repeat([ntrain,1,1,1,1]), train_a), dim=-1)\n",
    "print(train_a.shape)"
   ],
   "metadata": {
    "collapsed": false,
    "pycharm": {
     "name": "#%%\n"
    }
   }
  },
  {
   "cell_type": "code",
   "execution_count": 6,
   "outputs": [
    {
     "name": "stdout",
     "output_type": "stream",
     "text": [
      "weight torch.Size([32, 32, 12, 12])\n",
      "x_ft torch.Size([10, 32, 41, 21])\n",
      "out_ft torch.Size([10, 32, 41, 21])\n"
     ]
    }
   ],
   "source": [
    "weight = torch.rand((width, width, modes, modes))\n",
    "x_ft = torch.rand((10, width, 41, 21))\n",
    "out_ft = torch.rand((10, width, 41, 21))\n",
    "print('weight', weight.shape)\n",
    "print('x_ft', x_ft.shape)\n",
    "print('out_ft', out_ft.shape)"
   ],
   "metadata": {
    "collapsed": false,
    "pycharm": {
     "name": "#%%\n"
    }
   }
  },
  {
   "cell_type": "code",
   "execution_count": 24,
   "outputs": [
    {
     "name": "stdout",
     "output_type": "stream",
     "text": [
      "torch.Size([10, 32, 12, 12]) torch.Size([1, 32, 32, 12, 12])\n"
     ]
    },
    {
     "ename": "RuntimeError",
     "evalue": "The size of tensor a (10) must match the size of tensor b (32) at non-singleton dimension 0",
     "output_type": "error",
     "traceback": [
      "\u001B[1;31m---------------------------------------------------------------------------\u001B[0m",
      "\u001B[1;31mRuntimeError\u001B[0m                              Traceback (most recent call last)",
      "\u001B[1;32m<ipython-input-24-b71f0c4eb9fe>\u001B[0m in \u001B[0;36m<module>\u001B[1;34m\u001B[0m\n\u001B[0;32m      7\u001B[0m \u001B[0mprint\u001B[0m\u001B[1;33m(\u001B[0m\u001B[0mx_ft\u001B[0m\u001B[1;33m[\u001B[0m\u001B[1;33m:\u001B[0m\u001B[1;33m,\u001B[0m \u001B[1;33m:\u001B[0m\u001B[1;33m,\u001B[0m \u001B[1;33m:\u001B[0m\u001B[0mmodes\u001B[0m\u001B[1;33m,\u001B[0m \u001B[1;33m:\u001B[0m\u001B[0mmodes\u001B[0m\u001B[1;33m]\u001B[0m\u001B[1;33m.\u001B[0m\u001B[0mshape\u001B[0m\u001B[1;33m,\u001B[0m \u001B[0mweight\u001B[0m\u001B[1;33m.\u001B[0m\u001B[0mpermute\u001B[0m\u001B[1;33m(\u001B[0m\u001B[1;36m1\u001B[0m\u001B[1;33m,\u001B[0m \u001B[1;36m0\u001B[0m\u001B[1;33m,\u001B[0m \u001B[1;36m2\u001B[0m\u001B[1;33m,\u001B[0m \u001B[1;36m3\u001B[0m\u001B[1;33m)\u001B[0m\u001B[1;33m.\u001B[0m\u001B[0munsqueeze\u001B[0m\u001B[1;33m(\u001B[0m\u001B[1;36m0\u001B[0m\u001B[1;33m)\u001B[0m\u001B[1;33m.\u001B[0m\u001B[0mshape\u001B[0m\u001B[1;33m)\u001B[0m\u001B[1;33m\u001B[0m\u001B[1;33m\u001B[0m\u001B[0m\n\u001B[0;32m      8\u001B[0m out_ft[:, :, :modes, :modes] = torch.matmul(\n\u001B[1;32m----> 9\u001B[1;33m     \u001B[0mx_ft\u001B[0m\u001B[1;33m[\u001B[0m\u001B[1;33m:\u001B[0m\u001B[1;33m,\u001B[0m \u001B[1;33m:\u001B[0m\u001B[1;33m,\u001B[0m \u001B[1;33m:\u001B[0m\u001B[0mmodes\u001B[0m\u001B[1;33m,\u001B[0m \u001B[1;33m:\u001B[0m\u001B[0mmodes\u001B[0m\u001B[1;33m]\u001B[0m\u001B[1;33m,\u001B[0m \u001B[0mweight\u001B[0m\u001B[1;33m.\u001B[0m\u001B[0mpermute\u001B[0m\u001B[1;33m(\u001B[0m\u001B[1;36m1\u001B[0m\u001B[1;33m,\u001B[0m \u001B[1;36m0\u001B[0m\u001B[1;33m,\u001B[0m \u001B[1;36m2\u001B[0m\u001B[1;33m,\u001B[0m \u001B[1;36m3\u001B[0m\u001B[1;33m)\u001B[0m\u001B[1;33m\u001B[0m\u001B[1;33m\u001B[0m\u001B[0m\n\u001B[0m\u001B[0;32m     10\u001B[0m )\n\u001B[0;32m     11\u001B[0m \u001B[0msecond\u001B[0m \u001B[1;33m=\u001B[0m \u001B[0mout_ft\u001B[0m\u001B[1;33m.\u001B[0m\u001B[0mclone\u001B[0m\u001B[1;33m(\u001B[0m\u001B[1;33m)\u001B[0m\u001B[1;33m\u001B[0m\u001B[1;33m\u001B[0m\u001B[0m\n",
      "\u001B[1;31mRuntimeError\u001B[0m: The size of tensor a (10) must match the size of tensor b (32) at non-singleton dimension 0"
     ]
    }
   ],
   "source": [
    "from lafomo.utilities.torch import compl_mul2d\n",
    "out_ft[:, :, :modes, :modes] = compl_mul2d(\n",
    "    x_ft[:, :, :modes, :modes], weight\n",
    ")\n",
    "first = out_ft.clone()\n",
    "\n",
    "print(x_ft[:, :, :modes, :modes].shape, weight.permute(1, 0, 2, 3).unsqueeze(0).shape)\n",
    "out_ft[:, :, :modes, :modes] = torch.matmul(\n",
    "    x_ft[:, :, :modes, :modes], weight.permute(1, 0, 2, 3)\n",
    ")\n",
    "second = out_ft.clone()\n",
    "print(second.shape)"
   ],
   "metadata": {
    "collapsed": false,
    "pycharm": {
     "name": "#%%\n"
    }
   }
  },
  {
   "cell_type": "code",
   "execution_count": null,
   "outputs": [],
   "source": [],
   "metadata": {
    "collapsed": false,
    "pycharm": {
     "name": "#%%\n"
    }
   }
  }
 ],
 "metadata": {
  "kernelspec": {
   "name": "pycharm-222640c7",
   "language": "python",
   "display_name": "PyCharm (reggae)"
  },
  "language_info": {
   "codemirror_mode": {
    "name": "ipython",
    "version": 2
   },
   "file_extension": ".py",
   "mimetype": "text/x-python",
   "name": "python",
   "nbconvert_exporter": "python",
   "pygments_lexer": "ipython2",
   "version": "2.7.6"
  }
 },
 "nbformat": 4,
 "nbformat_minor": 0
}