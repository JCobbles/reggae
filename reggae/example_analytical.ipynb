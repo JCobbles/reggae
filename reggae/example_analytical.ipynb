{
 "cells": [
  {
   "cell_type": "code",
   "execution_count": 18,
   "metadata": {
    "collapsed": true
   },
   "outputs": [],
   "source": [
    "from timeit import default_timer as timer\n",
    "\n",
    "import numpy as np\n",
    "import gpflow\n",
    "\n",
    "from reggae.gp.models import LinearResponseModel\n",
    "from reggae.data_loaders import load_barenco_puma, DataHolder\n",
    "from reggae.gp.options import Options\n",
    "from reggae.plot.gp_plotters import Plotter\n",
    "f64 = np.float64"
   ]
  },
  {
   "cell_type": "markdown",
   "source": [
    "# Linear Latent Force Model Example\n",
    "Replication of the paper by Lawrence et al., 2006. https://papers.nips.cc/paper/3119-modelling-transcriptional-regulation-using-gaussian-processes.pdf\n",
    "\n",
    "### Probesets\n",
    "\n",
    "The original paper restricted their interest to 5 known targets of p53:\n",
    "\n",
    "| Column 1       | Probeset     | Aliases    |\n",
    "| :------------- | :----------: | :----------- |\n",
    "|  DDB2 |  203409_at    |\n",
    "| p21   | 202284_s_at | p21CIP1, CDKN1A |\n",
    "| SESN1/hPA26   | 218346_s_at |  |\n",
    "| BIK   | 205780_at |  |\n",
    "| TNFRSF10b   | 209294_x_at, 209295_at, 210405_x_at |  |"
   ],
   "metadata": {
    "collapsed": false,
    "pycharm": {
     "name": "#%% md\n"
    }
   }
  },
  {
   "cell_type": "code",
   "execution_count": 7,
   "outputs": [
    {
     "data": {
      "text/plain": "           cARP1-0hrs.CEL  cARP1-2hrs.CEL  cARP1-4hrs.CEL  cARP1-6hrs.CEL  \\\nDDB2             7.593549        9.122439       10.192915       10.154778   \nBIK              2.905667        6.756250        8.154665        8.222898   \nTNFRSF10b        3.949437        7.283147        8.395333        8.147465   \np21              1.268160        7.375613        9.600847        8.485615   \nSESN1            6.354029        7.703226        8.818485        8.608104   \n\n           cARP1-8hrs.CEL  cARP1-10hrs.CEL  cARP1-12hrs.CEL  cARP2-0hrs.CEL  \\\nDDB2            10.103455         9.529804         9.567770        7.464445   \nBIK              8.074595         7.026262         7.001658        4.649182   \nTNFRSF10b        8.456766         7.370946         7.409659        3.828976   \np21              8.134573         7.045323         7.171770       -0.094250   \nSESN1            8.803210         7.860224         7.981910        6.613610   \n\n           cARP2-2hrs.CEL  cARP2-4hrs.CEL  ...  cARP2-8hrs.CEL  \\\nDDB2             8.611248        9.255834  ...        8.149388   \nBIK              5.926949        7.346142  ...        4.659069   \nTNFRSF10b        6.362601        7.576429  ...        5.897853   \np21              6.530376        7.910253  ...        4.803834   \nSESN1            7.371426        7.885798  ...        6.658747   \n\n           cARP2-10hrs.CEL  cARP2-12hrs.CEL  cARP3-0hrs.CEL  cARP3-2hrs.CEL  \\\nDDB2              9.367364         9.342251        7.353484        7.665469   \nBIK               6.772798         7.005289        5.204797        4.139740   \nTNFRSF10b         6.975229         7.280981        4.822874        5.389953   \np21               6.971544         6.890152        1.397808        6.120564   \nSESN1             7.583440         7.503870        6.158661        6.178353   \n\n           cARP3-4hrs.CEL  cARP3-6hrs.CEL  cARP3-8hrs.CEL  cARP3-10hrs.CEL  \\\nDDB2             9.798868        9.345199        8.757635         8.357981   \nBIK              8.056000        7.122196        5.633847         4.488936   \nTNFRSF10b        7.749164        7.387181        6.083331         6.024036   \np21              8.724741        7.821537        6.483512         5.945312   \nSESN1            8.384142        7.993519        7.102504         6.990250   \n\n           cARP3-12hrs.CEL  \nDDB2              9.026733  \nBIK               5.724764  \nTNFRSF10b         6.771154  \np21               6.653475  \nSESN1             7.327648  \n\n[5 rows x 21 columns]",
      "text/html": "<div>\n<style scoped>\n    .dataframe tbody tr th:only-of-type {\n        vertical-align: middle;\n    }\n\n    .dataframe tbody tr th {\n        vertical-align: top;\n    }\n\n    .dataframe thead th {\n        text-align: right;\n    }\n</style>\n<table border=\"1\" class=\"dataframe\">\n  <thead>\n    <tr style=\"text-align: right;\">\n      <th></th>\n      <th>cARP1-0hrs.CEL</th>\n      <th>cARP1-2hrs.CEL</th>\n      <th>cARP1-4hrs.CEL</th>\n      <th>cARP1-6hrs.CEL</th>\n      <th>cARP1-8hrs.CEL</th>\n      <th>cARP1-10hrs.CEL</th>\n      <th>cARP1-12hrs.CEL</th>\n      <th>cARP2-0hrs.CEL</th>\n      <th>cARP2-2hrs.CEL</th>\n      <th>cARP2-4hrs.CEL</th>\n      <th>...</th>\n      <th>cARP2-8hrs.CEL</th>\n      <th>cARP2-10hrs.CEL</th>\n      <th>cARP2-12hrs.CEL</th>\n      <th>cARP3-0hrs.CEL</th>\n      <th>cARP3-2hrs.CEL</th>\n      <th>cARP3-4hrs.CEL</th>\n      <th>cARP3-6hrs.CEL</th>\n      <th>cARP3-8hrs.CEL</th>\n      <th>cARP3-10hrs.CEL</th>\n      <th>cARP3-12hrs.CEL</th>\n    </tr>\n  </thead>\n  <tbody>\n    <tr>\n      <th>DDB2</th>\n      <td>7.593549</td>\n      <td>9.122439</td>\n      <td>10.192915</td>\n      <td>10.154778</td>\n      <td>10.103455</td>\n      <td>9.529804</td>\n      <td>9.567770</td>\n      <td>7.464445</td>\n      <td>8.611248</td>\n      <td>9.255834</td>\n      <td>...</td>\n      <td>8.149388</td>\n      <td>9.367364</td>\n      <td>9.342251</td>\n      <td>7.353484</td>\n      <td>7.665469</td>\n      <td>9.798868</td>\n      <td>9.345199</td>\n      <td>8.757635</td>\n      <td>8.357981</td>\n      <td>9.026733</td>\n    </tr>\n    <tr>\n      <th>BIK</th>\n      <td>2.905667</td>\n      <td>6.756250</td>\n      <td>8.154665</td>\n      <td>8.222898</td>\n      <td>8.074595</td>\n      <td>7.026262</td>\n      <td>7.001658</td>\n      <td>4.649182</td>\n      <td>5.926949</td>\n      <td>7.346142</td>\n      <td>...</td>\n      <td>4.659069</td>\n      <td>6.772798</td>\n      <td>7.005289</td>\n      <td>5.204797</td>\n      <td>4.139740</td>\n      <td>8.056000</td>\n      <td>7.122196</td>\n      <td>5.633847</td>\n      <td>4.488936</td>\n      <td>5.724764</td>\n    </tr>\n    <tr>\n      <th>TNFRSF10b</th>\n      <td>3.949437</td>\n      <td>7.283147</td>\n      <td>8.395333</td>\n      <td>8.147465</td>\n      <td>8.456766</td>\n      <td>7.370946</td>\n      <td>7.409659</td>\n      <td>3.828976</td>\n      <td>6.362601</td>\n      <td>7.576429</td>\n      <td>...</td>\n      <td>5.897853</td>\n      <td>6.975229</td>\n      <td>7.280981</td>\n      <td>4.822874</td>\n      <td>5.389953</td>\n      <td>7.749164</td>\n      <td>7.387181</td>\n      <td>6.083331</td>\n      <td>6.024036</td>\n      <td>6.771154</td>\n    </tr>\n    <tr>\n      <th>p21</th>\n      <td>1.268160</td>\n      <td>7.375613</td>\n      <td>9.600847</td>\n      <td>8.485615</td>\n      <td>8.134573</td>\n      <td>7.045323</td>\n      <td>7.171770</td>\n      <td>-0.094250</td>\n      <td>6.530376</td>\n      <td>7.910253</td>\n      <td>...</td>\n      <td>4.803834</td>\n      <td>6.971544</td>\n      <td>6.890152</td>\n      <td>1.397808</td>\n      <td>6.120564</td>\n      <td>8.724741</td>\n      <td>7.821537</td>\n      <td>6.483512</td>\n      <td>5.945312</td>\n      <td>6.653475</td>\n    </tr>\n    <tr>\n      <th>SESN1</th>\n      <td>6.354029</td>\n      <td>7.703226</td>\n      <td>8.818485</td>\n      <td>8.608104</td>\n      <td>8.803210</td>\n      <td>7.860224</td>\n      <td>7.981910</td>\n      <td>6.613610</td>\n      <td>7.371426</td>\n      <td>7.885798</td>\n      <td>...</td>\n      <td>6.658747</td>\n      <td>7.583440</td>\n      <td>7.503870</td>\n      <td>6.158661</td>\n      <td>6.178353</td>\n      <td>8.384142</td>\n      <td>7.993519</td>\n      <td>7.102504</td>\n      <td>6.990250</td>\n      <td>7.327648</td>\n    </tr>\n  </tbody>\n</table>\n<p>5 rows × 21 columns</p>\n</div>"
     },
     "metadata": {},
     "output_type": "display_data"
    },
    {
     "name": "stdout",
     "output_type": "stream",
     "text": [
      "WARNING:tensorflow:From /Users/jacob/Documents/proj/reggae/reggae/gp/sim_kernels.py:35: AffineScalar.__init__ (from tensorflow_probability.python.bijectors.affine_scalar) is deprecated and will be removed after 2020-01-01.\n",
      "Instructions for updating:\n",
      "`AffineScalar` bijector is deprecated; please use `tfb.Shift(loc)(tfb.Scale(...))` instead.\n"
     ]
    }
   ],
   "source": [
    "m_observed, f_observed, σ2_m_pre, σ2_f_pre, t = load_barenco_puma()\n",
    "\n",
    "m_df, m_observed = m_observed\n",
    "f_df, f_observed = f_observed\n",
    "# Shape of m_observed = (replicates, genes, times)\n",
    "m_observed = m_observed\n",
    "f_observed = f_observed\n",
    "data = (m_observed, f_observed)\n",
    "\n",
    "σ2_m_pre = f64(σ2_m_pre)\n",
    "σ2_f_pre = f64(σ2_f_pre)\n",
    "noise_data = (σ2_m_pre, σ2_f_pre)\n",
    "\n",
    "display(m_df)\n",
    "\n",
    "num_genes = m_observed.shape[1]\n",
    "N_m = m_observed.shape[2]\n",
    "granularity = 100\n",
    "τ = np.linspace(0, 12, granularity)\n",
    "time = (t, τ, None)\n",
    "data = DataHolder(data, noise_data, time)\n",
    "options = Options()\n",
    "\n",
    "model = LinearResponseModel(data, options)"
   ],
   "metadata": {
    "collapsed": false,
    "pycharm": {
     "name": "#%%\n"
    }
   }
  },
  {
   "cell_type": "code",
   "execution_count": 10,
   "outputs": [
    {
     "name": "stdout",
     "output_type": "stream",
     "text": [
      "Warning: Maximum number of iterations has been exceeded.\n",
      "         Current function value: 20.025842\n",
      "         Iterations: 10\n",
      "         Function evaluations: 19\n",
      "         Gradient evaluations: 19\n",
      "Time taken: 43.9450s\n"
     ]
    },
    {
     "data": {
      "text/plain": "     fun: 20.02584191301561\n     jac: array([-0.63854122,  0.52919693,  1.63897778, -0.19493821, -1.76954132,\n        0.81832921, -0.81691384, -2.16422462,  0.59383539,  2.26429964,\n        0.52553205, -0.66787943,  1.22744434,  0.49404128,  1.17191193,\n        0.45976883,  1.12742497,  0.01146516, -0.18460583,  0.00755963,\n       -0.12478788,  0.13231027,  0.05393482])\n message: 'Maximum number of iterations has been exceeded.'\n    nfev: 19\n     nit: 10\n    njev: 19\n  status: 1\n success: False\n       x: array([ 2.1167486 ,  2.20384391,  2.30767789,  2.53082803,  2.24656524,\n        1.31363077,  0.92526085,  1.15786667,  0.15674887,  1.39660275,\n        2.64462037,  2.08294313, -2.63216968, -2.92255707, -2.93207246,\n       -2.85002531, -3.13303299, -8.92890187, -0.06105316, -0.9936835 ,\n       -1.01817153, -2.12853038, -0.57588465])"
     },
     "execution_count": 10,
     "metadata": {},
     "output_type": "execute_result"
    }
   ],
   "source": [
    "def objective_closure():\n",
    "    ret = - model.log_marginal_likelihood()\n",
    "    return ret\n",
    "\n",
    "def fit(maxiter=50):\n",
    "    opt = gpflow.optimizers.Scipy()\n",
    "    start = timer()\n",
    "    opt_logs = opt.minimize(objective_closure,\n",
    "                            model.trainable_variables,\n",
    "                            options=dict(maxiter=maxiter, disp=True, eps=0.00000001),\n",
    "                            method='CG')  # CG: 27.0\n",
    "    end = timer()\n",
    "    print(f'Time taken: {(end - start):.04f}s')\n",
    "    return opt_logs"
   ],
   "metadata": {
    "collapsed": false,
    "pycharm": {
     "name": "#%%\n"
    }
   }
  },
  {
   "cell_type": "code",
   "execution_count": 9,
   "outputs": [],
   "source": [
    "fit(10)\n"
   ],
   "metadata": {
    "collapsed": false,
    "pycharm": {
     "name": "#%%\n"
    }
   }
  },
  {
   "cell_type": "code",
   "execution_count": 19,
   "outputs": [],
   "source": [
    "plotter = Plotter(data, model, m_df.columns)"
   ],
   "metadata": {
    "collapsed": false,
    "pycharm": {
     "name": "#%%\n"
    }
   }
  },
  {
   "cell_type": "code",
   "execution_count": 20,
   "outputs": [
    {
     "name": "stdout",
     "output_type": "stream",
     "text": [
      "Index(['cARP1-0hrs.CEL', 'cARP1-2hrs.CEL', 'cARP1-4hrs.CEL', 'cARP1-6hrs.CEL',\n",
      "       'cARP1-8hrs.CEL', 'cARP1-10hrs.CEL', 'cARP1-12hrs.CEL',\n",
      "       'cARP2-0hrs.CEL', 'cARP2-2hrs.CEL', 'cARP2-4hrs.CEL', 'cARP2-6hrs.CEL',\n",
      "       'cARP2-8hrs.CEL', 'cARP2-10hrs.CEL', 'cARP2-12hrs.CEL',\n",
      "       'cARP3-0hrs.CEL', 'cARP3-2hrs.CEL', 'cARP3-4hrs.CEL', 'cARP3-6hrs.CEL',\n",
      "       'cARP3-8hrs.CEL', 'cARP3-10hrs.CEL', 'cARP3-12hrs.CEL'],\n",
      "      dtype='object')\n"
     ]
    },
    {
     "data": {
      "text/plain": "<Figure size 432x288 with 5 Axes>",
      "image/png": "[encoded data removed]"
     },
     "metadata": {},
     "output_type": "display_data"
    }
   ],
   "source": [
    "plotter.plot_genes(τ)"
   ],
   "metadata": {
    "collapsed": false,
    "pycharm": {
     "name": "#%%\n"
    }
   }
  }
 ],
 "metadata": {
  "kernelspec": {
   "display_name": "Python 3",
   "language": "python",
   "name": "python3"
  },
  "language_info": {
   "codemirror_mode": {
    "name": "ipython",
    "version": 2
   },
   "file_extension": ".py",
   "mimetype": "text/x-python",
   "name": "python",
   "nbconvert_exporter": "python",
   "pygments_lexer": "ipython2",
   "version": "2.7.6"
  }
 },
 "nbformat": 4,
 "nbformat_minor": 0
}